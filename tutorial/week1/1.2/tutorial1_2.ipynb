{
 "cells": [
  {
   "cell_type": "code",
   "execution_count": null,
   "metadata": {
    "deletable": false,
    "editable": false
   },
   "outputs": [],
   "source": [
    "# Initialize Otter\n",
    "import otter\n",
    "grader = otter.Notebook(\"tutorial1_2.ipynb\")"
   ]
  },
  {
   "cell_type": "markdown",
   "metadata": {},
   "source": [
    "# Tutorial 1.2: 2016 Miami Presidential Primary Debates\n",
    "\n",
    "Welcome to Tutorial 2!  In today's class we covered four python built-in-data types, `lists`, `tuples`, `sets`, and `dictionaries`. We saw how we can use `sets` to keep track of vocabularies and `dictionaries` to keep track of word counts. \n",
    "\n",
    "In this tutorial, we will create dictionaries to keep track of each candidates' vocabulary and the frequency of the terms they use.\n",
    "\n",
    "First, set up the tests and imports by running the cell below."
   ]
  },
  {
   "cell_type": "code",
   "execution_count": null,
   "metadata": {},
   "outputs": [],
   "source": [
    "# Run this cell, but please don't change it.\n",
    "\n",
    "# These lines load the tests.\n",
    "import otter\n",
    "grader = otter.Notebook()\n",
    "\n",
    "import io\n",
    "import pandas as pd\n",
    "import matplotlib as plt"
   ]
  },
  {
   "cell_type": "markdown",
   "metadata": {},
   "source": [
    "## Outline\n"
   ]
  },
  {
   "cell_type": "markdown",
   "metadata": {},
   "source": [
    "## 1. Reading files\n",
    "\n",
    "We will be working with the same files as we did in today's lecture: `Republican_16_Miami_Debate.txt` and `Democratic_16_Miami_Debate.txt`\n",
    "\n",
    "In today's lecture, we used the following lines to read in the files:"
   ]
  },
  {
   "cell_type": "code",
   "execution_count": null,
   "metadata": {},
   "outputs": [],
   "source": [
    "repub_debates = open(\"data/Republican_16_Miami_Debate.txt\", mode='r').read()\n",
    "dem_debates = open(\"data/Democratic_16_Miami_Debate.txt\", mode='r').read()"
   ]
  },
  {
   "cell_type": "markdown",
   "metadata": {},
   "source": [
    "Let's look more closely at what happens when opening a file using the `open()` function"
   ]
  },
  {
   "cell_type": "code",
   "execution_count": null,
   "metadata": {},
   "outputs": [],
   "source": [
    "repub_file = open(\"data/Republican_16_Miami_Debate.txt\", mode='r')\n",
    "repub_file"
   ]
  },
  {
   "cell_type": "markdown",
   "metadata": {
    "deletable": false,
    "editable": false
   },
   "source": [
    "This creates an io.TextIOWrapper object. We have stored the object in the variable named `repub_file`. Today we used `.read()` to extract the contents from the file.\n",
    "\n",
    "<!--\n",
    "BEGIN QUESTION\n",
    "name: q1_1\n",
    "points: 1\n",
    "-->\n",
    "\n",
    "**Question 1.1:** What type is returned by the `.read()` function? Assign the answer to `read_return_type`"
   ]
  },
  {
   "cell_type": "code",
   "execution_count": null,
   "metadata": {},
   "outputs": [],
   "source": [
    "read_return_type = ...\n",
    "read_return_type"
   ]
  },
  {
   "cell_type": "code",
   "execution_count": null,
   "metadata": {
    "deletable": false,
    "editable": false
   },
   "outputs": [],
   "source": [
    "grader.check(\"q1_1\")"
   ]
  },
  {
   "cell_type": "markdown",
   "metadata": {},
   "source": [
    "If we run the following line, we can see a list of functions and methods that belong to the TextIOWrapper object which we named `repub_file`."
   ]
  },
  {
   "cell_type": "code",
   "execution_count": null,
   "metadata": {},
   "outputs": [],
   "source": [
    "print(dir(repub_file))"
   ]
  },
  {
   "cell_type": "markdown",
   "metadata": {
    "deletable": false,
    "editable": false
   },
   "source": [
    "<!--\n",
    "BEGIN QUESTION\n",
    "name: q1_2\n",
    "points: 1\n",
    "-->\n",
    "\n",
    "**Question 1.2:** Which of the below do you think will tell us whether the object was opened for reading?\n",
    "\n",
    "- a. \"mode\"\n",
    "- b. \"read()\"\n",
    "- c. \"readable()\"\n",
    "- d. \"tell()\"\n",
    "\n",
    "Assign the letter (a - d) as a string to the the name `method_to_check_open_for_reading`\n",
    "\n",
    "*Hint:* Feel free to use the contextual help navigator or make a new python cell below to test these different methods and attributes"
   ]
  },
  {
   "cell_type": "code",
   "execution_count": null,
   "metadata": {},
   "outputs": [],
   "source": [
    "method_to_check_open_for_reading = ..."
   ]
  },
  {
   "cell_type": "code",
   "execution_count": null,
   "metadata": {
    "deletable": false,
    "editable": false
   },
   "outputs": [],
   "source": [
    "grader.check(\"q1_2\")"
   ]
  },
  {
   "cell_type": "markdown",
   "metadata": {
    "deletable": false,
    "editable": false
   },
   "source": [
    "### 1.1 `readline()` vs `readlines()`\n",
    "After opening a file, we want to read in the contents so that we can process and analyze text. The opened file object has two methods we can use, `readline()` and `readlines()`.\n",
    "\n",
    "<!--\n",
    "BEGIN QUESTION\n",
    "name: q1_3\n",
    "points: 1\n",
    "-->\n",
    "\n",
    "**Question 1.3:** What type is the value that `readline()` returns? Assign the type to the name `read_line_return_type`\n",
    "\n",
    "*Hint:* Feel free to use the contextual help navigator or make a new python cell below to test `readline()`\n",
    "\n"
   ]
  },
  {
   "cell_type": "code",
   "execution_count": null,
   "metadata": {},
   "outputs": [],
   "source": [
    "read_line_return_type = ..."
   ]
  },
  {
   "cell_type": "code",
   "execution_count": null,
   "metadata": {
    "deletable": false,
    "editable": false
   },
   "outputs": [],
   "source": [
    "grader.check(\"q1_3\")"
   ]
  },
  {
   "cell_type": "markdown",
   "metadata": {
    "deletable": false,
    "editable": false
   },
   "source": [
    "<!--\n",
    "BEGIN QUESTION\n",
    "name: q1_4\n",
    "points: 1\n",
    "-->\n",
    "\n",
    "**Question 1.4:** What type does `readlines()` return? Assign the type to the name `read_lines_return_type`"
   ]
  },
  {
   "cell_type": "code",
   "execution_count": null,
   "metadata": {},
   "outputs": [],
   "source": [
    "read_lines_return_type = ..."
   ]
  },
  {
   "cell_type": "code",
   "execution_count": null,
   "metadata": {
    "deletable": false,
    "editable": false
   },
   "outputs": [],
   "source": [
    "grader.check(\"q1_4\")"
   ]
  },
  {
   "cell_type": "markdown",
   "metadata": {
    "deletable": false,
    "editable": false
   },
   "source": [
    "<!--\n",
    "BEGIN QUESTION\n",
    "name: q1_5\n",
    "points: 1\n",
    "-->\n",
    "\n",
    "**Question 1.5:** Why might it be beneficial to use `readlines()` and why might it be beneficial to use `readline()`? \n",
    "\n",
    "*Please write at most two sentences in the next markdown cell*"
   ]
  },
  {
   "cell_type": "markdown",
   "metadata": {},
   "source": [
    "_Type your answer here, replacing this text._"
   ]
  },
  {
   "cell_type": "markdown",
   "metadata": {},
   "source": [
    "# 2. Data Exploration & Parsing\n",
    "\n",
    "For this tutorial we are going to use `readlines()`. \n",
    "Running the code cell below will store the transcripts of the debates into two variables: `repub_debates` and `dem_debates`."
   ]
  },
  {
   "cell_type": "code",
   "execution_count": null,
   "metadata": {},
   "outputs": [],
   "source": [
    "repub_debates = open(\"data/Republican_16_Miami_Debate.txt\", mode='r').readlines()\n",
    "dem_debates = open(\"data/Democratic_16_Miami_Debate.txt\", mode='r').readlines()"
   ]
  },
  {
   "cell_type": "markdown",
   "metadata": {
    "deletable": false,
    "editable": false
   },
   "source": [
    "<!--\n",
    "BEGIN QUESTION\n",
    "name: q2_1\n",
    "points: 1\n",
    "-->\n",
    "\n",
    "**QUESTION 2.1:** How many lines are in the transcripts of the republican and democratic debates?\n",
    "\n",
    "Write expressions to compute these values and assign the returned values to the appropriate variables below"
   ]
  },
  {
   "cell_type": "code",
   "execution_count": null,
   "metadata": {},
   "outputs": [],
   "source": [
    "repub_debates_line_count = ...\n",
    "dem_debates_line_count = ...\n",
    "\n",
    "print(f\"The republican debate transcript has {repub_debates_line_count} lines, \\n\\\n",
    "and the democratic debate transcript has {dem_debates_line_count} lines\")"
   ]
  },
  {
   "cell_type": "code",
   "execution_count": null,
   "metadata": {
    "deletable": false,
    "editable": false
   },
   "outputs": [],
   "source": [
    "grader.check(\"q2_1\")"
   ]
  },
  {
   "cell_type": "markdown",
   "metadata": {
    "deletable": false,
    "editable": false
   },
   "source": [
    "For today's analysis we will just look at candidate specific term frequencies rather than party specific term frequencies.\n",
    "\n",
    "<!--\n",
    "BEGIN QUESTION\n",
    "name: q2_2\n",
    "points: 1\n",
    "-->\n",
    "\n",
    "**Question 2.2:** In the code cell below, combine the debate transcripts into a new variable named `both_debates`"
   ]
  },
  {
   "cell_type": "code",
   "execution_count": null,
   "metadata": {},
   "outputs": [],
   "source": [
    "both_debates = ..."
   ]
  },
  {
   "cell_type": "code",
   "execution_count": null,
   "metadata": {
    "deletable": false,
    "editable": false
   },
   "outputs": [],
   "source": [
    "grader.check(\"q2_2\")"
   ]
  },
  {
   "cell_type": "markdown",
   "metadata": {
    "deletable": false,
    "editable": false
   },
   "source": [
    "As a sanity check to make sure we combined these two lists correctly, it might be a good idea to check if the sum of number of lines in each list is equal to the number of lines in `both_debates` \n",
    "\n",
    "<!--\n",
    "BEGIN QUESTION\n",
    "name: q2_3\n",
    "points: 1\n",
    "-->\n",
    "\n",
    "**QUESTION 2.3:** Compute the number of lines in `both_debates` and assign the value to the variable named `both_debates_line_count`"
   ]
  },
  {
   "cell_type": "code",
   "execution_count": null,
   "metadata": {},
   "outputs": [],
   "source": [
    "both_debates_line_count = ...\n",
    "\n",
    "print(f\"The republican debate transcript has {repub_debates_line_count} lines, \\n\\\n",
    "the democratic debate transcript has {dem_debates_line_count} lines \\n\\\n",
    "combined they have {both_debates_line_count}\")"
   ]
  },
  {
   "cell_type": "code",
   "execution_count": null,
   "metadata": {
    "deletable": false,
    "editable": false
   },
   "outputs": [],
   "source": [
    "grader.check(\"q2_3\")"
   ]
  },
  {
   "cell_type": "markdown",
   "metadata": {},
   "source": [
    "### 2.1 Looking at our data\n",
    "\n",
    "When working with real world data, it is important to look at what our data actually looks like. This will help us parse and clean our text for analysis.\n",
    "\n",
    "Run the next code cell to randomly sample 15 lines from the debates. Run this a few times and pay close attention to the end of each line."
   ]
  },
  {
   "cell_type": "code",
   "execution_count": null,
   "metadata": {},
   "outputs": [],
   "source": [
    "import random\n",
    "\n",
    "random.choices(both_debates, k=15)"
   ]
  },
  {
   "cell_type": "markdown",
   "metadata": {},
   "source": [
    "Each example ends with `\\n`. This is a newline character, which is one of many \"whitespace\" characters.\n",
    "\n",
    "\n",
    "#### White spaces\n",
    "\n",
    "The following code cell will print out a list of whitespace characters"
   ]
  },
  {
   "cell_type": "code",
   "execution_count": null,
   "metadata": {},
   "outputs": [],
   "source": [
    "import string\n",
    "string.whitespace"
   ]
  },
  {
   "cell_type": "markdown",
   "metadata": {},
   "source": [
    "The most common whitespaces we will deal with are:\n",
    "\n",
    "|  marker | Explanation  | \n",
    "|---|---|\n",
    "| \" \"  | Space |\n",
    "| \\t  | Tab  | \n",
    "| \\n  | Newline  | \n",
    "| \\r  | Carriage return (remove everything to the left) |\n",
    "\n",
    "The next code cell provides examples of these whitespace characters. Run the cell and look at what is printed"
   ]
  },
  {
   "cell_type": "code",
   "execution_count": null,
   "metadata": {},
   "outputs": [],
   "source": [
    "print(\"Tab:\\tHello\\tWorld\")\n",
    "print(\"Newline:\\nHello\\nWorld\")\n",
    "\n",
    "print(\"Carriage Return:\")\n",
    "print(\"\\rHello\\rWorld\")"
   ]
  },
  {
   "cell_type": "markdown",
   "metadata": {},
   "source": [
    "#### Removing trailing whitespace\n",
    "\n",
    "When opening and reading in text files, each line will often end with a `\"\\n\"` character. This is an example of a *trailing* whitespace. *Leading* whitespaces are whitespaces that appear in the begining of a string. For many analyses, trailing and leading whitespaces are not useful, sometimes they are but here they are not helpful. \n"
   ]
  },
  {
   "cell_type": "markdown",
   "metadata": {},
   "source": [
    "Python `strings` have three relevant functions:\n",
    "\n",
    "- `.strip()` - return a copy of the string with <i><ins>leading and trailing</ins></i> whitespace removed.\n",
    "- `.lstrip()` - return a copy of the string with <i><ins>leading</ins></i> whitespace removed.\n",
    "- `.rstrip()` - return a copy of the string with <i><ins>trailing</ins></i> whitespace removed.`"
   ]
  },
  {
   "cell_type": "markdown",
   "metadata": {
    "deletable": false,
    "editable": false
   },
   "source": [
    "<!--\n",
    "BEGIN QUESTION\n",
    "name: q2_4\n",
    "points: 1\n",
    "-->\n",
    "\n",
    "**Question 2.4:** Use one of the appropriate string functions to access the 5th line from the Republican debate and assign it to the variable `cleaned_repub_5_line`"
   ]
  },
  {
   "cell_type": "code",
   "execution_count": null,
   "metadata": {},
   "outputs": [],
   "source": [
    "cleaned_repub_5_line = ...\n",
    "cleaned_repub_5_line"
   ]
  },
  {
   "cell_type": "code",
   "execution_count": null,
   "metadata": {
    "deletable": false,
    "editable": false
   },
   "outputs": [],
   "source": [
    "grader.check(\"q2_4\")"
   ]
  },
  {
   "cell_type": "markdown",
   "metadata": {
    "deletable": false,
    "editable": false
   },
   "source": [
    "<!--\n",
    "BEGIN QUESTION\n",
    "name: q2_5\n",
    "points: 1\n",
    "-->\n",
    "\n",
    "**Question 2.5:** In the following cell, we will loop through each line, remove the newline character, and store the cleaned lines as a list in the variable called `both_debates_no_newlines`"
   ]
  },
  {
   "cell_type": "code",
   "execution_count": null,
   "metadata": {},
   "outputs": [],
   "source": [
    "both_debates_no_newlines = []\n",
    "for line in both_debates:\n",
    "    ...\n",
    "    \n",
    "both_debates_no_newlines[-21]"
   ]
  },
  {
   "cell_type": "code",
   "execution_count": null,
   "metadata": {
    "deletable": false,
    "editable": false
   },
   "outputs": [],
   "source": [
    "grader.check(\"q2_5\")"
   ]
  },
  {
   "cell_type": "markdown",
   "metadata": {},
   "source": [
    "## 2.2 Removing Empty Lines\n",
    "\n",
    "Before we create our dictionaries for each candidate's word frequencies, lets add one more step to our data pre-processing.\n",
    "\n",
    "Run the next cell with prints out the first 10 lines that we just cleaned and you will notice that we have many empty strings."
   ]
  },
  {
   "cell_type": "code",
   "execution_count": null,
   "metadata": {},
   "outputs": [],
   "source": [
    "both_debates_no_newlines[:10]"
   ]
  },
  {
   "cell_type": "markdown",
   "metadata": {},
   "source": [
    "#### Properties of empty strings\n",
    "Empty strings have some of the following properties:\n",
    "\n",
    "- The length of an empty string is equal to 0.\n",
    "- The boolean value of an empty string is False."
   ]
  },
  {
   "cell_type": "code",
   "execution_count": null,
   "metadata": {},
   "outputs": [],
   "source": [
    "empty_string = \"\"\n",
    "f\"Length of an empty string is {len(empty_string)}\""
   ]
  },
  {
   "cell_type": "code",
   "execution_count": null,
   "metadata": {},
   "outputs": [],
   "source": [
    "bool(empty_string)"
   ]
  },
  {
   "cell_type": "code",
   "execution_count": null,
   "metadata": {},
   "outputs": [],
   "source": [
    "if empty_string:\n",
    "    print(\"String is not empty\")\n",
    "if not empty_string:\n",
    "    print(\"String is empty\")"
   ]
  },
  {
   "cell_type": "markdown",
   "metadata": {
    "deletable": false,
    "editable": false
   },
   "source": [
    "<!--\n",
    "BEGIN QUESTION\n",
    "name: q2_6\n",
    "points: 1\n",
    "-->\n",
    "\n",
    "**Question 2.6:** \n",
    "In the following cell, loop through `both_debates_no_newlines` and only add non-empty lines to the variable `cleaned_debates`. `cleaned_debates` should be a list and all non-empty items should be in the same order as `both_debates_no_newlines`."
   ]
  },
  {
   "cell_type": "code",
   "execution_count": null,
   "metadata": {},
   "outputs": [],
   "source": [
    "cleaned_debates = []\n",
    "...\n",
    "\n",
    "len(cleaned_debates), len(both_debates)"
   ]
  },
  {
   "cell_type": "code",
   "execution_count": null,
   "metadata": {
    "deletable": false,
    "editable": false
   },
   "outputs": [],
   "source": [
    "grader.check(\"q2_6\")"
   ]
  },
  {
   "cell_type": "markdown",
   "metadata": {},
   "source": [
    "# 3. Data Processing\n",
    "\n",
    "Now that we have cleaned our data we are ready to start writing software to analyze these debates.\n",
    "\n",
    "In class we built vocabularies for the Republican and Democratic debates. Since we had one file for each, we just looped through the corresponding files to build the vocabularies.\n",
    "Since we will build vocabularies and frequencies for each candidate, we need to figure out who is speaking in each line.\n",
    "\n",
    "Run the following cell with will print the 51st-60th lines.\n",
    "\n"
   ]
  },
  {
   "cell_type": "code",
   "execution_count": null,
   "metadata": {},
   "outputs": [],
   "source": [
    "cleaned_debates[50:60]"
   ]
  },
  {
   "cell_type": "markdown",
   "metadata": {
    "deletable": false,
    "editable": false
   },
   "source": [
    "<!--\n",
    "BEGIN QUESTION\n",
    "name: q3_1\n",
    "points: 1\n",
    "-->\n",
    "\n",
    "**Question 3.1:** What indicates someone new is speaking?"
   ]
  },
  {
   "cell_type": "markdown",
   "metadata": {},
   "source": [
    "_Type your answer here, replacing this text._"
   ]
  },
  {
   "cell_type": "markdown",
   "metadata": {
    "deletable": false,
    "editable": false
   },
   "source": [
    "We will use the following algorithm:\n",
    "\n",
    "    - for each line in the `both_debates`:\n",
    "        - if the line indicates a new speaker and the new speaker is one of the candidates:\n",
    "           - update our curr_speaker variable\n",
    "        - else if the line indicates a new speaker and the new speaker is not one of the candidates:\n",
    "            continue to next line\n",
    "        - for each word in the line:\n",
    "            - update the count for that word\n",
    "              \n",
    "<!--\n",
    "BEGIN QUESTION\n",
    "name: q3_2\n",
    "points: \n",
    "    - 1\n",
    "    - 1\n",
    "    - 1\n",
    "    - 1\n",
    "    - 1\n",
    "    - 1\n",
    "    - 1\n",
    "    - 1\n",
    "-->\n",
    "\n",
    "**Question 3.2:** Fill in the loop below based on the algorithm just described above. `speakers` should be a dictionary where the keys are each candidate's name and the values are dictionaries that map each word the candidate used to the number of times the candidate used that term."
   ]
  },
  {
   "cell_type": "code",
   "execution_count": null,
   "metadata": {},
   "outputs": [],
   "source": [
    "candidates = set(['CLINTON', 'SANDERS', 'KASICH', 'RUBIO', 'CRUZ', 'TRUMP']) # Creates a set of candidate names\n",
    "speakers = {} # Creates a dictionary for all speakers\n",
    "for candidate in candidates: # Loops through the set of candidates\n",
    "    speakers[candidate] = {} # Creates a dictionary for each candidate\n",
    "    \n",
    "curr_candidate = \"\"\n",
    "\n",
    "for line in both_debates:\n",
    "    # Don't touch code above this line\n",
    "    ...\n",
    "\n"
   ]
  },
  {
   "cell_type": "code",
   "execution_count": null,
   "metadata": {
    "deletable": false,
    "editable": false
   },
   "outputs": [],
   "source": [
    "grader.check(\"q3_2\")"
   ]
  },
  {
   "cell_type": "markdown",
   "metadata": {
    "deletable": false,
    "editable": false
   },
   "source": [
    "<!--\n",
    "BEGIN QUESTION\n",
    "name: q3_3\n",
    "points: 1\n",
    "-->\n",
    "\n",
    "**Question 3.3:** Write a python expression to determine which candidate used the largest vocabulary, i.e. the most unique number of terms. Assign the answer to the variable `candidate_largest_vocab`"
   ]
  },
  {
   "cell_type": "code",
   "execution_count": null,
   "metadata": {},
   "outputs": [],
   "source": [
    "candidate_largest_vocab = ...\n",
    "f\"{candidate_largest_vocab} had the largest vocabulary\""
   ]
  },
  {
   "cell_type": "code",
   "execution_count": null,
   "metadata": {
    "deletable": false,
    "editable": false
   },
   "outputs": [],
   "source": [
    "grader.check(\"q3_3\")"
   ]
  },
  {
   "cell_type": "markdown",
   "metadata": {},
   "source": [
    "## Visualize results\n",
    "\n",
    "Run the next code cell to plot the number of times each candidate use their top 15 words:"
   ]
  },
  {
   "cell_type": "code",
   "execution_count": null,
   "metadata": {},
   "outputs": [],
   "source": [
    "for speaker in ['CLINTON', 'SANDERS', 'KASICH', 'RUBIO', 'CRUZ', 'TRUMP']: # Loops through each speaker\n",
    "    # Creates a DataFrame (Table) that records how many times a candidate uses each word\n",
    "    df = pd.DataFrame(speakers[speaker], index=['Count']).T \n",
    "    \n",
    "    # Sorts the dataframe by how many times each word appears\n",
    "    df.sort_values(by='Count', ascending=False).head(15).index.rename('word', inplace=True)\n",
    "    tmp_df = df.sort_values(by='Count', ascending=False).head(15)\n",
    "    tmp_df.index.name = 'Word'\n",
    "    ax = tmp_df.plot(kind='bar', rot=45)\n",
    "    ax.set_title(speaker)"
   ]
  },
  {
   "cell_type": "markdown",
   "metadata": {
    "deletable": false,
    "editable": false
   },
   "source": [
    "<!--\n",
    "BEGIN QUESTION\n",
    "name: q4_1\n",
    "points: 2\n",
    "-->\n",
    "\n",
    "**Question 4.1:** Do you see any trends in the figures above? Are there any common types of words that are most frequent across all candidates?"
   ]
  },
  {
   "cell_type": "markdown",
   "metadata": {},
   "source": [
    "_Type your answer here, replacing this text._"
   ]
  },
  {
   "cell_type": "markdown",
   "metadata": {
    "deletable": false,
    "editable": false
   },
   "source": [
    "---\n",
    "\n",
    "To double-check your work, the cell below will rerun all of the autograder tests."
   ]
  },
  {
   "cell_type": "code",
   "execution_count": null,
   "metadata": {
    "deletable": false,
    "editable": false
   },
   "outputs": [],
   "source": [
    "grader.check_all()"
   ]
  },
  {
   "cell_type": "markdown",
   "metadata": {
    "deletable": false,
    "editable": false
   },
   "source": [
    "## Submission\n",
    "\n",
    "Make sure you have run all cells in your notebook in order before running the cell below, so that all images/graphs appear in the output. The cell below will generate a zip file for you to submit. **Please save before exporting!**"
   ]
  },
  {
   "cell_type": "code",
   "execution_count": null,
   "metadata": {
    "deletable": false,
    "editable": false
   },
   "outputs": [],
   "source": [
    "# Save your notebook first, then run this cell to export your submission.\n",
    "grader.export()"
   ]
  },
  {
   "cell_type": "markdown",
   "metadata": {},
   "source": [
    " "
   ]
  }
 ],
 "metadata": {
  "kernelspec": {
   "display_name": "Python 3",
   "language": "python",
   "name": "python3"
  },
  "language_info": {
   "codemirror_mode": {
    "name": "ipython",
    "version": 3
   },
   "file_extension": ".py",
   "mimetype": "text/x-python",
   "name": "python",
   "nbconvert_exporter": "python",
   "pygments_lexer": "ipython3",
   "version": "3.8.8"
  }
 },
 "nbformat": 4,
 "nbformat_minor": 4
}
