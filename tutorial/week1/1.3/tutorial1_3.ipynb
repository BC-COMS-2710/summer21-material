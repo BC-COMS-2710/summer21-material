{
 "cells": [
  {
   "cell_type": "code",
   "execution_count": null,
   "id": "2d0a5aa7",
   "metadata": {
    "deletable": false,
    "editable": false
   },
   "outputs": [],
   "source": [
    "# Initialize Otter\n",
    "import otter\n",
    "grader = otter.Notebook(\"tutorial1_3.ipynb\")"
   ]
  },
  {
   "cell_type": "markdown",
   "id": "fbea564c",
   "metadata": {},
   "source": [
    "# Tutorial 1.3: Exploring the Google Play Store with Pandas \n",
    "\n",
    "Welcome to Tutorial 1.3!  In today's class we covered pandas and how to manipulate data in a DataFrame.\n",
    "\n",
    "This tutorial is based on an assignment developed by [Jorge Mendez](https://www.seas.upenn.edu/~mendezme/) at UPenn and explores statistics about reviews from Google Play ."
   ]
  },
  {
   "cell_type": "code",
   "execution_count": null,
   "id": "a19ae999",
   "metadata": {},
   "outputs": [],
   "source": [
    "# Run this cell, but please don't change it.\n",
    "\n",
    "# These lines load the tests.\n",
    "import otter\n",
    "grader = otter.Notebook()\n",
    "\n",
    "import io\n",
    "import pandas as pd\n",
    "import numpy as np\n",
    "import matplotlib as plt"
   ]
  },
  {
   "cell_type": "markdown",
   "id": "0950863e",
   "metadata": {},
   "source": [
    "## 1. Reading files\n",
    " \n",
    "We provided two csv files in the `data/` directory. This tutorial will be based on those files"
   ]
  },
  {
   "cell_type": "markdown",
   "id": "33a0617a",
   "metadata": {
    "deletable": false,
    "editable": false
   },
   "source": [
    "<!--\n",
    "BEGIN QUESTION\n",
    "name: q1_1\n",
    "points: 1\n",
    "-->\n",
    "\n",
    "**Question 1.2:** Read in the csv file of the reviews and store the data as a dataframe and assign the dataframe the name `reviews_df`"
   ]
  },
  {
   "cell_type": "code",
   "execution_count": null,
   "id": "f2519f67",
   "metadata": {},
   "outputs": [],
   "source": [
    "reviews_df = ...\n",
    "reviews_df.head(5)"
   ]
  },
  {
   "cell_type": "code",
   "execution_count": null,
   "id": "a8fb86e9",
   "metadata": {
    "deletable": false,
    "editable": false
   },
   "outputs": [],
   "source": [
    "grader.check(\"q1_1\")"
   ]
  },
  {
   "cell_type": "markdown",
   "id": "025d27ca",
   "metadata": {
    "deletable": false,
    "editable": false
   },
   "source": [
    "<!--\n",
    "BEGIN QUESTION\n",
    "name: q1_2\n",
    "points: 1\n",
    "-->\n",
    "\n",
    "**Question 1.2:** Read in the csv file of the data from the google play store. Save the data as a dataframe and assign the dataframe the name `apps_df`"
   ]
  },
  {
   "cell_type": "code",
   "execution_count": null,
   "id": "7015cf24",
   "metadata": {},
   "outputs": [],
   "source": [
    "apps_df = ...\n",
    "apps_df.head(5)"
   ]
  },
  {
   "cell_type": "code",
   "execution_count": null,
   "id": "a8059ca0",
   "metadata": {
    "deletable": false,
    "editable": false
   },
   "outputs": [],
   "source": [
    "grader.check(\"q1_2\")"
   ]
  },
  {
   "cell_type": "markdown",
   "id": "d294b5ae",
   "metadata": {
    "deletable": false,
    "editable": false
   },
   "source": [
    "<!--\n",
    "BEGIN QUESTION\n",
    "name: q1_3\n",
    "points: 1\n",
    "-->\n",
    "\n",
    "Remember that in a table, each row represents an new individual item and the columns represent the item's attributes or features.\n",
    "When working with a table, it is a good idea to get a sense of what the different attributes are\n",
    "\n",
    "**Question 1.3:** Extract the names of the columns from `apps_df` as a list or index and assign the answer to the variable `store_columns`\n",
    "\n",
    "*Hint:* The DataFrame object has an attribute that will return the column labels of the DataFrame."
   ]
  },
  {
   "cell_type": "code",
   "execution_count": null,
   "id": "0d931e8d",
   "metadata": {},
   "outputs": [],
   "source": [
    "store_columns = ...\n",
    "store_columns"
   ]
  },
  {
   "cell_type": "code",
   "execution_count": null,
   "id": "77eb4447",
   "metadata": {
    "deletable": false,
    "editable": false
   },
   "outputs": [],
   "source": [
    "grader.check(\"q1_3\")"
   ]
  },
  {
   "cell_type": "markdown",
   "id": "7cf60bf1",
   "metadata": {
    "deletable": false,
    "editable": false
   },
   "source": [
    "<!--\n",
    "BEGIN QUESTION\n",
    "name: q1_4\n",
    "points: 1\n",
    "-->\n",
    "\n",
    "**Question 1.4:** Extract the names of the columns from `reviews_df` as a list or index and assign the answer to the variable `review_columns`\n",
    "\n",
    "*Hint:* The DataFrame object has an attribute that will return the column labels of the DataFrame."
   ]
  },
  {
   "cell_type": "code",
   "execution_count": null,
   "id": "c3dbcc87",
   "metadata": {},
   "outputs": [],
   "source": [
    "review_columns = ...\n",
    "review_columns"
   ]
  },
  {
   "cell_type": "code",
   "execution_count": null,
   "id": "6b3d9b99",
   "metadata": {
    "deletable": false,
    "editable": false
   },
   "outputs": [],
   "source": [
    "grader.check(\"q1_4\")"
   ]
  },
  {
   "cell_type": "markdown",
   "id": "a0629fb6",
   "metadata": {},
   "source": [
    "## 2. Data Filtering"
   ]
  },
  {
   "cell_type": "markdown",
   "id": "7f5aae38",
   "metadata": {},
   "source": [
    "Often times an individual in a table may be missing a value for one or more attributes. \n",
    "Usually, missing values will be represented as a numpy `Nan`. According to the [NumPy documentation](https://numpy.org/doc/stable/reference/constants.html#numpy.nan), a `Nan` is \n",
    "> A floating point representation of Not a Number\n",
    "\n",
    "The following line is how we access the Nan value."
   ]
  },
  {
   "cell_type": "code",
   "execution_count": null,
   "id": "7fd269b7",
   "metadata": {},
   "outputs": [],
   "source": [
    "np.nan"
   ]
  },
  {
   "cell_type": "markdown",
   "id": "249a2b1f",
   "metadata": {},
   "source": [
    "Since a Nan is a floating point representation, that means we can compare it to numbers, i.e. integers and floats"
   ]
  },
  {
   "cell_type": "code",
   "execution_count": null,
   "id": "a47a88bb",
   "metadata": {},
   "outputs": [],
   "source": [
    "np.nan > 1"
   ]
  },
  {
   "cell_type": "code",
   "execution_count": null,
   "id": "3d8edd8a",
   "metadata": {},
   "outputs": [],
   "source": [
    "np.nan < -1"
   ]
  },
  {
   "cell_type": "code",
   "execution_count": null,
   "id": "d2529a5a",
   "metadata": {},
   "outputs": [],
   "source": [
    "np.nan == 0"
   ]
  },
  {
   "cell_type": "markdown",
   "id": "52a4a553",
   "metadata": {},
   "source": [
    "We check if the value assigned to a variable is `Nan` by using the `numpy` method called `.isnan()` as shown in the next few cells"
   ]
  },
  {
   "cell_type": "code",
   "execution_count": null,
   "id": "95dbe5bf",
   "metadata": {},
   "outputs": [],
   "source": [
    "nan_variable = np.nan\n",
    "one = 1\n",
    "\n",
    "np.isnan(one), np.isnan(nan_variable)"
   ]
  },
  {
   "cell_type": "code",
   "execution_count": null,
   "id": "9d7bea46",
   "metadata": {},
   "outputs": [],
   "source": [
    "array_with_one_nan = np.append(np.arange(10), np.nan)\n",
    "\n",
    "array_with_one_nan, np.isnan(array_with_one_nan)"
   ]
  },
  {
   "cell_type": "markdown",
   "id": "188498d9",
   "metadata": {
    "deletable": false,
    "editable": false
   },
   "source": [
    "<!--\n",
    "BEGIN QUESTION\n",
    "name: q2_1\n",
    "points: \n",
    "    - 0.75\n",
    "    - 0.75\n",
    "-->\n",
    "\n",
    "Often times an individual in a table may be missing a value for one or more attributes.\n",
    "\n",
    "**Question 2.1:** Remove any review from `reviews_df` that does not contain either a Translated Review or a Sentiment and store the resulting dataframe in the same `reviews_df` variable. \n",
    "    \n",
    "*Hint:* The `pd.dropna()` function will be helpful for this. "
   ]
  },
  {
   "cell_type": "code",
   "execution_count": null,
   "id": "4bea51ba",
   "metadata": {},
   "outputs": [],
   "source": [
    "reviews_df = ...\n",
    "reviews_df.shape"
   ]
  },
  {
   "cell_type": "code",
   "execution_count": null,
   "id": "2c659d14",
   "metadata": {
    "deletable": false,
    "editable": false
   },
   "outputs": [],
   "source": [
    "grader.check(\"q2_1\")"
   ]
  },
  {
   "cell_type": "markdown",
   "id": "0a82fa2a",
   "metadata": {},
   "source": [
    "Often times we need to validate our data and remove outliers or values that are invalid\n",
    "\n",
    "The following cell will print out a pandas Series where the index is a rating and the corresponding value is the number of apps that have that rating."
   ]
  },
  {
   "cell_type": "code",
   "execution_count": null,
   "id": "a8e30668",
   "metadata": {},
   "outputs": [],
   "source": [
    "apps_df['Rating'].value_counts()"
   ]
  },
  {
   "cell_type": "markdown",
   "id": "f7e7a0b3",
   "metadata": {
    "deletable": false,
    "editable": false
   },
   "source": [
    "<!--\n",
    "BEGIN QUESTION\n",
    "name: q2_2\n",
    "points: 1\n",
    "-->\n",
    "\n",
    "Looking towards the bottom, we will notice that there is one app that has a rating of 19.0, however, the ratings can only range betwen 0 and 5.\n",
    "\n",
    "**Question 2.2:** Remove any apps from `apps_df` whose `Rating` is invalid (> 5) and store the resulting dataframe in `apps_df`"
   ]
  },
  {
   "cell_type": "code",
   "execution_count": null,
   "id": "279ca820",
   "metadata": {},
   "outputs": [],
   "source": [
    "apps_df = ..."
   ]
  },
  {
   "cell_type": "code",
   "execution_count": null,
   "id": "c5177541",
   "metadata": {
    "deletable": false,
    "editable": false
   },
   "outputs": [],
   "source": [
    "grader.check(\"q2_2\")"
   ]
  },
  {
   "cell_type": "markdown",
   "id": "9789c032",
   "metadata": {
    "deletable": false,
    "editable": false
   },
   "source": [
    "<!-- BEGIN QUESTION -->\n",
    "\n",
    "<!--\n",
    "BEGIN QUESTION\n",
    "name: q2_3\n",
    "points: 3\n",
    "manual: true\n",
    "-->\n",
    "\n",
    "\n",
    "**Question 2.3:** `Translated_Review` contains the text of the reviews. Create a new column in `reviews_df` called `Review_Length` that contains the number of words in each review (for this question assume that words are seperated by white space). Then use the DataFrame `describe()` function to print descriptive statistics about the length of the reviews."
   ]
  },
  {
   "cell_type": "code",
   "execution_count": null,
   "id": "5dbafec9",
   "metadata": {},
   "outputs": [],
   "source": []
  },
  {
   "cell_type": "markdown",
   "id": "eb76d0ad",
   "metadata": {},
   "source": [
    "<!-- END QUESTION -->\n",
    "\n",
    "\n",
    "\n",
    "Run the next cell to plot a histogram of the number of words in each review."
   ]
  },
  {
   "cell_type": "code",
   "execution_count": null,
   "id": "ddd01d2f",
   "metadata": {},
   "outputs": [],
   "source": [
    "reviews_df['Review_Length'].plot.hist(bins=np.arange(1,75,5))"
   ]
  },
  {
   "cell_type": "markdown",
   "id": "b7fe2b54",
   "metadata": {
    "deletable": false,
    "editable": false
   },
   "source": [
    "<!-- BEGIN QUESTION -->\n",
    "\n",
    "<!--\n",
    "BEGIN QUESTION\n",
    "name: q2_4\n",
    "points: 2\n",
    "manual: true\n",
    "-->\n",
    "\n",
    "\n",
    "**Question 2.4:** Based on the descriptive statistics, do you think the mean is roughly equal to, higher, or lower the median value. Justify"
   ]
  },
  {
   "cell_type": "markdown",
   "id": "a8575a20",
   "metadata": {},
   "source": [
    "_Type your answer here, replacing this text._"
   ]
  },
  {
   "cell_type": "markdown",
   "id": "6197b627",
   "metadata": {},
   "source": [
    "<!-- END QUESTION -->\n",
    "\n",
    "\n",
    "\n",
    "## 3. Visualization"
   ]
  },
  {
   "cell_type": "markdown",
   "id": "0f18e276",
   "metadata": {
    "deletable": false,
    "editable": false
   },
   "source": [
    "<!-- BEGIN QUESTION -->\n",
    "\n",
    "<!--\n",
    "BEGIN QUESTION\n",
    "name: q3_1\n",
    "points: 1.5\n",
    "manual: true\n",
    "-->\n",
    "\n",
    "\n",
    "**Question 3.1:** Produce a pie chart with the Android Ver requirements for the different apps. Group together all\n",
    "versions that make up less than 5% of the total apps into a single `Other` category. This should look\n",
    "similar to ![this](images/pie.png). Don't forget to include a title for the figure.\n",
    "\n",
    "*Hint 1:* You will find the df.value counts() function useful for solving this problem.\n",
    "\n",
    "*Hint 2:* This [stackoverflow](https://stackoverflow.com/questions/55564896/pandas-python-grouping-counts-to-others) answer will be useful."
   ]
  },
  {
   "cell_type": "code",
   "execution_count": null,
   "id": "96d84ed2",
   "metadata": {},
   "outputs": [],
   "source": []
  },
  {
   "cell_type": "markdown",
   "id": "5987c6bc",
   "metadata": {
    "deletable": false,
    "editable": false
   },
   "source": [
    "<!-- END QUESTION -->\n",
    "\n",
    "<!-- BEGIN QUESTION -->\n",
    "\n",
    "<!--\n",
    "BEGIN QUESTION\n",
    "name: q3_2\n",
    "points: 1.5\n",
    "manual: true\n",
    "-->\n",
    "\n",
    "\n",
    "**Question 3.2:** Create a similar pie chart for app `Category`. In this case, group together categories that make up less\n",
    "than 3% of the apps. The resulting graph should look something like ![](images/pie2.png) ."
   ]
  },
  {
   "cell_type": "code",
   "execution_count": null,
   "id": "ec4f36d3",
   "metadata": {},
   "outputs": [],
   "source": []
  },
  {
   "cell_type": "markdown",
   "id": "7ddbc78b",
   "metadata": {
    "deletable": false,
    "editable": false
   },
   "source": [
    "<!-- END QUESTION -->\n",
    "\n",
    "<!-- BEGIN QUESTION -->\n",
    "\n",
    "<!--\n",
    "BEGIN QUESTION\n",
    "name: q3_3\n",
    "points: 2\n",
    "manual: true\n",
    "-->\n",
    "\n",
    "\n",
    "**Question 3.3:** Generating histograms of the Rating and Reviews across all apps, with 20 bins each. The histgrams should look like ![this](images/histograms.png)\n",
    "\n",
    "\n",
    "*Hint:* Remember that histograms are used for numeric data. You might need to convert the values in one of the columns to a numeric type."
   ]
  },
  {
   "cell_type": "code",
   "execution_count": null,
   "id": "7ae1b0bc",
   "metadata": {},
   "outputs": [],
   "source": []
  },
  {
   "cell_type": "markdown",
   "id": "d4095fc8",
   "metadata": {
    "deletable": false,
    "editable": false
   },
   "source": [
    "<!-- END QUESTION -->\n",
    "\n",
    "<!-- BEGIN QUESTION -->\n",
    "\n",
    "<!--\n",
    "BEGIN QUESTION\n",
    "name: q3_4\n",
    "points: 1.5\n",
    "manual: true\n",
    "-->\n",
    "\n",
    "\n",
    "**Question 3.4:** Plot a bar chart with the number of reviews that received the different `Sentiment` values. The sentiments chart should look similar to ![this](images/bar.png)"
   ]
  },
  {
   "cell_type": "code",
   "execution_count": null,
   "id": "6a3b75a2",
   "metadata": {},
   "outputs": [],
   "source": []
  },
  {
   "cell_type": "markdown",
   "id": "62688e83",
   "metadata": {},
   "source": [
    "<!-- END QUESTION -->\n",
    "\n",
    "\n",
    "\n",
    "## 4. Combining Dataframes"
   ]
  },
  {
   "cell_type": "markdown",
   "id": "81467913",
   "metadata": {
    "deletable": false,
    "editable": false
   },
   "source": [
    "<!--\n",
    "BEGIN QUESTION\n",
    "name: q4.1\n",
    "points: 1\n",
    "-->\n",
    "\n",
    "\n",
    "**Question 4.1:** Combine the two DataFrames into a single one, based on the App names, and store the resulting dataframe in a variable called `merged_df`. You should make sure that\n",
    "all apps from the apps DataFrame are kept, and no app beyond those is added. \n",
    "\n",
    "*Hint:* The `pd.merge` function will be useful."
   ]
  },
  {
   "cell_type": "code",
   "execution_count": null,
   "id": "abf332c8",
   "metadata": {},
   "outputs": [],
   "source": [
    "merged_df = ...\n",
    "\n",
    "print(f\"merged_df has {merged_df.shape[0]} rows and {merged_df.shape[1]} columns\")\n",
    "merged_df.head(5)"
   ]
  },
  {
   "cell_type": "code",
   "execution_count": null,
   "id": "66653b2a",
   "metadata": {
    "deletable": false,
    "editable": false
   },
   "outputs": [],
   "source": [
    "grader.check(\"q4.1\")"
   ]
  },
  {
   "cell_type": "markdown",
   "id": "14231f9b",
   "metadata": {
    "deletable": false,
    "editable": false
   },
   "source": [
    "<!-- BEGIN QUESTION -->\n",
    "\n",
    "<!--\n",
    "BEGIN QUESTION\n",
    "name: q4.2\n",
    "points: 4\n",
    "manual: true\n",
    "-->\n",
    "\n",
    "\n",
    "**Question 4.2:** Group the Sentiment by rounded Rating, and produce a bar chart where you display the different\n",
    "sentiments grouped by rating. The chart should look like ![this](images/combined_bar.png)\n",
    "\n",
    "*Hint:* You might find the `np.round`, `pd.groupby` and `df.unstack` functions\n",
    "helpful for this task."
   ]
  },
  {
   "cell_type": "code",
   "execution_count": null,
   "id": "34e7d0b6",
   "metadata": {},
   "outputs": [],
   "source": []
  },
  {
   "cell_type": "markdown",
   "id": "e3b9e08e",
   "metadata": {
    "deletable": false,
    "editable": false
   },
   "source": [
    "---\n",
    "\n",
    "To double-check your work, the cell below will rerun all of the autograder tests."
   ]
  },
  {
   "cell_type": "code",
   "execution_count": null,
   "id": "7c04f417",
   "metadata": {
    "deletable": false,
    "editable": false
   },
   "outputs": [],
   "source": [
    "grader.check_all()"
   ]
  },
  {
   "cell_type": "markdown",
   "id": "8c5710f3",
   "metadata": {
    "deletable": false,
    "editable": false
   },
   "source": [
    "## Submission\n",
    "\n",
    "Make sure you have run all cells in your notebook in order before running the cell below, so that all images/graphs appear in the output. The cell below will generate a zip file for you to submit. **Please save before exporting!**"
   ]
  },
  {
   "cell_type": "code",
   "execution_count": null,
   "id": "47c3306b",
   "metadata": {
    "deletable": false,
    "editable": false
   },
   "outputs": [],
   "source": [
    "# Save your notebook first, then run this cell to export your submission.\n",
    "grader.export()"
   ]
  },
  {
   "cell_type": "markdown",
   "id": "a903d251",
   "metadata": {},
   "source": [
    " "
   ]
  }
 ],
 "metadata": {
  "kernelspec": {
   "display_name": "Python 3",
   "language": "python",
   "name": "python3"
  },
  "language_info": {
   "codemirror_mode": {
    "name": "ipython",
    "version": 3
   },
   "file_extension": ".py",
   "mimetype": "text/x-python",
   "name": "python",
   "nbconvert_exporter": "python",
   "pygments_lexer": "ipython3",
   "version": "3.8.8"
  }
 },
 "nbformat": 4,
 "nbformat_minor": 5
}
