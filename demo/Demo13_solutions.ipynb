{
 "cells": [
  {
   "cell_type": "markdown",
   "id": "36a3075d",
   "metadata": {},
   "source": [
    "# Twitter"
   ]
  },
  {
   "cell_type": "code",
   "execution_count": 3,
   "id": "649c9ca9",
   "metadata": {},
   "outputs": [
    {
     "name": "stdout",
     "output_type": "stream",
     "text": [
      "Requirement already satisfied: tweepy in /opt/conda/lib/python3.8/site-packages (3.10.0)\n",
      "Requirement already satisfied: requests[socks]>=2.11.1 in /opt/conda/lib/python3.8/site-packages (from tweepy) (2.25.1)\n",
      "Requirement already satisfied: six>=1.10.0 in /opt/conda/lib/python3.8/site-packages (from tweepy) (1.15.0)\n",
      "Requirement already satisfied: requests-oauthlib>=0.7.0 in /opt/conda/lib/python3.8/site-packages (from tweepy) (1.3.0)\n",
      "Requirement already satisfied: oauthlib>=3.0.0 in /opt/conda/lib/python3.8/site-packages (from requests-oauthlib>=0.7.0->tweepy) (3.0.1)\n",
      "Requirement already satisfied: urllib3<1.27,>=1.21.1 in /opt/conda/lib/python3.8/site-packages (from requests[socks]>=2.11.1->tweepy) (1.26.4)\n",
      "Requirement already satisfied: idna<3,>=2.5 in /opt/conda/lib/python3.8/site-packages (from requests[socks]>=2.11.1->tweepy) (2.10)\n",
      "Requirement already satisfied: chardet<5,>=3.0.2 in /opt/conda/lib/python3.8/site-packages (from requests[socks]>=2.11.1->tweepy) (4.0.0)\n",
      "Requirement already satisfied: certifi>=2017.4.17 in /opt/conda/lib/python3.8/site-packages (from requests[socks]>=2.11.1->tweepy) (2020.12.5)\n",
      "Requirement already satisfied: PySocks!=1.5.7,>=1.5.6 in /opt/conda/lib/python3.8/site-packages (from requests[socks]>=2.11.1->tweepy) (1.7.1)\n"
     ]
    }
   ],
   "source": [
    "!pip install tweepy"
   ]
  },
  {
   "cell_type": "code",
   "execution_count": null,
   "id": "a7bac17b",
   "metadata": {},
   "outputs": [],
   "source": [
    "import tweepy"
   ]
  },
  {
   "cell_type": "markdown",
   "id": "94d316b6",
   "metadata": {},
   "source": [
    "Create a new app by going to https://developer.twitter.com/en/portal/projects/1359950786231324672/apps/new"
   ]
  },
  {
   "cell_type": "markdown",
   "id": "78bf8077",
   "metadata": {},
   "source": [
    "## Authentication"
   ]
  },
  {
   "cell_type": "code",
   "execution_count": 1,
   "id": "3072ce7b",
   "metadata": {},
   "outputs": [],
   "source": [
    "consumer_key = ADD YOUR KEY HERE\n",
    "consumer_secret = ADD YOUR KEY SECRET HERE \n",
    "access_token = ADD YOUR ACCESS TOKEN HERE \n",
    "access_token_secret = ADD YOUR ACCESS TOKEN SECRET HERE \n"
   ]
  },
  {
   "cell_type": "markdown",
   "id": "052873f7",
   "metadata": {},
   "source": [
    "(back to slides)\n",
    "## Tweepy"
   ]
  },
  {
   "cell_type": "code",
   "execution_count": 2,
   "id": "66940f70",
   "metadata": {},
   "outputs": [
    {
     "data": {
      "text/plain": [
       "'3.10.0'"
      ]
     },
     "execution_count": 2,
     "metadata": {},
     "output_type": "execute_result"
    }
   ],
   "source": [
    "import tweepy\n",
    "tweepy.__version__"
   ]
  },
  {
   "cell_type": "code",
   "execution_count": 4,
   "id": "4fb533d9",
   "metadata": {},
   "outputs": [
    {
     "data": {
      "text/plain": [
       "<tweepy.auth.OAuthHandler at 0x7ff37aebd730>"
      ]
     },
     "execution_count": 4,
     "metadata": {},
     "output_type": "execute_result"
    }
   ],
   "source": [
    "auth = tweepy.OAuthHandler(consumer_key, consumer_secret)\n",
    "auth.set_access_token(access_token, access_token_secret)\n",
    "auth"
   ]
  },
  {
   "cell_type": "markdown",
   "id": "48837acf",
   "metadata": {},
   "source": [
    "(back to slides)\n",
    "## Tweepy Stream API\n",
    "\n",
    "Access tweets in real time. We need to complete the following steps:\n",
    "\n",
    "1. Create a class inheriting from StreamListener\n",
    "1. Using that class create a Stream object\n",
    "1. Connect to the Twitter API using the Stream."
   ]
  },
  {
   "cell_type": "markdown",
   "id": "2c02f105",
   "metadata": {},
   "source": [
    "#### Create a class that inherits from StreamListener"
   ]
  },
  {
   "cell_type": "code",
   "execution_count": 5,
   "id": "3fcd7939",
   "metadata": {},
   "outputs": [
    {
     "data": {
      "text/plain": [
       "__main__.StreamListener"
      ]
     },
     "execution_count": 5,
     "metadata": {},
     "output_type": "execute_result"
    }
   ],
   "source": [
    "class StreamListener(tweepy.StreamListener):\n",
    "    \n",
    "    def on_status(self, status):\n",
    "        print(status.text)\n",
    "        #last_status = status\n",
    "        \n",
    "    def on_error(self, status_code):\n",
    "        print('Got an error with status code: ' + str(status_code))\n",
    "\n",
    "        if status_code == 420:\n",
    "            return False\n",
    "\n",
    "    def on_timeout(self):\n",
    "        print('Timeout...')\n",
    "        return True # To continue listening\n",
    "    \n",
    "StreamListener"
   ]
  },
  {
   "cell_type": "markdown",
   "id": "603a5c38",
   "metadata": {},
   "source": [
    "#### Create a new Stream object"
   ]
  },
  {
   "cell_type": "code",
   "execution_count": 6,
   "id": "fbbc1ec1",
   "metadata": {},
   "outputs": [
    {
     "data": {
      "text/plain": [
       "<__main__.StreamListener at 0x7ff37ae13310>"
      ]
     },
     "execution_count": 6,
     "metadata": {},
     "output_type": "execute_result"
    }
   ],
   "source": [
    "stream_listener = StreamListener()\n",
    "stream_listener"
   ]
  },
  {
   "cell_type": "markdown",
   "id": "11cac953",
   "metadata": {},
   "source": [
    "#### Authenticate the object"
   ]
  },
  {
   "cell_type": "code",
   "execution_count": 7,
   "id": "f4f3c1f4",
   "metadata": {},
   "outputs": [
    {
     "data": {
      "text/plain": [
       "<tweepy.streaming.Stream at 0x7ff37ae13370>"
      ]
     },
     "execution_count": 7,
     "metadata": {},
     "output_type": "execute_result"
    }
   ],
   "source": [
    "stream = tweepy.Stream(auth=auth, listener=stream_listener)\n",
    "stream"
   ]
  },
  {
   "cell_type": "code",
   "execution_count": 8,
   "id": "b3fbfa43",
   "metadata": {},
   "outputs": [
    {
     "data": {
      "text/plain": [
       "False"
      ]
     },
     "execution_count": 8,
     "metadata": {},
     "output_type": "execute_result"
    }
   ],
   "source": [
    "stream.running"
   ]
  },
  {
   "cell_type": "code",
   "execution_count": 9,
   "id": "7d38829e",
   "metadata": {},
   "outputs": [
    {
     "data": {
      "text/plain": [
       "<tweepy.streaming.Stream at 0x7ff37ae13370>"
      ]
     },
     "execution_count": 9,
     "metadata": {},
     "output_type": "execute_result"
    }
   ],
   "source": [
    "stream"
   ]
  },
  {
   "cell_type": "markdown",
   "id": "9666dbfc",
   "metadata": {},
   "source": [
    "### Connet the Stream Object to the API"
   ]
  },
  {
   "cell_type": "markdown",
   "id": "c017a866",
   "metadata": {},
   "source": [
    "#### Sample Stream"
   ]
  },
  {
   "cell_type": "code",
   "execution_count": 201,
   "id": "440341dc",
   "metadata": {
    "tags": []
   },
   "outputs": [],
   "source": [
    "stream.sample()"
   ]
  },
  {
   "cell_type": "code",
   "execution_count": 11,
   "id": "9ad2bcb9",
   "metadata": {},
   "outputs": [
    {
     "data": {
      "text/plain": [
       "True"
      ]
     },
     "execution_count": 11,
     "metadata": {},
     "output_type": "execute_result"
    }
   ],
   "source": [
    "stream.running"
   ]
  },
  {
   "cell_type": "code",
   "execution_count": 12,
   "id": "10a45e01",
   "metadata": {
    "tags": []
   },
   "outputs": [
    {
     "data": {
      "text/plain": [
       "False"
      ]
     },
     "execution_count": 12,
     "metadata": {},
     "output_type": "execute_result"
    }
   ],
   "source": [
    "stream.disconnect()\n",
    "#stream.sample(languages=['en'])\n",
    "stream.running"
   ]
  },
  {
   "cell_type": "markdown",
   "id": "768e229f",
   "metadata": {},
   "source": [
    "**Specify only Tweets in English**"
   ]
  },
  {
   "cell_type": "code",
   "execution_count": 200,
   "id": "5c658693",
   "metadata": {
    "tags": []
   },
   "outputs": [],
   "source": [
    "stream.sample(languages=['en'])"
   ]
  },
  {
   "cell_type": "code",
   "execution_count": 14,
   "id": "769a598f",
   "metadata": {
    "tags": []
   },
   "outputs": [
    {
     "data": {
      "text/plain": [
       "True"
      ]
     },
     "execution_count": 14,
     "metadata": {},
     "output_type": "execute_result"
    }
   ],
   "source": [
    "stream.running"
   ]
  },
  {
   "cell_type": "code",
   "execution_count": 15,
   "id": "f9870177",
   "metadata": {},
   "outputs": [
    {
     "data": {
      "text/plain": [
       "False"
      ]
     },
     "execution_count": 15,
     "metadata": {},
     "output_type": "execute_result"
    }
   ],
   "source": [
    "stream.disconnect()\n",
    "stream.running"
   ]
  },
  {
   "cell_type": "markdown",
   "id": "9ef34324",
   "metadata": {},
   "source": [
    "#### Filter the Stream"
   ]
  },
  {
   "cell_type": "markdown",
   "id": "ca97d16d",
   "metadata": {},
   "source": [
    "Last night the Miami Heat were playing so I was filtering tweets about the team"
   ]
  },
  {
   "cell_type": "code",
   "execution_count": 199,
   "id": "5f53786d",
   "metadata": {
    "tags": []
   },
   "outputs": [],
   "source": [
    "stream.disconnect()\n",
    "stream.filter(track=[\"NOTAPENNY\", \"AMC\", \"WSB\"] ,languages=[\"en\"]) #is_async=True)"
   ]
  },
  {
   "cell_type": "code",
   "execution_count": 18,
   "id": "b728d9eb",
   "metadata": {},
   "outputs": [
    {
     "data": {
      "text/plain": [
       "(None, False)"
      ]
     },
     "execution_count": 18,
     "metadata": {},
     "output_type": "execute_result"
    }
   ],
   "source": [
    "status = stream.disconnect()\n",
    "status, stream.running"
   ]
  },
  {
   "cell_type": "markdown",
   "id": "491994e5",
   "metadata": {},
   "source": [
    "Let's filtering on something trending right now"
   ]
  },
  {
   "cell_type": "code",
   "execution_count": null,
   "id": "e19215be",
   "metadata": {},
   "outputs": [],
   "source": [
    "stream.filter(track=[ADD HERE] ,languages=[\"en\"]) "
   ]
  },
  {
   "cell_type": "code",
   "execution_count": null,
   "id": "36830887",
   "metadata": {},
   "outputs": [],
   "source": [
    "status"
   ]
  },
  {
   "cell_type": "code",
   "execution_count": 19,
   "id": "3b862028",
   "metadata": {
    "tags": []
   },
   "outputs": [
    {
     "data": {
      "text/plain": [
       "512"
      ]
     },
     "execution_count": 19,
     "metadata": {},
     "output_type": "execute_result"
    }
   ],
   "source": [
    "stream.chunk_size"
   ]
  },
  {
   "cell_type": "code",
   "execution_count": 20,
   "id": "e34ab4e2",
   "metadata": {
    "tags": []
   },
   "outputs": [
    {
     "data": {
      "text/plain": [
       "{'track': b'NOTAPENNY,AMC,WSB', 'language': 'en'}"
      ]
     },
     "execution_count": 20,
     "metadata": {},
     "output_type": "execute_result"
    }
   ],
   "source": [
    "stream.body"
   ]
  },
  {
   "cell_type": "code",
   "execution_count": 21,
   "id": "0973dcb0",
   "metadata": {},
   "outputs": [
    {
     "data": {
      "text/plain": [
       "'stream.twitter.com'"
      ]
     },
     "execution_count": 21,
     "metadata": {},
     "output_type": "execute_result"
    }
   ],
   "source": [
    "stream.host"
   ]
  },
  {
   "cell_type": "code",
   "execution_count": null,
   "id": "15a0cd4d",
   "metadata": {
    "tags": []
   },
   "outputs": [],
   "source": [
    "stream.disconnect()\n",
    "stream.running"
   ]
  },
  {
   "cell_type": "code",
   "execution_count": null,
   "id": "eb934cb3",
   "metadata": {},
   "outputs": [],
   "source": [
    "stream.chunk_size"
   ]
  },
  {
   "cell_type": "code",
   "execution_count": 22,
   "id": "b4dbc55a",
   "metadata": {},
   "outputs": [],
   "source": [
    "status"
   ]
  },
  {
   "cell_type": "markdown",
   "id": "3d338772",
   "metadata": {},
   "source": [
    "### Save Stream to File"
   ]
  },
  {
   "cell_type": "code",
   "execution_count": 24,
   "id": "3d546f25",
   "metadata": {},
   "outputs": [
    {
     "data": {
      "text/plain": [
       "<tweepy.streaming.Stream at 0x7ff37ac29f40>"
      ]
     },
     "execution_count": 24,
     "metadata": {},
     "output_type": "execute_result"
    }
   ],
   "source": [
    "class StreamListener2(tweepy.StreamListener):\n",
    "    \n",
    "    def on_status(self, status):\n",
    "        print(status.text)\n",
    "        \n",
    "    def on_data(self, data):\n",
    "        #print data\n",
    "        with open('data/fetched_tweets.txt','a') as tf:\n",
    "            tf.write(data)\n",
    "        return True\n",
    "        \n",
    "    def on_error(self, status_code):\n",
    "        print('Got an error with status code: ' + str(status_code))\n",
    "\n",
    "        if status_code == 420:\n",
    "            return False\n",
    "\n",
    "    def on_timeout(self):\n",
    "        print('Timeout...')\n",
    "        return True # To continue listening\n",
    "\n",
    "stream_listener = StreamListener2()\n",
    "stream2file = tweepy.Stream(auth=auth, listener=stream_listener)\n",
    "stream2file"
   ]
  },
  {
   "cell_type": "markdown",
   "id": "f8d916b1",
   "metadata": {},
   "source": [
    "Let's keep this running for the remaining of class till we get to \"analyze tweets\" at the bottom"
   ]
  },
  {
   "cell_type": "markdown",
   "id": "e5f8c7ed",
   "metadata": {},
   "source": [
    "Let's look for some terms of what is currently trending on Twitter\n",
    "\n",
    "https://twitter.com/explore/tabs/trending"
   ]
  },
  {
   "cell_type": "code",
   "execution_count": 198,
   "id": "67320a6a",
   "metadata": {
    "tags": []
   },
   "outputs": [],
   "source": [
    "stream.filter(track=[\"NationalWineDay\", \"WineDay\", \"wine\"], languages=['en'])"
   ]
  },
  {
   "cell_type": "code",
   "execution_count": 26,
   "id": "83321064",
   "metadata": {},
   "outputs": [],
   "source": [
    "stream.disconnect()"
   ]
  },
  {
   "cell_type": "markdown",
   "id": "2955389e",
   "metadata": {},
   "source": [
    "**Asyncronous Streaming**"
   ]
  },
  {
   "cell_type": "code",
   "execution_count": 27,
   "id": "d4d664f0",
   "metadata": {},
   "outputs": [],
   "source": [
    "stream2file.disconnect()\n",
    "stream2file.filter(track=[\"NOTAPENNY\", \"AMC\", \"WSB\"], is_async=True)"
   ]
  },
  {
   "cell_type": "code",
   "execution_count": 40,
   "id": "c01d6b8b",
   "metadata": {},
   "outputs": [
    {
     "name": "stdout",
     "output_type": "stream",
     "text": [
      "   130  15147 963831 data/fetched_tweets.txt\n"
     ]
    }
   ],
   "source": [
    "!wc data/fetched_tweets.txt"
   ]
  },
  {
   "cell_type": "markdown",
   "id": "befc9916",
   "metadata": {},
   "source": [
    "## Tweepy Rest API: \n",
    "https://docs.tweepy.org/en/latest/api.html#tweepy.API"
   ]
  },
  {
   "cell_type": "code",
   "execution_count": 41,
   "id": "e726da7e",
   "metadata": {},
   "outputs": [
    {
     "data": {
      "text/plain": [
       "<tweepy.api.API at 0x7ff379d04910>"
      ]
     },
     "execution_count": 41,
     "metadata": {},
     "output_type": "execute_result"
    }
   ],
   "source": [
    "api = tweepy.API(auth)\n",
    "api"
   ]
  },
  {
   "cell_type": "code",
   "execution_count": null,
   "id": "924f6220",
   "metadata": {},
   "outputs": [],
   "source": [
    "api.search"
   ]
  },
  {
   "cell_type": "code",
   "execution_count": null,
   "id": "d7f48c09",
   "metadata": {},
   "outputs": [],
   "source": [
    "api.get_user()"
   ]
  },
  {
   "cell_type": "code",
   "execution_count": null,
   "id": "45a423cd",
   "metadata": {},
   "outputs": [],
   "source": [
    "api.trends_place()"
   ]
  },
  {
   "cell_type": "markdown",
   "id": "e963de5a",
   "metadata": {},
   "source": [
    "### Search"
   ]
  },
  {
   "cell_type": "markdown",
   "id": "29ce572b",
   "metadata": {},
   "source": [
    "Let's just run the following to get the 10 most recent Tweets that mention Barnard College"
   ]
  },
  {
   "cell_type": "code",
   "execution_count": 197,
   "id": "15555f8f",
   "metadata": {},
   "outputs": [],
   "source": [
    "top_ten_tweets = tweepy.Cursor(api.search, q='Barnard College').items(10)\n",
    "for tweet in top_ten_tweets:\n",
    "    print(tweet.text)"
   ]
  },
  {
   "cell_type": "code",
   "execution_count": null,
   "id": "d45fe938",
   "metadata": {},
   "outputs": [],
   "source": [
    "[tweet.text for tweet in top_ten_tweets]"
   ]
  },
  {
   "cell_type": "code",
   "execution_count": null,
   "id": "f62e6175",
   "metadata": {},
   "outputs": [],
   "source": [
    "for tweet in top_ten_tweets:\n",
    "    print(\"barnard college\" in tweet.text)"
   ]
  },
  {
   "cell_type": "code",
   "execution_count": 44,
   "id": "ab2ec0dd",
   "metadata": {},
   "outputs": [
    {
     "data": {
      "text/plain": [
       "tweepy.models.Status"
      ]
     },
     "execution_count": 44,
     "metadata": {},
     "output_type": "execute_result"
    }
   ],
   "source": [
    "type(tweet)"
   ]
  },
  {
   "cell_type": "markdown",
   "id": "c6f7380a",
   "metadata": {},
   "source": [
    "#### Elements from a Tweet"
   ]
  },
  {
   "cell_type": "code",
   "execution_count": 45,
   "id": "0314f286",
   "metadata": {},
   "outputs": [
    {
     "data": {
      "text/plain": [
       "'__class__ __delattr__ __dict__ __dir__ __doc__ __eq__ __format__ __ge__ __getattribute__ __getstate__ __gt__ __hash__ __init__ __init_subclass__ __le__ __lt__ __module__ __ne__ __new__ __reduce__ __reduce_ex__ __repr__ __setattr__ __sizeof__ __str__ __subclasshook__ __weakref__ _api _json author contributors coordinates created_at destroy entities favorite favorite_count favorited geo id id_str in_reply_to_screen_name in_reply_to_status_id in_reply_to_status_id_str in_reply_to_user_id in_reply_to_user_id_str is_quote_status lang metadata parse parse_list place retweet retweet_count retweeted retweets source source_url text truncated user'"
      ]
     },
     "execution_count": 45,
     "metadata": {},
     "output_type": "execute_result"
    }
   ],
   "source": [
    "\" \".join(dir(tweet))"
   ]
  },
  {
   "cell_type": "code",
   "execution_count": 195,
   "id": "a1810dc2",
   "metadata": {},
   "outputs": [],
   "source": [
    "tweet.text"
   ]
  },
  {
   "cell_type": "code",
   "execution_count": 47,
   "id": "4b35ac0b",
   "metadata": {},
   "outputs": [
    {
     "data": {
      "text/plain": [
       "1396881960056803332"
      ]
     },
     "execution_count": 47,
     "metadata": {},
     "output_type": "execute_result"
    }
   ],
   "source": [
    "tweet.id"
   ]
  },
  {
   "cell_type": "code",
   "execution_count": 48,
   "id": "bc4c7bf5",
   "metadata": {},
   "outputs": [
    {
     "data": {
      "text/plain": [
       "datetime.datetime(2021, 5, 24, 17, 33, 6)"
      ]
     },
     "execution_count": 48,
     "metadata": {},
     "output_type": "execute_result"
    }
   ],
   "source": [
    "tweet.created_at"
   ]
  },
  {
   "cell_type": "code",
   "execution_count": 49,
   "id": "4358e8f7",
   "metadata": {},
   "outputs": [
    {
     "data": {
      "text/plain": [
       "'en'"
      ]
     },
     "execution_count": 49,
     "metadata": {},
     "output_type": "execute_result"
    }
   ],
   "source": [
    "tweet.lang"
   ]
  },
  {
   "cell_type": "code",
   "execution_count": 50,
   "id": "4702cf04",
   "metadata": {},
   "outputs": [
    {
     "data": {
      "text/plain": [
       "{'iso_language_code': 'en', 'result_type': 'recent'}"
      ]
     },
     "execution_count": 50,
     "metadata": {},
     "output_type": "execute_result"
    }
   ],
   "source": [
    "tweet.metadata"
   ]
  },
  {
   "cell_type": "code",
   "execution_count": 51,
   "id": "2fd12e33",
   "metadata": {},
   "outputs": [],
   "source": [
    "tweet.in_reply_to_status_id"
   ]
  },
  {
   "cell_type": "code",
   "execution_count": 52,
   "id": "8418a524",
   "metadata": {},
   "outputs": [
    {
     "data": {
      "text/plain": [
       "'Twitter for iPhone'"
      ]
     },
     "execution_count": 52,
     "metadata": {},
     "output_type": "execute_result"
    }
   ],
   "source": [
    "tweet.source"
   ]
  },
  {
   "cell_type": "code",
   "execution_count": 53,
   "id": "942c6495",
   "metadata": {},
   "outputs": [],
   "source": [
    "tweet.place"
   ]
  },
  {
   "cell_type": "code",
   "execution_count": 54,
   "id": "26bed3a4",
   "metadata": {},
   "outputs": [],
   "source": [
    "tweet.coordinates"
   ]
  },
  {
   "cell_type": "code",
   "execution_count": 55,
   "id": "900cf69f",
   "metadata": {},
   "outputs": [
    {
     "data": {
      "text/plain": [
       "{'hashtags': [], 'symbols': [], 'user_mentions': [], 'urls': []}"
      ]
     },
     "execution_count": 55,
     "metadata": {},
     "output_type": "execute_result"
    }
   ],
   "source": [
    "tweet.entities"
   ]
  },
  {
   "cell_type": "code",
   "execution_count": 56,
   "id": "d99e7b9e",
   "metadata": {},
   "outputs": [
    {
     "data": {
      "text/plain": [
       "False"
      ]
     },
     "execution_count": 56,
     "metadata": {},
     "output_type": "execute_result"
    }
   ],
   "source": [
    "tweet.retweeted"
   ]
  },
  {
   "cell_type": "code",
   "execution_count": 57,
   "id": "ee90cd50",
   "metadata": {},
   "outputs": [
    {
     "data": {
      "text/plain": [
       "0"
      ]
     },
     "execution_count": 57,
     "metadata": {},
     "output_type": "execute_result"
    }
   ],
   "source": [
    "tweet.retweet_count"
   ]
  },
  {
   "cell_type": "code",
   "execution_count": 58,
   "id": "a3b9abb9",
   "metadata": {
    "tags": []
   },
   "outputs": [
    {
     "data": {
      "text/plain": [
       "[]"
      ]
     },
     "execution_count": 58,
     "metadata": {},
     "output_type": "execute_result"
    }
   ],
   "source": [
    "tweet.retweets()"
   ]
  },
  {
   "cell_type": "markdown",
   "id": "cd9c13ee",
   "metadata": {},
   "source": [
    "To view the tweet online, we use the following syntax:\n",
    "> twitter.com/*\\<Screen Name\\>*/status/*\\<tweet id\\>*"
   ]
  },
  {
   "cell_type": "code",
   "execution_count": 194,
   "id": "fcd88d64",
   "metadata": {
    "tags": []
   },
   "outputs": [],
   "source": [
    "tweet.user.screen_name, tweet.id"
   ]
  },
  {
   "cell_type": "code",
   "execution_count": 193,
   "id": "503b980d",
   "metadata": {},
   "outputs": [],
   "source": [
    "f\"twitter.com/{tweet.user.screen_name}/status/{tweet.id}\""
   ]
  },
  {
   "cell_type": "markdown",
   "id": "5102216c",
   "metadata": {},
   "source": [
    "List of all Attributes: \n",
    "https://developer.twitter.com/en/docs/twitter-api/v1/data-dictionary/object-model/tweet"
   ]
  },
  {
   "cell_type": "markdown",
   "id": "b1f57d0c",
   "metadata": {},
   "source": [
    "#### Author/User"
   ]
  },
  {
   "cell_type": "code",
   "execution_count": 61,
   "id": "334cc346",
   "metadata": {},
   "outputs": [
    {
     "data": {
      "text/plain": [
       "True"
      ]
     },
     "execution_count": 61,
     "metadata": {},
     "output_type": "execute_result"
    }
   ],
   "source": [
    "tweet.user == tweet.author"
   ]
  },
  {
   "cell_type": "code",
   "execution_count": 192,
   "id": "d3385dae",
   "metadata": {
    "tags": []
   },
   "outputs": [],
   "source": [
    "author = tweet.author\n",
    "author"
   ]
  },
  {
   "cell_type": "code",
   "execution_count": 63,
   "id": "f437cfd0",
   "metadata": {},
   "outputs": [
    {
     "data": {
      "text/plain": [
       "'__class__ __delattr__ __dict__ __dir__ __doc__ __eq__ __format__ __ge__ __getattribute__ __getstate__ __gt__ __hash__ __init__ __init_subclass__ __le__ __lt__ __module__ __ne__ __new__ __reduce__ __reduce_ex__ __repr__ __setattr__ __sizeof__ __str__ __subclasshook__ __weakref__ _api _json contributors_enabled created_at default_profile default_profile_image description entities favourites_count follow follow_request_sent followers followers_count followers_ids following friends friends_count geo_enabled has_extended_profile id id_str is_translation_enabled is_translator lang listed_count lists lists_memberships lists_subscriptions location name notifications parse parse_list profile_background_color profile_background_image_url profile_background_image_url_https profile_background_tile profile_banner_url profile_image_url profile_image_url_https profile_link_color profile_sidebar_border_color profile_sidebar_fill_color profile_text_color profile_use_background_image protected screen_name statuses_count time_zone timeline translator_type unfollow url utc_offset verified withheld_in_countries'"
      ]
     },
     "execution_count": 63,
     "metadata": {},
     "output_type": "execute_result"
    }
   ],
   "source": [
    "\" \".join(dir(author))"
   ]
  },
  {
   "cell_type": "code",
   "execution_count": 191,
   "id": "3686c923",
   "metadata": {},
   "outputs": [],
   "source": [
    "author.screen_name"
   ]
  },
  {
   "cell_type": "code",
   "execution_count": 65,
   "id": "887d519b",
   "metadata": {},
   "outputs": [],
   "source": [
    "author.url"
   ]
  },
  {
   "cell_type": "code",
   "execution_count": 190,
   "id": "dd72ba8c",
   "metadata": {},
   "outputs": [],
   "source": [
    "author.id"
   ]
  },
  {
   "cell_type": "markdown",
   "id": "1377fdcc",
   "metadata": {},
   "source": [
    "**Question:** Who follows this person?"
   ]
  },
  {
   "cell_type": "code",
   "execution_count": 189,
   "id": "ac806dac",
   "metadata": {
    "tags": []
   },
   "outputs": [],
   "source": [
    "\" \".join([str(author_id) for author_id in author.followers_ids()][:10])"
   ]
  },
  {
   "cell_type": "code",
   "execution_count": 188,
   "id": "a5ccded8",
   "metadata": {
    "tags": []
   },
   "outputs": [],
   "source": [
    "[follower.screen_name for follower in author.followers()]"
   ]
  },
  {
   "cell_type": "markdown",
   "id": "13d2c91c",
   "metadata": {},
   "source": [
    "#### Advanced Search/Queries\n",
    "\n",
    "https://developer.twitter.com/en/docs/twitter-api/v1/rules-and-filtering/search-operators"
   ]
  },
  {
   "cell_type": "markdown",
   "id": "74895002",
   "metadata": {},
   "source": [
    "##### No retweets"
   ]
  },
  {
   "cell_type": "markdown",
   "id": "7cd7fd7c",
   "metadata": {},
   "source": [
    "-filter:retweets"
   ]
  },
  {
   "cell_type": "code",
   "execution_count": 71,
   "id": "f57aca67",
   "metadata": {},
   "outputs": [],
   "source": [
    "ten_no_retweets = tweepy.Cursor(api.search, \n",
    "                                q='John Cena -filter:retweets', \n",
    "                                count=10)"
   ]
  },
  {
   "cell_type": "code",
   "execution_count": 72,
   "id": "a23d8708",
   "metadata": {},
   "outputs": [
    {
     "data": {
      "text/plain": [
       "<tweepy.cursor.ItemIterator at 0x7ff379f0b880>"
      ]
     },
     "execution_count": 72,
     "metadata": {},
     "output_type": "execute_result"
    }
   ],
   "source": [
    "items = ten_no_retweets.items(10)\n",
    "items"
   ]
  },
  {
   "cell_type": "code",
   "execution_count": 73,
   "id": "495a2307",
   "metadata": {},
   "outputs": [
    {
     "name": "stdout",
     "output_type": "stream",
     "text": [
      "@ItzChasel @John Cena sígueme aaaa\n",
      "John Cena and Mark Ruffalo??? Damn.\n",
      "Ayo why is Ben picking a fight with JOHN CENA?? https://t.co/g7CJHuhD2q\n",
      "Flat-out disappointing and depressing so many people think John Cena served any form of military service.\n",
      "\n",
      "A little… https://t.co/CmOuG3UmHa\n",
      "The Hulk and John Cena taking a L today. 🤦🏽‍♂️\n",
      "Trending:\n",
      "- John Cena bows to the CCP, apologizes for calling Taiwan a country.\n",
      "- Mark Ruffalo backs off saying Isr… https://t.co/Aw0BwKeGTz\n",
      "On the other hand, John Cena speaks mandarin?\n",
      "@thekinocorner How I view John Cena post apology\n",
      "Why SHOULD he apologise - Taiwan IS a country!\n",
      "BBC News - John Cena: Fast and Furious star sorry over Taiwan remark… https://t.co/jduFXElndh\n",
      "John Cena gets demolished online after profusely apologizing to China for calling Taiwan a 'country' https://t.co/XYyIekx8he\n"
     ]
    }
   ],
   "source": [
    "for tweet in items:\n",
    "    print(tweet.text)"
   ]
  },
  {
   "cell_type": "code",
   "execution_count": null,
   "id": "069ba4d3",
   "metadata": {},
   "outputs": [],
   "source": [
    "type(item)"
   ]
  },
  {
   "cell_type": "code",
   "execution_count": 74,
   "id": "67dcfece",
   "metadata": {},
   "outputs": [
    {
     "ename": "TypeError",
     "evalue": "'Cursor' object is not iterable",
     "output_type": "error",
     "traceback": [
      "\u001b[0;31m---------------------------------------------------------------------------\u001b[0m",
      "\u001b[0;31mTypeError\u001b[0m                                 Traceback (most recent call last)",
      "\u001b[0;32m<ipython-input-74-c2ba9f61f1ae>\u001b[0m in \u001b[0;36m<module>\u001b[0;34m\u001b[0m\n\u001b[1;32m      1\u001b[0m \u001b[0mall_tweets\u001b[0m \u001b[0;34m=\u001b[0m \u001b[0;34m[\u001b[0m\u001b[0;34m]\u001b[0m\u001b[0;34m\u001b[0m\u001b[0;34m\u001b[0m\u001b[0m\n\u001b[0;32m----> 2\u001b[0;31m \u001b[0;32mfor\u001b[0m \u001b[0mtweet\u001b[0m \u001b[0;32min\u001b[0m \u001b[0mten_no_retweets\u001b[0m\u001b[0;34m:\u001b[0m\u001b[0;34m\u001b[0m\u001b[0;34m\u001b[0m\u001b[0m\n\u001b[0m\u001b[1;32m      3\u001b[0m     \u001b[0mall_tweets\u001b[0m\u001b[0;34m.\u001b[0m\u001b[0mappend\u001b[0m\u001b[0;34m(\u001b[0m\u001b[0mtweet\u001b[0m\u001b[0;34m)\u001b[0m\u001b[0;34m\u001b[0m\u001b[0;34m\u001b[0m\u001b[0m\n",
      "\u001b[0;31mTypeError\u001b[0m: 'Cursor' object is not iterable"
     ]
    }
   ],
   "source": [
    "all_tweets = []\n",
    "for tweet in ten_no_retweets:\n",
    "    all_tweets.append(tweet)"
   ]
  },
  {
   "cell_type": "code",
   "execution_count": null,
   "id": "7564fa29",
   "metadata": {
    "tags": []
   },
   "outputs": [],
   "source": [
    "tweet = all_tweets[0]\n"
   ]
  },
  {
   "cell_type": "markdown",
   "id": "eca66def",
   "metadata": {},
   "source": [
    "##### Safe Tweets\n",
    "\n",
    "Tweets marked as potentially sensitive removed.\n",
    "\n",
    "-filter:safe"
   ]
  },
  {
   "cell_type": "code",
   "execution_count": null,
   "id": "aeb78b00",
   "metadata": {},
   "outputs": [],
   "source": [
    "safe_cursor = tweepy.Cursor(api.search, \n",
    "                                q='Barnard College -filter:safe', \n",
    "                                count=10)\n",
    "\n",
    "safe_tweets = safe_cursor.iterator.next()"
   ]
  },
  {
   "cell_type": "code",
   "execution_count": null,
   "id": "8b858830",
   "metadata": {},
   "outputs": [],
   "source": [
    "safe_tweets[0].text"
   ]
  },
  {
   "cell_type": "markdown",
   "id": "ae3a0e31",
   "metadata": {},
   "source": [
    "### Users"
   ]
  },
  {
   "cell_type": "code",
   "execution_count": 187,
   "id": "bc6e7a82",
   "metadata": {
    "tags": []
   },
   "outputs": [],
   "source": [
    "status_cursor = tweepy.Cursor(api.user_timeline, screen_name=\"potus\", count=200,tweet_mode='extended')\n",
    "status_list = status_cursor.iterator.next()\n",
    "status_list"
   ]
  },
  {
   "cell_type": "code",
   "execution_count": 78,
   "id": "e984635c",
   "metadata": {},
   "outputs": [
    {
     "data": {
      "text/plain": [
       "tweepy.models.Status"
      ]
     },
     "execution_count": 78,
     "metadata": {},
     "output_type": "execute_result"
    }
   ],
   "source": [
    "current_tweet = status_list[0]\n",
    "type(current_tweet)"
   ]
  },
  {
   "cell_type": "code",
   "execution_count": 80,
   "id": "113dab72",
   "metadata": {},
   "outputs": [
    {
     "data": {
      "text/plain": [
       "'__class__ __delattr__ __dict__ __dir__ __doc__ __eq__ __format__ __ge__ __getattribute__ __getstate__ __gt__ __hash__ __init__ __init_subclass__ __le__ __lt__ __module__ __ne__ __new__ __reduce__ __reduce_ex__ __repr__ __setattr__ __sizeof__ __str__ __subclasshook__ __weakref__ _api _json author contributors coordinates created_at destroy display_text_range entities extended_entities favorite favorite_count favorited full_text geo id id_str in_reply_to_screen_name in_reply_to_status_id in_reply_to_status_id_str in_reply_to_user_id in_reply_to_user_id_str is_quote_status lang parse parse_list place possibly_sensitive retweet retweet_count retweeted retweets source source_url truncated user'"
      ]
     },
     "execution_count": 80,
     "metadata": {},
     "output_type": "execute_result"
    }
   ],
   "source": [
    "\" \".join(dir(current_tweet))"
   ]
  },
  {
   "cell_type": "code",
   "execution_count": 81,
   "id": "de92c70f",
   "metadata": {},
   "outputs": [
    {
     "data": {
      "text/plain": [
       "'That’s progress. https://t.co/HjQVjKNZ7t'"
      ]
     },
     "execution_count": 81,
     "metadata": {},
     "output_type": "execute_result"
    }
   ],
   "source": [
    "current_tweet.full_text"
   ]
  },
  {
   "cell_type": "code",
   "execution_count": 185,
   "id": "752d03a8",
   "metadata": {
    "tags": []
   },
   "outputs": [],
   "source": [
    "current_tweet.author"
   ]
  },
  {
   "cell_type": "code",
   "execution_count": 184,
   "id": "affbbe76",
   "metadata": {},
   "outputs": [],
   "source": [
    "current_tweet.author.id"
   ]
  },
  {
   "cell_type": "code",
   "execution_count": 84,
   "id": "f0add84e",
   "metadata": {},
   "outputs": [
    {
     "data": {
      "text/plain": [
       "'POTUS'"
      ]
     },
     "execution_count": 84,
     "metadata": {},
     "output_type": "execute_result"
    }
   ],
   "source": [
    "current_tweet.author.screen_name"
   ]
  },
  {
   "cell_type": "code",
   "execution_count": 186,
   "id": "d164be14",
   "metadata": {
    "tags": []
   },
   "outputs": [],
   "source": [
    "user = api.get_user(author.id)\n",
    "user"
   ]
  },
  {
   "cell_type": "code",
   "execution_count": 87,
   "id": "39c6db6f",
   "metadata": {},
   "outputs": [
    {
     "name": "stdout",
     "output_type": "stream",
     "text": [
      "2021-04-16 08:26:46\n"
     ]
    }
   ],
   "source": [
    "print(user.created_at)"
   ]
  },
  {
   "cell_type": "code",
   "execution_count": 183,
   "id": "ee39ae69",
   "metadata": {},
   "outputs": [],
   "source": [
    "user.screen_name"
   ]
  },
  {
   "cell_type": "code",
   "execution_count": 90,
   "id": "c1513262",
   "metadata": {},
   "outputs": [
    {
     "data": {
      "text/plain": [
       "'POTUS'"
      ]
     },
     "execution_count": 90,
     "metadata": {},
     "output_type": "execute_result"
    }
   ],
   "source": [
    "postus_user = api.get_user(current_tweet.author.id)\n",
    "postus_user.screen_name"
   ]
  },
  {
   "cell_type": "code",
   "execution_count": 92,
   "id": "7ee57257",
   "metadata": {},
   "outputs": [
    {
     "name": "stdout",
     "output_type": "stream",
     "text": [
      "2021-01-13 00:37:08\n"
     ]
    }
   ],
   "source": [
    "print(postus_user.created_at)"
   ]
  },
  {
   "cell_type": "code",
   "execution_count": 96,
   "id": "ccd73786",
   "metadata": {
    "tags": []
   },
   "outputs": [
    {
     "data": {
      "text/plain": [
       "'That’s progress. https://t.co/HjQVjKNZ7t'"
      ]
     },
     "execution_count": 96,
     "metadata": {},
     "output_type": "execute_result"
    }
   ],
   "source": [
    "user_timeline = postus_user.timeline()\n",
    "user_timeline[0].text"
   ]
  },
  {
   "cell_type": "code",
   "execution_count": 99,
   "id": "8f79eda3",
   "metadata": {},
   "outputs": [
    {
     "data": {
      "text/plain": [
       "'The White House'"
      ]
     },
     "execution_count": 99,
     "metadata": {},
     "output_type": "execute_result"
    }
   ],
   "source": [
    "postus_most_recent_tweet = user_timeline[0]\n",
    "postus_most_recent_tweet.source"
   ]
  },
  {
   "cell_type": "code",
   "execution_count": 103,
   "id": "6d83611b",
   "metadata": {},
   "outputs": [
    {
     "data": {
      "text/plain": [
       "'photo'"
      ]
     },
     "execution_count": 103,
     "metadata": {},
     "output_type": "execute_result"
    }
   ],
   "source": [
    "postus_most_recent_tweet.entities['media'][0]['type']"
   ]
  },
  {
   "cell_type": "code",
   "execution_count": 105,
   "id": "fdbd059b",
   "metadata": {},
   "outputs": [
    {
     "data": {
      "text/plain": [
       "'http://pbs.twimg.com/media/E2MR-2QXEAEt6BD.jpg'"
      ]
     },
     "execution_count": 105,
     "metadata": {},
     "output_type": "execute_result"
    }
   ],
   "source": [
    "postus_most_recent_tweet.entities['media'][0]['media_url']"
   ]
  },
  {
   "cell_type": "code",
   "execution_count": 106,
   "id": "5d0c27ca",
   "metadata": {},
   "outputs": [
    {
     "name": "stdout",
     "output_type": "stream",
     "text": [
      "--2021-05-25 15:59:52--  https://pbs.twimg.com/media/E2MR-2QXEAEt6BD.jpg\n",
      "Resolving pbs.twimg.com (pbs.twimg.com)... 72.21.91.70, 2606:2800:220:1410:489:141e:20bb:12f6\n",
      "Connecting to pbs.twimg.com (pbs.twimg.com)|72.21.91.70|:443... connected.\n",
      "HTTP request sent, awaiting response... 200 OK\n",
      "Length: 60484 (59K) [image/jpeg]\n",
      "Saving to: ‘E2MR-2QXEAEt6BD.jpg’\n",
      "\n",
      "E2MR-2QXEAEt6BD.jpg 100%[===================>]  59.07K  --.-KB/s    in 0.01s   \n",
      "\n",
      "2021-05-25 15:59:53 (5.53 MB/s) - ‘E2MR-2QXEAEt6BD.jpg’ saved [60484/60484]\n",
      "\n"
     ]
    }
   ],
   "source": [
    "!wget https://pbs.twimg.com/media/E2MR-2QXEAEt6BD.jpg"
   ]
  },
  {
   "cell_type": "code",
   "execution_count": null,
   "id": "650f922c",
   "metadata": {},
   "outputs": [],
   "source": [
    "len(user_timeline)"
   ]
  },
  {
   "cell_type": "code",
   "execution_count": null,
   "id": "8165588a",
   "metadata": {},
   "outputs": [],
   "source": [
    "status_cursor = tweepy.Cursor(api.user_timeline, screen_name=\"billybob\", count=200,tweet_mode='extended')\n",
    "status_list = status_cursor.iterator.next()"
   ]
  },
  {
   "cell_type": "code",
   "execution_count": null,
   "id": "1a1be8d4",
   "metadata": {},
   "outputs": [],
   "source": [
    "len(status_list)"
   ]
  },
  {
   "cell_type": "code",
   "execution_count": null,
   "id": "c0cf0c1c",
   "metadata": {},
   "outputs": [],
   "source": [
    "status_cursor = tweepy.Cursor(api.user_timeline, screen_name=\"potus\", count=200,tweet_mode='extended')\n",
    "status_list = status_cursor.iterator.next()"
   ]
  },
  {
   "cell_type": "code",
   "execution_count": null,
   "id": "3b73d4a6",
   "metadata": {},
   "outputs": [],
   "source": [
    "len(status_list)"
   ]
  },
  {
   "cell_type": "markdown",
   "id": "c5707907",
   "metadata": {},
   "source": [
    "### Trends in a certain location"
   ]
  },
  {
   "cell_type": "code",
   "execution_count": 107,
   "id": "cffbe035",
   "metadata": {},
   "outputs": [
    {
     "data": {
      "text/plain": [
       "4"
      ]
     },
     "execution_count": 107,
     "metadata": {},
     "output_type": "execute_result"
    }
   ],
   "source": [
    "nyc_trends = api.trends_place(id=2459115)\n",
    "len(nyc_trends[0])"
   ]
  },
  {
   "cell_type": "code",
   "execution_count": 108,
   "id": "4e516cc4",
   "metadata": {},
   "outputs": [
    {
     "data": {
      "text/plain": [
       "dict_keys(['trends', 'as_of', 'created_at', 'locations'])"
      ]
     },
     "execution_count": 108,
     "metadata": {},
     "output_type": "execute_result"
    }
   ],
   "source": [
    "nyc_trends[0].keys()"
   ]
  },
  {
   "cell_type": "code",
   "execution_count": 109,
   "id": "f4b777ed",
   "metadata": {},
   "outputs": [
    {
     "data": {
      "text/plain": [
       "50"
      ]
     },
     "execution_count": 109,
     "metadata": {},
     "output_type": "execute_result"
    }
   ],
   "source": [
    "len(nyc_trends[0]['trends'])"
   ]
  },
  {
   "cell_type": "code",
   "execution_count": 118,
   "id": "7d00e6af",
   "metadata": {},
   "outputs": [
    {
     "data": {
      "text/plain": [
       "['OTAs',\n",
       " 'McDavid',\n",
       " 'Oilers',\n",
       " 'Brooks',\n",
       " 'George Floyd',\n",
       " 'John Cena',\n",
       " '#6YearsOfLoveWithSEVENTEEN',\n",
       " 'lorde',\n",
       " 'Taiwan',\n",
       " '#STREAMINGBUTTER',\n",
       " 'Edgar Wright',\n",
       " '#NOTAPENNY',\n",
       " '#NationalWineDay',\n",
       " 'Klarna',\n",
       " '#tuesdaymotivations',\n",
       " 'Holocaust',\n",
       " 'sehun',\n",
       " 'Richard Marx',\n",
       " 'Mark Ruffalo',\n",
       " 'Johnny Knoxville',\n",
       " 'Durk',\n",
       " 'Sputnik',\n",
       " 'Jason Kidd',\n",
       " 'Jaylon Smith',\n",
       " 'Geneva',\n",
       " 'Barcelona',\n",
       " 'FIVE DEGREES UNTIL FREEZE',\n",
       " 'The Athletic',\n",
       " 'yixing',\n",
       " 'Black Lotus',\n",
       " 'Cenk',\n",
       " 'Virtua Fighter',\n",
       " 'Bryson',\n",
       " 'Happy Birthday Alex',\n",
       " 'Kerry Kittles',\n",
       " 'Taco Tuesday',\n",
       " 'Derek Chauvin',\n",
       " 'HAPPY BIRTHDAY YEJI',\n",
       " 'Affirm',\n",
       " 'QuadPay',\n",
       " 'Romo',\n",
       " 'jordan scott',\n",
       " 'Pride',\n",
       " 'Baby Driver',\n",
       " 'everglow',\n",
       " 'Gunpowder Milkshake',\n",
       " 'State of Play',\n",
       " 'Democrat Party',\n",
       " 'CHARMING YEJI DAY',\n",
       " 'Garland']"
      ]
     },
     "execution_count": 118,
     "metadata": {},
     "output_type": "execute_result"
    }
   ],
   "source": [
    "[trend['name'] for trend in nyc_trends[0]['trends']]"
   ]
  },
  {
   "cell_type": "code",
   "execution_count": 182,
   "id": "714034ef",
   "metadata": {
    "tags": []
   },
   "outputs": [],
   "source": [
    "US_trend_id = 23424977\n",
    "us_trends = api.trends_place(id=US_trend_id)\n",
    "us_trends"
   ]
  },
  {
   "cell_type": "code",
   "execution_count": 177,
   "id": "e011e0a3",
   "metadata": {
    "tags": []
   },
   "outputs": [],
   "source": [
    "trend['name'] for trend in us_trends[0]['trends']]"
   ]
  },
  {
   "cell_type": "code",
   "execution_count": 176,
   "id": "e7f92bfc",
   "metadata": {
    "tags": []
   },
   "outputs": [],
   "source": [
    "us_trends[0]['trends']"
   ]
  },
  {
   "cell_type": "markdown",
   "id": "eb8dadbf",
   "metadata": {},
   "source": [
    "## Tweets from more than 7 days ago\n",
    "\n",
    ">  Note that the standard search API only serves data from the last week. If you need historical data older than seven days, check out the premium and enterprise search APIs.\n",
    "\n",
    "So we will often rely on a dataset of existing IDs.\n",
    "\n",
    "**Terms and Conditions**\n",
    "\n",
    ">The best place to get Twitter Content is directly from Twitter. Consequently, we restrict the redistribution of Twitter Content to third parties.  If you provide Twitter Content to third parties, including downloadable datasets or via an API, you may only distribute Tweet IDs, Direct Message IDs, and/or User IDs (except as described below). We also grant special permissions to academic researchers sharing Tweet IDs and User IDs for non-commercial research purposes.\n",
    "\n",
    "> In total, you may not distribute more than 1,500,000 Tweet IDs to any entity (inclusive of multiple individuals associated with a single entity) within any 30 day period unless you have received written permission from Twitter. In addition, all developers may provide up to 50,000 public Tweets Objects and/or User Objects to each person who uses your service on a daily basis if this is done via non-automated means (e.g., download of spreadsheets or PDFs).\n",
    "\n",
    "> Academic researchers are permitted to distribute an unlimited number of Tweet IDs and/or User IDs if they are doing so on behalf of an academic institution and for the sole purpose of non-commercial research. For example, you are permitted to share an unlimited number of Tweet IDs for the purpose of enabling peer review or validation of your research. If you have questions about whether your use case qualifies under this category please submit a request via the API Policy Support form.\n",
    "\n",
    "**TLDR:** Don't share tweets, only TweetIDs\n",
    "\n",
    "https://developer.twitter.com/en/developer-terms/agreement-and-policy\n",
    "\n",
    "\n",
    "### Academic Access\n",
    "Twitter recently created an academic track for accessing the API that grants access to the entire API:\n",
    "https://developer.twitter.com/en/solutions/academic-research/products-for-researchers. It grants academics access to Twitter data going back to 2006\n",
    "\n",
    "Twitter [blog post](https://blog.twitter.com/developer/en_us/topics/tools/2021/enabling-the-future-of-academic-research-with-the-twitter-api.html)\n",
    "\n",
    "Here is an example of Tweet Ids of Tweets that are related to COVID-19: https://github.com/echen102/COVID-19-TweetIDs"
   ]
  },
  {
   "cell_type": "markdown",
   "id": "833b7a21",
   "metadata": {},
   "source": [
    "### Finding Tweets by ID"
   ]
  },
  {
   "cell_type": "markdown",
   "id": "83ef1c96",
   "metadata": {
    "tags": []
   },
   "source": [
    "`api.get_status()` ([documentation](https://docs.tweepy.org/en/latest/api.html?highlight=get_status#tweepy.API.get_status)) allows us to get a tweet by the tweet's id"
   ]
  },
  {
   "cell_type": "code",
   "execution_count": 181,
   "id": "909038d5",
   "metadata": {
    "tags": []
   },
   "outputs": [],
   "source": [
    "tweet = api.get_status(1256013432622481408) # this ID is from the COVID-19-TweetIDs dataset\n",
    "tweet"
   ]
  },
  {
   "cell_type": "code",
   "execution_count": null,
   "id": "0344e404",
   "metadata": {},
   "outputs": [],
   "source": [
    "tweet.created_at"
   ]
  },
  {
   "cell_type": "code",
   "execution_count": null,
   "id": "fd4bdb39",
   "metadata": {},
   "outputs": [],
   "source": [
    "f\"twitter.com/{tweet.user.screen_name}/status/{tweet.id}\""
   ]
  },
  {
   "cell_type": "markdown",
   "id": "853f944b",
   "metadata": {},
   "source": [
    "## Checking rate limit status"
   ]
  },
  {
   "cell_type": "code",
   "execution_count": 165,
   "id": "d96eca6c",
   "metadata": {
    "tags": []
   },
   "outputs": [
    {
     "data": {
      "text/plain": [
       "dict_keys(['rate_limit_context', 'resources'])"
      ]
     },
     "execution_count": 165,
     "metadata": {},
     "output_type": "execute_result"
    }
   ],
   "source": [
    "status_dict = api.rate_limit_status()\n",
    "status_dict.keys()\n",
    "#status_dict"
   ]
  },
  {
   "cell_type": "markdown",
   "id": "10c9a4e8",
   "metadata": {},
   "source": [
    "## Analyze Tweets"
   ]
  },
  {
   "cell_type": "code",
   "execution_count": 167,
   "id": "02c2dda5",
   "metadata": {},
   "outputs": [
    {
     "name": "stdout",
     "output_type": "stream",
     "text": [
      "    4008   407224 25900848 data/fetched_tweets.txt\n"
     ]
    }
   ],
   "source": [
    "!wc data/fetched_tweets.txt"
   ]
  },
  {
   "cell_type": "code",
   "execution_count": null,
   "id": "1bc80700",
   "metadata": {},
   "outputs": [],
   "source": [
    "[item for item in dir() if not item.startswith(\"_\")]"
   ]
  },
  {
   "cell_type": "code",
   "execution_count": 137,
   "id": "57b46254",
   "metadata": {},
   "outputs": [
    {
     "data": {
      "text/plain": [
       "False"
      ]
     },
     "execution_count": 137,
     "metadata": {},
     "output_type": "execute_result"
    }
   ],
   "source": [
    "stream2file.disconnect()\n",
    "stream2file.running"
   ]
  },
  {
   "cell_type": "code",
   "execution_count": 138,
   "id": "5bdc7d9e",
   "metadata": {},
   "outputs": [],
   "source": [
    "import pandas as pd"
   ]
  },
  {
   "cell_type": "code",
   "execution_count": 168,
   "id": "b2ba843f",
   "metadata": {},
   "outputs": [],
   "source": [
    "df = pd.read_json(\"data/fetched_tweets.txt\", lines=True)\n",
    "#df"
   ]
  },
  {
   "cell_type": "code",
   "execution_count": 142,
   "id": "33cec330",
   "metadata": {},
   "outputs": [
    {
     "data": {
      "text/plain": [
       "Index(['created_at', 'id', 'id_str', 'text', 'source', 'truncated',\n",
       "       'in_reply_to_status_id', 'in_reply_to_status_id_str',\n",
       "       'in_reply_to_user_id', 'in_reply_to_user_id_str',\n",
       "       'in_reply_to_screen_name', 'user', 'geo', 'coordinates', 'place',\n",
       "       'contributors', 'retweeted_status', 'is_quote_status', 'quote_count',\n",
       "       'reply_count', 'retweet_count', 'favorite_count', 'entities',\n",
       "       'favorited', 'retweeted', 'filter_level', 'lang', 'timestamp_ms',\n",
       "       'display_text_range', 'quoted_status_id', 'quoted_status_id_str',\n",
       "       'quoted_status', 'quoted_status_permalink', 'possibly_sensitive',\n",
       "       'extended_entities', 'extended_tweet'],\n",
       "      dtype='object')"
      ]
     },
     "execution_count": 142,
     "metadata": {},
     "output_type": "execute_result"
    }
   ],
   "source": [
    "df.keys()"
   ]
  },
  {
   "cell_type": "code",
   "execution_count": 141,
   "id": "8fb72cfc",
   "metadata": {},
   "outputs": [
    {
     "data": {
      "text/plain": [
       "Timestamp('2021-05-25 15:37:36+0000', tz='UTC')"
      ]
     },
     "execution_count": 141,
     "metadata": {},
     "output_type": "execute_result"
    }
   ],
   "source": [
    "min(df['created_at'])"
   ]
  },
  {
   "cell_type": "code",
   "execution_count": null,
   "id": "e6a38754",
   "metadata": {},
   "outputs": [],
   "source": [
    "df.shape"
   ]
  },
  {
   "cell_type": "code",
   "execution_count": 178,
   "id": "f538ef18",
   "metadata": {},
   "outputs": [],
   "source": [
    "df['retweeted_status']"
   ]
  },
  {
   "cell_type": "code",
   "execution_count": 169,
   "id": "1453a8f5",
   "metadata": {},
   "outputs": [],
   "source": [
    "df.iloc[0].text"
   ]
  },
  {
   "cell_type": "code",
   "execution_count": 146,
   "id": "1ea2b2a3",
   "metadata": {},
   "outputs": [
    {
     "data": {
      "text/plain": [
       "False    2577\n",
       "True     1431\n",
       "Name: retweeted_status, dtype: int64"
      ]
     },
     "execution_count": 146,
     "metadata": {},
     "output_type": "execute_result"
    }
   ],
   "source": [
    "df['retweeted_status'].isna().value_counts()"
   ]
  },
  {
   "cell_type": "code",
   "execution_count": 147,
   "id": "024775fa",
   "metadata": {},
   "outputs": [
    {
     "data": {
      "text/plain": [
       "(1431, 36)"
      ]
     },
     "execution_count": 147,
     "metadata": {},
     "output_type": "execute_result"
    }
   ],
   "source": [
    "df = df[df['retweeted_status'].isna()]\n",
    "df.shape"
   ]
  },
  {
   "cell_type": "code",
   "execution_count": null,
   "id": "99b99347",
   "metadata": {},
   "outputs": [],
   "source": [
    "df['text'].shape"
   ]
  },
  {
   "cell_type": "markdown",
   "id": "48bfbdea",
   "metadata": {},
   "source": [
    "### Tokenize Tweets"
   ]
  },
  {
   "cell_type": "code",
   "execution_count": 170,
   "id": "3f409a9d",
   "metadata": {},
   "outputs": [],
   "source": [
    "df['text'].iloc[0]"
   ]
  },
  {
   "cell_type": "code",
   "execution_count": 151,
   "id": "f23f76ff",
   "metadata": {},
   "outputs": [],
   "source": [
    "import nltk"
   ]
  },
  {
   "cell_type": "code",
   "execution_count": 171,
   "id": "243fd999",
   "metadata": {},
   "outputs": [],
   "source": [
    "nltk.word_tokenize(df['text'].iloc[0])"
   ]
  },
  {
   "cell_type": "code",
   "execution_count": null,
   "id": "b981b179",
   "metadata": {},
   "outputs": [],
   "source": [
    "nltk.word_tokenize(df['text'].iloc[1])"
   ]
  },
  {
   "cell_type": "code",
   "execution_count": 172,
   "id": "e4b5fb88",
   "metadata": {},
   "outputs": [],
   "source": [
    "twitter_tokenizer = nltk.tokenize.TweetTokenizer()\n",
    "twitter_tokenizer.tokenize(df['text'].iloc[0])"
   ]
  },
  {
   "cell_type": "code",
   "execution_count": null,
   "id": "07c25c8b",
   "metadata": {},
   "outputs": [],
   "source": [
    "twitter_tokenizer.strip_handles = True\n",
    "twitter_tokenizer.tokenize(df['text'].iloc[1])"
   ]
  },
  {
   "cell_type": "code",
   "execution_count": null,
   "id": "2050e6e2",
   "metadata": {},
   "outputs": [],
   "source": [
    "import nltk\n"
   ]
  },
  {
   "cell_type": "code",
   "execution_count": null,
   "id": "8b6c574a",
   "metadata": {},
   "outputs": [],
   "source": [
    "nltk.FreqDist(nltk.word_tokenize(\" \".join(df['text']))"
   ]
  },
  {
   "cell_type": "code",
   "execution_count": null,
   "id": "0f550b1f",
   "metadata": {},
   "outputs": [],
   "source": [
    "nltk.FreqDist(\" \".join([\" \".join(sent) for sent in df['text'].str.lower().apply(nltk.word_tokenize)]).split())"
   ]
  },
  {
   "cell_type": "code",
   "execution_count": null,
   "id": "357272de",
   "metadata": {},
   "outputs": [],
   "source": [
    "df['text_tokenize'] = df['text'].apply(twitter_tokenizer)\n",
    "df['text_tokenize']"
   ]
  },
  {
   "cell_type": "code",
   "execution_count": 160,
   "id": "369f5a9a",
   "metadata": {},
   "outputs": [],
   "source": [
    "df['entities'].iloc[0]['user_mentions']\n",
    "\n",
    "\n",
    "mentioned_screennames = []\n",
    "\n",
    "for entities in df['entities']:\n",
    "    if 'user_mentions' in entities:\n",
    "        for entity in entities['user_mentions']:\n",
    "            mentioned_screennames.append(entity['screen_name'])"
   ]
  },
  {
   "cell_type": "code",
   "execution_count": 163,
   "id": "23647ac3",
   "metadata": {},
   "outputs": [
    {
     "data": {
      "text/plain": [
       "FreqDist({'CGasparino': 50, 'TradesTrey': 49, 'themotleyfool': 43, 'KoolaidDont': 23, 'RichLightShed': 20, 'turksudecik': 19, 'matt_kohrs': 18, 'videoyolla': 18, 'CEOAdam': 15, 'JackPosobiec': 12, ...})"
      ]
     },
     "execution_count": 163,
     "metadata": {},
     "output_type": "execute_result"
    }
   ],
   "source": [
    "nltk.FreqDist(mentioned_screennames)"
   ]
  },
  {
   "cell_type": "code",
   "execution_count": 173,
   "id": "cc0b9421",
   "metadata": {},
   "outputs": [],
   "source": [
    "df['text']"
   ]
  }
 ],
 "metadata": {
  "kernelspec": {
   "display_name": "Python 3",
   "language": "python",
   "name": "python3"
  },
  "language_info": {
   "codemirror_mode": {
    "name": "ipython",
    "version": 3
   },
   "file_extension": ".py",
   "mimetype": "text/x-python",
   "name": "python",
   "nbconvert_exporter": "python",
   "pygments_lexer": "ipython3",
   "version": "3.8.8"
  }
 },
 "nbformat": 4,
 "nbformat_minor": 5
}
