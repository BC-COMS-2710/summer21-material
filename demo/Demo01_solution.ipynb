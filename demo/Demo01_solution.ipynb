{
 "cells": [
  {
   "cell_type": "markdown",
   "id": "3781fbe1",
   "metadata": {},
   "source": [
    "# Demo 01 - JupyterLab Overview & Bash"
   ]
  },
  {
   "cell_type": "code",
   "execution_count": 1,
   "id": "941cf2fa",
   "metadata": {},
   "outputs": [
    {
     "data": {
      "text/plain": [
       "'My name is Adam'"
      ]
     },
     "execution_count": 1,
     "metadata": {},
     "output_type": "execute_result"
    }
   ],
   "source": [
    "variable_one = \"My name is Adam\"\n",
    "variable_one"
   ]
  },
  {
   "cell_type": "markdown",
   "id": "9ba23fa5",
   "metadata": {},
   "source": [
    "This is a markdown cell\n",
    "\n",
    "# Header 1\n",
    "\n",
    "## Header 2"
   ]
  },
  {
   "cell_type": "code",
   "execution_count": null,
   "id": "e6218141",
   "metadata": {},
   "outputs": [],
   "source": []
  },
  {
   "cell_type": "markdown",
   "id": "6564bb34",
   "metadata": {},
   "source": [
    "## JupyterLab\n",
    "\n",
    "- file structure\n",
    "- Contextual Help\n",
    "- References\n",
    "- Markdown vs Code Cells"
   ]
  },
  {
   "cell_type": "code",
   "execution_count": null,
   "id": "d52bcab2",
   "metadata": {},
   "outputs": [],
   "source": []
  },
  {
   "cell_type": "markdown",
   "id": "4875e35a",
   "metadata": {},
   "source": [
    "## Bash\n",
    "\n",
    "- Navigation\n",
    "    - `ls`\n",
    "    - `pwd`\n",
    "    - `cd`\n",
    "    "
   ]
  },
  {
   "cell_type": "markdown",
   "id": "47189991",
   "metadata": {},
   "source": [
    "- Files\n",
    "    - `wget`\n",
    "       - [Project GutenBerg](https://www.gutenberg.org/)\n",
    "       - `mv` for rename\n",
    "    - `wc`\n",
    "    - `cat`\n",
    "    - `head`\n",
    "    - `tail`\n",
    "    - `grep`\n",
    "        - `color`"
   ]
  },
  {
   "cell_type": "markdown",
   "id": "af9c1a1e",
   "metadata": {},
   "source": [
    "## Download Midnight Summer's Dream"
   ]
  },
  {
   "cell_type": "code",
   "execution_count": 2,
   "id": "36e0b4f8",
   "metadata": {},
   "outputs": [
    {
     "name": "stdout",
     "output_type": "stream",
     "text": [
      "--2021-05-03 16:15:52--  https://www.gutenberg.org/ebooks/1778.txt.utf-8\n",
      "Resolving www.gutenberg.org (www.gutenberg.org)... 152.19.134.47, 2610:28:3090:3000:0:bad:cafe:47\n",
      "Connecting to www.gutenberg.org (www.gutenberg.org)|152.19.134.47|:443... connected.\n",
      "HTTP request sent, awaiting response... 302 Found\n",
      "Location: https://www.gutenberg.org/cache/epub/1778/pg1778.txt [following]\n",
      "--2021-05-03 16:15:56--  https://www.gutenberg.org/cache/epub/1778/pg1778.txt\n",
      "Reusing existing connection to www.gutenberg.org:443.\n",
      "HTTP request sent, awaiting response... 200 OK\n",
      "Length: 121627 (119K) [text/plain]\n",
      "Saving to: ‘1778.txt.utf-8’\n",
      "\n",
      "1778.txt.utf-8      100%[===================>] 118.78K  --.-KB/s    in 0.1s    \n",
      "\n",
      "2021-05-03 16:15:56 (1.20 MB/s) - ‘1778.txt.utf-8’ saved [121627/121627]\n",
      "\n"
     ]
    }
   ],
   "source": [
    "!wget https://www.gutenberg.org/ebooks/1778.txt.utf-8  "
   ]
  },
  {
   "cell_type": "markdown",
   "id": "7c1e0c66",
   "metadata": {},
   "source": [
    "## Move Midngith Summer's Dream to the `data/` directory (folder) and rename the file"
   ]
  },
  {
   "cell_type": "code",
   "execution_count": null,
   "id": "a0bc7760",
   "metadata": {},
   "outputs": [],
   "source": [
    "!mv 1778.txt.utf-8  data/midsummer-nights.txt "
   ]
  },
  {
   "cell_type": "markdown",
   "id": "ed27a174",
   "metadata": {},
   "source": [
    "## Print out the first 100 lines of midnight summer dream's"
   ]
  },
  {
   "cell_type": "code",
   "execution_count": 3,
   "id": "16fb6d86",
   "metadata": {},
   "outputs": [
    {
     "name": "stdout",
     "output_type": "stream",
     "text": [
      "﻿\n",
      "\n",
      "*******************************************************************\n",
      "THIS EBOOK WAS ONE OF PROJECT GUTENBERG'S EARLY FILES PRODUCED AT A\n",
      "TIME WHEN PROOFING METHODS AND TOOLS WERE NOT WELL DEVELOPED. THERE\n",
      "IS AN IMPROVED EDITION OF THIS TITLE WHICH MAY BE VIEWED AS EBOOK\n",
      "(#1514) at https://www.gutenberg.org/ebooks/1514\n",
      "*******************************************************************\n",
      "\n",
      "\n",
      "This Etext file is presented by Project Gutenberg, in\n",
      "cooperation with World Library, Inc., from their Library of the\n",
      "Future and Shakespeare CDROMS.  Project Gutenberg often releases\n",
      "Etexts that are NOT placed in the Public Domain!!\n",
      "\n",
      "*This Etext has certain copyright implications you should read!*\n",
      "\n",
      "<<THIS ELECTRONIC VERSION OF THE COMPLETE WORKS OF WILLIAM\n",
      "SHAKESPEARE IS COPYRIGHT 1990-1993 BY WORLD LIBRARY, INC., AND IS\n",
      "PROVIDED BY PROJECT GUTENBERG WITH PERMISSION.  ELECTRONIC AND\n",
      "MACHINE READABLE COPIES MAY BE DISTRIBUTED SO LONG AS SUCH COPIES\n",
      "(1) ARE FOR YOUR OR OTHERS PERSONAL USE ONLY, AND (2) ARE NOT\n",
      "DISTRIBUTED OR USED COMMERCIALLY.  PROHIBITED COMMERCIAL\n",
      "DISTRIBUTION INCLUDES BY ANY SERVICE THAT CHARGES FOR DOWNLOAD\n",
      "TIME OR FOR MEMBERSHIP.>>\n",
      "\n",
      "*Project Gutenberg is proud to cooperate with The World Library*\n",
      "in the presentation of The Complete Works of William Shakespeare\n",
      "for your reading for education and entertainment.  HOWEVER, THIS\n",
      "IS NEITHER SHAREWARE NOR PUBLIC DOMAIN. . .AND UNDER THE LIBRARY\n",
      "OF THE FUTURE CONDITIONS OF THIS PRESENTATION. . .NO CHARGES MAY\n",
      "BE MADE FOR *ANY* ACCESS TO THIS MATERIAL.  YOU ARE ENCOURAGED!!\n",
      "TO GIVE IT AWAY TO ANYONE YOU LIKE, BUT NO CHARGES ARE ALLOWED!!\n",
      "\n",
      "\n",
      "**Welcome To The World of Free Plain Vanilla Electronic Texts**\n",
      "\n",
      "**Etexts Readable By Both Humans and By Computers, Since 1971**\n",
      "\n",
      "*These Etexts Prepared By Hundreds of Volunteers and Donations*\n",
      "\n",
      "Information on contacting Project Gutenberg to get Etexts, and\n",
      "further information is included below.  We need your donations.\n",
      "\n",
      "\n",
      "The Complete Works of William Shakespeare\n",
      "A Midsummer Night's Dream\n",
      "\n",
      "June, 1999 [Etext #1778]\n",
      "[Date last updated: Aug 5, 2005]\n",
      "\n",
      "\n",
      "The Library of the Future Complete Works of William Shakespeare\n",
      "Library of the Future is a TradeMark (TM) of World Library Inc.\n",
      "******This file should be named 1778.txt or 1778.zip*****\n",
      "\n",
      "\n",
      "The official release date of all Project Gutenberg Etexts is at\n",
      "Midnight, Central Time, of the last day of the stated month.  A\n",
      "preliminary version may often be posted for suggestion, comment\n",
      "and editing by those who wish to do so.  To be sure you have an\n",
      "up to date first edition [xxxxx10x.xxx] please check file sizes\n",
      "in the first week of the next month.\n",
      "\n",
      "\n",
      "Information about Project Gutenberg (one page)\n",
      "\n",
      "We produce about two million dollars for each hour we work.  The\n",
      "fifty hours is one conservative estimate for how long it we take\n",
      "to get any etext selected, entered, proofread, edited, copyright\n",
      "searched and analyzed, the copyright letters written, etc.  This\n",
      "projected audience is one hundred million readers.  If our value\n",
      "per text is nominally estimated at one dollar, then we produce 2\n",
      "million dollars per hour this year we, will have to do four text\n",
      "files per month:  thus upping our productivity from one million.\n",
      "The Goal of Project Gutenberg is to Give Away One Trillion Etext\n",
      "Files by the December 31, 2001.  [10,000 x 100,000,000=Trillion]\n",
      "This is ten thousand titles each to one hundred million readers,\n",
      "which is 10% of the expected number of computer users by the end\n",
      "of the year 2001.\n",
      "\n",
      "We need your donations more than ever!\n",
      "\n",
      "All donations should be made to \"Project Gutenberg/CMU\", and are\n",
      "tax deductible to the extent allowable by law (\"CMU\" is Carnegie\n",
      "Mellon University).\n",
      "\n",
      "Please mail to:\n",
      "\n",
      "Project Gutenberg\n",
      "P. O. Box  2782\n",
      "Champaign, IL 61825\n",
      "\n",
      "You can visit our web site at promo.net for complete information\n",
      "about Project Gutenberg.\n",
      "\n",
      "When all other else fails try our Executive Director:\n",
      "dircompg@pobox.com or hart@pobox.com\n",
      "\n",
      "******\n"
     ]
    }
   ],
   "source": [
    "!head -n 100 data/midsummer-nights.txt "
   ]
  },
  {
   "cell_type": "code",
   "execution_count": null,
   "id": "c5abeed3",
   "metadata": {},
   "outputs": [],
   "source": []
  }
 ],
 "metadata": {
  "kernelspec": {
   "display_name": "Python 3",
   "language": "python",
   "name": "python3"
  },
  "language_info": {
   "codemirror_mode": {
    "name": "ipython",
    "version": 3
   },
   "file_extension": ".py",
   "mimetype": "text/x-python",
   "name": "python",
   "nbconvert_exporter": "python",
   "pygments_lexer": "ipython3",
   "version": "3.8.8"
  }
 },
 "nbformat": 4,
 "nbformat_minor": 5
}
