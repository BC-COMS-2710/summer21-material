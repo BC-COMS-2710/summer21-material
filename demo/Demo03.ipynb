{
 "cells": [
  {
   "cell_type": "markdown",
   "id": "82ec734c",
   "metadata": {},
   "source": [
    "# Demo 03 - Numpy and Pandas"
   ]
  },
  {
   "cell_type": "code",
   "execution_count": null,
   "id": "c41c5156",
   "metadata": {},
   "outputs": [],
   "source": [
    "import pandas as pd\n",
    "import numpy as np\n",
    "import time\n",
    "import random"
   ]
  },
  {
   "cell_type": "markdown",
   "id": "8ff4ca1f",
   "metadata": {},
   "source": [
    "## List Compression"
   ]
  },
  {
   "cell_type": "code",
   "execution_count": null,
   "id": "7cdd5809",
   "metadata": {},
   "outputs": [],
   "source": [
    "fruits = [\"apple\", \"banana\", \"cherry\", \"kiwi\", \"mango\"]\n",
    "newlist = []\n",
    "\n",
    "# Write a for loop for adding fruits that contian the letter 'a' to newlist \n"
   ]
  },
  {
   "cell_type": "code",
   "execution_count": null,
   "id": "cd786285",
   "metadata": {},
   "outputs": [],
   "source": [
    "# Write a one liner\n",
    "\n"
   ]
  },
  {
   "cell_type": "markdown",
   "id": "2961e31f",
   "metadata": {},
   "source": [
    "More examples https://www.w3schools.com/python/python_lists_comprehension.asp"
   ]
  },
  {
   "cell_type": "markdown",
   "id": "f13361a4",
   "metadata": {},
   "source": [
    "(slides)\n",
    "\n",
    "## Array vs List"
   ]
  },
  {
   "cell_type": "markdown",
   "id": "2fe65816",
   "metadata": {},
   "source": [
    "### Initalizing array"
   ]
  },
  {
   "cell_type": "code",
   "execution_count": null,
   "id": "fb0bb989",
   "metadata": {},
   "outputs": [],
   "source": [
    "array = np.array([1,2,3])\n",
    "array"
   ]
  },
  {
   "cell_type": "code",
   "execution_count": null,
   "id": "3461ebbb",
   "metadata": {},
   "outputs": [],
   "source": [
    "evenly_spaced_array = np.linspace(0, 9, 10)\n",
    "evenly_spaced_array"
   ]
  },
  {
   "cell_type": "code",
   "execution_count": null,
   "id": "cd271116",
   "metadata": {},
   "outputs": [],
   "source": [
    "np.zeros(10)"
   ]
  },
  {
   "cell_type": "code",
   "execution_count": null,
   "id": "3dd7fe61",
   "metadata": {},
   "outputs": [],
   "source": [
    "np.zeros((5, 2)) # 5 by 2 "
   ]
  },
  {
   "cell_type": "code",
   "execution_count": null,
   "id": "780e183b",
   "metadata": {},
   "outputs": [],
   "source": [
    "np.ones(5)"
   ]
  },
  {
   "cell_type": "code",
   "execution_count": null,
   "id": "ef43839e",
   "metadata": {},
   "outputs": [],
   "source": [
    "np.ones((5, 5)) # 5 by 5 of all ones"
   ]
  },
  {
   "cell_type": "code",
   "execution_count": null,
   "id": "da2e195d",
   "metadata": {},
   "outputs": [],
   "source": [
    "np.full(5, 'a') "
   ]
  },
  {
   "cell_type": "markdown",
   "id": "f25076f4",
   "metadata": {},
   "source": [
    "**Question:** What is different about what is printed out compared to the previous arrays?"
   ]
  },
  {
   "cell_type": "code",
   "execution_count": null,
   "id": "c8fe0df3",
   "metadata": {},
   "outputs": [],
   "source": [
    "np.full((3, 3), 4)"
   ]
  },
  {
   "cell_type": "code",
   "execution_count": null,
   "id": "44f47eb8",
   "metadata": {},
   "outputs": [],
   "source": [
    "np.empty(10)"
   ]
  },
  {
   "cell_type": "code",
   "execution_count": null,
   "id": "466161aa",
   "metadata": {},
   "outputs": [],
   "source": [
    "np.arange(10, 20)"
   ]
  },
  {
   "cell_type": "code",
   "execution_count": null,
   "id": "2eef71c4",
   "metadata": {},
   "outputs": [],
   "source": [
    "np.arange(start=10, stop=20)"
   ]
  },
  {
   "cell_type": "code",
   "execution_count": null,
   "id": "d2eba6f3",
   "metadata": {},
   "outputs": [],
   "source": [
    "np.arange(stop=20, start=10)"
   ]
  },
  {
   "cell_type": "markdown",
   "id": "ea4f0547",
   "metadata": {},
   "source": [
    "(back to slides)\n",
    "\n",
    "### Element-wise operations"
   ]
  },
  {
   "cell_type": "code",
   "execution_count": null,
   "id": "a594e303",
   "metadata": {},
   "outputs": [],
   "source": [
    "random_array = np.random.rand(5)\n",
    "random_array"
   ]
  },
  {
   "cell_type": "code",
   "execution_count": null,
   "id": "9f744163",
   "metadata": {},
   "outputs": [],
   "source": [
    "random_array * 5"
   ]
  },
  {
   "cell_type": "code",
   "execution_count": null,
   "id": "4e333967",
   "metadata": {},
   "outputs": [],
   "source": [
    "random_array / 5"
   ]
  },
  {
   "cell_type": "code",
   "execution_count": null,
   "id": "18f86169",
   "metadata": {},
   "outputs": [],
   "source": [
    "random_array + 5"
   ]
  },
  {
   "cell_type": "code",
   "execution_count": null,
   "id": "6fced42d",
   "metadata": {},
   "outputs": [],
   "source": [
    "random_array *= 5\n",
    "random_array"
   ]
  },
  {
   "cell_type": "code",
   "execution_count": null,
   "id": "26ecef2e",
   "metadata": {},
   "outputs": [],
   "source": [
    "random_array > 1"
   ]
  },
  {
   "cell_type": "code",
   "execution_count": null,
   "id": "891cde94",
   "metadata": {},
   "outputs": [],
   "source": [
    "random_array == 1"
   ]
  },
  {
   "cell_type": "markdown",
   "id": "b8fa6513",
   "metadata": {},
   "source": [
    "#### Homogenous types"
   ]
  },
  {
   "cell_type": "code",
   "execution_count": null,
   "id": "01329b5f",
   "metadata": {},
   "outputs": [],
   "source": [
    "np.array([1,2,3]).dtype"
   ]
  },
  {
   "cell_type": "code",
   "execution_count": null,
   "id": "4697292b",
   "metadata": {},
   "outputs": [],
   "source": [
    "np.array([1,2,3])[0]"
   ]
  },
  {
   "cell_type": "code",
   "execution_count": null,
   "id": "2678b71c",
   "metadata": {},
   "outputs": [],
   "source": [
    "np.array([1, \"two\", 3]).dtype"
   ]
  },
  {
   "cell_type": "code",
   "execution_count": null,
   "id": "37d619c0",
   "metadata": {},
   "outputs": [],
   "source": [
    "np.array([1, \"two\", 3])[0]"
   ]
  },
  {
   "cell_type": "code",
   "execution_count": null,
   "id": "580e4012",
   "metadata": {},
   "outputs": [],
   "source": [
    "type(np.array([1, \"two\", 3])[0])"
   ]
  },
  {
   "cell_type": "markdown",
   "id": "fee19cb0",
   "metadata": {},
   "source": [
    "#### Adding Arrays vs Lists"
   ]
  },
  {
   "cell_type": "code",
   "execution_count": null,
   "id": "0376b9aa",
   "metadata": {},
   "outputs": [],
   "source": [
    "list_one = [num for num in range(10)]\n",
    "list_two = [num for num in range(10, 20)]\n",
    "\n",
    "list_one, list_two "
   ]
  },
  {
   "cell_type": "code",
   "execution_count": null,
   "id": "8418bb97",
   "metadata": {},
   "outputs": [],
   "source": [
    "list_one + list_two"
   ]
  },
  {
   "cell_type": "code",
   "execution_count": null,
   "id": "13294174",
   "metadata": {},
   "outputs": [],
   "source": [
    "array1 = np.arange(10)\n",
    "array2 = np.arange(10, 20)\n",
    "\n",
    "array1, array2"
   ]
  },
  {
   "cell_type": "code",
   "execution_count": null,
   "id": "5423fd85",
   "metadata": {},
   "outputs": [],
   "source": [
    "array1 + array2"
   ]
  },
  {
   "cell_type": "markdown",
   "id": "89a26253",
   "metadata": {},
   "source": [
    "#### Concatenating arrays"
   ]
  },
  {
   "cell_type": "code",
   "execution_count": null,
   "id": "70bc3b22",
   "metadata": {},
   "outputs": [],
   "source": [
    "np.concatenate((array1, array2))"
   ]
  },
  {
   "cell_type": "markdown",
   "id": "754b2c90",
   "metadata": {},
   "source": [
    "### Speed"
   ]
  },
  {
   "cell_type": "code",
   "execution_count": null,
   "id": "d5ce6a71",
   "metadata": {},
   "outputs": [],
   "source": [
    "list_one = [random.random() for i in range(int(1e5))]\n",
    "list_two = [random.random() for i in range(int(1e5))]\n",
    "\n",
    "array_one = np.array(list_one)\n",
    "array_two = np.array(list_two)"
   ]
  },
  {
   "cell_type": "code",
   "execution_count": null,
   "id": "8e400c93",
   "metadata": {},
   "outputs": [],
   "source": [
    "list_three = []\n",
    "start = time.time()\n",
    "for one, two in zip(list_one, list_two):\n",
    "    list_three.append(one * two)\n",
    "end = time.time()\n",
    "end - start"
   ]
  },
  {
   "cell_type": "code",
   "execution_count": null,
   "id": "ec5f6a97",
   "metadata": {},
   "outputs": [],
   "source": [
    "start = time.time()\n",
    "array_three = array_one * array_two\n",
    "end = time.time()\n",
    "end - start"
   ]
  },
  {
   "cell_type": "markdown",
   "id": "73c1c792",
   "metadata": {},
   "source": [
    "Let's increase the size of the list to 1e8 and see if there is a larger difference"
   ]
  },
  {
   "cell_type": "code",
   "execution_count": null,
   "id": "6e25aa8a",
   "metadata": {},
   "outputs": [],
   "source": [
    "np.array([1,2,3,4])"
   ]
  },
  {
   "cell_type": "code",
   "execution_count": null,
   "id": "61ae0e99",
   "metadata": {},
   "outputs": [],
   "source": [
    "np.arange(20)"
   ]
  },
  {
   "cell_type": "code",
   "execution_count": null,
   "id": "e197db12",
   "metadata": {},
   "outputs": [],
   "source": [
    "type(np.arange(20))"
   ]
  },
  {
   "cell_type": "markdown",
   "id": "7b5bd179",
   "metadata": {},
   "source": [
    "## Numpy Math Functions"
   ]
  },
  {
   "cell_type": "code",
   "execution_count": null,
   "id": "186413a9",
   "metadata": {},
   "outputs": [],
   "source": [
    "random_array = np.random.randn(30)\n",
    "random_array"
   ]
  },
  {
   "cell_type": "code",
   "execution_count": null,
   "id": "4bcb4fab",
   "metadata": {},
   "outputs": [],
   "source": [
    "random_array.mean()"
   ]
  },
  {
   "cell_type": "code",
   "execution_count": null,
   "id": "e3a82a4e",
   "metadata": {},
   "outputs": [],
   "source": [
    "random_int_array = np.random.randint(low = 0, high = 10, size = 50)\n",
    "random_int_array"
   ]
  },
  {
   "cell_type": "markdown",
   "id": "d07cf3b2",
   "metadata": {},
   "source": [
    "**Question** Find the median of `random_int_array`"
   ]
  },
  {
   "cell_type": "code",
   "execution_count": null,
   "id": "01d89404",
   "metadata": {},
   "outputs": [],
   "source": [
    "np.median(random_int_array)"
   ]
  },
  {
   "cell_type": "markdown",
   "id": "14461405",
   "metadata": {},
   "source": [
    "(back to slides)\n",
    "## Series"
   ]
  },
  {
   "cell_type": "code",
   "execution_count": null,
   "id": "44d30a46",
   "metadata": {},
   "outputs": [],
   "source": [
    "arr = np.array([5, 4, 2, 0, 1])\n",
    "s1 = pd.Series(arr)\n",
    "s1"
   ]
  },
  {
   "cell_type": "markdown",
   "id": "dd319332",
   "metadata": {},
   "source": [
    "**Question:** What are the indices in `s1`?"
   ]
  },
  {
   "cell_type": "code",
   "execution_count": null,
   "id": "81b221b4",
   "metadata": {},
   "outputs": [],
   "source": [
    "s2 = pd.Series(arr, index=['a','b','c','d','e'])\n",
    "print(s2)"
   ]
  },
  {
   "cell_type": "markdown",
   "id": "b22698c4",
   "metadata": {},
   "source": [
    "**Question:** What are the indices in `s2`?"
   ]
  },
  {
   "cell_type": "code",
   "execution_count": null,
   "id": "6bd8bf8e",
   "metadata": {},
   "outputs": [],
   "source": [
    "mydict = {'a': 1, 'b': 2, 'c': 3}\n",
    "s3 = pd.Series(mydict)\n",
    "s3"
   ]
  },
  {
   "cell_type": "code",
   "execution_count": null,
   "id": "c1a98e3c",
   "metadata": {},
   "outputs": [],
   "source": [
    "s4 = pd.Series(mydict, index=['b','a','d'])\n",
    "s4"
   ]
  },
  {
   "cell_type": "markdown",
   "id": "ff77b076",
   "metadata": {},
   "source": [
    "**Question:** What is `Nan`?"
   ]
  },
  {
   "cell_type": "code",
   "execution_count": null,
   "id": "f60b349f",
   "metadata": {},
   "outputs": [],
   "source": []
  },
  {
   "cell_type": "markdown",
   "id": "45126f44",
   "metadata": {},
   "source": [
    "**Question:** Why is the Series now a series of floats rather than ints?"
   ]
  },
  {
   "cell_type": "code",
   "execution_count": null,
   "id": "0673147a",
   "metadata": {},
   "outputs": [],
   "source": [
    "s4.isna()"
   ]
  },
  {
   "cell_type": "code",
   "execution_count": null,
   "id": "ae361791",
   "metadata": {},
   "outputs": [],
   "source": [
    "s5 = pd.Series(5, index=['a','b','c'])\n",
    "s5"
   ]
  },
  {
   "cell_type": "markdown",
   "id": "6268864c",
   "metadata": {},
   "source": [
    "### Indexing Series"
   ]
  },
  {
   "cell_type": "code",
   "execution_count": null,
   "id": "4ccd7eba",
   "metadata": {},
   "outputs": [],
   "source": [
    "s5[1]"
   ]
  },
  {
   "cell_type": "code",
   "execution_count": null,
   "id": "d9c99b97",
   "metadata": {},
   "outputs": [],
   "source": [
    "s5['b']"
   ]
  },
  {
   "cell_type": "markdown",
   "id": "c5a156fd",
   "metadata": {},
   "source": [
    "### Vectorized operations"
   ]
  },
  {
   "cell_type": "code",
   "execution_count": null,
   "id": "fc14f9c2",
   "metadata": {},
   "outputs": [],
   "source": [
    "s5, s3"
   ]
  },
  {
   "cell_type": "code",
   "execution_count": null,
   "id": "ba0b934c",
   "metadata": {},
   "outputs": [],
   "source": [
    "s5 + s3"
   ]
  },
  {
   "cell_type": "markdown",
   "id": "e59a6b68",
   "metadata": {},
   "source": [
    "#### Adding mismatched indices"
   ]
  },
  {
   "cell_type": "code",
   "execution_count": null,
   "id": "707d26eb",
   "metadata": {},
   "outputs": [],
   "source": [
    "s1, s3"
   ]
  },
  {
   "cell_type": "code",
   "execution_count": null,
   "id": "30216507",
   "metadata": {},
   "outputs": [],
   "source": [
    "s1 + s3"
   ]
  },
  {
   "cell_type": "code",
   "execution_count": null,
   "id": "094fe3e6",
   "metadata": {},
   "outputs": [],
   "source": [
    "s3"
   ]
  },
  {
   "cell_type": "code",
   "execution_count": null,
   "id": "dfa5387b",
   "metadata": {},
   "outputs": [],
   "source": [
    "s3.mean()"
   ]
  },
  {
   "cell_type": "markdown",
   "id": "39d0c58f",
   "metadata": {},
   "source": [
    "#### Additional functions"
   ]
  },
  {
   "cell_type": "code",
   "execution_count": null,
   "id": "d5dc9b73",
   "metadata": {},
   "outputs": [],
   "source": [
    "np.exp(s1)"
   ]
  },
  {
   "cell_type": "code",
   "execution_count": null,
   "id": "af494e2c",
   "metadata": {},
   "outputs": [],
   "source": [
    "s2"
   ]
  },
  {
   "cell_type": "code",
   "execution_count": null,
   "id": "adaa1c18",
   "metadata": {},
   "outputs": [],
   "source": [
    "np.log(s2)"
   ]
  },
  {
   "cell_type": "code",
   "execution_count": null,
   "id": "627b35a5",
   "metadata": {},
   "outputs": [],
   "source": [
    "s2.describe()"
   ]
  },
  {
   "cell_type": "markdown",
   "id": "772e6a0f",
   "metadata": {},
   "source": [
    "(back to slides)\n",
    "\n",
    "## DataFrames\n",
    "\n"
   ]
  },
  {
   "cell_type": "markdown",
   "id": "27695fc3",
   "metadata": {},
   "source": [
    "### Constructing a DataFrame"
   ]
  },
  {
   "cell_type": "markdown",
   "id": "cdb1a24c",
   "metadata": {},
   "source": [
    "##### Empty dataframe"
   ]
  },
  {
   "cell_type": "code",
   "execution_count": null,
   "id": "c3c99a93",
   "metadata": {},
   "outputs": [],
   "source": [
    "pd.DataFrame()"
   ]
  },
  {
   "cell_type": "markdown",
   "id": "060e3c27",
   "metadata": {},
   "source": [
    "##### Based on Dictionary"
   ]
  },
  {
   "cell_type": "code",
   "execution_count": null,
   "id": "cec05b5e",
   "metadata": {},
   "outputs": [],
   "source": [
    "mydict = {'column1': s2, 'column2': s3}\n",
    "df1 = pd.DataFrame(mydict)\n",
    "\n",
    "df1"
   ]
  },
  {
   "cell_type": "markdown",
   "id": "dd85fc81",
   "metadata": {},
   "source": [
    "Let's look at the indices of `df1`."
   ]
  },
  {
   "cell_type": "code",
   "execution_count": null,
   "id": "632a51bf",
   "metadata": {},
   "outputs": [],
   "source": [
    "df1.index"
   ]
  },
  {
   "cell_type": "markdown",
   "id": "e9d493de",
   "metadata": {},
   "source": [
    "**Question: Why are these the indices?**\n",
    "    \n",
    "<details>\n",
    "<summary>Hint</summary>\n",
    "<b>Let's look at `s2` and `s1`</b>  \n",
    "</details>"
   ]
  },
  {
   "cell_type": "code",
   "execution_count": null,
   "id": "553eff4c",
   "metadata": {},
   "outputs": [],
   "source": []
  },
  {
   "cell_type": "markdown",
   "id": "e18bd9eb",
   "metadata": {},
   "source": [
    "**Question:** What if the indices don't match up?"
   ]
  },
  {
   "cell_type": "code",
   "execution_count": null,
   "id": "1b52553e",
   "metadata": {},
   "outputs": [],
   "source": [
    "mydict = {'column1': s1, 'column2': s2}\n",
    "df2 = pd.DataFrame(mydict)\n",
    "\n",
    "df2"
   ]
  },
  {
   "cell_type": "markdown",
   "id": "361730d5",
   "metadata": {},
   "source": [
    "#### Adding Columns to a dataframe\n",
    "\n",
    "2 ways:\n",
    "- `df.assign(<column name>=<list>)`\n",
    "- `df[<column name>] = <list>`  - access like a collection"
   ]
  },
  {
   "cell_type": "code",
   "execution_count": null,
   "id": "0066b97c",
   "metadata": {},
   "outputs": [],
   "source": [
    "df3 = pd.DataFrame()\n",
    "df3['one'] = np.random.randn(5)\n",
    "df3 = df3.assign(two=np.random.randn(5))\n",
    "\n",
    "df3"
   ]
  },
  {
   "cell_type": "markdown",
   "id": "a20363db",
   "metadata": {},
   "source": [
    "Adding a new column of a different length"
   ]
  },
  {
   "cell_type": "markdown",
   "id": "46e996d5",
   "metadata": {},
   "source": [
    "**Question:** Why do we think the next line will throw an error?"
   ]
  },
  {
   "cell_type": "code",
   "execution_count": null,
   "id": "d733f5be",
   "metadata": {},
   "outputs": [],
   "source": [
    "df3['three'] = np.random.randn(6)"
   ]
  },
  {
   "cell_type": "code",
   "execution_count": null,
   "id": "c9069070",
   "metadata": {},
   "outputs": [],
   "source": [
    "df3['example'] = 'example'\n",
    "df3"
   ]
  },
  {
   "cell_type": "markdown",
   "id": "f019f915",
   "metadata": {},
   "source": [
    "### Pudding Film Dialogue Data"
   ]
  },
  {
   "cell_type": "markdown",
   "id": "a4acdaf8",
   "metadata": {},
   "source": [
    "The data we will work with today comes from https://pudding.cool/2017/03/film-dialogue/\n",
    "\n",
    "> Lately, Hollywood has been taking so much shit for rampant sexism and racism. The prevailing theme: white men dominate movie roles.\n",
    "\n",
    "> But it’s all rhetoric and no data, which gets us nowhere in terms of having an informed discussion. How many movies are actually about men? What changes by genre, era, or box-office revenue? What circumstances generate more diversity?\n",
    "\n",
    "> We didn’t set out trying to prove anything, but rather compile real data. We framed it as a census rather than a study. So we Googled our way to 8,000 screenplays and matched each character’s lines to an actor. From there, we compiled the number of words spoken by male and female characters across roughly 2,000 films, arguably the largest undertaking of script analysis, ever."
   ]
  },
  {
   "cell_type": "code",
   "execution_count": null,
   "id": "b64d5978",
   "metadata": {},
   "outputs": [],
   "source": [
    "pd.read_csv(\"data/Pudding-Film-Dialogue-Clean.csv\")"
   ]
  },
  {
   "cell_type": "code",
   "execution_count": null,
   "id": "a1caeeb2",
   "metadata": {},
   "outputs": [],
   "source": [
    "df = pd.read_csv(\"data/Pudding-Film-Dialogue-Clean.csv\")\n",
    "df.head(5)"
   ]
  },
  {
   "cell_type": "markdown",
   "id": "cc730d56",
   "metadata": {},
   "source": [
    "**Question:** Let's randomly sample 10 rows from the dataframe?"
   ]
  },
  {
   "cell_type": "code",
   "execution_count": null,
   "id": "618c5d8e",
   "metadata": {},
   "outputs": [],
   "source": [
    "# How can we find out how to do that?\n",
    "\n"
   ]
  },
  {
   "cell_type": "markdown",
   "id": "e14197b1",
   "metadata": {},
   "source": [
    "**Question:** How many rows and columns do we have?"
   ]
  },
  {
   "cell_type": "code",
   "execution_count": null,
   "id": "6ebc37cb",
   "metadata": {},
   "outputs": [],
   "source": []
  },
  {
   "cell_type": "markdown",
   "id": "34dd0ef6",
   "metadata": {},
   "source": [
    "**Question:** What are the different types in each column?"
   ]
  },
  {
   "cell_type": "code",
   "execution_count": null,
   "id": "2e5d6ee0",
   "metadata": {},
   "outputs": [],
   "source": [
    "df.dtypes"
   ]
  },
  {
   "cell_type": "markdown",
   "id": "7c690710",
   "metadata": {},
   "source": [
    "### Listing columns\n",
    "\n",
    "**Question:** On your own using the documentation, find the two ways we can list the columns.\n",
    "\n",
    "*Hint* One way is a dataframe function and the other is an attribute/instance\n"
   ]
  },
  {
   "cell_type": "code",
   "execution_count": null,
   "id": "378a3cf6",
   "metadata": {},
   "outputs": [],
   "source": []
  },
  {
   "cell_type": "code",
   "execution_count": null,
   "id": "54137d09",
   "metadata": {},
   "outputs": [],
   "source": []
  },
  {
   "cell_type": "code",
   "execution_count": null,
   "id": "b183ab97",
   "metadata": {},
   "outputs": [],
   "source": []
  },
  {
   "cell_type": "markdown",
   "id": "05ef0fa8",
   "metadata": {},
   "source": [
    "### Accessing columns\n",
    "\n",
    "3 options:\n",
    "\n",
    "- `df.get(<column name>)`\n",
    "- `df[<column name>]` - access like a collection\n",
    "- `df.<column name>` - access like a attribute/method "
   ]
  },
  {
   "cell_type": "code",
   "execution_count": null,
   "id": "2ccf0ea2",
   "metadata": {},
   "outputs": [],
   "source": [
    "# try first option here"
   ]
  },
  {
   "cell_type": "code",
   "execution_count": null,
   "id": "e5d38fbf",
   "metadata": {},
   "outputs": [],
   "source": [
    "# try second option here"
   ]
  },
  {
   "cell_type": "code",
   "execution_count": null,
   "id": "7e8834f5",
   "metadata": {},
   "outputs": [],
   "source": [
    "# try third option here"
   ]
  },
  {
   "cell_type": "markdown",
   "id": "0b557b00",
   "metadata": {},
   "source": [
    "### Accessing rows"
   ]
  },
  {
   "cell_type": "code",
   "execution_count": null,
   "id": "33cb8d12",
   "metadata": {},
   "outputs": [],
   "source": [
    "## Access by index label\n",
    "\n",
    "df.loc[0]"
   ]
  },
  {
   "cell_type": "code",
   "execution_count": null,
   "id": "31edccf9",
   "metadata": {},
   "outputs": [],
   "source": [
    "## Access by location\n",
    "\n",
    "df.iloc[0]"
   ]
  },
  {
   "cell_type": "markdown",
   "id": "b75e185a",
   "metadata": {},
   "source": [
    "### Sorting dataframe"
   ]
  },
  {
   "cell_type": "code",
   "execution_count": null,
   "id": "9395cf3b",
   "metadata": {},
   "outputs": [],
   "source": [
    "df.keys()"
   ]
  },
  {
   "cell_type": "markdown",
   "id": "fa8b4191",
   "metadata": {},
   "source": [
    "**Question:** What column should we sort by?"
   ]
  },
  {
   "cell_type": "code",
   "execution_count": null,
   "id": "4d781745",
   "metadata": {},
   "outputs": [],
   "source": []
  },
  {
   "cell_type": "markdown",
   "id": "ef1878b8",
   "metadata": {},
   "source": [
    "**Question:** What two columns should we sort by?"
   ]
  },
  {
   "cell_type": "code",
   "execution_count": null,
   "id": "c1adea8f",
   "metadata": {},
   "outputs": [],
   "source": []
  },
  {
   "cell_type": "markdown",
   "id": "53f50d12",
   "metadata": {},
   "source": [
    "Return type of dataframe functions"
   ]
  },
  {
   "cell_type": "markdown",
   "id": "0526b577",
   "metadata": {},
   "source": [
    "### Querying "
   ]
  },
  {
   "cell_type": "code",
   "execution_count": null,
   "id": "b4c9744c",
   "metadata": {},
   "outputs": [],
   "source": [
    "df['age'] > 10"
   ]
  },
  {
   "cell_type": "code",
   "execution_count": null,
   "id": "4cb75117",
   "metadata": {},
   "outputs": [],
   "source": [
    "old_movies = df[df['age'] > 10]\n",
    "old_movies"
   ]
  },
  {
   "cell_type": "markdown",
   "id": "6afd407f",
   "metadata": {},
   "source": [
    "Let's look at the indices\n",
    "\n",
    "**Question:** What do we notice about these indices?"
   ]
  },
  {
   "cell_type": "code",
   "execution_count": null,
   "id": "00c80de8",
   "metadata": {},
   "outputs": [],
   "source": []
  },
  {
   "cell_type": "markdown",
   "id": "4128a1a7",
   "metadata": {},
   "source": [
    "Let's reset the indices"
   ]
  },
  {
   "cell_type": "code",
   "execution_count": null,
   "id": "1a3838d9",
   "metadata": {},
   "outputs": [],
   "source": [
    "old_movies.reset_index()"
   ]
  },
  {
   "cell_type": "markdown",
   "id": "9c5b7a11",
   "metadata": {},
   "source": [
    "Let's not include the original index"
   ]
  },
  {
   "cell_type": "code",
   "execution_count": null,
   "id": "128f3607",
   "metadata": {},
   "outputs": [],
   "source": [
    "df.reset_index?"
   ]
  },
  {
   "cell_type": "markdown",
   "id": "a798663c",
   "metadata": {},
   "source": [
    "#### Querying on Multiple Conditions"
   ]
  },
  {
   "cell_type": "code",
   "execution_count": null,
   "id": "17d5c9b7",
   "metadata": {},
   "outputs": [],
   "source": [
    "df[\n",
    "    (df['release_year'] < 1930)\n",
    "    &\n",
    "    (df['gender'] == 'man')\n",
    "]"
   ]
  },
  {
   "cell_type": "code",
   "execution_count": null,
   "id": "9cf45e78",
   "metadata": {},
   "outputs": [],
   "source": [
    "df"
   ]
  },
  {
   "cell_type": "markdown",
   "id": "5de26b5c",
   "metadata": {},
   "source": [
    "### Values in a column"
   ]
  },
  {
   "cell_type": "markdown",
   "id": "f6a03490",
   "metadata": {},
   "source": [
    "**Question:** Based on everything we've seen so far, how can we determine the set of values that are in a column?\n",
    "\n",
    "<details>\n",
    "<summary>Hint</summary>\n",
    "<b>1. Accessing the column; 2. convert the column (Series) to a set</b>  \n",
    "</details>"
   ]
  },
  {
   "cell_type": "code",
   "execution_count": null,
   "id": "555727ab",
   "metadata": {},
   "outputs": [],
   "source": [
    "#skip"
   ]
  },
  {
   "cell_type": "code",
   "execution_count": null,
   "id": "336f28d8",
   "metadata": {},
   "outputs": [],
   "source": [
    "#skip"
   ]
  },
  {
   "cell_type": "markdown",
   "id": "e46b6dc0",
   "metadata": {},
   "source": [
    "`unique()`"
   ]
  },
  {
   "cell_type": "code",
   "execution_count": null,
   "id": "42fcc4b6",
   "metadata": {},
   "outputs": [],
   "source": [
    "df['gender'].unique()"
   ]
  },
  {
   "cell_type": "markdown",
   "id": "c64b4b9a",
   "metadata": {},
   "source": [
    "**Question:** How many rows have their gender assigned as `woman`, `man`, or `?`"
   ]
  },
  {
   "cell_type": "code",
   "execution_count": null,
   "id": "76132db2",
   "metadata": {},
   "outputs": [],
   "source": [
    "df['gender'].value_counts()"
   ]
  },
  {
   "cell_type": "markdown",
   "id": "85c02d82",
   "metadata": {},
   "source": [
    "\n",
    "### Grouping "
   ]
  },
  {
   "cell_type": "markdown",
   "id": "275fef86",
   "metadata": {},
   "source": [
    "Let's group by gender"
   ]
  },
  {
   "cell_type": "code",
   "execution_count": null,
   "id": "d4ec20b8",
   "metadata": {},
   "outputs": [],
   "source": [
    "gender_groups = df.groupby('gender')\n",
    "gender_groups"
   ]
  },
  {
   "cell_type": "code",
   "execution_count": null,
   "id": "797f8699",
   "metadata": {},
   "outputs": [],
   "source": [
    "Now let's find the mean/average values of the other columns for each gender"
   ]
  },
  {
   "cell_type": "code",
   "execution_count": null,
   "id": "6557c2b0",
   "metadata": {},
   "outputs": [],
   "source": [
    "gender_groups.mean()"
   ]
  },
  {
   "cell_type": "markdown",
   "id": "00d5f906",
   "metadata": {},
   "source": [
    "**What just happened?**\n",
    "\n",
    "1. The table’s rows are split into groups according to cause. \n",
    "    - All of the rows whose gender is 'man' are placed into one group,\n",
    "    - All of the rows whose gender is 'woman' are placed into another group.\n",
    "    - All of the rows whose gender is `?` are placed into another group\n",
    "\n",
    "2. Each group is aggregated into a single row by average the value of entries in each of the group’s columns.\n",
    "\n",
    "3. The resulting rows are combined to form a new table, with one row for every group."
   ]
  },
  {
   "cell_type": "markdown",
   "id": "9d90107a",
   "metadata": {},
   "source": [
    "**Other aggregation methods:**\n",
    "- .median()\n",
    "- .max()\n",
    "- .min()\n",
    "- .count()"
   ]
  },
  {
   "cell_type": "code",
   "execution_count": null,
   "id": "1ac45e07",
   "metadata": {},
   "outputs": [],
   "source": [
    "df.groupby('gender').count()"
   ]
  },
  {
   "cell_type": "markdown",
   "id": "3e0c524f",
   "metadata": {},
   "source": [
    "### Function on a cell\n",
    "\n",
    "> Defining our own functions allows us to make tables even more powerful. One way to use tables with functions is to pass the table into the function as one of its inputs, as we saw in the example above. In some situations, however, we don’t want to apply the function to the entire table, but rather to each entry in one of the table’s columns. In these cases, we can use the .apply method.\n",
    "(https://eldridgejm.github.io/dive_into_data_science/02-data_sets/apply.html#the-apply-series-method)\n",
    "\n",
    "Let's write a function to get the word in a movie title"
   ]
  },
  {
   "cell_type": "code",
   "execution_count": null,
   "id": "549fd945",
   "metadata": {},
   "outputs": [],
   "source": [
    "def get_first_word_in_title(title):\n",
    "    return title.split()[0]"
   ]
  },
  {
   "cell_type": "markdown",
   "id": "7040ed95",
   "metadata": {},
   "source": [
    "Now let's apply the function to the title column"
   ]
  },
  {
   "cell_type": "code",
   "execution_count": null,
   "id": "e20d4cbf",
   "metadata": {},
   "outputs": [],
   "source": [
    "df['title'].apply(get_first_word_in_title)"
   ]
  },
  {
   "cell_type": "markdown",
   "id": "23b22d44",
   "metadata": {},
   "source": [
    "#### .map()"
   ]
  },
  {
   "cell_type": "code",
   "execution_count": null,
   "id": "b8f42eac",
   "metadata": {},
   "outputs": [],
   "source": []
  }
 ],
 "metadata": {
  "kernelspec": {
   "display_name": "Python 3",
   "language": "python",
   "name": "python3"
  },
  "language_info": {
   "codemirror_mode": {
    "name": "ipython",
    "version": 3
   },
   "file_extension": ".py",
   "mimetype": "text/x-python",
   "name": "python",
   "nbconvert_exporter": "python",
   "pygments_lexer": "ipython3",
   "version": "3.8.8"
  }
 },
 "nbformat": 4,
 "nbformat_minor": 5
}
