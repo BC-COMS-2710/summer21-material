{
 "cells": [
  {
   "cell_type": "markdown",
   "id": "43e192d2",
   "metadata": {},
   "source": [
    "# Demo 18"
   ]
  },
  {
   "cell_type": "code",
   "execution_count": 2,
   "id": "e377ad46",
   "metadata": {},
   "outputs": [],
   "source": [
    "import pandas as pd\n",
    "import sklearn\n",
    "import numpy as np\n",
    "\n",
    "import matplotlib.pyplot as plt"
   ]
  },
  {
   "cell_type": "markdown",
   "id": "7ca59c9e",
   "metadata": {},
   "source": [
    "## Hyperparameter Tuning\n",
    "\n",
    "### Dataset\n",
    "\n",
    "We will use data from [Victorian Era Authorship Attribution Data Set](https://archive.ics.uci.edu/ml/datasets/Victorian+Era+Authorship+Attribution#)"
   ]
  },
  {
   "cell_type": "markdown",
   "id": "439cea20",
   "metadata": {},
   "source": [
    "**Instructions:**\n",
    "\n",
    "- Open up a terminal\n",
    "- `cd` into `data/`\n",
    "- make a new directory for victorian author id\n",
    "- wget https://archive.ics.uci.edu/ml/machine-learning-databases/00454/dataset.zip\n",
    "- unzip the dataset"
   ]
  },
  {
   "cell_type": "code",
   "execution_count": 3,
   "id": "d0316713",
   "metadata": {},
   "outputs": [
    {
     "data": {
      "text/plain": [
       "(53678, 2)"
      ]
     },
     "execution_count": 3,
     "metadata": {},
     "output_type": "execute_result"
    }
   ],
   "source": [
    "df = pd.read_csv(\"data/victorian_author_id/dataset/Gungor_2018_VictorianAuthorAttribution_data-train.csv\")\n",
    "df.shape"
   ]
  },
  {
   "cell_type": "code",
   "execution_count": 4,
   "id": "797557cf",
   "metadata": {},
   "outputs": [
    {
     "data": {
      "text/plain": [
       "Index(['text', 'author'], dtype='object')"
      ]
     },
     "execution_count": 4,
     "metadata": {},
     "output_type": "execute_result"
    }
   ],
   "source": [
    "df.keys()"
   ]
  },
  {
   "cell_type": "code",
   "execution_count": 5,
   "id": "3f28d232",
   "metadata": {},
   "outputs": [
    {
     "data": {
      "text/plain": [
       "45"
      ]
     },
     "execution_count": 5,
     "metadata": {},
     "output_type": "execute_result"
    }
   ],
   "source": [
    "len(df['author'].unique())"
   ]
  },
  {
   "cell_type": "code",
   "execution_count": 6,
   "id": "0e473822",
   "metadata": {
    "collapsed": true,
    "jupyter": {
     "outputs_hidden": true
    },
    "tags": []
   },
   "outputs": [
    {
     "data": {
      "text/plain": [
       "8     6914\n",
       "26    4441\n",
       "14    2696\n",
       "37    2387\n",
       "45    2312\n",
       "21    2307\n",
       "39    2266\n",
       "48    1825\n",
       "33    1742\n",
       "19    1543\n",
       "4     1483\n",
       "15    1460\n",
       "43    1266\n",
       "38    1163\n",
       "25    1159\n",
       "9     1108\n",
       "18    1078\n",
       "42    1022\n",
       "30     972\n",
       "50     914\n",
       "1      912\n",
       "41     911\n",
       "28     823\n",
       "10     755\n",
       "32     703\n",
       "36     693\n",
       "17     660\n",
       "35     659\n",
       "29     645\n",
       "12     627\n",
       "46     605\n",
       "20     587\n",
       "22     495\n",
       "13     485\n",
       "44     468\n",
       "23     455\n",
       "34     453\n",
       "40     430\n",
       "6      407\n",
       "11     383\n",
       "2      382\n",
       "24     380\n",
       "27     306\n",
       "3      213\n",
       "16     183\n",
       "Name: author, dtype: int64"
      ]
     },
     "execution_count": 6,
     "metadata": {},
     "output_type": "execute_result"
    }
   ],
   "source": [
    "df['author'].value_counts()"
   ]
  },
  {
   "cell_type": "markdown",
   "id": "3c6c5945",
   "metadata": {
    "tags": []
   },
   "source": [
    "Its a good idea to check if there are duplicates"
   ]
  },
  {
   "cell_type": "code",
   "execution_count": 7,
   "id": "0c8fd402",
   "metadata": {},
   "outputs": [
    {
     "data": {
      "text/plain": [
       "(53678,)"
      ]
     },
     "execution_count": 7,
     "metadata": {},
     "output_type": "execute_result"
    }
   ],
   "source": [
    "df['text'].drop_duplicates().shape"
   ]
  },
  {
   "cell_type": "markdown",
   "id": "4155d1f8",
   "metadata": {},
   "source": [
    "Let's just look at the 5 most frequent authors"
   ]
  },
  {
   "cell_type": "code",
   "execution_count": 8,
   "id": "7c2b8e27",
   "metadata": {},
   "outputs": [
    {
     "data": {
      "text/plain": [
       "Int64Index([8, 26, 14, 37, 45], dtype='int64')"
      ]
     },
     "execution_count": 8,
     "metadata": {},
     "output_type": "execute_result"
    }
   ],
   "source": [
    "top4_authors = df['author'].value_counts()[:5].index\n",
    "top4_authors"
   ]
  },
  {
   "cell_type": "code",
   "execution_count": 9,
   "id": "c3d60d08",
   "metadata": {},
   "outputs": [
    {
     "data": {
      "text/html": [
       "<div>\n",
       "<style scoped>\n",
       "    .dataframe tbody tr th:only-of-type {\n",
       "        vertical-align: middle;\n",
       "    }\n",
       "\n",
       "    .dataframe tbody tr th {\n",
       "        vertical-align: top;\n",
       "    }\n",
       "\n",
       "    .dataframe thead th {\n",
       "        text-align: right;\n",
       "    }\n",
       "</style>\n",
       "<table border=\"1\" class=\"dataframe\">\n",
       "  <thead>\n",
       "    <tr style=\"text-align: right;\">\n",
       "      <th></th>\n",
       "      <th>text</th>\n",
       "      <th>author</th>\n",
       "    </tr>\n",
       "  </thead>\n",
       "  <tbody>\n",
       "    <tr>\n",
       "      <th>3397</th>\n",
       "      <td>t is only the railroad the arches of the railr...</td>\n",
       "      <td>8</td>\n",
       "    </tr>\n",
       "    <tr>\n",
       "      <th>3398</th>\n",
       "      <td>partially enveloped the seed ned the same kind...</td>\n",
       "      <td>8</td>\n",
       "    </tr>\n",
       "    <tr>\n",
       "      <th>3399</th>\n",
       "      <td>king s sake how gladly we repeat it sailing on...</td>\n",
       "      <td>8</td>\n",
       "    </tr>\n",
       "    <tr>\n",
       "      <th>3400</th>\n",
       "      <td>why is this we shall soon see we push through ...</td>\n",
       "      <td>8</td>\n",
       "    </tr>\n",
       "    <tr>\n",
       "      <th>3401</th>\n",
       "      <td>bear don t cry so loud bony is not here she to...</td>\n",
       "      <td>8</td>\n",
       "    </tr>\n",
       "    <tr>\n",
       "      <th>...</th>\n",
       "      <td>...</td>\n",
       "      <td>...</td>\n",
       "    </tr>\n",
       "    <tr>\n",
       "      <th>50329</th>\n",
       "      <td>had touched the heart of the victim who lay on...</td>\n",
       "      <td>45</td>\n",
       "    </tr>\n",
       "    <tr>\n",
       "      <th>50330</th>\n",
       "      <td>to do these things as well as his confused and...</td>\n",
       "      <td>45</td>\n",
       "    </tr>\n",
       "    <tr>\n",
       "      <th>50331</th>\n",
       "      <td>he said let us go back towards it again they t...</td>\n",
       "      <td>45</td>\n",
       "    </tr>\n",
       "    <tr>\n",
       "      <th>50332</th>\n",
       "      <td>had rendered her progress a noiseless one so f...</td>\n",
       "      <td>45</td>\n",
       "    </tr>\n",
       "    <tr>\n",
       "      <th>50333</th>\n",
       "      <td>day e stone was warm and dry in contrast to th...</td>\n",
       "      <td>45</td>\n",
       "    </tr>\n",
       "  </tbody>\n",
       "</table>\n",
       "<p>18750 rows × 2 columns</p>\n",
       "</div>"
      ],
      "text/plain": [
       "                                                    text  author\n",
       "3397   t is only the railroad the arches of the railr...       8\n",
       "3398   partially enveloped the seed ned the same kind...       8\n",
       "3399   king s sake how gladly we repeat it sailing on...       8\n",
       "3400   why is this we shall soon see we push through ...       8\n",
       "3401   bear don t cry so loud bony is not here she to...       8\n",
       "...                                                  ...     ...\n",
       "50329  had touched the heart of the victim who lay on...      45\n",
       "50330  to do these things as well as his confused and...      45\n",
       "50331  he said let us go back towards it again they t...      45\n",
       "50332  had rendered her progress a noiseless one so f...      45\n",
       "50333  day e stone was warm and dry in contrast to th...      45\n",
       "\n",
       "[18750 rows x 2 columns]"
      ]
     },
     "execution_count": 9,
     "metadata": {},
     "output_type": "execute_result"
    }
   ],
   "source": [
    "df[df['author'].map(lambda x: x in top4_authors)]"
   ]
  },
  {
   "cell_type": "code",
   "execution_count": 10,
   "id": "3818b4ac",
   "metadata": {},
   "outputs": [
    {
     "data": {
      "text/plain": [
       "(18750, 2)"
      ]
     },
     "execution_count": 10,
     "metadata": {},
     "output_type": "execute_result"
    }
   ],
   "source": [
    "df = df[df['author'].map(lambda x: x in top4_authors)]\n",
    "df.shape"
   ]
  },
  {
   "cell_type": "code",
   "execution_count": 12,
   "id": "992a0bb0",
   "metadata": {
    "collapsed": true,
    "jupyter": {
     "outputs_hidden": true
    },
    "tags": []
   },
   "outputs": [
    {
     "data": {
      "text/plain": [
       "'t is only the railroad the arches of the railroad span the house the wires of the electric stretch over the confined scene of his daily life the engines fly past him on their errands and the birds and what can the man of prejudice and usage hope for but to be and flung into oblivion look to it gentlemen of precedent and custom household words during a fresh war the supposed prize was upon by england with another expedition four thousand men under sir david landed in s bay a little to the north of cape town presently fought a battle with the dutch defeated them and took the cape town by two days afterwards the whole colony was soon ab to the british and being confirmed t england by the peace of we have since had undisturbed possession the internal t of the cape colony after its first establishment was for a long time very simple the dutch increased and multiplied together with their flocks and herds a pasture farm requiring elbow room there were always many who preferred passing the bounds to live in country by their companions as the men and women multiplied outside they were included of course in the body of the colony and new were established in the succeeding generation the or were a soft material and suffered the to penetrate until they arrived eastward at the sunday l where they met with a hard in a fence of men most in their disposition these were the the had come from the to settle as far south as the great river nearly at the same time that the dutch came across the sea to plant their colony in table bay the whole country before time as far north as the and in some directions farther had been most probably by the whom the dutch led the area is a to the name of the tribe d by a chief named purchased of the natives their new ground l ow as the spread and multiplied the also spread passed the great fish river md reached sunday river where after many years of separate prosperity the and s came in contact with each other the are so called by who adopt an word meaning borrowed from of the z coast it is no native name and is applied by us to a l ce of the perhaps mixed of southern africa distinctly marked and separated from the the and the and races which with the of are all that are to southern africa these races differ from the other of africa by being lighter in complexion m d less decidedly negro in feature it is supposed that they have been altered by with an race a is a tall well and man the lower part of his face scarcely his eyes are keen and his features are not without intelligence he has not yet learned to from his hair thoroughly with red in a skin cloak which the his fine dark limbs show to and with a spear in his hand e by the an or resting on a club he would no bad model for the the are divided into independent each under its own chief the chiefs being all descendants of they are cattle feeding upon meat and milk like our old and like them they enjoy a and glory in the sport of cattle stealing awkward neighbours these for the fat herds of the dutch farmers or the s tranquillity was soon disturbed and his imagination similar to that of senior would be very slow in the peculiar race with which he had to deal then the and neighbours at the sandy river where the s occupied a tract of ground which they had bought of the o doubt the mouths of the when they saw the of the cattle which come and fetch us from adjacent fields but it appears that for some time they remained good and quiet the continued as they had hitherto done to extend their common boundary by supplying men who established themselves in farms beyond the limits s from a great bed were sent out which took root in a portion of the country these having grown sufficiently the i y was extended by the government and some of the who had not stirred from their own soil found themselves in the position of within the colony so at least the considered them o doubt the thought that good people who appropriated their land so were e and ought not to complain if in their turn they lost oxen perhaps it was want of imagination in the farmers but they did complain nay they became very much exasperated and it was here that the long series of mistakes began which have been since adding upon until we are at length presented in our own day with a formidable there is in the no inherent inability to assent to whatever is true and just but seeds of war were diligently sown we may sow peace now in the harvest time it is too late war must be the became exasperated and took to get the from their neighbourhood it is said that the people of one tribe the which they hated most were to a friendly conference and shot by while they were collecting beads and toys thrown down before them this s is told by le m d also by the rev l ir it is at least tain tha the words s with the black crown on the of the a ridge that seemed composed of many ribs and folds extended from tl is to the margin of the protecting cover ow the spider formed by nature for the ex purpose this peculiar of the seed by up its small black head and body on its p large red and laying its stout black limbs close together to form the ridge the umbrella like which '"
      ]
     },
     "execution_count": 12,
     "metadata": {},
     "output_type": "execute_result"
    }
   ],
   "source": [
    "df[df['author'] == 8].iloc[0]['text']"
   ]
  },
  {
   "cell_type": "markdown",
   "id": "96555ae9",
   "metadata": {},
   "source": [
    "#### Partitioning dataset\n",
    "\n",
    "Let's make train, dev, and test splits that are 80:10:10"
   ]
  },
  {
   "cell_type": "markdown",
   "id": "01c2a822",
   "metadata": {},
   "source": [
    "First shuffle the dataset"
   ]
  },
  {
   "cell_type": "code",
   "execution_count": 13,
   "id": "ba6c23cd",
   "metadata": {},
   "outputs": [
    {
     "data": {
      "text/html": [
       "<div>\n",
       "<style scoped>\n",
       "    .dataframe tbody tr th:only-of-type {\n",
       "        vertical-align: middle;\n",
       "    }\n",
       "\n",
       "    .dataframe tbody tr th {\n",
       "        vertical-align: top;\n",
       "    }\n",
       "\n",
       "    .dataframe thead th {\n",
       "        text-align: right;\n",
       "    }\n",
       "</style>\n",
       "<table border=\"1\" class=\"dataframe\">\n",
       "  <thead>\n",
       "    <tr style=\"text-align: right;\">\n",
       "      <th></th>\n",
       "      <th>text</th>\n",
       "      <th>author</th>\n",
       "    </tr>\n",
       "  </thead>\n",
       "  <tbody>\n",
       "    <tr>\n",
       "      <th>14250</th>\n",
       "      <td>of the disease but solely on its external if t...</td>\n",
       "      <td>14</td>\n",
       "    </tr>\n",
       "    <tr>\n",
       "      <th>48563</th>\n",
       "      <td>do not plain iy if she suits for ihe chosen to...</td>\n",
       "      <td>45</td>\n",
       "    </tr>\n",
       "    <tr>\n",
       "      <th>15743</th>\n",
       "      <td>up over our door since afore the heads went ou...</td>\n",
       "      <td>14</td>\n",
       "    </tr>\n",
       "    <tr>\n",
       "      <th>14403</th>\n",
       "      <td>might securely be drawn from the flowing of bl...</td>\n",
       "      <td>14</td>\n",
       "    </tr>\n",
       "    <tr>\n",
       "      <th>16329</th>\n",
       "      <td>no dear knowledge concerning the mother s brea...</td>\n",
       "      <td>14</td>\n",
       "    </tr>\n",
       "    <tr>\n",
       "      <th>...</th>\n",
       "      <td>...</td>\n",
       "      <td>...</td>\n",
       "    </tr>\n",
       "    <tr>\n",
       "      <th>49398</th>\n",
       "      <td>and example but though was the of that literat...</td>\n",
       "      <td>45</td>\n",
       "    </tr>\n",
       "    <tr>\n",
       "      <th>29730</th>\n",
       "      <td>nothing to me it would seem only a commercial ...</td>\n",
       "      <td>26</td>\n",
       "    </tr>\n",
       "    <tr>\n",
       "      <th>16082</th>\n",
       "      <td>she has been under a disadvantage with such a ...</td>\n",
       "      <td>14</td>\n",
       "    </tr>\n",
       "    <tr>\n",
       "      <th>40417</th>\n",
       "      <td>so many well meaning creatures must we not sup...</td>\n",
       "      <td>37</td>\n",
       "    </tr>\n",
       "    <tr>\n",
       "      <th>8014</th>\n",
       "      <td>for an answer to that question i venture to ta...</td>\n",
       "      <td>8</td>\n",
       "    </tr>\n",
       "  </tbody>\n",
       "</table>\n",
       "<p>18750 rows × 2 columns</p>\n",
       "</div>"
      ],
      "text/plain": [
       "                                                    text  author\n",
       "14250  of the disease but solely on its external if t...      14\n",
       "48563  do not plain iy if she suits for ihe chosen to...      45\n",
       "15743  up over our door since afore the heads went ou...      14\n",
       "14403  might securely be drawn from the flowing of bl...      14\n",
       "16329  no dear knowledge concerning the mother s brea...      14\n",
       "...                                                  ...     ...\n",
       "49398  and example but though was the of that literat...      45\n",
       "29730  nothing to me it would seem only a commercial ...      26\n",
       "16082  she has been under a disadvantage with such a ...      14\n",
       "40417  so many well meaning creatures must we not sup...      37\n",
       "8014   for an answer to that question i venture to ta...       8\n",
       "\n",
       "[18750 rows x 2 columns]"
      ]
     },
     "execution_count": 13,
     "metadata": {},
     "output_type": "execute_result"
    }
   ],
   "source": [
    "df.sample(frac=1)"
   ]
  },
  {
   "cell_type": "code",
   "execution_count": 14,
   "id": "da7a44a9",
   "metadata": {},
   "outputs": [
    {
     "data": {
      "text/html": [
       "<div>\n",
       "<style scoped>\n",
       "    .dataframe tbody tr th:only-of-type {\n",
       "        vertical-align: middle;\n",
       "    }\n",
       "\n",
       "    .dataframe tbody tr th {\n",
       "        vertical-align: top;\n",
       "    }\n",
       "\n",
       "    .dataframe thead th {\n",
       "        text-align: right;\n",
       "    }\n",
       "</style>\n",
       "<table border=\"1\" class=\"dataframe\">\n",
       "  <thead>\n",
       "    <tr style=\"text-align: right;\">\n",
       "      <th></th>\n",
       "      <th>text</th>\n",
       "      <th>author</th>\n",
       "    </tr>\n",
       "  </thead>\n",
       "  <tbody>\n",
       "    <tr>\n",
       "      <th>28303</th>\n",
       "      <td>an end to which both of them submitted without...</td>\n",
       "      <td>26</td>\n",
       "    </tr>\n",
       "    <tr>\n",
       "      <th>38722</th>\n",
       "      <td>out to join them before them roll the mists of...</td>\n",
       "      <td>37</td>\n",
       "    </tr>\n",
       "    <tr>\n",
       "      <th>3887</th>\n",
       "      <td>extent a man especially a man brought down as ...</td>\n",
       "      <td>8</td>\n",
       "    </tr>\n",
       "    <tr>\n",
       "      <th>8395</th>\n",
       "      <td>the christmas at which communication and both ...</td>\n",
       "      <td>8</td>\n",
       "    </tr>\n",
       "    <tr>\n",
       "      <th>3911</th>\n",
       "      <td>mysteries by making himself acquainted with ti...</td>\n",
       "      <td>8</td>\n",
       "    </tr>\n",
       "  </tbody>\n",
       "</table>\n",
       "</div>"
      ],
      "text/plain": [
       "                                                    text  author\n",
       "28303  an end to which both of them submitted without...      26\n",
       "38722  out to join them before them roll the mists of...      37\n",
       "3887   extent a man especially a man brought down as ...       8\n",
       "8395   the christmas at which communication and both ...       8\n",
       "3911   mysteries by making himself acquainted with ti...       8"
      ]
     },
     "execution_count": 14,
     "metadata": {},
     "output_type": "execute_result"
    }
   ],
   "source": [
    "df = df.sample(frac=1)\n",
    "df.head(5)"
   ]
  },
  {
   "cell_type": "markdown",
   "id": "088c05e5",
   "metadata": {},
   "source": [
    "Now split our data into appropriate partitions for training and testing"
   ]
  },
  {
   "cell_type": "code",
   "execution_count": 15,
   "id": "6a277b49",
   "metadata": {},
   "outputs": [
    {
     "data": {
      "text/plain": [
       "(15000, 16875)"
      ]
     },
     "execution_count": 15,
     "metadata": {},
     "output_type": "execute_result"
    }
   ],
   "source": [
    "train_max_idx = int(df.shape[0] * .8)\n",
    "dev_max_idx = int((df.shape[0] * .1) + train_max_idx)\n",
    "\n",
    "\n",
    "train_max_idx, dev_max_idx"
   ]
  },
  {
   "cell_type": "code",
   "execution_count": 16,
   "id": "7a897fcf",
   "metadata": {},
   "outputs": [
    {
     "data": {
      "text/plain": [
       "((15000, 2), (1875, 2), (1875, 2))"
      ]
     },
     "execution_count": 16,
     "metadata": {},
     "output_type": "execute_result"
    }
   ],
   "source": [
    "train_df = df.iloc[:train_max_idx]\n",
    "dev_df = df.iloc[train_max_idx:dev_max_idx]\n",
    "test_df = df.iloc[dev_max_idx:]\n",
    "\n",
    "train_df.shape, dev_df.shape, test_df.shape"
   ]
  },
  {
   "cell_type": "markdown",
   "id": "3b0c36d9",
   "metadata": {},
   "source": [
    "### Train a model"
   ]
  },
  {
   "cell_type": "code",
   "execution_count": 17,
   "id": "b8014318",
   "metadata": {},
   "outputs": [],
   "source": [
    "from sklearn.naive_bayes import MultinomialNB\n",
    "\n",
    "nb_model = MultinomialNB()"
   ]
  },
  {
   "cell_type": "code",
   "execution_count": 19,
   "id": "733cff71",
   "metadata": {},
   "outputs": [],
   "source": [
    "from sklearn.feature_extraction.text import CountVectorizer\n",
    "vectorizer = CountVectorizer()"
   ]
  },
  {
   "cell_type": "code",
   "execution_count": 20,
   "id": "9d6c755d",
   "metadata": {},
   "outputs": [
    {
     "name": "stdout",
     "output_type": "stream",
     "text": [
      "CPU times: user 8.81 s, sys: 107 ms, total: 8.92 s\n",
      "Wall time: 8.92 s\n"
     ]
    },
    {
     "data": {
      "text/plain": [
       "CountVectorizer()"
      ]
     },
     "execution_count": 20,
     "metadata": {},
     "output_type": "execute_result"
    }
   ],
   "source": [
    "%%time\n",
    "\n",
    "vectorizer.fit(train_df['text'])"
   ]
  },
  {
   "cell_type": "code",
   "execution_count": 21,
   "id": "ac1b9f4b",
   "metadata": {},
   "outputs": [],
   "source": [
    "X_train = vectorizer.transform(train_df['text'])\n",
    "X_dev = vectorizer.transform(dev_df['text'])\n",
    "# X_test = vectorizer.transform(test_df['text'])"
   ]
  },
  {
   "cell_type": "code",
   "execution_count": 22,
   "id": "07bec881",
   "metadata": {},
   "outputs": [
    {
     "name": "stdout",
     "output_type": "stream",
     "text": [
      "CPU times: user 44.4 ms, sys: 1.15 ms, total: 45.5 ms\n",
      "Wall time: 44.2 ms\n"
     ]
    },
    {
     "data": {
      "text/plain": [
       "MultinomialNB()"
      ]
     },
     "execution_count": 22,
     "metadata": {},
     "output_type": "execute_result"
    }
   ],
   "source": [
    "%%time \n",
    "\n",
    "nb_model.fit(X_train, train_df['author'])"
   ]
  },
  {
   "cell_type": "code",
   "execution_count": 23,
   "id": "77f1ac1a",
   "metadata": {},
   "outputs": [
    {
     "data": {
      "text/plain": [
       "0.9465333333333333"
      ]
     },
     "execution_count": 23,
     "metadata": {},
     "output_type": "execute_result"
    }
   ],
   "source": [
    "nb_model.score(X_train, train_df['author'])"
   ]
  },
  {
   "cell_type": "code",
   "execution_count": 24,
   "id": "b39c1895",
   "metadata": {},
   "outputs": [
    {
     "data": {
      "text/plain": [
       "0.9376"
      ]
     },
     "execution_count": 24,
     "metadata": {},
     "output_type": "execute_result"
    }
   ],
   "source": [
    "nb_model.score(X_dev, dev_df['author'])"
   ]
  },
  {
   "cell_type": "markdown",
   "id": "4f1c585a",
   "metadata": {},
   "source": [
    "#### Let's modify the value for smoothing\n",
    "\n",
    "By default, Laplacian smoothing (add-one) is used. But lets change the value and see what happens"
   ]
  },
  {
   "cell_type": "code",
   "execution_count": 25,
   "id": "b2b2a592",
   "metadata": {},
   "outputs": [
    {
     "data": {
      "text/plain": [
       "MultinomialNB(alpha=10)"
      ]
     },
     "execution_count": 25,
     "metadata": {},
     "output_type": "execute_result"
    }
   ],
   "source": [
    "nb_model = MultinomialNB(alpha=10)\n",
    "nb_model"
   ]
  },
  {
   "cell_type": "code",
   "execution_count": 26,
   "id": "85ff14ad",
   "metadata": {},
   "outputs": [
    {
     "name": "stdout",
     "output_type": "stream",
     "text": [
      "CPU times: user 45.4 ms, sys: 1.04 ms, total: 46.5 ms\n",
      "Wall time: 45.2 ms\n"
     ]
    },
    {
     "data": {
      "text/plain": [
       "MultinomialNB(alpha=10)"
      ]
     },
     "execution_count": 26,
     "metadata": {},
     "output_type": "execute_result"
    }
   ],
   "source": [
    "%%time \n",
    "\n",
    "nb_model.fit(X_train, train_df['author'])"
   ]
  },
  {
   "cell_type": "code",
   "execution_count": 27,
   "id": "cec75aa2",
   "metadata": {},
   "outputs": [
    {
     "data": {
      "text/plain": [
       "0.9424"
      ]
     },
     "execution_count": 27,
     "metadata": {},
     "output_type": "execute_result"
    }
   ],
   "source": [
    "nb_model.score(X_train, train_df['author'])"
   ]
  },
  {
   "cell_type": "code",
   "execution_count": 28,
   "id": "378ee4ad",
   "metadata": {},
   "outputs": [
    {
     "data": {
      "text/plain": [
       "0.9349333333333333"
      ]
     },
     "execution_count": 28,
     "metadata": {},
     "output_type": "execute_result"
    }
   ],
   "source": [
    "nb_model.score(X_dev, dev_df['author'])"
   ]
  },
  {
   "cell_type": "markdown",
   "id": "ecf04844",
   "metadata": {},
   "source": [
    "**Question:** Was add-10 smoothing better than add-one?"
   ]
  },
  {
   "cell_type": "code",
   "execution_count": null,
   "id": "f5cfe126",
   "metadata": {},
   "outputs": [],
   "source": []
  },
  {
   "cell_type": "markdown",
   "id": "88f319b3",
   "metadata": {},
   "source": [
    "Let's look at add-two smoothing"
   ]
  },
  {
   "cell_type": "code",
   "execution_count": 29,
   "id": "bd06bdd7",
   "metadata": {},
   "outputs": [
    {
     "data": {
      "text/plain": [
       "(0.9456, 0.9376)"
      ]
     },
     "execution_count": 29,
     "metadata": {},
     "output_type": "execute_result"
    }
   ],
   "source": [
    "nb_model = MultinomialNB(alpha=2)\n",
    "nb_model.fit(X_train, train_df['author'])\n",
    "nb_model.score(X_train, train_df['author']), nb_model.score(X_dev, dev_df['author'])"
   ]
  },
  {
   "cell_type": "markdown",
   "id": "40cb3775",
   "metadata": {},
   "source": [
    "Let's look at no smoothing"
   ]
  },
  {
   "cell_type": "code",
   "execution_count": 30,
   "id": "727bcf27",
   "metadata": {},
   "outputs": [
    {
     "name": "stderr",
     "output_type": "stream",
     "text": [
      "/opt/conda/lib/python3.8/site-packages/sklearn/naive_bayes.py:508: UserWarning: alpha too small will result in numeric errors, setting alpha = 1.0e-10\n",
      "  warnings.warn('alpha too small will result in numeric errors, '\n"
     ]
    },
    {
     "data": {
      "text/plain": [
       "(0.9506666666666667, 0.9386666666666666)"
      ]
     },
     "execution_count": 30,
     "metadata": {},
     "output_type": "execute_result"
    }
   ],
   "source": [
    "nb_model = MultinomialNB(alpha=0)\n",
    "nb_model.fit(X_train, train_df['author'])\n",
    "nb_model.score(X_train, train_df['author']), nb_model.score(X_dev, dev_df['author'])"
   ]
  },
  {
   "cell_type": "markdown",
   "id": "cfc5a536",
   "metadata": {},
   "source": [
    "Let's loop through lots of values and see differences in accuracy"
   ]
  },
  {
   "cell_type": "code",
   "execution_count": 31,
   "id": "a576f5c9",
   "metadata": {},
   "outputs": [
    {
     "name": "stderr",
     "output_type": "stream",
     "text": [
      "  0%|          | 0/30 [00:00<?, ?it/s]/opt/conda/lib/python3.8/site-packages/sklearn/naive_bayes.py:508: UserWarning: alpha too small will result in numeric errors, setting alpha = 1.0e-10\n",
      "  warnings.warn('alpha too small will result in numeric errors, '\n",
      "100%|██████████| 30/30 [00:02<00:00, 10.52it/s]\n"
     ]
    }
   ],
   "source": [
    "from tqdm import tqdm\n",
    "\n",
    "smoothing_values = np.arange(0,15, 0.5)\n",
    "train_accuracy, dev_accuracy = [], []\n",
    "\n",
    "for smoothing_value in tqdm(smoothing_values):\n",
    "    nb_model = MultinomialNB(alpha=smoothing_value)\n",
    "    nb_model.fit(X_train, train_df['author'])\n",
    "    train_accuracy.append(nb_model.score(X_train, train_df['author']))\n",
    "    dev_accuracy.append(nb_model.score(X_dev, dev_df['author']))\n",
    "    \n",
    "results_df = pd.DataFrame({'alpha': smoothing_values, \n",
    "              'train_accuracy': train_accuracy,\n",
    "             'dev_accuracy': dev_accuracy})"
   ]
  },
  {
   "cell_type": "code",
   "execution_count": 32,
   "id": "bb327124",
   "metadata": {},
   "outputs": [
    {
     "data": {
      "text/plain": [
       "array([ 0. ,  0.5,  1. ,  1.5,  2. ,  2.5,  3. ,  3.5,  4. ,  4.5,  5. ,\n",
       "        5.5,  6. ,  6.5,  7. ,  7.5,  8. ,  8.5,  9. ,  9.5, 10. , 10.5,\n",
       "       11. , 11.5, 12. , 12.5, 13. , 13.5, 14. , 14.5])"
      ]
     },
     "execution_count": 32,
     "metadata": {},
     "output_type": "execute_result"
    }
   ],
   "source": [
    "smoothing_values"
   ]
  },
  {
   "cell_type": "code",
   "execution_count": 33,
   "id": "a736197a",
   "metadata": {},
   "outputs": [
    {
     "data": {
      "text/html": [
       "<div>\n",
       "<style scoped>\n",
       "    .dataframe tbody tr th:only-of-type {\n",
       "        vertical-align: middle;\n",
       "    }\n",
       "\n",
       "    .dataframe tbody tr th {\n",
       "        vertical-align: top;\n",
       "    }\n",
       "\n",
       "    .dataframe thead th {\n",
       "        text-align: right;\n",
       "    }\n",
       "</style>\n",
       "<table border=\"1\" class=\"dataframe\">\n",
       "  <thead>\n",
       "    <tr style=\"text-align: right;\">\n",
       "      <th></th>\n",
       "      <th>alpha</th>\n",
       "      <th>train_accuracy</th>\n",
       "      <th>dev_accuracy</th>\n",
       "    </tr>\n",
       "  </thead>\n",
       "  <tbody>\n",
       "    <tr>\n",
       "      <th>0</th>\n",
       "      <td>0.0</td>\n",
       "      <td>0.950667</td>\n",
       "      <td>0.938667</td>\n",
       "    </tr>\n",
       "    <tr>\n",
       "      <th>1</th>\n",
       "      <td>0.5</td>\n",
       "      <td>0.947200</td>\n",
       "      <td>0.937600</td>\n",
       "    </tr>\n",
       "    <tr>\n",
       "      <th>2</th>\n",
       "      <td>1.0</td>\n",
       "      <td>0.946533</td>\n",
       "      <td>0.937600</td>\n",
       "    </tr>\n",
       "    <tr>\n",
       "      <th>3</th>\n",
       "      <td>1.5</td>\n",
       "      <td>0.946067</td>\n",
       "      <td>0.937600</td>\n",
       "    </tr>\n",
       "    <tr>\n",
       "      <th>4</th>\n",
       "      <td>2.0</td>\n",
       "      <td>0.945600</td>\n",
       "      <td>0.937600</td>\n",
       "    </tr>\n",
       "    <tr>\n",
       "      <th>5</th>\n",
       "      <td>2.5</td>\n",
       "      <td>0.945400</td>\n",
       "      <td>0.937600</td>\n",
       "    </tr>\n",
       "    <tr>\n",
       "      <th>6</th>\n",
       "      <td>3.0</td>\n",
       "      <td>0.945000</td>\n",
       "      <td>0.937600</td>\n",
       "    </tr>\n",
       "    <tr>\n",
       "      <th>7</th>\n",
       "      <td>3.5</td>\n",
       "      <td>0.944867</td>\n",
       "      <td>0.937600</td>\n",
       "    </tr>\n",
       "    <tr>\n",
       "      <th>8</th>\n",
       "      <td>4.0</td>\n",
       "      <td>0.944733</td>\n",
       "      <td>0.938133</td>\n",
       "    </tr>\n",
       "    <tr>\n",
       "      <th>9</th>\n",
       "      <td>4.5</td>\n",
       "      <td>0.944200</td>\n",
       "      <td>0.937600</td>\n",
       "    </tr>\n",
       "    <tr>\n",
       "      <th>10</th>\n",
       "      <td>5.0</td>\n",
       "      <td>0.944133</td>\n",
       "      <td>0.937600</td>\n",
       "    </tr>\n",
       "    <tr>\n",
       "      <th>11</th>\n",
       "      <td>5.5</td>\n",
       "      <td>0.944133</td>\n",
       "      <td>0.936533</td>\n",
       "    </tr>\n",
       "    <tr>\n",
       "      <th>12</th>\n",
       "      <td>6.0</td>\n",
       "      <td>0.944067</td>\n",
       "      <td>0.936533</td>\n",
       "    </tr>\n",
       "    <tr>\n",
       "      <th>13</th>\n",
       "      <td>6.5</td>\n",
       "      <td>0.943733</td>\n",
       "      <td>0.936533</td>\n",
       "    </tr>\n",
       "    <tr>\n",
       "      <th>14</th>\n",
       "      <td>7.0</td>\n",
       "      <td>0.943600</td>\n",
       "      <td>0.936000</td>\n",
       "    </tr>\n",
       "    <tr>\n",
       "      <th>15</th>\n",
       "      <td>7.5</td>\n",
       "      <td>0.943600</td>\n",
       "      <td>0.936000</td>\n",
       "    </tr>\n",
       "    <tr>\n",
       "      <th>16</th>\n",
       "      <td>8.0</td>\n",
       "      <td>0.943200</td>\n",
       "      <td>0.936000</td>\n",
       "    </tr>\n",
       "    <tr>\n",
       "      <th>17</th>\n",
       "      <td>8.5</td>\n",
       "      <td>0.943133</td>\n",
       "      <td>0.935467</td>\n",
       "    </tr>\n",
       "    <tr>\n",
       "      <th>18</th>\n",
       "      <td>9.0</td>\n",
       "      <td>0.942733</td>\n",
       "      <td>0.936000</td>\n",
       "    </tr>\n",
       "    <tr>\n",
       "      <th>19</th>\n",
       "      <td>9.5</td>\n",
       "      <td>0.942667</td>\n",
       "      <td>0.935467</td>\n",
       "    </tr>\n",
       "    <tr>\n",
       "      <th>20</th>\n",
       "      <td>10.0</td>\n",
       "      <td>0.942400</td>\n",
       "      <td>0.934933</td>\n",
       "    </tr>\n",
       "    <tr>\n",
       "      <th>21</th>\n",
       "      <td>10.5</td>\n",
       "      <td>0.941867</td>\n",
       "      <td>0.934933</td>\n",
       "    </tr>\n",
       "    <tr>\n",
       "      <th>22</th>\n",
       "      <td>11.0</td>\n",
       "      <td>0.941733</td>\n",
       "      <td>0.934933</td>\n",
       "    </tr>\n",
       "    <tr>\n",
       "      <th>23</th>\n",
       "      <td>11.5</td>\n",
       "      <td>0.941600</td>\n",
       "      <td>0.934933</td>\n",
       "    </tr>\n",
       "    <tr>\n",
       "      <th>24</th>\n",
       "      <td>12.0</td>\n",
       "      <td>0.941000</td>\n",
       "      <td>0.934933</td>\n",
       "    </tr>\n",
       "    <tr>\n",
       "      <th>25</th>\n",
       "      <td>12.5</td>\n",
       "      <td>0.940533</td>\n",
       "      <td>0.934933</td>\n",
       "    </tr>\n",
       "    <tr>\n",
       "      <th>26</th>\n",
       "      <td>13.0</td>\n",
       "      <td>0.939933</td>\n",
       "      <td>0.934933</td>\n",
       "    </tr>\n",
       "    <tr>\n",
       "      <th>27</th>\n",
       "      <td>13.5</td>\n",
       "      <td>0.939600</td>\n",
       "      <td>0.933867</td>\n",
       "    </tr>\n",
       "    <tr>\n",
       "      <th>28</th>\n",
       "      <td>14.0</td>\n",
       "      <td>0.939667</td>\n",
       "      <td>0.932267</td>\n",
       "    </tr>\n",
       "    <tr>\n",
       "      <th>29</th>\n",
       "      <td>14.5</td>\n",
       "      <td>0.939267</td>\n",
       "      <td>0.931733</td>\n",
       "    </tr>\n",
       "  </tbody>\n",
       "</table>\n",
       "</div>"
      ],
      "text/plain": [
       "    alpha  train_accuracy  dev_accuracy\n",
       "0     0.0        0.950667      0.938667\n",
       "1     0.5        0.947200      0.937600\n",
       "2     1.0        0.946533      0.937600\n",
       "3     1.5        0.946067      0.937600\n",
       "4     2.0        0.945600      0.937600\n",
       "5     2.5        0.945400      0.937600\n",
       "6     3.0        0.945000      0.937600\n",
       "7     3.5        0.944867      0.937600\n",
       "8     4.0        0.944733      0.938133\n",
       "9     4.5        0.944200      0.937600\n",
       "10    5.0        0.944133      0.937600\n",
       "11    5.5        0.944133      0.936533\n",
       "12    6.0        0.944067      0.936533\n",
       "13    6.5        0.943733      0.936533\n",
       "14    7.0        0.943600      0.936000\n",
       "15    7.5        0.943600      0.936000\n",
       "16    8.0        0.943200      0.936000\n",
       "17    8.5        0.943133      0.935467\n",
       "18    9.0        0.942733      0.936000\n",
       "19    9.5        0.942667      0.935467\n",
       "20   10.0        0.942400      0.934933\n",
       "21   10.5        0.941867      0.934933\n",
       "22   11.0        0.941733      0.934933\n",
       "23   11.5        0.941600      0.934933\n",
       "24   12.0        0.941000      0.934933\n",
       "25   12.5        0.940533      0.934933\n",
       "26   13.0        0.939933      0.934933\n",
       "27   13.5        0.939600      0.933867\n",
       "28   14.0        0.939667      0.932267\n",
       "29   14.5        0.939267      0.931733"
      ]
     },
     "execution_count": 33,
     "metadata": {},
     "output_type": "execute_result"
    }
   ],
   "source": [
    "results_df"
   ]
  },
  {
   "cell_type": "code",
   "execution_count": 34,
   "id": "f682dfad",
   "metadata": {},
   "outputs": [
    {
     "data": {
      "text/plain": [
       "<AxesSubplot:xlabel='alpha'>"
      ]
     },
     "execution_count": 34,
     "metadata": {},
     "output_type": "execute_result"
    },
    {
     "data": {
      "image/png": "[encoded data removed]",
      "text/plain": [
       "<Figure size 432x288 with 1 Axes>"
      ]
     },
     "metadata": {
      "needs_background": "light"
     },
     "output_type": "display_data"
    }
   ],
   "source": [
    "results_df.plot(kind='line', x='alpha')"
   ]
  },
  {
   "cell_type": "markdown",
   "id": "f5921a98",
   "metadata": {},
   "source": [
    "**Question:** From the above, which value of smoothing seemd to work the best?"
   ]
  },
  {
   "cell_type": "code",
   "execution_count": 35,
   "id": "190851dc",
   "metadata": {},
   "outputs": [
    {
     "data": {
      "text/plain": [
       "0"
      ]
     },
     "execution_count": 35,
     "metadata": {},
     "output_type": "execute_result"
    }
   ],
   "source": [
    "results_df['dev_accuracy'].argmax()"
   ]
  },
  {
   "cell_type": "markdown",
   "id": "328ae710",
   "metadata": {},
   "source": [
    "So now we will use that value for the model we apply to our held-out test data"
   ]
  },
  {
   "cell_type": "code",
   "execution_count": 36,
   "id": "9781d3b9",
   "metadata": {},
   "outputs": [
    {
     "data": {
      "text/plain": [
       "0.0"
      ]
     },
     "execution_count": 36,
     "metadata": {},
     "output_type": "execute_result"
    }
   ],
   "source": [
    "best_alpha = results_df.loc[results_df['dev_accuracy'].argmax()]['alpha']\n",
    "best_alpha"
   ]
  },
  {
   "cell_type": "code",
   "execution_count": 37,
   "id": "fc00018f",
   "metadata": {},
   "outputs": [
    {
     "name": "stderr",
     "output_type": "stream",
     "text": [
      "/opt/conda/lib/python3.8/site-packages/sklearn/naive_bayes.py:508: UserWarning: alpha too small will result in numeric errors, setting alpha = 1.0e-10\n",
      "  warnings.warn('alpha too small will result in numeric errors, '\n"
     ]
    },
    {
     "data": {
      "text/plain": [
       "0.9466666666666667"
      ]
     },
     "execution_count": 37,
     "metadata": {},
     "output_type": "execute_result"
    }
   ],
   "source": [
    "nb_model = MultinomialNB(alpha=best_alpha)\n",
    "nb_model.fit(X_train, train_df['author'])\n",
    "\n",
    "X_test = vectorizer.transform(test_df['text'])\n",
    "\n",
    "nb_model.score(X_test, test_df['author'])"
   ]
  },
  {
   "cell_type": "markdown",
   "id": "940641a3",
   "metadata": {},
   "source": [
    "(back to slides)\n",
    "\n",
    "## Metrics beyond accuracy"
   ]
  },
  {
   "cell_type": "code",
   "execution_count": 38,
   "id": "51e2a845",
   "metadata": {},
   "outputs": [],
   "source": [
    "import nltk\n",
    "moview_reviews = nltk.corpus.movie_reviews\n",
    "review_files = [(file_id, file_id.startswith(\"pos\")) for file_id in moview_reviews.fileids()]\n",
    "\n",
    "df = pd.DataFrame(review_files)\n",
    "df = df.rename(columns={0: \"file_name\", 1: \"gold-label\"})\n",
    "\n",
    "def read_mov_review(f_name):\n",
    "    return moview_reviews.open(f_name).read()\n",
    "\n",
    "df['review_text'] = df['file_name'].apply(read_mov_review)"
   ]
  },
  {
   "cell_type": "code",
   "execution_count": 39,
   "id": "27cb46ff",
   "metadata": {},
   "outputs": [
    {
     "data": {
      "text/plain": [
       "(2000, 3)"
      ]
     },
     "execution_count": 39,
     "metadata": {},
     "output_type": "execute_result"
    }
   ],
   "source": [
    "df.shape"
   ]
  },
  {
   "cell_type": "code",
   "execution_count": 42,
   "id": "2684f1c2",
   "metadata": {},
   "outputs": [
    {
     "data": {
      "text/plain": [
       "1000"
      ]
     },
     "execution_count": 42,
     "metadata": {},
     "output_type": "execute_result"
    }
   ],
   "source": [
    "sum(df['gold-label'])"
   ]
  },
  {
   "cell_type": "code",
   "execution_count": 46,
   "id": "99b9b311",
   "metadata": {},
   "outputs": [
    {
     "data": {
      "text/plain": [
       "False    1000\n",
       "True     1000\n",
       "Name: gold-label, dtype: int64"
      ]
     },
     "execution_count": 46,
     "metadata": {},
     "output_type": "execute_result"
    }
   ],
   "source": [
    "df['gold-label'].map(lambda x: \"True\" if x else \"False\").value_counts()"
   ]
  },
  {
   "cell_type": "code",
   "execution_count": 47,
   "id": "fed3f797",
   "metadata": {},
   "outputs": [
    {
     "data": {
      "text/plain": [
       "Int64Index([735, 670,  44, 559, 778, 693,  30, 431, 289, 779,\n",
       "            ...\n",
       "            848, 796, 703, 885, 950, 728, 966, 173, 294, 736],\n",
       "           dtype='int64', length=850)"
      ]
     },
     "execution_count": 47,
     "metadata": {},
     "output_type": "execute_result"
    }
   ],
   "source": [
    "df[df['gold-label'] == False].sample(1000 - 150).index"
   ]
  },
  {
   "cell_type": "code",
   "execution_count": 48,
   "id": "e2bac933",
   "metadata": {},
   "outputs": [
    {
     "data": {
      "text/html": [
       "<div>\n",
       "<style scoped>\n",
       "    .dataframe tbody tr th:only-of-type {\n",
       "        vertical-align: middle;\n",
       "    }\n",
       "\n",
       "    .dataframe tbody tr th {\n",
       "        vertical-align: top;\n",
       "    }\n",
       "\n",
       "    .dataframe thead th {\n",
       "        text-align: right;\n",
       "    }\n",
       "</style>\n",
       "<table border=\"1\" class=\"dataframe\">\n",
       "  <thead>\n",
       "    <tr style=\"text-align: right;\">\n",
       "      <th></th>\n",
       "      <th>file_name</th>\n",
       "      <th>gold-label</th>\n",
       "      <th>review_text</th>\n",
       "    </tr>\n",
       "  </thead>\n",
       "  <tbody>\n",
       "    <tr>\n",
       "      <th>2</th>\n",
       "      <td>neg/cv002_17424.txt</td>\n",
       "      <td>False</td>\n",
       "      <td>it is movies like these that make a jaded movi...</td>\n",
       "    </tr>\n",
       "    <tr>\n",
       "      <th>12</th>\n",
       "      <td>neg/cv012_29411.txt</td>\n",
       "      <td>False</td>\n",
       "      <td>and now the high-flying hong kong style of fil...</td>\n",
       "    </tr>\n",
       "    <tr>\n",
       "      <th>16</th>\n",
       "      <td>neg/cv016_4348.txt</td>\n",
       "      <td>False</td>\n",
       "      <td>i'm really starting to wonder about alicia sil...</td>\n",
       "    </tr>\n",
       "    <tr>\n",
       "      <th>17</th>\n",
       "      <td>neg/cv017_23487.txt</td>\n",
       "      <td>False</td>\n",
       "      <td>so what do you get when you mix together plot ...</td>\n",
       "    </tr>\n",
       "    <tr>\n",
       "      <th>20</th>\n",
       "      <td>neg/cv020_9234.txt</td>\n",
       "      <td>False</td>\n",
       "      <td>\" spawn \" features good guys , bad guys , lot...</td>\n",
       "    </tr>\n",
       "    <tr>\n",
       "      <th>...</th>\n",
       "      <td>...</td>\n",
       "      <td>...</td>\n",
       "      <td>...</td>\n",
       "    </tr>\n",
       "    <tr>\n",
       "      <th>1995</th>\n",
       "      <td>pos/cv995_21821.txt</td>\n",
       "      <td>True</td>\n",
       "      <td>wow ! what a movie . \\nit's everything a movie...</td>\n",
       "    </tr>\n",
       "    <tr>\n",
       "      <th>1996</th>\n",
       "      <td>pos/cv996_11592.txt</td>\n",
       "      <td>True</td>\n",
       "      <td>richard gere can be a commanding actor , but h...</td>\n",
       "    </tr>\n",
       "    <tr>\n",
       "      <th>1997</th>\n",
       "      <td>pos/cv997_5046.txt</td>\n",
       "      <td>True</td>\n",
       "      <td>glory--starring matthew broderick , denzel was...</td>\n",
       "    </tr>\n",
       "    <tr>\n",
       "      <th>1998</th>\n",
       "      <td>pos/cv998_14111.txt</td>\n",
       "      <td>True</td>\n",
       "      <td>steven spielberg's second epic film on world w...</td>\n",
       "    </tr>\n",
       "    <tr>\n",
       "      <th>1999</th>\n",
       "      <td>pos/cv999_13106.txt</td>\n",
       "      <td>True</td>\n",
       "      <td>truman ( \" true-man \" ) burbank is the perfect...</td>\n",
       "    </tr>\n",
       "  </tbody>\n",
       "</table>\n",
       "<p>1150 rows × 3 columns</p>\n",
       "</div>"
      ],
      "text/plain": [
       "                file_name  gold-label  \\\n",
       "2     neg/cv002_17424.txt       False   \n",
       "12    neg/cv012_29411.txt       False   \n",
       "16     neg/cv016_4348.txt       False   \n",
       "17    neg/cv017_23487.txt       False   \n",
       "20     neg/cv020_9234.txt       False   \n",
       "...                   ...         ...   \n",
       "1995  pos/cv995_21821.txt        True   \n",
       "1996  pos/cv996_11592.txt        True   \n",
       "1997   pos/cv997_5046.txt        True   \n",
       "1998  pos/cv998_14111.txt        True   \n",
       "1999  pos/cv999_13106.txt        True   \n",
       "\n",
       "                                            review_text  \n",
       "2     it is movies like these that make a jaded movi...  \n",
       "12    and now the high-flying hong kong style of fil...  \n",
       "16    i'm really starting to wonder about alicia sil...  \n",
       "17    so what do you get when you mix together plot ...  \n",
       "20     \" spawn \" features good guys , bad guys , lot...  \n",
       "...                                                 ...  \n",
       "1995  wow ! what a movie . \\nit's everything a movie...  \n",
       "1996  richard gere can be a commanding actor , but h...  \n",
       "1997  glory--starring matthew broderick , denzel was...  \n",
       "1998  steven spielberg's second epic film on world w...  \n",
       "1999  truman ( \" true-man \" ) burbank is the perfect...  \n",
       "\n",
       "[1150 rows x 3 columns]"
      ]
     },
     "execution_count": 48,
     "metadata": {},
     "output_type": "execute_result"
    }
   ],
   "source": [
    "df.drop(index= df[df['gold-label'] == False].sample(1000 - 150).index)"
   ]
  },
  {
   "cell_type": "code",
   "execution_count": 49,
   "id": "a5691ced",
   "metadata": {},
   "outputs": [],
   "source": [
    "tmp_df = df.drop(index= df[df['gold-label'] == False].sample(1000 - 150).index)"
   ]
  },
  {
   "cell_type": "code",
   "execution_count": 50,
   "id": "6ce390c0",
   "metadata": {},
   "outputs": [],
   "source": [
    "tmp_df = tmp_df.sample(frac=1)"
   ]
  },
  {
   "cell_type": "code",
   "execution_count": 51,
   "id": "ab542e07",
   "metadata": {},
   "outputs": [
    {
     "data": {
      "text/plain": [
       "True     1000\n",
       "False     150\n",
       "Name: gold-label, dtype: int64"
      ]
     },
     "execution_count": 51,
     "metadata": {},
     "output_type": "execute_result"
    }
   ],
   "source": [
    "tmp_df['gold-label'].value_counts()#normalize=True)"
   ]
  },
  {
   "cell_type": "code",
   "execution_count": 52,
   "id": "c462d118",
   "metadata": {},
   "outputs": [
    {
     "data": {
      "text/plain": [
       "True     0.869565\n",
       "False    0.130435\n",
       "Name: gold-label, dtype: float64"
      ]
     },
     "execution_count": 52,
     "metadata": {},
     "output_type": "execute_result"
    }
   ],
   "source": [
    "tmp_df['gold-label'].value_counts(normalize=True)"
   ]
  },
  {
   "cell_type": "code",
   "execution_count": 53,
   "id": "0ae589f6",
   "metadata": {},
   "outputs": [
    {
     "data": {
      "text/plain": [
       "((920, 3), (115, 3), (115, 3))"
      ]
     },
     "execution_count": 53,
     "metadata": {},
     "output_type": "execute_result"
    }
   ],
   "source": [
    "train_max_idx = int(tmp_df.shape[0] * .8)\n",
    "dev_max_idx = int((tmp_df.shape[0] * .1) + train_max_idx)\n",
    "\n",
    "\n",
    "train_max_idx, dev_max_idx\n",
    "\n",
    "train_df = tmp_df.iloc[:train_max_idx]\n",
    "dev_df = tmp_df.iloc[train_max_idx:dev_max_idx]\n",
    "test_df = tmp_df.iloc[dev_max_idx:]\n",
    "\n",
    "train_df.shape, dev_df.shape, test_df.shape"
   ]
  },
  {
   "cell_type": "code",
   "execution_count": 54,
   "id": "99ed8baa",
   "metadata": {},
   "outputs": [],
   "source": [
    "vectorizer = CountVectorizer(min_df=10)\n",
    "vectorizer.fit(train_df['review_text'])\n",
    "\n",
    "X_train = vectorizer.transform(train_df['review_text'])\n",
    "X_dev = vectorizer.transform(dev_df['review_text'])"
   ]
  },
  {
   "cell_type": "code",
   "execution_count": 55,
   "id": "9f8657ea",
   "metadata": {},
   "outputs": [
    {
     "data": {
      "text/plain": [
       "(1.0, 0.8956521739130435)"
      ]
     },
     "execution_count": 55,
     "metadata": {},
     "output_type": "execute_result"
    }
   ],
   "source": [
    "from sklearn.linear_model import LogisticRegression\n",
    "from sklearn.neural_network import MLPClassifier\n",
    "\n",
    "clf = LogisticRegression(max_iter=1e3, C=100)\n",
    "#clf = MultinomialNB()\n",
    "#clf = MLPClassifier(hidden_layer_sizes=10)\n",
    "clf.fit(X_train, train_df['gold-label'])\n",
    "\n",
    "clf.score(X_train, train_df['gold-label']), clf.score(X_dev, dev_df['gold-label'])"
   ]
  },
  {
   "cell_type": "code",
   "execution_count": 59,
   "id": "bd095d71",
   "metadata": {},
   "outputs": [
    {
     "data": {
      "text/plain": [
       "True     0.872826\n",
       "False    0.127174\n",
       "Name: gold-label, dtype: float64"
      ]
     },
     "execution_count": 59,
     "metadata": {},
     "output_type": "execute_result"
    }
   ],
   "source": [
    "train_df['gold-label'].value_counts(normalize=True)"
   ]
  },
  {
   "cell_type": "code",
   "execution_count": 60,
   "id": "cd63ed04",
   "metadata": {},
   "outputs": [
    {
     "data": {
      "text/plain": [
       "True     0.852174\n",
       "False    0.147826\n",
       "Name: gold-label, dtype: float64"
      ]
     },
     "execution_count": 60,
     "metadata": {},
     "output_type": "execute_result"
    }
   ],
   "source": [
    "dev_df['gold-label'].value_counts(normalize=True)"
   ]
  },
  {
   "cell_type": "markdown",
   "id": "80c3fab1",
   "metadata": {},
   "source": [
    "**Question:** What might be misleading about the dev accuracy?\n",
    "\n",
    "<details>\n",
    "<summary>Hint</summary>\n",
    "    Think about value_counts from above\n",
    "</details>"
   ]
  },
  {
   "cell_type": "code",
   "execution_count": null,
   "id": "62f18229",
   "metadata": {},
   "outputs": [],
   "source": []
  },
  {
   "cell_type": "code",
   "execution_count": null,
   "id": "35e7cd63",
   "metadata": {},
   "outputs": [],
   "source": []
  },
  {
   "cell_type": "code",
   "execution_count": null,
   "id": "94f16bb2",
   "metadata": {},
   "outputs": [],
   "source": [
    "dev_df['gold-label'].value_counts(normalize=True)"
   ]
  },
  {
   "cell_type": "code",
   "execution_count": 61,
   "id": "b57482b7",
   "metadata": {},
   "outputs": [
    {
     "data": {
      "text/plain": [
       "array([ True,  True,  True,  True,  True, False,  True,  True,  True,\n",
       "        True,  True,  True, False, False,  True,  True,  True,  True,\n",
       "        True,  True,  True, False,  True,  True,  True,  True,  True,\n",
       "        True, False, False,  True,  True,  True,  True, False,  True,\n",
       "        True,  True,  True,  True,  True,  True,  True,  True, False,\n",
       "        True,  True,  True,  True, False, False,  True,  True,  True,\n",
       "        True, False,  True,  True,  True,  True,  True, False,  True,\n",
       "        True,  True,  True,  True,  True,  True,  True,  True,  True,\n",
       "        True, False,  True,  True,  True,  True,  True,  True,  True,\n",
       "        True,  True,  True,  True,  True,  True,  True,  True,  True,\n",
       "        True,  True,  True,  True,  True,  True,  True,  True,  True,\n",
       "        True,  True,  True,  True,  True,  True,  True,  True,  True,\n",
       "        True,  True,  True,  True,  True,  True,  True])"
      ]
     },
     "execution_count": 61,
     "metadata": {},
     "output_type": "execute_result"
    }
   ],
   "source": [
    "clf.predict(X_dev)"
   ]
  },
  {
   "cell_type": "code",
   "execution_count": 62,
   "id": "62660dcb",
   "metadata": {},
   "outputs": [
    {
     "data": {
      "text/plain": [
       "True     102\n",
       "False     13\n",
       "dtype: int64"
      ]
     },
     "execution_count": 62,
     "metadata": {},
     "output_type": "execute_result"
    }
   ],
   "source": [
    "pd.Series(clf.predict(X_dev)).value_counts()"
   ]
  },
  {
   "cell_type": "code",
   "execution_count": 63,
   "id": "d37ef6bc",
   "metadata": {},
   "outputs": [],
   "source": [
    "dev_df = dev_df.assign(prediction = clf.predict(X_dev))"
   ]
  },
  {
   "cell_type": "code",
   "execution_count": 66,
   "id": "883bf240",
   "metadata": {},
   "outputs": [
    {
     "data": {
      "text/html": [
       "<div>\n",
       "<style scoped>\n",
       "    .dataframe tbody tr th:only-of-type {\n",
       "        vertical-align: middle;\n",
       "    }\n",
       "\n",
       "    .dataframe tbody tr th {\n",
       "        vertical-align: top;\n",
       "    }\n",
       "\n",
       "    .dataframe thead th {\n",
       "        text-align: right;\n",
       "    }\n",
       "</style>\n",
       "<table border=\"1\" class=\"dataframe\">\n",
       "  <thead>\n",
       "    <tr style=\"text-align: right;\">\n",
       "      <th></th>\n",
       "      <th>file_name</th>\n",
       "      <th>gold-label</th>\n",
       "      <th>review_text</th>\n",
       "      <th>prediction</th>\n",
       "    </tr>\n",
       "  </thead>\n",
       "  <tbody>\n",
       "    <tr>\n",
       "      <th>1650</th>\n",
       "      <td>pos/cv650_14340.txt</td>\n",
       "      <td>True</td>\n",
       "      <td>james cmaeron's breakthrough feature was the f...</td>\n",
       "      <td>True</td>\n",
       "    </tr>\n",
       "    <tr>\n",
       "      <th>1263</th>\n",
       "      <td>pos/cv263_19259.txt</td>\n",
       "      <td>True</td>\n",
       "      <td>american pie acknowledges a cold , hard fact t...</td>\n",
       "      <td>True</td>\n",
       "    </tr>\n",
       "    <tr>\n",
       "      <th>1508</th>\n",
       "      <td>pos/cv508_16006.txt</td>\n",
       "      <td>True</td>\n",
       "      <td>maybe the most important thing about this movi...</td>\n",
       "      <td>True</td>\n",
       "    </tr>\n",
       "    <tr>\n",
       "      <th>1540</th>\n",
       "      <td>pos/cv540_3421.txt</td>\n",
       "      <td>True</td>\n",
       "      <td>i am starting to write this review before goin...</td>\n",
       "      <td>True</td>\n",
       "    </tr>\n",
       "    <tr>\n",
       "      <th>1608</th>\n",
       "      <td>pos/cv608_23231.txt</td>\n",
       "      <td>True</td>\n",
       "      <td>magnolia left me relling from the theatre , st...</td>\n",
       "      <td>True</td>\n",
       "    </tr>\n",
       "    <tr>\n",
       "      <th>...</th>\n",
       "      <td>...</td>\n",
       "      <td>...</td>\n",
       "      <td>...</td>\n",
       "      <td>...</td>\n",
       "    </tr>\n",
       "    <tr>\n",
       "      <th>1551</th>\n",
       "      <td>pos/cv551_10565.txt</td>\n",
       "      <td>True</td>\n",
       "      <td>after the simple looking little spacecraft lan...</td>\n",
       "      <td>True</td>\n",
       "    </tr>\n",
       "    <tr>\n",
       "      <th>1938</th>\n",
       "      <td>pos/cv938_10220.txt</td>\n",
       "      <td>True</td>\n",
       "      <td>the idea at the center of the devil's advocate...</td>\n",
       "      <td>True</td>\n",
       "    </tr>\n",
       "    <tr>\n",
       "      <th>1581</th>\n",
       "      <td>pos/cv581_19381.txt</td>\n",
       "      <td>True</td>\n",
       "      <td>eyes wide shut isn't the masterpiece many were...</td>\n",
       "      <td>True</td>\n",
       "    </tr>\n",
       "    <tr>\n",
       "      <th>1378</th>\n",
       "      <td>pos/cv378_20629.txt</td>\n",
       "      <td>True</td>\n",
       "      <td>oliver stone's latest feature is the last one ...</td>\n",
       "      <td>True</td>\n",
       "    </tr>\n",
       "    <tr>\n",
       "      <th>1688</th>\n",
       "      <td>pos/cv688_7368.txt</td>\n",
       "      <td>True</td>\n",
       "      <td>time bandits , from director terry gilliam , i...</td>\n",
       "      <td>True</td>\n",
       "    </tr>\n",
       "  </tbody>\n",
       "</table>\n",
       "<p>94 rows × 4 columns</p>\n",
       "</div>"
      ],
      "text/plain": [
       "                file_name  gold-label  \\\n",
       "1650  pos/cv650_14340.txt        True   \n",
       "1263  pos/cv263_19259.txt        True   \n",
       "1508  pos/cv508_16006.txt        True   \n",
       "1540   pos/cv540_3421.txt        True   \n",
       "1608  pos/cv608_23231.txt        True   \n",
       "...                   ...         ...   \n",
       "1551  pos/cv551_10565.txt        True   \n",
       "1938  pos/cv938_10220.txt        True   \n",
       "1581  pos/cv581_19381.txt        True   \n",
       "1378  pos/cv378_20629.txt        True   \n",
       "1688   pos/cv688_7368.txt        True   \n",
       "\n",
       "                                            review_text  prediction  \n",
       "1650  james cmaeron's breakthrough feature was the f...        True  \n",
       "1263  american pie acknowledges a cold , hard fact t...        True  \n",
       "1508  maybe the most important thing about this movi...        True  \n",
       "1540  i am starting to write this review before goin...        True  \n",
       "1608  magnolia left me relling from the theatre , st...        True  \n",
       "...                                                 ...         ...  \n",
       "1551  after the simple looking little spacecraft lan...        True  \n",
       "1938  the idea at the center of the devil's advocate...        True  \n",
       "1581  eyes wide shut isn't the masterpiece many were...        True  \n",
       "1378  oliver stone's latest feature is the last one ...        True  \n",
       "1688  time bandits , from director terry gilliam , i...        True  \n",
       "\n",
       "[94 rows x 4 columns]"
      ]
     },
     "execution_count": 66,
     "metadata": {},
     "output_type": "execute_result"
    }
   ],
   "source": [
    "dev_df[(dev_df['prediction'] == True) & (dev_df['gold-label'] == True)]"
   ]
  },
  {
   "cell_type": "code",
   "execution_count": 64,
   "id": "4ab19c01",
   "metadata": {},
   "outputs": [
    {
     "data": {
      "text/html": [
       "<div>\n",
       "<style scoped>\n",
       "    .dataframe tbody tr th:only-of-type {\n",
       "        vertical-align: middle;\n",
       "    }\n",
       "\n",
       "    .dataframe tbody tr th {\n",
       "        vertical-align: top;\n",
       "    }\n",
       "\n",
       "    .dataframe thead th {\n",
       "        text-align: right;\n",
       "    }\n",
       "</style>\n",
       "<table border=\"1\" class=\"dataframe\">\n",
       "  <thead>\n",
       "    <tr style=\"text-align: right;\">\n",
       "      <th></th>\n",
       "      <th>file_name</th>\n",
       "      <th>gold-label</th>\n",
       "      <th>review_text</th>\n",
       "      <th>prediction</th>\n",
       "    </tr>\n",
       "  </thead>\n",
       "  <tbody>\n",
       "    <tr>\n",
       "      <th>1650</th>\n",
       "      <td>pos/cv650_14340.txt</td>\n",
       "      <td>True</td>\n",
       "      <td>james cmaeron's breakthrough feature was the f...</td>\n",
       "      <td>True</td>\n",
       "    </tr>\n",
       "    <tr>\n",
       "      <th>1263</th>\n",
       "      <td>pos/cv263_19259.txt</td>\n",
       "      <td>True</td>\n",
       "      <td>american pie acknowledges a cold , hard fact t...</td>\n",
       "      <td>True</td>\n",
       "    </tr>\n",
       "    <tr>\n",
       "      <th>1508</th>\n",
       "      <td>pos/cv508_16006.txt</td>\n",
       "      <td>True</td>\n",
       "      <td>maybe the most important thing about this movi...</td>\n",
       "      <td>True</td>\n",
       "    </tr>\n",
       "    <tr>\n",
       "      <th>1540</th>\n",
       "      <td>pos/cv540_3421.txt</td>\n",
       "      <td>True</td>\n",
       "      <td>i am starting to write this review before goin...</td>\n",
       "      <td>True</td>\n",
       "    </tr>\n",
       "    <tr>\n",
       "      <th>654</th>\n",
       "      <td>neg/cv654_19345.txt</td>\n",
       "      <td>False</td>\n",
       "      <td>you think that these people only exist in the ...</td>\n",
       "      <td>True</td>\n",
       "    </tr>\n",
       "    <tr>\n",
       "      <th>...</th>\n",
       "      <td>...</td>\n",
       "      <td>...</td>\n",
       "      <td>...</td>\n",
       "      <td>...</td>\n",
       "    </tr>\n",
       "    <tr>\n",
       "      <th>1938</th>\n",
       "      <td>pos/cv938_10220.txt</td>\n",
       "      <td>True</td>\n",
       "      <td>the idea at the center of the devil's advocate...</td>\n",
       "      <td>True</td>\n",
       "    </tr>\n",
       "    <tr>\n",
       "      <th>1581</th>\n",
       "      <td>pos/cv581_19381.txt</td>\n",
       "      <td>True</td>\n",
       "      <td>eyes wide shut isn't the masterpiece many were...</td>\n",
       "      <td>True</td>\n",
       "    </tr>\n",
       "    <tr>\n",
       "      <th>514</th>\n",
       "      <td>neg/cv514_12173.txt</td>\n",
       "      <td>False</td>\n",
       "      <td>i didn't hate the big hit , even though it is ...</td>\n",
       "      <td>True</td>\n",
       "    </tr>\n",
       "    <tr>\n",
       "      <th>1378</th>\n",
       "      <td>pos/cv378_20629.txt</td>\n",
       "      <td>True</td>\n",
       "      <td>oliver stone's latest feature is the last one ...</td>\n",
       "      <td>True</td>\n",
       "    </tr>\n",
       "    <tr>\n",
       "      <th>1688</th>\n",
       "      <td>pos/cv688_7368.txt</td>\n",
       "      <td>True</td>\n",
       "      <td>time bandits , from director terry gilliam , i...</td>\n",
       "      <td>True</td>\n",
       "    </tr>\n",
       "  </tbody>\n",
       "</table>\n",
       "<p>115 rows × 4 columns</p>\n",
       "</div>"
      ],
      "text/plain": [
       "                file_name  gold-label  \\\n",
       "1650  pos/cv650_14340.txt        True   \n",
       "1263  pos/cv263_19259.txt        True   \n",
       "1508  pos/cv508_16006.txt        True   \n",
       "1540   pos/cv540_3421.txt        True   \n",
       "654   neg/cv654_19345.txt       False   \n",
       "...                   ...         ...   \n",
       "1938  pos/cv938_10220.txt        True   \n",
       "1581  pos/cv581_19381.txt        True   \n",
       "514   neg/cv514_12173.txt       False   \n",
       "1378  pos/cv378_20629.txt        True   \n",
       "1688   pos/cv688_7368.txt        True   \n",
       "\n",
       "                                            review_text  prediction  \n",
       "1650  james cmaeron's breakthrough feature was the f...        True  \n",
       "1263  american pie acknowledges a cold , hard fact t...        True  \n",
       "1508  maybe the most important thing about this movi...        True  \n",
       "1540  i am starting to write this review before goin...        True  \n",
       "654   you think that these people only exist in the ...        True  \n",
       "...                                                 ...         ...  \n",
       "1938  the idea at the center of the devil's advocate...        True  \n",
       "1581  eyes wide shut isn't the masterpiece many were...        True  \n",
       "514   i didn't hate the big hit , even though it is ...        True  \n",
       "1378  oliver stone's latest feature is the last one ...        True  \n",
       "1688  time bandits , from director terry gilliam , i...        True  \n",
       "\n",
       "[115 rows x 4 columns]"
      ]
     },
     "execution_count": 64,
     "metadata": {},
     "output_type": "execute_result"
    }
   ],
   "source": [
    "dev_df"
   ]
  },
  {
   "cell_type": "code",
   "execution_count": 67,
   "id": "bf3b16cb",
   "metadata": {},
   "outputs": [
    {
     "data": {
      "text/plain": [
       "array([[ 9,  4],\n",
       "       [ 8, 94]])"
      ]
     },
     "execution_count": 67,
     "metadata": {},
     "output_type": "execute_result"
    }
   ],
   "source": [
    "sklearn.metrics.confusion_matrix(dev_df['prediction'], dev_df['gold-label'])"
   ]
  },
  {
   "cell_type": "code",
   "execution_count": 69,
   "id": "8b813628",
   "metadata": {},
   "outputs": [
    {
     "data": {
      "text/plain": [
       "array([[0.69230769, 0.30769231],\n",
       "       [0.07843137, 0.92156863]])"
      ]
     },
     "execution_count": 69,
     "metadata": {},
     "output_type": "execute_result"
    }
   ],
   "source": [
    "sklearn.metrics.confusion_matrix(dev_df['prediction'], dev_df['gold-label'], normalize='true')"
   ]
  },
  {
   "cell_type": "code",
   "execution_count": 70,
   "id": "16a7afc7",
   "metadata": {},
   "outputs": [
    {
     "data": {
      "text/plain": [
       "0.9591836734693877"
      ]
     },
     "execution_count": 70,
     "metadata": {},
     "output_type": "execute_result"
    }
   ],
   "source": [
    "sklearn.metrics.precision_score(dev_df['prediction'], dev_df['gold-label'])"
   ]
  },
  {
   "cell_type": "code",
   "execution_count": 71,
   "id": "0b805c0c",
   "metadata": {},
   "outputs": [
    {
     "data": {
      "text/plain": [
       "0.9215686274509803"
      ]
     },
     "execution_count": 71,
     "metadata": {},
     "output_type": "execute_result"
    }
   ],
   "source": [
    "sklearn.metrics.recall_score(dev_df['prediction'], dev_df['gold-label'])"
   ]
  },
  {
   "cell_type": "code",
   "execution_count": 72,
   "id": "345585ec",
   "metadata": {},
   "outputs": [
    {
     "data": {
      "text/plain": [
       "0.9400000000000001"
      ]
     },
     "execution_count": 72,
     "metadata": {},
     "output_type": "execute_result"
    }
   ],
   "source": [
    "sklearn.metrics.f1_score(dev_df['prediction'], dev_df['gold-label'])"
   ]
  },
  {
   "cell_type": "markdown",
   "id": "3ce3d71f",
   "metadata": {},
   "source": [
    "(back to slides)\n"
   ]
  },
  {
   "cell_type": "markdown",
   "id": "4616063d",
   "metadata": {},
   "source": [
    "## K-Means walkthrough\n",
    "\n",
    "Example comes from https://stackoverflow.com/questions/65449241/plotting-the-kmeans-cluster-centers-for-every-iteration-in-python.\n",
    "\n",
    "I'd recommend going through this [blog post](https://towardsdatascience.com/k-means-clustering-with-scikit-learn-6b47a369a83c)"
   ]
  },
  {
   "cell_type": "markdown",
   "id": "e0e88d70",
   "metadata": {},
   "source": [
    "## Dataset - Obits from HW02\n",
    "\n",
    "Now lets look at using kmeans to cluster documents"
   ]
  },
  {
   "cell_type": "markdown",
   "id": "0fba041c",
   "metadata": {},
   "source": [
    "Load in data. This takes a little while."
   ]
  },
  {
   "cell_type": "code",
   "execution_count": 73,
   "id": "d93899bc",
   "metadata": {},
   "outputs": [
    {
     "data": {
      "text/plain": [
       "(364, 35049)"
      ]
     },
     "execution_count": 73,
     "metadata": {},
     "output_type": "execute_result"
    }
   ],
   "source": [
    "df = pd.read_csv(\"data/tfidf_hw02.csv.gz\", compression=\"gzip\")\n",
    "df.shape"
   ]
  },
  {
   "cell_type": "code",
   "execution_count": 74,
   "id": "39c79dca",
   "metadata": {},
   "outputs": [
    {
     "data": {
      "text/plain": [
       "RangeIndex(start=0, stop=364, step=1)"
      ]
     },
     "execution_count": 74,
     "metadata": {},
     "output_type": "execute_result"
    }
   ],
   "source": [
    "df.index"
   ]
  },
  {
   "cell_type": "code",
   "execution_count": 75,
   "id": "afe3022f",
   "metadata": {},
   "outputs": [
    {
     "data": {
      "text/html": [
       "<div>\n",
       "<style scoped>\n",
       "    .dataframe tbody tr th:only-of-type {\n",
       "        vertical-align: middle;\n",
       "    }\n",
       "\n",
       "    .dataframe tbody tr th {\n",
       "        vertical-align: top;\n",
       "    }\n",
       "\n",
       "    .dataframe thead th {\n",
       "        text-align: right;\n",
       "    }\n",
       "</style>\n",
       "<table border=\"1\" class=\"dataframe\">\n",
       "  <thead>\n",
       "    <tr style=\"text-align: right;\">\n",
       "      <th></th>\n",
       "      <th>subject</th>\n",
       "      <th>aachen</th>\n",
       "      <th>aahs</th>\n",
       "      <th>aarau</th>\n",
       "      <th>aaron</th>\n",
       "      <th>aaugh</th>\n",
       "      <th>ab</th>\n",
       "      <th>ababa</th>\n",
       "      <th>aback</th>\n",
       "      <th>abaco</th>\n",
       "      <th>...</th>\n",
       "      <th>zrathustra</th>\n",
       "      <th>zuber</th>\n",
       "      <th>zuker</th>\n",
       "      <th>zukor</th>\n",
       "      <th>zukors</th>\n",
       "      <th>zula</th>\n",
       "      <th>zululand</th>\n",
       "      <th>zurich</th>\n",
       "      <th>zvai</th>\n",
       "      <th>zwilich</th>\n",
       "    </tr>\n",
       "  </thead>\n",
       "  <tbody>\n",
       "    <tr>\n",
       "      <th>0</th>\n",
       "      <td>Randolph</td>\n",
       "      <td>0.0</td>\n",
       "      <td>0.0</td>\n",
       "      <td>0.0</td>\n",
       "      <td>0.000000</td>\n",
       "      <td>0.0</td>\n",
       "      <td>0.0</td>\n",
       "      <td>0.0</td>\n",
       "      <td>0.0</td>\n",
       "      <td>0.0</td>\n",
       "      <td>...</td>\n",
       "      <td>0.0</td>\n",
       "      <td>0.0</td>\n",
       "      <td>0.0</td>\n",
       "      <td>0.0</td>\n",
       "      <td>0.0</td>\n",
       "      <td>0.0</td>\n",
       "      <td>0.0</td>\n",
       "      <td>0.0</td>\n",
       "      <td>0.0</td>\n",
       "      <td>0.0</td>\n",
       "    </tr>\n",
       "    <tr>\n",
       "      <th>1</th>\n",
       "      <td>Basie</td>\n",
       "      <td>0.0</td>\n",
       "      <td>0.0</td>\n",
       "      <td>0.0</td>\n",
       "      <td>0.012317</td>\n",
       "      <td>0.0</td>\n",
       "      <td>0.0</td>\n",
       "      <td>0.0</td>\n",
       "      <td>0.0</td>\n",
       "      <td>0.0</td>\n",
       "      <td>...</td>\n",
       "      <td>0.0</td>\n",
       "      <td>0.0</td>\n",
       "      <td>0.0</td>\n",
       "      <td>0.0</td>\n",
       "      <td>0.0</td>\n",
       "      <td>0.0</td>\n",
       "      <td>0.0</td>\n",
       "      <td>0.0</td>\n",
       "      <td>0.0</td>\n",
       "      <td>0.0</td>\n",
       "    </tr>\n",
       "    <tr>\n",
       "      <th>2</th>\n",
       "      <td>Swope</td>\n",
       "      <td>0.0</td>\n",
       "      <td>0.0</td>\n",
       "      <td>0.0</td>\n",
       "      <td>0.000000</td>\n",
       "      <td>0.0</td>\n",
       "      <td>0.0</td>\n",
       "      <td>0.0</td>\n",
       "      <td>0.0</td>\n",
       "      <td>0.0</td>\n",
       "      <td>...</td>\n",
       "      <td>0.0</td>\n",
       "      <td>0.0</td>\n",
       "      <td>0.0</td>\n",
       "      <td>0.0</td>\n",
       "      <td>0.0</td>\n",
       "      <td>0.0</td>\n",
       "      <td>0.0</td>\n",
       "      <td>0.0</td>\n",
       "      <td>0.0</td>\n",
       "      <td>0.0</td>\n",
       "    </tr>\n",
       "    <tr>\n",
       "      <th>3</th>\n",
       "      <td>Ulanova</td>\n",
       "      <td>0.0</td>\n",
       "      <td>0.0</td>\n",
       "      <td>0.0</td>\n",
       "      <td>0.000000</td>\n",
       "      <td>0.0</td>\n",
       "      <td>0.0</td>\n",
       "      <td>0.0</td>\n",
       "      <td>0.0</td>\n",
       "      <td>0.0</td>\n",
       "      <td>...</td>\n",
       "      <td>0.0</td>\n",
       "      <td>0.0</td>\n",
       "      <td>0.0</td>\n",
       "      <td>0.0</td>\n",
       "      <td>0.0</td>\n",
       "      <td>0.0</td>\n",
       "      <td>0.0</td>\n",
       "      <td>0.0</td>\n",
       "      <td>0.0</td>\n",
       "      <td>0.0</td>\n",
       "    </tr>\n",
       "    <tr>\n",
       "      <th>4</th>\n",
       "      <td>Sousa</td>\n",
       "      <td>0.0</td>\n",
       "      <td>0.0</td>\n",
       "      <td>0.0</td>\n",
       "      <td>0.000000</td>\n",
       "      <td>0.0</td>\n",
       "      <td>0.0</td>\n",
       "      <td>0.0</td>\n",
       "      <td>0.0</td>\n",
       "      <td>0.0</td>\n",
       "      <td>...</td>\n",
       "      <td>0.0</td>\n",
       "      <td>0.0</td>\n",
       "      <td>0.0</td>\n",
       "      <td>0.0</td>\n",
       "      <td>0.0</td>\n",
       "      <td>0.0</td>\n",
       "      <td>0.0</td>\n",
       "      <td>0.0</td>\n",
       "      <td>0.0</td>\n",
       "      <td>0.0</td>\n",
       "    </tr>\n",
       "  </tbody>\n",
       "</table>\n",
       "<p>5 rows × 35049 columns</p>\n",
       "</div>"
      ],
      "text/plain": [
       "    subject  aachen  aahs  aarau     aaron  aaugh   ab  ababa  aback  abaco  \\\n",
       "0  Randolph     0.0   0.0    0.0  0.000000    0.0  0.0    0.0    0.0    0.0   \n",
       "1     Basie     0.0   0.0    0.0  0.012317    0.0  0.0    0.0    0.0    0.0   \n",
       "2     Swope     0.0   0.0    0.0  0.000000    0.0  0.0    0.0    0.0    0.0   \n",
       "3   Ulanova     0.0   0.0    0.0  0.000000    0.0  0.0    0.0    0.0    0.0   \n",
       "4     Sousa     0.0   0.0    0.0  0.000000    0.0  0.0    0.0    0.0    0.0   \n",
       "\n",
       "   ...  zrathustra  zuber  zuker  zukor  zukors  zula  zululand  zurich  zvai  \\\n",
       "0  ...         0.0    0.0    0.0    0.0     0.0   0.0       0.0     0.0   0.0   \n",
       "1  ...         0.0    0.0    0.0    0.0     0.0   0.0       0.0     0.0   0.0   \n",
       "2  ...         0.0    0.0    0.0    0.0     0.0   0.0       0.0     0.0   0.0   \n",
       "3  ...         0.0    0.0    0.0    0.0     0.0   0.0       0.0     0.0   0.0   \n",
       "4  ...         0.0    0.0    0.0    0.0     0.0   0.0       0.0     0.0   0.0   \n",
       "\n",
       "   zwilich  \n",
       "0      0.0  \n",
       "1      0.0  \n",
       "2      0.0  \n",
       "3      0.0  \n",
       "4      0.0  \n",
       "\n",
       "[5 rows x 35049 columns]"
      ]
     },
     "execution_count": 75,
     "metadata": {},
     "output_type": "execute_result"
    }
   ],
   "source": [
    "df.head(5)"
   ]
  },
  {
   "cell_type": "code",
   "execution_count": 76,
   "id": "aee034d4",
   "metadata": {},
   "outputs": [
    {
     "data": {
      "text/html": [
       "<div>\n",
       "<style scoped>\n",
       "    .dataframe tbody tr th:only-of-type {\n",
       "        vertical-align: middle;\n",
       "    }\n",
       "\n",
       "    .dataframe tbody tr th {\n",
       "        vertical-align: top;\n",
       "    }\n",
       "\n",
       "    .dataframe thead th {\n",
       "        text-align: right;\n",
       "    }\n",
       "</style>\n",
       "<table border=\"1\" class=\"dataframe\">\n",
       "  <thead>\n",
       "    <tr style=\"text-align: right;\">\n",
       "      <th></th>\n",
       "      <th>subject</th>\n",
       "      <th>aachen</th>\n",
       "      <th>aahs</th>\n",
       "      <th>aarau</th>\n",
       "      <th>aaron</th>\n",
       "      <th>aaugh</th>\n",
       "      <th>ab</th>\n",
       "      <th>ababa</th>\n",
       "      <th>aback</th>\n",
       "      <th>abaco</th>\n",
       "      <th>...</th>\n",
       "      <th>zrathustra</th>\n",
       "      <th>zuber</th>\n",
       "      <th>zuker</th>\n",
       "      <th>zukor</th>\n",
       "      <th>zukors</th>\n",
       "      <th>zula</th>\n",
       "      <th>zululand</th>\n",
       "      <th>zurich</th>\n",
       "      <th>zvai</th>\n",
       "      <th>zwilich</th>\n",
       "    </tr>\n",
       "    <tr>\n",
       "      <th>subject</th>\n",
       "      <th></th>\n",
       "      <th></th>\n",
       "      <th></th>\n",
       "      <th></th>\n",
       "      <th></th>\n",
       "      <th></th>\n",
       "      <th></th>\n",
       "      <th></th>\n",
       "      <th></th>\n",
       "      <th></th>\n",
       "      <th></th>\n",
       "      <th></th>\n",
       "      <th></th>\n",
       "      <th></th>\n",
       "      <th></th>\n",
       "      <th></th>\n",
       "      <th></th>\n",
       "      <th></th>\n",
       "      <th></th>\n",
       "      <th></th>\n",
       "      <th></th>\n",
       "    </tr>\n",
       "  </thead>\n",
       "  <tbody>\n",
       "    <tr>\n",
       "      <th>Randolph</th>\n",
       "      <td>Randolph</td>\n",
       "      <td>0.0</td>\n",
       "      <td>0.0</td>\n",
       "      <td>0.0</td>\n",
       "      <td>0.000000</td>\n",
       "      <td>0.0</td>\n",
       "      <td>0.0</td>\n",
       "      <td>0.0</td>\n",
       "      <td>0.000000</td>\n",
       "      <td>0.0</td>\n",
       "      <td>...</td>\n",
       "      <td>0.0</td>\n",
       "      <td>0.0</td>\n",
       "      <td>0.0</td>\n",
       "      <td>0.0</td>\n",
       "      <td>0.0</td>\n",
       "      <td>0.0</td>\n",
       "      <td>0.0</td>\n",
       "      <td>0.0</td>\n",
       "      <td>0.0</td>\n",
       "      <td>0.0</td>\n",
       "    </tr>\n",
       "    <tr>\n",
       "      <th>Basie</th>\n",
       "      <td>Basie</td>\n",
       "      <td>0.0</td>\n",
       "      <td>0.0</td>\n",
       "      <td>0.0</td>\n",
       "      <td>0.012317</td>\n",
       "      <td>0.0</td>\n",
       "      <td>0.0</td>\n",
       "      <td>0.0</td>\n",
       "      <td>0.000000</td>\n",
       "      <td>0.0</td>\n",
       "      <td>...</td>\n",
       "      <td>0.0</td>\n",
       "      <td>0.0</td>\n",
       "      <td>0.0</td>\n",
       "      <td>0.0</td>\n",
       "      <td>0.0</td>\n",
       "      <td>0.0</td>\n",
       "      <td>0.0</td>\n",
       "      <td>0.0</td>\n",
       "      <td>0.0</td>\n",
       "      <td>0.0</td>\n",
       "    </tr>\n",
       "    <tr>\n",
       "      <th>Swope</th>\n",
       "      <td>Swope</td>\n",
       "      <td>0.0</td>\n",
       "      <td>0.0</td>\n",
       "      <td>0.0</td>\n",
       "      <td>0.000000</td>\n",
       "      <td>0.0</td>\n",
       "      <td>0.0</td>\n",
       "      <td>0.0</td>\n",
       "      <td>0.000000</td>\n",
       "      <td>0.0</td>\n",
       "      <td>...</td>\n",
       "      <td>0.0</td>\n",
       "      <td>0.0</td>\n",
       "      <td>0.0</td>\n",
       "      <td>0.0</td>\n",
       "      <td>0.0</td>\n",
       "      <td>0.0</td>\n",
       "      <td>0.0</td>\n",
       "      <td>0.0</td>\n",
       "      <td>0.0</td>\n",
       "      <td>0.0</td>\n",
       "    </tr>\n",
       "    <tr>\n",
       "      <th>Ulanova</th>\n",
       "      <td>Ulanova</td>\n",
       "      <td>0.0</td>\n",
       "      <td>0.0</td>\n",
       "      <td>0.0</td>\n",
       "      <td>0.000000</td>\n",
       "      <td>0.0</td>\n",
       "      <td>0.0</td>\n",
       "      <td>0.0</td>\n",
       "      <td>0.000000</td>\n",
       "      <td>0.0</td>\n",
       "      <td>...</td>\n",
       "      <td>0.0</td>\n",
       "      <td>0.0</td>\n",
       "      <td>0.0</td>\n",
       "      <td>0.0</td>\n",
       "      <td>0.0</td>\n",
       "      <td>0.0</td>\n",
       "      <td>0.0</td>\n",
       "      <td>0.0</td>\n",
       "      <td>0.0</td>\n",
       "      <td>0.0</td>\n",
       "    </tr>\n",
       "    <tr>\n",
       "      <th>Sousa</th>\n",
       "      <td>Sousa</td>\n",
       "      <td>0.0</td>\n",
       "      <td>0.0</td>\n",
       "      <td>0.0</td>\n",
       "      <td>0.000000</td>\n",
       "      <td>0.0</td>\n",
       "      <td>0.0</td>\n",
       "      <td>0.0</td>\n",
       "      <td>0.000000</td>\n",
       "      <td>0.0</td>\n",
       "      <td>...</td>\n",
       "      <td>0.0</td>\n",
       "      <td>0.0</td>\n",
       "      <td>0.0</td>\n",
       "      <td>0.0</td>\n",
       "      <td>0.0</td>\n",
       "      <td>0.0</td>\n",
       "      <td>0.0</td>\n",
       "      <td>0.0</td>\n",
       "      <td>0.0</td>\n",
       "      <td>0.0</td>\n",
       "    </tr>\n",
       "    <tr>\n",
       "      <th>...</th>\n",
       "      <td>...</td>\n",
       "      <td>...</td>\n",
       "      <td>...</td>\n",
       "      <td>...</td>\n",
       "      <td>...</td>\n",
       "      <td>...</td>\n",
       "      <td>...</td>\n",
       "      <td>...</td>\n",
       "      <td>...</td>\n",
       "      <td>...</td>\n",
       "      <td>...</td>\n",
       "      <td>...</td>\n",
       "      <td>...</td>\n",
       "      <td>...</td>\n",
       "      <td>...</td>\n",
       "      <td>...</td>\n",
       "      <td>...</td>\n",
       "      <td>...</td>\n",
       "      <td>...</td>\n",
       "      <td>...</td>\n",
       "      <td>...</td>\n",
       "    </tr>\n",
       "    <tr>\n",
       "      <th>Miss Balch</th>\n",
       "      <td>Miss Balch</td>\n",
       "      <td>0.0</td>\n",
       "      <td>0.0</td>\n",
       "      <td>0.0</td>\n",
       "      <td>0.000000</td>\n",
       "      <td>0.0</td>\n",
       "      <td>0.0</td>\n",
       "      <td>0.0</td>\n",
       "      <td>0.000000</td>\n",
       "      <td>0.0</td>\n",
       "      <td>...</td>\n",
       "      <td>0.0</td>\n",
       "      <td>0.0</td>\n",
       "      <td>0.0</td>\n",
       "      <td>0.0</td>\n",
       "      <td>0.0</td>\n",
       "      <td>0.0</td>\n",
       "      <td>0.0</td>\n",
       "      <td>0.0</td>\n",
       "      <td>0.0</td>\n",
       "      <td>0.0</td>\n",
       "    </tr>\n",
       "    <tr>\n",
       "      <th>Cage</th>\n",
       "      <td>Cage</td>\n",
       "      <td>0.0</td>\n",
       "      <td>0.0</td>\n",
       "      <td>0.0</td>\n",
       "      <td>0.000000</td>\n",
       "      <td>0.0</td>\n",
       "      <td>0.0</td>\n",
       "      <td>0.0</td>\n",
       "      <td>0.000000</td>\n",
       "      <td>0.0</td>\n",
       "      <td>...</td>\n",
       "      <td>0.0</td>\n",
       "      <td>0.0</td>\n",
       "      <td>0.0</td>\n",
       "      <td>0.0</td>\n",
       "      <td>0.0</td>\n",
       "      <td>0.0</td>\n",
       "      <td>0.0</td>\n",
       "      <td>0.0</td>\n",
       "      <td>0.0</td>\n",
       "      <td>0.0</td>\n",
       "    </tr>\n",
       "    <tr>\n",
       "      <th>Grant</th>\n",
       "      <td>Grant</td>\n",
       "      <td>0.0</td>\n",
       "      <td>0.0</td>\n",
       "      <td>0.0</td>\n",
       "      <td>0.000000</td>\n",
       "      <td>0.0</td>\n",
       "      <td>0.0</td>\n",
       "      <td>0.0</td>\n",
       "      <td>0.003402</td>\n",
       "      <td>0.0</td>\n",
       "      <td>...</td>\n",
       "      <td>0.0</td>\n",
       "      <td>0.0</td>\n",
       "      <td>0.0</td>\n",
       "      <td>0.0</td>\n",
       "      <td>0.0</td>\n",
       "      <td>0.0</td>\n",
       "      <td>0.0</td>\n",
       "      <td>0.0</td>\n",
       "      <td>0.0</td>\n",
       "      <td>0.0</td>\n",
       "    </tr>\n",
       "    <tr>\n",
       "      <th>Gorky</th>\n",
       "      <td>Gorky</td>\n",
       "      <td>0.0</td>\n",
       "      <td>0.0</td>\n",
       "      <td>0.0</td>\n",
       "      <td>0.000000</td>\n",
       "      <td>0.0</td>\n",
       "      <td>0.0</td>\n",
       "      <td>0.0</td>\n",
       "      <td>0.000000</td>\n",
       "      <td>0.0</td>\n",
       "      <td>...</td>\n",
       "      <td>0.0</td>\n",
       "      <td>0.0</td>\n",
       "      <td>0.0</td>\n",
       "      <td>0.0</td>\n",
       "      <td>0.0</td>\n",
       "      <td>0.0</td>\n",
       "      <td>0.0</td>\n",
       "      <td>0.0</td>\n",
       "      <td>0.0</td>\n",
       "      <td>0.0</td>\n",
       "    </tr>\n",
       "    <tr>\n",
       "      <th>Tandy</th>\n",
       "      <td>Tandy</td>\n",
       "      <td>0.0</td>\n",
       "      <td>0.0</td>\n",
       "      <td>0.0</td>\n",
       "      <td>0.000000</td>\n",
       "      <td>0.0</td>\n",
       "      <td>0.0</td>\n",
       "      <td>0.0</td>\n",
       "      <td>0.000000</td>\n",
       "      <td>0.0</td>\n",
       "      <td>...</td>\n",
       "      <td>0.0</td>\n",
       "      <td>0.0</td>\n",
       "      <td>0.0</td>\n",
       "      <td>0.0</td>\n",
       "      <td>0.0</td>\n",
       "      <td>0.0</td>\n",
       "      <td>0.0</td>\n",
       "      <td>0.0</td>\n",
       "      <td>0.0</td>\n",
       "      <td>0.0</td>\n",
       "    </tr>\n",
       "  </tbody>\n",
       "</table>\n",
       "<p>364 rows × 35049 columns</p>\n",
       "</div>"
      ],
      "text/plain": [
       "               subject  aachen  aahs  aarau     aaron  aaugh   ab  ababa  \\\n",
       "subject                                                                    \n",
       "Randolph      Randolph     0.0   0.0    0.0  0.000000    0.0  0.0    0.0   \n",
       "Basie            Basie     0.0   0.0    0.0  0.012317    0.0  0.0    0.0   \n",
       "Swope            Swope     0.0   0.0    0.0  0.000000    0.0  0.0    0.0   \n",
       "Ulanova        Ulanova     0.0   0.0    0.0  0.000000    0.0  0.0    0.0   \n",
       "Sousa            Sousa     0.0   0.0    0.0  0.000000    0.0  0.0    0.0   \n",
       "...                ...     ...   ...    ...       ...    ...  ...    ...   \n",
       "Miss Balch  Miss Balch     0.0   0.0    0.0  0.000000    0.0  0.0    0.0   \n",
       "Cage              Cage     0.0   0.0    0.0  0.000000    0.0  0.0    0.0   \n",
       "Grant            Grant     0.0   0.0    0.0  0.000000    0.0  0.0    0.0   \n",
       "Gorky            Gorky     0.0   0.0    0.0  0.000000    0.0  0.0    0.0   \n",
       "Tandy            Tandy     0.0   0.0    0.0  0.000000    0.0  0.0    0.0   \n",
       "\n",
       "               aback  abaco  ...  zrathustra  zuber  zuker  zukor  zukors  \\\n",
       "subject                      ...                                            \n",
       "Randolph    0.000000    0.0  ...         0.0    0.0    0.0    0.0     0.0   \n",
       "Basie       0.000000    0.0  ...         0.0    0.0    0.0    0.0     0.0   \n",
       "Swope       0.000000    0.0  ...         0.0    0.0    0.0    0.0     0.0   \n",
       "Ulanova     0.000000    0.0  ...         0.0    0.0    0.0    0.0     0.0   \n",
       "Sousa       0.000000    0.0  ...         0.0    0.0    0.0    0.0     0.0   \n",
       "...              ...    ...  ...         ...    ...    ...    ...     ...   \n",
       "Miss Balch  0.000000    0.0  ...         0.0    0.0    0.0    0.0     0.0   \n",
       "Cage        0.000000    0.0  ...         0.0    0.0    0.0    0.0     0.0   \n",
       "Grant       0.003402    0.0  ...         0.0    0.0    0.0    0.0     0.0   \n",
       "Gorky       0.000000    0.0  ...         0.0    0.0    0.0    0.0     0.0   \n",
       "Tandy       0.000000    0.0  ...         0.0    0.0    0.0    0.0     0.0   \n",
       "\n",
       "            zula  zululand  zurich  zvai  zwilich  \n",
       "subject                                            \n",
       "Randolph     0.0       0.0     0.0   0.0      0.0  \n",
       "Basie        0.0       0.0     0.0   0.0      0.0  \n",
       "Swope        0.0       0.0     0.0   0.0      0.0  \n",
       "Ulanova      0.0       0.0     0.0   0.0      0.0  \n",
       "Sousa        0.0       0.0     0.0   0.0      0.0  \n",
       "...          ...       ...     ...   ...      ...  \n",
       "Miss Balch   0.0       0.0     0.0   0.0      0.0  \n",
       "Cage         0.0       0.0     0.0   0.0      0.0  \n",
       "Grant        0.0       0.0     0.0   0.0      0.0  \n",
       "Gorky        0.0       0.0     0.0   0.0      0.0  \n",
       "Tandy        0.0       0.0     0.0   0.0      0.0  \n",
       "\n",
       "[364 rows x 35049 columns]"
      ]
     },
     "execution_count": 76,
     "metadata": {},
     "output_type": "execute_result"
    }
   ],
   "source": [
    "df.index = df['subject']\n",
    "df"
   ]
  },
  {
   "cell_type": "code",
   "execution_count": 77,
   "id": "e45a57e9",
   "metadata": {},
   "outputs": [
    {
     "data": {
      "text/html": [
       "<div>\n",
       "<style scoped>\n",
       "    .dataframe tbody tr th:only-of-type {\n",
       "        vertical-align: middle;\n",
       "    }\n",
       "\n",
       "    .dataframe tbody tr th {\n",
       "        vertical-align: top;\n",
       "    }\n",
       "\n",
       "    .dataframe thead th {\n",
       "        text-align: right;\n",
       "    }\n",
       "</style>\n",
       "<table border=\"1\" class=\"dataframe\">\n",
       "  <thead>\n",
       "    <tr style=\"text-align: right;\">\n",
       "      <th></th>\n",
       "      <th>aachen</th>\n",
       "      <th>aahs</th>\n",
       "      <th>aarau</th>\n",
       "      <th>aaron</th>\n",
       "      <th>aaugh</th>\n",
       "      <th>ab</th>\n",
       "      <th>ababa</th>\n",
       "      <th>aback</th>\n",
       "      <th>abaco</th>\n",
       "      <th>abandon</th>\n",
       "      <th>...</th>\n",
       "      <th>zrathustra</th>\n",
       "      <th>zuber</th>\n",
       "      <th>zuker</th>\n",
       "      <th>zukor</th>\n",
       "      <th>zukors</th>\n",
       "      <th>zula</th>\n",
       "      <th>zululand</th>\n",
       "      <th>zurich</th>\n",
       "      <th>zvai</th>\n",
       "      <th>zwilich</th>\n",
       "    </tr>\n",
       "    <tr>\n",
       "      <th>subject</th>\n",
       "      <th></th>\n",
       "      <th></th>\n",
       "      <th></th>\n",
       "      <th></th>\n",
       "      <th></th>\n",
       "      <th></th>\n",
       "      <th></th>\n",
       "      <th></th>\n",
       "      <th></th>\n",
       "      <th></th>\n",
       "      <th></th>\n",
       "      <th></th>\n",
       "      <th></th>\n",
       "      <th></th>\n",
       "      <th></th>\n",
       "      <th></th>\n",
       "      <th></th>\n",
       "      <th></th>\n",
       "      <th></th>\n",
       "      <th></th>\n",
       "      <th></th>\n",
       "    </tr>\n",
       "  </thead>\n",
       "  <tbody>\n",
       "    <tr>\n",
       "      <th>Randolph</th>\n",
       "      <td>0.0</td>\n",
       "      <td>0.0</td>\n",
       "      <td>0.0</td>\n",
       "      <td>0.000000</td>\n",
       "      <td>0.0</td>\n",
       "      <td>0.0</td>\n",
       "      <td>0.0</td>\n",
       "      <td>0.000000</td>\n",
       "      <td>0.0</td>\n",
       "      <td>0.000000</td>\n",
       "      <td>...</td>\n",
       "      <td>0.0</td>\n",
       "      <td>0.0</td>\n",
       "      <td>0.0</td>\n",
       "      <td>0.0</td>\n",
       "      <td>0.0</td>\n",
       "      <td>0.0</td>\n",
       "      <td>0.0</td>\n",
       "      <td>0.0</td>\n",
       "      <td>0.0</td>\n",
       "      <td>0.0</td>\n",
       "    </tr>\n",
       "    <tr>\n",
       "      <th>Basie</th>\n",
       "      <td>0.0</td>\n",
       "      <td>0.0</td>\n",
       "      <td>0.0</td>\n",
       "      <td>0.012317</td>\n",
       "      <td>0.0</td>\n",
       "      <td>0.0</td>\n",
       "      <td>0.0</td>\n",
       "      <td>0.000000</td>\n",
       "      <td>0.0</td>\n",
       "      <td>0.010460</td>\n",
       "      <td>...</td>\n",
       "      <td>0.0</td>\n",
       "      <td>0.0</td>\n",
       "      <td>0.0</td>\n",
       "      <td>0.0</td>\n",
       "      <td>0.0</td>\n",
       "      <td>0.0</td>\n",
       "      <td>0.0</td>\n",
       "      <td>0.0</td>\n",
       "      <td>0.0</td>\n",
       "      <td>0.0</td>\n",
       "    </tr>\n",
       "    <tr>\n",
       "      <th>Swope</th>\n",
       "      <td>0.0</td>\n",
       "      <td>0.0</td>\n",
       "      <td>0.0</td>\n",
       "      <td>0.000000</td>\n",
       "      <td>0.0</td>\n",
       "      <td>0.0</td>\n",
       "      <td>0.0</td>\n",
       "      <td>0.000000</td>\n",
       "      <td>0.0</td>\n",
       "      <td>0.000000</td>\n",
       "      <td>...</td>\n",
       "      <td>0.0</td>\n",
       "      <td>0.0</td>\n",
       "      <td>0.0</td>\n",
       "      <td>0.0</td>\n",
       "      <td>0.0</td>\n",
       "      <td>0.0</td>\n",
       "      <td>0.0</td>\n",
       "      <td>0.0</td>\n",
       "      <td>0.0</td>\n",
       "      <td>0.0</td>\n",
       "    </tr>\n",
       "    <tr>\n",
       "      <th>Ulanova</th>\n",
       "      <td>0.0</td>\n",
       "      <td>0.0</td>\n",
       "      <td>0.0</td>\n",
       "      <td>0.000000</td>\n",
       "      <td>0.0</td>\n",
       "      <td>0.0</td>\n",
       "      <td>0.0</td>\n",
       "      <td>0.000000</td>\n",
       "      <td>0.0</td>\n",
       "      <td>0.000000</td>\n",
       "      <td>...</td>\n",
       "      <td>0.0</td>\n",
       "      <td>0.0</td>\n",
       "      <td>0.0</td>\n",
       "      <td>0.0</td>\n",
       "      <td>0.0</td>\n",
       "      <td>0.0</td>\n",
       "      <td>0.0</td>\n",
       "      <td>0.0</td>\n",
       "      <td>0.0</td>\n",
       "      <td>0.0</td>\n",
       "    </tr>\n",
       "    <tr>\n",
       "      <th>Sousa</th>\n",
       "      <td>0.0</td>\n",
       "      <td>0.0</td>\n",
       "      <td>0.0</td>\n",
       "      <td>0.000000</td>\n",
       "      <td>0.0</td>\n",
       "      <td>0.0</td>\n",
       "      <td>0.0</td>\n",
       "      <td>0.000000</td>\n",
       "      <td>0.0</td>\n",
       "      <td>0.000000</td>\n",
       "      <td>...</td>\n",
       "      <td>0.0</td>\n",
       "      <td>0.0</td>\n",
       "      <td>0.0</td>\n",
       "      <td>0.0</td>\n",
       "      <td>0.0</td>\n",
       "      <td>0.0</td>\n",
       "      <td>0.0</td>\n",
       "      <td>0.0</td>\n",
       "      <td>0.0</td>\n",
       "      <td>0.0</td>\n",
       "    </tr>\n",
       "    <tr>\n",
       "      <th>...</th>\n",
       "      <td>...</td>\n",
       "      <td>...</td>\n",
       "      <td>...</td>\n",
       "      <td>...</td>\n",
       "      <td>...</td>\n",
       "      <td>...</td>\n",
       "      <td>...</td>\n",
       "      <td>...</td>\n",
       "      <td>...</td>\n",
       "      <td>...</td>\n",
       "      <td>...</td>\n",
       "      <td>...</td>\n",
       "      <td>...</td>\n",
       "      <td>...</td>\n",
       "      <td>...</td>\n",
       "      <td>...</td>\n",
       "      <td>...</td>\n",
       "      <td>...</td>\n",
       "      <td>...</td>\n",
       "      <td>...</td>\n",
       "      <td>...</td>\n",
       "    </tr>\n",
       "    <tr>\n",
       "      <th>Miss Balch</th>\n",
       "      <td>0.0</td>\n",
       "      <td>0.0</td>\n",
       "      <td>0.0</td>\n",
       "      <td>0.000000</td>\n",
       "      <td>0.0</td>\n",
       "      <td>0.0</td>\n",
       "      <td>0.0</td>\n",
       "      <td>0.000000</td>\n",
       "      <td>0.0</td>\n",
       "      <td>0.000000</td>\n",
       "      <td>...</td>\n",
       "      <td>0.0</td>\n",
       "      <td>0.0</td>\n",
       "      <td>0.0</td>\n",
       "      <td>0.0</td>\n",
       "      <td>0.0</td>\n",
       "      <td>0.0</td>\n",
       "      <td>0.0</td>\n",
       "      <td>0.0</td>\n",
       "      <td>0.0</td>\n",
       "      <td>0.0</td>\n",
       "    </tr>\n",
       "    <tr>\n",
       "      <th>Cage</th>\n",
       "      <td>0.0</td>\n",
       "      <td>0.0</td>\n",
       "      <td>0.0</td>\n",
       "      <td>0.000000</td>\n",
       "      <td>0.0</td>\n",
       "      <td>0.0</td>\n",
       "      <td>0.0</td>\n",
       "      <td>0.000000</td>\n",
       "      <td>0.0</td>\n",
       "      <td>0.011006</td>\n",
       "      <td>...</td>\n",
       "      <td>0.0</td>\n",
       "      <td>0.0</td>\n",
       "      <td>0.0</td>\n",
       "      <td>0.0</td>\n",
       "      <td>0.0</td>\n",
       "      <td>0.0</td>\n",
       "      <td>0.0</td>\n",
       "      <td>0.0</td>\n",
       "      <td>0.0</td>\n",
       "      <td>0.0</td>\n",
       "    </tr>\n",
       "    <tr>\n",
       "      <th>Grant</th>\n",
       "      <td>0.0</td>\n",
       "      <td>0.0</td>\n",
       "      <td>0.0</td>\n",
       "      <td>0.000000</td>\n",
       "      <td>0.0</td>\n",
       "      <td>0.0</td>\n",
       "      <td>0.0</td>\n",
       "      <td>0.003402</td>\n",
       "      <td>0.0</td>\n",
       "      <td>0.007226</td>\n",
       "      <td>...</td>\n",
       "      <td>0.0</td>\n",
       "      <td>0.0</td>\n",
       "      <td>0.0</td>\n",
       "      <td>0.0</td>\n",
       "      <td>0.0</td>\n",
       "      <td>0.0</td>\n",
       "      <td>0.0</td>\n",
       "      <td>0.0</td>\n",
       "      <td>0.0</td>\n",
       "      <td>0.0</td>\n",
       "    </tr>\n",
       "    <tr>\n",
       "      <th>Gorky</th>\n",
       "      <td>0.0</td>\n",
       "      <td>0.0</td>\n",
       "      <td>0.0</td>\n",
       "      <td>0.000000</td>\n",
       "      <td>0.0</td>\n",
       "      <td>0.0</td>\n",
       "      <td>0.0</td>\n",
       "      <td>0.000000</td>\n",
       "      <td>0.0</td>\n",
       "      <td>0.000000</td>\n",
       "      <td>...</td>\n",
       "      <td>0.0</td>\n",
       "      <td>0.0</td>\n",
       "      <td>0.0</td>\n",
       "      <td>0.0</td>\n",
       "      <td>0.0</td>\n",
       "      <td>0.0</td>\n",
       "      <td>0.0</td>\n",
       "      <td>0.0</td>\n",
       "      <td>0.0</td>\n",
       "      <td>0.0</td>\n",
       "    </tr>\n",
       "    <tr>\n",
       "      <th>Tandy</th>\n",
       "      <td>0.0</td>\n",
       "      <td>0.0</td>\n",
       "      <td>0.0</td>\n",
       "      <td>0.000000</td>\n",
       "      <td>0.0</td>\n",
       "      <td>0.0</td>\n",
       "      <td>0.0</td>\n",
       "      <td>0.000000</td>\n",
       "      <td>0.0</td>\n",
       "      <td>0.000000</td>\n",
       "      <td>...</td>\n",
       "      <td>0.0</td>\n",
       "      <td>0.0</td>\n",
       "      <td>0.0</td>\n",
       "      <td>0.0</td>\n",
       "      <td>0.0</td>\n",
       "      <td>0.0</td>\n",
       "      <td>0.0</td>\n",
       "      <td>0.0</td>\n",
       "      <td>0.0</td>\n",
       "      <td>0.0</td>\n",
       "    </tr>\n",
       "  </tbody>\n",
       "</table>\n",
       "<p>364 rows × 35048 columns</p>\n",
       "</div>"
      ],
      "text/plain": [
       "            aachen  aahs  aarau     aaron  aaugh   ab  ababa     aback  abaco  \\\n",
       "subject                                                                         \n",
       "Randolph       0.0   0.0    0.0  0.000000    0.0  0.0    0.0  0.000000    0.0   \n",
       "Basie          0.0   0.0    0.0  0.012317    0.0  0.0    0.0  0.000000    0.0   \n",
       "Swope          0.0   0.0    0.0  0.000000    0.0  0.0    0.0  0.000000    0.0   \n",
       "Ulanova        0.0   0.0    0.0  0.000000    0.0  0.0    0.0  0.000000    0.0   \n",
       "Sousa          0.0   0.0    0.0  0.000000    0.0  0.0    0.0  0.000000    0.0   \n",
       "...            ...   ...    ...       ...    ...  ...    ...       ...    ...   \n",
       "Miss Balch     0.0   0.0    0.0  0.000000    0.0  0.0    0.0  0.000000    0.0   \n",
       "Cage           0.0   0.0    0.0  0.000000    0.0  0.0    0.0  0.000000    0.0   \n",
       "Grant          0.0   0.0    0.0  0.000000    0.0  0.0    0.0  0.003402    0.0   \n",
       "Gorky          0.0   0.0    0.0  0.000000    0.0  0.0    0.0  0.000000    0.0   \n",
       "Tandy          0.0   0.0    0.0  0.000000    0.0  0.0    0.0  0.000000    0.0   \n",
       "\n",
       "             abandon  ...  zrathustra  zuber  zuker  zukor  zukors  zula  \\\n",
       "subject               ...                                                  \n",
       "Randolph    0.000000  ...         0.0    0.0    0.0    0.0     0.0   0.0   \n",
       "Basie       0.010460  ...         0.0    0.0    0.0    0.0     0.0   0.0   \n",
       "Swope       0.000000  ...         0.0    0.0    0.0    0.0     0.0   0.0   \n",
       "Ulanova     0.000000  ...         0.0    0.0    0.0    0.0     0.0   0.0   \n",
       "Sousa       0.000000  ...         0.0    0.0    0.0    0.0     0.0   0.0   \n",
       "...              ...  ...         ...    ...    ...    ...     ...   ...   \n",
       "Miss Balch  0.000000  ...         0.0    0.0    0.0    0.0     0.0   0.0   \n",
       "Cage        0.011006  ...         0.0    0.0    0.0    0.0     0.0   0.0   \n",
       "Grant       0.007226  ...         0.0    0.0    0.0    0.0     0.0   0.0   \n",
       "Gorky       0.000000  ...         0.0    0.0    0.0    0.0     0.0   0.0   \n",
       "Tandy       0.000000  ...         0.0    0.0    0.0    0.0     0.0   0.0   \n",
       "\n",
       "            zululand  zurich  zvai  zwilich  \n",
       "subject                                      \n",
       "Randolph         0.0     0.0   0.0      0.0  \n",
       "Basie            0.0     0.0   0.0      0.0  \n",
       "Swope            0.0     0.0   0.0      0.0  \n",
       "Ulanova          0.0     0.0   0.0      0.0  \n",
       "Sousa            0.0     0.0   0.0      0.0  \n",
       "...              ...     ...   ...      ...  \n",
       "Miss Balch       0.0     0.0   0.0      0.0  \n",
       "Cage             0.0     0.0   0.0      0.0  \n",
       "Grant            0.0     0.0   0.0      0.0  \n",
       "Gorky            0.0     0.0   0.0      0.0  \n",
       "Tandy            0.0     0.0   0.0      0.0  \n",
       "\n",
       "[364 rows x 35048 columns]"
      ]
     },
     "execution_count": 77,
     "metadata": {},
     "output_type": "execute_result"
    }
   ],
   "source": [
    "df = df.drop(columns=['subject'])\n",
    "df"
   ]
  },
  {
   "cell_type": "markdown",
   "id": "36361f6a",
   "metadata": {},
   "source": [
    "Let's store the dataframe in a new numpy array called X"
   ]
  },
  {
   "cell_type": "code",
   "execution_count": 78,
   "id": "55c3607e",
   "metadata": {},
   "outputs": [
    {
     "data": {
      "text/plain": [
       "(364, 35048)"
      ]
     },
     "execution_count": 78,
     "metadata": {},
     "output_type": "execute_result"
    }
   ],
   "source": [
    "X = df.to_numpy()\n",
    "X.shape"
   ]
  },
  {
   "cell_type": "code",
   "execution_count": 81,
   "id": "e0f14df7",
   "metadata": {},
   "outputs": [
    {
     "data": {
      "text/plain": [
       "(array([0., 0., 0., ..., 0., 0., 0.]), 'Tandy')"
      ]
     },
     "execution_count": 81,
     "metadata": {},
     "output_type": "execute_result"
    }
   ],
   "source": [
    "X[-1], df.index[-1]"
   ]
  },
  {
   "cell_type": "markdown",
   "id": "528dcb5c",
   "metadata": {},
   "source": [
    "## Clustering"
   ]
  },
  {
   "cell_type": "markdown",
   "id": "f3e8acd6",
   "metadata": {},
   "source": [
    "Different clustering methods implemented in sklearn:\n",
    "https://scikit-learn.org/stable/modules/clustering.html"
   ]
  },
  {
   "cell_type": "code",
   "execution_count": 82,
   "id": "6f5fc370",
   "metadata": {},
   "outputs": [],
   "source": [
    "from sklearn.cluster import KMeans"
   ]
  },
  {
   "cell_type": "code",
   "execution_count": 85,
   "id": "a7781a2b",
   "metadata": {},
   "outputs": [],
   "source": [
    "kmeans_model = KMeans(n_clusters=10)"
   ]
  },
  {
   "cell_type": "markdown",
   "id": "9f6d2cac",
   "metadata": {},
   "source": [
    "### Train Kmeans model\n",
    "\n",
    "**Question:** What function do we think we can use to train the model?\n",
    "\n",
    "<details>\n",
    "<summary>Hint</summary>\n",
    "    What function did we use yesterday to train the Naive Bayes and Logistic Regression classifiers\n",
    "</details>\n",
    "\n",
    "<details>\n",
    "<summary>Solution</summary>\n",
    "    .fit()\n",
    "</details>"
   ]
  },
  {
   "cell_type": "code",
   "execution_count": 118,
   "id": "ce5af5d8",
   "metadata": {},
   "outputs": [
    {
     "name": "stdout",
     "output_type": "stream",
     "text": [
      "CPU times: user 19.1 s, sys: 11.3 s, total: 30.4 s\n",
      "Wall time: 15.7 s\n"
     ]
    },
    {
     "data": {
      "text/plain": [
       "KMeans(n_clusters=10)"
      ]
     },
     "execution_count": 118,
     "metadata": {},
     "output_type": "execute_result"
    }
   ],
   "source": [
    "%%time\n",
    "\n",
    "kmeans_model.fit(X)"
   ]
  },
  {
   "cell_type": "markdown",
   "id": "57258565",
   "metadata": {},
   "source": [
    "#### Properties of the kmeans_model "
   ]
  },
  {
   "cell_type": "markdown",
   "id": "5ce15d30",
   "metadata": {},
   "source": [
    "##### Labels (cluster ID) for each example"
   ]
  },
  {
   "cell_type": "code",
   "execution_count": 119,
   "id": "befacc0a",
   "metadata": {
    "tags": []
   },
   "outputs": [
    {
     "data": {
      "text/plain": [
       "array([2, 0, 8, 4, 0, 5, 0, 0, 1, 7, 3, 7, 6, 1, 4, 1, 1, 7, 7, 8, 2, 4,\n",
       "       4, 8, 3, 7, 7, 4, 8, 1, 7, 7, 7, 7, 7, 7, 8, 1, 1, 4, 7, 4, 1, 7,\n",
       "       1, 1, 6, 7, 1, 4, 2, 1, 5, 1, 1, 1, 1, 3, 3, 3, 2, 2, 2, 6, 7, 7,\n",
       "       6, 1, 1, 2, 1, 3, 3, 8, 2, 8, 3, 2, 4, 1, 4, 3, 3, 3, 3, 4, 1, 4,\n",
       "       5, 1, 7, 1, 1, 1, 0, 1, 2, 7, 0, 7, 1, 4, 1, 1, 5, 3, 7, 1, 7, 6,\n",
       "       1, 3, 3, 3, 6, 6, 7, 7, 7, 7, 3, 2, 2, 4, 9, 0, 3, 2, 6, 1, 1, 1,\n",
       "       6, 1, 1, 8, 7, 0, 2, 1, 0, 7, 4, 1, 7, 2, 4, 2, 8, 1, 5, 1, 7, 5,\n",
       "       1, 8, 1, 1, 5, 7, 7, 4, 9, 6, 0, 3, 1, 4, 6, 5, 7, 1, 2, 2, 5, 1,\n",
       "       1, 4, 5, 5, 5, 1, 1, 2, 3, 1, 6, 8, 4, 6, 5, 1, 0, 4, 7, 5, 8, 1,\n",
       "       1, 1, 5, 1, 8, 1, 7, 4, 4, 2, 5, 7, 2, 4, 7, 1, 7, 3, 7, 7, 8, 1,\n",
       "       0, 2, 1, 3, 3, 6, 0, 7, 4, 7, 5, 1, 7, 4, 5, 1, 9, 3, 3, 8, 8, 3,\n",
       "       8, 1, 5, 7, 7, 4, 1, 9, 3, 8, 6, 7, 3, 5, 8, 5, 4, 2, 4, 6, 9, 1,\n",
       "       5, 2, 1, 4, 7, 3, 4, 6, 1, 7, 2, 1, 3, 1, 4, 1, 9, 1, 7, 7, 7, 7,\n",
       "       0, 1, 5, 9, 2, 0, 4, 7, 8, 1, 2, 2, 7, 1, 7, 2, 7, 7, 3, 8, 0, 9,\n",
       "       1, 5, 3, 3, 7, 3, 6, 5, 7, 1, 1, 1, 1, 1, 2, 5, 4, 7, 4, 3, 6, 1,\n",
       "       1, 4, 7, 1, 7, 5, 7, 2, 7, 4, 1, 7, 3, 4, 7, 9, 0, 1, 2, 1, 4, 7,\n",
       "       4, 3, 3, 8, 4, 6, 8, 4, 0, 1, 1, 3], dtype=int32)"
      ]
     },
     "execution_count": 119,
     "metadata": {},
     "output_type": "execute_result"
    }
   ],
   "source": [
    "kmeans_model.labels_"
   ]
  },
  {
   "cell_type": "code",
   "execution_count": 91,
   "id": "21de247f",
   "metadata": {},
   "outputs": [
    {
     "data": {
      "text/plain": [
       "(364,)"
      ]
     },
     "execution_count": 91,
     "metadata": {},
     "output_type": "execute_result"
    }
   ],
   "source": [
    "kmeans_model.labels_.shape"
   ]
  },
  {
   "cell_type": "markdown",
   "id": "b8cdb943",
   "metadata": {},
   "source": [
    "We can see how many documents were assigned to each of the 10 clusters"
   ]
  },
  {
   "cell_type": "code",
   "execution_count": 92,
   "id": "022d0d78",
   "metadata": {},
   "outputs": [
    {
     "data": {
      "text/plain": [
       "2    109\n",
       "1     77\n",
       "0     50\n",
       "4     30\n",
       "9     25\n",
       "7     18\n",
       "6     15\n",
       "8     15\n",
       "5     13\n",
       "3     12\n",
       "dtype: int64"
      ]
     },
     "execution_count": 92,
     "metadata": {},
     "output_type": "execute_result"
    }
   ],
   "source": [
    "pd.Series(kmeans_model.labels_).value_counts()"
   ]
  },
  {
   "cell_type": "markdown",
   "id": "f2e87fb6",
   "metadata": {},
   "source": [
    "##### Center for each cluster"
   ]
  },
  {
   "cell_type": "code",
   "execution_count": 93,
   "id": "acf34d82",
   "metadata": {},
   "outputs": [
    {
     "data": {
      "text/plain": [
       "array([[ 8.13151629e-20,  4.06575815e-20, -2.71050543e-20, ...,\n",
       "        -6.50521303e-19,  2.03287907e-20,  2.01241847e-04],\n",
       "       [ 1.35525272e-19,  4.06575815e-20, -5.42101086e-20, ...,\n",
       "         5.91764335e-04,  2.52508550e-04, -3.38813179e-21],\n",
       "       [ 5.31265089e-04, -2.71050543e-20,  2.50664728e-04, ...,\n",
       "         3.46751869e-03,  4.74338450e-20,  1.69406589e-20],\n",
       "       ...,\n",
       "       [ 0.00000000e+00,  1.35525272e-20,  1.35525272e-20, ...,\n",
       "         9.43100189e-04, -6.77626358e-21,  0.00000000e+00],\n",
       "       [ 0.00000000e+00,  0.00000000e+00,  2.71050543e-20, ...,\n",
       "         7.68128114e-04, -1.35525272e-20, -1.01643954e-20],\n",
       "       [ 5.42101086e-20,  0.00000000e+00, -1.35525272e-20, ...,\n",
       "         2.16840434e-19, -2.03287907e-20, -1.35525272e-20]])"
      ]
     },
     "execution_count": 93,
     "metadata": {},
     "output_type": "execute_result"
    }
   ],
   "source": [
    "kmeans_model.cluster_centers_"
   ]
  },
  {
   "cell_type": "code",
   "execution_count": 94,
   "id": "ebc9d6d9",
   "metadata": {},
   "outputs": [
    {
     "data": {
      "text/plain": [
       "(10, 35048)"
      ]
     },
     "execution_count": 94,
     "metadata": {},
     "output_type": "execute_result"
    }
   ],
   "source": [
    "kmeans_model.cluster_centers_.shape"
   ]
  },
  {
   "cell_type": "code",
   "execution_count": 95,
   "id": "4ea8d57e",
   "metadata": {},
   "outputs": [
    {
     "data": {
      "text/plain": [
       "array([ 8.13151629e-20,  4.06575815e-20, -2.71050543e-20, ...,\n",
       "       -6.50521303e-19,  2.03287907e-20,  2.01241847e-04])"
      ]
     },
     "execution_count": 95,
     "metadata": {},
     "output_type": "execute_result"
    }
   ],
   "source": [
    "kmeans_model.cluster_centers_[0]"
   ]
  },
  {
   "cell_type": "markdown",
   "id": "45358955",
   "metadata": {},
   "source": [
    "**Question** What do these numbers represent?\n",
    "\n",
    "<details>\n",
    "<summary>Solution</summary>\n",
    "    First digit is the number of clusters, second is the dimensions of the center each cluster. 35408 because that is the size of our vocab\n",
    "</details>"
   ]
  },
  {
   "cell_type": "markdown",
   "id": "7b7262b8",
   "metadata": {},
   "source": [
    "#### Determining the cluster for new examples\n",
    "\n",
    "\n",
    "**Question:** What function do we think we can use to use the model to assign clusters to new examples?\n",
    "\n",
    "<details>\n",
    "<summary>Hint</summary>\n",
    "    What function did we use yesterday to test the Naive Bayes and Logistic Regression classifiers\n",
    "</details>\n",
    "\n",
    "<details>\n",
    "<summary>Solution</summary>\n",
    "    .predict()\n",
    "</details>\n"
   ]
  },
  {
   "cell_type": "code",
   "execution_count": 98,
   "id": "6c9e9189",
   "metadata": {},
   "outputs": [
    {
     "data": {
      "text/plain": [
       "True"
      ]
     },
     "execution_count": 98,
     "metadata": {},
     "output_type": "execute_result"
    }
   ],
   "source": [
    "np.all(kmeans_model.predict(X) == kmeans_model.labels_)"
   ]
  },
  {
   "cell_type": "code",
   "execution_count": null,
   "id": "01c52ccf",
   "metadata": {},
   "outputs": [],
   "source": []
  },
  {
   "cell_type": "code",
   "execution_count": null,
   "id": "5d275468",
   "metadata": {},
   "outputs": [],
   "source": []
  },
  {
   "cell_type": "code",
   "execution_count": null,
   "id": "07a0e26e",
   "metadata": {},
   "outputs": [],
   "source": []
  },
  {
   "cell_type": "code",
   "execution_count": null,
   "id": "d6ee32e1",
   "metadata": {},
   "outputs": [],
   "source": [
    "kmeans_model.predict(X)"
   ]
  },
  {
   "cell_type": "code",
   "execution_count": 120,
   "id": "2618fb56",
   "metadata": {
    "tags": []
   },
   "outputs": [],
   "source": [
    "df['cluster_id'] = kmeans_model.predict(X)"
   ]
  },
  {
   "cell_type": "code",
   "execution_count": 103,
   "id": "aec3590d",
   "metadata": {},
   "outputs": [
    {
     "data": {
      "text/plain": [
       "(364, 10)"
      ]
     },
     "execution_count": 103,
     "metadata": {},
     "output_type": "execute_result"
    }
   ],
   "source": [
    "kmeans_model.transform(X).shape"
   ]
  },
  {
   "cell_type": "markdown",
   "id": "2d754c67",
   "metadata": {},
   "source": [
    "##### What about transform?\n",
    "\n",
    "\n",
    "Read the [documentation](https://scikit-learn.org/stable/modules/generated/sklearn.cluster.KMeans.html#sklearn.cluster.KMeans.transform) and explain what transform does"
   ]
  },
  {
   "cell_type": "code",
   "execution_count": 104,
   "id": "771c1dc7",
   "metadata": {},
   "outputs": [
    {
     "data": {
      "text/plain": [
       "array([[1.01446227, 0.968998  , 0.99437804, ..., 1.01871023, 1.0215985 ,\n",
       "        1.0086711 ],\n",
       "       [1.0162811 , 1.01652489, 1.00574323, ..., 1.03434498, 1.03978371,\n",
       "        1.03477189],\n",
       "       [1.01503917, 1.00060395, 0.99610477, ..., 0.9493088 , 1.02322583,\n",
       "        1.01922157],\n",
       "       ...,\n",
       "       [0.98440418, 0.91760795, 0.95490618, ..., 0.98073109, 1.00096634,\n",
       "        0.95254019],\n",
       "       [1.01120257, 0.99552327, 0.9733883 , ..., 1.02438889, 1.02848637,\n",
       "        1.01180711],\n",
       "       [0.92953461, 1.00070941, 0.98285307, ..., 1.02434561, 1.02970153,\n",
       "        1.01844441]])"
      ]
     },
     "execution_count": 104,
     "metadata": {},
     "output_type": "execute_result"
    }
   ],
   "source": [
    "kmeans_model.transform(X)"
   ]
  },
  {
   "cell_type": "code",
   "execution_count": 105,
   "id": "4239eb1a",
   "metadata": {},
   "outputs": [
    {
     "data": {
      "text/plain": [
       "array([1.01446227, 0.968998  , 0.99437804, 1.06468053, 1.0225684 ,\n",
       "       1.0776569 , 1.04485796, 1.01871023, 1.0215985 , 1.0086711 ])"
      ]
     },
     "execution_count": 105,
     "metadata": {},
     "output_type": "execute_result"
    }
   ],
   "source": [
    "kmeans_model.transform(X)[0]"
   ]
  },
  {
   "cell_type": "code",
   "execution_count": 106,
   "id": "9f499568",
   "metadata": {},
   "outputs": [
    {
     "data": {
      "text/plain": [
       "0.9689980004973636"
      ]
     },
     "execution_count": 106,
     "metadata": {},
     "output_type": "execute_result"
    }
   ],
   "source": [
    "kmeans_model.transform(X)[0].min()"
   ]
  },
  {
   "cell_type": "code",
   "execution_count": 107,
   "id": "806895d9",
   "metadata": {},
   "outputs": [
    {
     "data": {
      "text/plain": [
       "1"
      ]
     },
     "execution_count": 107,
     "metadata": {},
     "output_type": "execute_result"
    }
   ],
   "source": [
    "kmeans_model.transform(X)[0].argmin()"
   ]
  },
  {
   "cell_type": "code",
   "execution_count": null,
   "id": "20adb674",
   "metadata": {},
   "outputs": [],
   "source": [
    "kmeans_model.transform(X).shape"
   ]
  },
  {
   "cell_type": "code",
   "execution_count": 121,
   "id": "47af9bd4",
   "metadata": {},
   "outputs": [],
   "source": [
    "distances = kmeans_model.transform(X)"
   ]
  },
  {
   "cell_type": "code",
   "execution_count": 122,
   "id": "f4c3b853",
   "metadata": {},
   "outputs": [
    {
     "data": {
      "text/plain": [
       "(364, 10)"
      ]
     },
     "execution_count": 122,
     "metadata": {},
     "output_type": "execute_result"
    }
   ],
   "source": [
    "distances.shape"
   ]
  },
  {
   "cell_type": "markdown",
   "id": "86a3bcd5",
   "metadata": {},
   "source": [
    "Let's store the distances in a dataframe"
   ]
  },
  {
   "cell_type": "code",
   "execution_count": 123,
   "id": "b6fac938",
   "metadata": {
    "tags": []
   },
   "outputs": [
    {
     "data": {
      "text/html": [
       "<div>\n",
       "<style scoped>\n",
       "    .dataframe tbody tr th:only-of-type {\n",
       "        vertical-align: middle;\n",
       "    }\n",
       "\n",
       "    .dataframe tbody tr th {\n",
       "        vertical-align: top;\n",
       "    }\n",
       "\n",
       "    .dataframe thead th {\n",
       "        text-align: right;\n",
       "    }\n",
       "</style>\n",
       "<table border=\"1\" class=\"dataframe\">\n",
       "  <thead>\n",
       "    <tr style=\"text-align: right;\">\n",
       "      <th></th>\n",
       "      <th>0</th>\n",
       "      <th>1</th>\n",
       "      <th>2</th>\n",
       "      <th>3</th>\n",
       "      <th>4</th>\n",
       "      <th>5</th>\n",
       "      <th>6</th>\n",
       "      <th>7</th>\n",
       "      <th>8</th>\n",
       "      <th>9</th>\n",
       "    </tr>\n",
       "    <tr>\n",
       "      <th>subject</th>\n",
       "      <th></th>\n",
       "      <th></th>\n",
       "      <th></th>\n",
       "      <th></th>\n",
       "      <th></th>\n",
       "      <th></th>\n",
       "      <th></th>\n",
       "      <th></th>\n",
       "      <th></th>\n",
       "      <th></th>\n",
       "    </tr>\n",
       "  </thead>\n",
       "  <tbody>\n",
       "    <tr>\n",
       "      <th>Randolph</th>\n",
       "      <td>1.050255</td>\n",
       "      <td>0.992309</td>\n",
       "      <td>0.971988</td>\n",
       "      <td>1.018549</td>\n",
       "      <td>1.014761</td>\n",
       "      <td>1.004823</td>\n",
       "      <td>1.025963</td>\n",
       "      <td>0.994651</td>\n",
       "      <td>1.003367</td>\n",
       "      <td>1.041087</td>\n",
       "    </tr>\n",
       "    <tr>\n",
       "      <th>Basie</th>\n",
       "      <td>0.905006</td>\n",
       "      <td>1.006532</td>\n",
       "      <td>1.028485</td>\n",
       "      <td>1.021943</td>\n",
       "      <td>1.016609</td>\n",
       "      <td>1.038347</td>\n",
       "      <td>1.030619</td>\n",
       "      <td>1.008315</td>\n",
       "      <td>1.041754</td>\n",
       "      <td>1.068328</td>\n",
       "    </tr>\n",
       "    <tr>\n",
       "      <th>Swope</th>\n",
       "      <td>1.050978</td>\n",
       "      <td>0.991744</td>\n",
       "      <td>1.016054</td>\n",
       "      <td>1.018812</td>\n",
       "      <td>1.014992</td>\n",
       "      <td>1.017120</td>\n",
       "      <td>1.028645</td>\n",
       "      <td>1.000075</td>\n",
       "      <td>0.979838</td>\n",
       "      <td>1.058061</td>\n",
       "    </tr>\n",
       "    <tr>\n",
       "      <th>Ulanova</th>\n",
       "      <td>1.049449</td>\n",
       "      <td>1.001388</td>\n",
       "      <td>1.013119</td>\n",
       "      <td>1.008266</td>\n",
       "      <td>0.969042</td>\n",
       "      <td>1.025802</td>\n",
       "      <td>1.036466</td>\n",
       "      <td>1.004284</td>\n",
       "      <td>1.041503</td>\n",
       "      <td>1.061876</td>\n",
       "    </tr>\n",
       "    <tr>\n",
       "      <th>Sousa</th>\n",
       "      <td>0.917280</td>\n",
       "      <td>0.989117</td>\n",
       "      <td>1.012279</td>\n",
       "      <td>1.012312</td>\n",
       "      <td>1.006967</td>\n",
       "      <td>1.018918</td>\n",
       "      <td>1.025716</td>\n",
       "      <td>0.995399</td>\n",
       "      <td>1.024326</td>\n",
       "      <td>1.042313</td>\n",
       "    </tr>\n",
       "    <tr>\n",
       "      <th>...</th>\n",
       "      <td>...</td>\n",
       "      <td>...</td>\n",
       "      <td>...</td>\n",
       "      <td>...</td>\n",
       "      <td>...</td>\n",
       "      <td>...</td>\n",
       "      <td>...</td>\n",
       "      <td>...</td>\n",
       "      <td>...</td>\n",
       "      <td>...</td>\n",
       "    </tr>\n",
       "    <tr>\n",
       "      <th>Miss Balch</th>\n",
       "      <td>1.057678</td>\n",
       "      <td>0.996871</td>\n",
       "      <td>1.010870</td>\n",
       "      <td>1.019528</td>\n",
       "      <td>0.954573</td>\n",
       "      <td>1.019678</td>\n",
       "      <td>1.031452</td>\n",
       "      <td>1.002777</td>\n",
       "      <td>1.028669</td>\n",
       "      <td>1.056504</td>\n",
       "    </tr>\n",
       "    <tr>\n",
       "      <th>Cage</th>\n",
       "      <td>0.954502</td>\n",
       "      <td>0.996745</td>\n",
       "      <td>1.023684</td>\n",
       "      <td>1.011762</td>\n",
       "      <td>1.013191</td>\n",
       "      <td>1.031838</td>\n",
       "      <td>1.031074</td>\n",
       "      <td>0.995110</td>\n",
       "      <td>1.038936</td>\n",
       "      <td>1.067098</td>\n",
       "    </tr>\n",
       "    <tr>\n",
       "      <th>Grant</th>\n",
       "      <td>1.028280</td>\n",
       "      <td>0.930461</td>\n",
       "      <td>0.964230</td>\n",
       "      <td>0.987903</td>\n",
       "      <td>0.981996</td>\n",
       "      <td>0.943112</td>\n",
       "      <td>1.001914</td>\n",
       "      <td>0.965232</td>\n",
       "      <td>0.956246</td>\n",
       "      <td>1.010986</td>\n",
       "    </tr>\n",
       "    <tr>\n",
       "      <th>Gorky</th>\n",
       "      <td>1.049887</td>\n",
       "      <td>0.977396</td>\n",
       "      <td>0.999059</td>\n",
       "      <td>1.009530</td>\n",
       "      <td>1.012441</td>\n",
       "      <td>1.011111</td>\n",
       "      <td>1.030489</td>\n",
       "      <td>0.988552</td>\n",
       "      <td>1.031389</td>\n",
       "      <td>1.056955</td>\n",
       "    </tr>\n",
       "    <tr>\n",
       "      <th>Tandy</th>\n",
       "      <td>1.035551</td>\n",
       "      <td>0.988181</td>\n",
       "      <td>1.013628</td>\n",
       "      <td>0.925911</td>\n",
       "      <td>0.964089</td>\n",
       "      <td>1.020531</td>\n",
       "      <td>1.018067</td>\n",
       "      <td>0.985936</td>\n",
       "      <td>1.029401</td>\n",
       "      <td>1.052152</td>\n",
       "    </tr>\n",
       "  </tbody>\n",
       "</table>\n",
       "<p>364 rows × 10 columns</p>\n",
       "</div>"
      ],
      "text/plain": [
       "                   0         1         2         3         4         5  \\\n",
       "subject                                                                  \n",
       "Randolph    1.050255  0.992309  0.971988  1.018549  1.014761  1.004823   \n",
       "Basie       0.905006  1.006532  1.028485  1.021943  1.016609  1.038347   \n",
       "Swope       1.050978  0.991744  1.016054  1.018812  1.014992  1.017120   \n",
       "Ulanova     1.049449  1.001388  1.013119  1.008266  0.969042  1.025802   \n",
       "Sousa       0.917280  0.989117  1.012279  1.012312  1.006967  1.018918   \n",
       "...              ...       ...       ...       ...       ...       ...   \n",
       "Miss Balch  1.057678  0.996871  1.010870  1.019528  0.954573  1.019678   \n",
       "Cage        0.954502  0.996745  1.023684  1.011762  1.013191  1.031838   \n",
       "Grant       1.028280  0.930461  0.964230  0.987903  0.981996  0.943112   \n",
       "Gorky       1.049887  0.977396  0.999059  1.009530  1.012441  1.011111   \n",
       "Tandy       1.035551  0.988181  1.013628  0.925911  0.964089  1.020531   \n",
       "\n",
       "                   6         7         8         9  \n",
       "subject                                             \n",
       "Randolph    1.025963  0.994651  1.003367  1.041087  \n",
       "Basie       1.030619  1.008315  1.041754  1.068328  \n",
       "Swope       1.028645  1.000075  0.979838  1.058061  \n",
       "Ulanova     1.036466  1.004284  1.041503  1.061876  \n",
       "Sousa       1.025716  0.995399  1.024326  1.042313  \n",
       "...              ...       ...       ...       ...  \n",
       "Miss Balch  1.031452  1.002777  1.028669  1.056504  \n",
       "Cage        1.031074  0.995110  1.038936  1.067098  \n",
       "Grant       1.001914  0.965232  0.956246  1.010986  \n",
       "Gorky       1.030489  0.988552  1.031389  1.056955  \n",
       "Tandy       1.018067  0.985936  1.029401  1.052152  \n",
       "\n",
       "[364 rows x 10 columns]"
      ]
     },
     "execution_count": 123,
     "metadata": {},
     "output_type": "execute_result"
    }
   ],
   "source": [
    "distances_df = pd.DataFrame(distances)\n",
    "distances_df.index = df.index\n",
    "distances_df"
   ]
  },
  {
   "cell_type": "markdown",
   "id": "3f9b3625",
   "metadata": {},
   "source": [
    "### Analyze the clusters"
   ]
  },
  {
   "cell_type": "code",
   "execution_count": 111,
   "id": "9617e242",
   "metadata": {},
   "outputs": [
    {
     "data": {
      "text/plain": [
       "10"
      ]
     },
     "execution_count": 111,
     "metadata": {},
     "output_type": "execute_result"
    }
   ],
   "source": [
    "kmeans_model.n_clusters"
   ]
  },
  {
   "cell_type": "markdown",
   "id": "32b81503",
   "metadata": {},
   "source": [
    "#### Print out all people in each cluster"
   ]
  },
  {
   "cell_type": "code",
   "execution_count": 124,
   "id": "fb5e0353",
   "metadata": {},
   "outputs": [
    {
     "name": "stdout",
     "output_type": "stream",
     "text": [
      "0 Index(['Basie', 'Sousa', 'Kern', 'Hawkins', 'Hines', 'Monk', 'Kenton',\n",
      "       'Waters', 'Sinatra', 'Bernstein', 'Fiedler', 'Goodman', 'Armstrong',\n",
      "       'Davis_1', 'Gillespie', 'Bartok', 'Ravel', 'Cage'],\n",
      "      dtype='object', name='subject')\n",
      "\n",
      "1 Index(['Salk', 'Jung', 'Rockne', 'Capone', 'Pauling', 'Holmes', 'Lardner',\n",
      "       'Douglass', 'Max Ernst', 'Darwin', 'Frost', 'Schweitzer',\n",
      "       'Abbott McNeil Whistler', 'Carnegie', 'Patton', 'Lindbergh',\n",
      "       'Cleveland', 'Barnum', 'Sabin', 'Dempster', 'Klemperer',\n",
      "       'Henry Huddleston Rogers', 'McCormick', 'Martin', 'Kroc', 'Rawlings',\n",
      "       'O'Neill', 'Rickenbacker', 'Catton', 'Stevenson', 'Sanger',\n",
      "       'Elizabeth Cochrane Seaman', 'Bell', 'Muir', 'Nietzsche', 'Warren',\n",
      "       'C. J. Walker', 'Darrow', 'Pincus', 'Ochs', 'Arthur', 'Edgard Degas',\n",
      "       'Einstein', 'Millay', 'AP)--Frida Kahlo', 'Mahan', 'Maison Dior',\n",
      "       'Picasso', 'Cather', 'McKinley', 'Hill', 'Friendly', 'Roosevelt',\n",
      "       'Shaw', 'Luce_1', 'Henri Matisse', 'La Guardia', 'Sinclair', 'Sloan',\n",
      "       'Tinbergen', 'Edison', 'Fermi', 'Ernie Pyle', 'Geronimo', 'Paul VI',\n",
      "       'Moses', 'Forrest', 'Rockefeller', 'Holland', 'Roosevelt_1_2',\n",
      "       'Tolstoy', 'Brinker', 'Thorpe', 'Rogers', 'Emma Lazarus', 'Pulitzer',\n",
      "       'Daley', 'Ford', 'Conrad', 'Murrow', 'Planck', 'Getty', 'Kellogg',\n",
      "       'Lee', 'Erikson', 'Grant', 'Gorky'],\n",
      "      dtype='object', name='subject')\n",
      "\n",
      "2 Index(['Randolph', 'Reuther', 'Stone', 'Schultz', 'Rabin', 'Deng', 'Buber',\n",
      "       'Gandhi', 'Weizmann', 'Daladier', 'Earl', 'Abzug', 'Benedict XV',\n",
      "       'Bunche', 'Levi', 'Stalin', 'Hassan', 'Chavez', 'Brezhnev', 'Trudeau',\n",
      "       'Gagarin', 'Meir', 'Gandhi_1', 'Sadat', 'Hitler', 'Eden', 'Hussein',\n",
      "       'Churchill', 'Begin', 'Vargas', 'Senora Peron', 'Sakharov'],\n",
      "      dtype='object', name='subject')\n",
      "\n",
      "3 Index(['Merrill', 'Wayne', 'Cohan', 'Peggy Ashcroft', 'Capra', 'Porter',\n",
      "       'Stewart', 'Bergman', 'Zukor', 'Eisenstein', 'Fellini', 'Miss Booth',\n",
      "       'Shepard', 'Ball', 'Hitchcock', 'O'Sullivan', 'Chaplin', 'Strasberg',\n",
      "       'Garbo', 'Houseman', 'Dietrich', 'Burton', 'Cagney', 'Abbott', 'Welles',\n",
      "       'Kelly', 'Weissmuller', 'Davis', 'Barrymore', 'Gutenberg',\n",
      "       'Stanislavsky', 'Huston', 'Rodgers', 'Selznick', 'Astaire', 'De Mille',\n",
      "       'Keaton', 'Harrison_1_2', 'Tandy'],\n",
      "      dtype='object', name='subject')\n",
      "\n",
      "4 Index(['Ulanova', 'Segovia', 'Sullivan', 'Jackson', 'Miss Rankin', 'Hayworth',\n",
      "       'Garland', 'Rubinstein', 'Miss Hellman', 'Macy', 'Tarbell',\n",
      "       'Miss Holiday', 'Graham', 'Anthony', 'Blanchfield', 'Crawford',\n",
      "       'Horowitz', 'Miss Barrymore', 'Miss Smith', 'Jackson_1', 'Stanton',\n",
      "       'Stein', 'Addams', 'Brice', 'Merman', 'Alcott', 'Mitford',\n",
      "       'Miss Cratty', 'Keller', 'Miss Freud', 'Bruce', 'O'Keeffe', 'Cornell',\n",
      "       'Carson', 'Mitchell', 'Coco', 'Monroe', 'Callas', 'Ziegfeld', 'Henie',\n",
      "       'Jewett', 'Miss Balch'],\n",
      "      dtype='object', name='subject')\n",
      "\n",
      "5 Index(['Franco', 'Nixon', 'Dulles', 'Mao', 'McClung', 'Eisenhower', 'Ho',\n",
      "       'Dirksen', 'Nimitz', 'Harrison', 'Chiang', 'DuBois', 'Hammarskjold',\n",
      "       'Johnson', 'de Gaulle', 'Vinson', 'Watson_1', 'Roosevelt_1', 'Truman',\n",
      "       'Stevenson_1', 'Roosevelt_1_2', 'Acheson', 'MacArthur', 'Dewey',\n",
      "       'Gromyko', 'Dewey_1', 'Khrushchev'],\n",
      "      dtype='object', name='subject')\n",
      "\n",
      "6 Index(['Ruth', 'Zaharias', 'Ruth_1', 'Robinson', 'Paige', 'Maris', 'Jones',\n",
      "       'Durocher', 'Ashe', 'Louis', 'Handy', 'Tiffany', 'Clemente', 'Montoya',\n",
      "       'Young', 'L'Amour', 'Dempsey', 'Rickey', 'Wills', 'Busch'],\n",
      "      dtype='object', name='subject')\n",
      "\n",
      "7 Index(['Shawn', 'Stowe', 'Hughes', 'Sagan', 'Grandma Moses', 'McAuliffe',\n",
      "       'Piaget', 'Borges', 'Shockley', 'Beckett', 'Wright', 'Wright_1',\n",
      "       'Kennedy_1', 'Haley', 'Watson', 'Woolf', 'Geisel', 'Spock', 'Malamud',\n",
      "       'Joyce', 'Luce', 'Sartre', 'Pasternak', 'Remarque', 'Carver',\n",
      "       'Fitzgerald', 'Ginsberg', 'Post', 'Crane', 'Taylor', 'Washington',\n",
      "       'Faulkner', 'White', 'Schulz', 'Harrison_1', 'Owens', 'Evans', 'Asimov',\n",
      "       'Leary', 'Bailey', 'London', 'Murdoch', 'Hemingway', 'Lowell',\n",
      "       'White_1', 'Disney', 'Eisenstaedt', 'Adams', 'O'Casey', 'Hale',\n",
      "       'Wharton', 'Carnegie_1', 'Monod', 'Mann', 'Yeats', 'Muhammad',\n",
      "       'Art Deco', 'Mies', 'Capote', 'Baldwin', 'Mead', 'Marcos', 'William',\n",
      "       'Stravinsky', 'Kane', 'Sylvia Plath', 'James'],\n",
      "      dtype='object', name='subject')\n",
      "\n",
      "8 Index(['Swope', 'Pepper', 'Oppenheimer', 'Kennedy', 'Smith', 'Taft', 'Landon',\n",
      "       'Marshall', 'Harding', 'Warren_1', 'Kennedy_1_2', 'Coolidge', 'Black',\n",
      "       'Sperry', 'O'Neill_1', 'Richardson', 'Johnson_1', 'Hoover', 'Heisman',\n",
      "       'Roosevelt_1_2', 'Hoover_1', 'Rayburn', 'Stimson'],\n",
      "      dtype='object', name='subject')\n",
      "\n",
      "9 Index(['King', 'Elizabeth', 'Edward', 'Haile Selassie', 'Hirohito', 'Carter',\n",
      "       'Abernathy', 'Nightingale', 'Spaulding'],\n",
      "      dtype='object', name='subject')\n",
      "\n"
     ]
    }
   ],
   "source": [
    "for cluster_id in range(kmeans_model.n_clusters):\n",
    "    print(cluster_id, df[df['cluster_id'] == cluster_id].index)\n",
    "    print()"
   ]
  },
  {
   "cell_type": "markdown",
   "id": "25562dee",
   "metadata": {},
   "source": [
    "#### Print out all people in each cluster sorted by distance to cluster's center"
   ]
  },
  {
   "cell_type": "code",
   "execution_count": 113,
   "id": "a5ac0257",
   "metadata": {},
   "outputs": [
    {
     "data": {
      "text/plain": [
       "9"
      ]
     },
     "execution_count": 113,
     "metadata": {},
     "output_type": "execute_result"
    }
   ],
   "source": [
    "cluster_id"
   ]
  },
  {
   "cell_type": "code",
   "execution_count": 114,
   "id": "a3cf317e",
   "metadata": {},
   "outputs": [
    {
     "data": {
      "text/plain": [
       "Index(['Smith', 'Nixon', 'Woolf', 'Cleveland', 'Landon', 'Dulles', 'Luce',\n",
       "       'Stevenson', 'Abzug', 'Harding', 'Eisenhower', 'Dirksen', 'McKinley',\n",
       "       'Kennedy_1_2', 'Hammarskjold', 'Luce_1', 'Tinbergen', 'O'Neill_1',\n",
       "       'Stevenson_1', 'Dewey', 'Gromyko', 'Daley', 'Dewey_1', 'Murrow',\n",
       "       'Khrushchev'],\n",
       "      dtype='object', name='subject')"
      ]
     },
     "execution_count": 114,
     "metadata": {},
     "output_type": "execute_result"
    }
   ],
   "source": [
    "names = df[df['cluster_id'] == cluster_id].index\n",
    "names"
   ]
  },
  {
   "cell_type": "code",
   "execution_count": 115,
   "id": "8db0a9c4",
   "metadata": {
    "collapsed": true,
    "jupyter": {
     "outputs_hidden": true
    },
    "tags": []
   },
   "outputs": [
    {
     "data": {
      "text/html": [
       "<div>\n",
       "<style scoped>\n",
       "    .dataframe tbody tr th:only-of-type {\n",
       "        vertical-align: middle;\n",
       "    }\n",
       "\n",
       "    .dataframe tbody tr th {\n",
       "        vertical-align: top;\n",
       "    }\n",
       "\n",
       "    .dataframe thead th {\n",
       "        text-align: right;\n",
       "    }\n",
       "</style>\n",
       "<table border=\"1\" class=\"dataframe\">\n",
       "  <thead>\n",
       "    <tr style=\"text-align: right;\">\n",
       "      <th></th>\n",
       "      <th>0</th>\n",
       "      <th>1</th>\n",
       "      <th>2</th>\n",
       "      <th>3</th>\n",
       "      <th>4</th>\n",
       "      <th>5</th>\n",
       "      <th>6</th>\n",
       "      <th>7</th>\n",
       "      <th>8</th>\n",
       "      <th>9</th>\n",
       "    </tr>\n",
       "    <tr>\n",
       "      <th>subject</th>\n",
       "      <th></th>\n",
       "      <th></th>\n",
       "      <th></th>\n",
       "      <th></th>\n",
       "      <th></th>\n",
       "      <th></th>\n",
       "      <th></th>\n",
       "      <th></th>\n",
       "      <th></th>\n",
       "      <th></th>\n",
       "    </tr>\n",
       "  </thead>\n",
       "  <tbody>\n",
       "    <tr>\n",
       "      <th>Smith</th>\n",
       "      <td>1.009219</td>\n",
       "      <td>0.963055</td>\n",
       "      <td>0.988701</td>\n",
       "      <td>1.063514</td>\n",
       "      <td>1.003986</td>\n",
       "      <td>1.068457</td>\n",
       "      <td>1.041842</td>\n",
       "      <td>1.009109</td>\n",
       "      <td>1.022630</td>\n",
       "      <td>0.925062</td>\n",
       "    </tr>\n",
       "    <tr>\n",
       "      <th>Nixon</th>\n",
       "      <td>0.994998</td>\n",
       "      <td>0.954814</td>\n",
       "      <td>0.977727</td>\n",
       "      <td>1.051279</td>\n",
       "      <td>1.008888</td>\n",
       "      <td>1.069255</td>\n",
       "      <td>1.031609</td>\n",
       "      <td>1.005071</td>\n",
       "      <td>1.019440</td>\n",
       "      <td>0.911635</td>\n",
       "    </tr>\n",
       "    <tr>\n",
       "      <th>Woolf</th>\n",
       "      <td>1.022845</td>\n",
       "      <td>1.016385</td>\n",
       "      <td>1.001092</td>\n",
       "      <td>1.079640</td>\n",
       "      <td>1.033227</td>\n",
       "      <td>1.088379</td>\n",
       "      <td>1.052241</td>\n",
       "      <td>1.035068</td>\n",
       "      <td>1.038992</td>\n",
       "      <td>0.995939</td>\n",
       "    </tr>\n",
       "    <tr>\n",
       "      <th>Cleveland</th>\n",
       "      <td>1.005757</td>\n",
       "      <td>0.970239</td>\n",
       "      <td>0.979300</td>\n",
       "      <td>1.035559</td>\n",
       "      <td>1.013347</td>\n",
       "      <td>1.072457</td>\n",
       "      <td>1.036547</td>\n",
       "      <td>1.000285</td>\n",
       "      <td>1.022154</td>\n",
       "      <td>0.940417</td>\n",
       "    </tr>\n",
       "    <tr>\n",
       "      <th>Landon</th>\n",
       "      <td>1.017640</td>\n",
       "      <td>0.989580</td>\n",
       "      <td>0.999656</td>\n",
       "      <td>1.069814</td>\n",
       "      <td>1.029375</td>\n",
       "      <td>1.082712</td>\n",
       "      <td>1.049168</td>\n",
       "      <td>1.022606</td>\n",
       "      <td>1.031637</td>\n",
       "      <td>0.954601</td>\n",
       "    </tr>\n",
       "    <tr>\n",
       "      <th>Dulles</th>\n",
       "      <td>1.014629</td>\n",
       "      <td>0.973348</td>\n",
       "      <td>0.991451</td>\n",
       "      <td>1.070367</td>\n",
       "      <td>1.022485</td>\n",
       "      <td>1.080489</td>\n",
       "      <td>1.042957</td>\n",
       "      <td>1.016207</td>\n",
       "      <td>1.027031</td>\n",
       "      <td>0.945722</td>\n",
       "    </tr>\n",
       "    <tr>\n",
       "      <th>Luce</th>\n",
       "      <td>1.000619</td>\n",
       "      <td>0.988616</td>\n",
       "      <td>0.984775</td>\n",
       "      <td>1.065702</td>\n",
       "      <td>1.012757</td>\n",
       "      <td>1.075659</td>\n",
       "      <td>1.039224</td>\n",
       "      <td>1.021201</td>\n",
       "      <td>1.028792</td>\n",
       "      <td>0.935030</td>\n",
       "    </tr>\n",
       "    <tr>\n",
       "      <th>Stevenson</th>\n",
       "      <td>1.006485</td>\n",
       "      <td>0.997860</td>\n",
       "      <td>0.977892</td>\n",
       "      <td>1.067421</td>\n",
       "      <td>1.016133</td>\n",
       "      <td>1.072652</td>\n",
       "      <td>1.035092</td>\n",
       "      <td>1.021045</td>\n",
       "      <td>1.027302</td>\n",
       "      <td>0.959201</td>\n",
       "    </tr>\n",
       "    <tr>\n",
       "      <th>Abzug</th>\n",
       "      <td>1.015207</td>\n",
       "      <td>0.994696</td>\n",
       "      <td>0.997320</td>\n",
       "      <td>1.072530</td>\n",
       "      <td>1.023554</td>\n",
       "      <td>1.080453</td>\n",
       "      <td>1.046063</td>\n",
       "      <td>1.027098</td>\n",
       "      <td>1.033965</td>\n",
       "      <td>0.965336</td>\n",
       "    </tr>\n",
       "    <tr>\n",
       "      <th>Harding</th>\n",
       "      <td>1.010777</td>\n",
       "      <td>0.968729</td>\n",
       "      <td>0.988865</td>\n",
       "      <td>1.059173</td>\n",
       "      <td>1.018356</td>\n",
       "      <td>1.076933</td>\n",
       "      <td>1.043025</td>\n",
       "      <td>1.012750</td>\n",
       "      <td>1.026690</td>\n",
       "      <td>0.932964</td>\n",
       "    </tr>\n",
       "    <tr>\n",
       "      <th>Eisenhower</th>\n",
       "      <td>1.003403</td>\n",
       "      <td>0.937358</td>\n",
       "      <td>0.978637</td>\n",
       "      <td>1.056060</td>\n",
       "      <td>1.010164</td>\n",
       "      <td>1.071569</td>\n",
       "      <td>1.035080</td>\n",
       "      <td>1.002095</td>\n",
       "      <td>1.016443</td>\n",
       "      <td>0.892555</td>\n",
       "    </tr>\n",
       "    <tr>\n",
       "      <th>Dirksen</th>\n",
       "      <td>1.011379</td>\n",
       "      <td>0.980115</td>\n",
       "      <td>0.992115</td>\n",
       "      <td>1.063703</td>\n",
       "      <td>1.020343</td>\n",
       "      <td>1.078090</td>\n",
       "      <td>1.043764</td>\n",
       "      <td>1.019518</td>\n",
       "      <td>1.028181</td>\n",
       "      <td>0.947491</td>\n",
       "    </tr>\n",
       "    <tr>\n",
       "      <th>McKinley</th>\n",
       "      <td>1.007799</td>\n",
       "      <td>0.971613</td>\n",
       "      <td>0.986464</td>\n",
       "      <td>1.061201</td>\n",
       "      <td>1.011275</td>\n",
       "      <td>1.074259</td>\n",
       "      <td>1.039398</td>\n",
       "      <td>1.010909</td>\n",
       "      <td>1.023227</td>\n",
       "      <td>0.951368</td>\n",
       "    </tr>\n",
       "    <tr>\n",
       "      <th>Kennedy_1_2</th>\n",
       "      <td>0.998504</td>\n",
       "      <td>0.959098</td>\n",
       "      <td>0.978913</td>\n",
       "      <td>1.052503</td>\n",
       "      <td>1.010721</td>\n",
       "      <td>1.069266</td>\n",
       "      <td>1.037965</td>\n",
       "      <td>1.009631</td>\n",
       "      <td>1.021202</td>\n",
       "      <td>0.926736</td>\n",
       "    </tr>\n",
       "    <tr>\n",
       "      <th>Hammarskjold</th>\n",
       "      <td>1.014971</td>\n",
       "      <td>0.977051</td>\n",
       "      <td>0.991395</td>\n",
       "      <td>1.070441</td>\n",
       "      <td>1.023340</td>\n",
       "      <td>1.080351</td>\n",
       "      <td>1.042075</td>\n",
       "      <td>1.017764</td>\n",
       "      <td>1.026544</td>\n",
       "      <td>0.957458</td>\n",
       "    </tr>\n",
       "    <tr>\n",
       "      <th>Luce_1</th>\n",
       "      <td>1.011131</td>\n",
       "      <td>1.001138</td>\n",
       "      <td>0.988719</td>\n",
       "      <td>1.066854</td>\n",
       "      <td>1.023052</td>\n",
       "      <td>1.080260</td>\n",
       "      <td>1.043614</td>\n",
       "      <td>1.019885</td>\n",
       "      <td>1.030823</td>\n",
       "      <td>0.950416</td>\n",
       "    </tr>\n",
       "    <tr>\n",
       "      <th>Tinbergen</th>\n",
       "      <td>1.021190</td>\n",
       "      <td>1.000904</td>\n",
       "      <td>0.998958</td>\n",
       "      <td>1.074167</td>\n",
       "      <td>1.030352</td>\n",
       "      <td>1.086171</td>\n",
       "      <td>1.048747</td>\n",
       "      <td>1.022684</td>\n",
       "      <td>1.020452</td>\n",
       "      <td>0.979912</td>\n",
       "    </tr>\n",
       "    <tr>\n",
       "      <th>O'Neill_1</th>\n",
       "      <td>0.998019</td>\n",
       "      <td>0.953227</td>\n",
       "      <td>0.976662</td>\n",
       "      <td>1.049696</td>\n",
       "      <td>1.005341</td>\n",
       "      <td>1.067904</td>\n",
       "      <td>1.034595</td>\n",
       "      <td>1.004557</td>\n",
       "      <td>1.017619</td>\n",
       "      <td>0.921700</td>\n",
       "    </tr>\n",
       "    <tr>\n",
       "      <th>Stevenson_1</th>\n",
       "      <td>1.008978</td>\n",
       "      <td>0.968454</td>\n",
       "      <td>0.987584</td>\n",
       "      <td>1.064105</td>\n",
       "      <td>1.018899</td>\n",
       "      <td>1.076244</td>\n",
       "      <td>1.041585</td>\n",
       "      <td>1.014176</td>\n",
       "      <td>1.023549</td>\n",
       "      <td>0.896690</td>\n",
       "    </tr>\n",
       "    <tr>\n",
       "      <th>Dewey</th>\n",
       "      <td>1.006511</td>\n",
       "      <td>0.976902</td>\n",
       "      <td>0.976363</td>\n",
       "      <td>1.063121</td>\n",
       "      <td>1.009748</td>\n",
       "      <td>1.072824</td>\n",
       "      <td>1.033005</td>\n",
       "      <td>1.010072</td>\n",
       "      <td>1.003782</td>\n",
       "      <td>0.937513</td>\n",
       "    </tr>\n",
       "    <tr>\n",
       "      <th>Gromyko</th>\n",
       "      <td>1.018806</td>\n",
       "      <td>0.979798</td>\n",
       "      <td>0.994993</td>\n",
       "      <td>1.074109</td>\n",
       "      <td>1.028071</td>\n",
       "      <td>1.082705</td>\n",
       "      <td>1.045773</td>\n",
       "      <td>1.025397</td>\n",
       "      <td>1.031741</td>\n",
       "      <td>0.956800</td>\n",
       "    </tr>\n",
       "    <tr>\n",
       "      <th>Daley</th>\n",
       "      <td>1.015086</td>\n",
       "      <td>0.991188</td>\n",
       "      <td>0.997211</td>\n",
       "      <td>1.067176</td>\n",
       "      <td>1.028631</td>\n",
       "      <td>1.078758</td>\n",
       "      <td>1.044628</td>\n",
       "      <td>1.023725</td>\n",
       "      <td>1.031540</td>\n",
       "      <td>0.956765</td>\n",
       "    </tr>\n",
       "    <tr>\n",
       "      <th>Dewey_1</th>\n",
       "      <td>1.019558</td>\n",
       "      <td>1.006885</td>\n",
       "      <td>0.997097</td>\n",
       "      <td>1.065284</td>\n",
       "      <td>1.028132</td>\n",
       "      <td>1.079040</td>\n",
       "      <td>1.045403</td>\n",
       "      <td>1.021658</td>\n",
       "      <td>1.028547</td>\n",
       "      <td>0.969059</td>\n",
       "    </tr>\n",
       "    <tr>\n",
       "      <th>Murrow</th>\n",
       "      <td>0.998684</td>\n",
       "      <td>0.995964</td>\n",
       "      <td>0.991547</td>\n",
       "      <td>1.069339</td>\n",
       "      <td>1.022601</td>\n",
       "      <td>1.078651</td>\n",
       "      <td>1.041852</td>\n",
       "      <td>1.019353</td>\n",
       "      <td>1.029080</td>\n",
       "      <td>0.973068</td>\n",
       "    </tr>\n",
       "    <tr>\n",
       "      <th>Khrushchev</th>\n",
       "      <td>1.011766</td>\n",
       "      <td>0.963498</td>\n",
       "      <td>0.985546</td>\n",
       "      <td>1.070168</td>\n",
       "      <td>1.019560</td>\n",
       "      <td>1.077567</td>\n",
       "      <td>1.040459</td>\n",
       "      <td>1.016896</td>\n",
       "      <td>1.024749</td>\n",
       "      <td>0.939315</td>\n",
       "    </tr>\n",
       "  </tbody>\n",
       "</table>\n",
       "</div>"
      ],
      "text/plain": [
       "                     0         1         2         3         4         5  \\\n",
       "subject                                                                    \n",
       "Smith         1.009219  0.963055  0.988701  1.063514  1.003986  1.068457   \n",
       "Nixon         0.994998  0.954814  0.977727  1.051279  1.008888  1.069255   \n",
       "Woolf         1.022845  1.016385  1.001092  1.079640  1.033227  1.088379   \n",
       "Cleveland     1.005757  0.970239  0.979300  1.035559  1.013347  1.072457   \n",
       "Landon        1.017640  0.989580  0.999656  1.069814  1.029375  1.082712   \n",
       "Dulles        1.014629  0.973348  0.991451  1.070367  1.022485  1.080489   \n",
       "Luce          1.000619  0.988616  0.984775  1.065702  1.012757  1.075659   \n",
       "Stevenson     1.006485  0.997860  0.977892  1.067421  1.016133  1.072652   \n",
       "Abzug         1.015207  0.994696  0.997320  1.072530  1.023554  1.080453   \n",
       "Harding       1.010777  0.968729  0.988865  1.059173  1.018356  1.076933   \n",
       "Eisenhower    1.003403  0.937358  0.978637  1.056060  1.010164  1.071569   \n",
       "Dirksen       1.011379  0.980115  0.992115  1.063703  1.020343  1.078090   \n",
       "McKinley      1.007799  0.971613  0.986464  1.061201  1.011275  1.074259   \n",
       "Kennedy_1_2   0.998504  0.959098  0.978913  1.052503  1.010721  1.069266   \n",
       "Hammarskjold  1.014971  0.977051  0.991395  1.070441  1.023340  1.080351   \n",
       "Luce_1        1.011131  1.001138  0.988719  1.066854  1.023052  1.080260   \n",
       "Tinbergen     1.021190  1.000904  0.998958  1.074167  1.030352  1.086171   \n",
       "O'Neill_1     0.998019  0.953227  0.976662  1.049696  1.005341  1.067904   \n",
       "Stevenson_1   1.008978  0.968454  0.987584  1.064105  1.018899  1.076244   \n",
       "Dewey         1.006511  0.976902  0.976363  1.063121  1.009748  1.072824   \n",
       "Gromyko       1.018806  0.979798  0.994993  1.074109  1.028071  1.082705   \n",
       "Daley         1.015086  0.991188  0.997211  1.067176  1.028631  1.078758   \n",
       "Dewey_1       1.019558  1.006885  0.997097  1.065284  1.028132  1.079040   \n",
       "Murrow        0.998684  0.995964  0.991547  1.069339  1.022601  1.078651   \n",
       "Khrushchev    1.011766  0.963498  0.985546  1.070168  1.019560  1.077567   \n",
       "\n",
       "                     6         7         8         9  \n",
       "subject                                               \n",
       "Smith         1.041842  1.009109  1.022630  0.925062  \n",
       "Nixon         1.031609  1.005071  1.019440  0.911635  \n",
       "Woolf         1.052241  1.035068  1.038992  0.995939  \n",
       "Cleveland     1.036547  1.000285  1.022154  0.940417  \n",
       "Landon        1.049168  1.022606  1.031637  0.954601  \n",
       "Dulles        1.042957  1.016207  1.027031  0.945722  \n",
       "Luce          1.039224  1.021201  1.028792  0.935030  \n",
       "Stevenson     1.035092  1.021045  1.027302  0.959201  \n",
       "Abzug         1.046063  1.027098  1.033965  0.965336  \n",
       "Harding       1.043025  1.012750  1.026690  0.932964  \n",
       "Eisenhower    1.035080  1.002095  1.016443  0.892555  \n",
       "Dirksen       1.043764  1.019518  1.028181  0.947491  \n",
       "McKinley      1.039398  1.010909  1.023227  0.951368  \n",
       "Kennedy_1_2   1.037965  1.009631  1.021202  0.926736  \n",
       "Hammarskjold  1.042075  1.017764  1.026544  0.957458  \n",
       "Luce_1        1.043614  1.019885  1.030823  0.950416  \n",
       "Tinbergen     1.048747  1.022684  1.020452  0.979912  \n",
       "O'Neill_1     1.034595  1.004557  1.017619  0.921700  \n",
       "Stevenson_1   1.041585  1.014176  1.023549  0.896690  \n",
       "Dewey         1.033005  1.010072  1.003782  0.937513  \n",
       "Gromyko       1.045773  1.025397  1.031741  0.956800  \n",
       "Daley         1.044628  1.023725  1.031540  0.956765  \n",
       "Dewey_1       1.045403  1.021658  1.028547  0.969059  \n",
       "Murrow        1.041852  1.019353  1.029080  0.973068  \n",
       "Khrushchev    1.040459  1.016896  1.024749  0.939315  "
      ]
     },
     "execution_count": 115,
     "metadata": {},
     "output_type": "execute_result"
    }
   ],
   "source": [
    "distances_df[distances_df.index.isin(names)]"
   ]
  },
  {
   "cell_type": "code",
   "execution_count": 116,
   "id": "6b24a4ff",
   "metadata": {},
   "outputs": [
    {
     "data": {
      "text/html": [
       "<div>\n",
       "<style scoped>\n",
       "    .dataframe tbody tr th:only-of-type {\n",
       "        vertical-align: middle;\n",
       "    }\n",
       "\n",
       "    .dataframe tbody tr th {\n",
       "        vertical-align: top;\n",
       "    }\n",
       "\n",
       "    .dataframe thead th {\n",
       "        text-align: right;\n",
       "    }\n",
       "</style>\n",
       "<table border=\"1\" class=\"dataframe\">\n",
       "  <thead>\n",
       "    <tr style=\"text-align: right;\">\n",
       "      <th></th>\n",
       "      <th>0</th>\n",
       "      <th>1</th>\n",
       "      <th>2</th>\n",
       "      <th>3</th>\n",
       "      <th>4</th>\n",
       "      <th>5</th>\n",
       "      <th>6</th>\n",
       "      <th>7</th>\n",
       "      <th>8</th>\n",
       "      <th>9</th>\n",
       "    </tr>\n",
       "    <tr>\n",
       "      <th>subject</th>\n",
       "      <th></th>\n",
       "      <th></th>\n",
       "      <th></th>\n",
       "      <th></th>\n",
       "      <th></th>\n",
       "      <th></th>\n",
       "      <th></th>\n",
       "      <th></th>\n",
       "      <th></th>\n",
       "      <th></th>\n",
       "    </tr>\n",
       "  </thead>\n",
       "  <tbody>\n",
       "    <tr>\n",
       "      <th>Eisenhower</th>\n",
       "      <td>1.003403</td>\n",
       "      <td>0.937358</td>\n",
       "      <td>0.978637</td>\n",
       "      <td>1.056060</td>\n",
       "      <td>1.010164</td>\n",
       "      <td>1.071569</td>\n",
       "      <td>1.035080</td>\n",
       "      <td>1.002095</td>\n",
       "      <td>1.016443</td>\n",
       "      <td>0.892555</td>\n",
       "    </tr>\n",
       "    <tr>\n",
       "      <th>Stevenson_1</th>\n",
       "      <td>1.008978</td>\n",
       "      <td>0.968454</td>\n",
       "      <td>0.987584</td>\n",
       "      <td>1.064105</td>\n",
       "      <td>1.018899</td>\n",
       "      <td>1.076244</td>\n",
       "      <td>1.041585</td>\n",
       "      <td>1.014176</td>\n",
       "      <td>1.023549</td>\n",
       "      <td>0.896690</td>\n",
       "    </tr>\n",
       "    <tr>\n",
       "      <th>Nixon</th>\n",
       "      <td>0.994998</td>\n",
       "      <td>0.954814</td>\n",
       "      <td>0.977727</td>\n",
       "      <td>1.051279</td>\n",
       "      <td>1.008888</td>\n",
       "      <td>1.069255</td>\n",
       "      <td>1.031609</td>\n",
       "      <td>1.005071</td>\n",
       "      <td>1.019440</td>\n",
       "      <td>0.911635</td>\n",
       "    </tr>\n",
       "    <tr>\n",
       "      <th>O'Neill_1</th>\n",
       "      <td>0.998019</td>\n",
       "      <td>0.953227</td>\n",
       "      <td>0.976662</td>\n",
       "      <td>1.049696</td>\n",
       "      <td>1.005341</td>\n",
       "      <td>1.067904</td>\n",
       "      <td>1.034595</td>\n",
       "      <td>1.004557</td>\n",
       "      <td>1.017619</td>\n",
       "      <td>0.921700</td>\n",
       "    </tr>\n",
       "    <tr>\n",
       "      <th>Smith</th>\n",
       "      <td>1.009219</td>\n",
       "      <td>0.963055</td>\n",
       "      <td>0.988701</td>\n",
       "      <td>1.063514</td>\n",
       "      <td>1.003986</td>\n",
       "      <td>1.068457</td>\n",
       "      <td>1.041842</td>\n",
       "      <td>1.009109</td>\n",
       "      <td>1.022630</td>\n",
       "      <td>0.925062</td>\n",
       "    </tr>\n",
       "    <tr>\n",
       "      <th>Kennedy_1_2</th>\n",
       "      <td>0.998504</td>\n",
       "      <td>0.959098</td>\n",
       "      <td>0.978913</td>\n",
       "      <td>1.052503</td>\n",
       "      <td>1.010721</td>\n",
       "      <td>1.069266</td>\n",
       "      <td>1.037965</td>\n",
       "      <td>1.009631</td>\n",
       "      <td>1.021202</td>\n",
       "      <td>0.926736</td>\n",
       "    </tr>\n",
       "    <tr>\n",
       "      <th>Harding</th>\n",
       "      <td>1.010777</td>\n",
       "      <td>0.968729</td>\n",
       "      <td>0.988865</td>\n",
       "      <td>1.059173</td>\n",
       "      <td>1.018356</td>\n",
       "      <td>1.076933</td>\n",
       "      <td>1.043025</td>\n",
       "      <td>1.012750</td>\n",
       "      <td>1.026690</td>\n",
       "      <td>0.932964</td>\n",
       "    </tr>\n",
       "    <tr>\n",
       "      <th>Luce</th>\n",
       "      <td>1.000619</td>\n",
       "      <td>0.988616</td>\n",
       "      <td>0.984775</td>\n",
       "      <td>1.065702</td>\n",
       "      <td>1.012757</td>\n",
       "      <td>1.075659</td>\n",
       "      <td>1.039224</td>\n",
       "      <td>1.021201</td>\n",
       "      <td>1.028792</td>\n",
       "      <td>0.935030</td>\n",
       "    </tr>\n",
       "    <tr>\n",
       "      <th>Dewey</th>\n",
       "      <td>1.006511</td>\n",
       "      <td>0.976902</td>\n",
       "      <td>0.976363</td>\n",
       "      <td>1.063121</td>\n",
       "      <td>1.009748</td>\n",
       "      <td>1.072824</td>\n",
       "      <td>1.033005</td>\n",
       "      <td>1.010072</td>\n",
       "      <td>1.003782</td>\n",
       "      <td>0.937513</td>\n",
       "    </tr>\n",
       "    <tr>\n",
       "      <th>Khrushchev</th>\n",
       "      <td>1.011766</td>\n",
       "      <td>0.963498</td>\n",
       "      <td>0.985546</td>\n",
       "      <td>1.070168</td>\n",
       "      <td>1.019560</td>\n",
       "      <td>1.077567</td>\n",
       "      <td>1.040459</td>\n",
       "      <td>1.016896</td>\n",
       "      <td>1.024749</td>\n",
       "      <td>0.939315</td>\n",
       "    </tr>\n",
       "    <tr>\n",
       "      <th>Cleveland</th>\n",
       "      <td>1.005757</td>\n",
       "      <td>0.970239</td>\n",
       "      <td>0.979300</td>\n",
       "      <td>1.035559</td>\n",
       "      <td>1.013347</td>\n",
       "      <td>1.072457</td>\n",
       "      <td>1.036547</td>\n",
       "      <td>1.000285</td>\n",
       "      <td>1.022154</td>\n",
       "      <td>0.940417</td>\n",
       "    </tr>\n",
       "    <tr>\n",
       "      <th>Dulles</th>\n",
       "      <td>1.014629</td>\n",
       "      <td>0.973348</td>\n",
       "      <td>0.991451</td>\n",
       "      <td>1.070367</td>\n",
       "      <td>1.022485</td>\n",
       "      <td>1.080489</td>\n",
       "      <td>1.042957</td>\n",
       "      <td>1.016207</td>\n",
       "      <td>1.027031</td>\n",
       "      <td>0.945722</td>\n",
       "    </tr>\n",
       "    <tr>\n",
       "      <th>Dirksen</th>\n",
       "      <td>1.011379</td>\n",
       "      <td>0.980115</td>\n",
       "      <td>0.992115</td>\n",
       "      <td>1.063703</td>\n",
       "      <td>1.020343</td>\n",
       "      <td>1.078090</td>\n",
       "      <td>1.043764</td>\n",
       "      <td>1.019518</td>\n",
       "      <td>1.028181</td>\n",
       "      <td>0.947491</td>\n",
       "    </tr>\n",
       "    <tr>\n",
       "      <th>Luce_1</th>\n",
       "      <td>1.011131</td>\n",
       "      <td>1.001138</td>\n",
       "      <td>0.988719</td>\n",
       "      <td>1.066854</td>\n",
       "      <td>1.023052</td>\n",
       "      <td>1.080260</td>\n",
       "      <td>1.043614</td>\n",
       "      <td>1.019885</td>\n",
       "      <td>1.030823</td>\n",
       "      <td>0.950416</td>\n",
       "    </tr>\n",
       "    <tr>\n",
       "      <th>McKinley</th>\n",
       "      <td>1.007799</td>\n",
       "      <td>0.971613</td>\n",
       "      <td>0.986464</td>\n",
       "      <td>1.061201</td>\n",
       "      <td>1.011275</td>\n",
       "      <td>1.074259</td>\n",
       "      <td>1.039398</td>\n",
       "      <td>1.010909</td>\n",
       "      <td>1.023227</td>\n",
       "      <td>0.951368</td>\n",
       "    </tr>\n",
       "    <tr>\n",
       "      <th>Landon</th>\n",
       "      <td>1.017640</td>\n",
       "      <td>0.989580</td>\n",
       "      <td>0.999656</td>\n",
       "      <td>1.069814</td>\n",
       "      <td>1.029375</td>\n",
       "      <td>1.082712</td>\n",
       "      <td>1.049168</td>\n",
       "      <td>1.022606</td>\n",
       "      <td>1.031637</td>\n",
       "      <td>0.954601</td>\n",
       "    </tr>\n",
       "    <tr>\n",
       "      <th>Daley</th>\n",
       "      <td>1.015086</td>\n",
       "      <td>0.991188</td>\n",
       "      <td>0.997211</td>\n",
       "      <td>1.067176</td>\n",
       "      <td>1.028631</td>\n",
       "      <td>1.078758</td>\n",
       "      <td>1.044628</td>\n",
       "      <td>1.023725</td>\n",
       "      <td>1.031540</td>\n",
       "      <td>0.956765</td>\n",
       "    </tr>\n",
       "    <tr>\n",
       "      <th>Gromyko</th>\n",
       "      <td>1.018806</td>\n",
       "      <td>0.979798</td>\n",
       "      <td>0.994993</td>\n",
       "      <td>1.074109</td>\n",
       "      <td>1.028071</td>\n",
       "      <td>1.082705</td>\n",
       "      <td>1.045773</td>\n",
       "      <td>1.025397</td>\n",
       "      <td>1.031741</td>\n",
       "      <td>0.956800</td>\n",
       "    </tr>\n",
       "    <tr>\n",
       "      <th>Hammarskjold</th>\n",
       "      <td>1.014971</td>\n",
       "      <td>0.977051</td>\n",
       "      <td>0.991395</td>\n",
       "      <td>1.070441</td>\n",
       "      <td>1.023340</td>\n",
       "      <td>1.080351</td>\n",
       "      <td>1.042075</td>\n",
       "      <td>1.017764</td>\n",
       "      <td>1.026544</td>\n",
       "      <td>0.957458</td>\n",
       "    </tr>\n",
       "    <tr>\n",
       "      <th>Stevenson</th>\n",
       "      <td>1.006485</td>\n",
       "      <td>0.997860</td>\n",
       "      <td>0.977892</td>\n",
       "      <td>1.067421</td>\n",
       "      <td>1.016133</td>\n",
       "      <td>1.072652</td>\n",
       "      <td>1.035092</td>\n",
       "      <td>1.021045</td>\n",
       "      <td>1.027302</td>\n",
       "      <td>0.959201</td>\n",
       "    </tr>\n",
       "    <tr>\n",
       "      <th>Abzug</th>\n",
       "      <td>1.015207</td>\n",
       "      <td>0.994696</td>\n",
       "      <td>0.997320</td>\n",
       "      <td>1.072530</td>\n",
       "      <td>1.023554</td>\n",
       "      <td>1.080453</td>\n",
       "      <td>1.046063</td>\n",
       "      <td>1.027098</td>\n",
       "      <td>1.033965</td>\n",
       "      <td>0.965336</td>\n",
       "    </tr>\n",
       "    <tr>\n",
       "      <th>Dewey_1</th>\n",
       "      <td>1.019558</td>\n",
       "      <td>1.006885</td>\n",
       "      <td>0.997097</td>\n",
       "      <td>1.065284</td>\n",
       "      <td>1.028132</td>\n",
       "      <td>1.079040</td>\n",
       "      <td>1.045403</td>\n",
       "      <td>1.021658</td>\n",
       "      <td>1.028547</td>\n",
       "      <td>0.969059</td>\n",
       "    </tr>\n",
       "    <tr>\n",
       "      <th>Murrow</th>\n",
       "      <td>0.998684</td>\n",
       "      <td>0.995964</td>\n",
       "      <td>0.991547</td>\n",
       "      <td>1.069339</td>\n",
       "      <td>1.022601</td>\n",
       "      <td>1.078651</td>\n",
       "      <td>1.041852</td>\n",
       "      <td>1.019353</td>\n",
       "      <td>1.029080</td>\n",
       "      <td>0.973068</td>\n",
       "    </tr>\n",
       "    <tr>\n",
       "      <th>Tinbergen</th>\n",
       "      <td>1.021190</td>\n",
       "      <td>1.000904</td>\n",
       "      <td>0.998958</td>\n",
       "      <td>1.074167</td>\n",
       "      <td>1.030352</td>\n",
       "      <td>1.086171</td>\n",
       "      <td>1.048747</td>\n",
       "      <td>1.022684</td>\n",
       "      <td>1.020452</td>\n",
       "      <td>0.979912</td>\n",
       "    </tr>\n",
       "    <tr>\n",
       "      <th>Woolf</th>\n",
       "      <td>1.022845</td>\n",
       "      <td>1.016385</td>\n",
       "      <td>1.001092</td>\n",
       "      <td>1.079640</td>\n",
       "      <td>1.033227</td>\n",
       "      <td>1.088379</td>\n",
       "      <td>1.052241</td>\n",
       "      <td>1.035068</td>\n",
       "      <td>1.038992</td>\n",
       "      <td>0.995939</td>\n",
       "    </tr>\n",
       "  </tbody>\n",
       "</table>\n",
       "</div>"
      ],
      "text/plain": [
       "                     0         1         2         3         4         5  \\\n",
       "subject                                                                    \n",
       "Eisenhower    1.003403  0.937358  0.978637  1.056060  1.010164  1.071569   \n",
       "Stevenson_1   1.008978  0.968454  0.987584  1.064105  1.018899  1.076244   \n",
       "Nixon         0.994998  0.954814  0.977727  1.051279  1.008888  1.069255   \n",
       "O'Neill_1     0.998019  0.953227  0.976662  1.049696  1.005341  1.067904   \n",
       "Smith         1.009219  0.963055  0.988701  1.063514  1.003986  1.068457   \n",
       "Kennedy_1_2   0.998504  0.959098  0.978913  1.052503  1.010721  1.069266   \n",
       "Harding       1.010777  0.968729  0.988865  1.059173  1.018356  1.076933   \n",
       "Luce          1.000619  0.988616  0.984775  1.065702  1.012757  1.075659   \n",
       "Dewey         1.006511  0.976902  0.976363  1.063121  1.009748  1.072824   \n",
       "Khrushchev    1.011766  0.963498  0.985546  1.070168  1.019560  1.077567   \n",
       "Cleveland     1.005757  0.970239  0.979300  1.035559  1.013347  1.072457   \n",
       "Dulles        1.014629  0.973348  0.991451  1.070367  1.022485  1.080489   \n",
       "Dirksen       1.011379  0.980115  0.992115  1.063703  1.020343  1.078090   \n",
       "Luce_1        1.011131  1.001138  0.988719  1.066854  1.023052  1.080260   \n",
       "McKinley      1.007799  0.971613  0.986464  1.061201  1.011275  1.074259   \n",
       "Landon        1.017640  0.989580  0.999656  1.069814  1.029375  1.082712   \n",
       "Daley         1.015086  0.991188  0.997211  1.067176  1.028631  1.078758   \n",
       "Gromyko       1.018806  0.979798  0.994993  1.074109  1.028071  1.082705   \n",
       "Hammarskjold  1.014971  0.977051  0.991395  1.070441  1.023340  1.080351   \n",
       "Stevenson     1.006485  0.997860  0.977892  1.067421  1.016133  1.072652   \n",
       "Abzug         1.015207  0.994696  0.997320  1.072530  1.023554  1.080453   \n",
       "Dewey_1       1.019558  1.006885  0.997097  1.065284  1.028132  1.079040   \n",
       "Murrow        0.998684  0.995964  0.991547  1.069339  1.022601  1.078651   \n",
       "Tinbergen     1.021190  1.000904  0.998958  1.074167  1.030352  1.086171   \n",
       "Woolf         1.022845  1.016385  1.001092  1.079640  1.033227  1.088379   \n",
       "\n",
       "                     6         7         8         9  \n",
       "subject                                               \n",
       "Eisenhower    1.035080  1.002095  1.016443  0.892555  \n",
       "Stevenson_1   1.041585  1.014176  1.023549  0.896690  \n",
       "Nixon         1.031609  1.005071  1.019440  0.911635  \n",
       "O'Neill_1     1.034595  1.004557  1.017619  0.921700  \n",
       "Smith         1.041842  1.009109  1.022630  0.925062  \n",
       "Kennedy_1_2   1.037965  1.009631  1.021202  0.926736  \n",
       "Harding       1.043025  1.012750  1.026690  0.932964  \n",
       "Luce          1.039224  1.021201  1.028792  0.935030  \n",
       "Dewey         1.033005  1.010072  1.003782  0.937513  \n",
       "Khrushchev    1.040459  1.016896  1.024749  0.939315  \n",
       "Cleveland     1.036547  1.000285  1.022154  0.940417  \n",
       "Dulles        1.042957  1.016207  1.027031  0.945722  \n",
       "Dirksen       1.043764  1.019518  1.028181  0.947491  \n",
       "Luce_1        1.043614  1.019885  1.030823  0.950416  \n",
       "McKinley      1.039398  1.010909  1.023227  0.951368  \n",
       "Landon        1.049168  1.022606  1.031637  0.954601  \n",
       "Daley         1.044628  1.023725  1.031540  0.956765  \n",
       "Gromyko       1.045773  1.025397  1.031741  0.956800  \n",
       "Hammarskjold  1.042075  1.017764  1.026544  0.957458  \n",
       "Stevenson     1.035092  1.021045  1.027302  0.959201  \n",
       "Abzug         1.046063  1.027098  1.033965  0.965336  \n",
       "Dewey_1       1.045403  1.021658  1.028547  0.969059  \n",
       "Murrow        1.041852  1.019353  1.029080  0.973068  \n",
       "Tinbergen     1.048747  1.022684  1.020452  0.979912  \n",
       "Woolf         1.052241  1.035068  1.038992  0.995939  "
      ]
     },
     "execution_count": 116,
     "metadata": {},
     "output_type": "execute_result"
    }
   ],
   "source": [
    "distances_df[distances_df.index.isin(names)].sort_values(by=cluster_id)"
   ]
  },
  {
   "cell_type": "markdown",
   "id": "c5b8660e",
   "metadata": {},
   "source": [
    "Let's put it together"
   ]
  },
  {
   "cell_type": "code",
   "execution_count": 125,
   "id": "a1d138df",
   "metadata": {
    "tags": []
   },
   "outputs": [
    {
     "name": "stdout",
     "output_type": "stream",
     "text": [
      "0 Index(['Hines', 'Goodman', 'Davis_1', 'Gillespie', 'Armstrong', 'Basie',\n",
      "       'Kenton', 'Hawkins', 'Monk', 'Sousa'],\n",
      "      dtype='object', name='subject')\n",
      "\n",
      "1 Index(['Grant', 'Pulitzer', 'O'Neill', 'Holmes', 'Cleveland', 'Einstein',\n",
      "       'Hill', 'Rockefeller', 'Carnegie', 'Ochs'],\n",
      "      dtype='object', name='subject')\n",
      "\n",
      "2 Index(['Meir', 'Begin', 'Gandhi_1', 'Rabin', 'Sadat', 'Weizmann', 'Hassan',\n",
      "       'Churchill', 'Hussein', 'Hitler'],\n",
      "      dtype='object', name='subject')\n",
      "\n",
      "3 Index(['Tandy', 'Stewart', 'Astaire', 'Huston', 'Bergman', 'Welles',\n",
      "       'Peggy Ashcroft', 'Harrison_1_2', 'Cagney', 'Ball'],\n",
      "      dtype='object', name='subject')\n",
      "\n",
      "4 Index(['O'Keeffe', 'Keller', 'Anthony', 'Jackson_1', 'Miss Holiday', 'Jackson',\n",
      "       'Miss Smith', 'Addams', 'Callas', 'Garland'],\n",
      "      dtype='object', name='subject')\n",
      "\n",
      "5 Index(['Truman', 'Eisenhower', 'Roosevelt_1', 'Acheson', 'Vinson', 'Nixon',\n",
      "       'Khrushchev', 'Stevenson_1', 'Johnson', 'Dulles'],\n",
      "      dtype='object', name='subject')\n",
      "\n",
      "6 Index(['Ruth_1', 'Robinson', 'Young', 'Rickey', 'Maris', 'Paige', 'Durocher',\n",
      "       'Jones', 'Louis', 'Zaharias'],\n",
      "      dtype='object', name='subject')\n",
      "\n",
      "7 Index(['White', 'Wharton', 'Wright_1', 'Kennedy_1', 'Washington', 'O'Casey',\n",
      "       'Beckett', 'James', 'Stowe', 'Capote'],\n",
      "      dtype='object', name='subject')\n",
      "\n",
      "8 Index(['O'Neill_1', 'Coolidge', 'Black', 'Roosevelt_1_2', 'Hoover', 'Smith',\n",
      "       'Hoover_1', 'Kennedy', 'Kennedy_1_2', 'Taft'],\n",
      "      dtype='object', name='subject')\n",
      "\n",
      "9 Index(['Elizabeth', 'Edward', 'King', 'Abernathy', 'Hirohito',\n",
      "       'Haile Selassie', 'Nightingale', 'Carter', 'Spaulding'],\n",
      "      dtype='object', name='subject')\n",
      "\n"
     ]
    }
   ],
   "source": [
    "for cluster_id in range(kmeans_model.n_clusters):\n",
    "    names = df[df['cluster_id'] == cluster_id].index\n",
    "    print(cluster_id, distances_df[distances_df.index.isin(names)].sort_values(by=cluster_id).index[:10])\n",
    "    print()"
   ]
  },
  {
   "cell_type": "markdown",
   "id": "32053198",
   "metadata": {},
   "source": [
    "Let's look at the lists above and let's see what we find"
   ]
  },
  {
   "cell_type": "markdown",
   "id": "4b67a556",
   "metadata": {},
   "source": [
    "(stop here)\n",
    "\n",
    "### AgglomerativeClustering"
   ]
  },
  {
   "cell_type": "code",
   "execution_count": 126,
   "id": "40976695",
   "metadata": {},
   "outputs": [
    {
     "data": {
      "text/plain": [
       "AgglomerativeClustering(compute_distances=True, n_clusters=5)"
      ]
     },
     "execution_count": 126,
     "metadata": {},
     "output_type": "execute_result"
    }
   ],
   "source": [
    "from sklearn.cluster import AgglomerativeClustering\n",
    "\n",
    "agg_model = AgglomerativeClustering(n_clusters=5, compute_distances=True)\n",
    "agg_model"
   ]
  },
  {
   "cell_type": "code",
   "execution_count": 127,
   "id": "b63499af",
   "metadata": {},
   "outputs": [
    {
     "name": "stdout",
     "output_type": "stream",
     "text": [
      "CPU times: user 2.35 s, sys: 29.4 ms, total: 2.38 s\n",
      "Wall time: 2.38 s\n"
     ]
    },
    {
     "data": {
      "text/plain": [
       "AgglomerativeClustering(compute_distances=True, n_clusters=5)"
      ]
     },
     "execution_count": 127,
     "metadata": {},
     "output_type": "execute_result"
    }
   ],
   "source": [
    "%%time \n",
    "\n",
    "agg_model.fit(X)"
   ]
  },
  {
   "cell_type": "code",
   "execution_count": null,
   "id": "fc34f5f9",
   "metadata": {},
   "outputs": [],
   "source": [
    "agg_model.labels_"
   ]
  },
  {
   "cell_type": "code",
   "execution_count": null,
   "id": "e8689f33",
   "metadata": {},
   "outputs": [],
   "source": [
    "agg_model.fit_predict(X)"
   ]
  },
  {
   "cell_type": "code",
   "execution_count": null,
   "id": "f3c91169",
   "metadata": {},
   "outputs": [],
   "source": [
    "pd.Series(agg_model.labels_).value_counts()"
   ]
  },
  {
   "cell_type": "code",
   "execution_count": null,
   "id": "8b22f9bc",
   "metadata": {},
   "outputs": [],
   "source": [
    "agg_model.children_.shape"
   ]
  },
  {
   "cell_type": "markdown",
   "id": "b5af8e65",
   "metadata": {},
   "source": [
    "#### Plotting"
   ]
  },
  {
   "cell_type": "code",
   "execution_count": 128,
   "id": "7ab9e7d4",
   "metadata": {},
   "outputs": [],
   "source": [
    "from matplotlib import pyplot as plt\n",
    "from scipy.cluster.hierarchy import dendrogram\n",
    "\n",
    "def plot_dendrogram(model, **kwargs):\n",
    "    # Create linkage matrix and then plot the dendrogram\n",
    "\n",
    "    # create the counts of samples under each node\n",
    "    counts = np.zeros(model.children_.shape[0])\n",
    "    n_samples = len(model.labels_)\n",
    "    for i, merge in enumerate(model.children_):\n",
    "        current_count = 0\n",
    "        for child_idx in merge:\n",
    "            if child_idx < n_samples:\n",
    "                current_count += 1  # leaf node\n",
    "            else:\n",
    "                current_count += counts[child_idx - n_samples]\n",
    "        counts[i] = current_count\n",
    "\n",
    "    linkage_matrix = np.column_stack([model.children_, model.distances_,\n",
    "                                      counts]).astype(float)\n",
    "\n",
    "    # Plot the corresponding dendrogram\n",
    "    dendrogram(linkage_matrix, **kwargs)"
   ]
  },
  {
   "cell_type": "code",
   "execution_count": 129,
   "id": "6978b522",
   "metadata": {},
   "outputs": [
    {
     "data": {
      "image/png": "[encoded data removed]",
      "text/plain": [
       "<Figure size 432x288 with 1 Axes>"
      ]
     },
     "metadata": {
      "needs_background": "light"
     },
     "output_type": "display_data"
    }
   ],
   "source": [
    "plt.title('Hierarchical Clustering Dendrogram')\n",
    "# plot the top three levels of the dendrogram\n",
    "plot_dendrogram(agg_model, truncate_mode='level', p=3)\n",
    "plt.xlabel(\"Number of points in node (or index of point if no parenthesis).\")\n",
    "plt.show()"
   ]
  },
  {
   "cell_type": "code",
   "execution_count": null,
   "id": "11f57992",
   "metadata": {},
   "outputs": [],
   "source": [
    "plt.title('Hierarchical Clustering Dendrogram')\n",
    "# plot the top three levels of the dendrogram\n",
    "plot_dendrogram(agg_model, truncate_mode='level', p=5)\n",
    "plt.xlabel(\"Number of points in node (or index of point if no parenthesis).\")\n",
    "plt.show()"
   ]
  },
  {
   "cell_type": "markdown",
   "id": "0ef0364c",
   "metadata": {},
   "source": [
    "(next week)\n",
    "\n",
    "\n",
    "## Matrix Factorization / Dimensionality Reduction"
   ]
  },
  {
   "cell_type": "markdown",
   "id": "11a2b748",
   "metadata": {},
   "source": [
    "### SVD"
   ]
  },
  {
   "cell_type": "code",
   "execution_count": null,
   "id": "94a851bd",
   "metadata": {},
   "outputs": [],
   "source": [
    "%%time \n",
    "\n",
    "from sklearn.decomposition import TruncatedSVD \n",
    "\n",
    "k = 10\n",
    "svd = TruncatedSVD(n_components=k) \n",
    "U = svd.fit_transform(df)\n",
    "S = svd.singular_values_\n",
    "V = svd.components_"
   ]
  },
  {
   "cell_type": "code",
   "execution_count": null,
   "id": "2d255a7f",
   "metadata": {},
   "outputs": [],
   "source": [
    "U"
   ]
  },
  {
   "cell_type": "code",
   "execution_count": null,
   "id": "12de1571",
   "metadata": {},
   "outputs": [],
   "source": [
    "U.shape"
   ]
  },
  {
   "cell_type": "code",
   "execution_count": null,
   "id": "7ae8a158",
   "metadata": {},
   "outputs": [],
   "source": [
    "S"
   ]
  },
  {
   "cell_type": "code",
   "execution_count": null,
   "id": "f62a26ef",
   "metadata": {},
   "outputs": [],
   "source": [
    "S.shape"
   ]
  },
  {
   "cell_type": "code",
   "execution_count": null,
   "id": "c514599b",
   "metadata": {},
   "outputs": [],
   "source": [
    "V"
   ]
  },
  {
   "cell_type": "code",
   "execution_count": null,
   "id": "b86ca0e1",
   "metadata": {},
   "outputs": [],
   "source": [
    "V.shape"
   ]
  },
  {
   "cell_type": "markdown",
   "id": "c46737dc",
   "metadata": {},
   "source": [
    "### NMF"
   ]
  },
  {
   "cell_type": "code",
   "execution_count": null,
   "id": "0aac865e",
   "metadata": {},
   "outputs": [],
   "source": [
    "%%time \n",
    "\n",
    "from sklearn.decomposition import NMF\n",
    "nmf = NMF(n_components=k, init='nndsvd', random_state=0) \n",
    "W = nmf.fit_transform(df)\n",
    "H = nmf.components_"
   ]
  },
  {
   "cell_type": "code",
   "execution_count": null,
   "id": "b66d9af5",
   "metadata": {},
   "outputs": [],
   "source": [
    "W"
   ]
  },
  {
   "cell_type": "code",
   "execution_count": null,
   "id": "066b644f",
   "metadata": {},
   "outputs": [],
   "source": [
    "W.shape"
   ]
  },
  {
   "cell_type": "code",
   "execution_count": null,
   "id": "7a72a77d",
   "metadata": {},
   "outputs": [],
   "source": [
    "H"
   ]
  },
  {
   "cell_type": "code",
   "execution_count": null,
   "id": "e63ecbdb",
   "metadata": {},
   "outputs": [],
   "source": [
    "H.shape"
   ]
  },
  {
   "cell_type": "code",
   "execution_count": null,
   "id": "e8d05ddb",
   "metadata": {},
   "outputs": [],
   "source": []
  }
 ],
 "metadata": {
  "kernelspec": {
   "display_name": "Python 3",
   "language": "python",
   "name": "python3"
  },
  "language_info": {
   "codemirror_mode": {
    "name": "ipython",
    "version": 3
   },
   "file_extension": ".py",
   "mimetype": "text/x-python",
   "name": "python",
   "nbconvert_exporter": "python",
   "pygments_lexer": "ipython3",
   "version": "3.8.8"
  }
 },
 "nbformat": 4,
 "nbformat_minor": 5
}
