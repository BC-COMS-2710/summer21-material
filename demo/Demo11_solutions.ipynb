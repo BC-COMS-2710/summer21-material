{
 "cells": [
  {
   "cell_type": "markdown",
   "id": "cf7ab9a6",
   "metadata": {},
   "source": [
    "# Demo 11"
   ]
  },
  {
   "cell_type": "code",
   "execution_count": 1,
   "id": "9cb4e117",
   "metadata": {},
   "outputs": [],
   "source": [
    "import pandas as pd\n",
    "import numpy as np\n",
    "import glob\n",
    "from pathlib import Path\n",
    "import pandas as pd\n",
    "import random\n",
    "pd.options.display.max_colwidth = 100"
   ]
  },
  {
   "cell_type": "markdown",
   "id": "16c99243",
   "metadata": {},
   "source": [
    "## Mallet"
   ]
  },
  {
   "cell_type": "code",
   "execution_count": 3,
   "id": "09846bff",
   "metadata": {},
   "outputs": [
    {
     "name": "stdout",
     "output_type": "stream",
     "text": [
      "/opt/conda/bin/mallet\n"
     ]
    }
   ],
   "source": [
    "!which mallet"
   ]
  },
  {
   "cell_type": "markdown",
   "id": "1974b8ad",
   "metadata": {},
   "source": [
    "**Question:** Set the variable `path_to_mallet` to where mallet is stored on your server"
   ]
  },
  {
   "cell_type": "code",
   "execution_count": 4,
   "id": "0d4aa687",
   "metadata": {},
   "outputs": [
    {
     "data": {
      "text/plain": [
       "'/opt/conda/bin/mallet'"
      ]
     },
     "execution_count": 4,
     "metadata": {},
     "output_type": "execute_result"
    }
   ],
   "source": [
    "path_to_mallet = '/opt/conda/bin/mallet'\n",
    "path_to_mallet"
   ]
  },
  {
   "cell_type": "code",
   "execution_count": 6,
   "id": "c48e7f82",
   "metadata": {},
   "outputs": [
    {
     "name": "stdout",
     "output_type": "stream",
     "text": [
      "Unrecognized command: \n",
      "Mallet 2.0 commands: \n",
      "\n",
      "  import-dir         load the contents of a directory into mallet instances (one per file)\n",
      "  import-file        load a single file into mallet instances (one per line)\n",
      "  import-svmlight    load SVMLight format data files into Mallet instances\n",
      "  info               get information about Mallet instances\n",
      "  train-classifier   train a classifier from Mallet data files\n",
      "  classify-dir       classify data from a single file with a saved classifier\n",
      "  classify-file      classify the contents of a directory with a saved classifier\n",
      "  classify-svmlight  classify data from a single file in SVMLight format\n",
      "  train-topics       train a topic model from Mallet data files\n",
      "  infer-topics       use a trained topic model to infer topics for new documents\n",
      "  evaluate-topics    estimate the probability of new documents under a trained model\n",
      "  prune              remove features based on frequency or information gain\n",
      "  split              divide data into testing, training, and validation portions\n",
      "  bulk-load          for big input files, efficiently prune vocabulary and import docs\n",
      "\n",
      "Include --help with any option for more information\n"
     ]
    }
   ],
   "source": [
    "!mallet"
   ]
  },
  {
   "cell_type": "code",
   "execution_count": null,
   "id": "713d8cef",
   "metadata": {},
   "outputs": [],
   "source": []
  },
  {
   "cell_type": "code",
   "execution_count": 7,
   "id": "08bad057",
   "metadata": {},
   "outputs": [
    {
     "name": "stdout",
     "output_type": "stream",
     "text": [
      "A tool for printing information about instance lists of feature vectors.\n",
      "--help TRUE|FALSE\n",
      "  Print this command line option usage information.  Give argument of TRUE for longer documentation\n",
      "  Default is false\n",
      "--prefix-code 'JAVA CODE'\n",
      "  Java code you want run before any other interpreted code.  Note that the text is interpreted without modification, so unlike some other Java code options, you need to include any necessary 'new's when creating objects.\n",
      "  Default is null\n",
      "--config FILE\n",
      "  Read command option values from a file\n",
      "  Default is null\n",
      "--input FILE\n",
      "  Read the instance list from this file; Using - indicates stdin.\n",
      "  Default is -\n",
      "--print-instances N\n",
      "  Print labels and contents for all instances.\n",
      "  Default is false\n",
      "--print-infogain N\n",
      "  Print top N words by information gain, sorted.\n",
      "  Default is 0\n",
      "--print-labels [TRUE|FALSE]\n",
      "  Print class labels known to instance list, one per line.\n",
      "  Default is false\n",
      "--print-features [TRUE|FALSE]\n",
      "  Print the data alphabet, one feature per line.\n",
      "  Default is false\n",
      "--print-feature-counts [TRUE|FALSE]\n",
      "  Print feature names, feature counts (ie term frequency), and feature index counts (ie document frequency).\n",
      "  Default is false\n",
      "--print-matrix STRING\n",
      "  Print word/document matrix in the specified format (a|s)(b|i)(n|w|c|e), for (all vs. sparse), (binary vs. integer), (number vs. word vs. combined vs. empty)\n",
      "  Default is sic\n"
     ]
    }
   ],
   "source": [
    "!mallet info"
   ]
  },
  {
   "cell_type": "code",
   "execution_count": 8,
   "id": "07e33857",
   "metadata": {},
   "outputs": [
    {
     "name": "stdout",
     "output_type": "stream",
     "text": [
      "A tool for estimating, saving and printing diagnostics for topic models, such as LDA.\n",
      "--help TRUE|FALSE\n",
      "  Print this command line option usage information.  Give argument of TRUE for longer documentation\n",
      "  Default is false\n",
      "--prefix-code 'JAVA CODE'\n",
      "  Java code you want run before any other interpreted code.  Note that the text is interpreted without modification, so unlike some other Java code options, you need to include any necessary 'new's when creating objects.\n",
      "  Default is null\n",
      "--config FILE\n",
      "  Read command option values from a file\n",
      "  Default is null\n",
      "--input FILENAME\n",
      "  The filename from which to read the list of training instances.  Use - for stdin.  The instances must be FeatureSequence or FeatureSequenceWithBigrams, not FeatureVector\n",
      "  Default is null\n",
      "--input-model FILENAME\n",
      "  The filename from which to read the binary topic model. The --input option is ignored. By default this is null, indicating that no file will be read.\n",
      "  Default is null\n",
      "--input-state FILENAME\n",
      "  The filename from which to read the gzipped Gibbs sampling state created by --output-state. The original input file must be included, using --input. By default this is null, indicating that no file will be read.\n",
      "  Default is null\n",
      "--output-model FILENAME\n",
      "  The filename in which to write the binary topic model at the end of the iterations.  By default this is null, indicating that no file will be written.\n",
      "  Default is null\n",
      "--output-state FILENAME\n",
      "  The filename in which to write the Gibbs sampling state after at the end of the iterations.  By default this is null, indicating that no file will be written.\n",
      "  Default is null\n",
      "--output-model-interval INTEGER\n",
      "  The number of iterations between writing the model (and its Gibbs sampling state) to a binary file.  You must also set the --output-model to use this option, whose argument will be the prefix of the filenames.\n",
      "  Default is 0\n",
      "--output-state-interval INTEGER\n",
      "  The number of iterations between writing the sampling state to a text file.  You must also set the --output-state to use this option, whose argument will be the prefix of the filenames.\n",
      "  Default is 0\n",
      "--inferencer-filename FILENAME\n",
      "  A topic inferencer applies a previously trained topic model to new documents.  By default this is null, indicating that no file will be written.\n",
      "  Default is null\n",
      "--evaluator-filename FILENAME\n",
      "  A held-out likelihood evaluator for new documents.  By default this is null, indicating that no file will be written.\n",
      "  Default is null\n",
      "--output-topic-keys FILENAME\n",
      "  The filename in which to write the top words for each topic and any Dirichlet parameters.  By default this is null, indicating that no file will be written.\n",
      "  Default is null\n",
      "--num-top-words INTEGER\n",
      "  The number of most probable words to print for each topic after model estimation.\n",
      "  Default is 20\n",
      "--show-topics-interval INTEGER\n",
      "  The number of iterations between printing a brief summary of the topics so far.\n",
      "  Default is 50\n",
      "--topic-word-weights-file FILENAME\n",
      "  The filename in which to write unnormalized weights for every topic and word type.  By default this is null, indicating that no file will be written.\n",
      "  Default is null\n",
      "--word-topic-counts-file FILENAME\n",
      "  The filename in which to write a sparse representation of topic-word assignments.  By default this is null, indicating that no file will be written.\n",
      "  Default is null\n",
      "--diagnostics-file FILENAME\n",
      "  The filename in which to write measures of topic quality, in XML format.  By default this is null, indicating that no file will be written.\n",
      "  Default is null\n",
      "--xml-topic-report FILENAME\n",
      "  The filename in which to write the top words for each topic and any Dirichlet parameters in XML format.  By default this is null, indicating that no file will be written.\n",
      "  Default is null\n",
      "--xml-topic-phrase-report FILENAME\n",
      "  The filename in which to write the top words and phrases for each topic and any Dirichlet parameters in XML format.  By default this is null, indicating that no file will be written.\n",
      "  Default is null\n",
      "--output-topic-docs FILENAME\n",
      "  The filename in which to write the most prominent documents for each topic, at the end of the iterations.  By default this is null, indicating that no file will be written.\n",
      "  Default is null\n",
      "--num-top-docs INTEGER\n",
      "  When writing topic documents with --output-topic-docs, report this number of top documents.\n",
      "  Default is 100\n",
      "--output-doc-topics FILENAME\n",
      "  The filename in which to write the topic proportions per document, at the end of the iterations.  By default this is null, indicating that no file will be written.\n",
      "  Default is null\n",
      "--doc-topics-threshold DECIMAL\n",
      "  When writing topic proportions per document with --output-doc-topics, do not print topics with proportions less than this threshold value.\n",
      "  Default is 0.0\n",
      "--doc-topics-max INTEGER\n",
      "  When writing topic proportions per document with --output-doc-topics, do not print more than INTEGER number of topics.  A negative value indicates that all topics should be printed.\n",
      "  Default is -1\n",
      "--num-topics INTEGER\n",
      "  The number of topics to fit.\n",
      "  Default is 10\n",
      "--num-threads INTEGER\n",
      "  The number of threads for parallel training.\n",
      "  Default is 1\n",
      "--num-iterations INTEGER\n",
      "  The number of iterations of Gibbs sampling.\n",
      "  Default is 1000\n",
      "--num-icm-iterations INTEGER\n",
      "  The number of iterations of iterated conditional modes (topic maximization).\n",
      "  Default is 0\n",
      "--no-inference true|false\n",
      "  Do not perform inference, just load a saved model and create a report. Equivalent to --num-iterations 0.\n",
      "  Default is false\n",
      "--random-seed INTEGER\n",
      "  The random seed for the Gibbs sampler.  Default is 0, which will use the clock.\n",
      "  Default is 0\n",
      "--optimize-interval INTEGER\n",
      "  The number of iterations between reestimating dirichlet hyperparameters.\n",
      "  Default is 0\n",
      "--optimize-burn-in INTEGER\n",
      "  The number of iterations to run before first estimating dirichlet hyperparameters.\n",
      "  Default is 200\n",
      "--use-symmetric-alpha true|false\n",
      "  Only optimize the concentration parameter of the prior over document-topic distributions. This may reduce the number of very small, poorly estimated topics, but may disperse common words over several topics.\n",
      "  Default is false\n",
      "--alpha DECIMAL\n",
      "  SumAlpha parameter: sum over topics of smoothing over doc-topic distributions. alpha_k = [this value] / [num topics]\n",
      "  Default is 5.0\n",
      "--beta DECIMAL\n",
      "  Beta parameter: smoothing parameter for each topic-word. beta_w = [this value]\n",
      "  Default is 0.01\n"
     ]
    }
   ],
   "source": [
    "!mallet train-topics --help"
   ]
  },
  {
   "cell_type": "markdown",
   "id": "6e45e1e4",
   "metadata": {},
   "source": [
    "(back to slides)\n",
    "\n",
    "## Little Mallet Wrapper\n",
    "\n",
    "https://github.com/maria-antoniak/little-mallet-wrapper"
   ]
  },
  {
   "cell_type": "code",
   "execution_count": 9,
   "id": "ce316977",
   "metadata": {},
   "outputs": [],
   "source": [
    "import little_mallet_wrapper\n",
    "import seaborn"
   ]
  },
  {
   "cell_type": "markdown",
   "id": "86f0be33",
   "metadata": {},
   "source": [
    "### Data - r/AmItheAsshole/ - https://www.reddit.com/r/AmItheAsshole/\n",
    "\n",
    "> A catharsis for the frustrated moral philosopher in all of us, and a place to finally find out if you were wrong in an argument that's been bothering you. Tell us about any non-violent conflict you have experienced; give us both sides of the story, and find out if you're right, or you're the asshole. See our ~~*Best Of*~~ \"Most Controversial\" at /r/AITAFiltered!"
   ]
  },
  {
   "cell_type": "code",
   "execution_count": 11,
   "id": "e6dab541",
   "metadata": {},
   "outputs": [
    {
     "name": "stdout",
     "output_type": "stream",
     "text": [
      "--2021-05-20 15:18:26--  https://melaniewalsh.github.io/Intro-Cultural-Analytics/_downloads/a51ee65126a0d45564056781a6ad9dfe/top-reddit-aita-posts.csv\n",
      "Resolving melaniewalsh.github.io (melaniewalsh.github.io)... 185.199.111.153, 185.199.110.153, 185.199.109.153, ...\n",
      "Connecting to melaniewalsh.github.io (melaniewalsh.github.io)|185.199.111.153|:443... connected.\n",
      "HTTP request sent, awaiting response... 200 OK\n",
      "Length: 5964697 (5.7M) [text/csv]\n",
      "Saving to: ‘top-reddit-aita-posts.csv’\n",
      "\n",
      "top-reddit-aita-pos 100%[===================>]   5.69M  --.-KB/s    in 0.1s    \n",
      "\n",
      "2021-05-20 15:18:26 (51.1 MB/s) - ‘top-reddit-aita-posts.csv’ saved [5964697/5964697]\n",
      "\n"
     ]
    }
   ],
   "source": [
    "!wget https://melaniewalsh.github.io/Intro-Cultural-Analytics/_downloads/a51ee65126a0d45564056781a6ad9dfe/top-reddit-aita-posts.csv"
   ]
  },
  {
   "cell_type": "markdown",
   "id": "a586bc1f",
   "metadata": {},
   "source": [
    "Let's now look at the files on the left navigator. We should move the csv file to `data/`"
   ]
  },
  {
   "cell_type": "code",
   "execution_count": 12,
   "id": "77416fca",
   "metadata": {},
   "outputs": [],
   "source": [
    "!mv top-reddit-aita-posts.csv data"
   ]
  },
  {
   "cell_type": "markdown",
   "id": "efcd8cdf",
   "metadata": {},
   "source": [
    "Let's now look at the files on the left navigator. Is the csv file there?"
   ]
  },
  {
   "cell_type": "code",
   "execution_count": 13,
   "id": "26d94570",
   "metadata": {},
   "outputs": [
    {
     "data": {
      "text/html": [
       "<div>\n",
       "<style scoped>\n",
       "    .dataframe tbody tr th:only-of-type {\n",
       "        vertical-align: middle;\n",
       "    }\n",
       "\n",
       "    .dataframe tbody tr th {\n",
       "        vertical-align: top;\n",
       "    }\n",
       "\n",
       "    .dataframe thead th {\n",
       "        text-align: right;\n",
       "    }\n",
       "</style>\n",
       "<table border=\"1\" class=\"dataframe\">\n",
       "  <thead>\n",
       "    <tr style=\"text-align: right;\">\n",
       "      <th></th>\n",
       "      <th>author</th>\n",
       "      <th>full_date</th>\n",
       "      <th>date</th>\n",
       "      <th>title</th>\n",
       "      <th>selftext</th>\n",
       "      <th>url</th>\n",
       "      <th>subreddit</th>\n",
       "      <th>upvote_score</th>\n",
       "      <th>num_comments</th>\n",
       "      <th>num_crossposts</th>\n",
       "    </tr>\n",
       "  </thead>\n",
       "  <tbody>\n",
       "    <tr>\n",
       "      <th>270</th>\n",
       "      <td>GhibliFan96</td>\n",
       "      <td>2020-06-08 13:32:50+00:00</td>\n",
       "      <td>2020-06-08</td>\n",
       "      <td>AITA for not wanting to cover up my tattoo's for a wedding?</td>\n",
       "      <td>Hi this is my first time posting on Reddit. I check this page a lot but never made an account. A...</td>\n",
       "      <td>https://www.reddit.com/r/AmItheAsshole/comments/gyzec7/aita_for_not_wanting_to_cover_up_my_tatto...</td>\n",
       "      <td>AmItheAsshole</td>\n",
       "      <td>2877</td>\n",
       "      <td>361</td>\n",
       "      <td>3</td>\n",
       "    </tr>\n",
       "    <tr>\n",
       "      <th>367</th>\n",
       "      <td>throwahungrylady</td>\n",
       "      <td>2020-01-03 10:56:12+00:00</td>\n",
       "      <td>2020-01-03</td>\n",
       "      <td>AITA for putting extra food on my plate so my boyfriend can't eat it, meaning I get leftovers?</td>\n",
       "      <td>My BF and I of 2 years spit all bills and costs down the middle (except all personal items or in...</td>\n",
       "      <td>https://www.reddit.com/r/AmItheAsshole/comments/ejdwnl/aita_for_putting_extra_food_on_my_plate_s...</td>\n",
       "      <td>AmItheAsshole</td>\n",
       "      <td>4079</td>\n",
       "      <td>2420</td>\n",
       "      <td>1</td>\n",
       "    </tr>\n",
       "    <tr>\n",
       "      <th>2729</th>\n",
       "      <td>Jedimyth</td>\n",
       "      <td>2019-03-28 13:23:51+00:00</td>\n",
       "      <td>2019-03-28</td>\n",
       "      <td>AITA for telling my girlfriend that I’ll leave if she gets a face tattoo?</td>\n",
       "      <td>So basically my girlfriend has hit a spot in her 20’s where she’s being a bit spontaneous, her g...</td>\n",
       "      <td>https://www.reddit.com/r/AmItheAsshole/comments/b6iqo3/aita_for_telling_my_girlfriend_that_ill_l...</td>\n",
       "      <td>AmItheAsshole</td>\n",
       "      <td>19101</td>\n",
       "      <td>3088</td>\n",
       "      <td>0</td>\n",
       "    </tr>\n",
       "    <tr>\n",
       "      <th>2644</th>\n",
       "      <td>TheRetenator</td>\n",
       "      <td>2019-04-10 16:05:11+00:00</td>\n",
       "      <td>2019-04-10</td>\n",
       "      <td>AITA for reporting my sister to the IRS?</td>\n",
       "      <td>So my sister and her husband are in a lot of trouble right now. Not only are they being audited ...</td>\n",
       "      <td>https://www.reddit.com/r/AmItheAsshole/comments/bbnrql/aita_for_reporting_my_sister_to_the_irs/</td>\n",
       "      <td>AmItheAsshole</td>\n",
       "      <td>17025</td>\n",
       "      <td>2236</td>\n",
       "      <td>0</td>\n",
       "    </tr>\n",
       "    <tr>\n",
       "      <th>1354</th>\n",
       "      <td>paperweightfairy</td>\n",
       "      <td>2019-08-11 18:46:15+00:00</td>\n",
       "      <td>2019-08-11</td>\n",
       "      <td>AITA for not giving my sister my wedding venue even if she is pregnant and needs it more</td>\n",
       "      <td>My fiancee and i have been together for 8 years and engaged for 3 .  \\n So what we did is book o...</td>\n",
       "      <td>https://www.reddit.com/r/AmItheAsshole/comments/cp0l3m/aita_for_not_giving_my_sister_my_wedding_...</td>\n",
       "      <td>AmItheAsshole</td>\n",
       "      <td>4702</td>\n",
       "      <td>934</td>\n",
       "      <td>0</td>\n",
       "    </tr>\n",
       "  </tbody>\n",
       "</table>\n",
       "</div>"
      ],
      "text/plain": [
       "                author                  full_date        date  \\\n",
       "270        GhibliFan96  2020-06-08 13:32:50+00:00  2020-06-08   \n",
       "367   throwahungrylady  2020-01-03 10:56:12+00:00  2020-01-03   \n",
       "2729          Jedimyth  2019-03-28 13:23:51+00:00  2019-03-28   \n",
       "2644      TheRetenator  2019-04-10 16:05:11+00:00  2019-04-10   \n",
       "1354  paperweightfairy  2019-08-11 18:46:15+00:00  2019-08-11   \n",
       "\n",
       "                                                                                               title  \\\n",
       "270                                      AITA for not wanting to cover up my tattoo's for a wedding?   \n",
       "367   AITA for putting extra food on my plate so my boyfriend can't eat it, meaning I get leftovers?   \n",
       "2729                       AITA for telling my girlfriend that I’ll leave if she gets a face tattoo?   \n",
       "2644                                                        AITA for reporting my sister to the IRS?   \n",
       "1354        AITA for not giving my sister my wedding venue even if she is pregnant and needs it more   \n",
       "\n",
       "                                                                                                 selftext  \\\n",
       "270   Hi this is my first time posting on Reddit. I check this page a lot but never made an account. A...   \n",
       "367   My BF and I of 2 years spit all bills and costs down the middle (except all personal items or in...   \n",
       "2729  So basically my girlfriend has hit a spot in her 20’s where she’s being a bit spontaneous, her g...   \n",
       "2644  So my sister and her husband are in a lot of trouble right now. Not only are they being audited ...   \n",
       "1354  My fiancee and i have been together for 8 years and engaged for 3 .  \\n So what we did is book o...   \n",
       "\n",
       "                                                                                                      url  \\\n",
       "270   https://www.reddit.com/r/AmItheAsshole/comments/gyzec7/aita_for_not_wanting_to_cover_up_my_tatto...   \n",
       "367   https://www.reddit.com/r/AmItheAsshole/comments/ejdwnl/aita_for_putting_extra_food_on_my_plate_s...   \n",
       "2729  https://www.reddit.com/r/AmItheAsshole/comments/b6iqo3/aita_for_telling_my_girlfriend_that_ill_l...   \n",
       "2644      https://www.reddit.com/r/AmItheAsshole/comments/bbnrql/aita_for_reporting_my_sister_to_the_irs/   \n",
       "1354  https://www.reddit.com/r/AmItheAsshole/comments/cp0l3m/aita_for_not_giving_my_sister_my_wedding_...   \n",
       "\n",
       "          subreddit  upvote_score  num_comments  num_crossposts  \n",
       "270   AmItheAsshole          2877           361               3  \n",
       "367   AmItheAsshole          4079          2420               1  \n",
       "2729  AmItheAsshole         19101          3088               0  \n",
       "2644  AmItheAsshole         17025          2236               0  \n",
       "1354  AmItheAsshole          4702           934               0  "
      ]
     },
     "execution_count": 13,
     "metadata": {},
     "output_type": "execute_result"
    }
   ],
   "source": [
    "df = pd.read_csv(\"data/top-reddit-aita-posts.csv\")\n",
    "df.sample(5)"
   ]
  },
  {
   "cell_type": "markdown",
   "id": "c3f015e4",
   "metadata": {},
   "source": [
    "#### Exploring the data"
   ]
  },
  {
   "cell_type": "markdown",
   "id": "eb38dbd4",
   "metadata": {},
   "source": [
    "**Question:** What does each row represent? "
   ]
  },
  {
   "cell_type": "markdown",
   "id": "db0d3d51",
   "metadata": {},
   "source": [
    "A post by a user"
   ]
  },
  {
   "cell_type": "markdown",
   "id": "aa883b6d",
   "metadata": {},
   "source": [
    "**Question:** What does each column indicate"
   ]
  },
  {
   "cell_type": "code",
   "execution_count": null,
   "id": "cbb05161",
   "metadata": {},
   "outputs": [],
   "source": []
  },
  {
   "cell_type": "markdown",
   "id": "215c702f",
   "metadata": {},
   "source": [
    "**Question** Let's look at an example"
   ]
  },
  {
   "cell_type": "code",
   "execution_count": 14,
   "id": "09771531",
   "metadata": {},
   "outputs": [
    {
     "data": {
      "text/plain": [
       "'My wife recently tried to prank me by rigging a door to a bucket of paint. So whenever I opened the door, the paint would hit me. The thing is, it sorta failed. The paint indirectly splashed on me, but the vast majority hit the floor and splashed on the bed.\\n \\nSo, after I took the shower she apologized and asked me for help cleaning up the mess. I refused, she purposely made the mess. I’m not going to help her then. So, I just went in the room and started to game while she cleaned it up.\\n \\nLater the night she was somehow pissed at me. She said that she apologized and felt it was unfair that she was cleaning up something while I was on the computer not paying attention. I mean, why should I help my wife after she made a stupid messy prank. She’s still pissed at me the next day.\\n \\nSo, AITA?'"
      ]
     },
     "execution_count": 14,
     "metadata": {},
     "output_type": "execute_result"
    }
   ],
   "source": [
    "df['selftext'].iloc[11]"
   ]
  },
  {
   "cell_type": "code",
   "execution_count": 15,
   "id": "c84df590",
   "metadata": {},
   "outputs": [
    {
     "data": {
      "text/plain": [
       "'AITA for refusing to help my wife clean up “her” mess?'"
      ]
     },
     "execution_count": 15,
     "metadata": {},
     "output_type": "execute_result"
    }
   ],
   "source": [
    "example_title = df['title'].iloc[11]\n",
    "example_title"
   ]
  },
  {
   "cell_type": "code",
   "execution_count": 16,
   "id": "deb5fe93",
   "metadata": {},
   "outputs": [
    {
     "data": {
      "text/plain": [
       "'https://www.reddit.com/r/AmItheAsshole/comments/hwjer3/aita_for_refusing_to_help_my_wife_clean_up_her/'"
      ]
     },
     "execution_count": 16,
     "metadata": {},
     "output_type": "execute_result"
    }
   ],
   "source": [
    "df['url'].iloc[11]"
   ]
  },
  {
   "cell_type": "code",
   "execution_count": 17,
   "id": "f9bddde8",
   "metadata": {},
   "outputs": [
    {
     "data": {
      "text/plain": [
       "(2932, 10)"
      ]
     },
     "execution_count": 17,
     "metadata": {},
     "output_type": "execute_result"
    }
   ],
   "source": [
    "df.shape"
   ]
  },
  {
   "cell_type": "markdown",
   "id": "5e035385",
   "metadata": {},
   "source": [
    "**Question:** Lets filter out some Reddit posts that have removed or deleted text"
   ]
  },
  {
   "cell_type": "code",
   "execution_count": 18,
   "id": "6200e06f",
   "metadata": {},
   "outputs": [
    {
     "data": {
      "text/plain": [
       "[removed]                                                                                                                                                                                                                                                                                                                                                                                                                                                                                                                                                                                                                                                                                                                                                                                                                                                                                                                                                                                                                                                                                                                                                                                                                                                                                                                                                                                                                                                                                                                                                                                                                               92\n",
       "[deleted]                                                                                                                                                                                                                                                                                                                                                                                                                                                                                                                                                                                                                                                                                                                                                                                                                                                                                                                                                                                                                                                                                                                                                                                                                                                                                                                                                                                                                                                                                                                                                                                                                                5\n",
       "I don’t even know where to begin since it feels like my life is over as I knew it. I’ve been with my girlfriend for 2 years and in March she thought she saw a message from another girl on my lock screen. I tried to explain that the girl was just a classmate who was joking, not a serious offer. My girlfriend said my explanation sucked and me not taking her concerns seriously had obliterated her trust in me. \\n\\nWe basically fought non stop in May and she broke up with me last Friday. I’m beside myself. My mom has always been my sounding board so as I was talking with her she asked if she’d like me to call Bailey and try explain things from a neutral perspective. I thought it would be a good idea. \\n\\nWell, Bailey basically told my mom it was none of her business and hung up. My mom tried to call her back several times over the weekend but never got any response. After the last call Bailey text me and said “you were pathetic before, having your mom call me makes you an asshole and any chance of us being friends is gone.” \\n\\nI texted back “no please understand, she offered and I accepted, I didn’t ask her to do it.” Her response was “well if you couldn’t get any lower BLAMING your mom for your stupidity took you there.” I think she then blocked my number. \\n\\nI’m devastated and have so little hope now I don’t what to do. I’m so low I’m lost. Was it an asshole thing to do to allow my mom to call her? I honest to god thought maybe having my perspective presented by a different person might help Bailey see it another way. I meant no disrespect at all.     1\n",
       "Name: selftext, dtype: int64"
      ]
     },
     "execution_count": 18,
     "metadata": {},
     "output_type": "execute_result"
    }
   ],
   "source": [
    "df['selftext'].value_counts().head(3)"
   ]
  },
  {
   "cell_type": "code",
   "execution_count": 20,
   "id": "17532f7f",
   "metadata": {
    "collapsed": true,
    "jupyter": {
     "outputs_hidden": true
    },
    "tags": []
   },
   "outputs": [
    {
     "data": {
      "text/html": [
       "<div>\n",
       "<style scoped>\n",
       "    .dataframe tbody tr th:only-of-type {\n",
       "        vertical-align: middle;\n",
       "    }\n",
       "\n",
       "    .dataframe tbody tr th {\n",
       "        vertical-align: top;\n",
       "    }\n",
       "\n",
       "    .dataframe thead th {\n",
       "        text-align: right;\n",
       "    }\n",
       "</style>\n",
       "<table border=\"1\" class=\"dataframe\">\n",
       "  <thead>\n",
       "    <tr style=\"text-align: right;\">\n",
       "      <th></th>\n",
       "      <th>author</th>\n",
       "      <th>full_date</th>\n",
       "      <th>date</th>\n",
       "      <th>title</th>\n",
       "      <th>selftext</th>\n",
       "      <th>url</th>\n",
       "      <th>subreddit</th>\n",
       "      <th>upvote_score</th>\n",
       "      <th>num_comments</th>\n",
       "      <th>num_crossposts</th>\n",
       "    </tr>\n",
       "  </thead>\n",
       "  <tbody>\n",
       "    <tr>\n",
       "      <th>0</th>\n",
       "      <td>Additional-Pizza-805</td>\n",
       "      <td>2020-07-24 19:13:49+00:00</td>\n",
       "      <td>2020-07-24</td>\n",
       "      <td>AITA for kicking my cousin off of my sister’s wedding Zoom call?</td>\n",
       "      <td>My [27M] older sister [30F] and her fiancé [31M] were planning for over a year for their wedding...</td>\n",
       "      <td>https://www.reddit.com/r/AmItheAsshole/comments/hx80wd/aita_for_kicking_my_cousin_off_of_my_sist...</td>\n",
       "      <td>AmItheAsshole</td>\n",
       "      <td>11159</td>\n",
       "      <td>2209</td>\n",
       "      <td>4</td>\n",
       "    </tr>\n",
       "    <tr>\n",
       "      <th>1</th>\n",
       "      <td>decadel8ter</td>\n",
       "      <td>2020-07-24 14:37:13+00:00</td>\n",
       "      <td>2020-07-24</td>\n",
       "      <td>AITA for resenting my family for something that happened over a decade ago?</td>\n",
       "      <td>when i was 15 i was in a car accident. i was riding my bike on new bike lanes that my city had i...</td>\n",
       "      <td>https://www.reddit.com/r/AmItheAsshole/comments/hx2vvl/aita_for_resenting_my_family_for_somethin...</td>\n",
       "      <td>AmItheAsshole</td>\n",
       "      <td>2541</td>\n",
       "      <td>1143</td>\n",
       "      <td>0</td>\n",
       "    </tr>\n",
       "    <tr>\n",
       "      <th>2</th>\n",
       "      <td>Snoo_66130</td>\n",
       "      <td>2020-07-24 12:35:35+00:00</td>\n",
       "      <td>2020-07-24</td>\n",
       "      <td>AITA for telling my step dad to stop trying to be my dad?</td>\n",
       "      <td>I'm   35, and my mom who is 52 is dating a man who is is 27. This is fucking   weird as hell and...</td>\n",
       "      <td>https://www.reddit.com/r/AmItheAsshole/comments/hx0zk7/aita_for_telling_my_step_dad_to_stop_tryi...</td>\n",
       "      <td>AmItheAsshole</td>\n",
       "      <td>2809</td>\n",
       "      <td>1253</td>\n",
       "      <td>1</td>\n",
       "    </tr>\n",
       "    <tr>\n",
       "      <th>3</th>\n",
       "      <td>ohnoihaveabluechair</td>\n",
       "      <td>2020-07-24 10:56:56+00:00</td>\n",
       "      <td>2020-07-24</td>\n",
       "      <td>AITA for confronting my SIL for wearing clothes that belonged to me?</td>\n",
       "      <td>Some info: A few years ago, my family didn’t have a lot of spare money to buy a lot of things (l...</td>\n",
       "      <td>https://www.reddit.com/r/AmItheAsshole/comments/hwzpbu/aita_for_confronting_my_sil_for_wearing_c...</td>\n",
       "      <td>AmItheAsshole</td>\n",
       "      <td>7581</td>\n",
       "      <td>1550</td>\n",
       "      <td>1</td>\n",
       "    </tr>\n",
       "    <tr>\n",
       "      <th>4</th>\n",
       "      <td>FormalLettuce3</td>\n",
       "      <td>2020-07-24 10:52:08+00:00</td>\n",
       "      <td>2020-07-24</td>\n",
       "      <td>AITA for saying we'd only help with my ex's kid's party if we could tell people we're engaged?</td>\n",
       "      <td>This guy, \"Jack\", and I were together for about a year, and within a couple weeks of ending it I...</td>\n",
       "      <td>https://www.reddit.com/r/AmItheAsshole/comments/hwzncq/aita_for_saying_wed_only_help_with_my_exs...</td>\n",
       "      <td>AmItheAsshole</td>\n",
       "      <td>2915</td>\n",
       "      <td>1214</td>\n",
       "      <td>0</td>\n",
       "    </tr>\n",
       "    <tr>\n",
       "      <th>...</th>\n",
       "      <td>...</td>\n",
       "      <td>...</td>\n",
       "      <td>...</td>\n",
       "      <td>...</td>\n",
       "      <td>...</td>\n",
       "      <td>...</td>\n",
       "      <td>...</td>\n",
       "      <td>...</td>\n",
       "      <td>...</td>\n",
       "      <td>...</td>\n",
       "    </tr>\n",
       "    <tr>\n",
       "      <th>2927</th>\n",
       "      <td>BackgroundJellyfish</td>\n",
       "      <td>2018-08-31 21:39:49+00:00</td>\n",
       "      <td>2018-08-31</td>\n",
       "      <td>AITA for hitting my girlfriend out of reflex for her scaring me?</td>\n",
       "      <td>Hi, so my girlfriend and i watched a horror movie recently, called The Last Exorcism. Now keep i...</td>\n",
       "      <td>https://www.reddit.com/r/AmItheAsshole/comments/9bxoro/aita_for_hitting_my_girlfriend_out_of_ref...</td>\n",
       "      <td>AmItheAsshole</td>\n",
       "      <td>2719</td>\n",
       "      <td>405</td>\n",
       "      <td>1</td>\n",
       "    </tr>\n",
       "    <tr>\n",
       "      <th>2928</th>\n",
       "      <td>Marylebone_Road</td>\n",
       "      <td>2018-08-30 17:00:31+00:00</td>\n",
       "      <td>2018-08-30</td>\n",
       "      <td>AITA for thinking that this sub is only so people can have their decisions validated and never a...</td>\n",
       "      <td>NaN</td>\n",
       "      <td>https://www.reddit.com/r/AmItheAsshole/comments/9blev1/aita_for_thinking_that_this_sub_is_only_s...</td>\n",
       "      <td>AmItheAsshole</td>\n",
       "      <td>2001</td>\n",
       "      <td>104</td>\n",
       "      <td>0</td>\n",
       "    </tr>\n",
       "    <tr>\n",
       "      <th>2929</th>\n",
       "      <td>treefiddyfive</td>\n",
       "      <td>2018-08-26 09:33:45+00:00</td>\n",
       "      <td>2018-08-26</td>\n",
       "      <td>AITA for not believing my daughter is non-binary?</td>\n",
       "      <td>Recently my daughter has 'come out' to me as non binary, meaning that she supposedly does not be...</td>\n",
       "      <td>https://www.reddit.com/r/AmItheAsshole/comments/9aeeed/aita_for_not_believing_my_daughter_is_non...</td>\n",
       "      <td>AmItheAsshole</td>\n",
       "      <td>2068</td>\n",
       "      <td>905</td>\n",
       "      <td>3</td>\n",
       "    </tr>\n",
       "    <tr>\n",
       "      <th>2930</th>\n",
       "      <td>grizzythekid</td>\n",
       "      <td>2018-06-19 02:07:05+00:00</td>\n",
       "      <td>2018-06-19</td>\n",
       "      <td>AITA for throwing a soda on the ground near the dude I bought it for?</td>\n",
       "      <td>I was going to McDonald's for a quick bite to go, when a drunk maybe homeless, definitely in som...</td>\n",
       "      <td>https://www.reddit.com/r/AmItheAsshole/comments/8s56a3/aita_for_throwing_a_soda_on_the_ground_ne...</td>\n",
       "      <td>AmItheAsshole</td>\n",
       "      <td>3532</td>\n",
       "      <td>90</td>\n",
       "      <td>0</td>\n",
       "    </tr>\n",
       "    <tr>\n",
       "      <th>2931</th>\n",
       "      <td>Pettheftthrow</td>\n",
       "      <td>2018-05-11 03:28:07+00:00</td>\n",
       "      <td>2018-05-11</td>\n",
       "      <td>AITA for refusing to return a lost pet?</td>\n",
       "      <td>So over two years ago a cat appeared in my yard. He was skinny, skittish, unneutered, and had a ...</td>\n",
       "      <td>https://www.reddit.com/r/AmItheAsshole/comments/8ikrb0/aita_for_refusing_to_return_a_lost_pet/</td>\n",
       "      <td>AmItheAsshole</td>\n",
       "      <td>2387</td>\n",
       "      <td>169</td>\n",
       "      <td>0</td>\n",
       "    </tr>\n",
       "  </tbody>\n",
       "</table>\n",
       "<p>2840 rows × 10 columns</p>\n",
       "</div>"
      ],
      "text/plain": [
       "                    author                  full_date        date  \\\n",
       "0     Additional-Pizza-805  2020-07-24 19:13:49+00:00  2020-07-24   \n",
       "1              decadel8ter  2020-07-24 14:37:13+00:00  2020-07-24   \n",
       "2               Snoo_66130  2020-07-24 12:35:35+00:00  2020-07-24   \n",
       "3      ohnoihaveabluechair  2020-07-24 10:56:56+00:00  2020-07-24   \n",
       "4           FormalLettuce3  2020-07-24 10:52:08+00:00  2020-07-24   \n",
       "...                    ...                        ...         ...   \n",
       "2927   BackgroundJellyfish  2018-08-31 21:39:49+00:00  2018-08-31   \n",
       "2928       Marylebone_Road  2018-08-30 17:00:31+00:00  2018-08-30   \n",
       "2929         treefiddyfive  2018-08-26 09:33:45+00:00  2018-08-26   \n",
       "2930          grizzythekid  2018-06-19 02:07:05+00:00  2018-06-19   \n",
       "2931         Pettheftthrow  2018-05-11 03:28:07+00:00  2018-05-11   \n",
       "\n",
       "                                                                                                    title  \\\n",
       "0                                        AITA for kicking my cousin off of my sister’s wedding Zoom call?   \n",
       "1                             AITA for resenting my family for something that happened over a decade ago?   \n",
       "2                                               AITA for telling my step dad to stop trying to be my dad?   \n",
       "3                                    AITA for confronting my SIL for wearing clothes that belonged to me?   \n",
       "4          AITA for saying we'd only help with my ex's kid's party if we could tell people we're engaged?   \n",
       "...                                                                                                   ...   \n",
       "2927                                     AITA for hitting my girlfriend out of reflex for her scaring me?   \n",
       "2928  AITA for thinking that this sub is only so people can have their decisions validated and never a...   \n",
       "2929                                                    AITA for not believing my daughter is non-binary?   \n",
       "2930                                AITA for throwing a soda on the ground near the dude I bought it for?   \n",
       "2931                                                              AITA for refusing to return a lost pet?   \n",
       "\n",
       "                                                                                                 selftext  \\\n",
       "0     My [27M] older sister [30F] and her fiancé [31M] were planning for over a year for their wedding...   \n",
       "1     when i was 15 i was in a car accident. i was riding my bike on new bike lanes that my city had i...   \n",
       "2     I'm   35, and my mom who is 52 is dating a man who is is 27. This is fucking   weird as hell and...   \n",
       "3     Some info: A few years ago, my family didn’t have a lot of spare money to buy a lot of things (l...   \n",
       "4     This guy, \"Jack\", and I were together for about a year, and within a couple weeks of ending it I...   \n",
       "...                                                                                                   ...   \n",
       "2927  Hi, so my girlfriend and i watched a horror movie recently, called The Last Exorcism. Now keep i...   \n",
       "2928                                                                                                  NaN   \n",
       "2929  Recently my daughter has 'come out' to me as non binary, meaning that she supposedly does not be...   \n",
       "2930  I was going to McDonald's for a quick bite to go, when a drunk maybe homeless, definitely in som...   \n",
       "2931  So over two years ago a cat appeared in my yard. He was skinny, skittish, unneutered, and had a ...   \n",
       "\n",
       "                                                                                                      url  \\\n",
       "0     https://www.reddit.com/r/AmItheAsshole/comments/hx80wd/aita_for_kicking_my_cousin_off_of_my_sist...   \n",
       "1     https://www.reddit.com/r/AmItheAsshole/comments/hx2vvl/aita_for_resenting_my_family_for_somethin...   \n",
       "2     https://www.reddit.com/r/AmItheAsshole/comments/hx0zk7/aita_for_telling_my_step_dad_to_stop_tryi...   \n",
       "3     https://www.reddit.com/r/AmItheAsshole/comments/hwzpbu/aita_for_confronting_my_sil_for_wearing_c...   \n",
       "4     https://www.reddit.com/r/AmItheAsshole/comments/hwzncq/aita_for_saying_wed_only_help_with_my_exs...   \n",
       "...                                                                                                   ...   \n",
       "2927  https://www.reddit.com/r/AmItheAsshole/comments/9bxoro/aita_for_hitting_my_girlfriend_out_of_ref...   \n",
       "2928  https://www.reddit.com/r/AmItheAsshole/comments/9blev1/aita_for_thinking_that_this_sub_is_only_s...   \n",
       "2929  https://www.reddit.com/r/AmItheAsshole/comments/9aeeed/aita_for_not_believing_my_daughter_is_non...   \n",
       "2930  https://www.reddit.com/r/AmItheAsshole/comments/8s56a3/aita_for_throwing_a_soda_on_the_ground_ne...   \n",
       "2931       https://www.reddit.com/r/AmItheAsshole/comments/8ikrb0/aita_for_refusing_to_return_a_lost_pet/   \n",
       "\n",
       "          subreddit  upvote_score  num_comments  num_crossposts  \n",
       "0     AmItheAsshole         11159          2209               4  \n",
       "1     AmItheAsshole          2541          1143               0  \n",
       "2     AmItheAsshole          2809          1253               1  \n",
       "3     AmItheAsshole          7581          1550               1  \n",
       "4     AmItheAsshole          2915          1214               0  \n",
       "...             ...           ...           ...             ...  \n",
       "2927  AmItheAsshole          2719           405               1  \n",
       "2928  AmItheAsshole          2001           104               0  \n",
       "2929  AmItheAsshole          2068           905               3  \n",
       "2930  AmItheAsshole          3532            90               0  \n",
       "2931  AmItheAsshole          2387           169               0  \n",
       "\n",
       "[2840 rows x 10 columns]"
      ]
     },
     "execution_count": 20,
     "metadata": {},
     "output_type": "execute_result"
    }
   ],
   "source": [
    "df[~(df['selftext'] == '[removed]')]"
   ]
  },
  {
   "cell_type": "code",
   "execution_count": 21,
   "id": "56d29c87",
   "metadata": {},
   "outputs": [
    {
     "data": {
      "text/plain": [
       "(2835, 10)"
      ]
     },
     "execution_count": 21,
     "metadata": {},
     "output_type": "execute_result"
    }
   ],
   "source": [
    "## Remove deleted or removed posts\n",
    "df = df[~(df['selftext'] == '[removed]')]\n",
    "df = df[~(df['selftext'] == '[deleted]')]\n",
    "df.shape"
   ]
  },
  {
   "cell_type": "markdown",
   "id": "daa49202",
   "metadata": {},
   "source": [
    "#### Process text\n",
    "\n",
    "Little Mallet Wrapper includes a function to clean and process text. \n",
    "\n",
    "\n",
    "**Question:** Based on the documentation (https://github.com/maria-antoniak/little-mallet-wrapper/blob/master/README.md), what function do you think we can use to clean and process text? \n",
    "\n",
    "<details>\n",
    "<summary>Solution</summary>\n",
    "    https://github.com/maria-antoniak/little-mallet-wrapper#process_stringtext-lowercasetrue-remove_short_wordstrue-remove_stop_wordstrue-remove_punctuationtrue-numbersreplace-stop_wordsstops\n",
    "\n",
    "</details>\n"
   ]
  },
  {
   "cell_type": "code",
   "execution_count": 22,
   "id": "0eac62c3",
   "metadata": {},
   "outputs": [
    {
     "data": {
      "text/plain": [
       "<function little_mallet_wrapper.little_mallet_wrapper.process_string(text, lowercase=True, remove_short_words=True, remove_stop_words=True, remove_punctuation=True, numbers='replace', stop_words=['i', 'me', 'my', 'myself', 'we', 'our', 'ours', 'ourselves', 'you', 'your', 'yours', 'yourself', 'yourselves', 'he', 'him', 'his', 'himself', 'she', 'her', 'hers', 'herself', 'it', 'its', 'itself', 'they', 'them', 'their', 'theirs', 'themselves', 'what', 'which', 'who', 'whom', 'this', 'that', 'these', 'those', 'am', 'is', 'are', 'was', 'were', 'be', 'been', 'being', 'have', 'has', 'had', 'having', 'do', 'does', 'did', 'doing', 'a', 'an', 'the', 'and', 'but', 'if', 'or', 'because', 'as', 'until', 'while', 'of', 'at', 'by', 'for', 'with', 'about', 'against', 'between', 'into', 'through', 'during', 'before', 'after', 'above', 'below', 'to', 'from', 'up', 'down', 'in', 'out', 'on', 'off', 'over', 'under', 'again', 'further', 'then', 'once', 'here', 'there', 'when', 'where', 'why', 'how', 'all', 'any', 'both', 'each', 'few', 'more', 'most', 'other', 'some', 'such', 'no', 'nor', 'not', 'only', 'own', 'same', 'so', 'than', 'too', 'very', 's', 't', 'can', 'will', 'just', 'don', 'should', 'now', 've', 'll', 'amp'], stop_words_extra=[])>"
      ]
     },
     "execution_count": 22,
     "metadata": {},
     "output_type": "execute_result"
    }
   ],
   "source": [
    "little_mallet_wrapper.process_string"
   ]
  },
  {
   "cell_type": "markdown",
   "id": "11ac3d19",
   "metadata": {},
   "source": [
    "##### Process text example"
   ]
  },
  {
   "cell_type": "code",
   "execution_count": 25,
   "id": "6728d9bc",
   "metadata": {},
   "outputs": [
    {
     "data": {
      "text/plain": [
       "'My [27M] older sister [30F] and her fiancé [31M] were planning for over a year for their wedding to '"
      ]
     },
     "execution_count": 25,
     "metadata": {},
     "output_type": "execute_result"
    }
   ],
   "source": [
    "df['selftext'].iloc[0][:100]"
   ]
  },
  {
   "cell_type": "code",
   "execution_count": 33,
   "id": "bb242fd9",
   "metadata": {},
   "outputs": [
    {
     "data": {
      "text/plain": [
       "'older sister fiancé planning year wedding month obviously wedding planned still would like get marri'"
      ]
     },
     "execution_count": 33,
     "metadata": {},
     "output_type": "execute_result"
    }
   ],
   "source": [
    "little_mallet_wrapper.process_string(df['selftext'].iloc[0], numbers='remove')[:100]"
   ]
  },
  {
   "cell_type": "markdown",
   "id": "d0119e5d",
   "metadata": {},
   "source": [
    "Apply the function to our dataframe"
   ]
  },
  {
   "cell_type": "code",
   "execution_count": null,
   "id": "a108e185",
   "metadata": {},
   "outputs": [],
   "source": [
    "training_data = [little_mallet_wrapper.process_string(text, numbers='remove') for text in df['selftext']]\n"
   ]
  },
  {
   "cell_type": "code",
   "execution_count": 28,
   "id": "5c512fcd",
   "metadata": {},
   "outputs": [
    {
     "ename": "AttributeError",
     "evalue": "'float' object has no attribute 'lower'",
     "output_type": "error",
     "traceback": [
      "\u001b[0;31m---------------------------------------------------------------------------\u001b[0m",
      "\u001b[0;31mAttributeError\u001b[0m                            Traceback (most recent call last)",
      "\u001b[0;32m<ipython-input-28-6ecb4f1043b8>\u001b[0m in \u001b[0;36m<module>\u001b[0;34m\u001b[0m\n\u001b[0;32m----> 1\u001b[0;31m \u001b[0mdf\u001b[0m\u001b[0;34m[\u001b[0m\u001b[0;34m'selftext'\u001b[0m\u001b[0;34m]\u001b[0m\u001b[0;34m.\u001b[0m\u001b[0mapply\u001b[0m\u001b[0;34m(\u001b[0m\u001b[0mlittle_mallet_wrapper\u001b[0m\u001b[0;34m.\u001b[0m\u001b[0mprocess_string\u001b[0m\u001b[0;34m,\u001b[0m \u001b[0margs\u001b[0m\u001b[0;34m=\u001b[0m\u001b[0;34m{\u001b[0m\u001b[0;34m'numbers'\u001b[0m\u001b[0;34m:\u001b[0m\u001b[0;34m'remove'\u001b[0m\u001b[0;34m}\u001b[0m\u001b[0;34m)\u001b[0m\u001b[0;34m\u001b[0m\u001b[0;34m\u001b[0m\u001b[0m\n\u001b[0m",
      "\u001b[0;32m/opt/conda/lib/python3.8/site-packages/pandas/core/series.py\u001b[0m in \u001b[0;36mapply\u001b[0;34m(self, func, convert_dtype, args, **kwds)\u001b[0m\n\u001b[1;32m   4136\u001b[0m             \u001b[0;32melse\u001b[0m\u001b[0;34m:\u001b[0m\u001b[0;34m\u001b[0m\u001b[0;34m\u001b[0m\u001b[0m\n\u001b[1;32m   4137\u001b[0m                 \u001b[0mvalues\u001b[0m \u001b[0;34m=\u001b[0m \u001b[0mself\u001b[0m\u001b[0;34m.\u001b[0m\u001b[0mastype\u001b[0m\u001b[0;34m(\u001b[0m\u001b[0mobject\u001b[0m\u001b[0;34m)\u001b[0m\u001b[0;34m.\u001b[0m\u001b[0m_values\u001b[0m\u001b[0;34m\u001b[0m\u001b[0;34m\u001b[0m\u001b[0m\n\u001b[0;32m-> 4138\u001b[0;31m                 \u001b[0mmapped\u001b[0m \u001b[0;34m=\u001b[0m \u001b[0mlib\u001b[0m\u001b[0;34m.\u001b[0m\u001b[0mmap_infer\u001b[0m\u001b[0;34m(\u001b[0m\u001b[0mvalues\u001b[0m\u001b[0;34m,\u001b[0m \u001b[0mf\u001b[0m\u001b[0;34m,\u001b[0m \u001b[0mconvert\u001b[0m\u001b[0;34m=\u001b[0m\u001b[0mconvert_dtype\u001b[0m\u001b[0;34m)\u001b[0m\u001b[0;34m\u001b[0m\u001b[0;34m\u001b[0m\u001b[0m\n\u001b[0m\u001b[1;32m   4139\u001b[0m \u001b[0;34m\u001b[0m\u001b[0m\n\u001b[1;32m   4140\u001b[0m         \u001b[0;32mif\u001b[0m \u001b[0mlen\u001b[0m\u001b[0;34m(\u001b[0m\u001b[0mmapped\u001b[0m\u001b[0;34m)\u001b[0m \u001b[0;32mand\u001b[0m \u001b[0misinstance\u001b[0m\u001b[0;34m(\u001b[0m\u001b[0mmapped\u001b[0m\u001b[0;34m[\u001b[0m\u001b[0;36m0\u001b[0m\u001b[0;34m]\u001b[0m\u001b[0;34m,\u001b[0m \u001b[0mSeries\u001b[0m\u001b[0;34m)\u001b[0m\u001b[0;34m:\u001b[0m\u001b[0;34m\u001b[0m\u001b[0;34m\u001b[0m\u001b[0m\n",
      "\u001b[0;32mpandas/_libs/lib.pyx\u001b[0m in \u001b[0;36mpandas._libs.lib.map_infer\u001b[0;34m()\u001b[0m\n",
      "\u001b[0;32m/opt/conda/lib/python3.8/site-packages/pandas/core/series.py\u001b[0m in \u001b[0;36mf\u001b[0;34m(x)\u001b[0m\n\u001b[1;32m   4121\u001b[0m \u001b[0;34m\u001b[0m\u001b[0m\n\u001b[1;32m   4122\u001b[0m             \u001b[0;32mdef\u001b[0m \u001b[0mf\u001b[0m\u001b[0;34m(\u001b[0m\u001b[0mx\u001b[0m\u001b[0;34m)\u001b[0m\u001b[0;34m:\u001b[0m\u001b[0;34m\u001b[0m\u001b[0;34m\u001b[0m\u001b[0m\n\u001b[0;32m-> 4123\u001b[0;31m                 \u001b[0;32mreturn\u001b[0m \u001b[0mfunc\u001b[0m\u001b[0;34m(\u001b[0m\u001b[0mx\u001b[0m\u001b[0;34m,\u001b[0m \u001b[0;34m*\u001b[0m\u001b[0margs\u001b[0m\u001b[0;34m,\u001b[0m \u001b[0;34m**\u001b[0m\u001b[0mkwds\u001b[0m\u001b[0;34m)\u001b[0m\u001b[0;34m\u001b[0m\u001b[0;34m\u001b[0m\u001b[0m\n\u001b[0m\u001b[1;32m   4124\u001b[0m \u001b[0;34m\u001b[0m\u001b[0m\n\u001b[1;32m   4125\u001b[0m         \u001b[0;32melse\u001b[0m\u001b[0;34m:\u001b[0m\u001b[0;34m\u001b[0m\u001b[0;34m\u001b[0m\u001b[0m\n",
      "\u001b[0;32m/opt/conda/lib/python3.8/site-packages/little_mallet_wrapper/little_mallet_wrapper.py\u001b[0m in \u001b[0;36mprocess_string\u001b[0;34m(text, lowercase, remove_short_words, remove_stop_words, remove_punctuation, numbers, stop_words, stop_words_extra)\u001b[0m\n\u001b[1;32m     46\u001b[0m                    stop_words_extra=[]):\n\u001b[1;32m     47\u001b[0m     \u001b[0;32mif\u001b[0m \u001b[0mlowercase\u001b[0m\u001b[0;34m:\u001b[0m\u001b[0;34m\u001b[0m\u001b[0;34m\u001b[0m\u001b[0m\n\u001b[0;32m---> 48\u001b[0;31m         \u001b[0mtext\u001b[0m \u001b[0;34m=\u001b[0m \u001b[0mtext\u001b[0m\u001b[0;34m.\u001b[0m\u001b[0mlower\u001b[0m\u001b[0;34m(\u001b[0m\u001b[0;34m)\u001b[0m\u001b[0;34m\u001b[0m\u001b[0;34m\u001b[0m\u001b[0m\n\u001b[0m\u001b[1;32m     49\u001b[0m     \u001b[0;32mif\u001b[0m \u001b[0mnumbers\u001b[0m \u001b[0;34m==\u001b[0m \u001b[0;34m'replace'\u001b[0m\u001b[0;34m:\u001b[0m\u001b[0;34m\u001b[0m\u001b[0;34m\u001b[0m\u001b[0m\n\u001b[1;32m     50\u001b[0m         \u001b[0mtext\u001b[0m \u001b[0;34m=\u001b[0m \u001b[0mre\u001b[0m\u001b[0;34m.\u001b[0m\u001b[0msub\u001b[0m\u001b[0;34m(\u001b[0m\u001b[0;34m'[0-9]+'\u001b[0m\u001b[0;34m,\u001b[0m \u001b[0;34m'NUM'\u001b[0m\u001b[0;34m,\u001b[0m \u001b[0mtext\u001b[0m\u001b[0;34m)\u001b[0m\u001b[0;34m\u001b[0m\u001b[0;34m\u001b[0m\u001b[0m\n",
      "\u001b[0;31mAttributeError\u001b[0m: 'float' object has no attribute 'lower'"
     ]
    }
   ],
   "source": [
    "df['selftext'].apply(little_mallet_wrapper.process_string, args={'numbers':'remove'})"
   ]
  },
  {
   "cell_type": "markdown",
   "id": "7e582462",
   "metadata": {},
   "source": [
    "**Question:** Why did we get that error? \n",
    "\n",
    "<details>\n",
    "<summary>Hint</summary>\n",
    "    What *missing* value is stored as a float?  \n",
    "\n",
    "</details>"
   ]
  },
  {
   "cell_type": "code",
   "execution_count": null,
   "id": "a43c968d",
   "metadata": {},
   "outputs": [],
   "source": [
    "# skip"
   ]
  },
  {
   "cell_type": "code",
   "execution_count": null,
   "id": "17c206e4",
   "metadata": {},
   "outputs": [],
   "source": [
    "# skip"
   ]
  },
  {
   "cell_type": "code",
   "execution_count": 34,
   "id": "01179212",
   "metadata": {},
   "outputs": [
    {
     "data": {
      "text/plain": [
       "False    2832\n",
       "True        3\n",
       "Name: selftext, dtype: int64"
      ]
     },
     "execution_count": 34,
     "metadata": {},
     "output_type": "execute_result"
    }
   ],
   "source": [
    "df['selftext'].isna().value_counts()"
   ]
  },
  {
   "cell_type": "code",
   "execution_count": 38,
   "id": "e07ee0b0",
   "metadata": {},
   "outputs": [
    {
     "data": {
      "text/plain": [
       "'https://www.reddit.com/r/AmItheAsshole/comments/hul6ib/aita_for_telling_my_dil_that_she_is_stupid_if_she/'"
      ]
     },
     "execution_count": 38,
     "metadata": {},
     "output_type": "execute_result"
    }
   ],
   "source": [
    "df[df['selftext'].isna()]['url'].iloc[0]"
   ]
  },
  {
   "cell_type": "code",
   "execution_count": 40,
   "id": "0638e5b6",
   "metadata": {},
   "outputs": [
    {
     "data": {
      "text/plain": [
       "((2835, 10), 3)"
      ]
     },
     "execution_count": 40,
     "metadata": {},
     "output_type": "execute_result"
    }
   ],
   "source": [
    "df.shape, df['selftext'].isna().value_counts()[True]"
   ]
  },
  {
   "cell_type": "code",
   "execution_count": 41,
   "id": "c8a6dc94",
   "metadata": {},
   "outputs": [
    {
     "data": {
      "text/plain": [
       "(2832, 10)"
      ]
     },
     "execution_count": 41,
     "metadata": {},
     "output_type": "execute_result"
    }
   ],
   "source": [
    "df = df[df['selftext'].notna()]\n",
    "df.shape"
   ]
  },
  {
   "cell_type": "markdown",
   "id": "1073165d",
   "metadata": {},
   "source": [
    "Let's process our text now that we've removed NaNs"
   ]
  },
  {
   "cell_type": "code",
   "execution_count": 44,
   "id": "9c77e3cb",
   "metadata": {},
   "outputs": [
    {
     "data": {
      "text/html": [
       "<div>\n",
       "<style scoped>\n",
       "    .dataframe tbody tr th:only-of-type {\n",
       "        vertical-align: middle;\n",
       "    }\n",
       "\n",
       "    .dataframe tbody tr th {\n",
       "        vertical-align: top;\n",
       "    }\n",
       "\n",
       "    .dataframe thead th {\n",
       "        text-align: right;\n",
       "    }\n",
       "</style>\n",
       "<table border=\"1\" class=\"dataframe\">\n",
       "  <thead>\n",
       "    <tr style=\"text-align: right;\">\n",
       "      <th></th>\n",
       "      <th>selftext</th>\n",
       "      <th>training_data</th>\n",
       "    </tr>\n",
       "  </thead>\n",
       "  <tbody>\n",
       "    <tr>\n",
       "      <th>650</th>\n",
       "      <td>My gf wants to host a game night, but one of her friends has a newborn(4weeks old). The parents ...</td>\n",
       "      <td>wants host game night one friends newborn NUMweeks old parents want everyone flu shots bring kid...</td>\n",
       "    </tr>\n",
       "    <tr>\n",
       "      <th>1222</th>\n",
       "      <td>I've been with Hannah for 3 years. Last year she got evicted and had to move in with me, along w...</td>\n",
       "      <td>hannah NUM years last year got evicted move along son tron NUM time house greatest asset bought ...</td>\n",
       "    </tr>\n",
       "    <tr>\n",
       "      <th>722</th>\n",
       "      <td>My grandfather died and left me an inheritance, this was a surprise as not only was he not my bi...</td>\n",
       "      <td>grandfather died left inheritance surprise biological grandfather believe inheriting wealth huge...</td>\n",
       "    </tr>\n",
       "    <tr>\n",
       "      <th>149</th>\n",
       "      <td>AITA. I don’t want to take care of my husband anymore. \\n\\nMy husband has a herniated disc and a...</td>\n",
       "      <td>aita want take care husband anymore husband herniated disc bad knee pain often get multiple nerv...</td>\n",
       "    </tr>\n",
       "    <tr>\n",
       "      <th>2499</th>\n",
       "      <td>My oldest daughter turned 12 last month. For her birthday, she got her first cell phone from my ...</td>\n",
       "      <td>oldest daughter turned NUM last month birthday got first cell phone wife device budget smartphon...</td>\n",
       "    </tr>\n",
       "  </tbody>\n",
       "</table>\n",
       "</div>"
      ],
      "text/plain": [
       "                                                                                                 selftext  \\\n",
       "650   My gf wants to host a game night, but one of her friends has a newborn(4weeks old). The parents ...   \n",
       "1222  I've been with Hannah for 3 years. Last year she got evicted and had to move in with me, along w...   \n",
       "722   My grandfather died and left me an inheritance, this was a surprise as not only was he not my bi...   \n",
       "149   AITA. I don’t want to take care of my husband anymore. \\n\\nMy husband has a herniated disc and a...   \n",
       "2499  My oldest daughter turned 12 last month. For her birthday, she got her first cell phone from my ...   \n",
       "\n",
       "                                                                                            training_data  \n",
       "650   wants host game night one friends newborn NUMweeks old parents want everyone flu shots bring kid...  \n",
       "1222  hannah NUM years last year got evicted move along son tron NUM time house greatest asset bought ...  \n",
       "722   grandfather died left inheritance surprise biological grandfather believe inheriting wealth huge...  \n",
       "149   aita want take care husband anymore husband herniated disc bad knee pain often get multiple nerv...  \n",
       "2499  oldest daughter turned NUM last month birthday got first cell phone wife device budget smartphon...  "
      ]
     },
     "execution_count": 44,
     "metadata": {},
     "output_type": "execute_result"
    }
   ],
   "source": [
    "df = df.assign(training_data=df['selftext'].apply(little_mallet_wrapper.process_string, args={'numbers':'remove'}))\n",
    "df[['selftext', 'training_data']].sample(5)"
   ]
  },
  {
   "cell_type": "markdown",
   "id": "469ff9a4",
   "metadata": {},
   "source": [
    "**Question:** Why are we calling this cleaned data our ***training data***?\n",
    "\n",
    "<details>\n",
    "<summary>Answer</summary>\n",
    "    We are using this to train our topic model.\n",
    "    We will see this terminology come up again in Week 5 when we cover machine learning\n",
    "\n",
    "</details>"
   ]
  },
  {
   "cell_type": "markdown",
   "id": "6fc17c2b",
   "metadata": {},
   "source": [
    "**Question:** What Little Mallet Wrapper function can we use to quickly see statistics about our dataset?"
   ]
  },
  {
   "cell_type": "markdown",
   "id": "41eecbc5",
   "metadata": {},
   "source": [
    "<details>\n",
    "<summary>Solution</summary>\n",
    "   https://github.com/maria-antoniak/little-mallet-wrapper/blob/master/README.md#print_dataset_statstraining_data\n",
    "\n",
    "</details>"
   ]
  },
  {
   "cell_type": "code",
   "execution_count": 45,
   "id": "c92f9e56",
   "metadata": {},
   "outputs": [
    {
     "name": "stdout",
     "output_type": "stream",
     "text": [
      "Number of Documents: 2832\n",
      "Mean Number of Words per Document: 156.0\n",
      "Vocabulary Size: 19414\n"
     ]
    }
   ],
   "source": [
    "little_mallet_wrapper.print_dataset_stats(df['training_data'])"
   ]
  },
  {
   "cell_type": "markdown",
   "id": "4889c20b",
   "metadata": {},
   "source": [
    "### Applying a Topic Model\n",
    "\n",
    "#### Training\n",
    "\n",
    "https://github.com/maria-antoniak/little-mallet-wrapper/blob/master/README.md#quick_train_topic_modelpath_to_mallet-output_directory_path-num_topics-training_data"
   ]
  },
  {
   "cell_type": "code",
   "execution_count": 47,
   "id": "5b8269b0",
   "metadata": {},
   "outputs": [
    {
     "data": {
      "text/plain": [
       "15"
      ]
     },
     "execution_count": 47,
     "metadata": {},
     "output_type": "execute_result"
    }
   ],
   "source": [
    "num_topics = 15\n",
    "num_topics"
   ]
  },
  {
   "cell_type": "code",
   "execution_count": 49,
   "id": "51ba2d95",
   "metadata": {},
   "outputs": [
    {
     "name": "stdout",
     "output_type": "stream",
     "text": [
      "mkdir: cannot create directory ‘data/topic_modeling’: File exists\n"
     ]
    }
   ],
   "source": [
    "!mkdir data/topic_modeling"
   ]
  },
  {
   "cell_type": "code",
   "execution_count": 48,
   "id": "c49087d0",
   "metadata": {},
   "outputs": [
    {
     "name": "stdout",
     "output_type": "stream",
     "text": [
      "Importing data...\n",
      "Complete\n",
      "Training topic model...\n",
      "Complete\n",
      "CPU times: user 37.4 ms, sys: 8.19 ms, total: 45.6 ms\n",
      "Wall time: 50.8 s\n"
     ]
    }
   ],
   "source": [
    "%%time\n",
    "topic_words, topic_doc_distribution = little_mallet_wrapper.quick_train_topic_model(\"/opt/conda/bin/mallet\", \"data/topic_modeling\", 15, df['training_data'])"
   ]
  },
  {
   "cell_type": "markdown",
   "id": "b992be65",
   "metadata": {},
   "source": [
    "#### Looking at topics"
   ]
  },
  {
   "cell_type": "code",
   "execution_count": 50,
   "id": "df564683",
   "metadata": {},
   "outputs": [
    {
     "name": "stdout",
     "output_type": "stream",
     "text": [
      "✨Topic 0✨\n",
      "\n",
      "['wedding', 'hair', 'dress', 'would', 'wear', 'one', 'married', 'said', 'day', 'really', 'get', 'like', 'getting', 'want', 'ring', 'wearing', 'asked', 'didn', 'think', 'wanted']\n",
      "\n",
      "✨Topic 1✨\n",
      "\n",
      "['sister', 'mom', 'parents', 'dad', 'family', 'brother', 'NUM', 'told', 'years', 'mother', 'said', 'got', 'father', 'didn', 'like', 'life', 'ago', 'close', 'cousin', 'came']\n",
      "\n",
      "✨Topic 2✨\n",
      "\n",
      "['room', 'house', 'NUM', 'get', 'home', 'time', 'night', 'like', 'sleep', 'bed', 'live', 'door', 'stuff', 'work', 'doesn', 'living', 'bathroom', 'apartment', 'place', 'girlfriend']\n",
      "\n",
      "✨Topic 3✨\n",
      "\n",
      "['food', 'eat', 'dinner', 'make', 'like', 'eating', 'NUM', 'really', 'weight', 'vegan', 'something', 'cook', 'asked', 'get', 'meat', 'want', 'order', 'cooking', 'meal', 'home']\n",
      "\n",
      "✨Topic 4✨\n",
      "\n",
      "['work', 'job', 'time', 'people', 'day', 'office', 'one', 'working', 'company', 'new', 'said', 'lot', 'help', 'take', 'also', 'boss', 'really', 'could', 'coworkers', 'need']\n",
      "\n",
      "✨Topic 5✨\n",
      "\n",
      "['told', 'baby', 'got', 'get', 'said', 'dog', 'didn', 'could', 'back', 'home', 'take', 'mom', 'started', 'went', 'husband', 'would', 'getting', 'help', 'like', 'know']\n",
      "\n",
      "✨Topic 6✨\n",
      "\n",
      "['like', 'people', 'friends', 'friend', 'girl', 'one', 'well', 'lot', 'everyone', 'think', 'good', 'told', 'guys', 'girlfriend', 'started', 'saying', 'said', 'group', 'guy', 'girls']\n",
      "\n",
      "✨Topic 7✨\n",
      "\n",
      "['said', 'didn', 'told', 'asked', 'went', 'back', 'got', 'NUM', 'wasn', 'left', 'could', 'like', 'really', 'one', 'something', 'later', 'came', 'friend', 'thought', 'looked']\n",
      "\n",
      "✨Topic 8✨\n",
      "\n",
      "['really', 'told', 'like', 'said', 'know', 'name', 'want', 'boyfriend', 'didn', 'feel', 'never', 'asked', 'think', 'doesn', 'going', 'relationship', 'way', 'something', 'always', 'years']\n",
      "\n",
      "✨Topic 9✨\n",
      "\n",
      "['NUM', 'money', 'pay', 'would', 'get', 'since', 'paid', 'job', 'buy', 'time', 'paying', 'make', 'college', 'much', 'work', 'years', 'got', 'bought', 'car', 'house']\n",
      "\n",
      "✨Topic 10✨\n",
      "\n",
      "['would', 'family', 'NUM', 'time', 'one', 'things', 'two', 'could', 'never', 'even', 'also', 'know', 'feel', 'going', 'however', 'point', 'since', 'months', 'day', 'years']\n",
      "\n",
      "✨Topic 11✨\n",
      "\n",
      "['school', 'friends', 'NUM', 'party', 'one', 'birthday', 'told', 'year', 'would', 'get', 'didn', 'going', 'said', 'got', 'friend', 'like', 'day', 'last', 'high', 'know']\n",
      "\n",
      "✨Topic 12✨\n",
      "\n",
      "['NUM', 'get', 'car', 'around', 'back', 'minutes', 'says', 'kid', 'seat', 'tell', 'home', 'way', 'going', 'time', 'guy', 'say', 'next', 'front', 'sit', 'play']\n",
      "\n",
      "✨Topic 13✨\n",
      "\n",
      "['wife', 'NUM', 'kids', 'daughter', 'son', 'husband', 'child', 'year', 'old', 'children', 'years', 'want', 'kid', 'mother', 'wants', 'time', 'life', 'never', 'father', 'married']\n",
      "\n",
      "✨Topic 14✨\n",
      "\n",
      "['xNUMb', 'phone', 'post', 'found', 'sent', 'went', 'even', 'facebook', 'thought', 'call', 'account', 'NUM', 'never', 'see', 'called', 'days', 'pictures', 'ago', 'message', 'first']\n",
      "\n"
     ]
    }
   ],
   "source": [
    "for topic_number, topic in enumerate(topic_words):\n",
    "    print(f\"✨Topic {topic_number}✨\\n\\n{topic}\\n\")"
   ]
  },
  {
   "cell_type": "markdown",
   "id": "3473d31f",
   "metadata": {},
   "source": [
    "**Question:** Can we identify themes in these topics? Do these themes align with what we might think is discussed on r/AMITA?"
   ]
  },
  {
   "cell_type": "code",
   "execution_count": null,
   "id": "f552cecf",
   "metadata": {},
   "outputs": [],
   "source": []
  },
  {
   "cell_type": "markdown",
   "id": "5422d6fd",
   "metadata": {},
   "source": [
    "**Saved output**\n",
    "Let's look at what is saved in the output directory we specified"
   ]
  },
  {
   "cell_type": "markdown",
   "id": "00cf1a49",
   "metadata": {},
   "source": [
    "##### Loading saved topics\n",
    "\n",
    "*little_mallet_wrapper.load_topic_keys(path_to_topic_keys)*"
   ]
  },
  {
   "cell_type": "code",
   "execution_count": 51,
   "id": "c85ffd6b",
   "metadata": {},
   "outputs": [],
   "source": [
    "path_to_topic_keys = \"data/topic_modeling/mallet.topic_keys.15\"\n",
    "loaded_topics = little_mallet_wrapper.load_topic_keys(path_to_topic_keys)"
   ]
  },
  {
   "cell_type": "code",
   "execution_count": 52,
   "id": "391deab7",
   "metadata": {},
   "outputs": [
    {
     "data": {
      "text/plain": [
       "True"
      ]
     },
     "execution_count": 52,
     "metadata": {},
     "output_type": "execute_result"
    }
   ],
   "source": [
    "loaded_topics == topic_words"
   ]
  },
  {
   "cell_type": "markdown",
   "id": "6ec5e030",
   "metadata": {},
   "source": [
    "#### Topic Distribution in Documents"
   ]
  },
  {
   "cell_type": "markdown",
   "id": "ce0b1b02",
   "metadata": {},
   "source": [
    "**Question:** What does the next cell print out?"
   ]
  },
  {
   "cell_type": "code",
   "execution_count": 57,
   "id": "71be2016",
   "metadata": {},
   "outputs": [
    {
     "data": {
      "text/plain": [
       "0.9999999999999999"
      ]
     },
     "execution_count": 57,
     "metadata": {},
     "output_type": "execute_result"
    }
   ],
   "source": [
    "sum(topic_doc_distribution[0])"
   ]
  },
  {
   "cell_type": "code",
   "execution_count": 64,
   "id": "66041f48",
   "metadata": {},
   "outputs": [
    {
     "data": {
      "text/plain": [
       "{True}"
      ]
     },
     "execution_count": 64,
     "metadata": {},
     "output_type": "execute_result"
    }
   ],
   "source": [
    "set(np.isclose(np.array([sum(dist) for dist in topic_doc_distribution]), 1))"
   ]
  },
  {
   "cell_type": "code",
   "execution_count": 66,
   "id": "e7bfd494",
   "metadata": {},
   "outputs": [
    {
     "data": {
      "text/plain": [
       "[0.32130584192439865,\n",
       " 0.19243986254295534,\n",
       " 0.001718213058419244,\n",
       " 0.001718213058419244,\n",
       " 0.006872852233676976,\n",
       " 0.02233676975945017,\n",
       " 0.001718213058419244,\n",
       " 0.06357388316151202,\n",
       " 0.05326460481099657,\n",
       " 0.012027491408934709,\n",
       " 0.03264604810996563,\n",
       " 0.23367697594501718,\n",
       " 0.0429553264604811,\n",
       " 0.012027491408934709,\n",
       " 0.001718213058419244]"
      ]
     },
     "execution_count": 66,
     "metadata": {},
     "output_type": "execute_result"
    }
   ],
   "source": [
    "topic_doc_distribution[0]"
   ]
  },
  {
   "cell_type": "code",
   "execution_count": 55,
   "id": "a1dc5ce5",
   "metadata": {},
   "outputs": [
    {
     "data": {
      "text/plain": [
       "'My [27M] older sister [30F] and her fiancé [31M] were planning for over a year for their wedding to be this month. Obviously, they can’t have the wedding as planned, but they still would like to get married, so they decided on a “Zoom” wedding where all of the family/friends would just call in to watch the officiant, my sister, and her fiancé. \\n\\nMy sister didn’t want to be in charge of hosting the Zoom call because she thought it would stress her out, so she asked me to and I gladly accepted. \\n\\nShe and her fiancé decided to invite everyone they originally wanted to, and it was a very big list. When we were going over the list, my sister mentioned to me that she wanted everyone else to be muted for the majority of the wedding as she was worried that others would talk over her and her fiancé and quote “overshadow” them on their big day “that was already scaled down”. However, her and her fiancé said that I should unmute everyone at one point so everyone could talk and have a nice time with each other. \\n\\nFast-forward to the day of the wedding—everyone is muted during the ceremony which goes great, and so I then unmute everyone and ask to please raise a hand if they’d like to talk so it doesn’t get confusing. My cousin (around my age) starts waving his hand crazily, and he’s with his longtime girlfriend (also similar age I guess). He’s a very gregarious guy, so I was not surprised. Then, he says stuff like “(my sister) and (her husband) are such an inspiration, it’s given me the courage to do this....” then turns to his girlfriend and pulls out a box that is the size of an engagement ring box??\\n\\nI immediately saw this as him trying to steal the spotlight (something that he’s done since we were kids, ex: he would secretly mess up my sister and I’s drawings if the adults would praise ours) and booted him off of the call. Then I quickly announced that my cousin had technical difficulties and would not be joining again. Everyone else accepted this and went about talking, and my sister and her husband did too. \\n\\nThe rest of the wedding went smoothly—except for the fact that my cousin kept texting me angrily saying that he finally wanted to propose as a surprise with family all around and I ruined it. My aunt and uncle texted me the same. AITA??'"
      ]
     },
     "execution_count": 55,
     "metadata": {},
     "output_type": "execute_result"
    }
   ],
   "source": [
    "df.iloc[0].selftext"
   ]
  },
  {
   "cell_type": "code",
   "execution_count": 56,
   "id": "50b80c9b",
   "metadata": {},
   "outputs": [
    {
     "data": {
      "text/plain": [
       "['wedding',\n",
       " 'hair',\n",
       " 'dress',\n",
       " 'would',\n",
       " 'wear',\n",
       " 'one',\n",
       " 'married',\n",
       " 'said',\n",
       " 'day',\n",
       " 'really',\n",
       " 'get',\n",
       " 'like',\n",
       " 'getting',\n",
       " 'want',\n",
       " 'ring',\n",
       " 'wearing',\n",
       " 'asked',\n",
       " 'didn',\n",
       " 'think',\n",
       " 'wanted']"
      ]
     },
     "execution_count": 56,
     "metadata": {},
     "output_type": "execute_result"
    }
   ],
   "source": [
    "topic_words[0]"
   ]
  },
  {
   "cell_type": "code",
   "execution_count": 67,
   "id": "a67d055d",
   "metadata": {},
   "outputs": [
    {
     "data": {
      "text/plain": [
       "['school',\n",
       " 'friends',\n",
       " 'NUM',\n",
       " 'party',\n",
       " 'one',\n",
       " 'birthday',\n",
       " 'told',\n",
       " 'year',\n",
       " 'would',\n",
       " 'get',\n",
       " 'didn',\n",
       " 'going',\n",
       " 'said',\n",
       " 'got',\n",
       " 'friend',\n",
       " 'like',\n",
       " 'day',\n",
       " 'last',\n",
       " 'high',\n",
       " 'know']"
      ]
     },
     "execution_count": 67,
     "metadata": {},
     "output_type": "execute_result"
    }
   ],
   "source": [
    "topic_words[-4]"
   ]
  },
  {
   "cell_type": "markdown",
   "id": "3d3ecb27",
   "metadata": {},
   "source": [
    "<details>\n",
    "<summary>Solution</summary>\n",
    "   Distribution of topics in the first reddit post\n",
    "\n",
    "</details>"
   ]
  },
  {
   "cell_type": "code",
   "execution_count": null,
   "id": "3885d1d2",
   "metadata": {},
   "outputs": [],
   "source": [
    "df.iloc[11]"
   ]
  },
  {
   "cell_type": "code",
   "execution_count": null,
   "id": "63c2990f",
   "metadata": {},
   "outputs": [],
   "source": [
    "topic_doc_distribution[11]"
   ]
  },
  {
   "cell_type": "code",
   "execution_count": 68,
   "id": "a7770b65",
   "metadata": {},
   "outputs": [
    {
     "name": "stdout",
     "output_type": "stream",
     "text": [
      "Topic Distributions for [UPDATE] AITA For telling my ex-husband's soon to be ex-wife that I (and by extension my daughter) will have no relationship with her?\n",
      "\n",
      "✨Topic 0 ['wedding', 'hair', 'dress', 'would', 'wear', 'one', 'married', 'said', 'day', 'really'] ✨\n",
      "Probability: 0.012\n",
      "\n",
      "✨Topic 1 ['sister', 'mom', 'parents', 'dad', 'family', 'brother', 'NUM', 'told', 'years', 'mother'] ✨\n",
      "Probability: 0.128\n",
      "\n",
      "✨Topic 2 ['room', 'house', 'NUM', 'get', 'home', 'time', 'night', 'like', 'sleep', 'bed'] ✨\n",
      "Probability: 0.012\n",
      "\n",
      "✨Topic 3 ['food', 'eat', 'dinner', 'make', 'like', 'eating', 'NUM', 'really', 'weight', 'vegan'] ✨\n",
      "Probability: 0.002\n",
      "\n",
      "✨Topic 4 ['work', 'job', 'time', 'people', 'day', 'office', 'one', 'working', 'company', 'new'] ✨\n",
      "Probability: 0.037\n",
      "\n",
      "✨Topic 5 ['told', 'baby', 'got', 'get', 'said', 'dog', 'didn', 'could', 'back', 'home'] ✨\n",
      "Probability: 0.007\n",
      "\n",
      "✨Topic 6 ['like', 'people', 'friends', 'friend', 'girl', 'one', 'well', 'lot', 'everyone', 'think'] ✨\n",
      "Probability: 0.002\n",
      "\n",
      "✨Topic 7 ['said', 'didn', 'told', 'asked', 'went', 'back', 'got', 'NUM', 'wasn', 'left'] ✨\n",
      "Probability: 0.012\n",
      "\n",
      "✨Topic 8 ['really', 'told', 'like', 'said', 'know', 'name', 'want', 'boyfriend', 'didn', 'feel'] ✨\n",
      "Probability: 0.037\n",
      "\n",
      "✨Topic 9 ['NUM', 'money', 'pay', 'would', 'get', 'since', 'paid', 'job', 'buy', 'time'] ✨\n",
      "Probability: 0.007\n",
      "\n",
      "✨Topic 10 ['would', 'family', 'NUM', 'time', 'one', 'things', 'two', 'could', 'never', 'even'] ✨\n",
      "Probability: 0.239\n",
      "\n",
      "✨Topic 11 ['school', 'friends', 'NUM', 'party', 'one', 'birthday', 'told', 'year', 'would', 'get'] ✨\n",
      "Probability: 0.067\n",
      "\n",
      "✨Topic 12 ['NUM', 'get', 'car', 'around', 'back', 'minutes', 'says', 'kid', 'seat', 'tell'] ✨\n",
      "Probability: 0.007\n",
      "\n",
      "✨Topic 13 ['wife', 'NUM', 'kids', 'daughter', 'son', 'husband', 'child', 'year', 'old', 'children'] ✨\n",
      "Probability: 0.305\n",
      "\n",
      "✨Topic 14 ['xNUMb', 'phone', 'post', 'found', 'sent', 'went', 'even', 'facebook', 'thought', 'call'] ✨\n",
      "Probability: 0.128\n",
      "\n"
     ]
    }
   ],
   "source": [
    "print(f\"Topic Distributions for {df['title'].iloc[11]}\\n\")\n",
    "for topic_number, (topic, topic_distribution) in enumerate(zip(topic_words, topic_doc_distribution[11])):\n",
    "    print(f\"✨Topic {topic_number} {topic[:10]} ✨\\nProbability: {round(topic_distribution, 3)}\\n\")"
   ]
  },
  {
   "cell_type": "code",
   "execution_count": null,
   "id": "ab81c63c",
   "metadata": {},
   "outputs": [],
   "source": [
    "df['title']"
   ]
  },
  {
   "cell_type": "code",
   "execution_count": 69,
   "id": "8cc4d722",
   "metadata": {},
   "outputs": [
    {
     "name": "stdout",
     "output_type": "stream",
     "text": [
      "Topic Distributions for AITA for telling my step dad to stop trying to be my dad?\n",
      "\n",
      "✨Topic 0 ['wedding', 'hair', 'dress', 'would', 'wear', 'one', 'married', 'said', 'day', 'really'] ✨\n",
      "Probability: 0.003\n",
      "\n",
      "✨Topic 1 ['sister', 'mom', 'parents', 'dad', 'family', 'brother', 'NUM', 'told', 'years', 'mother'] ✨\n",
      "Probability: 0.318\n",
      "\n",
      "✨Topic 2 ['room', 'house', 'NUM', 'get', 'home', 'time', 'night', 'like', 'sleep', 'bed'] ✨\n",
      "Probability: 0.012\n",
      "\n",
      "✨Topic 3 ['food', 'eat', 'dinner', 'make', 'like', 'eating', 'NUM', 'really', 'weight', 'vegan'] ✨\n",
      "Probability: 0.003\n",
      "\n",
      "✨Topic 4 ['work', 'job', 'time', 'people', 'day', 'office', 'one', 'working', 'company', 'new'] ✨\n",
      "Probability: 0.003\n",
      "\n",
      "✨Topic 5 ['told', 'baby', 'got', 'get', 'said', 'dog', 'didn', 'could', 'back', 'home'] ✨\n",
      "Probability: 0.012\n",
      "\n",
      "✨Topic 6 ['like', 'people', 'friends', 'friend', 'girl', 'one', 'well', 'lot', 'everyone', 'think'] ✨\n",
      "Probability: 0.282\n",
      "\n",
      "✨Topic 7 ['said', 'didn', 'told', 'asked', 'went', 'back', 'got', 'NUM', 'wasn', 'left'] ✨\n",
      "Probability: 0.03\n",
      "\n",
      "✨Topic 8 ['really', 'told', 'like', 'said', 'know', 'name', 'want', 'boyfriend', 'didn', 'feel'] ✨\n",
      "Probability: 0.093\n",
      "\n",
      "✨Topic 9 ['NUM', 'money', 'pay', 'would', 'get', 'since', 'paid', 'job', 'buy', 'time'] ✨\n",
      "Probability: 0.003\n",
      "\n",
      "✨Topic 10 ['would', 'family', 'NUM', 'time', 'one', 'things', 'two', 'could', 'never', 'even'] ✨\n",
      "Probability: 0.093\n",
      "\n",
      "✨Topic 11 ['school', 'friends', 'NUM', 'party', 'one', 'birthday', 'told', 'year', 'would', 'get'] ✨\n",
      "Probability: 0.057\n",
      "\n",
      "✨Topic 12 ['NUM', 'get', 'car', 'around', 'back', 'minutes', 'says', 'kid', 'seat', 'tell'] ✨\n",
      "Probability: 0.012\n",
      "\n",
      "✨Topic 13 ['wife', 'NUM', 'kids', 'daughter', 'son', 'husband', 'child', 'year', 'old', 'children'] ✨\n",
      "Probability: 0.075\n",
      "\n",
      "✨Topic 14 ['xNUMb', 'phone', 'post', 'found', 'sent', 'went', 'even', 'facebook', 'thought', 'call'] ✨\n",
      "Probability: 0.003\n",
      "\n"
     ]
    }
   ],
   "source": [
    "print(f\"Topic Distributions for {df['title'].iloc[2]}\\n\")\n",
    "for topic_number, (topic, topic_distribution) in enumerate(zip(topic_words, topic_doc_distribution[2])):\n",
    "    print(f\"✨Topic {topic_number} {topic[:10]} ✨\\nProbability: {round(topic_distribution, 3)}\\n\")"
   ]
  },
  {
   "cell_type": "code",
   "execution_count": 70,
   "id": "3d680271",
   "metadata": {},
   "outputs": [
    {
     "data": {
      "text/html": [
       "<div>\n",
       "<style scoped>\n",
       "    .dataframe tbody tr th:only-of-type {\n",
       "        vertical-align: middle;\n",
       "    }\n",
       "\n",
       "    .dataframe tbody tr th {\n",
       "        vertical-align: top;\n",
       "    }\n",
       "\n",
       "    .dataframe thead th {\n",
       "        text-align: right;\n",
       "    }\n",
       "</style>\n",
       "<table border=\"1\" class=\"dataframe\">\n",
       "  <thead>\n",
       "    <tr style=\"text-align: right;\">\n",
       "      <th></th>\n",
       "      <th>0</th>\n",
       "      <th>1</th>\n",
       "      <th>2</th>\n",
       "      <th>3</th>\n",
       "      <th>4</th>\n",
       "      <th>5</th>\n",
       "      <th>6</th>\n",
       "      <th>7</th>\n",
       "      <th>8</th>\n",
       "      <th>9</th>\n",
       "      <th>10</th>\n",
       "      <th>11</th>\n",
       "      <th>12</th>\n",
       "      <th>13</th>\n",
       "      <th>14</th>\n",
       "    </tr>\n",
       "  </thead>\n",
       "  <tbody>\n",
       "    <tr>\n",
       "      <th>0</th>\n",
       "      <td>0.321306</td>\n",
       "      <td>0.192440</td>\n",
       "      <td>0.001718</td>\n",
       "      <td>0.001718</td>\n",
       "      <td>0.006873</td>\n",
       "      <td>0.022337</td>\n",
       "      <td>0.001718</td>\n",
       "      <td>0.063574</td>\n",
       "      <td>0.053265</td>\n",
       "      <td>0.012027</td>\n",
       "      <td>0.032646</td>\n",
       "      <td>0.233677</td>\n",
       "      <td>0.042955</td>\n",
       "      <td>0.012027</td>\n",
       "      <td>0.001718</td>\n",
       "    </tr>\n",
       "    <tr>\n",
       "      <th>1</th>\n",
       "      <td>0.001004</td>\n",
       "      <td>0.052209</td>\n",
       "      <td>0.016064</td>\n",
       "      <td>0.001004</td>\n",
       "      <td>0.019076</td>\n",
       "      <td>0.157631</td>\n",
       "      <td>0.019076</td>\n",
       "      <td>0.130522</td>\n",
       "      <td>0.085341</td>\n",
       "      <td>0.007028</td>\n",
       "      <td>0.100402</td>\n",
       "      <td>0.058233</td>\n",
       "      <td>0.229920</td>\n",
       "      <td>0.001004</td>\n",
       "      <td>0.121486</td>\n",
       "    </tr>\n",
       "    <tr>\n",
       "      <th>2</th>\n",
       "      <td>0.003003</td>\n",
       "      <td>0.318318</td>\n",
       "      <td>0.012012</td>\n",
       "      <td>0.003003</td>\n",
       "      <td>0.003003</td>\n",
       "      <td>0.012012</td>\n",
       "      <td>0.282282</td>\n",
       "      <td>0.030030</td>\n",
       "      <td>0.093093</td>\n",
       "      <td>0.003003</td>\n",
       "      <td>0.093093</td>\n",
       "      <td>0.057057</td>\n",
       "      <td>0.012012</td>\n",
       "      <td>0.075075</td>\n",
       "      <td>0.003003</td>\n",
       "    </tr>\n",
       "    <tr>\n",
       "      <th>3</th>\n",
       "      <td>0.251225</td>\n",
       "      <td>0.067402</td>\n",
       "      <td>0.026961</td>\n",
       "      <td>0.026961</td>\n",
       "      <td>0.001225</td>\n",
       "      <td>0.060049</td>\n",
       "      <td>0.004902</td>\n",
       "      <td>0.133578</td>\n",
       "      <td>0.004902</td>\n",
       "      <td>0.122549</td>\n",
       "      <td>0.078431</td>\n",
       "      <td>0.060049</td>\n",
       "      <td>0.060049</td>\n",
       "      <td>0.056373</td>\n",
       "      <td>0.045343</td>\n",
       "    </tr>\n",
       "    <tr>\n",
       "      <th>4</th>\n",
       "      <td>0.043590</td>\n",
       "      <td>0.051282</td>\n",
       "      <td>0.008974</td>\n",
       "      <td>0.005128</td>\n",
       "      <td>0.001282</td>\n",
       "      <td>0.051282</td>\n",
       "      <td>0.001282</td>\n",
       "      <td>0.001282</td>\n",
       "      <td>0.147436</td>\n",
       "      <td>0.032051</td>\n",
       "      <td>0.001282</td>\n",
       "      <td>0.155128</td>\n",
       "      <td>0.251282</td>\n",
       "      <td>0.212821</td>\n",
       "      <td>0.035897</td>\n",
       "    </tr>\n",
       "    <tr>\n",
       "      <th>...</th>\n",
       "      <td>...</td>\n",
       "      <td>...</td>\n",
       "      <td>...</td>\n",
       "      <td>...</td>\n",
       "      <td>...</td>\n",
       "      <td>...</td>\n",
       "      <td>...</td>\n",
       "      <td>...</td>\n",
       "      <td>...</td>\n",
       "      <td>...</td>\n",
       "      <td>...</td>\n",
       "      <td>...</td>\n",
       "      <td>...</td>\n",
       "      <td>...</td>\n",
       "      <td>...</td>\n",
       "    </tr>\n",
       "    <tr>\n",
       "      <th>2827</th>\n",
       "      <td>0.007752</td>\n",
       "      <td>0.054264</td>\n",
       "      <td>0.496124</td>\n",
       "      <td>0.007752</td>\n",
       "      <td>0.031008</td>\n",
       "      <td>0.007752</td>\n",
       "      <td>0.031008</td>\n",
       "      <td>0.007752</td>\n",
       "      <td>0.054264</td>\n",
       "      <td>0.007752</td>\n",
       "      <td>0.007752</td>\n",
       "      <td>0.007752</td>\n",
       "      <td>0.193798</td>\n",
       "      <td>0.077519</td>\n",
       "      <td>0.007752</td>\n",
       "    </tr>\n",
       "    <tr>\n",
       "      <th>2828</th>\n",
       "      <td>0.037356</td>\n",
       "      <td>0.002874</td>\n",
       "      <td>0.390805</td>\n",
       "      <td>0.002874</td>\n",
       "      <td>0.002874</td>\n",
       "      <td>0.201149</td>\n",
       "      <td>0.089080</td>\n",
       "      <td>0.158046</td>\n",
       "      <td>0.002874</td>\n",
       "      <td>0.002874</td>\n",
       "      <td>0.011494</td>\n",
       "      <td>0.002874</td>\n",
       "      <td>0.089080</td>\n",
       "      <td>0.002874</td>\n",
       "      <td>0.002874</td>\n",
       "    </tr>\n",
       "    <tr>\n",
       "      <th>2829</th>\n",
       "      <td>0.115677</td>\n",
       "      <td>0.001522</td>\n",
       "      <td>0.001522</td>\n",
       "      <td>0.001522</td>\n",
       "      <td>0.015221</td>\n",
       "      <td>0.006088</td>\n",
       "      <td>0.229833</td>\n",
       "      <td>0.024353</td>\n",
       "      <td>0.220700</td>\n",
       "      <td>0.019787</td>\n",
       "      <td>0.124810</td>\n",
       "      <td>0.010654</td>\n",
       "      <td>0.101979</td>\n",
       "      <td>0.120244</td>\n",
       "      <td>0.006088</td>\n",
       "    </tr>\n",
       "    <tr>\n",
       "      <th>2830</th>\n",
       "      <td>0.003704</td>\n",
       "      <td>0.014815</td>\n",
       "      <td>0.003704</td>\n",
       "      <td>0.414815</td>\n",
       "      <td>0.003704</td>\n",
       "      <td>0.003704</td>\n",
       "      <td>0.003704</td>\n",
       "      <td>0.270370</td>\n",
       "      <td>0.014815</td>\n",
       "      <td>0.025926</td>\n",
       "      <td>0.025926</td>\n",
       "      <td>0.014815</td>\n",
       "      <td>0.181481</td>\n",
       "      <td>0.003704</td>\n",
       "      <td>0.014815</td>\n",
       "    </tr>\n",
       "    <tr>\n",
       "      <th>2831</th>\n",
       "      <td>0.001938</td>\n",
       "      <td>0.001938</td>\n",
       "      <td>0.182171</td>\n",
       "      <td>0.007752</td>\n",
       "      <td>0.007752</td>\n",
       "      <td>0.153101</td>\n",
       "      <td>0.007752</td>\n",
       "      <td>0.013566</td>\n",
       "      <td>0.013566</td>\n",
       "      <td>0.019380</td>\n",
       "      <td>0.158915</td>\n",
       "      <td>0.007752</td>\n",
       "      <td>0.013566</td>\n",
       "      <td>0.094961</td>\n",
       "      <td>0.315891</td>\n",
       "    </tr>\n",
       "  </tbody>\n",
       "</table>\n",
       "<p>2832 rows × 15 columns</p>\n",
       "</div>"
      ],
      "text/plain": [
       "            0         1         2         3         4         5         6   \\\n",
       "0     0.321306  0.192440  0.001718  0.001718  0.006873  0.022337  0.001718   \n",
       "1     0.001004  0.052209  0.016064  0.001004  0.019076  0.157631  0.019076   \n",
       "2     0.003003  0.318318  0.012012  0.003003  0.003003  0.012012  0.282282   \n",
       "3     0.251225  0.067402  0.026961  0.026961  0.001225  0.060049  0.004902   \n",
       "4     0.043590  0.051282  0.008974  0.005128  0.001282  0.051282  0.001282   \n",
       "...        ...       ...       ...       ...       ...       ...       ...   \n",
       "2827  0.007752  0.054264  0.496124  0.007752  0.031008  0.007752  0.031008   \n",
       "2828  0.037356  0.002874  0.390805  0.002874  0.002874  0.201149  0.089080   \n",
       "2829  0.115677  0.001522  0.001522  0.001522  0.015221  0.006088  0.229833   \n",
       "2830  0.003704  0.014815  0.003704  0.414815  0.003704  0.003704  0.003704   \n",
       "2831  0.001938  0.001938  0.182171  0.007752  0.007752  0.153101  0.007752   \n",
       "\n",
       "            7         8         9         10        11        12        13  \\\n",
       "0     0.063574  0.053265  0.012027  0.032646  0.233677  0.042955  0.012027   \n",
       "1     0.130522  0.085341  0.007028  0.100402  0.058233  0.229920  0.001004   \n",
       "2     0.030030  0.093093  0.003003  0.093093  0.057057  0.012012  0.075075   \n",
       "3     0.133578  0.004902  0.122549  0.078431  0.060049  0.060049  0.056373   \n",
       "4     0.001282  0.147436  0.032051  0.001282  0.155128  0.251282  0.212821   \n",
       "...        ...       ...       ...       ...       ...       ...       ...   \n",
       "2827  0.007752  0.054264  0.007752  0.007752  0.007752  0.193798  0.077519   \n",
       "2828  0.158046  0.002874  0.002874  0.011494  0.002874  0.089080  0.002874   \n",
       "2829  0.024353  0.220700  0.019787  0.124810  0.010654  0.101979  0.120244   \n",
       "2830  0.270370  0.014815  0.025926  0.025926  0.014815  0.181481  0.003704   \n",
       "2831  0.013566  0.013566  0.019380  0.158915  0.007752  0.013566  0.094961   \n",
       "\n",
       "            14  \n",
       "0     0.001718  \n",
       "1     0.121486  \n",
       "2     0.003003  \n",
       "3     0.045343  \n",
       "4     0.035897  \n",
       "...        ...  \n",
       "2827  0.007752  \n",
       "2828  0.002874  \n",
       "2829  0.006088  \n",
       "2830  0.014815  \n",
       "2831  0.315891  \n",
       "\n",
       "[2832 rows x 15 columns]"
      ]
     },
     "execution_count": 70,
     "metadata": {},
     "output_type": "execute_result"
    }
   ],
   "source": [
    "pd.DataFrame(np.array(topic_doc_distribution))"
   ]
  },
  {
   "cell_type": "markdown",
   "id": "095a273f",
   "metadata": {},
   "source": [
    "##### Visualizing topic distrubtion via a heatmap\n",
    "\n",
    "https://github.com/maria-antoniak/little-mallet-wrapper/blob/master/README.md#plot_categories_by_topics_heatmaplabels-topic_distributions-topic_keys-output_pathnone-target_labelsnone-dimnone"
   ]
  },
  {
   "cell_type": "code",
   "execution_count": 71,
   "id": "3518e742",
   "metadata": {},
   "outputs": [
    {
     "data": {
      "text/plain": [
       "[\"AITA - I'm not interested in a relationship with my mom after what her husband said about me\",\n",
       " 'AITA for changing my \"unique\" name without telling my parents?',\n",
       " 'AITA for not introducing my partner to my daughter?',\n",
       " \"AITA for telling my wife I don't want her mother in the delivery room when our 1st child is born?\",\n",
       " \"AITA for refusing to apologize to my nephew for deleting videos he took of my (clothed) daughter's butt\",\n",
       " 'WIBTA if I report a guy from the dealership who texted me?']"
      ]
     },
     "execution_count": 71,
     "metadata": {},
     "output_type": "execute_result"
    }
   ],
   "source": [
    "np.random.seed(1236)\n",
    "target_labels = list(df['title'].sample(6))\n",
    "target_labels"
   ]
  },
  {
   "cell_type": "code",
   "execution_count": 72,
   "id": "c2c510f9",
   "metadata": {},
   "outputs": [
    {
     "data": {
      "image/png": "[encoded data removed]",
      "text/plain": [
       "<Figure size 1800x576 with 2 Axes>"
      ]
     },
     "metadata": {},
     "output_type": "display_data"
    }
   ],
   "source": [
    "little_mallet_wrapper.plot_categories_by_topics_heatmap(df['title'],\n",
    "                                      topic_doc_distribution,\n",
    "                                      topic_words, \n",
    "                                      'data/topic_modeling/categories_by_topics.pdf',\n",
    "                                      target_labels=target_labels,\n",
    "                                      dim= (25, 8)\n",
    "                                     )"
   ]
  },
  {
   "cell_type": "markdown",
   "id": "c4805270",
   "metadata": {},
   "source": [
    "##### Which documents are most about topic X?\n",
    "\n",
    "**Question:** Which Little Mallet Wrapper function do you think will get this for us?\n",
    "\n",
    "<details>\n",
    "<summary>Solution</summary>\n",
    "   https://github.com/maria-antoniak/little-mallet-wrapper/blob/master/README.md#get_top_docstraining_data-topic_distributions-topic_index-n5\n",
    "\n",
    "</details>\n"
   ]
  },
  {
   "cell_type": "code",
   "execution_count": 75,
   "id": "b0c519d9",
   "metadata": {},
   "outputs": [
    {
     "data": {
      "text/plain": [
       "1127"
      ]
     },
     "execution_count": 75,
     "metadata": {},
     "output_type": "execute_result"
    }
   ],
   "source": [
    "pd.DataFrame(np.array(topic_doc_distribution))[0].argmax()"
   ]
  },
  {
   "cell_type": "code",
   "execution_count": 80,
   "id": "f8576131",
   "metadata": {
    "tags": []
   },
   "outputs": [
    {
     "data": {
      "text/plain": [
       "[(0.6026936026936026,\n",
       "  'organising camping trip invited lot friends couple tents lend treated spots tents first come first serve weekend tents planned like big dome tent guy tent two guys sleeping room one big dome tent girl tent two girls sleeping room one julie little tent friend julie tent would sleeping alone could fit two snugly wanted sleep alone little tent tent sleeping alone could also fit two tightly friend jess wanted come bring boyfriend said room tents could sleep girls guys said get tent couple would weird boyfriend sleep two guys never met said treating tent spots first come first serve everyone already picked spots like julie get two person tents said julie bought tent since organising trip supplying almost everything took first dibs picked favorite tiny tent wanted julie share give one tents boyfriend one join big girl tent give tent said wanted tent two much could get cheap one walmart weekend didn want change tent arrangements told everyone weeks tent arrangements first come first serve jess told really inconsiderate acting like kid girls boys tents grown ups let couples sleep together said letting sleep together spots girls tent boys tent aita switching spots'),\n",
       " (0.570446735395189,\n",
       "  'know least one post like goes hbo pay alone granted access account friends college know huge got fans normally problem using account much want watch whatever want last week told one friends lives city sunday night bartender normally work sunday nights watch got would like get together watch said plans night maybe next week cool found grapevine huge got watch party place invited mutual friends including coworkers found even invited next week hbo account words according coworkers still using account never got invite explanation anything plans wbita kicking right party next week'),\n",
       " (0.5181023720349563,\n",
       "  'leader daughter girl scout troop girls rank juniors range age NUM NUM end school year camping trip setting everything afternoon help adults made sure girls stayed immediate area could see going try leave bounds exactly first two activities another break something one girls hear one NUM year olds call sasha yell ipod missing ipods allowed trips begin wasn sure would bring asked last saw girls etc one girls said seen one NUM year olds looking call megan said okay talked megan hadn seen okay sasha says needs find mom mad remind said bring electronics wasn responsible sasha friends tent shared NUM year olds megan included NUM year olds suddenly hear say sitting front mesh pocket megan backpack call megan swears didn would reason take starts crying know believe tell everyone need sit outside figure talk adults agreed story sounded weird finally asked talk megan privately swore didn steal upset get calm tell going okay trouble another adult stay read bit talk older girls earshot megan say true megan going home spending weekend girls look smug say clearly dishonest living girl scout law going boot troop got one girls looking upset knew gut feeling right suddenly whispering sasha asked said sasha idea get megan trouble many babies trip plans four NUM year olds wouldn worked sasha eventually owned called girls parents picked early told girls parents would participate events rest schoolyear last two weeks time new school year megan mom recently said megan wants come back year three girls involved weren know one isn wibta told two girls parents welcome back due behavior'),\n",
       " (0.43781094527363185,\n",
       "  'finals week tensions running high everywhere studying library group friends political science class friend complained class incredibly hard tough time girl studying heard like aren stem major even complaining haven hard class till taken calc NUM stem major either felt tired always told major isn hard anything especially since mentioned several times told shut fuck led crying friends started telling mean asshole'),\n",
       " (0.4121863799283154,\n",
       "  'NUM year old girl twins basically set get invited everywhere together etc every time friends party etc get birthday person combined present card days twin NUM twin NUM party day one twins present got said give birthday girl girl turned twin said present mum kind looked like sorry point second present didn say looked like wondering kind said presents girls mum like sorry birthday girl obviously thought two girls meant two presents hahahaha never problem wondering buying two presents one birthday person would proper etiquette aita getting one')]"
      ]
     },
     "execution_count": 80,
     "metadata": {},
     "output_type": "execute_result"
    }
   ],
   "source": [
    "little_mallet_wrapper.get_top_docs(df['training_data'], topic_doc_distribution, 11, n=5)"
   ]
  },
  {
   "cell_type": "code",
   "execution_count": 79,
   "id": "3d6c0cf6",
   "metadata": {},
   "outputs": [
    {
     "data": {
      "text/plain": [
       "['school',\n",
       " 'friends',\n",
       " 'NUM',\n",
       " 'party',\n",
       " 'one',\n",
       " 'birthday',\n",
       " 'told',\n",
       " 'year',\n",
       " 'would',\n",
       " 'get',\n",
       " 'didn',\n",
       " 'going',\n",
       " 'said',\n",
       " 'got',\n",
       " 'friend',\n",
       " 'like',\n",
       " 'day',\n",
       " 'last',\n",
       " 'high',\n",
       " 'know']"
      ]
     },
     "execution_count": 79,
     "metadata": {},
     "output_type": "execute_result"
    }
   ],
   "source": [
    "topic_words[11]"
   ]
  },
  {
   "cell_type": "code",
   "execution_count": 81,
   "id": "1bceb359",
   "metadata": {},
   "outputs": [],
   "source": [
    "training_data_reddit_titles = dict(zip(df['training_data'], df['title']))\n",
    "training_data_original_text = dict(zip(df['training_data'], df['selftext']))\n",
    "\n",
    "def display_top_titles_per_topic(topic_number=0, number_of_documents=5):\n",
    "    \n",
    "    print(f\"✨Topic {topic_number}✨\\n\\n{topic_words[topic_number]}\\n\")\n",
    "\n",
    "    for probability, document in little_mallet_wrapper.get_top_docs(df['training_data'], topic_doc_distribution, \n",
    "                                                                    topic_number, n=number_of_documents):\n",
    "        print(round(probability, 4), training_data_reddit_titles[document] + \"\\n\")\n",
    "    return\n",
    "\n"
   ]
  },
  {
   "cell_type": "code",
   "execution_count": 82,
   "id": "8b4ba02c",
   "metadata": {},
   "outputs": [
    {
     "name": "stdout",
     "output_type": "stream",
     "text": [
      "✨Topic 0✨\n",
      "\n",
      "['wedding', 'hair', 'dress', 'would', 'wear', 'one', 'married', 'said', 'day', 'really', 'get', 'like', 'getting', 'want', 'ring', 'wearing', 'asked', 'didn', 'think', 'wanted']\n",
      "\n",
      "0.578 AITA for asking my girlfriend to cover up her body hair (pubes) at a public pool?\n",
      "\n",
      "0.5733 AITA for not including a bridesmaid in photographs because she wore a suit?\n",
      "\n",
      "0.5471 AITA for giving my grandmother's ring to my daughter instead of my wife?\n",
      "\n",
      "0.5312 AITA? I wore an accessory ring to work knowing that my co-worker has the same ring for her engagement ring.\n",
      "\n",
      "0.5216 AITA for getting a tattoo before my brother's wedding?\n",
      "\n"
     ]
    }
   ],
   "source": [
    "display_top_titles_per_topic(topic_number=0, number_of_documents=5)"
   ]
  },
  {
   "cell_type": "code",
   "execution_count": 83,
   "id": "6d756dc0",
   "metadata": {},
   "outputs": [
    {
     "name": "stdout",
     "output_type": "stream",
     "text": [
      "✨Topic 11✨\n",
      "\n",
      "['school', 'friends', 'NUM', 'party', 'one', 'birthday', 'told', 'year', 'would', 'get', 'didn', 'going', 'said', 'got', 'friend', 'like', 'day', 'last', 'high', 'know']\n",
      "\n",
      "0.6027 AITA for not giving a couple who's going camping with me a tent for two? And asking them to sleep in the girls tent and boys tent?\n",
      "\n",
      "0.5704 WIBTA for cutting of my \"friends\" HBO access right before next week's Game of Thrones episode.\n",
      "\n",
      "0.5181 WIBTA if I kicked these girls out of the troop?\n",
      "\n",
      "0.4378 AITA for telling a STEM major to shut the fuck up?\n",
      "\n",
      "0.4122 AITA for buying a birthday girl one present from both my twin girls?\n",
      "\n"
     ]
    }
   ],
   "source": [
    "display_top_titles_per_topic(topic_number=11, number_of_documents=5)"
   ]
  },
  {
   "cell_type": "code",
   "execution_count": 86,
   "id": "feb2587c",
   "metadata": {},
   "outputs": [
    {
     "name": "stdout",
     "output_type": "stream",
     "text": [
      "✨Topic 2✨\n",
      "\n",
      "['room', 'house', 'NUM', 'get', 'home', 'time', 'night', 'like', 'sleep', 'bed', 'live', 'door', 'stuff', 'work', 'doesn', 'living', 'bathroom', 'apartment', 'place', 'girlfriend']\n",
      "\n",
      "0.7741 WIBTA if I told my roommate his girlfriend is getting too comfortable in our home?\n",
      "\n",
      "0.6558 WIBTA if I made my roommate hold her pee in?\n",
      "\n",
      "0.6487 AITA for leaving my sisters dirty underwear in a place her boyfriend could see?\n",
      "\n",
      "0.6308 WIBTA if I shut my bedroom door against my aunts wishes\n",
      "\n",
      "0.6237 AITA for telling my gf she’s not allowed to eat sugary snacks in our bed anymore?\n",
      "\n"
     ]
    }
   ],
   "source": [
    "display_top_titles_per_topic(topic_number=2, number_of_documents=5)"
   ]
  },
  {
   "cell_type": "code",
   "execution_count": null,
   "id": "6de1a90d",
   "metadata": {},
   "outputs": [],
   "source": []
  },
  {
   "cell_type": "markdown",
   "id": "57826359",
   "metadata": {},
   "source": [
    "#### Exploring Topics Words in Context\n",
    "\n",
    "Look at online textbook - https://melaniewalsh.github.io/Intro-Cultural-Analytics/Text-Analysis/Topic-Modeling-CSV.html#load-topic-distributions"
   ]
  },
  {
   "cell_type": "markdown",
   "id": "72d10222",
   "metadata": {},
   "source": [
    "#### Plot Topics Over Time\n",
    "\n",
    "Instead of plotting the sentiment of Trump's tweets over time, we can plot the prevelance of different topics over time.\n",
    "\n",
    "**In class discussion:** How could we plot the topics over time? What steps would we have to take?\n",
    "\n"
   ]
  },
  {
   "cell_type": "markdown",
   "id": "6ca20d49",
   "metadata": {},
   "source": [
    "Look at online textbook for an example: https://melaniewalsh.github.io/Intro-Cultural-Analytics/Text-Analysis/Topic-Modeling-Time-Series.html#plot-topics-over-time"
   ]
  },
  {
   "cell_type": "markdown",
   "id": "0f750a13",
   "metadata": {},
   "source": [
    "#### Progression of Topics During a Narrative\n",
    "\n",
    "Which Little Mallet Wrapper function does that for us?\n",
    "\n",
    "\n",
    "<details>\n",
    "<summary>Solution</summary>\n",
    "  https://github.com/maria-antoniak/little-mallet-wrapper/blob/master/README.md#plot_topics_over_timetopic_distributions-topic_keys-times-topic_index-output_pathnone\n",
    "    \n",
    "    <br><br>\n",
    "    <i>little_mallet_wrapper.plot_topics_over_time(topic_distributions, topic_keys, times, topic_index, output_path=None)</i>\n",
    "\n",
    "    \n",
    "    <br><br>\n",
    "    This requires us first segmenting each post into chunks.\n",
    "</details>"
   ]
  },
  {
   "cell_type": "markdown",
   "id": "dbf252cd",
   "metadata": {},
   "source": [
    "**Question:** Let's do this together"
   ]
  },
  {
   "cell_type": "code",
   "execution_count": null,
   "id": "aef2843b",
   "metadata": {},
   "outputs": [],
   "source": []
  }
 ],
 "metadata": {
  "kernelspec": {
   "display_name": "Python 3",
   "language": "python",
   "name": "python3"
  },
  "language_info": {
   "codemirror_mode": {
    "name": "ipython",
    "version": 3
   },
   "file_extension": ".py",
   "mimetype": "text/x-python",
   "name": "python",
   "nbconvert_exporter": "python",
   "pygments_lexer": "ipython3",
   "version": "3.8.8"
  }
 },
 "nbformat": 4,
 "nbformat_minor": 5
}
