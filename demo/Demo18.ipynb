{
 "cells": [
  {
   "cell_type": "markdown",
   "id": "d5b06802",
   "metadata": {},
   "source": [
    "# Demo 18"
   ]
  },
  {
   "cell_type": "code",
   "execution_count": null,
   "id": "a62945e8",
   "metadata": {},
   "outputs": [],
   "source": [
    "import pandas as pd\n",
    "import sklearn\n",
    "import numpy as np\n",
    "\n",
    "import matplotlib.pyplot as plt"
   ]
  },
  {
   "cell_type": "markdown",
   "id": "479b20be",
   "metadata": {},
   "source": [
    "## Hyperparameter Tuning\n",
    "\n",
    "### Dataset\n",
    "\n",
    "We will use data from [Victorian Era Authorship Attribution Data Set](https://archive.ics.uci.edu/ml/datasets/Victorian+Era+Authorship+Attribution#)"
   ]
  },
  {
   "cell_type": "markdown",
   "id": "66210e75",
   "metadata": {},
   "source": [
    "**Instructions:**\n",
    "\n",
    "- Open up a terminal\n",
    "- `cd` into `data/`\n",
    "- make a new directory for victorian author id\n",
    "- wget https://archive.ics.uci.edu/ml/machine-learning-databases/00454/dataset.zip\n",
    "- unzip the dataset"
   ]
  },
  {
   "cell_type": "code",
   "execution_count": null,
   "id": "075cd9e2",
   "metadata": {},
   "outputs": [],
   "source": [
    "df = pd.read_csv(\"data/victorian_author_id/dataset/Gungor_2018_VictorianAuthorAttribution_data-train.csv\")\n",
    "df.shape"
   ]
  },
  {
   "cell_type": "code",
   "execution_count": null,
   "id": "40bffa7a",
   "metadata": {},
   "outputs": [],
   "source": [
    "df.keys()"
   ]
  },
  {
   "cell_type": "code",
   "execution_count": null,
   "id": "feec31aa",
   "metadata": {},
   "outputs": [],
   "source": [
    "len(df['author'].unique())"
   ]
  },
  {
   "cell_type": "code",
   "execution_count": null,
   "id": "a3d08185",
   "metadata": {},
   "outputs": [],
   "source": [
    "df['author'].value_counts()"
   ]
  },
  {
   "cell_type": "markdown",
   "id": "651efadb",
   "metadata": {},
   "source": [
    "Its a good idea to check if there are duplicates"
   ]
  },
  {
   "cell_type": "code",
   "execution_count": null,
   "id": "4a0a7e07",
   "metadata": {},
   "outputs": [],
   "source": [
    "df['text'].drop_duplicates().shape"
   ]
  },
  {
   "cell_type": "markdown",
   "id": "e18a7966",
   "metadata": {},
   "source": [
    "Let's just look at the 5 most frequent authors"
   ]
  },
  {
   "cell_type": "code",
   "execution_count": null,
   "id": "5b432b8a",
   "metadata": {},
   "outputs": [],
   "source": [
    "top4_authors = df['author'].value_counts()[:5].index\n",
    "top4_authors"
   ]
  },
  {
   "cell_type": "code",
   "execution_count": null,
   "id": "5dfce7f9",
   "metadata": {},
   "outputs": [],
   "source": [
    "df[df['author'].map(lambda x: x in top4_authors)]"
   ]
  },
  {
   "cell_type": "code",
   "execution_count": null,
   "id": "fb716c1b",
   "metadata": {},
   "outputs": [],
   "source": [
    "df = df[df['author'].map(lambda x: x in top4_authors)]\n",
    "df.shape"
   ]
  },
  {
   "cell_type": "markdown",
   "id": "a381d223",
   "metadata": {},
   "source": [
    "#### Partitioning dataset\n",
    "\n",
    "Let's make train, dev, and test splits that are 80:10:10"
   ]
  },
  {
   "cell_type": "markdown",
   "id": "6f934761",
   "metadata": {},
   "source": [
    "First shuffle the dataset"
   ]
  },
  {
   "cell_type": "code",
   "execution_count": null,
   "id": "9fb77f13",
   "metadata": {},
   "outputs": [],
   "source": [
    "df.sample(frac=1)"
   ]
  },
  {
   "cell_type": "code",
   "execution_count": null,
   "id": "279e393e",
   "metadata": {},
   "outputs": [],
   "source": [
    "df = df.sample(frac=1)\n",
    "df.head(5)"
   ]
  },
  {
   "cell_type": "markdown",
   "id": "cf6c870a",
   "metadata": {},
   "source": [
    "Now split our data into appropriate partitions for training and testing"
   ]
  },
  {
   "cell_type": "code",
   "execution_count": null,
   "id": "7b0c7bf1",
   "metadata": {},
   "outputs": [],
   "source": [
    "train_max_idx = int(df.shape[0] * .8)\n",
    "dev_max_idx = int((df.shape[0] * .1) + train_max_idx)\n",
    "\n",
    "\n",
    "train_max_idx, dev_max_idx"
   ]
  },
  {
   "cell_type": "code",
   "execution_count": null,
   "id": "35706794",
   "metadata": {},
   "outputs": [],
   "source": [
    "train_df = df.iloc[:train_max_idx]\n",
    "dev_df = df.iloc[train_max_idx:dev_max_idx]\n",
    "test_df = df.iloc[dev_max_idx:]\n",
    "\n",
    "train_df.shape, dev_df.shape, test_df.shape"
   ]
  },
  {
   "cell_type": "markdown",
   "id": "a700f358",
   "metadata": {},
   "source": [
    "### Train a model"
   ]
  },
  {
   "cell_type": "code",
   "execution_count": null,
   "id": "fb37ea15",
   "metadata": {},
   "outputs": [],
   "source": [
    "from sklearn.naive_bayes import MultinomialNB\n",
    "\n",
    "nb_model = MultinomialNB()"
   ]
  },
  {
   "cell_type": "code",
   "execution_count": null,
   "id": "b835e64f",
   "metadata": {},
   "outputs": [],
   "source": [
    "from sklearn.feature_extraction.text import CountVectorizer\n",
    "vectorizer = CountVectorizer()"
   ]
  },
  {
   "cell_type": "code",
   "execution_count": null,
   "id": "a858a1bc",
   "metadata": {},
   "outputs": [],
   "source": [
    "%%time\n",
    "\n",
    "vectorizer.fit(train_df['text'])"
   ]
  },
  {
   "cell_type": "code",
   "execution_count": null,
   "id": "ffd7c577",
   "metadata": {},
   "outputs": [],
   "source": [
    "X_train = vectorizer.transform(train_df['text'])\n",
    "X_dev = vectorizer.transform(dev_df['text'])\n",
    "# X_test = vectorizer.transform(test_df['text'])"
   ]
  },
  {
   "cell_type": "code",
   "execution_count": null,
   "id": "b6d0b030",
   "metadata": {},
   "outputs": [],
   "source": [
    "%%time \n",
    "\n",
    "nb_model.fit(X_train, train_df['author'])"
   ]
  },
  {
   "cell_type": "code",
   "execution_count": null,
   "id": "ba150c39",
   "metadata": {},
   "outputs": [],
   "source": [
    "nb_model.score(X_train, train_df['author'])"
   ]
  },
  {
   "cell_type": "code",
   "execution_count": null,
   "id": "c6d63b16",
   "metadata": {},
   "outputs": [],
   "source": [
    "nb_model.score(X_dev, dev_df['author'])"
   ]
  },
  {
   "cell_type": "markdown",
   "id": "a993986d",
   "metadata": {},
   "source": [
    "#### Let's modify the value for smoothing\n",
    "\n",
    "By default, Laplacian smoothing (add-one) is used. But lets change the value and see what happens"
   ]
  },
  {
   "cell_type": "code",
   "execution_count": null,
   "id": "9db444db",
   "metadata": {},
   "outputs": [],
   "source": [
    "nb_model = MultinomialNB(alpha=10)\n",
    "nb_model"
   ]
  },
  {
   "cell_type": "code",
   "execution_count": null,
   "id": "b84c550f",
   "metadata": {},
   "outputs": [],
   "source": [
    "%%time \n",
    "\n",
    "nb_model.fit(X_train, train_df['author'])"
   ]
  },
  {
   "cell_type": "code",
   "execution_count": null,
   "id": "5f235f77",
   "metadata": {},
   "outputs": [],
   "source": [
    "nb_model.score(X_train, train_df['author'])"
   ]
  },
  {
   "cell_type": "code",
   "execution_count": null,
   "id": "2b746b92",
   "metadata": {},
   "outputs": [],
   "source": [
    "nb_model.score(X_dev, dev_df['author'])"
   ]
  },
  {
   "cell_type": "markdown",
   "id": "baca17cb",
   "metadata": {},
   "source": [
    "**Question:** Was add-10 smoothing better than add-one?"
   ]
  },
  {
   "cell_type": "code",
   "execution_count": null,
   "id": "937b7800",
   "metadata": {},
   "outputs": [],
   "source": []
  },
  {
   "cell_type": "markdown",
   "id": "48b5dacd",
   "metadata": {},
   "source": [
    "Let's look at add-two smoothing"
   ]
  },
  {
   "cell_type": "code",
   "execution_count": null,
   "id": "93649606",
   "metadata": {},
   "outputs": [],
   "source": [
    "nb_model = MultinomialNB(alpha=2)\n",
    "nb_model.fit(X_train, train_df['author'])\n",
    "nb_model.score(X_train, train_df['author']), nb_model.score(X_dev, dev_df['author'])"
   ]
  },
  {
   "cell_type": "markdown",
   "id": "7eca6f9a",
   "metadata": {},
   "source": [
    "Let's look at no smoothing"
   ]
  },
  {
   "cell_type": "code",
   "execution_count": null,
   "id": "d61f7920",
   "metadata": {},
   "outputs": [],
   "source": [
    "nb_model = MultinomialNB(alpha=0)\n",
    "nb_model.fit(X_train, train_df['author'])\n",
    "nb_model.score(X_train, train_df['author']), nb_model.score(X_dev, dev_df['author'])"
   ]
  },
  {
   "cell_type": "markdown",
   "id": "4957116e",
   "metadata": {},
   "source": [
    "Let's loop through lots of values and see differences in accuracy"
   ]
  },
  {
   "cell_type": "code",
   "execution_count": null,
   "id": "21c40a81",
   "metadata": {},
   "outputs": [],
   "source": [
    "from tqdm import tqdm\n",
    "\n",
    "smoothing_values = np.arange(0,15, 0.5)\n",
    "train_accuracy, dev_accuracy = [], []\n",
    "\n",
    "for smoothing_value in tqdm(smoothing_values):\n",
    "    nb_model = MultinomialNB(alpha=smoothing_value)\n",
    "    nb_model.fit(X_train, train_df['author'])\n",
    "    train_accuracy.append(nb_model.score(X_train, train_df['author']))\n",
    "    dev_accuracy.append(nb_model.score(X_dev, dev_df['author']))\n",
    "    \n",
    "results_df = pd.DataFrame({'alpha': smoothing_values, \n",
    "              'train_accuracy': train_accuracy,\n",
    "             'dev_accuracy': dev_accuracy})"
   ]
  },
  {
   "cell_type": "code",
   "execution_count": null,
   "id": "2e16d13f",
   "metadata": {},
   "outputs": [],
   "source": [
    "results_df"
   ]
  },
  {
   "cell_type": "code",
   "execution_count": null,
   "id": "de3761b0",
   "metadata": {},
   "outputs": [],
   "source": [
    "results_df.plot(kind='line', x='alpha')"
   ]
  },
  {
   "cell_type": "markdown",
   "id": "292db5aa",
   "metadata": {},
   "source": [
    "**Question:** From the above, which value of smoothing seemd to work the best?"
   ]
  },
  {
   "cell_type": "code",
   "execution_count": null,
   "id": "0c752b6c",
   "metadata": {},
   "outputs": [],
   "source": [
    "results_df['dev_accuracy'].argmax()"
   ]
  },
  {
   "cell_type": "markdown",
   "id": "d5c0daca",
   "metadata": {},
   "source": [
    "So now we will use that value for the model we apply to our held-out test data"
   ]
  },
  {
   "cell_type": "code",
   "execution_count": null,
   "id": "19a29c98",
   "metadata": {},
   "outputs": [],
   "source": [
    "best_alpha = results_df.loc[results_df['dev_accuracy'].argmax()]['alpha']\n",
    "best_alpha"
   ]
  },
  {
   "cell_type": "code",
   "execution_count": null,
   "id": "3f3e784c",
   "metadata": {},
   "outputs": [],
   "source": [
    "nb_model = MultinomialNB(alpha=best_alpha)\n",
    "nb_model.fit(X_train, train_df['author'])\n",
    "\n",
    "X_test = vectorizer.transform(test_df['text'])\n",
    "\n",
    "nb_model.score(X_test, test_df['author'])"
   ]
  },
  {
   "cell_type": "markdown",
   "id": "15eb0508",
   "metadata": {},
   "source": [
    "(back to slides)\n",
    "\n",
    "## Metrics beyond accuracy"
   ]
  },
  {
   "cell_type": "code",
   "execution_count": null,
   "id": "0c60ff76",
   "metadata": {},
   "outputs": [],
   "source": [
    "import nltk\n",
    "moview_reviews = nltk.corpus.movie_reviews\n",
    "review_files = [(file_id, file_id.startswith(\"pos\")) for file_id in moview_reviews.fileids()]\n",
    "\n",
    "df = pd.DataFrame(review_files)\n",
    "df = df.rename(columns={0: \"file_name\", 1: \"gold-label\"})\n",
    "\n",
    "def read_mov_review(f_name):\n",
    "    return moview_reviews.open(f_name).read()\n",
    "\n",
    "df['review_text'] = df['file_name'].apply(read_mov_review)"
   ]
  },
  {
   "cell_type": "code",
   "execution_count": null,
   "id": "d26357dc",
   "metadata": {},
   "outputs": [],
   "source": [
    "df[df['gold-label'] == False].sample(1000 - 150).index"
   ]
  },
  {
   "cell_type": "code",
   "execution_count": null,
   "id": "9d661ef9",
   "metadata": {},
   "outputs": [],
   "source": [
    "df.drop(index= df[df['gold-label'] == False].sample(1000 - 150).index)"
   ]
  },
  {
   "cell_type": "code",
   "execution_count": null,
   "id": "ebf34da4",
   "metadata": {},
   "outputs": [],
   "source": [
    "tmp_df = df.drop(index= df[df['gold-label'] == False].sample(1000 - 150).index)"
   ]
  },
  {
   "cell_type": "code",
   "execution_count": null,
   "id": "0ca18942",
   "metadata": {},
   "outputs": [],
   "source": [
    "tmp_df = tmp_df.sample(frac=1)"
   ]
  },
  {
   "cell_type": "code",
   "execution_count": null,
   "id": "1ca99853",
   "metadata": {},
   "outputs": [],
   "source": [
    "#tmp_df['drugName'].value_counts(normalize=True)\n",
    "tmp_df['gold-label'].value_counts(normalize=True)"
   ]
  },
  {
   "cell_type": "code",
   "execution_count": null,
   "id": "152a77cc",
   "metadata": {},
   "outputs": [],
   "source": [
    "train_max_idx = int(tmp_df.shape[0] * .8)\n",
    "dev_max_idx = int((tmp_df.shape[0] * .1) + train_max_idx)\n",
    "\n",
    "\n",
    "train_max_idx, dev_max_idx\n",
    "\n",
    "train_df = tmp_df.iloc[:train_max_idx]\n",
    "dev_df = tmp_df.iloc[train_max_idx:dev_max_idx]\n",
    "test_df = tmp_df.iloc[dev_max_idx:]\n",
    "\n",
    "train_df.shape, dev_df.shape, test_df.shape"
   ]
  },
  {
   "cell_type": "code",
   "execution_count": null,
   "id": "2a40534e",
   "metadata": {},
   "outputs": [],
   "source": [
    "vectorizer = CountVectorizer(min_df=10)\n",
    "vectorizer.fit(train_df['review_text'])\n",
    "\n",
    "X_train = vectorizer.transform(train_df['review_text'])\n",
    "X_dev = vectorizer.transform(dev_df['review_text'])"
   ]
  },
  {
   "cell_type": "code",
   "execution_count": null,
   "id": "f9657efa",
   "metadata": {},
   "outputs": [],
   "source": [
    "from sklearn.linear_model import LogisticRegression\n",
    "from sklearn.neural_network import MLPClassifier\n",
    "\n",
    "clf = LogisticRegression(max_iter=1e3, C=100)\n",
    "#clf = MLPClassifier(hidden_layer_sizes=10)\n",
    "clf.fit(X_train, train_df['gold-label'])\n",
    "\n",
    "clf.score(X_train, train_df['gold-label']), clf.score(X_dev, dev_df['gold-label'])"
   ]
  },
  {
   "cell_type": "markdown",
   "id": "624f9ceb",
   "metadata": {},
   "source": [
    "**Question:** What might be misleading about the dev accuracy?\n",
    "\n",
    "<details>\n",
    "<summary>Hint</summary>\n",
    "    Think about value_counts from above\n",
    "</details>"
   ]
  },
  {
   "cell_type": "code",
   "execution_count": null,
   "id": "f2c7bb5c",
   "metadata": {},
   "outputs": [],
   "source": []
  },
  {
   "cell_type": "code",
   "execution_count": null,
   "id": "9b611933",
   "metadata": {},
   "outputs": [],
   "source": []
  },
  {
   "cell_type": "code",
   "execution_count": null,
   "id": "529736e8",
   "metadata": {},
   "outputs": [],
   "source": [
    "dev_df['gold-label'].value_counts(normalize=True)"
   ]
  },
  {
   "cell_type": "code",
   "execution_count": null,
   "id": "fb9cb502",
   "metadata": {},
   "outputs": [],
   "source": [
    "clf.predict(X_dev)"
   ]
  },
  {
   "cell_type": "code",
   "execution_count": null,
   "id": "71e4d57d",
   "metadata": {},
   "outputs": [],
   "source": [
    "pd.Series(clf.predict(X_dev)).value_counts()"
   ]
  },
  {
   "cell_type": "code",
   "execution_count": null,
   "id": "965b76fd",
   "metadata": {},
   "outputs": [],
   "source": [
    "dev_df = dev_df.assign(prediction = clf.predict(X_dev))"
   ]
  },
  {
   "cell_type": "code",
   "execution_count": null,
   "id": "49ae5ba0",
   "metadata": {},
   "outputs": [],
   "source": [
    "dev_df"
   ]
  },
  {
   "cell_type": "code",
   "execution_count": null,
   "id": "5e6eddeb",
   "metadata": {},
   "outputs": [],
   "source": [
    "sklearn.metrics.confusion_matrix(dev_df['prediction'], dev_df['gold-label'])"
   ]
  },
  {
   "cell_type": "code",
   "execution_count": null,
   "id": "0d9ccae2",
   "metadata": {},
   "outputs": [],
   "source": [
    "sklearn.metrics.precision_score(dev_df['prediction'], dev_df['gold-label'])"
   ]
  },
  {
   "cell_type": "code",
   "execution_count": null,
   "id": "e253b238",
   "metadata": {},
   "outputs": [],
   "source": [
    "sklearn.metrics.recall_score(dev_df['prediction'], dev_df['gold-label'])"
   ]
  },
  {
   "cell_type": "code",
   "execution_count": null,
   "id": "e9087747",
   "metadata": {},
   "outputs": [],
   "source": [
    "sklearn.metrics.f1_score(dev_df['prediction'], dev_df['gold-label'])"
   ]
  },
  {
   "cell_type": "markdown",
   "id": "6c04b10d",
   "metadata": {},
   "source": [
    "(back to slides)\n"
   ]
  },
  {
   "cell_type": "markdown",
   "id": "ab269ccb",
   "metadata": {},
   "source": [
    "## K-Means walkthrough\n",
    "\n",
    "Example comes from https://stackoverflow.com/questions/65449241/plotting-the-kmeans-cluster-centers-for-every-iteration-in-python.\n",
    "\n",
    "I'd recommend going through this [blog post](https://towardsdatascience.com/k-means-clustering-with-scikit-learn-6b47a369a83c)"
   ]
  },
  {
   "cell_type": "markdown",
   "id": "57446abd",
   "metadata": {},
   "source": [
    "## Dataset - Obits from HW02\n",
    "\n",
    "Now lets look at using kmeans to cluster documents"
   ]
  },
  {
   "cell_type": "markdown",
   "id": "d32422be",
   "metadata": {},
   "source": [
    "Load in data. This takes a little while."
   ]
  },
  {
   "cell_type": "code",
   "execution_count": null,
   "id": "5defa321",
   "metadata": {},
   "outputs": [],
   "source": [
    "df = pd.read_csv(\"data/tfidf_hw02.csv.gz\", compression=\"gzip\")\n",
    "df.shape"
   ]
  },
  {
   "cell_type": "code",
   "execution_count": null,
   "id": "ec5f7685",
   "metadata": {},
   "outputs": [],
   "source": [
    "df.index"
   ]
  },
  {
   "cell_type": "code",
   "execution_count": null,
   "id": "112e8770",
   "metadata": {},
   "outputs": [],
   "source": [
    "df.head(5)"
   ]
  },
  {
   "cell_type": "code",
   "execution_count": null,
   "id": "27975ae8",
   "metadata": {},
   "outputs": [],
   "source": [
    "df.index = df['subject']\n",
    "df"
   ]
  },
  {
   "cell_type": "code",
   "execution_count": null,
   "id": "13c7bf5f",
   "metadata": {},
   "outputs": [],
   "source": [
    "df = df.drop(columns=['subject'])\n",
    "df"
   ]
  },
  {
   "cell_type": "markdown",
   "id": "cd09b80d",
   "metadata": {},
   "source": [
    "Let's store the dataframe in a new numpy array called X"
   ]
  },
  {
   "cell_type": "code",
   "execution_count": null,
   "id": "626d2c09",
   "metadata": {},
   "outputs": [],
   "source": [
    "X = df.to_numpy()\n",
    "X.shape"
   ]
  },
  {
   "cell_type": "markdown",
   "id": "77665316",
   "metadata": {},
   "source": [
    "## Clustering"
   ]
  },
  {
   "cell_type": "markdown",
   "id": "6b453bca",
   "metadata": {},
   "source": [
    "Different clustering methods implemented in sklearn:\n",
    "https://scikit-learn.org/stable/modules/clustering.html"
   ]
  },
  {
   "cell_type": "code",
   "execution_count": null,
   "id": "e327b38f",
   "metadata": {},
   "outputs": [],
   "source": [
    "from sklearn.cluster import KMeans"
   ]
  },
  {
   "cell_type": "code",
   "execution_count": null,
   "id": "31806d2e",
   "metadata": {},
   "outputs": [],
   "source": [
    "kmeans_model = KMeans(n_clusters=10)"
   ]
  },
  {
   "cell_type": "markdown",
   "id": "990e5d3e",
   "metadata": {},
   "source": [
    "### Train Kmeans model\n",
    "\n",
    "**Question:** What function do we think we can use to train the model?\n",
    "\n",
    "<details>\n",
    "<summary>Hint</summary>\n",
    "    What function did we use yesterday to train the Naive Bayes and Logistic Regression classifiers\n",
    "</details>\n",
    "\n",
    "<details>\n",
    "<summary>Solution</summary>\n",
    "    .fit()\n",
    "</details>"
   ]
  },
  {
   "cell_type": "code",
   "execution_count": null,
   "id": "4e5754e5",
   "metadata": {},
   "outputs": [],
   "source": [
    "# skip below"
   ]
  },
  {
   "cell_type": "code",
   "execution_count": null,
   "id": "098e3325",
   "metadata": {},
   "outputs": [],
   "source": []
  },
  {
   "cell_type": "code",
   "execution_count": null,
   "id": "8794f7bf",
   "metadata": {},
   "outputs": [],
   "source": []
  },
  {
   "cell_type": "code",
   "execution_count": null,
   "id": "0653468e",
   "metadata": {},
   "outputs": [],
   "source": []
  },
  {
   "cell_type": "code",
   "execution_count": null,
   "id": "ed09cc7a",
   "metadata": {},
   "outputs": [],
   "source": [
    "%%time\n",
    "\n",
    "kmeans_model.fit(X)"
   ]
  },
  {
   "cell_type": "markdown",
   "id": "51982af9",
   "metadata": {},
   "source": [
    "#### Properties of the kmeans_model "
   ]
  },
  {
   "cell_type": "markdown",
   "id": "6f0db67c",
   "metadata": {},
   "source": [
    "##### Labels (cluster ID) for each example"
   ]
  },
  {
   "cell_type": "code",
   "execution_count": null,
   "id": "8e8fc78b",
   "metadata": {},
   "outputs": [],
   "source": [
    "kmeans_model.labels_"
   ]
  },
  {
   "cell_type": "code",
   "execution_count": null,
   "id": "52c351ae",
   "metadata": {},
   "outputs": [],
   "source": [
    "kmeans_model.labels_.shape"
   ]
  },
  {
   "cell_type": "markdown",
   "id": "6f773f09",
   "metadata": {},
   "source": [
    "We can see how many documents were assigned to each of the 10 clusters"
   ]
  },
  {
   "cell_type": "code",
   "execution_count": null,
   "id": "2027c201",
   "metadata": {},
   "outputs": [],
   "source": [
    "pd.Series(kmeans_model.labels_).value_counts()"
   ]
  },
  {
   "cell_type": "markdown",
   "id": "0901a136",
   "metadata": {},
   "source": [
    "##### Center for each cluster"
   ]
  },
  {
   "cell_type": "code",
   "execution_count": null,
   "id": "d2a41e51",
   "metadata": {},
   "outputs": [],
   "source": [
    "kmeans_model.cluster_centers_"
   ]
  },
  {
   "cell_type": "code",
   "execution_count": null,
   "id": "b8199e0d",
   "metadata": {},
   "outputs": [],
   "source": [
    "kmeans_model.cluster_centers_.shape"
   ]
  },
  {
   "cell_type": "markdown",
   "id": "effd79be",
   "metadata": {},
   "source": [
    "**Question** What do these numbers represent?\n",
    "\n",
    "<details>\n",
    "<summary>Solution</summary>\n",
    "    First digit is the number of clusters, second is the dimensions of the center each cluster. 35408 because that is the size of our vocab\n",
    "</details>"
   ]
  },
  {
   "cell_type": "markdown",
   "id": "4072eaff",
   "metadata": {},
   "source": [
    "#### Determining the cluster for new examples\n",
    "\n",
    "\n",
    "**Question:** What function do we think we can use to use the model to assign clusters to new examples?\n",
    "\n",
    "<details>\n",
    "<summary>Hint</summary>\n",
    "    What function did we use yesterday to test the Naive Bayes and Logistic Regression classifiers\n",
    "</details>\n",
    "\n",
    "<details>\n",
    "<summary>Solution</summary>\n",
    "    .predict()\n",
    "</details>\n"
   ]
  },
  {
   "cell_type": "code",
   "execution_count": null,
   "id": "906f2d98",
   "metadata": {},
   "outputs": [],
   "source": []
  },
  {
   "cell_type": "code",
   "execution_count": null,
   "id": "ea54cea7",
   "metadata": {},
   "outputs": [],
   "source": []
  },
  {
   "cell_type": "code",
   "execution_count": null,
   "id": "9185eb9e",
   "metadata": {},
   "outputs": [],
   "source": []
  },
  {
   "cell_type": "code",
   "execution_count": null,
   "id": "1672a05a",
   "metadata": {},
   "outputs": [],
   "source": []
  },
  {
   "cell_type": "code",
   "execution_count": null,
   "id": "f3917f89",
   "metadata": {},
   "outputs": [],
   "source": [
    "kmeans_model.predict(X)"
   ]
  },
  {
   "cell_type": "code",
   "execution_count": null,
   "id": "b2abecd7",
   "metadata": {
    "tags": []
   },
   "outputs": [],
   "source": [
    "df['cluster_id'] = kmeans_model.predict(df)"
   ]
  },
  {
   "cell_type": "code",
   "execution_count": null,
   "id": "a13cf2d7",
   "metadata": {},
   "outputs": [],
   "source": [
    "kmeans_model.transform(df)"
   ]
  },
  {
   "cell_type": "markdown",
   "id": "1e6ebc91",
   "metadata": {},
   "source": [
    "##### What about transform?\n",
    "\n",
    "\n",
    "Read the [documentation](https://scikit-learn.org/stable/modules/generated/sklearn.cluster.KMeans.html#sklearn.cluster.KMeans.transform) and explain what transform does"
   ]
  },
  {
   "cell_type": "code",
   "execution_count": null,
   "id": "333fe332",
   "metadata": {},
   "outputs": [],
   "source": [
    "kmeans_model.transform(X)"
   ]
  },
  {
   "cell_type": "code",
   "execution_count": null,
   "id": "e4dbe017",
   "metadata": {},
   "outputs": [],
   "source": [
    "kmeans_model.transform(X).shape"
   ]
  },
  {
   "cell_type": "code",
   "execution_count": null,
   "id": "647bf429",
   "metadata": {},
   "outputs": [],
   "source": [
    "distances = kmeans_model.transform(X)"
   ]
  },
  {
   "cell_type": "code",
   "execution_count": null,
   "id": "c3ae6108",
   "metadata": {},
   "outputs": [],
   "source": [
    "distances.shape"
   ]
  },
  {
   "cell_type": "markdown",
   "id": "153ba1dd",
   "metadata": {},
   "source": [
    "Let's store the distances in a dataframe"
   ]
  },
  {
   "cell_type": "code",
   "execution_count": null,
   "id": "2d0cefd4",
   "metadata": {},
   "outputs": [],
   "source": [
    "distances_df = pd.DataFrame(distances)\n",
    "distances_df.index = df.index\n",
    "distances_df"
   ]
  },
  {
   "cell_type": "markdown",
   "id": "c40a87ff",
   "metadata": {},
   "source": [
    "### Analyze the clusters"
   ]
  },
  {
   "cell_type": "code",
   "execution_count": null,
   "id": "01cd1821",
   "metadata": {},
   "outputs": [],
   "source": [
    "kmeans_model.n_clusters"
   ]
  },
  {
   "cell_type": "markdown",
   "id": "79963dcb",
   "metadata": {},
   "source": [
    "#### Print out all people in each cluster"
   ]
  },
  {
   "cell_type": "code",
   "execution_count": null,
   "id": "299fd3b8",
   "metadata": {},
   "outputs": [],
   "source": [
    "for cluster_id in range(kmeans_model.n_clusters):\n",
    "    print(cluster_id, df[df['cluster_id'] == cluster_id].index)\n",
    "    print()"
   ]
  },
  {
   "cell_type": "markdown",
   "id": "56c7c1bd",
   "metadata": {},
   "source": [
    "#### Print out all people in each cluster sorted by distance to cluster's center"
   ]
  },
  {
   "cell_type": "code",
   "execution_count": null,
   "id": "fb97687c",
   "metadata": {},
   "outputs": [],
   "source": [
    "cluster_id"
   ]
  },
  {
   "cell_type": "code",
   "execution_count": null,
   "id": "4a782af4",
   "metadata": {},
   "outputs": [],
   "source": [
    "names = df[df['cluster_id'] == cluster_id].index\n",
    "names"
   ]
  },
  {
   "cell_type": "code",
   "execution_count": null,
   "id": "5a195dfe",
   "metadata": {},
   "outputs": [],
   "source": [
    "distances_df[distances_df.index.isin(names)]"
   ]
  },
  {
   "cell_type": "code",
   "execution_count": null,
   "id": "04dd774c",
   "metadata": {},
   "outputs": [],
   "source": [
    "distances_df[distances_df.index.isin(names)].sort_values(by=cluster_id)"
   ]
  },
  {
   "cell_type": "markdown",
   "id": "5706cf9e",
   "metadata": {},
   "source": [
    "Let's put it together"
   ]
  },
  {
   "cell_type": "code",
   "execution_count": null,
   "id": "37939493",
   "metadata": {
    "tags": []
   },
   "outputs": [],
   "source": [
    "for cluster_id in range(kmeans_model.n_clusters):\n",
    "    names = df[df['cluster_id'] == cluster_id].index\n",
    "    print(cluster_id, distances_df[distances_df.index.isin(names)].sort_values(by=cluster_id).index[:10])\n",
    "    print()"
   ]
  },
  {
   "cell_type": "markdown",
   "id": "6b314052",
   "metadata": {},
   "source": [
    "Let's look at the lists above and let's see what we find"
   ]
  },
  {
   "cell_type": "markdown",
   "id": "dca8bd0c",
   "metadata": {},
   "source": [
    "(stop here)\n",
    "\n",
    "### AgglomerativeClustering"
   ]
  },
  {
   "cell_type": "code",
   "execution_count": null,
   "id": "d4f06232",
   "metadata": {},
   "outputs": [],
   "source": [
    "from sklearn.cluster import AgglomerativeClustering\n",
    "\n",
    "agg_model = AgglomerativeClustering(n_clusters=5, compute_distances=True)\n",
    "agg_model"
   ]
  },
  {
   "cell_type": "code",
   "execution_count": null,
   "id": "b37c49a1",
   "metadata": {},
   "outputs": [],
   "source": [
    "%%time \n",
    "\n",
    "agg_model.fit(X)"
   ]
  },
  {
   "cell_type": "code",
   "execution_count": null,
   "id": "4b85b396",
   "metadata": {},
   "outputs": [],
   "source": [
    "agg_model.labels_"
   ]
  },
  {
   "cell_type": "code",
   "execution_count": null,
   "id": "33aecf70",
   "metadata": {},
   "outputs": [],
   "source": [
    "agg_model.fit_predict(X)"
   ]
  },
  {
   "cell_type": "code",
   "execution_count": null,
   "id": "e11572ef",
   "metadata": {},
   "outputs": [],
   "source": [
    "pd.Series(agg_model.labels_).value_counts()"
   ]
  },
  {
   "cell_type": "code",
   "execution_count": null,
   "id": "664e218a",
   "metadata": {},
   "outputs": [],
   "source": [
    "agg_model.children_.shape"
   ]
  },
  {
   "cell_type": "markdown",
   "id": "6b2d8f41",
   "metadata": {},
   "source": [
    "#### Plotting"
   ]
  },
  {
   "cell_type": "code",
   "execution_count": null,
   "id": "f1cee232",
   "metadata": {},
   "outputs": [],
   "source": [
    "from matplotlib import pyplot as plt\n",
    "from scipy.cluster.hierarchy import dendrogram\n",
    "\n",
    "def plot_dendrogram(model, **kwargs):\n",
    "    # Create linkage matrix and then plot the dendrogram\n",
    "\n",
    "    # create the counts of samples under each node\n",
    "    counts = np.zeros(model.children_.shape[0])\n",
    "    n_samples = len(model.labels_)\n",
    "    for i, merge in enumerate(model.children_):\n",
    "        current_count = 0\n",
    "        for child_idx in merge:\n",
    "            if child_idx < n_samples:\n",
    "                current_count += 1  # leaf node\n",
    "            else:\n",
    "                current_count += counts[child_idx - n_samples]\n",
    "        counts[i] = current_count\n",
    "\n",
    "    linkage_matrix = np.column_stack([model.children_, model.distances_,\n",
    "                                      counts]).astype(float)\n",
    "\n",
    "    # Plot the corresponding dendrogram\n",
    "    dendrogram(linkage_matrix, **kwargs)"
   ]
  },
  {
   "cell_type": "code",
   "execution_count": null,
   "id": "784cbd32",
   "metadata": {},
   "outputs": [],
   "source": [
    "plt.title('Hierarchical Clustering Dendrogram')\n",
    "# plot the top three levels of the dendrogram\n",
    "plot_dendrogram(agg_model, truncate_mode='level', p=3)\n",
    "plt.xlabel(\"Number of points in node (or index of point if no parenthesis).\")\n",
    "plt.show()"
   ]
  },
  {
   "cell_type": "code",
   "execution_count": null,
   "id": "1a623449",
   "metadata": {},
   "outputs": [],
   "source": [
    "plt.title('Hierarchical Clustering Dendrogram')\n",
    "# plot the top three levels of the dendrogram\n",
    "plot_dendrogram(agg_model, truncate_mode='level', p=5)\n",
    "plt.xlabel(\"Number of points in node (or index of point if no parenthesis).\")\n",
    "plt.show()"
   ]
  },
  {
   "cell_type": "markdown",
   "id": "1bee839b",
   "metadata": {},
   "source": [
    "(next week)\n",
    "\n",
    "\n",
    "## Matrix Factorization / Dimensionality Reduction"
   ]
  },
  {
   "cell_type": "markdown",
   "id": "d7860a77",
   "metadata": {},
   "source": [
    "### SVD"
   ]
  },
  {
   "cell_type": "code",
   "execution_count": null,
   "id": "d46d28b5",
   "metadata": {},
   "outputs": [],
   "source": [
    "%%time \n",
    "\n",
    "from sklearn.decomposition import TruncatedSVD \n",
    "\n",
    "k = 10\n",
    "svd = TruncatedSVD(n_components=k) \n",
    "U = svd.fit_transform(df)\n",
    "S = svd.singular_values_\n",
    "V = svd.components_"
   ]
  },
  {
   "cell_type": "code",
   "execution_count": null,
   "id": "5b21816f",
   "metadata": {},
   "outputs": [],
   "source": [
    "U"
   ]
  },
  {
   "cell_type": "code",
   "execution_count": null,
   "id": "de4f08ef",
   "metadata": {},
   "outputs": [],
   "source": [
    "U.shape"
   ]
  },
  {
   "cell_type": "code",
   "execution_count": null,
   "id": "d31b6bc3",
   "metadata": {},
   "outputs": [],
   "source": [
    "S"
   ]
  },
  {
   "cell_type": "code",
   "execution_count": null,
   "id": "1286567d",
   "metadata": {},
   "outputs": [],
   "source": [
    "S.shape"
   ]
  },
  {
   "cell_type": "code",
   "execution_count": null,
   "id": "48ffae34",
   "metadata": {},
   "outputs": [],
   "source": [
    "V"
   ]
  },
  {
   "cell_type": "code",
   "execution_count": null,
   "id": "2834e1ad",
   "metadata": {},
   "outputs": [],
   "source": [
    "V.shape"
   ]
  },
  {
   "cell_type": "markdown",
   "id": "2dc67bf3",
   "metadata": {},
   "source": [
    "### NMF"
   ]
  },
  {
   "cell_type": "code",
   "execution_count": null,
   "id": "bdf2fb11",
   "metadata": {},
   "outputs": [],
   "source": [
    "%%time \n",
    "\n",
    "from sklearn.decomposition import NMF\n",
    "nmf = NMF(n_components=k, init='nndsvd', random_state=0) \n",
    "W = nmf.fit_transform(df)\n",
    "H = nmf.components_"
   ]
  },
  {
   "cell_type": "code",
   "execution_count": null,
   "id": "d2d3956f",
   "metadata": {},
   "outputs": [],
   "source": [
    "W"
   ]
  },
  {
   "cell_type": "code",
   "execution_count": null,
   "id": "4ab66da1",
   "metadata": {},
   "outputs": [],
   "source": [
    "W.shape"
   ]
  },
  {
   "cell_type": "code",
   "execution_count": null,
   "id": "16976e72",
   "metadata": {},
   "outputs": [],
   "source": [
    "H"
   ]
  },
  {
   "cell_type": "code",
   "execution_count": null,
   "id": "264fb7f1",
   "metadata": {},
   "outputs": [],
   "source": [
    "H.shape"
   ]
  },
  {
   "cell_type": "code",
   "execution_count": null,
   "id": "88644f43",
   "metadata": {},
   "outputs": [],
   "source": []
  }
 ],
 "metadata": {
  "kernelspec": {
   "display_name": "Python 3",
   "language": "python",
   "name": "python3"
  },
  "language_info": {
   "codemirror_mode": {
    "name": "ipython",
    "version": 3
   },
   "file_extension": ".py",
   "mimetype": "text/x-python",
   "name": "python",
   "nbconvert_exporter": "python",
   "pygments_lexer": "ipython3",
   "version": "3.8.8"
  }
 },
 "nbformat": 4,
 "nbformat_minor": 5
}
