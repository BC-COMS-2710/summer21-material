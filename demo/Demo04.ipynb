{
 "cells": [
  {
   "cell_type": "markdown",
   "id": "4ed7579e",
   "metadata": {},
   "source": [
    "# Demo 04 - Pandas & Matplotlib"
   ]
  },
  {
   "cell_type": "code",
   "execution_count": null,
   "id": "2358a87e",
   "metadata": {},
   "outputs": [],
   "source": [
    "import pandas as pd\n",
    "import matplotlib.pyplot as plt\n",
    "import numpy as np\n",
    "import time\n",
    "import random"
   ]
  },
  {
   "cell_type": "markdown",
   "id": "ad3efac5",
   "metadata": {},
   "source": [
    "## Numpy"
   ]
  },
  {
   "cell_type": "code",
   "execution_count": null,
   "id": "e369a34d",
   "metadata": {},
   "outputs": [],
   "source": [
    "np.full(5, True)"
   ]
  },
  {
   "cell_type": "markdown",
   "id": "7098a22c",
   "metadata": {},
   "source": [
    "**Question:** How many True's are there?"
   ]
  },
  {
   "cell_type": "code",
   "execution_count": null,
   "id": "43ded3dd",
   "metadata": {},
   "outputs": [],
   "source": [
    "sum(np.full(5, True))"
   ]
  },
  {
   "cell_type": "markdown",
   "id": "e942dceb",
   "metadata": {},
   "source": [
    "\n",
    "\n",
    "## DataFrames\n",
    "\n"
   ]
  },
  {
   "cell_type": "markdown",
   "id": "fe4ac4d6",
   "metadata": {},
   "source": [
    "### Constructing a DataFrame"
   ]
  },
  {
   "cell_type": "markdown",
   "id": "846989d6",
   "metadata": {},
   "source": [
    "##### Empty dataframe"
   ]
  },
  {
   "cell_type": "code",
   "execution_count": null,
   "id": "31bfd4e5",
   "metadata": {},
   "outputs": [],
   "source": [
    "pd.DataFrame()"
   ]
  },
  {
   "cell_type": "markdown",
   "id": "79722ca7",
   "metadata": {},
   "source": [
    "**Adding columns to an empty dataframe**"
   ]
  },
  {
   "cell_type": "code",
   "execution_count": null,
   "id": "ae94dfe5",
   "metadata": {},
   "outputs": [],
   "source": [
    "tmp_df = pd.DataFrame()\n",
    "\n",
    "# make 2 arrays and one list\n",
    "list_one = ...\n",
    "array_one = ...\n",
    "array_two = ...\n",
    "\n",
    "# add each as a column to tmp_df\n",
    "\n",
    "tmp_df"
   ]
  },
  {
   "cell_type": "markdown",
   "id": "0c5fcc78",
   "metadata": {},
   "source": [
    "### Pudding Film Dialogue Data"
   ]
  },
  {
   "cell_type": "markdown",
   "id": "49bbfd70",
   "metadata": {},
   "source": [
    "The data we will work with today comes from https://pudding.cool/2017/03/film-dialogue/\n",
    "\n",
    "> Lately, Hollywood has been taking so much shit for rampant sexism and racism. The prevailing theme: white men dominate movie roles.\n",
    "\n",
    "> But it’s all rhetoric and no data, which gets us nowhere in terms of having an informed discussion. How many movies are actually about men? What changes by genre, era, or box-office revenue? What circumstances generate more diversity?\n",
    "\n",
    "> We didn’t set out trying to prove anything, but rather compile real data. We framed it as a census rather than a study. So we Googled our way to 8,000 screenplays and matched each character’s lines to an actor. From there, we compiled the number of words spoken by male and female characters across roughly 2,000 films, arguably the largest undertaking of script analysis, ever."
   ]
  },
  {
   "cell_type": "code",
   "execution_count": null,
   "id": "ff5b1d84",
   "metadata": {},
   "outputs": [],
   "source": [
    "pd.read_csv(\"data/Pudding-Film-Dialogue-Clean.csv\")"
   ]
  },
  {
   "cell_type": "code",
   "execution_count": null,
   "id": "83c72bae",
   "metadata": {},
   "outputs": [],
   "source": [
    "df = pd.read_csv(\"data/Pudding-Film-Dialogue-Clean.csv\")\n",
    "df.head(5)"
   ]
  },
  {
   "cell_type": "markdown",
   "id": "e6ebe6f3",
   "metadata": {},
   "source": [
    "**Question:** What are the different types in each column?"
   ]
  },
  {
   "cell_type": "code",
   "execution_count": null,
   "id": "845b1389",
   "metadata": {},
   "outputs": [],
   "source": []
  },
  {
   "cell_type": "markdown",
   "id": "26a9ca0a",
   "metadata": {},
   "source": [
    "**Question:** This dataframe is pretty big, so lets just sample 1,000 examples and use that instead"
   ]
  },
  {
   "cell_type": "code",
   "execution_count": null,
   "id": "bf4b97cd",
   "metadata": {},
   "outputs": [],
   "source": []
  },
  {
   "cell_type": "markdown",
   "id": "9f4d0504",
   "metadata": {},
   "source": [
    "### Listing columns\n",
    "\n",
    "**Question:** On your own using the documentation, find the two ways we can list the columns.\n",
    "\n",
    "*Hint* One way is a dataframe function and the other is an attribute/instance\n"
   ]
  },
  {
   "cell_type": "code",
   "execution_count": null,
   "id": "b06747b9",
   "metadata": {},
   "outputs": [],
   "source": []
  },
  {
   "cell_type": "code",
   "execution_count": null,
   "id": "089c3130",
   "metadata": {},
   "outputs": [],
   "source": []
  },
  {
   "cell_type": "code",
   "execution_count": null,
   "id": "28f40ece",
   "metadata": {},
   "outputs": [],
   "source": []
  },
  {
   "cell_type": "markdown",
   "id": "7f9ab57a",
   "metadata": {},
   "source": [
    "### Accessing columns\n",
    "\n",
    "3 options:\n",
    "\n",
    "- `df.get(<column name>)`\n",
    "- `df[<column name>]` - access like a collection\n",
    "- `df.<column name>` - access like a attribute/method "
   ]
  },
  {
   "cell_type": "code",
   "execution_count": null,
   "id": "92fec876",
   "metadata": {},
   "outputs": [],
   "source": [
    "# try first option here\n",
    "df.get('gender')"
   ]
  },
  {
   "cell_type": "code",
   "execution_count": null,
   "id": "cc09d55a",
   "metadata": {},
   "outputs": [],
   "source": [
    "# try second option here\n",
    "df['gender']"
   ]
  },
  {
   "cell_type": "code",
   "execution_count": null,
   "id": "d92430e1",
   "metadata": {},
   "outputs": [],
   "source": [
    "# try third option here\n",
    "df.gender"
   ]
  },
  {
   "cell_type": "markdown",
   "id": "eb2b5ab0",
   "metadata": {},
   "source": [
    "### Accessing rows"
   ]
  },
  {
   "cell_type": "code",
   "execution_count": null,
   "id": "02405c8c",
   "metadata": {},
   "outputs": [],
   "source": [
    "## Access by index label\n",
    "\n",
    "df.loc[4]"
   ]
  },
  {
   "cell_type": "code",
   "execution_count": null,
   "id": "ee22f294",
   "metadata": {},
   "outputs": [],
   "source": [
    "## Access by location\n",
    "\n",
    "df.iloc[-1]"
   ]
  },
  {
   "cell_type": "markdown",
   "id": "b8625bf3",
   "metadata": {},
   "source": [
    "### Sorting dataframe"
   ]
  },
  {
   "cell_type": "code",
   "execution_count": null,
   "id": "4e07401f",
   "metadata": {},
   "outputs": [],
   "source": [
    "df.keys()"
   ]
  },
  {
   "cell_type": "markdown",
   "id": "4998362b",
   "metadata": {},
   "source": [
    "**Question:** What column should we sort by?"
   ]
  },
  {
   "cell_type": "code",
   "execution_count": null,
   "id": "b48f3fc3",
   "metadata": {},
   "outputs": [],
   "source": []
  },
  {
   "cell_type": "markdown",
   "id": "986eee3c",
   "metadata": {},
   "source": [
    "**Question:** What two columns should we sort by?"
   ]
  },
  {
   "cell_type": "code",
   "execution_count": null,
   "id": "c5bece3a",
   "metadata": {},
   "outputs": [],
   "source": []
  },
  {
   "cell_type": "markdown",
   "id": "bc05bd93",
   "metadata": {},
   "source": [
    "Return type of dataframe functions"
   ]
  },
  {
   "cell_type": "markdown",
   "id": "66f3f018",
   "metadata": {},
   "source": [
    "### Querying "
   ]
  },
  {
   "cell_type": "markdown",
   "id": "56857f14",
   "metadata": {},
   "source": [
    "**Question:** Find all movies over a certain age"
   ]
  },
  {
   "cell_type": "code",
   "execution_count": null,
   "id": "610b8cac",
   "metadata": {},
   "outputs": [],
   "source": []
  },
  {
   "cell_type": "markdown",
   "id": "5aa241ef",
   "metadata": {},
   "source": [
    "**Question:** Make a new dataframe that has movies of just this certain age"
   ]
  },
  {
   "cell_type": "code",
   "execution_count": null,
   "id": "e0d0f6a8",
   "metadata": {},
   "outputs": [],
   "source": [
    "old_movies = ...\n",
    "old_movies"
   ]
  },
  {
   "cell_type": "markdown",
   "id": "0bca9356",
   "metadata": {},
   "source": [
    "Let's look at the indices\n",
    "\n",
    "**Question:** What do we notice about these indices?"
   ]
  },
  {
   "cell_type": "code",
   "execution_count": null,
   "id": "0fb820a1",
   "metadata": {},
   "outputs": [],
   "source": []
  },
  {
   "cell_type": "markdown",
   "id": "f6a2f358",
   "metadata": {},
   "source": [
    "Let's update our indices\n",
    "\n",
    "**Question:** What method do you think we can use?"
   ]
  },
  {
   "cell_type": "code",
   "execution_count": null,
   "id": "f62c30d6",
   "metadata": {},
   "outputs": [],
   "source": []
  },
  {
   "cell_type": "code",
   "execution_count": null,
   "id": "5b195e37",
   "metadata": {},
   "outputs": [],
   "source": [
    "df.reset_index?"
   ]
  },
  {
   "cell_type": "markdown",
   "id": "0e39e5c5",
   "metadata": {},
   "source": [
    "Let's not include the original index"
   ]
  },
  {
   "cell_type": "code",
   "execution_count": null,
   "id": "2bce1270",
   "metadata": {},
   "outputs": [],
   "source": [
    "df.reset_index?"
   ]
  },
  {
   "cell_type": "markdown",
   "id": "9eeffa54",
   "metadata": {},
   "source": [
    "#### Querying on Multiple Conditions"
   ]
  },
  {
   "cell_type": "code",
   "execution_count": null,
   "id": "d0343f2e",
   "metadata": {},
   "outputs": [],
   "source": [
    "df[\n",
    "    (df['release_year'] < 1930) # condition 1\n",
    "    & # and \n",
    "    (df['gender'] == 'man') # condition 2\n",
    "]"
   ]
  },
  {
   "cell_type": "markdown",
   "id": "56e5b312",
   "metadata": {},
   "source": [
    "\"|\" for or"
   ]
  },
  {
   "cell_type": "code",
   "execution_count": null,
   "id": "98825aa0",
   "metadata": {},
   "outputs": [],
   "source": []
  },
  {
   "cell_type": "code",
   "execution_count": null,
   "id": "a152c6f8",
   "metadata": {},
   "outputs": [],
   "source": [
    "df"
   ]
  },
  {
   "cell_type": "markdown",
   "id": "226d9a21",
   "metadata": {},
   "source": [
    "### Values in a column"
   ]
  },
  {
   "cell_type": "markdown",
   "id": "202623c1",
   "metadata": {},
   "source": [
    "**Question:** Based on everything we've seen so far, how can we determine the set of values that are in a column?\n",
    "\n",
    "<details>\n",
    "<summary>Hint</summary>\n",
    "<b>1. Accessing the column; 2. convert the column (Series) to a set</b>  \n",
    "</details>"
   ]
  },
  {
   "cell_type": "code",
   "execution_count": null,
   "id": "55a633a9",
   "metadata": {},
   "outputs": [],
   "source": [
    "#skip"
   ]
  },
  {
   "cell_type": "code",
   "execution_count": null,
   "id": "94b87e54",
   "metadata": {},
   "outputs": [],
   "source": [
    "#skip"
   ]
  },
  {
   "cell_type": "markdown",
   "id": "f0457bad",
   "metadata": {},
   "source": [
    "`unique()`"
   ]
  },
  {
   "cell_type": "code",
   "execution_count": null,
   "id": "9f33bfa9",
   "metadata": {},
   "outputs": [],
   "source": [
    "df['gender'].unique()"
   ]
  },
  {
   "cell_type": "markdown",
   "id": "8dac3625",
   "metadata": {},
   "source": [
    "**Question:** How many rows have their gender assigned as `woman`, `man`, or `?`\n",
    "\n",
    "(note: 1st using everything we know so far, 2nd using my favoritve method)"
   ]
  },
  {
   "cell_type": "code",
   "execution_count": null,
   "id": "0c78c251",
   "metadata": {},
   "outputs": [],
   "source": []
  },
  {
   "cell_type": "code",
   "execution_count": null,
   "id": "00051708",
   "metadata": {},
   "outputs": [],
   "source": []
  },
  {
   "cell_type": "markdown",
   "id": "7785a00b",
   "metadata": {},
   "source": [
    "\n",
    "### Grouping "
   ]
  },
  {
   "cell_type": "markdown",
   "id": "42bf151d",
   "metadata": {},
   "source": [
    "Let's group by gender"
   ]
  },
  {
   "cell_type": "code",
   "execution_count": null,
   "id": "d2cac52a",
   "metadata": {},
   "outputs": [],
   "source": [
    "gender_groups = df.groupby('gender')\n",
    "gender_groups"
   ]
  },
  {
   "cell_type": "markdown",
   "id": "02a98277",
   "metadata": {},
   "source": [
    "Now let's find the mean/average values of the other columns for each gender"
   ]
  },
  {
   "cell_type": "code",
   "execution_count": null,
   "id": "383dc15b",
   "metadata": {},
   "outputs": [],
   "source": [
    "gender_groups.mean()"
   ]
  },
  {
   "cell_type": "markdown",
   "id": "e28040f6",
   "metadata": {},
   "source": [
    "**What just happened?**\n",
    "\n",
    "1. The table’s rows are split into groups according to gender. \n",
    "    - All of the rows whose gender is 'man' are placed into one group,\n",
    "    - All of the rows whose gender is 'woman' are placed into another group.\n",
    "    - All of the rows whose gender is `?` are placed into another group\n",
    "\n",
    "2. Each group is aggregated into a single row by average the value of entries in each of the group’s columns.\n",
    "\n",
    "3. The resulting rows are combined to form a new table, with one row for every group."
   ]
  },
  {
   "cell_type": "markdown",
   "id": "044cd787",
   "metadata": {},
   "source": [
    "**Other aggregation methods:**\n",
    "- .median()\n",
    "- .max()\n",
    "- .min()\n",
    "- .count()"
   ]
  },
  {
   "cell_type": "code",
   "execution_count": null,
   "id": "4d78f0c6",
   "metadata": {},
   "outputs": [],
   "source": [
    "gender_count_df = df.groupby('gender').count()\n",
    "gender_count_df"
   ]
  },
  {
   "cell_type": "markdown",
   "id": "e2203a81",
   "metadata": {},
   "source": [
    "Let's group by two columns: `gender` and `age` and find the mean"
   ]
  },
  {
   "cell_type": "code",
   "execution_count": null,
   "id": "dd03a2ad",
   "metadata": {},
   "outputs": [],
   "source": [
    "gender_age_mean_df = df.groupby(['gender', 'age']).mean()\n",
    "gender_age_mean_df"
   ]
  },
  {
   "cell_type": "markdown",
   "id": "d93bd40c",
   "metadata": {},
   "source": [
    "**Question:** What are the indices of `gender_age_mean_df`? "
   ]
  },
  {
   "cell_type": "code",
   "execution_count": null,
   "id": "c300dbf5",
   "metadata": {},
   "outputs": [],
   "source": [
    "gender_age_mean_df.index"
   ]
  },
  {
   "cell_type": "markdown",
   "id": "6332f8f6",
   "metadata": {},
   "source": [
    "This is an example of MultiIndexing. <br>\n",
    "It uses hierarchical indices for representing higher-dimensional data"
   ]
  },
  {
   "cell_type": "markdown",
   "id": "8bfb43d7",
   "metadata": {},
   "source": [
    "**Flattening out the indices**"
   ]
  },
  {
   "cell_type": "markdown",
   "id": "dfceb332",
   "metadata": {},
   "source": [
    "`.resent_index()` will flatten out the multi-index for us"
   ]
  },
  {
   "cell_type": "code",
   "execution_count": null,
   "id": "e6d99a66",
   "metadata": {},
   "outputs": [],
   "source": [
    "gender_age_mean_df.reset_index()"
   ]
  },
  {
   "cell_type": "markdown",
   "id": "4d857ebc",
   "metadata": {},
   "source": [
    "### Function on a cell\n",
    "\n",
    "> Defining our own functions allows us to make tables even more powerful. One way to use tables with functions is to pass the table into the function as one of its inputs, as we saw in the example above. In some situations, however, we don’t want to apply the function to the entire table, but rather to each entry in one of the table’s columns. In these cases, we can use the .apply method.\n",
    "(https://eldridgejm.github.io/dive_into_data_science/02-data_sets/apply.html#the-apply-series-method)\n",
    "\n",
    "Let's write a function to get the word in a movie title"
   ]
  },
  {
   "cell_type": "code",
   "execution_count": null,
   "id": "47e7e49e",
   "metadata": {},
   "outputs": [],
   "source": [
    "def get_first_word_in_title(title):\n",
    "    return title.split()[0]"
   ]
  },
  {
   "cell_type": "markdown",
   "id": "e6b50ca7",
   "metadata": {},
   "source": [
    "Now let's apply the function to the title column"
   ]
  },
  {
   "cell_type": "code",
   "execution_count": null,
   "id": "8e500ee3",
   "metadata": {},
   "outputs": [],
   "source": [
    "df['title'].apply(get_first_word_in_title)"
   ]
  },
  {
   "cell_type": "markdown",
   "id": "7f98b2e0",
   "metadata": {},
   "source": [
    "#### .map()"
   ]
  },
  {
   "cell_type": "code",
   "execution_count": null,
   "id": "42466ea2",
   "metadata": {},
   "outputs": [],
   "source": [
    "# start with lambada functions as annonymous functions\n"
   ]
  },
  {
   "cell_type": "markdown",
   "id": "82755500",
   "metadata": {},
   "source": [
    "**lambda** *argument* **:** *expression*"
   ]
  },
  {
   "cell_type": "code",
   "execution_count": null,
   "id": "51ec4e36",
   "metadata": {},
   "outputs": [],
   "source": []
  },
  {
   "cell_type": "code",
   "execution_count": null,
   "id": "7618d27f",
   "metadata": {},
   "outputs": [],
   "source": []
  },
  {
   "cell_type": "markdown",
   "id": "e7d4e5dc",
   "metadata": {},
   "source": [
    "Good tutoial on map function: https://github.com/ycui1/medium_series_map/blob/master/medium_map_series.ipynb"
   ]
  },
  {
   "cell_type": "markdown",
   "id": "64b07b6f",
   "metadata": {},
   "source": [
    "### Correlations\n",
    "\n",
    "**Question:** What is correlation?"
   ]
  },
  {
   "cell_type": "code",
   "execution_count": null,
   "id": "962bcdb3",
   "metadata": {},
   "outputs": [],
   "source": [
    "df.corr()"
   ]
  },
  {
   "cell_type": "markdown",
   "id": "35715a59",
   "metadata": {},
   "source": [
    "### Merge"
   ]
  },
  {
   "cell_type": "code",
   "execution_count": null,
   "id": "3335d7d3",
   "metadata": {},
   "outputs": [],
   "source": [
    "metadata_df = pd.read_csv(\"data/meta_data7.csv\")\n",
    "characters_df = pd.read_csv(\"data/character_list5.csv\")\n",
    "characters_df.shape, metadata_df.shape"
   ]
  },
  {
   "cell_type": "code",
   "execution_count": null,
   "id": "315258a8",
   "metadata": {},
   "outputs": [],
   "source": [
    "metadata_df.head(5)"
   ]
  },
  {
   "cell_type": "code",
   "execution_count": null,
   "id": "c75f0ea2",
   "metadata": {},
   "outputs": [],
   "source": [
    "characters_df.head(5)"
   ]
  },
  {
   "cell_type": "markdown",
   "id": "e94a6a60",
   "metadata": {},
   "source": [
    "**Question:** How should we combine these? What common attributes are there?"
   ]
  },
  {
   "cell_type": "code",
   "execution_count": null,
   "id": "54f0d1ca",
   "metadata": {},
   "outputs": [],
   "source": [
    "pd.merge(metadata_df, characters_df, on='script_id').shape"
   ]
  },
  {
   "cell_type": "code",
   "execution_count": null,
   "id": "eeeac44b",
   "metadata": {},
   "outputs": [],
   "source": [
    "pd.merge(metadata_df, characters_df, on='script_id')"
   ]
  },
  {
   "cell_type": "markdown",
   "id": "dcbf8376",
   "metadata": {},
   "source": [
    "**Question:** What happened?"
   ]
  },
  {
   "cell_type": "markdown",
   "id": "eb4510b3",
   "metadata": {},
   "source": [
    "### Date Range"
   ]
  },
  {
   "cell_type": "code",
   "execution_count": null,
   "id": "b8b04296",
   "metadata": {},
   "outputs": [],
   "source": [
    "pd.date_range(start='24/4/2020', end='24/5/2020', freq='D')"
   ]
  },
  {
   "cell_type": "code",
   "execution_count": null,
   "id": "c3dd2f64",
   "metadata": {},
   "outputs": [],
   "source": [
    "timestamp = pd.date_range(start='24/4/2020', end='24/5/2020', freq='D')[0]\n",
    "timestamp"
   ]
  },
  {
   "cell_type": "markdown",
   "id": "1173656c",
   "metadata": {},
   "source": [
    "There is a lot we can get from a timestamp:"
   ]
  },
  {
   "cell_type": "code",
   "execution_count": null,
   "id": "44bfefab",
   "metadata": {},
   "outputs": [],
   "source": [
    "print(timestamp.day_name())\n",
    "print(timestamp.day_of_week)\n",
    "print(timestamp.day_of_year)"
   ]
  },
  {
   "cell_type": "markdown",
   "id": "1ed4d886",
   "metadata": {},
   "source": [
    "(back to slides)\n",
    "## Matplotlib"
   ]
  },
  {
   "cell_type": "code",
   "execution_count": null,
   "id": "5041de72",
   "metadata": {},
   "outputs": [],
   "source": [
    "import matplotlib.pyplot as plt\n",
    "fig = plt.figure()\n",
    "fig.title('figure_title')\n",
    "plt.show()"
   ]
  },
  {
   "cell_type": "code",
   "execution_count": null,
   "id": "b7b5f495",
   "metadata": {},
   "outputs": [],
   "source": [
    "import matplotlib.pyplot as plt\n",
    "fig = plt.figure()  \n",
    "fig.show()"
   ]
  },
  {
   "cell_type": "code",
   "execution_count": null,
   "id": "e93b44ee",
   "metadata": {},
   "outputs": [],
   "source": [
    "fig, ax = plt.subplots()\n",
    "ax.set_title(\"Empty Axis\")"
   ]
  },
  {
   "cell_type": "code",
   "execution_count": null,
   "id": "753f9e81",
   "metadata": {},
   "outputs": [],
   "source": [
    "fig, axes_lst = plt.subplots(2, 2)\n",
    "# 2x2 grid of Axes\n",
    "fig.suptitle('Title')\n",
    "axes_lst[0, 0].set_title('Axes 0')\n",
    "axes_lst[0, 0].set_ylabel('y')\n",
    "axes_lst[1, 1].set_xlabel('x')\n",
    "plt.show()"
   ]
  },
  {
   "cell_type": "markdown",
   "id": "d4f34bc5",
   "metadata": {},
   "source": [
    "(back to slides)\n",
    "\n",
    "### Plotting DataFrames"
   ]
  },
  {
   "cell_type": "code",
   "execution_count": null,
   "id": "7360b7dc",
   "metadata": {},
   "outputs": [],
   "source": [
    "df = df.sample(1000)"
   ]
  },
  {
   "cell_type": "code",
   "execution_count": null,
   "id": "1282a5e7",
   "metadata": {},
   "outputs": [],
   "source": [
    "df.plot()"
   ]
  },
  {
   "cell_type": "code",
   "execution_count": null,
   "id": "35469a90",
   "metadata": {},
   "outputs": [],
   "source": [
    "df.plot(subplots=True)"
   ]
  },
  {
   "cell_type": "markdown",
   "id": "724df0b4",
   "metadata": {},
   "source": [
    "#### Types of charts\n",
    "\n",
    "- scatter plot: identify associations between two numerical variables\n",
    "- line graph: identify trends in one numerical variable as another increases. often used to see trends over time.\n",
    "- bar chart: visualize the distribution of a categorical variable\n",
    "- histogram: visualize the distribution of a numerical variable"
   ]
  },
  {
   "cell_type": "markdown",
   "id": "d2d6abef",
   "metadata": {},
   "source": [
    "**Question:**  Is there an association between the number of words a character has and the percentage of time they speek in the movie?"
   ]
  },
  {
   "cell_type": "code",
   "execution_count": null,
   "id": "486a11b7",
   "metadata": {},
   "outputs": [],
   "source": []
  },
  {
   "cell_type": "markdown",
   "id": "a453be9a",
   "metadata": {},
   "source": [
    "**Question:** Is there a trend in the total number of words in each movie based on the year the movie came out?"
   ]
  },
  {
   "cell_type": "code",
   "execution_count": null,
   "id": "35f08ed3",
   "metadata": {},
   "outputs": [],
   "source": [
    "movie_sums = pd.read_csv(\"data/Pudding-Film-Dialogue-Clean.csv\").groupby('title').sum()"
   ]
  },
  {
   "cell_type": "code",
   "execution_count": null,
   "id": "c01a7beb",
   "metadata": {},
   "outputs": [],
   "source": [
    "movie_sums"
   ]
  },
  {
   "cell_type": "code",
   "execution_count": null,
   "id": "6d7c1e5c",
   "metadata": {},
   "outputs": [],
   "source": [
    "df.plot(kind='line', x='release_year', y='words')"
   ]
  },
  {
   "cell_type": "code",
   "execution_count": null,
   "id": "9760bdf2",
   "metadata": {},
   "outputs": [],
   "source": [
    "df.sample(100).plot(kind='scatter', x='words', y='age')"
   ]
  },
  {
   "cell_type": "code",
   "execution_count": null,
   "id": "9353d227",
   "metadata": {},
   "outputs": [],
   "source": [
    "df['age'].describe()"
   ]
  },
  {
   "cell_type": "code",
   "execution_count": null,
   "id": "e4aa16cd",
   "metadata": {},
   "outputs": [],
   "source": [
    "df['age'] > 2000"
   ]
  },
  {
   "cell_type": "markdown",
   "id": "c15a705d",
   "metadata": {},
   "source": [
    "**Question:** Let's come up with a new question together"
   ]
  },
  {
   "cell_type": "markdown",
   "id": "b8eb529b",
   "metadata": {},
   "source": [
    "**Question:** Lets make a bar plot that shows the average number of words broken down by gender and age (old) movies."
   ]
  },
  {
   "cell_type": "code",
   "execution_count": null,
   "id": "1e0d2bf4",
   "metadata": {},
   "outputs": [],
   "source": []
  },
  {
   "cell_type": "markdown",
   "id": "b640cb32",
   "metadata": {},
   "source": [
    "## Regex\n",
    "(table in pdf in other window)"
   ]
  },
  {
   "cell_type": "code",
   "execution_count": null,
   "id": "d8656aaf",
   "metadata": {},
   "outputs": [],
   "source": []
  }
 ],
 "metadata": {
  "kernelspec": {
   "display_name": "Python 3",
   "language": "python",
   "name": "python3"
  },
  "language_info": {
   "codemirror_mode": {
    "name": "ipython",
    "version": 3
   },
   "file_extension": ".py",
   "mimetype": "text/x-python",
   "name": "python",
   "nbconvert_exporter": "python",
   "pygments_lexer": "ipython3",
   "version": "3.8.8"
  }
 },
 "nbformat": 4,
 "nbformat_minor": 5
}
