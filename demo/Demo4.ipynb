{
 "cells": [
  {
   "cell_type": "markdown",
   "id": "dc40697f",
   "metadata": {},
   "source": [
    "# Demo 04 - Pandas & Matplotlib"
   ]
  },
  {
   "cell_type": "code",
   "execution_count": 2,
   "id": "2d3a35d5",
   "metadata": {},
   "outputs": [],
   "source": [
    "import pandas as pd\n",
    "import matplotlib.pyplot as plt\n",
    "import numpy as np\n",
    "import time\n",
    "import random"
   ]
  },
  {
   "cell_type": "markdown",
   "id": "551c16ba",
   "metadata": {},
   "source": [
    "## Numpy"
   ]
  },
  {
   "cell_type": "code",
   "execution_count": null,
   "id": "56dd65dd",
   "metadata": {},
   "outputs": [],
   "source": [
    "np.full(5, True)"
   ]
  },
  {
   "cell_type": "markdown",
   "id": "a0270847",
   "metadata": {},
   "source": [
    "**Question:** How many True's are there?"
   ]
  },
  {
   "cell_type": "code",
   "execution_count": 1,
   "id": "34b10c31",
   "metadata": {},
   "outputs": [
    {
     "ename": "NameError",
     "evalue": "name 'np' is not defined",
     "output_type": "error",
     "traceback": [
      "\u001b[0;31m---------------------------------------------------------------------------\u001b[0m",
      "\u001b[0;31mNameError\u001b[0m                                 Traceback (most recent call last)",
      "\u001b[0;32m<ipython-input-1-dcbae3152527>\u001b[0m in \u001b[0;36m<module>\u001b[0;34m\u001b[0m\n\u001b[0;32m----> 1\u001b[0;31m \u001b[0msum\u001b[0m\u001b[0;34m(\u001b[0m\u001b[0mnp\u001b[0m\u001b[0;34m.\u001b[0m\u001b[0mfull\u001b[0m\u001b[0;34m(\u001b[0m\u001b[0;36m5\u001b[0m\u001b[0;34m,\u001b[0m \u001b[0;32mTrue\u001b[0m\u001b[0;34m)\u001b[0m\u001b[0;34m)\u001b[0m\u001b[0;34m\u001b[0m\u001b[0;34m\u001b[0m\u001b[0m\n\u001b[0m",
      "\u001b[0;31mNameError\u001b[0m: name 'np' is not defined"
     ]
    }
   ],
   "source": [
    "sum(np.full(5, True))"
   ]
  },
  {
   "cell_type": "markdown",
   "id": "bb36211d",
   "metadata": {},
   "source": [
    "\n",
    "\n",
    "## DataFrames\n",
    "\n"
   ]
  },
  {
   "cell_type": "markdown",
   "id": "03f24dd0",
   "metadata": {},
   "source": [
    "### Constructing a DataFrame"
   ]
  },
  {
   "cell_type": "markdown",
   "id": "ecfbec64",
   "metadata": {},
   "source": [
    "##### Empty dataframe"
   ]
  },
  {
   "cell_type": "code",
   "execution_count": null,
   "id": "5444d5fe",
   "metadata": {},
   "outputs": [],
   "source": [
    "pd.DataFrame()"
   ]
  },
  {
   "cell_type": "markdown",
   "id": "9c0d2cb6",
   "metadata": {},
   "source": [
    "**Adding columns to an empty dataframe**"
   ]
  },
  {
   "cell_type": "code",
   "execution_count": null,
   "id": "9fee8fce",
   "metadata": {},
   "outputs": [],
   "source": [
    "tmp_df = pd.DataFrame()\n",
    "\n",
    "# make 2 arrays and one list\n",
    "list_one = ...\n",
    "array_one = ...\n",
    "array_two = ...\n",
    "\n",
    "# add each as a column to tmp_df\n",
    "\n",
    "tmp_df"
   ]
  },
  {
   "cell_type": "markdown",
   "id": "8911aba2",
   "metadata": {},
   "source": [
    "### Pudding Film Dialogue Data"
   ]
  },
  {
   "cell_type": "markdown",
   "id": "86ee1800",
   "metadata": {},
   "source": [
    "The data we will work with today comes from https://pudding.cool/2017/03/film-dialogue/\n",
    "\n",
    "> Lately, Hollywood has been taking so much shit for rampant sexism and racism. The prevailing theme: white men dominate movie roles.\n",
    "\n",
    "> But it’s all rhetoric and no data, which gets us nowhere in terms of having an informed discussion. How many movies are actually about men? What changes by genre, era, or box-office revenue? What circumstances generate more diversity?\n",
    "\n",
    "> We didn’t set out trying to prove anything, but rather compile real data. We framed it as a census rather than a study. So we Googled our way to 8,000 screenplays and matched each character’s lines to an actor. From there, we compiled the number of words spoken by male and female characters across roughly 2,000 films, arguably the largest undertaking of script analysis, ever."
   ]
  },
  {
   "cell_type": "code",
   "execution_count": null,
   "id": "e414c4fb",
   "metadata": {},
   "outputs": [],
   "source": [
    "pd.read_csv(\"data/Pudding-Film-Dialogue-Clean.csv\")"
   ]
  },
  {
   "cell_type": "code",
   "execution_count": null,
   "id": "bcac975e",
   "metadata": {},
   "outputs": [],
   "source": [
    "df = pd.read_csv(\"data/Pudding-Film-Dialogue-Clean.csv\")\n",
    "df.head(5)"
   ]
  },
  {
   "cell_type": "markdown",
   "id": "0e1cfa21",
   "metadata": {},
   "source": [
    "**Question:** What are the different types in each column?"
   ]
  },
  {
   "cell_type": "code",
   "execution_count": null,
   "id": "e4361b58",
   "metadata": {},
   "outputs": [],
   "source": []
  },
  {
   "cell_type": "markdown",
   "id": "d2aa9018",
   "metadata": {},
   "source": [
    "**Question:** This dataframe is pretty big, so lets just sample 1,000 examples and use that instead"
   ]
  },
  {
   "cell_type": "code",
   "execution_count": null,
   "id": "8ea60f46",
   "metadata": {},
   "outputs": [],
   "source": []
  },
  {
   "cell_type": "markdown",
   "id": "bbacd3ba",
   "metadata": {},
   "source": [
    "### Listing columns\n",
    "\n",
    "**Question:** On your own using the documentation, find the two ways we can list the columns.\n",
    "\n",
    "*Hint* One way is a dataframe function and the other is an attribute/instance\n"
   ]
  },
  {
   "cell_type": "code",
   "execution_count": null,
   "id": "0b995390",
   "metadata": {},
   "outputs": [],
   "source": []
  },
  {
   "cell_type": "code",
   "execution_count": null,
   "id": "6af08566",
   "metadata": {},
   "outputs": [],
   "source": []
  },
  {
   "cell_type": "code",
   "execution_count": null,
   "id": "5f480888",
   "metadata": {},
   "outputs": [],
   "source": []
  },
  {
   "cell_type": "markdown",
   "id": "81a436b2",
   "metadata": {},
   "source": [
    "### Accessing columns\n",
    "\n",
    "3 options:\n",
    "\n",
    "- `df.get(<column name>)`\n",
    "- `df[<column name>]` - access like a collection\n",
    "- `df.<column name>` - access like a attribute/method "
   ]
  },
  {
   "cell_type": "code",
   "execution_count": null,
   "id": "8c2716b0",
   "metadata": {},
   "outputs": [],
   "source": [
    "# try first option here\n",
    "df.get('gender')"
   ]
  },
  {
   "cell_type": "code",
   "execution_count": null,
   "id": "7e6b1c61",
   "metadata": {},
   "outputs": [],
   "source": [
    "# try second option here\n",
    "df['gender']"
   ]
  },
  {
   "cell_type": "code",
   "execution_count": null,
   "id": "43770271",
   "metadata": {},
   "outputs": [],
   "source": [
    "# try third option here\n",
    "df.gender"
   ]
  },
  {
   "cell_type": "markdown",
   "id": "502d665f",
   "metadata": {},
   "source": [
    "### Accessing rows"
   ]
  },
  {
   "cell_type": "code",
   "execution_count": null,
   "id": "71df278d",
   "metadata": {},
   "outputs": [],
   "source": [
    "## Access by index label\n",
    "\n",
    "df.loc[4]"
   ]
  },
  {
   "cell_type": "code",
   "execution_count": null,
   "id": "52a57994",
   "metadata": {},
   "outputs": [],
   "source": [
    "## Access by location\n",
    "\n",
    "df.iloc[-1]"
   ]
  },
  {
   "cell_type": "markdown",
   "id": "c114fd97",
   "metadata": {},
   "source": [
    "### Sorting dataframe"
   ]
  },
  {
   "cell_type": "code",
   "execution_count": null,
   "id": "bf104e55",
   "metadata": {},
   "outputs": [],
   "source": [
    "df.keys()"
   ]
  },
  {
   "cell_type": "markdown",
   "id": "2628b9f2",
   "metadata": {},
   "source": [
    "**Question:** What column should we sort by?"
   ]
  },
  {
   "cell_type": "code",
   "execution_count": null,
   "id": "bb9f5761",
   "metadata": {},
   "outputs": [],
   "source": []
  },
  {
   "cell_type": "markdown",
   "id": "1edac27d",
   "metadata": {},
   "source": [
    "**Question:** What two columns should we sort by?"
   ]
  },
  {
   "cell_type": "code",
   "execution_count": null,
   "id": "7ffd29dd",
   "metadata": {},
   "outputs": [],
   "source": []
  },
  {
   "cell_type": "markdown",
   "id": "130adc7a",
   "metadata": {},
   "source": [
    "Return type of dataframe functions"
   ]
  },
  {
   "cell_type": "markdown",
   "id": "978fb2e5",
   "metadata": {},
   "source": [
    "### Querying "
   ]
  },
  {
   "cell_type": "markdown",
   "id": "922df117",
   "metadata": {},
   "source": [
    "**Question:** Find all movies over a certain age"
   ]
  },
  {
   "cell_type": "code",
   "execution_count": null,
   "id": "122f572e",
   "metadata": {},
   "outputs": [],
   "source": []
  },
  {
   "cell_type": "markdown",
   "id": "7cc6164e",
   "metadata": {},
   "source": [
    "**Question:** Make a new dataframe that has movies of just this certain age"
   ]
  },
  {
   "cell_type": "code",
   "execution_count": null,
   "id": "090ab3ff",
   "metadata": {},
   "outputs": [],
   "source": [
    "old_movies = ...\n",
    "old_movies"
   ]
  },
  {
   "cell_type": "markdown",
   "id": "f6243762",
   "metadata": {},
   "source": [
    "Let's look at the indices\n",
    "\n",
    "**Question:** What do we notice about these indices?"
   ]
  },
  {
   "cell_type": "code",
   "execution_count": null,
   "id": "76e4e0f6",
   "metadata": {},
   "outputs": [],
   "source": []
  },
  {
   "cell_type": "markdown",
   "id": "c09b7098",
   "metadata": {},
   "source": [
    "Let's update our indices\n",
    "\n",
    "**Question:** What method do you think we can use?"
   ]
  },
  {
   "cell_type": "code",
   "execution_count": null,
   "id": "4c0f6b20",
   "metadata": {},
   "outputs": [],
   "source": []
  },
  {
   "cell_type": "code",
   "execution_count": null,
   "id": "5c5cc897",
   "metadata": {},
   "outputs": [],
   "source": [
    "df.reset_index?"
   ]
  },
  {
   "cell_type": "markdown",
   "id": "f738c735",
   "metadata": {},
   "source": [
    "Let's not include the original index"
   ]
  },
  {
   "cell_type": "code",
   "execution_count": null,
   "id": "2b48cbfa",
   "metadata": {},
   "outputs": [],
   "source": [
    "df.reset_index?"
   ]
  },
  {
   "cell_type": "markdown",
   "id": "86c4fd7e",
   "metadata": {},
   "source": [
    "#### Querying on Multiple Conditions"
   ]
  },
  {
   "cell_type": "code",
   "execution_count": null,
   "id": "92cd1e43",
   "metadata": {},
   "outputs": [],
   "source": [
    "df[\n",
    "    (df['release_year'] < 1930) # condition 1\n",
    "    & # and \n",
    "    (df['gender'] == 'man') # condition 2\n",
    "]"
   ]
  },
  {
   "cell_type": "markdown",
   "id": "7a745adc",
   "metadata": {},
   "source": [
    "\"|\" for or"
   ]
  },
  {
   "cell_type": "code",
   "execution_count": null,
   "id": "657672d6",
   "metadata": {},
   "outputs": [],
   "source": []
  },
  {
   "cell_type": "code",
   "execution_count": null,
   "id": "722ac13e",
   "metadata": {},
   "outputs": [],
   "source": [
    "df"
   ]
  },
  {
   "cell_type": "markdown",
   "id": "760c2df0",
   "metadata": {},
   "source": [
    "### Values in a column"
   ]
  },
  {
   "cell_type": "markdown",
   "id": "0d5adaa2",
   "metadata": {},
   "source": [
    "**Question:** Based on everything we've seen so far, how can we determine the set of values that are in a column?\n",
    "\n",
    "<details>\n",
    "<summary>Hint</summary>\n",
    "<b>1. Accessing the column; 2. convert the column (Series) to a set</b>  \n",
    "</details>"
   ]
  },
  {
   "cell_type": "code",
   "execution_count": null,
   "id": "2bcec6aa",
   "metadata": {},
   "outputs": [],
   "source": [
    "#skip"
   ]
  },
  {
   "cell_type": "code",
   "execution_count": null,
   "id": "d921d1cc",
   "metadata": {},
   "outputs": [],
   "source": [
    "#skip"
   ]
  },
  {
   "cell_type": "markdown",
   "id": "d7441f4d",
   "metadata": {},
   "source": [
    "`unique()`"
   ]
  },
  {
   "cell_type": "code",
   "execution_count": null,
   "id": "346fe04b",
   "metadata": {},
   "outputs": [],
   "source": [
    "df['gender'].unique()"
   ]
  },
  {
   "cell_type": "markdown",
   "id": "9a8dcf83",
   "metadata": {},
   "source": [
    "**Question:** How many rows have their gender assigned as `woman`, `man`, or `?`\n",
    "\n",
    "(note: 1st using everything we know so far, 2nd using my favoritve method)"
   ]
  },
  {
   "cell_type": "code",
   "execution_count": null,
   "id": "5ea81c2b",
   "metadata": {},
   "outputs": [],
   "source": []
  },
  {
   "cell_type": "code",
   "execution_count": null,
   "id": "d0d17c1f",
   "metadata": {},
   "outputs": [],
   "source": []
  },
  {
   "cell_type": "markdown",
   "id": "3e9320ed",
   "metadata": {},
   "source": [
    "\n",
    "### Grouping "
   ]
  },
  {
   "cell_type": "markdown",
   "id": "d8a14c56",
   "metadata": {},
   "source": [
    "Let's group by gender"
   ]
  },
  {
   "cell_type": "code",
   "execution_count": null,
   "id": "809431f1",
   "metadata": {},
   "outputs": [],
   "source": [
    "gender_groups = df.groupby('gender')\n",
    "gender_groups"
   ]
  },
  {
   "cell_type": "markdown",
   "id": "93e10c16",
   "metadata": {},
   "source": [
    "Now let's find the mean/average values of the other columns for each gender"
   ]
  },
  {
   "cell_type": "code",
   "execution_count": null,
   "id": "e5a62765",
   "metadata": {},
   "outputs": [],
   "source": [
    "gender_groups.mean()"
   ]
  },
  {
   "cell_type": "markdown",
   "id": "54d16eee",
   "metadata": {},
   "source": [
    "**What just happened?**\n",
    "\n",
    "1. The table’s rows are split into groups according to gender. \n",
    "    - All of the rows whose gender is 'man' are placed into one group,\n",
    "    - All of the rows whose gender is 'woman' are placed into another group.\n",
    "    - All of the rows whose gender is `?` are placed into another group\n",
    "\n",
    "2. Each group is aggregated into a single row by average the value of entries in each of the group’s columns.\n",
    "\n",
    "3. The resulting rows are combined to form a new table, with one row for every group."
   ]
  },
  {
   "cell_type": "markdown",
   "id": "b69b148a",
   "metadata": {},
   "source": [
    "**Other aggregation methods:**\n",
    "- .median()\n",
    "- .max()\n",
    "- .min()\n",
    "- .count()"
   ]
  },
  {
   "cell_type": "code",
   "execution_count": null,
   "id": "55312c40",
   "metadata": {},
   "outputs": [],
   "source": [
    "gender_count_df = df.groupby('gender').count()\n",
    "gender_count_df"
   ]
  },
  {
   "cell_type": "markdown",
   "id": "7aaef4e9",
   "metadata": {},
   "source": [
    "Let's group by two columns: `gender` and `age` and find the mean"
   ]
  },
  {
   "cell_type": "code",
   "execution_count": null,
   "id": "809feca2",
   "metadata": {},
   "outputs": [],
   "source": [
    "gender_age_mean_df = df.groupby(['gender', 'age']).mean()\n",
    "gender_age_mean_df"
   ]
  },
  {
   "cell_type": "markdown",
   "id": "3b3e47c6",
   "metadata": {},
   "source": [
    "**Question:** What are the indices of `gender_age_mean_df`? "
   ]
  },
  {
   "cell_type": "code",
   "execution_count": null,
   "id": "c1e585dc",
   "metadata": {},
   "outputs": [],
   "source": [
    "gender_age_mean_df.index"
   ]
  },
  {
   "cell_type": "markdown",
   "id": "302e9fed",
   "metadata": {},
   "source": [
    "This is an example of MultiIndexing. <br>\n",
    "It uses hierarchical indices for representing higher-dimensional data"
   ]
  },
  {
   "cell_type": "markdown",
   "id": "34e7ecb9",
   "metadata": {},
   "source": [
    "**Flattening out the indices**"
   ]
  },
  {
   "cell_type": "markdown",
   "id": "9f25c0b1",
   "metadata": {},
   "source": [
    "`.resent_index()` will flatten out the multi-index for us"
   ]
  },
  {
   "cell_type": "code",
   "execution_count": null,
   "id": "268f1896",
   "metadata": {},
   "outputs": [],
   "source": [
    "gender_age_mean_df.reset_index()"
   ]
  },
  {
   "cell_type": "markdown",
   "id": "190b8004",
   "metadata": {},
   "source": [
    "### Function on a cell\n",
    "\n",
    "> Defining our own functions allows us to make tables even more powerful. One way to use tables with functions is to pass the table into the function as one of its inputs, as we saw in the example above. In some situations, however, we don’t want to apply the function to the entire table, but rather to each entry in one of the table’s columns. In these cases, we can use the .apply method.\n",
    "(https://eldridgejm.github.io/dive_into_data_science/02-data_sets/apply.html#the-apply-series-method)\n",
    "\n",
    "Let's write a function to get the word in a movie title"
   ]
  },
  {
   "cell_type": "code",
   "execution_count": null,
   "id": "8520f8d7",
   "metadata": {},
   "outputs": [],
   "source": [
    "def get_first_word_in_title(title):\n",
    "    return title.split()[0]"
   ]
  },
  {
   "cell_type": "markdown",
   "id": "6b066805",
   "metadata": {},
   "source": [
    "Now let's apply the function to the title column"
   ]
  },
  {
   "cell_type": "code",
   "execution_count": null,
   "id": "cfd59c8c",
   "metadata": {},
   "outputs": [],
   "source": [
    "df['title'].apply(get_first_word_in_title)"
   ]
  },
  {
   "cell_type": "markdown",
   "id": "1214ec4d",
   "metadata": {},
   "source": [
    "#### .map()"
   ]
  },
  {
   "cell_type": "code",
   "execution_count": null,
   "id": "1b2d6950",
   "metadata": {},
   "outputs": [],
   "source": [
    "# start with lambada functions as annonymous functions\n"
   ]
  },
  {
   "cell_type": "markdown",
   "id": "9de4c66f",
   "metadata": {},
   "source": [
    "**lambda** *argument* **:** *expression*"
   ]
  },
  {
   "cell_type": "code",
   "execution_count": null,
   "id": "5e0acec7",
   "metadata": {},
   "outputs": [],
   "source": []
  },
  {
   "cell_type": "code",
   "execution_count": null,
   "id": "f471b4c8",
   "metadata": {},
   "outputs": [],
   "source": []
  },
  {
   "cell_type": "markdown",
   "id": "adc723cd",
   "metadata": {},
   "source": [
    "Good tutoial on map function: https://github.com/ycui1/medium_series_map/blob/master/medium_map_series.ipynb"
   ]
  },
  {
   "cell_type": "markdown",
   "id": "c1b7f08b",
   "metadata": {},
   "source": [
    "### Correlations\n",
    "\n",
    "**Question:** What is correlation?"
   ]
  },
  {
   "cell_type": "code",
   "execution_count": null,
   "id": "2559c3b0",
   "metadata": {},
   "outputs": [],
   "source": [
    "df.corr()"
   ]
  },
  {
   "cell_type": "markdown",
   "id": "49d37a2f",
   "metadata": {},
   "source": [
    "### Merge"
   ]
  },
  {
   "cell_type": "code",
   "execution_count": null,
   "id": "c2ae0fa4",
   "metadata": {},
   "outputs": [],
   "source": [
    "metadata_df = pd.read_csv(\"data/meta_data7.csv\")\n",
    "characters_df = pd.read_csv(\"data/character_list5.csv\")\n",
    "characters_df.shape, metadata_df.shape"
   ]
  },
  {
   "cell_type": "code",
   "execution_count": null,
   "id": "5ad34bc1",
   "metadata": {},
   "outputs": [],
   "source": [
    "metadata_df.head(5)"
   ]
  },
  {
   "cell_type": "code",
   "execution_count": null,
   "id": "2a9da9fc",
   "metadata": {},
   "outputs": [],
   "source": [
    "characters_df.head(5)"
   ]
  },
  {
   "cell_type": "markdown",
   "id": "9d78ecc3",
   "metadata": {},
   "source": [
    "**Question:** How should we combine these? What common attributes are there?"
   ]
  },
  {
   "cell_type": "code",
   "execution_count": null,
   "id": "2c97ffdd",
   "metadata": {},
   "outputs": [],
   "source": [
    "pd.merge(metadata_df, characters_df, on='script_id').shape"
   ]
  },
  {
   "cell_type": "code",
   "execution_count": null,
   "id": "c34ef4c9",
   "metadata": {},
   "outputs": [],
   "source": [
    "pd.merge(metadata_df, characters_df, on='script_id')"
   ]
  },
  {
   "cell_type": "markdown",
   "id": "bb864881",
   "metadata": {},
   "source": [
    "**Question:** What happened?"
   ]
  },
  {
   "cell_type": "markdown",
   "id": "8ca2e7a2",
   "metadata": {},
   "source": [
    "### Date Range"
   ]
  },
  {
   "cell_type": "code",
   "execution_count": null,
   "id": "21db49c6",
   "metadata": {},
   "outputs": [],
   "source": [
    "pd.date_range(start='24/4/2020', end='24/5/2020', freq='D')"
   ]
  },
  {
   "cell_type": "code",
   "execution_count": null,
   "id": "d64b3c08",
   "metadata": {},
   "outputs": [],
   "source": [
    "timestamp = pd.date_range(start='24/4/2020', end='24/5/2020', freq='D')[0]\n",
    "timestamp"
   ]
  },
  {
   "cell_type": "markdown",
   "id": "312acf99",
   "metadata": {},
   "source": [
    "There is a lot we can get from a timestamp:"
   ]
  },
  {
   "cell_type": "code",
   "execution_count": null,
   "id": "0e4032fc",
   "metadata": {},
   "outputs": [],
   "source": [
    "print(timestamp.day_name())\n",
    "print(timestamp.day_of_week)\n",
    "print(timestamp.day_of_year)"
   ]
  },
  {
   "cell_type": "markdown",
   "id": "5b1116ef",
   "metadata": {},
   "source": [
    "(back to slides)\n",
    "## Matplotlib"
   ]
  },
  {
   "cell_type": "code",
   "execution_count": null,
   "id": "5d7443de",
   "metadata": {},
   "outputs": [],
   "source": [
    "import matplotlib.pyplot as plt\n",
    "fig = plt.figure()\n",
    "fig.title('figure_title')\n",
    "plt.show()"
   ]
  },
  {
   "cell_type": "code",
   "execution_count": null,
   "id": "7c680a0c",
   "metadata": {},
   "outputs": [],
   "source": [
    "import matplotlib.pyplot as plt\n",
    "fig = plt.figure()  \n",
    "fig.show()"
   ]
  },
  {
   "cell_type": "code",
   "execution_count": null,
   "id": "38f6b76f",
   "metadata": {},
   "outputs": [],
   "source": [
    "fig, ax = plt.subplots()\n",
    "ax.set_title(\"Empty Axis\")"
   ]
  },
  {
   "cell_type": "code",
   "execution_count": null,
   "id": "b7f9920e",
   "metadata": {},
   "outputs": [],
   "source": [
    "fig, axes_lst = plt.subplots(2, 2)\n",
    "# 2x2 grid of Axes\n",
    "fig.suptitle('Title')\n",
    "axes_lst[0, 0].set_title('Axes 0')\n",
    "axes_lst[0, 0].set_ylabel('y')\n",
    "axes_lst[1, 1].set_xlabel('x')\n",
    "plt.show()"
   ]
  },
  {
   "cell_type": "markdown",
   "id": "4a79762b",
   "metadata": {},
   "source": [
    "(back to slides)\n",
    "\n",
    "### Plotting DataFrames"
   ]
  },
  {
   "cell_type": "code",
   "execution_count": null,
   "id": "05d015f5",
   "metadata": {},
   "outputs": [],
   "source": [
    "df = df.sample(1000)"
   ]
  },
  {
   "cell_type": "code",
   "execution_count": null,
   "id": "ee8cc556",
   "metadata": {},
   "outputs": [],
   "source": [
    "df.plot()"
   ]
  },
  {
   "cell_type": "code",
   "execution_count": null,
   "id": "efa65ba6",
   "metadata": {},
   "outputs": [],
   "source": [
    "df.plot(subplots=True)"
   ]
  },
  {
   "cell_type": "markdown",
   "id": "4cf29387",
   "metadata": {},
   "source": [
    "#### Types of charts\n",
    "\n",
    "- scatter plot: identify associations between two numerical variables\n",
    "- line graph: identify trends in one numerical variable as another increases. often used to see trends over time.\n",
    "- bar chart: visualize the distribution of a categorical variable\n",
    "- histogram: visualize the distribution of a numerical variable"
   ]
  },
  {
   "cell_type": "markdown",
   "id": "5c5ded04",
   "metadata": {},
   "source": [
    "**Question:**  Is there an association between the number of words a character has and the percentage of time they speek in the movie?"
   ]
  },
  {
   "cell_type": "code",
   "execution_count": null,
   "id": "187cde88",
   "metadata": {},
   "outputs": [],
   "source": []
  },
  {
   "cell_type": "markdown",
   "id": "26741f55",
   "metadata": {},
   "source": [
    "**Question:** Is there a trend in the total number of words in each movie based on the year the movie came out?"
   ]
  },
  {
   "cell_type": "code",
   "execution_count": null,
   "id": "0a10c789",
   "metadata": {},
   "outputs": [],
   "source": [
    "movie_sums = pd.read_csv(\"data/Pudding-Film-Dialogue-Clean.csv\").groupby('title').sum()"
   ]
  },
  {
   "cell_type": "code",
   "execution_count": null,
   "id": "ff3eb361",
   "metadata": {},
   "outputs": [],
   "source": [
    "movie_sums"
   ]
  },
  {
   "cell_type": "code",
   "execution_count": null,
   "id": "2624daf2",
   "metadata": {},
   "outputs": [],
   "source": [
    "df.plot(kind='line', x='release_year', y='words')"
   ]
  },
  {
   "cell_type": "code",
   "execution_count": null,
   "id": "bf91dbf2",
   "metadata": {},
   "outputs": [],
   "source": [
    "df.sample(100).plot(kind='scatter', x='words', y='age')"
   ]
  },
  {
   "cell_type": "code",
   "execution_count": null,
   "id": "2b330309",
   "metadata": {},
   "outputs": [],
   "source": [
    "df['age'].describe()"
   ]
  },
  {
   "cell_type": "code",
   "execution_count": null,
   "id": "75c2f03e",
   "metadata": {},
   "outputs": [],
   "source": [
    "df['age'] > 2000"
   ]
  },
  {
   "cell_type": "markdown",
   "id": "422a97b4",
   "metadata": {},
   "source": [
    "**Question:** Let's come up with a new question together"
   ]
  },
  {
   "cell_type": "markdown",
   "id": "b8f1fcb2",
   "metadata": {},
   "source": [
    "**Question:** Lets make a bar plot that shows the average number of words broken down by gender and age (old) movies."
   ]
  },
  {
   "cell_type": "code",
   "execution_count": null,
   "id": "112788e5",
   "metadata": {},
   "outputs": [],
   "source": []
  },
  {
   "cell_type": "markdown",
   "id": "54f589a4",
   "metadata": {},
   "source": [
    "## Regex\n",
    "(table in pdf in other window)"
   ]
  },
  {
   "cell_type": "code",
   "execution_count": null,
   "id": "8b5eb06a",
   "metadata": {},
   "outputs": [],
   "source": []
  }
 ],
 "metadata": {
  "kernelspec": {
   "display_name": "Python 3",
   "language": "python",
   "name": "python3"
  },
  "language_info": {
   "codemirror_mode": {
    "name": "ipython",
    "version": 3
   },
   "file_extension": ".py",
   "mimetype": "text/x-python",
   "name": "python",
   "nbconvert_exporter": "python",
   "pygments_lexer": "ipython3",
   "version": "3.8.8"
  }
 },
 "nbformat": 4,
 "nbformat_minor": 5
}
