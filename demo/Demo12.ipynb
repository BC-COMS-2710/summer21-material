{
 "cells": [
  {
   "cell_type": "markdown",
   "id": "9ed6f38f",
   "metadata": {},
   "source": [
    "# Demo 12"
   ]
  },
  {
   "cell_type": "code",
   "execution_count": null,
   "id": "09b13fdb",
   "metadata": {},
   "outputs": [],
   "source": [
    "import re\n",
    "import pandas as pd\n",
    "import numpy as np"
   ]
  },
  {
   "cell_type": "markdown",
   "id": "302b49dd",
   "metadata": {},
   "source": [
    "## Common Crawl\n",
    "\n",
    "[comcrawl](https://github.com/michaelharms/comcrawl) is a python utility for downloading Common Crawl data"
   ]
  },
  {
   "cell_type": "code",
   "execution_count": null,
   "id": "b3577d7f",
   "metadata": {},
   "outputs": [],
   "source": [
    "!pip install comcrawl"
   ]
  },
  {
   "cell_type": "code",
   "execution_count": null,
   "id": "9d95d63a",
   "metadata": {},
   "outputs": [],
   "source": [
    "from comcrawl import IndexClient\n",
    "\n",
    "client = IndexClient([\"2019-47\"])\n",
    "\n",
    "client.search(\"reddit.com/r/MachineLearning/*\")\n",
    "client.download()\n",
    "\n",
    "first_page_html = client.results[0][\"html\"]"
   ]
  },
  {
   "cell_type": "code",
   "execution_count": null,
   "id": "f721d91c",
   "metadata": {},
   "outputs": [],
   "source": [
    "len(client.results)"
   ]
  },
  {
   "cell_type": "code",
   "execution_count": null,
   "id": "2ca18664",
   "metadata": {},
   "outputs": [],
   "source": [
    "client.results[0].keys()"
   ]
  },
  {
   "cell_type": "markdown",
   "id": "3e301852",
   "metadata": {},
   "source": [
    "## Requests & Responses\n",
    "\n",
    "We can make requests in python using the [requests module](https://docs.python-requests.org/en/master/)"
   ]
  },
  {
   "cell_type": "code",
   "execution_count": null,
   "id": "a1f08b31",
   "metadata": {},
   "outputs": [],
   "source": [
    "import requests"
   ]
  },
  {
   "cell_type": "markdown",
   "id": "754023bf",
   "metadata": {},
   "source": [
    "### Downloading text or csv files"
   ]
  },
  {
   "cell_type": "code",
   "execution_count": null,
   "id": "2bdcc230",
   "metadata": {},
   "outputs": [],
   "source": [
    "response = requests.get(\"https://www.gutenberg.org/cache/epub/1404/pg1404.txt\")\n",
    "response"
   ]
  },
  {
   "cell_type": "code",
   "execution_count": null,
   "id": "eeb1bd26",
   "metadata": {},
   "outputs": [],
   "source": [
    "response = requests.get(\"https://manifesto-project.wzb.eu//tools/documents/2020-2/coded/61320_199211.csv\")\n",
    "response"
   ]
  },
  {
   "cell_type": "code",
   "execution_count": null,
   "id": "c0cf94ae",
   "metadata": {
    "tags": []
   },
   "outputs": [],
   "source": [
    "response.content"
   ]
  },
  {
   "cell_type": "markdown",
   "id": "70b92f7c",
   "metadata": {},
   "source": [
    "**Other aspects of a response**"
   ]
  },
  {
   "cell_type": "code",
   "execution_count": null,
   "id": "0a028444",
   "metadata": {},
   "outputs": [],
   "source": [
    "response.url"
   ]
  },
  {
   "cell_type": "code",
   "execution_count": null,
   "id": "38023373",
   "metadata": {},
   "outputs": [],
   "source": [
    "response.connection"
   ]
  },
  {
   "cell_type": "code",
   "execution_count": null,
   "id": "e8515801",
   "metadata": {},
   "outputs": [],
   "source": [
    "response.cookies"
   ]
  },
  {
   "cell_type": "markdown",
   "id": "ae3e0bd3",
   "metadata": {},
   "source": [
    "**Bad Response**"
   ]
  },
  {
   "cell_type": "code",
   "execution_count": null,
   "id": "f4c3ff43",
   "metadata": {},
   "outputs": [],
   "source": [
    "bad_response = requests.get(\"http://www.scifiscripts.com/scripts/Ghostboogers.txt\")\n",
    "bad_response"
   ]
  },
  {
   "cell_type": "markdown",
   "id": "55871ecd",
   "metadata": {},
   "source": [
    "### Downloading HTML\n",
    "\n",
    "Often times, we cant just download a text file directly but we need to actually extract data from a website. Let's look at \n",
    "these [Weekly Presidential addresses](https://www.presidency.ucsb.edu/documents/app-categories/spoken-addresses-and-remarks/presidential/saturday-weekly-addresses-radio) as an example."
   ]
  },
  {
   "cell_type": "markdown",
   "id": "cba3eb37",
   "metadata": {},
   "source": [
    "(back to slides)"
   ]
  },
  {
   "cell_type": "markdown",
   "id": "df522754",
   "metadata": {},
   "source": [
    "## Weekly Saturday Presidential Addresses"
   ]
  },
  {
   "cell_type": "markdown",
   "id": "a72a8da6",
   "metadata": {},
   "source": [
    "### Inspecting elements\n",
    "\n",
    "Let's find the HTML element that contain's the text from Reagan's address in https://www.presidency.ucsb.edu/documents/radio-address-the-nation-solidarity-and-united-states-relations-with-poland"
   ]
  },
  {
   "cell_type": "markdown",
   "id": "9cd227cd",
   "metadata": {},
   "source": [
    "**Question:** What type of tag is the element that contains the speech?\n",
    "    "
   ]
  },
  {
   "cell_type": "markdown",
   "id": "71dceb59",
   "metadata": {},
   "source": [
    "**Question:** What is the id or class name of the tag?"
   ]
  },
  {
   "cell_type": "markdown",
   "id": "cb3c180c",
   "metadata": {},
   "source": [
    "**Question:** Is this the same for another speech? Look at https://www.presidency.ucsb.edu/documents/the-presidents-weekly-address-175 for example"
   ]
  },
  {
   "cell_type": "markdown",
   "id": "748cec99",
   "metadata": {},
   "source": [
    "### BeatifulSoup"
   ]
  },
  {
   "cell_type": "code",
   "execution_count": null,
   "id": "4488525c",
   "metadata": {},
   "outputs": [],
   "source": [
    "\n",
    "from bs4 import BeautifulSoup"
   ]
  },
  {
   "cell_type": "markdown",
   "id": "be3c64ec",
   "metadata": {},
   "source": [
    "Home URL:\n",
    "    <br>\n",
    "https://www.presidency.ucsb.edu/documents/app-categories/spoken-addresses-and-remarks/presidential/saturday-weekly-addresses-radio"
   ]
  },
  {
   "cell_type": "markdown",
   "id": "92d196d1",
   "metadata": {},
   "source": [
    "#### Download home page of Saturday Weekly Addresses"
   ]
  },
  {
   "cell_type": "code",
   "execution_count": null,
   "id": "68dd3023",
   "metadata": {},
   "outputs": [],
   "source": [
    "domain_url = \"https://www.presidency.ucsb.edu/\""
   ]
  },
  {
   "cell_type": "code",
   "execution_count": null,
   "id": "1000b11d",
   "metadata": {},
   "outputs": [],
   "source": [
    "home_url = \"https://www.presidency.ucsb.edu/documents/app-categories/spoken-addresses-and-remarks/presidential/saturday-weekly-addresses-radio\"\n",
    "\n",
    "response = requests.get(home_url)\n",
    "response"
   ]
  },
  {
   "cell_type": "code",
   "execution_count": null,
   "id": "d5a3bea4",
   "metadata": {},
   "outputs": [],
   "source": [
    "\" \".join(dir(response))"
   ]
  },
  {
   "cell_type": "code",
   "execution_count": null,
   "id": "461a5ccd",
   "metadata": {
    "tags": []
   },
   "outputs": [],
   "source": [
    "response.content"
   ]
  },
  {
   "cell_type": "markdown",
   "id": "a5034e4f",
   "metadata": {},
   "source": [
    "#### Parse page with BeautifulSoup"
   ]
  },
  {
   "cell_type": "code",
   "execution_count": null,
   "id": "b4736eaf",
   "metadata": {},
   "outputs": [],
   "source": [
    "soup = BeautifulSoup(response.content, 'html.parser')\n",
    "type(soup)"
   ]
  },
  {
   "cell_type": "code",
   "execution_count": null,
   "id": "975f33f5",
   "metadata": {
    "tags": []
   },
   "outputs": [],
   "source": [
    "view_content = soup.find_all(\"div\", \"view-content\")\n",
    "view_content"
   ]
  },
  {
   "cell_type": "markdown",
   "id": "7183e82d",
   "metadata": {},
   "source": [
    "**Question:** What type does `find_all` return?"
   ]
  },
  {
   "cell_type": "code",
   "execution_count": null,
   "id": "dfd66868",
   "metadata": {},
   "outputs": [],
   "source": []
  },
  {
   "cell_type": "markdown",
   "id": "2628cd71",
   "metadata": {},
   "source": [
    "**Question:** What is the class for each row with links to the weekly address?\n",
    "    \n",
    "<details>\n",
    "<summary>Solution</summary>\n",
    "   \"views-row\"\n",
    "\n",
    "</details>"
   ]
  },
  {
   "cell_type": "code",
   "execution_count": null,
   "id": "c9952545",
   "metadata": {},
   "outputs": [],
   "source": []
  },
  {
   "cell_type": "code",
   "execution_count": null,
   "id": "3d3ea9c0",
   "metadata": {},
   "outputs": [],
   "source": []
  },
  {
   "cell_type": "code",
   "execution_count": null,
   "id": "7bdc59ef",
   "metadata": {},
   "outputs": [],
   "source": []
  },
  {
   "cell_type": "code",
   "execution_count": null,
   "id": "d0f5b366",
   "metadata": {},
   "outputs": [],
   "source": []
  },
  {
   "cell_type": "code",
   "execution_count": null,
   "id": "893724ac",
   "metadata": {},
   "outputs": [],
   "source": [
    "view_content[0].find_all(\"div\", \"views-row\")[4]"
   ]
  },
  {
   "cell_type": "markdown",
   "id": "b190de92",
   "metadata": {},
   "source": [
    "**Question:** Let's look at a few of the `views-row` divs and see any patterns"
   ]
  },
  {
   "cell_type": "code",
   "execution_count": null,
   "id": "04daceb1",
   "metadata": {},
   "outputs": [],
   "source": [
    "view_content[0].find_all(\"div\", \"views-row\")[0]"
   ]
  },
  {
   "cell_type": "code",
   "execution_count": null,
   "id": "f8288917",
   "metadata": {},
   "outputs": [],
   "source": [
    "# pattern is below"
   ]
  },
  {
   "cell_type": "code",
   "execution_count": null,
   "id": "6a4d8c47",
   "metadata": {},
   "outputs": [],
   "source": []
  },
  {
   "cell_type": "code",
   "execution_count": null,
   "id": "8f840a32",
   "metadata": {},
   "outputs": [],
   "source": []
  },
  {
   "cell_type": "code",
   "execution_count": null,
   "id": "eb073124",
   "metadata": {},
   "outputs": [],
   "source": []
  },
  {
   "cell_type": "code",
   "execution_count": null,
   "id": "850f29c1",
   "metadata": {},
   "outputs": [],
   "source": []
  },
  {
   "cell_type": "code",
   "execution_count": null,
   "id": "7cd82869",
   "metadata": {},
   "outputs": [],
   "source": [
    "view_content[0].find_all(\"div\", \"views-row\")[4].find_all('a', {'href': re.compile(r'documents/')})"
   ]
  },
  {
   "cell_type": "code",
   "execution_count": null,
   "id": "d07d51b5",
   "metadata": {},
   "outputs": [],
   "source": [
    "view_content[0].find_all(\"div\", \"views-row\")[4].find_all('a', {'href': re.compile(r'documents/')})[0]"
   ]
  },
  {
   "cell_type": "code",
   "execution_count": null,
   "id": "e535d92b",
   "metadata": {},
   "outputs": [],
   "source": [
    "view_content[0].find_all(\"div\", \"views-row\")[4].find_all('a', {'href': re.compile(r'documents/')})[0]['href']"
   ]
  },
  {
   "cell_type": "markdown",
   "id": "92a5e3a0",
   "metadata": {},
   "source": [
    "Extract the urls from the \"Saturday Weekly Address Page\""
   ]
  },
  {
   "cell_type": "code",
   "execution_count": null,
   "id": "12165d79",
   "metadata": {},
   "outputs": [],
   "source": [
    "address_urls = []\n",
    "for row in view_content[0].find_all(\"div\", \"views-row\"):\n",
    "    address_urls.append(row.find_all('a', {'href': re.compile(r'documents/')})[0]['href'])\n",
    "address_urls"
   ]
  },
  {
   "cell_type": "code",
   "execution_count": null,
   "id": "b23d97c2",
   "metadata": {},
   "outputs": [],
   "source": [
    "row.find_all('a', {'href': re.compile(r'documents/')})[0]['href']"
   ]
  },
  {
   "cell_type": "markdown",
   "id": "683f6615",
   "metadata": {},
   "source": [
    "#### Parse Individual Address"
   ]
  },
  {
   "cell_type": "code",
   "execution_count": null,
   "id": "8184e1f5",
   "metadata": {},
   "outputs": [],
   "source": [
    "curr_response = requests.get(domain_url + address_urls[0])\n",
    "curr_response"
   ]
  },
  {
   "cell_type": "code",
   "execution_count": null,
   "id": "0b27553e",
   "metadata": {
    "tags": []
   },
   "outputs": [],
   "source": [
    "curr_soup = BeautifulSoup(curr_response.content)\n",
    "curr_soup"
   ]
  },
  {
   "cell_type": "markdown",
   "id": "dd38fd62",
   "metadata": {},
   "source": [
    "**Question:** What information should we extract from each address?\n",
    "\n",
    "- Speech\n",
    "- President\n",
    "- Date"
   ]
  },
  {
   "cell_type": "markdown",
   "id": "f0c9d4c0",
   "metadata": {},
   "source": [
    "##### Extract Speech\n",
    "\n",
    "**Question:** What class name is the div for the text of the speech?\n",
    "\n",
    "(Answer below)"
   ]
  },
  {
   "cell_type": "code",
   "execution_count": null,
   "id": "ce29afb5",
   "metadata": {},
   "outputs": [],
   "source": []
  },
  {
   "cell_type": "code",
   "execution_count": null,
   "id": "09383efb",
   "metadata": {},
   "outputs": [],
   "source": []
  },
  {
   "cell_type": "code",
   "execution_count": null,
   "id": "0a09f8eb",
   "metadata": {},
   "outputs": [],
   "source": []
  },
  {
   "cell_type": "code",
   "execution_count": null,
   "id": "0fb9335e",
   "metadata": {},
   "outputs": [],
   "source": []
  },
  {
   "cell_type": "code",
   "execution_count": null,
   "id": "331709a4",
   "metadata": {},
   "outputs": [],
   "source": [
    "curr_soup.find_all(\"div\", \"field-docs-content\")"
   ]
  },
  {
   "cell_type": "code",
   "execution_count": null,
   "id": "78cb516d",
   "metadata": {},
   "outputs": [],
   "source": [
    "curr_soup.find_all(\"div\", \"field-docs-content\")[0].text"
   ]
  },
  {
   "cell_type": "markdown",
   "id": "78f75714",
   "metadata": {},
   "source": [
    "##### Extract President Name\n",
    "\n",
    "**Question:** What class name is the div for the name of the president?\n",
    "\n",
    "(Answer below)"
   ]
  },
  {
   "cell_type": "code",
   "execution_count": null,
   "id": "e046a50f",
   "metadata": {},
   "outputs": [],
   "source": []
  },
  {
   "cell_type": "code",
   "execution_count": null,
   "id": "0bd3115e",
   "metadata": {},
   "outputs": [],
   "source": []
  },
  {
   "cell_type": "code",
   "execution_count": null,
   "id": "89e7cf2c",
   "metadata": {},
   "outputs": [],
   "source": []
  },
  {
   "cell_type": "code",
   "execution_count": null,
   "id": "b321c52a",
   "metadata": {},
   "outputs": [],
   "source": [
    "curr_soup.find_all(\"div\", \"field-docs-person\")[0].text"
   ]
  },
  {
   "cell_type": "code",
   "execution_count": null,
   "id": "e502f522",
   "metadata": {},
   "outputs": [],
   "source": [
    "curr_soup.find_all(\"div\", \"field-docs-person\")[0].find(\"h3\", \"diet-title\").text"
   ]
  },
  {
   "cell_type": "markdown",
   "id": "a673b54e",
   "metadata": {},
   "source": [
    "##### Extract Date\n",
    "\n",
    "**Question:** What class name is the div for the date of the speech?\n",
    "\n",
    "(Answer below)"
   ]
  },
  {
   "cell_type": "code",
   "execution_count": null,
   "id": "b20f33d3",
   "metadata": {},
   "outputs": [],
   "source": []
  },
  {
   "cell_type": "code",
   "execution_count": null,
   "id": "1aef2291",
   "metadata": {},
   "outputs": [],
   "source": []
  },
  {
   "cell_type": "code",
   "execution_count": null,
   "id": "5b3a32ea",
   "metadata": {},
   "outputs": [],
   "source": []
  },
  {
   "cell_type": "code",
   "execution_count": null,
   "id": "a6b877ca",
   "metadata": {},
   "outputs": [],
   "source": [
    "curr_soup.find(\"div\", \"field-docs-start-date-time\").text"
   ]
  },
  {
   "cell_type": "code",
   "execution_count": null,
   "id": "5b8977fe",
   "metadata": {},
   "outputs": [],
   "source": [
    "curr_soup.find(\"div\", \"field-docs-start-date-time\").text.strip()"
   ]
  },
  {
   "cell_type": "markdown",
   "id": "9839f537",
   "metadata": {},
   "source": [
    "#### Loop through all addresses on the first page"
   ]
  },
  {
   "cell_type": "code",
   "execution_count": null,
   "id": "d1eda238",
   "metadata": {},
   "outputs": [],
   "source": [
    "%%time \n",
    "\n",
    "speeches, presidents, dates = [], [], []\n",
    "\n",
    "for address_url in address_urls:\n",
    "    print(address_url)\n",
    "    curr_response = requests.get(domain_url + address_url)\n",
    "    \n",
    "    curr_soup = BeautifulSoup(curr_response.content)\n",
    "    \n",
    "    speeches.append(curr_soup.find_all(\"div\", \"field-docs-content\")[0].text)\n",
    "    presidents.append(curr_soup.find_all(\"div\", \"field-docs-person\")[0].find(\"h3\", \"diet-title\").text)\n",
    "    dates.append(curr_soup.find(\"div\", \"field-docs-start-date-time\").text.strip())"
   ]
  },
  {
   "cell_type": "code",
   "execution_count": null,
   "id": "80bebc27",
   "metadata": {},
   "outputs": [],
   "source": [
    "pd.DataFrame({\"speech\": speeches,\n",
    "              \"president\": presidents,\n",
    "              \"date\": dates})"
   ]
  },
  {
   "cell_type": "markdown",
   "id": "2f28de73",
   "metadata": {},
   "source": [
    "#### Loop through all addresses"
   ]
  },
  {
   "cell_type": "markdown",
   "id": "e5890203",
   "metadata": {},
   "source": [
    "**Question:** What on the original page can we use to get all other addresses?"
   ]
  },
  {
   "cell_type": "markdown",
   "id": "af997076",
   "metadata": {},
   "source": [
    "https://www.presidency.ucsb.edu/documents/app-categories/spoken-addresses-and-remarks/presidential/saturday-weekly-addresses-radio"
   ]
  },
  {
   "cell_type": "code",
   "execution_count": null,
   "id": "22933ed0",
   "metadata": {},
   "outputs": [],
   "source": []
  },
  {
   "cell_type": "markdown",
   "id": "af24c3ed",
   "metadata": {},
   "source": [
    "**Question:** How can we leverage this?"
   ]
  },
  {
   "cell_type": "code",
   "execution_count": null,
   "id": "c7705af2",
   "metadata": {},
   "outputs": [],
   "source": []
  },
  {
   "cell_type": "markdown",
   "id": "78e70511",
   "metadata": {},
   "source": [
    "**Question:** What is another approach we can take via some hard coding?\n",
    "\n",
    "Run the next cell and lets see if we see a pattern?"
   ]
  },
  {
   "cell_type": "code",
   "execution_count": null,
   "id": "e480f595",
   "metadata": {},
   "outputs": [],
   "source": []
  },
  {
   "cell_type": "code",
   "execution_count": null,
   "id": "02228fbb",
   "metadata": {},
   "outputs": [],
   "source": []
  },
  {
   "cell_type": "code",
   "execution_count": null,
   "id": "8d04059c",
   "metadata": {},
   "outputs": [],
   "source": []
  },
  {
   "cell_type": "code",
   "execution_count": null,
   "id": "6907b4d3",
   "metadata": {},
   "outputs": [],
   "source": [
    "soup.find_all(\"ul\", \"pagination\")"
   ]
  },
  {
   "cell_type": "markdown",
   "id": "be98f3eb",
   "metadata": {},
   "source": [
    "**Question:** What pattern do we notice here?"
   ]
  },
  {
   "cell_type": "code",
   "execution_count": null,
   "id": "df95d07c",
   "metadata": {},
   "outputs": [],
   "source": []
  },
  {
   "cell_type": "code",
   "execution_count": null,
   "id": "6103751d",
   "metadata": {},
   "outputs": [],
   "source": []
  },
  {
   "cell_type": "markdown",
   "id": "141edd97",
   "metadata": {},
   "source": [
    "Let's bring it all together"
   ]
  },
  {
   "cell_type": "code",
   "execution_count": null,
   "id": "a1190ef6",
   "metadata": {},
   "outputs": [],
   "source": [
    "from tqdm import tqdm\n",
    "for idx in tqdm(range(100000)):\n",
    "    np.arange(idx) ** 2"
   ]
  },
  {
   "cell_type": "markdown",
   "id": "51ca82dc",
   "metadata": {},
   "source": [
    "*Note: Run code and then discuss it. The code will take about 3 minutes to run*"
   ]
  },
  {
   "cell_type": "code",
   "execution_count": null,
   "id": "9eed17b4",
   "metadata": {},
   "outputs": [],
   "source": [
    "%%time\n",
    "\n",
    "speeches, presidents, dates = [], [], []\n",
    "\n",
    "response = requests.get(home_url)\n",
    "for idx in tqdm(range(163, 133, -1)): # for time sake let's change only do this for 30 pages\n",
    "    home_url = \"https://www.presidency.ucsb.edu/documents/app-categories/spoken-addresses-and-remarks/presidential/saturday-weekly-addresses-radio\"\n",
    "    response = requests.get(home_url + f\"?page={idx}\")\n",
    "    \n",
    "    soup = BeautifulSoup(response.content)\n",
    "    \n",
    "    view_content = soup.find_all(\"div\", \"view-content\")\n",
    "    address_urls = []\n",
    "    for row in view_content[0].find_all(\"div\", \"views-row\"):\n",
    "        address_urls.append(row.find_all('a', {'href': re.compile(r'documents/')})[0]['href'])\n",
    "\n",
    "        \n",
    "    for address_url in address_urls:\n",
    "        curr_response = requests.get(domain_url + address_url)\n",
    "        \n",
    "        curr_soup = BeautifulSoup(curr_response.content)\n",
    "\n",
    "\n",
    "        speeches.append(curr_soup.find_all(\"div\", \"field-docs-content\")[0].text)\n",
    "        presidents.append(curr_soup.find_all(\"div\", \"field-docs-person\")[0].find(\"h3\", \"diet-title\").text)\n",
    "        dates.append(curr_soup.find(\"div\", \"field-docs-start-date-time\").text.strip())\n",
    "    \n",
    "    "
   ]
  },
  {
   "cell_type": "code",
   "execution_count": null,
   "id": "a297fff7",
   "metadata": {},
   "outputs": [],
   "source": [
    "weekly_addresses_df = pd.DataFrame(\n",
    "              {\"speech\": speeches,\n",
    "              \"president\": presidents,\n",
    "              \"date\": dates})\n",
    "\n",
    "weekly_addresses_df"
   ]
  },
  {
   "cell_type": "markdown",
   "id": "e5b43940",
   "metadata": {},
   "source": [
    "Don't run the next cell, it downloads all the speehces. The next cell takes about 20 minutes to run"
   ]
  },
  {
   "cell_type": "code",
   "execution_count": null,
   "id": "18ef291e",
   "metadata": {},
   "outputs": [],
   "source": [
    "%%time\n",
    "\n",
    "speeches, presidents, dates = [], [], []\n",
    "\n",
    "response = requests.get(home_url)\n",
    "for idx in tqdm(range(163, 0, -1)): # for time sake let's change only do this for 30 pages\n",
    "    home_url = \"https://www.presidency.ucsb.edu/documents/app-categories/spoken-addresses-and-remarks/presidential/saturday-weekly-addresses-radio\"\n",
    "    response = requests.get(home_url + f\"?page={idx}\")\n",
    "    \n",
    "    soup = BeautifulSoup(response.content)\n",
    "    \n",
    "    view_content = soup.find_all(\"div\", \"view-content\")\n",
    "    address_urls = []\n",
    "    for row in view_content[0].find_all(\"div\", \"views-row\"):\n",
    "        address_urls.append(row.find_all('a', {'href': re.compile(r'documents/')})[0]['href'])\n",
    "\n",
    "        \n",
    "    for address_url in address_urls:\n",
    "        curr_response = requests.get(domain_url + address_url)\n",
    "        \n",
    "        curr_soup = BeautifulSoup(curr_response.content)\n",
    "\n",
    "\n",
    "        speeches.append(curr_soup.find_all(\"div\", \"field-docs-content\")[0].text)\n",
    "        presidents.append(curr_soup.find_all(\"div\", \"field-docs-person\")[0].find(\"h3\", \"diet-title\").text)\n",
    "        dates.append(curr_soup.find(\"div\", \"field-docs-start-date-time\").text.strip())\n",
    "    \n",
    "weekly_addresses_df = pd.DataFrame(\n",
    "              {\"speech\": speeches,\n",
    "              \"president\": presidents,\n",
    "              \"date\": dates})\n",
    "\n",
    "weekly_addresses_df.to_csv(\"data/weekly_addresses.csv\")  "
   ]
  },
  {
   "cell_type": "code",
   "execution_count": null,
   "id": "0968153c",
   "metadata": {},
   "outputs": [],
   "source": [
    "weekly_addresses_df['date'].unique()"
   ]
  },
  {
   "cell_type": "code",
   "execution_count": null,
   "id": "43917ec3",
   "metadata": {},
   "outputs": [],
   "source": [
    "weekly_addresses_df.shape"
   ]
  },
  {
   "cell_type": "code",
   "execution_count": null,
   "id": "e7a2891f",
   "metadata": {},
   "outputs": [],
   "source": [
    "weekly_addresses_df.to_csv(\"data/weekly_addresses.csv\", index=False)"
   ]
  },
  {
   "cell_type": "code",
   "execution_count": null,
   "id": "3e851655",
   "metadata": {},
   "outputs": [],
   "source": []
  }
 ],
 "metadata": {
  "kernelspec": {
   "display_name": "Python 3",
   "language": "python",
   "name": "python3"
  },
  "language_info": {
   "codemirror_mode": {
    "name": "ipython",
    "version": 3
   },
   "file_extension": ".py",
   "mimetype": "text/x-python",
   "name": "python",
   "nbconvert_exporter": "python",
   "pygments_lexer": "ipython3",
   "version": "3.8.8"
  }
 },
 "nbformat": 4,
 "nbformat_minor": 5
}
