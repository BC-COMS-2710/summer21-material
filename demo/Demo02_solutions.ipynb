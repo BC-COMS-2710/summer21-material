{
 "cells": [
  {
   "cell_type": "markdown",
   "metadata": {},
   "source": [
    "# Python Overview\n",
    "\n",
    "This notebook covers an introduction to Python. It includes:\n",
    "\n",
    "- data types\n",
    "- functions\n",
    "- control flow\n",
    "- files"
   ]
  },
  {
   "cell_type": "markdown",
   "metadata": {},
   "source": [
    "## Data Types"
   ]
  },
  {
   "cell_type": "markdown",
   "metadata": {},
   "source": [
    "### Variables & Names"
   ]
  },
  {
   "cell_type": "markdown",
   "metadata": {},
   "source": [
    "When programming, we use variables to keep track of data. In the following example, we add two numbers togetherWe differentiate our variables by naming them"
   ]
  },
  {
   "cell_type": "markdown",
   "metadata": {},
   "source": [
    "The following line is an expression where we compute a value, specifically 2+2"
   ]
  },
  {
   "cell_type": "code",
   "execution_count": 1,
   "metadata": {},
   "outputs": [
    {
     "data": {
      "text/plain": [
       "4"
      ]
     },
     "execution_count": 1,
     "metadata": {},
     "output_type": "execute_result"
    }
   ],
   "source": [
    "2+2"
   ]
  },
  {
   "cell_type": "markdown",
   "metadata": {},
   "source": [
    "We can use a variable to store the value returned by the expression. We assign the value to the variable by using the `=` sign."
   ]
  },
  {
   "cell_type": "code",
   "execution_count": 2,
   "metadata": {},
   "outputs": [],
   "source": [
    "a = 2+2"
   ]
  },
  {
   "cell_type": "markdown",
   "metadata": {},
   "source": [
    "Here, the name of the variable is `a`. It is good practice to name the variable something descriptive. "
   ]
  },
  {
   "cell_type": "markdown",
   "metadata": {},
   "source": [
    "**Question:** What would be a more appropriate name for the variable that stores the result of the expression `2+2`?"
   ]
  },
  {
   "cell_type": "code",
   "execution_count": 6,
   "metadata": {},
   "outputs": [
    {
     "data": {
      "text/plain": [
       "4"
      ]
     },
     "execution_count": 6,
     "metadata": {},
     "output_type": "execute_result"
    }
   ],
   "source": [
    "# ... = 2+2\n",
    "four = 2+2\n",
    "four"
   ]
  },
  {
   "cell_type": "markdown",
   "metadata": {},
   "source": [
    "### Numbers"
   ]
  },
  {
   "cell_type": "code",
   "execution_count": 7,
   "metadata": {},
   "outputs": [
    {
     "data": {
      "text/plain": [
       "(int, float)"
      ]
     },
     "execution_count": 7,
     "metadata": {},
     "output_type": "execute_result"
    }
   ],
   "source": [
    "int_num = 4\n",
    "float_num = 3.11\n",
    "\n",
    "type(int_num), type(float_num)"
   ]
  },
  {
   "cell_type": "code",
   "execution_count": 173,
   "metadata": {},
   "outputs": [
    {
     "data": {
      "text/plain": [
       "(4, 3.11)"
      ]
     },
     "execution_count": 173,
     "metadata": {},
     "output_type": "execute_result"
    }
   ],
   "source": [
    "int_num, float_num"
   ]
  },
  {
   "cell_type": "markdown",
   "metadata": {},
   "source": [
    "**Question:** What happens if we add, subtract, multiply, and divide floats and ints?"
   ]
  },
  {
   "cell_type": "code",
   "execution_count": 174,
   "metadata": {},
   "outputs": [
    {
     "data": {
      "text/plain": [
       "7.109999999999999"
      ]
     },
     "execution_count": 174,
     "metadata": {},
     "output_type": "execute_result"
    }
   ],
   "source": [
    "#addition\n",
    "int_num + float_num "
   ]
  },
  {
   "cell_type": "code",
   "execution_count": 175,
   "metadata": {},
   "outputs": [
    {
     "data": {
      "text/plain": [
       "False"
      ]
     },
     "execution_count": 175,
     "metadata": {},
     "output_type": "execute_result"
    }
   ],
   "source": [
    "int_num + float_num  == 7.11"
   ]
  },
  {
   "cell_type": "code",
   "execution_count": 178,
   "metadata": {},
   "outputs": [
    {
     "data": {
      "text/plain": [
       "True"
      ]
     },
     "execution_count": 178,
     "metadata": {},
     "output_type": "execute_result"
    }
   ],
   "source": [
    "import numpy as np\n",
    "np.isclose(int_num + float_num, 7.11) # A way to compare floats"
   ]
  },
  {
   "cell_type": "code",
   "execution_count": 10,
   "metadata": {},
   "outputs": [
    {
     "data": {
      "text/plain": [
       "float"
      ]
     },
     "execution_count": 10,
     "metadata": {},
     "output_type": "execute_result"
    }
   ],
   "source": [
    "type(int_num + float_num)"
   ]
  },
  {
   "cell_type": "code",
   "execution_count": 11,
   "metadata": {},
   "outputs": [
    {
     "data": {
      "text/plain": [
       "0.8900000000000001"
      ]
     },
     "execution_count": 11,
     "metadata": {},
     "output_type": "execute_result"
    }
   ],
   "source": [
    "# subtraction\n",
    "int_num - float_num "
   ]
  },
  {
   "cell_type": "code",
   "execution_count": 12,
   "metadata": {},
   "outputs": [
    {
     "data": {
      "text/plain": [
       "12.44"
      ]
     },
     "execution_count": 12,
     "metadata": {},
     "output_type": "execute_result"
    }
   ],
   "source": [
    "#multiplication\n",
    "int_num * float_num "
   ]
  },
  {
   "cell_type": "code",
   "execution_count": 13,
   "metadata": {},
   "outputs": [
    {
     "data": {
      "text/plain": [
       "1.2861736334405145"
      ]
     },
     "execution_count": 13,
     "metadata": {},
     "output_type": "execute_result"
    }
   ],
   "source": [
    "#divition\n",
    "int_num / float_num "
   ]
  },
  {
   "cell_type": "markdown",
   "metadata": {},
   "source": [
    "#### Long floats"
   ]
  },
  {
   "cell_type": "code",
   "execution_count": 14,
   "metadata": {},
   "outputs": [],
   "source": [
    "float1 = 34.234592019394939293499293992434828482842\n",
    "float2 = 34.2345920193949392934992939924"
   ]
  },
  {
   "cell_type": "markdown",
   "metadata": {},
   "source": [
    "**Question:** Are these two values above equivalent?\n",
    "\n",
    "**Question:** Are the values assigned to the variables `float1` and `float2` equivalent?\n",
    "\n",
    "(zoom poll)"
   ]
  },
  {
   "cell_type": "code",
   "execution_count": 15,
   "metadata": {},
   "outputs": [
    {
     "data": {
      "text/plain": [
       "(34.23459201939494, 34.23459201939494)"
      ]
     },
     "execution_count": 15,
     "metadata": {},
     "output_type": "execute_result"
    }
   ],
   "source": [
    "float1, float2"
   ]
  },
  {
   "cell_type": "code",
   "execution_count": 16,
   "metadata": {},
   "outputs": [
    {
     "data": {
      "text/plain": [
       "True"
      ]
     },
     "execution_count": 16,
     "metadata": {},
     "output_type": "execute_result"
    }
   ],
   "source": [
    "float1 == float2"
   ]
  },
  {
   "cell_type": "code",
   "execution_count": 17,
   "metadata": {},
   "outputs": [],
   "source": [
    "x = 3\n",
    "y = \"4\"\n",
    "z= '5.6'"
   ]
  },
  {
   "cell_type": "code",
   "execution_count": 18,
   "metadata": {},
   "outputs": [
    {
     "ename": "TypeError",
     "evalue": "unsupported operand type(s) for +: 'int' and 'str'",
     "output_type": "error",
     "traceback": [
      "\u001b[0;31m---------------------------------------------------------------------------\u001b[0m",
      "\u001b[0;31mTypeError\u001b[0m                                 Traceback (most recent call last)",
      "\u001b[0;32m<ipython-input-18-cd60f97aa77f>\u001b[0m in \u001b[0;36m<module>\u001b[0;34m\u001b[0m\n\u001b[0;32m----> 1\u001b[0;31m \u001b[0mx\u001b[0m \u001b[0;34m+\u001b[0m \u001b[0my\u001b[0m\u001b[0;34m\u001b[0m\u001b[0;34m\u001b[0m\u001b[0m\n\u001b[0m",
      "\u001b[0;31mTypeError\u001b[0m: unsupported operand type(s) for +: 'int' and 'str'"
     ]
    }
   ],
   "source": [
    "x + y"
   ]
  },
  {
   "cell_type": "code",
   "execution_count": 19,
   "metadata": {},
   "outputs": [
    {
     "data": {
      "text/plain": [
       "4"
      ]
     },
     "execution_count": 19,
     "metadata": {},
     "output_type": "execute_result"
    }
   ],
   "source": [
    "int(y)"
   ]
  },
  {
   "cell_type": "code",
   "execution_count": 20,
   "metadata": {},
   "outputs": [
    {
     "ename": "ValueError",
     "evalue": "invalid literal for int() with base 10: '45.6'",
     "output_type": "error",
     "traceback": [
      "\u001b[0;31m---------------------------------------------------------------------------\u001b[0m",
      "\u001b[0;31mValueError\u001b[0m                                Traceback (most recent call last)",
      "\u001b[0;32m<ipython-input-20-91664d5b610f>\u001b[0m in \u001b[0;36m<module>\u001b[0;34m\u001b[0m\n\u001b[0;32m----> 1\u001b[0;31m \u001b[0mint\u001b[0m\u001b[0;34m(\u001b[0m\u001b[0my\u001b[0m \u001b[0;34m+\u001b[0m \u001b[0mz\u001b[0m\u001b[0;34m)\u001b[0m\u001b[0;34m\u001b[0m\u001b[0;34m\u001b[0m\u001b[0m\n\u001b[0m",
      "\u001b[0;31mValueError\u001b[0m: invalid literal for int() with base 10: '45.6'"
     ]
    }
   ],
   "source": [
    "int(y + z)"
   ]
  },
  {
   "cell_type": "code",
   "execution_count": 22,
   "metadata": {},
   "outputs": [
    {
     "data": {
      "text/plain": [
       "('45.6', '4', '5.6')"
      ]
     },
     "execution_count": 22,
     "metadata": {},
     "output_type": "execute_result"
    }
   ],
   "source": [
    "y + z, y, z"
   ]
  },
  {
   "cell_type": "code",
   "execution_count": 28,
   "metadata": {},
   "outputs": [
    {
     "data": {
      "text/plain": [
       "45.6"
      ]
     },
     "execution_count": 28,
     "metadata": {},
     "output_type": "execute_result"
    }
   ],
   "source": [
    "float(y + z)"
   ]
  },
  {
   "cell_type": "code",
   "execution_count": 25,
   "metadata": {},
   "outputs": [
    {
     "data": {
      "text/plain": [
       "'My name is Adam'"
      ]
     },
     "execution_count": 25,
     "metadata": {},
     "output_type": "execute_result"
    }
   ],
   "source": [
    "prefix = \"My name is \"\n",
    "name = \"Adam\"\n",
    "prefix + name"
   ]
  },
  {
   "cell_type": "code",
   "execution_count": 29,
   "metadata": {},
   "outputs": [
    {
     "ename": "TypeError",
     "evalue": "can only concatenate str (not \"int\") to str",
     "output_type": "error",
     "traceback": [
      "\u001b[0;31m---------------------------------------------------------------------------\u001b[0m",
      "\u001b[0;31mTypeError\u001b[0m                                 Traceback (most recent call last)",
      "\u001b[0;32m<ipython-input-29-5e2afaffa02a>\u001b[0m in \u001b[0;36m<module>\u001b[0;34m\u001b[0m\n\u001b[0;32m----> 1\u001b[0;31m \u001b[0mstr\u001b[0m\u001b[0;34m(\u001b[0m\u001b[0mx\u001b[0m\u001b[0;34m)\u001b[0m \u001b[0;34m+\u001b[0m \u001b[0mint\u001b[0m\u001b[0;34m(\u001b[0m\u001b[0my\u001b[0m\u001b[0;34m)\u001b[0m\u001b[0;34m\u001b[0m\u001b[0;34m\u001b[0m\u001b[0m\n\u001b[0m",
      "\u001b[0;31mTypeError\u001b[0m: can only concatenate str (not \"int\") to str"
     ]
    }
   ],
   "source": [
    "str(x) + int(y)"
   ]
  },
  {
   "cell_type": "code",
   "execution_count": 30,
   "metadata": {},
   "outputs": [
    {
     "ename": "TypeError",
     "evalue": "can only concatenate str (not \"float\") to str",
     "output_type": "error",
     "traceback": [
      "\u001b[0;31m---------------------------------------------------------------------------\u001b[0m",
      "\u001b[0;31mTypeError\u001b[0m                                 Traceback (most recent call last)",
      "\u001b[0;32m<ipython-input-30-5d753f6adf79>\u001b[0m in \u001b[0;36m<module>\u001b[0;34m\u001b[0m\n\u001b[0;32m----> 1\u001b[0;31m \u001b[0my\u001b[0m \u001b[0;34m+\u001b[0m \u001b[0mfloat\u001b[0m\u001b[0;34m(\u001b[0m\u001b[0mz\u001b[0m\u001b[0;34m)\u001b[0m\u001b[0;34m\u001b[0m\u001b[0;34m\u001b[0m\u001b[0m\n\u001b[0m",
      "\u001b[0;31mTypeError\u001b[0m: can only concatenate str (not \"float\") to str"
     ]
    }
   ],
   "source": [
    "y + float(z)"
   ]
  },
  {
   "cell_type": "code",
   "execution_count": 34,
   "metadata": {},
   "outputs": [
    {
     "data": {
      "text/plain": [
       "(5, 10)"
      ]
     },
     "execution_count": 34,
     "metadata": {},
     "output_type": "execute_result"
    }
   ],
   "source": [
    "int(5.6), int(10.22)"
   ]
  },
  {
   "cell_type": "code",
   "execution_count": 35,
   "metadata": {},
   "outputs": [
    {
     "data": {
      "text/plain": [
       "1.0"
      ]
     },
     "execution_count": 35,
     "metadata": {},
     "output_type": "execute_result"
    }
   ],
   "source": [
    "float(1)"
   ]
  },
  {
   "cell_type": "markdown",
   "metadata": {},
   "source": [
    "#### Increment an integer"
   ]
  },
  {
   "cell_type": "code",
   "execution_count": 169,
   "metadata": {},
   "outputs": [
    {
     "data": {
      "text/plain": [
       "5"
      ]
     },
     "execution_count": 169,
     "metadata": {},
     "output_type": "execute_result"
    }
   ],
   "source": [
    "number = 5\n",
    "number"
   ]
  },
  {
   "cell_type": "code",
   "execution_count": 164,
   "metadata": {},
   "outputs": [
    {
     "data": {
      "text/plain": [
       "6"
      ]
     },
     "execution_count": 164,
     "metadata": {},
     "output_type": "execute_result"
    }
   ],
   "source": [
    "number + 1"
   ]
  },
  {
   "cell_type": "code",
   "execution_count": 165,
   "metadata": {},
   "outputs": [
    {
     "data": {
      "text/plain": [
       "5"
      ]
     },
     "execution_count": 165,
     "metadata": {},
     "output_type": "execute_result"
    }
   ],
   "source": [
    "number"
   ]
  },
  {
   "cell_type": "code",
   "execution_count": 166,
   "metadata": {},
   "outputs": [
    {
     "data": {
      "text/plain": [
       "6"
      ]
     },
     "execution_count": 166,
     "metadata": {},
     "output_type": "execute_result"
    }
   ],
   "source": [
    "number += 1 # this is the same as number = number + 1\n",
    "number"
   ]
  },
  {
   "cell_type": "code",
   "execution_count": 167,
   "metadata": {},
   "outputs": [
    {
     "data": {
      "text/plain": [
       "5"
      ]
     },
     "execution_count": 167,
     "metadata": {},
     "output_type": "execute_result"
    }
   ],
   "source": [
    "number -= 1 # this is the same as number = number - 1\n",
    "number"
   ]
  },
  {
   "cell_type": "code",
   "execution_count": 170,
   "metadata": {},
   "outputs": [
    {
     "data": {
      "text/plain": [
       "10"
      ]
     },
     "execution_count": 170,
     "metadata": {},
     "output_type": "execute_result"
    }
   ],
   "source": [
    "number *= 2 # this is the same as number = number * 2\n",
    "number"
   ]
  },
  {
   "cell_type": "code",
   "execution_count": 171,
   "metadata": {},
   "outputs": [
    {
     "data": {
      "text/plain": [
       "5.0"
      ]
     },
     "execution_count": 171,
     "metadata": {},
     "output_type": "execute_result"
    }
   ],
   "source": [
    "number /= 2 # this is the same as number = number / 2\n",
    "number # notice that it now becomes a float"
   ]
  },
  {
   "cell_type": "markdown",
   "metadata": {},
   "source": [
    "### Strings"
   ]
  },
  {
   "cell_type": "code",
   "execution_count": 36,
   "metadata": {},
   "outputs": [
    {
     "data": {
      "text/plain": [
       "'hello word!'"
      ]
     },
     "execution_count": 36,
     "metadata": {},
     "output_type": "execute_result"
    }
   ],
   "source": [
    "string = \"hello word!\"\n",
    "string"
   ]
  },
  {
   "cell_type": "markdown",
   "metadata": {},
   "source": [
    "#### String methods"
   ]
  },
  {
   "cell_type": "code",
   "execution_count": 39,
   "metadata": {},
   "outputs": [
    {
     "data": {
      "text/plain": [
       "'capitalize casefold center count encode endswith expandtabs find format format_map index isalnum isalpha isascii isdecimal isdigit isidentifier islower isnumeric isprintable isspace istitle isupper join ljust lower lstrip maketrans partition replace rfind rindex rjust rpartition rsplit rstrip split splitlines startswith strip swapcase title translate upper zfill'"
      ]
     },
     "execution_count": 39,
     "metadata": {},
     "output_type": "execute_result"
    }
   ],
   "source": [
    "\" \".join([func for func in dir(str) if \"__\" not in func])"
   ]
  },
  {
   "cell_type": "code",
   "execution_count": 40,
   "metadata": {},
   "outputs": [
    {
     "data": {
      "text/plain": [
       "'Hello word!'"
      ]
     },
     "execution_count": 40,
     "metadata": {},
     "output_type": "execute_result"
    }
   ],
   "source": [
    "string.capitalize()"
   ]
  },
  {
   "cell_type": "code",
   "execution_count": 41,
   "metadata": {},
   "outputs": [
    {
     "data": {
      "text/plain": [
       "True"
      ]
     },
     "execution_count": 41,
     "metadata": {},
     "output_type": "execute_result"
    }
   ],
   "source": [
    "string.islower()"
   ]
  },
  {
   "cell_type": "code",
   "execution_count": 42,
   "metadata": {},
   "outputs": [
    {
     "data": {
      "text/plain": [
       "['hello', 'word!']"
      ]
     },
     "execution_count": 42,
     "metadata": {},
     "output_type": "execute_result"
    }
   ],
   "source": [
    "string.split()"
   ]
  },
  {
   "cell_type": "markdown",
   "metadata": {},
   "source": [
    "**When do you think split() would be helpful in text analysis?**\n",
    "<details>\n",
    "<summary>Solution</summary>\n",
    "    <b>Getting words from a string</b>\n",
    "    <br>\n",
    "    <i>There are some issues with this that we'll discuss late this week</i>\n",
    "\n",
    "</details>"
   ]
  },
  {
   "cell_type": "code",
   "execution_count": 43,
   "metadata": {},
   "outputs": [
    {
     "data": {
      "text/plain": [
       "'What is an API? The Federal Circuit described an API as a tool that “allow[s] programmers to use ... prewritten code to build certain functions into their own programs, rather than write their own code to perform those functions from scratch.'"
      ]
     },
     "execution_count": 43,
     "metadata": {},
     "output_type": "execute_result"
    }
   ],
   "source": [
    "string_example = \"What is an API? The Federal Circuit described an API as a tool that \\\n",
    "“allow[s] programmers to use ... prewritten code to build certain functions into their \\\n",
    "own programs, rather than write their own code to perform those functions from scratch.\"\n",
    "string_example"
   ]
  },
  {
   "cell_type": "markdown",
   "metadata": {},
   "source": [
    "Let's use `split()` here"
   ]
  },
  {
   "cell_type": "code",
   "execution_count": 46,
   "metadata": {},
   "outputs": [
    {
     "data": {
      "text/plain": [
       "['What is an API',\n",
       " ' The Federal Circuit described an API as a tool that “allow[s] programmers to use ... prewritten code to build certain functions into their own programs, rather than write their own code to perform those functions from scratch.']"
      ]
     },
     "execution_count": 46,
     "metadata": {},
     "output_type": "execute_result"
    }
   ],
   "source": [
    "string_example.split(\"?\")"
   ]
  },
  {
   "cell_type": "markdown",
   "metadata": {},
   "source": [
    "**Question:** What is the length of `string_example`?"
   ]
  },
  {
   "cell_type": "code",
   "execution_count": 47,
   "metadata": {},
   "outputs": [
    {
     "data": {
      "text/plain": [
       "242"
      ]
     },
     "execution_count": 47,
     "metadata": {},
     "output_type": "execute_result"
    }
   ],
   "source": [
    "len(string_example)"
   ]
  },
  {
   "cell_type": "markdown",
   "metadata": {},
   "source": [
    "**Question:** Let's lowercase string_example"
   ]
  },
  {
   "cell_type": "code",
   "execution_count": 48,
   "metadata": {},
   "outputs": [
    {
     "data": {
      "text/plain": [
       "'what is an api? the federal circuit described an api as a tool that “allow[s] programmers to use ... prewritten code to build certain functions into their own programs, rather than write their own code to perform those functions from scratch.'"
      ]
     },
     "execution_count": 48,
     "metadata": {},
     "output_type": "execute_result"
    }
   ],
   "source": [
    "string_example.lower()"
   ]
  },
  {
   "cell_type": "markdown",
   "metadata": {},
   "source": [
    "**Question:** How many `c`'s are in `string_example`? \n",
    "\n",
    "(Zoom poll)"
   ]
  },
  {
   "cell_type": "code",
   "execution_count": 49,
   "metadata": {},
   "outputs": [
    {
     "data": {
      "text/plain": [
       "9"
      ]
     },
     "execution_count": 49,
     "metadata": {},
     "output_type": "execute_result"
    }
   ],
   "source": [
    "string_example.count('c')"
   ]
  },
  {
   "cell_type": "code",
   "execution_count": null,
   "metadata": {},
   "outputs": [],
   "source": [
    "str"
   ]
  },
  {
   "cell_type": "code",
   "execution_count": null,
   "metadata": {},
   "outputs": [],
   "source": []
  },
  {
   "cell_type": "markdown",
   "metadata": {},
   "source": [
    "##### Combining Strings"
   ]
  },
  {
   "cell_type": "code",
   "execution_count": null,
   "metadata": {},
   "outputs": [],
   "source": [
    "string_example + \" hello\""
   ]
  },
  {
   "cell_type": "markdown",
   "metadata": {},
   "source": [
    "##### Combining Strings and Numbers"
   ]
  },
  {
   "cell_type": "markdown",
   "metadata": {},
   "source": [
    "**f strings** - https://zetcode.com/python/fstring/"
   ]
  },
  {
   "cell_type": "code",
   "execution_count": 52,
   "metadata": {},
   "outputs": [
    {
     "data": {
      "text/plain": [
       "'I like to eat banana'"
      ]
     },
     "execution_count": 52,
     "metadata": {},
     "output_type": "execute_result"
    }
   ],
   "source": [
    "fav_fruit = \"banana\"\n",
    "\n",
    "f\"I like to eat {fav_fruit}\""
   ]
  },
  {
   "cell_type": "code",
   "execution_count": 51,
   "metadata": {},
   "outputs": [
    {
     "data": {
      "text/plain": [
       "'I like to eat banana'"
      ]
     },
     "execution_count": 51,
     "metadata": {},
     "output_type": "execute_result"
    }
   ],
   "source": [
    "\"I like to eat \" + fav_fruit"
   ]
  },
  {
   "cell_type": "markdown",
   "metadata": {},
   "source": [
    "### Show Contexual Help \n",
    "\n",
    "*(no memorization, use resources)*"
   ]
  },
  {
   "cell_type": "markdown",
   "metadata": {},
   "source": [
    "(back to slides)\n",
    "\n",
    "### Collections\n",
    "- Lists\n",
    "- Tuples\n",
    "- Sets\n",
    "- Dictionaries"
   ]
  },
  {
   "cell_type": "markdown",
   "metadata": {},
   "source": [
    "#### Lists \n",
    "Lists store multiple items in a single variable. (Definition is form w3schoolhttps://www.w3schools.com/python/python_lists.asp"
   ]
  },
  {
   "cell_type": "code",
   "execution_count": 53,
   "metadata": {},
   "outputs": [
    {
     "data": {
      "text/plain": [
       "['bananas', 'apples', 'oranges']"
      ]
     },
     "execution_count": 53,
     "metadata": {},
     "output_type": "execute_result"
    }
   ],
   "source": [
    "fruits = [\"bananas\", \"apples\", \"oranges\"]\n",
    "fruits"
   ]
  },
  {
   "cell_type": "code",
   "execution_count": 54,
   "metadata": {},
   "outputs": [
    {
     "data": {
      "text/plain": [
       "list"
      ]
     },
     "execution_count": 54,
     "metadata": {},
     "output_type": "execute_result"
    }
   ],
   "source": [
    "type(fruits)"
   ]
  },
  {
   "cell_type": "markdown",
   "metadata": {},
   "source": [
    "##### Size of lists\n",
    "\n",
    "**Question:** How many items are in `fruits`?"
   ]
  },
  {
   "cell_type": "code",
   "execution_count": 55,
   "metadata": {},
   "outputs": [
    {
     "data": {
      "text/plain": [
       "3"
      ]
     },
     "execution_count": 55,
     "metadata": {},
     "output_type": "execute_result"
    }
   ],
   "source": [
    "len(fruits)"
   ]
  },
  {
   "cell_type": "markdown",
   "metadata": {},
   "source": [
    "##### Accessing items in lists \n",
    "\n",
    "We use brackets, `[ ]` to access items in a list"
   ]
  },
  {
   "cell_type": "code",
   "execution_count": 60,
   "metadata": {},
   "outputs": [
    {
     "ename": "IndexError",
     "evalue": "list index out of range",
     "output_type": "error",
     "traceback": [
      "\u001b[0;31m---------------------------------------------------------------------------\u001b[0m",
      "\u001b[0;31mIndexError\u001b[0m                                Traceback (most recent call last)",
      "\u001b[0;32m<ipython-input-60-7ceeafd384d7>\u001b[0m in \u001b[0;36m<module>\u001b[0;34m\u001b[0m\n\u001b[0;32m----> 1\u001b[0;31m \u001b[0mfruits\u001b[0m\u001b[0;34m[\u001b[0m\u001b[0;36m3\u001b[0m\u001b[0;34m]\u001b[0m\u001b[0;34m\u001b[0m\u001b[0;34m\u001b[0m\u001b[0m\n\u001b[0m",
      "\u001b[0;31mIndexError\u001b[0m: list index out of range"
     ]
    }
   ],
   "source": [
    "fruits[3]"
   ]
  },
  {
   "cell_type": "markdown",
   "metadata": {},
   "source": [
    "**Question:** How do we access the first item in the list `fruits`?"
   ]
  },
  {
   "cell_type": "code",
   "execution_count": 61,
   "metadata": {},
   "outputs": [
    {
     "data": {
      "text/plain": [
       "'bananas'"
      ]
     },
     "execution_count": 61,
     "metadata": {},
     "output_type": "execute_result"
    }
   ],
   "source": [
    "first_fruit = fruits[0]\n",
    "first_fruit"
   ]
  },
  {
   "cell_type": "markdown",
   "metadata": {},
   "source": [
    "**Question:** How do we access the last item in the list `fruits`?"
   ]
  },
  {
   "cell_type": "code",
   "execution_count": 62,
   "metadata": {},
   "outputs": [
    {
     "data": {
      "text/plain": [
       "'oranges'"
      ]
     },
     "execution_count": 62,
     "metadata": {},
     "output_type": "execute_result"
    }
   ],
   "source": [
    "last_fruit = fruits[2]\n",
    "last_fruit"
   ]
  },
  {
   "cell_type": "code",
   "execution_count": 68,
   "metadata": {},
   "outputs": [
    {
     "data": {
      "text/plain": [
       "'oranges'"
      ]
     },
     "execution_count": 68,
     "metadata": {},
     "output_type": "execute_result"
    }
   ],
   "source": [
    "fruit_length = len(fruits)  - 1\n",
    "fruits[fruit_length]\n",
    "#fruit_length"
   ]
  },
  {
   "cell_type": "code",
   "execution_count": 71,
   "metadata": {},
   "outputs": [
    {
     "data": {
      "text/plain": [
       "'oranges'"
      ]
     },
     "execution_count": 71,
     "metadata": {},
     "output_type": "execute_result"
    }
   ],
   "source": [
    "fruits[-1]"
   ]
  },
  {
   "cell_type": "code",
   "execution_count": 72,
   "metadata": {},
   "outputs": [
    {
     "data": {
      "text/plain": [
       "'apples'"
      ]
     },
     "execution_count": 72,
     "metadata": {},
     "output_type": "execute_result"
    }
   ],
   "source": [
    "fruits[-2]"
   ]
  },
  {
   "cell_type": "markdown",
   "metadata": {},
   "source": [
    "**Question:** How do we access the second item in the list `fruits`"
   ]
  },
  {
   "cell_type": "code",
   "execution_count": null,
   "metadata": {},
   "outputs": [],
   "source": [
    "second_fruit = ...\n",
    "second_fruit"
   ]
  },
  {
   "cell_type": "markdown",
   "metadata": {},
   "source": [
    "##### Accessing sub-lists from lists\n",
    "\n",
    "`[first_index : last_index]`\n",
    "\n",
    "`first_index` is inclusive, `last_index` is exclusive"
   ]
  },
  {
   "cell_type": "code",
   "execution_count": 73,
   "metadata": {},
   "outputs": [
    {
     "data": {
      "text/plain": [
       "['bananas', 'apples']"
      ]
     },
     "execution_count": 73,
     "metadata": {},
     "output_type": "execute_result"
    }
   ],
   "source": [
    "fruits[0:2]"
   ]
  },
  {
   "cell_type": "code",
   "execution_count": 74,
   "metadata": {},
   "outputs": [
    {
     "data": {
      "text/plain": [
       "['apples']"
      ]
     },
     "execution_count": 74,
     "metadata": {},
     "output_type": "execute_result"
    }
   ],
   "source": [
    "fruits[1:2]"
   ]
  },
  {
   "cell_type": "code",
   "execution_count": 75,
   "metadata": {},
   "outputs": [
    {
     "data": {
      "text/plain": [
       "['apples', 'oranges']"
      ]
     },
     "execution_count": 75,
     "metadata": {},
     "output_type": "execute_result"
    }
   ],
   "source": [
    "fruits[1:]"
   ]
  },
  {
   "cell_type": "code",
   "execution_count": 76,
   "metadata": {},
   "outputs": [
    {
     "data": {
      "text/plain": [
       "['bananas', 'apples']"
      ]
     },
     "execution_count": 76,
     "metadata": {},
     "output_type": "execute_result"
    }
   ],
   "source": [
    "fruits[:2]"
   ]
  },
  {
   "cell_type": "code",
   "execution_count": 77,
   "metadata": {},
   "outputs": [
    {
     "data": {
      "text/plain": [
       "['__add__',\n",
       " '__class__',\n",
       " '__contains__',\n",
       " '__delattr__',\n",
       " '__delitem__',\n",
       " '__dir__',\n",
       " '__doc__',\n",
       " '__eq__',\n",
       " '__format__',\n",
       " '__ge__',\n",
       " '__getattribute__',\n",
       " '__getitem__',\n",
       " '__gt__',\n",
       " '__hash__',\n",
       " '__iadd__',\n",
       " '__imul__',\n",
       " '__init__',\n",
       " '__init_subclass__',\n",
       " '__iter__',\n",
       " '__le__',\n",
       " '__len__',\n",
       " '__lt__',\n",
       " '__mul__',\n",
       " '__ne__',\n",
       " '__new__',\n",
       " '__reduce__',\n",
       " '__reduce_ex__',\n",
       " '__repr__',\n",
       " '__reversed__',\n",
       " '__rmul__',\n",
       " '__setattr__',\n",
       " '__setitem__',\n",
       " '__sizeof__',\n",
       " '__str__',\n",
       " '__subclasshook__',\n",
       " 'append',\n",
       " 'clear',\n",
       " 'copy',\n",
       " 'count',\n",
       " 'extend',\n",
       " 'index',\n",
       " 'insert',\n",
       " 'pop',\n",
       " 'remove',\n",
       " 'reverse',\n",
       " 'sort']"
      ]
     },
     "execution_count": 77,
     "metadata": {},
     "output_type": "execute_result"
    }
   ],
   "source": [
    "dir(fruits)"
   ]
  },
  {
   "cell_type": "code",
   "execution_count": null,
   "metadata": {},
   "outputs": [],
   "source": [
    "fruits.append"
   ]
  },
  {
   "cell_type": "markdown",
   "metadata": {},
   "source": [
    "##### Adding to lists\n"
   ]
  },
  {
   "cell_type": "markdown",
   "metadata": {},
   "source": [
    "`<list>.append(...)` adds ... to the end of the list (in-place)"
   ]
  },
  {
   "cell_type": "code",
   "execution_count": 78,
   "metadata": {},
   "outputs": [
    {
     "data": {
      "text/plain": [
       "['bananas', 'apples', 'oranges', 'strawberries']"
      ]
     },
     "execution_count": 78,
     "metadata": {},
     "output_type": "execute_result"
    }
   ],
   "source": [
    "fruits.append(\"strawberries\")\n",
    "fruits"
   ]
  },
  {
   "cell_type": "markdown",
   "metadata": {},
   "source": [
    "Override at a specific index"
   ]
  },
  {
   "cell_type": "code",
   "execution_count": 79,
   "metadata": {},
   "outputs": [
    {
     "data": {
      "text/plain": [
       "['pear', 'apples', 'oranges', 'strawberries']"
      ]
     },
     "execution_count": 79,
     "metadata": {},
     "output_type": "execute_result"
    }
   ],
   "source": [
    "fruits[0] = \"pear\"\n",
    "fruits"
   ]
  },
  {
   "cell_type": "markdown",
   "metadata": {},
   "source": [
    "##### Other things we can do to a list\n",
    "\n",
    "(Just run the code below, its ok if we don't understand it just yet)"
   ]
  },
  {
   "cell_type": "code",
   "execution_count": 80,
   "metadata": {},
   "outputs": [
    {
     "data": {
      "text/plain": [
       "['append, clear, copy, count, extend, index, insert, pop, remove, reverse, sort']"
      ]
     },
     "execution_count": 80,
     "metadata": {},
     "output_type": "execute_result"
    }
   ],
   "source": [
    "[\", \".join([func for func in dir(fruits) if not func.startswith(\"__\") ])]"
   ]
  },
  {
   "cell_type": "markdown",
   "metadata": {},
   "source": [
    "The official [python documentation](https://docs.python.org/3.8/tutorial/datastructures.html#more-on-lists) contains descriptions of each of these methods"
   ]
  },
  {
   "cell_type": "code",
   "execution_count": 81,
   "metadata": {},
   "outputs": [
    {
     "data": {
      "text/plain": [
       "'strawberries'"
      ]
     },
     "execution_count": 81,
     "metadata": {},
     "output_type": "execute_result"
    }
   ],
   "source": [
    "fruits.pop()"
   ]
  },
  {
   "cell_type": "code",
   "execution_count": 82,
   "metadata": {},
   "outputs": [
    {
     "data": {
      "text/plain": [
       "['pear', 'apples', 'oranges']"
      ]
     },
     "execution_count": 82,
     "metadata": {},
     "output_type": "execute_result"
    }
   ],
   "source": [
    "fruits"
   ]
  },
  {
   "cell_type": "code",
   "execution_count": 83,
   "metadata": {},
   "outputs": [],
   "source": [
    "fruits.insert(0, 'bananas')"
   ]
  },
  {
   "cell_type": "code",
   "execution_count": 84,
   "metadata": {},
   "outputs": [
    {
     "data": {
      "text/plain": [
       "['bananas', 'pear', 'apples', 'oranges']"
      ]
     },
     "execution_count": 84,
     "metadata": {},
     "output_type": "execute_result"
    }
   ],
   "source": [
    "fruits"
   ]
  },
  {
   "cell_type": "code",
   "execution_count": 85,
   "metadata": {},
   "outputs": [],
   "source": [
    "fruits.insert(3, 'first organge')"
   ]
  },
  {
   "cell_type": "code",
   "execution_count": 86,
   "metadata": {},
   "outputs": [
    {
     "data": {
      "text/plain": [
       "['bananas', 'pear', 'apples', 'first organge', 'oranges']"
      ]
     },
     "execution_count": 86,
     "metadata": {},
     "output_type": "execute_result"
    }
   ],
   "source": [
    "fruits"
   ]
  },
  {
   "cell_type": "code",
   "execution_count": 88,
   "metadata": {},
   "outputs": [
    {
     "data": {
      "text/plain": [
       "0"
      ]
     },
     "execution_count": 88,
     "metadata": {},
     "output_type": "execute_result"
    }
   ],
   "source": [
    "fruits.index('bananas')"
   ]
  },
  {
   "cell_type": "markdown",
   "metadata": {},
   "source": [
    "**Iterating through a list**\n",
    "\n",
    "> **for** *element* **in** *list*: <br>\n",
    "        &nbsp;&nbsp;&nbsp;&nbsp;&nbsp;&nbsp;do something"
   ]
  },
  {
   "cell_type": "markdown",
   "metadata": {},
   "source": [
    "*Indentation is important*"
   ]
  },
  {
   "cell_type": "markdown",
   "metadata": {},
   "source": [
    "**Question:** Iterate through each item in fruits and print out the item"
   ]
  },
  {
   "cell_type": "code",
   "execution_count": 91,
   "metadata": {},
   "outputs": [
    {
     "name": "stdout",
     "output_type": "stream",
     "text": [
      "bananas 7\n",
      "pear 4\n",
      "apples 6\n",
      "first organge 13\n",
      "oranges 7\n"
     ]
    }
   ],
   "source": [
    "for fruit in fruits:\n",
    "    print(fruit, len(fruit))"
   ]
  },
  {
   "cell_type": "markdown",
   "metadata": {},
   "source": [
    "### Tuples"
   ]
  },
  {
   "cell_type": "code",
   "execution_count": 92,
   "metadata": {},
   "outputs": [
    {
     "data": {
      "text/plain": [
       "((1, 2, 3), tuple)"
      ]
     },
     "execution_count": 92,
     "metadata": {},
     "output_type": "execute_result"
    }
   ],
   "source": [
    "tup = (1,2,3)\n",
    "tup, type(tup)"
   ]
  },
  {
   "cell_type": "markdown",
   "metadata": {},
   "source": [
    "Tuples are unmutiple lists. Lets look at what that means:\n",
    "\n",
    "**Adding to a tuple**"
   ]
  },
  {
   "cell_type": "code",
   "execution_count": 93,
   "metadata": {},
   "outputs": [
    {
     "ename": "AttributeError",
     "evalue": "'tuple' object has no attribute 'append'",
     "output_type": "error",
     "traceback": [
      "\u001b[0;31m---------------------------------------------------------------------------\u001b[0m",
      "\u001b[0;31mAttributeError\u001b[0m                            Traceback (most recent call last)",
      "\u001b[0;32m<ipython-input-93-0ee8d39cb05c>\u001b[0m in \u001b[0;36m<module>\u001b[0;34m\u001b[0m\n\u001b[0;32m----> 1\u001b[0;31m \u001b[0mtup\u001b[0m\u001b[0;34m.\u001b[0m\u001b[0mappend\u001b[0m\u001b[0;34m(\u001b[0m\u001b[0;36m4\u001b[0m\u001b[0;34m)\u001b[0m\u001b[0;34m\u001b[0m\u001b[0;34m\u001b[0m\u001b[0m\n\u001b[0m",
      "\u001b[0;31mAttributeError\u001b[0m: 'tuple' object has no attribute 'append'"
     ]
    }
   ],
   "source": [
    "tup.append(4)"
   ]
  },
  {
   "cell_type": "code",
   "execution_count": 94,
   "metadata": {
    "scrolled": true
   },
   "outputs": [
    {
     "ename": "TypeError",
     "evalue": "'tuple' object does not support item assignment",
     "output_type": "error",
     "traceback": [
      "\u001b[0;31m---------------------------------------------------------------------------\u001b[0m",
      "\u001b[0;31mTypeError\u001b[0m                                 Traceback (most recent call last)",
      "\u001b[0;32m<ipython-input-94-874559a0c62a>\u001b[0m in \u001b[0;36m<module>\u001b[0;34m\u001b[0m\n\u001b[0;32m----> 1\u001b[0;31m \u001b[0mtup\u001b[0m\u001b[0;34m[\u001b[0m\u001b[0;36m0\u001b[0m\u001b[0;34m]\u001b[0m \u001b[0;34m=\u001b[0m \u001b[0;36m2\u001b[0m\u001b[0;34m\u001b[0m\u001b[0;34m\u001b[0m\u001b[0m\n\u001b[0m",
      "\u001b[0;31mTypeError\u001b[0m: 'tuple' object does not support item assignment"
     ]
    }
   ],
   "source": [
    "tup[0] = 2"
   ]
  },
  {
   "cell_type": "markdown",
   "metadata": {},
   "source": [
    "**What can we do with a tuple?**\n",
    "\n",
    "What python method will list out the options:\n",
    "<details>\n",
    "<summary>Solution</summary>\n",
    "    <b>dir(tup)</b> or <b>help(typ)</b>\n",
    "\n",
    "</details>\n"
   ]
  },
  {
   "cell_type": "code",
   "execution_count": 95,
   "metadata": {},
   "outputs": [
    {
     "data": {
      "text/plain": [
       "['__add__',\n",
       " '__class__',\n",
       " '__contains__',\n",
       " '__delattr__',\n",
       " '__dir__',\n",
       " '__doc__',\n",
       " '__eq__',\n",
       " '__format__',\n",
       " '__ge__',\n",
       " '__getattribute__',\n",
       " '__getitem__',\n",
       " '__getnewargs__',\n",
       " '__gt__',\n",
       " '__hash__',\n",
       " '__init__',\n",
       " '__init_subclass__',\n",
       " '__iter__',\n",
       " '__le__',\n",
       " '__len__',\n",
       " '__lt__',\n",
       " '__mul__',\n",
       " '__ne__',\n",
       " '__new__',\n",
       " '__reduce__',\n",
       " '__reduce_ex__',\n",
       " '__repr__',\n",
       " '__rmul__',\n",
       " '__setattr__',\n",
       " '__sizeof__',\n",
       " '__str__',\n",
       " '__subclasshook__',\n",
       " 'count',\n",
       " 'index']"
      ]
     },
     "execution_count": 95,
     "metadata": {},
     "output_type": "execute_result"
    }
   ],
   "source": [
    "dir(tup)"
   ]
  },
  {
   "cell_type": "code",
   "execution_count": 96,
   "metadata": {},
   "outputs": [
    {
     "data": {
      "text/plain": [
       "5"
      ]
     },
     "execution_count": 96,
     "metadata": {},
     "output_type": "execute_result"
    }
   ],
   "source": [
    "len(fruits)"
   ]
  },
  {
   "cell_type": "code",
   "execution_count": 100,
   "metadata": {},
   "outputs": [
    {
     "data": {
      "text/plain": [
       "3"
      ]
     },
     "execution_count": 100,
     "metadata": {},
     "output_type": "execute_result"
    }
   ],
   "source": [
    "len(tup)"
   ]
  },
  {
   "cell_type": "code",
   "execution_count": 101,
   "metadata": {},
   "outputs": [
    {
     "data": {
      "text/plain": [
       "(1, 2, 3)"
      ]
     },
     "execution_count": 101,
     "metadata": {},
     "output_type": "execute_result"
    }
   ],
   "source": [
    "tup"
   ]
  },
  {
   "cell_type": "code",
   "execution_count": 102,
   "metadata": {},
   "outputs": [
    {
     "data": {
      "text/plain": [
       "1"
      ]
     },
     "execution_count": 102,
     "metadata": {},
     "output_type": "execute_result"
    }
   ],
   "source": [
    "tup.count(1)"
   ]
  },
  {
   "cell_type": "code",
   "execution_count": 103,
   "metadata": {},
   "outputs": [
    {
     "data": {
      "text/plain": [
       "0"
      ]
     },
     "execution_count": 103,
     "metadata": {},
     "output_type": "execute_result"
    }
   ],
   "source": [
    "tup.index(1)"
   ]
  },
  {
   "cell_type": "markdown",
   "metadata": {},
   "source": [
    "**Why use tuples?**"
   ]
  },
  {
   "cell_type": "code",
   "execution_count": 104,
   "metadata": {},
   "outputs": [
    {
     "data": {
      "text/plain": [
       "('Shakspeare', \"A Midsumer Night's Dream\", 1595)"
      ]
     },
     "execution_count": 104,
     "metadata": {},
     "output_type": "execute_result"
    }
   ],
   "source": [
    "play = (\"Shakspeare\", \"A Midsumer Night's Dream\", 1595)\n",
    "author, title, year = play\n",
    "author, title, year"
   ]
  },
  {
   "cell_type": "code",
   "execution_count": 105,
   "metadata": {},
   "outputs": [
    {
     "ename": "ValueError",
     "evalue": "too many values to unpack (expected 2)",
     "output_type": "error",
     "traceback": [
      "\u001b[0;31m---------------------------------------------------------------------------\u001b[0m",
      "\u001b[0;31mValueError\u001b[0m                                Traceback (most recent call last)",
      "\u001b[0;32m<ipython-input-105-0f3ba72c6a6a>\u001b[0m in \u001b[0;36m<module>\u001b[0;34m\u001b[0m\n\u001b[0;32m----> 1\u001b[0;31m \u001b[0mauthor\u001b[0m\u001b[0;34m,\u001b[0m \u001b[0mtitle\u001b[0m \u001b[0;34m=\u001b[0m \u001b[0mplay\u001b[0m\u001b[0;34m\u001b[0m\u001b[0;34m\u001b[0m\u001b[0m\n\u001b[0m",
      "\u001b[0;31mValueError\u001b[0m: too many values to unpack (expected 2)"
     ]
    }
   ],
   "source": [
    "author, title = play"
   ]
  },
  {
   "cell_type": "markdown",
   "metadata": {},
   "source": [
    "Tuples assignment is a way of unpacking values."
   ]
  },
  {
   "cell_type": "markdown",
   "metadata": {},
   "source": [
    "### Sets"
   ]
  },
  {
   "cell_type": "code",
   "execution_count": 106,
   "metadata": {},
   "outputs": [
    {
     "data": {
      "text/plain": [
       "({0, 1, 2, 3, 4}, set)"
      ]
     },
     "execution_count": 106,
     "metadata": {},
     "output_type": "execute_result"
    }
   ],
   "source": [
    "set_example = set([0,1,2,3,4])\n",
    "set_example, type(set_example)"
   ]
  },
  {
   "cell_type": "code",
   "execution_count": 107,
   "metadata": {},
   "outputs": [
    {
     "data": {
      "text/plain": [
       "{0}"
      ]
     },
     "execution_count": 107,
     "metadata": {},
     "output_type": "execute_result"
    }
   ],
   "source": [
    "set([0,0,0,0])"
   ]
  },
  {
   "cell_type": "markdown",
   "metadata": {},
   "source": [
    "**Adding to a set** \n",
    "\n",
    "Lets try adding the number `5` to our set"
   ]
  },
  {
   "cell_type": "code",
   "execution_count": 108,
   "metadata": {},
   "outputs": [
    {
     "ename": "AttributeError",
     "evalue": "'set' object has no attribute 'append'",
     "output_type": "error",
     "traceback": [
      "\u001b[0;31m---------------------------------------------------------------------------\u001b[0m",
      "\u001b[0;31mAttributeError\u001b[0m                            Traceback (most recent call last)",
      "\u001b[0;32m<ipython-input-108-ad86e892e841>\u001b[0m in \u001b[0;36m<module>\u001b[0;34m\u001b[0m\n\u001b[0;32m----> 1\u001b[0;31m \u001b[0mset_example\u001b[0m\u001b[0;34m.\u001b[0m\u001b[0mappend\u001b[0m\u001b[0;34m(\u001b[0m\u001b[0;36m5\u001b[0m\u001b[0;34m)\u001b[0m\u001b[0;34m\u001b[0m\u001b[0;34m\u001b[0m\u001b[0m\n\u001b[0m",
      "\u001b[0;31mAttributeError\u001b[0m: 'set' object has no attribute 'append'"
     ]
    }
   ],
   "source": [
    "set_example.append(5)"
   ]
  },
  {
   "cell_type": "code",
   "execution_count": 110,
   "metadata": {},
   "outputs": [
    {
     "data": {
      "text/plain": [
       "{0, 1, 2, 3, 4, 5}"
      ]
     },
     "execution_count": 110,
     "metadata": {},
     "output_type": "execute_result"
    }
   ],
   "source": [
    "set_example.add(5)\n",
    "set_example"
   ]
  },
  {
   "cell_type": "code",
   "execution_count": 111,
   "metadata": {},
   "outputs": [
    {
     "data": {
      "text/plain": [
       "{0, 1, 2, 3, 4, 5}"
      ]
     },
     "execution_count": 111,
     "metadata": {},
     "output_type": "execute_result"
    }
   ],
   "source": [
    "set_example.add(0)\n",
    "set_example"
   ]
  },
  {
   "cell_type": "markdown",
   "metadata": {},
   "source": [
    "What python method can you use to find out how to add to a set? \n",
    "<details>\n",
    "<summary>Solution</summary>\n",
    "<b>dir(set_example)</b>\n",
    "\n",
    "</details>\n"
   ]
  },
  {
   "cell_type": "code",
   "execution_count": null,
   "metadata": {},
   "outputs": [],
   "source": []
  },
  {
   "cell_type": "markdown",
   "metadata": {},
   "source": [
    "Now let's add 5 to our set"
   ]
  },
  {
   "cell_type": "code",
   "execution_count": null,
   "metadata": {},
   "outputs": [],
   "source": []
  },
  {
   "cell_type": "markdown",
   "metadata": {},
   "source": [
    "#### Set of authors"
   ]
  },
  {
   "cell_type": "code",
   "execution_count": 112,
   "metadata": {},
   "outputs": [
    {
     "data": {
      "text/plain": [
       "{'Austin', 'Morrison', 'Shakespeare', 'Woolf'}"
      ]
     },
     "execution_count": 112,
     "metadata": {},
     "output_type": "execute_result"
    }
   ],
   "source": [
    "authors = set([\"Shakespeare\", \"Austin\", \"Morrison\", \"Woolf\", \"Shakespeare\"])\n",
    "authors"
   ]
  },
  {
   "cell_type": "code",
   "execution_count": null,
   "metadata": {},
   "outputs": [],
   "source": []
  },
  {
   "cell_type": "markdown",
   "metadata": {},
   "source": [
    "**What would be a good use case of sets?**\n",
    "<details>\n",
    "<summary>Solution</summary>\n",
    "<b>Vocabularies</b>\n",
    "\n",
    "</details>"
   ]
  },
  {
   "cell_type": "markdown",
   "metadata": {},
   "source": [
    "#### 2016 Republican & Democratic Miami Presidential Debates"
   ]
  },
  {
   "cell_type": "markdown",
   "metadata": {},
   "source": [
    "Let's first store the debates in the variables `repub_debates` & `dem_debates`"
   ]
  },
  {
   "cell_type": "code",
   "execution_count": 113,
   "metadata": {},
   "outputs": [],
   "source": [
    "repub_debates = open(\"data/Republican_16_Miami_Debate.txt\").read()\n",
    "dem_debates = open(\"data/Democratic_16_Miami_Debate.txt\").read()"
   ]
  },
  {
   "cell_type": "code",
   "execution_count": 114,
   "metadata": {},
   "outputs": [
    {
     "data": {
      "text/plain": [
       "str"
      ]
     },
     "execution_count": 114,
     "metadata": {},
     "output_type": "execute_result"
    }
   ],
   "source": [
    "type(repub_debates)"
   ]
  },
  {
   "cell_type": "code",
   "execution_count": 115,
   "metadata": {},
   "outputs": [
    {
     "data": {
      "text/plain": [
       "\"TAPPER: Live from the Bank United Center on the campus of the University of Miami, this is the CNN Republican Presidential debate. For our viewers in the United States and around the world, welcome to Miami Florida, I'm Jake Tapper.\\n\\nIn just five days voters will go to the polls here in this state as well as in Ohio, Illinois, North Carolina and Missouri. The race for the Republican nomination for president could change dramatically.\\n\\nFlorida and Ohio each have a large number of delegates at stake and they award all of them to the candidate who wins. They're a winner-take-all state. So that's the first time that will happen in this primary season and this is the last debate before that critical round of voting.\\n\\nWe hope tonight the candidates will give the voters specifics on their visions for America.\\n\\nSo now let's welcome the candidates.\\n\\nOhio Governor John Kasich. [applause]\\n\\nSenator Ted Cruz of Texas. [applause]\\n\\nReal estate developer and businessman Donald Trump. [applause]\\n\\nSenator Marco Rubio of Florida. [applause]\\n\\nLadies and gentlemen, the Republican candidates for president of the United States. [applause]\\n\\nBefore we begin this evening, we want to remember former first lady Nancy Reagan, who passed away this week. Her funeral will be held tomorrow and we would like to take a moment of silence to remember Nancy Reagan.\\n\\n[moment of silence]\\n\\nNow, please rise for our national anthem performed by the Frost Singers from the University of Miami.\\n\\n[the national anthem is performed] [applause]\\n\\nThanks to the Frost Singers from the University of Miami.\\n\\nCandidates, you can now take your positions behind the podiums while I briefly explain the rules. As moderator, I will attempt to guide the discussion, asking questions and followups. Joining me in the questioning this evening will be Washington Times reporter Stephen Dinan, CNN Chief Political Correspondent Dana Bash, and Salem Radio's Hugh Hewitt.\\n\\nCandidates, you have one minute and 15 seconds to answer each question, and 45 seconds to respond to followups or for rebuttals if your name is invoked. That's longer than you've had in previous debates.\\n\\nTiming lights will be visible. Those lights will warn you when time is up. And as you requested, a bell will also sound, like this.\\n\\n[bell rings]\\n\\nWe know that each of you wants to debate these important issues, but please wait until you are called upon and please do not talk over one another. These are the rules to which all of you agreed.\\n\\nOur goal this evening is a serious debate on the issues.\\n\\nIt's time now for opening statements. You'll each have 30 seconds.\\n\\nGovernor Kasich, we will start with you.\\n\\nKASICH: Well, thank you. You know, I look in the faces of people all across this country, and I know they want to be hopeful. And many are hopeful. Look, I can take conservative policies to the White House, to Washington, to restore the strength of our economy. But I also want to transfer power, money and influence to where you live, because I bel\""
      ]
     },
     "execution_count": 115,
     "metadata": {},
     "output_type": "execute_result"
    }
   ],
   "source": [
    "repub_debates[:3000]"
   ]
  },
  {
   "cell_type": "markdown",
   "metadata": {},
   "source": [
    "**What types are `repub_debates` & `dem_debates`?**"
   ]
  },
  {
   "cell_type": "code",
   "execution_count": null,
   "metadata": {},
   "outputs": [],
   "source": []
  },
  {
   "cell_type": "markdown",
   "metadata": {},
   "source": [
    "**Let's build our vocabularies**"
   ]
  },
  {
   "cell_type": "code",
   "execution_count": 116,
   "metadata": {},
   "outputs": [],
   "source": [
    "repub_vocab, dem_vocab = set(), set()"
   ]
  },
  {
   "cell_type": "markdown",
   "metadata": {},
   "source": [
    "**Let's discuss an algorithm for adding words to our vocabularies**\n",
    "\n",
    "<details>\n",
    "<summary>Solution - dont show for a while</summary>\n",
    "1. Split the string containing the entire debate into a list of words\n",
    "<br>\n",
    "2. Loop through the list of words, one word at a time, and add each word to the set\n",
    "</details>"
   ]
  },
  {
   "cell_type": "code",
   "execution_count": 125,
   "metadata": {},
   "outputs": [],
   "source": [
    "for word in repub_debates.split():\n",
    "    repub_vocab.add(word)\n",
    "#repub_vocab\n",
    "\n",
    "dem_vocab = set(dem_debates.split())"
   ]
  },
  {
   "cell_type": "code",
   "execution_count": 123,
   "metadata": {},
   "outputs": [],
   "source": [
    "#set(repub_debates.split())"
   ]
  },
  {
   "cell_type": "code",
   "execution_count": 122,
   "metadata": {},
   "outputs": [
    {
     "data": {
      "text/plain": [
       "{1, 2, 3, 4}"
      ]
     },
     "execution_count": 122,
     "metadata": {},
     "output_type": "execute_result"
    }
   ],
   "source": [
    "set([1,2,3,4,3,4,1])"
   ]
  },
  {
   "cell_type": "code",
   "execution_count": null,
   "metadata": {},
   "outputs": [],
   "source": [
    "# skip"
   ]
  },
  {
   "cell_type": "code",
   "execution_count": null,
   "metadata": {},
   "outputs": [],
   "source": [
    "# skip"
   ]
  },
  {
   "cell_type": "code",
   "execution_count": null,
   "metadata": {},
   "outputs": [],
   "source": [
    "# skip"
   ]
  },
  {
   "cell_type": "code",
   "execution_count": null,
   "metadata": {},
   "outputs": [],
   "source": [
    "# skip"
   ]
  },
  {
   "cell_type": "code",
   "execution_count": null,
   "metadata": {},
   "outputs": [],
   "source": [
    "for word in repub_debates.split():\n",
    "    repub_vocab.add(word)\n",
    "for word in dem_debates.split():\n",
    "    dem_vocab.add(word)"
   ]
  },
  {
   "cell_type": "code",
   "execution_count": 126,
   "metadata": {},
   "outputs": [
    {
     "data": {
      "text/plain": [
       "(4009, 2962)"
      ]
     },
     "execution_count": 126,
     "metadata": {},
     "output_type": "execute_result"
    }
   ],
   "source": [
    "len(repub_vocab), len(dem_vocab)"
   ]
  },
  {
   "cell_type": "markdown",
   "metadata": {},
   "source": [
    "##### Validate, Validate, Validate\n",
    "\n",
    "**Its a good idea to sanity check our variables** \n",
    "Let's look at our data a bit"
   ]
  },
  {
   "cell_type": "code",
   "execution_count": null,
   "metadata": {},
   "outputs": [],
   "source": [
    "dem_vocab"
   ]
  },
  {
   "cell_type": "markdown",
   "metadata": {},
   "source": [
    "#### Union, intersection, difference"
   ]
  },
  {
   "cell_type": "markdown",
   "metadata": {},
   "source": [
    "**Question: How big is the entire vocabulary across both debates?**"
   ]
  },
  {
   "cell_type": "markdown",
   "metadata": {},
   "source": [
    "Approach 1: add the length of the two vocabularies together"
   ]
  },
  {
   "cell_type": "code",
   "execution_count": 127,
   "metadata": {},
   "outputs": [
    {
     "data": {
      "text/plain": [
       "6971"
      ]
     },
     "execution_count": 127,
     "metadata": {},
     "output_type": "execute_result"
    }
   ],
   "source": [
    "len(repub_vocab) + len(dem_vocab)"
   ]
  },
  {
   "cell_type": "markdown",
   "metadata": {},
   "source": [
    "Why is this wrong?"
   ]
  },
  {
   "cell_type": "markdown",
   "metadata": {},
   "source": [
    "<details>\n",
    "<summary>Solution</summary>\n",
    "<b>There are words in both vocabularies</b>\n",
    "\n",
    " What words do we think might be in both?   \n",
    "</details>"
   ]
  },
  {
   "cell_type": "code",
   "execution_count": null,
   "metadata": {},
   "outputs": [],
   "source": []
  },
  {
   "cell_type": "markdown",
   "metadata": {},
   "source": [
    "Approach 2: Union of the two"
   ]
  },
  {
   "cell_type": "code",
   "execution_count": 128,
   "metadata": {},
   "outputs": [
    {
     "data": {
      "text/plain": [
       "5569"
      ]
     },
     "execution_count": 128,
     "metadata": {},
     "output_type": "execute_result"
    }
   ],
   "source": [
    "len(repub_vocab.union(dem_vocab))"
   ]
  },
  {
   "cell_type": "code",
   "execution_count": 129,
   "metadata": {},
   "outputs": [],
   "source": [
    "total_vocab = repub_vocab.union(dem_vocab)\n",
    "#total_vocab"
   ]
  },
  {
   "cell_type": "markdown",
   "metadata": {},
   "source": [
    "**Question: What are the words used in one debate but not the other?**"
   ]
  },
  {
   "cell_type": "code",
   "execution_count": 131,
   "metadata": {},
   "outputs": [],
   "source": [
    "difference_vocab = dem_vocab.difference(repub_vocab)"
   ]
  },
  {
   "cell_type": "code",
   "execution_count": null,
   "metadata": {},
   "outputs": [],
   "source": []
  },
  {
   "cell_type": "markdown",
   "metadata": {},
   "source": [
    "**Question: What do we notice about these words?**\n",
    "\n",
    "<details>\n",
    "<summary>Solution</summary>\n",
    "<b>Punctuation</b>.\n",
    "    \n",
    "    Example: 'excuses' in dem_vocab, 'excuses.' in dem_vocab\n",
    "    \n",
    "    We'll deal with this later\n",
    "</details>\n"
   ]
  },
  {
   "cell_type": "code",
   "execution_count": null,
   "metadata": {},
   "outputs": [],
   "source": []
  },
  {
   "cell_type": "markdown",
   "metadata": {},
   "source": [
    "### Dictionary"
   ]
  },
  {
   "cell_type": "markdown",
   "metadata": {},
   "source": [
    "![key_val](images/key_val_dict.jpeg)\n",
    "<p style='text-align: right;'>Image from <a href=\"https://medium.com/python-pandemonium/python-dictionaries-45cacc2b76aa\">https://medium.com/python-pandemonium/python-dictionaries-45cacc2b76aa</a></p>"
   ]
  },
  {
   "cell_type": "code",
   "execution_count": 132,
   "metadata": {},
   "outputs": [
    {
     "data": {
      "text/plain": [
       "dict"
      ]
     },
     "execution_count": 132,
     "metadata": {},
     "output_type": "execute_result"
    }
   ],
   "source": [
    "type({})"
   ]
  },
  {
   "cell_type": "code",
   "execution_count": 133,
   "metadata": {},
   "outputs": [
    {
     "data": {
      "text/plain": [
       "{'a': 1, 'b': 2, 'c': 3}"
      ]
     },
     "execution_count": 133,
     "metadata": {},
     "output_type": "execute_result"
    }
   ],
   "source": [
    "dict_example = {\"a\": 1, \n",
    "                \"b\": 2, \n",
    "                \"c\": 3}\n",
    "dict_example"
   ]
  },
  {
   "cell_type": "code",
   "execution_count": 135,
   "metadata": {},
   "outputs": [
    {
     "data": {
      "text/plain": [
       "1"
      ]
     },
     "execution_count": 135,
     "metadata": {},
     "output_type": "execute_result"
    }
   ],
   "source": [
    "dict_example['a']"
   ]
  },
  {
   "cell_type": "markdown",
   "metadata": {},
   "source": [
    "#### Dictionary functions"
   ]
  },
  {
   "cell_type": "code",
   "execution_count": 137,
   "metadata": {},
   "outputs": [],
   "source": [
    "#help(dict)"
   ]
  },
  {
   "cell_type": "markdown",
   "metadata": {},
   "source": [
    "**Accessing items in dictionaries**"
   ]
  },
  {
   "cell_type": "code",
   "execution_count": 138,
   "metadata": {},
   "outputs": [
    {
     "data": {
      "text/plain": [
       "1"
      ]
     },
     "execution_count": 138,
     "metadata": {},
     "output_type": "execute_result"
    }
   ],
   "source": [
    "dict_example['a']"
   ]
  },
  {
   "cell_type": "markdown",
   "metadata": {},
   "source": [
    "**Check if key is in a dictionary**"
   ]
  },
  {
   "cell_type": "code",
   "execution_count": 139,
   "metadata": {},
   "outputs": [
    {
     "data": {
      "text/plain": [
       "True"
      ]
     },
     "execution_count": 139,
     "metadata": {},
     "output_type": "execute_result"
    }
   ],
   "source": [
    "'a' in dict_example"
   ]
  },
  {
   "cell_type": "code",
   "execution_count": 141,
   "metadata": {},
   "outputs": [
    {
     "data": {
      "text/plain": [
       "True"
      ]
     },
     "execution_count": 141,
     "metadata": {},
     "output_type": "execute_result"
    }
   ],
   "source": [
    "'bananas' in fruits"
   ]
  },
  {
   "cell_type": "code",
   "execution_count": 142,
   "metadata": {},
   "outputs": [
    {
     "data": {
      "text/plain": [
       "False"
      ]
     },
     "execution_count": 142,
     "metadata": {},
     "output_type": "execute_result"
    }
   ],
   "source": [
    "'apple' in fruits"
   ]
  },
  {
   "cell_type": "markdown",
   "metadata": {},
   "source": [
    "#### Use case\n",
    "**Question:** What would be a good use of dictionaries from our previous example?"
   ]
  },
  {
   "cell_type": "markdown",
   "metadata": {},
   "source": [
    "<details>\n",
    "<summary>Solution</summary>\n",
    "    <b>Term Frequencies</b>\n",
    "</details>"
   ]
  },
  {
   "cell_type": "code",
   "execution_count": 147,
   "metadata": {},
   "outputs": [],
   "source": [
    "repub_word_counts, dem_word_counts = {}, {}\n",
    "\n",
    "for word in repub_debates.split():\n",
    "    if word not in repub_word_counts:\n",
    "        repub_word_counts[word] = 0\n",
    "    repub_word_counts[word] += 1\n",
    "    \n",
    "    if word not in dem_word_counts:\n",
    "        dem_word_counts[word] = 0\n",
    "    dem_word_counts[word] += 1\n",
    "    #dem_word_counts[word] = dem_word_counts[word] + 1\n",
    "## add code here to make a dictionary of word counts for the republican and democrat debates\n"
   ]
  },
  {
   "cell_type": "markdown",
   "metadata": {},
   "source": [
    "<details>\n",
    "<summary>Solution</summary>\n",
    "\n",
    "\n",
    "for word in repub_debates.split():\n",
    "    if word not in repub_word_counts:\n",
    "        repub_word_counts[word] = 0 \n",
    "    repub_word_counts[word] += 1\n",
    "    \n",
    "for word in dem_debates.split():\n",
    "    if word not in dem_word_counts:\n",
    "        dem_word_counts[word] = 0\n",
    "    dem_word_counts[word] += 1\n",
    "    \n",
    "\n",
    "</details>"
   ]
  },
  {
   "cell_type": "markdown",
   "metadata": {},
   "source": [
    "Let's sort the dictionary"
   ]
  },
  {
   "cell_type": "code",
   "execution_count": 148,
   "metadata": {},
   "outputs": [
    {
     "name": "stdout",
     "output_type": "stream",
     "text": [
      "{'the': 626, 'to': 514, 'I': 352, 'that': 313, 'and': 298, 'of': 292, 'in': 239, 'a': 233, 'you': 220, 'is': 183, 'have': 156, 'we': 155, 'And': 143, 'for': 139, 'was': 92, '[applause]': 91, 'are': 90, 'not': 83, 'on': 82, 'be': 80, 'do': 79, 'with': 78, 'this': 77, 'will': 74, 'people': 74, 'what': 73, 'it': 71, 'SANDERS:': 70, 'think': 70, 'would': 67, 'who': 66, 'CLINTON:': 61, 'as': 61, 'about': 60, 'RAMOS:': 56, '—': 54, 'can': 54, 'they': 53, 'my': 53, 'their': 51, 'your': 51, 'going': 48, 'We': 47, 'very': 47, 'Secretary': 45, 'our': 45, 'has': 44, 'when': 44, 'So': 42, 'from': 41, 'SALINAS:': 40, 'Senator': 40, 'by': 38, 'But': 37, 'more': 37, 'get': 37, 'said': 37, 'at': 37, 'me': 37, \"I'm\": 36, 'if': 36, 'all': 35, 'Thank': 34, 'want': 33, 'he': 33, 'just': 32, 'up': 31, 'You': 30, 'go': 30, 'immigration': 29, 'United': 29, 'Well,': 29, 'one': 28, 'been': 28, 'but': 28, 'or': 28, '[through': 27, 'were': 27, 'time': 27, 'an': 26, 'know': 26, 'many': 26, 'had': 26, \"don't\": 26, 'The': 25, \"it's\": 25, 'know,': 25, 'you.': 24, 'because': 24, 'other': 24, 'no': 24, 'translator]:': 23, 'back': 23, 'need': 23, 'Wall': 23, 'should': 23, 'like': 22, 'than': 22, 'those': 22, 'take': 22, 'TUMULTY:': 22, 'there': 22, 'move': 22, 'them': 21, 'comprehensive': 21, 'believe': 21, 'make': 20, 'out': 20, 'also': 20, 'got': 20, 'did': 20, 'Clinton,': 20, 'President': 20, 'children': 20, 'support': 20, 'us': 19, 'right': 19, 'here': 19, 'good': 19, 'country': 19, 'States': 19, 'question': 19, 'am': 18, 'so': 18, 'some': 18, 'Clinton': 18, 'say': 18, 'see': 18, 'This': 17, 'only': 17, 'That': 17, 'it.': 17, 'that.': 17, 'she': 17, 'first': 16, '[inaudible]': 16, 'families': 16, 'every': 16, 'Sanders,': 16, 'president': 16, 'country.': 16, 'continue': 16, 'now': 16, 'They': 15, 'how': 15, 'way': 15, 'Street': 15, 'last': 15, 'It': 15, 'lot': 15, 'deport': 15, 'money': 15, 'both': 14, 'these': 14, 'stand': 14, 'any': 14, 'look': 14, 'talking': 14, 'much': 14, 'American': 14, 'Sanders': 14, 'most': 14, 'doing': 14, 'into': 13, 'reform': 13, 'end': 13, 'What': 13, 'which': 13, 'Donald': 13, 'talk': 13, 'voted': 13, \"We're\": 13, 'put': 13, 'her': 13, 'health': 13, 'you,': 12, 'things': 12, 'secretary': 12, 'against': 12, 'saying': 12, 'Democratic': 12, 'Americans': 12, 'let': 12, 'really': 12, 'hope': 12, 'percent': 12, 'being': 11, 'forward': 11, 'thank': 11, 'where': 11, 'working': 11, 'Secretary,': 11, 'work': 11, 'hard': 11, 'vote': 11, 'campaign': 11, 'next': 11, 'Senator,': 11, 'come': 11, 'number': 11, 'Republican': 11, 'government': 11, 'made': 11, 'even': 11, 'his': 11, 'years': 11, 'public': 11, 'able': 11, 'Let': 11, 'Republicans': 11, 'Now,': 10, 'answer': 10, 'question.': 10, \"I've\": 10, 'pay': 10, 'country,': 10, 'Senator.': 10, 'went': 10, 'coming': 10, 'thing': 10, 'called': 10, 'America.': 10, 'New': 10, 'plan': 10, \"Let's\": 10, 'video': 10, 'important': 10, 'Obama': 10, 'help': 10, 'education.': 10, 'Puerto': 10, 'debate': 9, 'debate.': 9, 'America': 9, 'down': 9, 'jobs': 9, 'wrong': 9, 'Your': 9, 'best': 9, 'asked': 9, 'Now': 9, \"that's\": 9, 'million': 9, 'great': 9, 'trying': 9, 'legislation': 9, 'Congress': 9, 'bill': 9, \"That's\": 9, \"It's\": 9, \"let's\": 9, 'care': 9, 'interest': 9, 'SALINAS': 8, 'candidates': 8, 'taking': 8, 'millions': 8, 'Washington': 8, 'RAMOS': 8, \"we're\": 8, 'When': 8, 'college': 8, 'making': 8, 'small': 8, 'too': 8, 'new': 8, 'climate': 8, 'lost': 8, 'kind': 8, \"we'll\": 8, 'major': 8, 'same': 8, 'said,': 8, 'If': 8, 'There': 8, 'done': 8, 'under': 8, 'Trump': 8, 'ever': 8, 'In': 8, 'stop': 8, 'executive': 8, 'after': 8, 'clip]': 8, 'why': 8, '[crosstalk]': 8, 'worked': 8, 'it,': 8, 'border': 8, 'issue': 8, '[inaudible].': 8, 'talked': 8, \"won't\": 8, 'record': 8, 'living': 8, \"didn't\": 8, 'fossil': 8, 'fuel': 8, 'tonight': 7, 'Post': 7, 'before': 7, 'debate,': 7, 'opportunity': 7, 'energy': 7, 'path': 7, 'longer': 7, 'course,': 7, 'still': 7, 'says': 7, 'give': 7, 'way,': 7, 'change': 7, 'Karen,': 7, 'this.': 7, 'everything': 7, 'little': 7, 'something': 7, 'does': 7, 'immigrants.': 7, 'bill.': 7, 'conditions': 7, 'supported': 7, 'Hispanic': 7, 'all,': 7, 'then': 7, 'promise': 7, '...': 7, 'people,': 7, 'vote.': 7, \"we've\": 7, 'absolutely': 7, 'Florida': 7, 'student': 7, 'Latin': 7, 'Cuba': 7, 'Cuban': 7, 'Sanders.': 6, '30': 6, 'another': 6, 'looking': 6, 'clean': 6, 'president.': 6, 'running': 6, 'facing': 6, 'economy': 6, 'income': 6, 'kids': 6, 'political': 6, 'state': 6, 'tell': 6, 'emails': 6, 'seen': 6, 'enough': 6, 'call': 6, 'own': 6, 'immigrants': 6, 'undocumented': 6, 'Ted': 6, 'over': 6, \"they're\": 6, 'may': 6, 'Latino': 6, 'family': 6, 'improve': 6, 'children.': 6, 'asking': 6, 'world': 6, 'agree': 6, 'industry.': 6, 'auto': 6, 'understand': 6, 'A': 6, 'industry': 6, 'Street.': 6, 'up.': 6, 'build': 6, 'between': 6, 'Look,': 6, 'QUESTION': 6, 'heard': 6, 'Is': 6, 'me.': 6, 'paid': 6, 'economy.': 6, 'took': 6, 'debt.': 6, 'percent.': 6, 'school': 6, 'national': 5, 'Hillary': 5, 'Clinton.': 5, 'Bernie': 5, 'here.': 5, 'evening.': 5, 'break]': 5, 'seconds': 5, 'questions': 5, 'now,': 5, 'rising': 5, 'jobs.': 5, 'question,': 5, 'close': 5, 'pleased': 5, 'Florida.': 5, 'behind': 5, 'information': 5, 'use': 5, \"there's\": 5, 'gets': 5, 'issue.': 5, 'process': 5, 'its': 5, 'levels': 5, 'issues': 5, 'him': 5, 'deeply': 5, 'raise': 5, 'said.': 5, 'better': 5, 'bit': 5, 'expand': 5, \"Obama's\": 5, 'So,': 5, '[laughter]': 5, 'committed': 5, 'reform.': 5, 'wages': 5, 'lower': 5, 'now.': 5, 'programs': 5, 'stood': 5, 'people.': 5, 'reform,': 5, 'efforts': 5, 'respond': 5, 'Senate,': 5, 'break': 5, 'told': 5, 'two': 5, 'times': 5, 'criminal': 5, 'children,': 5, 'already': 5, 'members': 5, 'do.': 5, 'try': 5, \"president's\": 5, 'career': 5, 'everybody': 5, 'senator': 5, 'big': 5, 'up,': 5, 'on.': 5, 'difference': 5, 'senator.': 5, 'while': 5, 'deserve': 5, 'that,': 5, 'certainly': 5, 'helped': 5, 'Koch': 5, 'Americans.': 5, 'president,': 5, 'off': 5, 'Latinos': 5, 'create': 5, 'Affordable': 5, 'Care': 5, 'free': 5, 'colleges': 5, 'UNKNOWN:': 5, 'refinance': 5, 'rates': 5, 'back,': 5, 'Cuba.': 5, 'Fidel': 5, '[Speaking': 4, 'Spanish]': 4, 'welcome': 4, 'former': 4, 'Good': 4, '[commercial': 4, 'us.': 4, '90': 4, 'much.': 4, 'Facebook': 4, 'getting': 4, 'economic': 4, 'paying': 4, '100': 4, 'given': 4, 'establishment': 4, 'Citizens': 4, 'top': 4, 'toward': 4, 'citizenship.': 4, 'America,': 4, 'change,': 4, 'First': 4, 'night': 4, 'Michigan?': 4, 'states': 4, 'them.': 4, 'far': 4, 'probably': 4, 'long': 4, 'well,': 4, 'sent': 4, 'security': 4, 'different': 4, 'rest': 4, 'gave': 4, 'exactly': 4, 'sure': 4, 'case': 4, 'concerned': 4, 'middle': 4, \"he's\": 4, 'immigrants,': 4, 'values': 4, 'fair': 4, 'insults': 4, 'several': 4, 'find': 4, 'York,': 4, 'illegal': 4, 'actions': 4, 'Act.': 4, 'Just': 4, 'course': 4, '[begin': 4, '[end': 4, 'came': 4, 'Of': 4, \"you're\": 4, 'know.': 4, '2007': 4, 'me,': 4, 'leaders': 4, 'York': 4, 'violence': 4, 'back.': 4, \"can't\": 4, 'often': 4, 'here,': 4, 'House': 4, 'One': 4, 'Congress,': 4, 'result': 4, 'no,': 4, 'possible': 4, 'process.': 4, 'law': 4, 'policy': 4, 'terrorist': 4, 'through': 4, 'try,': 4, 'did.': 4, 'happen': 4, 'program': 4, 'years.': 4, 'quote,': 4, 'Did': 4, 'bailout': 4, 'fighting': 4, 'wants': 4, 'hear': 4, 'is,': 4, \"Trump's\": 4, 'anything': 4, 'since': 4, 'ask': 4, 'mother': 4, 'months': 4, 'young': 4, 'serving': 4, 'policies': 4, \"you've\": 4, 'bring': 4, 'together.': 4, 'about.': 4, 'financial': 4, 'wonderful': 4, '$15': 4, 'during': 4, 'passed': 4, 'drug': 4, 'taken': 4, 'right.': 4, 'yes,': 4, 'Because': 4, 'Henry': 4, 'break.': 4, \"We'll\": 4, 'community': 4, 'needs': 4, 'significant': 4, 'power': 4, 'high': 4, 'billion': 4, 'join': 4, 'tuition': 4, 'afford': 4, 'around': 4, 'bipartisan': 4, 'place.': 4, 'history': 4, 'Castro': 4, 'democracy': 4, 'overthrow': 4, 'Rico': 4, 'voters': 3, 'Univision': 3, 'together': 3, 'policy.': 3, 'Karen.': 3, 'State': 3, 'Vermont': 3, 'Welcome': 3, 'Facebook,': 3, 'questions,': 3, 'barriers': 3, 'imposing': 3, 'tax': 3, 'having': 3, 'businesses': 3, 'citizenship': 3, 'days': 3, 'deserves': 3, 'remarks.': 3, 'overturn': 3, \"We've\": 3, 'almost': 3, 'wealth': 3, '1': 3, 'Miami': 3, 'city': 3, 'leave': 3, 'look,': 3, 'won': 3, 'single': 3, 'across': 3, 'votes': 3, 'real': 3, 'including': 3, 'She': 3, 'points': 3, 'corporate': 3, 'cannot': 3, 'candidate': 3, 'again': 3, 'daughter': 3, 'state,': 3, 'private': 3, 'yourself': 3, 'specifically': 3, 'permission': 3, 'Barack': 3, 'Jorge,': 3, 'send': 3, 'reason': 3, 'happens': 3, 'public.': 3, 'in.': 3, 'who,': 3, 'hearing': 3, 'serious': 3, 'threatens': 3, 'friend': 3, 'fortunate': 3, 'found': 3, 'joining': 3, 'system.': 3, 'whether': 3, 'person': 3, 'elect': 3, 'ago,': 3, 'On': 3, 'immigration,': 3, 'Maria': 3, 'sponsored': 3, 'chance': 3, '2007,': 3, 'Kennedy': 3, 'led': 3, 'support.': 3, 'think,': 3, 'ago.': 3, 'secure': 3, 'listen.': 3, 'workers': 3, 'done,': 3, 'legal': 3, 'opposed': 3, 'Obama,': 3, 'actually': 3, 'used': 3, 'along': 3, 'provide': 3, 'remember': 3, 'human': 3, 'due': 3, 'Senate': 3, 'vote,': 3, 'many,': 3, 'moment': 3, 'deportations.': 3, 'could': 3, 'However,': 3, 'record?': 3, 'story': 3, 'will,': 3, 'stories': 3, 'time,': 3, 'laws.': 3, 'laws': 3, 'them,': 3, 'violent': 3, 'administration': 3, 'telling': 3, 'deported.': 3, 'families.': 3, 'meet': 3, 'job': 3, 'meeting': 3, 'protect': 3, 'helping': 3, 'strongly': 3, 'pass': 3, 'piece': 3, 'large': 3, 'No,': 3, 'oppose': 3, 'automobile': 3, 'day': 3, 'rescue': 3, 'Senate.': 3, 'fact': 3, 'OK,': 3, 'behavior': 3, 'barriers.': 3, 'numerous': 3, 'border.': 3, '40': 3, 'years,': 3, 'Republicans,': 3, 'makes': 3, 'strong': 3, 'tall': 3, 'Great': 3, 'And,': 3, 'business': 3, 'idea': 3, 'maybe': 3, '11': 3, 'few': 3, \"she's\": 3, 'five': 3, 'unite': 3, 'brave': 3, 'husband': 3, 'must': 3, 'citizens': 3, 'attacks': 3, 'decisions': 3, 'plans': 3, 'easy': 3, \"haven't\": 3, 'Obama.': 3, 'Why': 3, 'Do': 3, 'share': 3, \"doesn't\": 3, 'special': 3, 'interests': 3, 'clearly,': 3, 'brothers,': 3, 'companies.': 3, 'insurance': 3, 'federal': 3, 'proud': 3, 'dangerous': 3, 'future.': 3, 'hundreds': 3, 'companies': 3, 'feel': 3, 'four': 3, 'Benghazi.': 3, 'hour.': 3, 'mostly': 3, 'regime': 3, 'UNKNOWN': 3, 'translator:': 3, 'highest': 3, 'point': 3, 'unemployment': 3, 'incomes.': 3, 'stake': 3, 'world,': 3, 'invest': 3, 'education': 3, 'plan,': 3, 'grade': 3, 'universities': 3, 'Absolutely.': 3, 'For': 3, 'debt,': 3, 'certain': 3, 'debt': 3, 'everybody.': 3, 'All': 3, 'universal': 3, 'away': 3, 'revolution': 3, 'without': 3, 'quickly': 3, 'Elizabeth': 3, 'Warren': 3, 'presidents': 3, 'Bush': 3, 'towards': 3, 'relations': 3, 'Daniel': 3, 'Ortega': 3, 'Cuba,': 3, 'world.': 3, 'socialism': 3, 'Facebook.': 3, 'restructure': 3, 'Rico,': 3, 'court': 3, 'commercial.': 3, 'acceptable': 3, 'results': 2, 'each': 2, 'answer,': 2, 'Spanish': 2, 'words.': 2, 'Univision,': 2, 'Miami-Dade': 2, 'largest': 2, 'North': 2, 'ahead': 2, 'starting': 2, 'My': 2, 'focus': 2, 'prevent': 2, \"they've\": 2, 'positive': 2, 'discussing': 2, 'priorities': 2, 'education,': 2, 'child': 2, 'teacher': 2, 'Secretary.': 2, 'us,': 2, 'disastrous': 2, 'Supreme': 2, 'Court': 2, 'decision.': 2, 'elections.': 2, 'hours': 2, 'wages,': 2, 'percent,': 2, 'combat': 2, 'transform': 2, 'planet': 2, 'Where': 2, 'fail': 2, 'one.': 2, 'opponent': 2, 'carried': 2, 'everybody,': 2, 'problems': 2, 'based': 2, 'progressive': 2, 'done.': 2, 'upcoming': 2, 'Michigan': 2, 'race.': 2, 'some.': 2, 'outcome': 2, 'count.': 2, '60': 2, '10': 2, 'months.': 2, 'night,': 2, 'modern': 2, 'nine': 2, 'win': 2, 'strongest': 2, 'Trump.': 2, 'works': 2, 'campaign.': 2, 'opponents': 2, 'security.': 2, 'classified': 2, 'according': 2, 'goes': 2, 'set': 2, 'rules': 2, 'system': 2, 'Was': 2, 'Obama?': 2, 'drop': 2, 'race': 2, 'giving': 2, \"wasn't\": 2, 'out,': 2, 'government.': 2, \"here's\": 2, 'cut': 2, 'time.': 2, 'somebody': 2, 'Then': 2, 'government,': 2, 'retroactively': 2, 'Democrat': 2, 'asked.': 2, 'gone': 2, 'Which': 2, 'it?': 2, 'class': 2, 'massive': 2, 'planet,': 2, 'live': 2, 'known': 2, 'running.': 2, 'racist?': 2, 'follow': 2, 'nominee,': 2, 'him.': 2, 'out.': 2, 'calling': 2, 'rhetoric': 2, 'clear': 2, 'place': 2, \"couldn't\": 2, 'decide': 2, 'draw': 2, 'conclusions': 2, 'rid': 2, 'primary': 2, 'choose': 2, 'How': 2, 'Mexican': 2, 'women,': 2, 'promoted': 2, 'criticize': 2, 'him,': 2, 'issues.': 2, 'pointing': 2, 'think.': 2, 'dad': 2, 'born': 2, 'immigrant': 2, 'poll': 2, '18': 2, '2003,': 2, 'radio': 2, 'Or': 2, 'Latinos,': 2, 'imagine': 2, 'today': 2, 'fearing': 2, 'deportation': 2, 'favor': 2, 'guestworker': 2, 'provisions': 2, 'then,': 2, 'Poverty': 2, 'guestworkers': 2, 'drive': 2, 'described': 2, 'institutions': 2, 'studies': 2, 'slavery,': 2, 'bottom': 2, '2013': 2, 'job,': 2, 'powers': 2, 'did,': 2, 'actions,': 2, 'regard': 2, 'can.': 2, 'DAPA': 2, 'DACA.': 2, 'Kennedy,': 2, 'further': 2, 'defending': 2, 'law.': 2, 'presidency.': 2, 'upon': 2, 'wanted': 2, \"driver's\": 2, 'Vermont,': 2, 'ability': 2, 'tragedies': 2, 'recent': 2, 'Honduras': 2, 'difference.': 2, 'for,': 2, '2006,': 2, 'indefinite': 2, 'detention': 2, 'sided': 2, 'vigilantes': 2, \"he'd\": 2, 'Go': 2, 'ahead.': 2, 'mine,': 2, 'served': 2, 'Health,': 2, 'Education,': 2, 'Labor': 2, '2008,': 2, 'believe,': 2, 'workers.': 2, 'comment': 2, 'January,': 2, 'deporting': 2, 'chief.': 2, 'deporter': 2, 'children?': 2, 'particularly': 2, 'secretary,': 2, 'seem': 2, 'deported': 2, 'yes': 2, 'Yes,': 2, 'Under': 2, 'changed.': 2, 'everyone': 2, 'criminals,': 2, 'anyone': 2, 'does.': 2, 'lives,': 2, 'jobs,': 2, 'here?': 2, 'Jorge.': 2, 'to,': 2, 'anybody': 2, 'OK.': 2, 'become': 2, 'not.': 2, \"I'd\": 2, 'terrible': 2, 'deportations': 2, 'Yes.': 2, 'fully': 2, 'answered': 2, 'region': 2, 'part': 2, 'States.': 2, 'He': 2, 'disagree': 2, 'achieve': 2, 'ending': 2, 'Central': 2, 'leaders,': 2, 'homes': 2, 'countries.': 2, 'true,': 2, 'good,': 2, 'guest': 2, 'worker': 2, 'treated': 2, 'conclude': 2, 'considered': 2, 'words': 2, 'earlier,': 2, 'absurd': 2, 'goal': 2, 'Minutemen,': 2, 'dozens': 2, 'existing': 2, 'pieces': 2, 'workers,': 2, 'yours': 2, 'month': 2, 'hoped': 2, \"I'll\": 2, 'votes.': 2, 'rescued': 2, 'bailout.': 2, 'banks': 2, 'building': 2, 'wall': 2, 'wall,': 2, 'agents.': 2, 'fence': 2, 'place,': 2, 'had.': 2, 'lowest': 2, 'argument': 2, 'side': 2, 'congressional': 2, 'run': 2, 'wall.': 2, 'beautiful': 2, 'for.': 2, 'necessary,': 2, 'add': 2, 'say...': 2, 'others': 2, 'audience': 2, 'Lucia': 2, \"She's\": 2, 'father': 2, 'three': 2, 'QUESTION:': 2, 'painful': 2, 'family.': 2, 'importantly,': 2, 'reunite': 2, 'At': 2, 'families,': 2, 'military': 2, 'beyond': 2, \"what's\": 2, 'U.S.': 2, 'please': 2, 'act': 2, 'are.': 2, 'consider': 2, '25': 2, 'themselves.': 2, 'obviously': 2, 'responsibility.': 2, 'have,': 2, 'demonstrate': 2, 'commitment': 2, 'happened': 2, 'possible.': 2, 'natural': 2, 'view': 2, 'can,': 2, 'release': 2, 'transcripts': 2, 'speeches.': 2, 'public?': 2, '$225,000': 2, 'speech,': 2, 'speeches': 2, 'Goldman': 2, 'Sachs,': 2, 'destroy': 2, 'speech': 2, 'mean': 2, 'transcript.': 2, '[laughter': 2, 'applause]': 2, \"secretary's\": 2, 'her.': 2, 'interests.': 2, 'area': 2, 'pose': 2, 'threat': 2, 'bank': 2, 'powerful': 2, 'Street,': 2, 'companies,': 2, 'dollars': 2, 'minute.': 2, 'worth': 2, 'industry,': 2, 'praising': 2, 'Washington.': 2, '[booing]': 2, 'seconds,': 2, 'nobody': 2, 'Social': 2, 'secretary.': 2, 'though,': 2, 'bad': 2, 'eliminate': 2, 'Export/Import': 2, 'export': 2, 'perspective,': 2, 'Susan': 2, 'Rice,': 2, 'video.': 2, 'deal': 2, 'wrong.': 2, 'literally': 2, 'listened': 2, 'knows': 2, 'learn': 2, 'anything.': 2, 'independent': 2, 'lessons': 2, 'Reagan': 2, 'point.': 2, 'credit': 2, 'wish': 2, 'learned': 2, \"Clinton's\": 2, 'Gadhafi': 2, 'change.': 2, 'war': 2, 'Iraq': 2, 'praise': 2, 'all.': 2, 'topics': 2, 'remind': 2, 'action': 2, 'moving': 2, 'story?': 2, 'politician.': 2, 'prescription': 2, 'destroying': 2, 'emissions': 2, 'carbon': 2, 'record,': 2, 'healthcare': 2, 'rate': 2, 'higher': 2, 'less': 2, 'thought.': 2, 'specific': 2, 'need,': 2, 'laid': 2, 'work.': 2, 'punish': 2, 'forth': 2, 'huge': 2, 'groundwork': 2, 'businesses.': 2, 'minimum': 2, 'wage': 2, 'guarantee': 2, 'Latinos.': 2, 'school,': 2, 'regardless': 2, 'care.': 2, 'pick': 2, '17': 2, '20': 2, 'unemployed': 2, 'propose': 2, 'students': 2, 'degree': 2, 'outrageous': 2, 'free,': 2, 'things.': 2, 'income,': 2, 'study': 2, 'hard,': 2, 'Enrique': 2, 'thanks': 2, 'obviously,': 2, 'expensive': 2, '$70': 2, 'Treasury': 2, 'answers': 2, 'earth': 2, 'spending': 2, 'coverage.': 2, 'Remember,': 2, 'cost.': 2, 'repeal': 2, 'care,': 2, 'committee,': 2, 'insurance,': 2, 'doctors': 2, 'fight': 2, 'subject': 2, 'mayors': 2, 'Miami,': 2, 'man-made': 2, 'coal': 2, 'oil': 2, 'gas': 2, 'efficiency': 2, 'sustainable': 2, 'day,': 2, 'funding': 2, 'always': 2, 'South': 2, 'left': 2, 'resilience': 2, 'implement': 2, 'energy.': 2, 'excuse': 2, 'revolving': 2, 'reach': 2, 'criticizing': 2, 'George': 2, 'W.': 2, 'recession.': 2, 'earlier': 2, 'more.': 2, 'worst': 2, '1990s,': 2, 'closely': 2, 'supporting': 2, 'today.': 2, \"Don't\": 2, 'White': 2, 'diplomatic': 2, 'freedom,': 2, 'greater': 2, 'freedom': 2, 'authoritarian': 2, 'chosen': 2, 'full': 2, 'States,': 2, 'democratic': 2, 'sorry.': 2, 'praised': 2, 'Castro.': 2, 'totally': 2, 'Nicaragua': 2, 'retrospect,': 2, 'regretted': 2, 'characterizations': 2, 'overthrowing': 2, 'hands,': 2, 'lives': 2, 'common': 2, 'expressing': 2, 'vulture': 2, 'capitalists': 2, 'crucial': 2, 'closing': 2, 'Tuesday,': 2, 'wealthiest': 2, 'do,': 1, 'account': 1, 'News,': 1, 'Post.': 1, 'Here': 1, 'Karen': 1, 'Tumulty,': 1, 'correspondent': 1, 'specialized': 1, 'Welcome,': 1, 'protagonists': 1, 'First,': 1, 'Rodham': 1, 'continue,': 1, 'Sebastian': 1, 'de': 1, 'la': 1, 'Cruz': 1, 'sing': 1, 'anthem.': 1, 'Sebastian,': 1, 'welcome.': 1, '[The': 1, 'National': 1, 'Anthem': 1, 'performed.]': 1, 'accepted.': 1, 'rival': 1, 'mentions': 1, 'follow-up': 1, 'ask.': 1, 'English': 1, 'translated': 1, 'simultaneously': 1, 'viewers.': 1, 'minute': 1, 'initial': 1, 'begin': 1, 'Post,': 1, 'College,': 1, 'hosting': 1, 'discuss': 1, 'knock': 1, 'staying': 1, 'ahead,': 1, 'ones.': 1, 'incomes': 1, 'corporations': 1, 'exit': 1, 'tax,': 1, 'breaks': 1, 'gotten.': 1, 'agenda': 1, 'manufacturing.': 1, 'entrepreneurs,': 1, 'school.': 1, 'opening': 1, 'crises': 1, 'late': 1, 'politics': 1, 'economics.': 1, 'Together': 1, 'Billionaires': 1, 'buying': 1, 'rigged': 1, 'low': 1, 'Miami...[applause]...here': 1, 'system,': 1, 'healthy': 1, 'habitable': 1, 'grandchildren.': 1, 'sound': 1, 'nominee': 1, 'lately,': 1, 'saying,': 1, 'fast.': 1, 'contests': 1, 'continuing': 1, '100,000': 1, 'delegates.': 1, 'marathon,': 1, 'marathon': 1, 'inclusive': 1, 'running,': 1, 'reaches': 1, 'offers': 1, 'solutions': 1, 'face,': 1, 'progress,': 1, 'likes': 1, 'excited': 1, 'contests,': 1, 'earn': 1, 'voter.': 1, 'failed': 1, 'specifically?': 1, 'those.': 1, 'But,': 1, 'overall': 1, 'night.': 1, 'Tuesday': 1, 'campaigning': 1, 'aside': 1, 'astounding': 1, 'upset': 1, 'Michigan,': 1, 'delegate': 1, '1,221': 1, 'delegates,': 1, 'superdelegates,': 1, '571.': 1, 'pathway': 1, 'deficit,': 1, 'realistically': 1, 'catch': 1, 'up?': 1, 'began': 1, 'campaign,': 1, '3%': 1, 'polls.': 1, '70': 1, 'won...[applause]...including': 1, 'people,considered': 1, 'upsets': 1, 'history.': 1, 'primaries': 1, 'caucuses.': 1, 'message': 1, 'resonating': 1, 'weeks': 1, 'months,': 1, 'extremely': 1, 'primaries,': 1, 'convince': 1, 'superdelegates': 1, 'defeat': 1, 'disclose': 1, 'once': 1, 'Paula': 1, 'emails.': 1, 'endangered': 1, 'wrote': 1, '104': 1, 'server': 1, 'contain': 1, 'analysis.': 1, 'memo': 1, 'personally': 1, 'employees': 1, '2011': 1, 'directing': 1, 'official': 1, 'email,': 1, 'precisely': 1, 'concerns.': 1, 'seems': 1, 'issued': 1, 'Department.': 1, 'operate': 1, 'email': 1, 'did?': 1, 'indicted?': 1, 'there.': 1, 'choice.': 1, 'mistake.': 1, 'prohibited.': 1, 'disallowed.': 1, 'predecessors': 1, 'chase': 1, 'facts.': 1, 'receive': 1, 'marked': 1, 'retroactive': 1, 'classification.': 1, 'asks': 1, 'public,': 1, 'weigh': 1, 'parts': 1, 'concluded': 1, 'classified.': 1, \"They've\": 1, 'Colin': 1, 'Powell.': 1, 'classify': 1, 'personally.': 1, 'absurdity.': 1, 'overclassification.': 1, 'permission...': 1, 'worried': 1, 'either.': 1, 'were,': 1, 'cooperate?': 1, 'predecessors.': 1, 'permitted.': 1, 'indicted': 1, 'out?': 1, 'Oh,': 1, 'goodness': 1, 'happen.': 1, 'answering': 1, 'following,': 1, 'sick': 1, 'tired': 1, 'damn': 1, 'e-': 1, 'mails,': 1, 'claiming': 1, 'course.': 1, 'Today': 1, 'disappearing.': 1, 'inequality,': 1, 'whole': 1, '47': 1, 'poverty.': 1, 'specifically.': 1, 'model': 1, 'Mexicans': 1, 'rapists.': 1, 'engaging': 1, 'offensive.': 1, 'basta,': 1, 'others...[applause]...others': 1, 'rhetoric,': 1, 'demagoguery,': 1, 'trafficking': 1, 'prejudice': 1, 'paranoia': 1, 'Especially': 1, 'disavow': 1, 'Ku': 1, 'Klux': 1, 'Klan': 1, 'David': 1, 'Duke.': 1, 'great.': 1, 'character.': 1, 'describe': 1, 'character': 1, 'sorts': 1, 'ban': 1, 'entering': 1, 'religion?': 1, 'un-American.': 1, 'keeping': 1, 'values,': 1, 'engage': 1, 'language': 1, 'uses.': 1, 'claims': 1, 'promoting': 1, 'conclusions.': 1, 'never': 1, 'Mexicans,': 1, 'Muslims,': 1, 'African-Americans.': 1, 'forget': 1, 'so-': 1, 'birther': 1, 'movement,': 1, 'delegitimize': 1, 'interesting,': 1, 'Poland.': 1, 'experience.': 1, 'Nobody': 1, 'birth': 1, 'certificate.': 1, 'Maybe': 1, 'color': 1, 'skin.': 1, 'character?': 1, 'saw,': 1, '[inaudible],': 1, 'map': 1, 'shows': 1, 'most.': 1, 'Elena?': 1, 'show,': 1, 'John': 1, \"Gambling's\": 1, 'show': 1, 'adamantly': 1, 'employing': 1, 'push': 1, 'include': 1, 'flip-flopping': 1, 'issue?': 1, 'pandering': 1, 'Hispandering?': 1, 'DREAMER': 1, 'consistent': 1, 'charge': 1, 'willing': 1, 'sign': 1, 'achieved': 1, 'Imagine': 1, 'loved': 1, 'one;': 1, 'staunchly': 1, 'career.': 1, 'seemed': 1, 'semi-slavery.': 1, \"CNN's\": 1, 'Lou': 1, 'Dobbs.': 1, 'increasing.': 1, 'down,': 1, 'guestworkers,': 1, 'Americans?': 1, 'Southern': 1, 'Law': 1, 'Center,': 1, 'issues,': 1, 'akin': 1, 'cheated.': 1, 'abused.': 1, 'humiliated.': 1, 'rights,': 1, 'thrown': 1, 'type': 1, 'leads': 1, 'office': 1, 'would...[applause]...if': 1, 'battle': 1, 'actions?': 1, 'bill,': 1, 'LULAC,': 1, 'organization': 1, 'organizations.': 1, 'point,': 1, 'applaud': 1, 'efforts.': 1, 'could...[applause]': 1, 'La': 1, 'Raza,': 1, 'Farmworkers,': 1, 'Dolores': 1, 'Huerta,': 1, 'community,': 1, 'slavery.': 1, 'excuses': 1, 'passed,': 1, 'deferred': 1, 'action,': 1, 'introducing': 1, '(sic).': 1, 'respond?': 1, 'assist': 1, 'prevailed': 1, 'governor': 1, 'Elliot': 1, 'Spitzer,': 1, 'license': 1, 'undocumented,': 1, 'officials': 1, 'license.': 1, 'tragedies,': 1, 'misrepresentation': 1, 'unanswered': 1, 'needed': 1, 'own,': 1, 'needed,': 1, 'argued': 1, 'counsel,': 1, 'process,': 1, 'detention,': 1, 'detention.': 1, 'hard-line': 1, 'Minute': 1, 'Men': 1, 'outposts': 1, 'hunt': 1, 'Republicans.': 1, \"Kennedy's\": 1, 'arrived.': 1, 'response.': 1, 'committee': 1, 'chaired,': 1, 'Committee.': 1, 'allow': 1, 'hold': 1, 'dealing': 1, 'plight': 1, 'tomato': 1, 'pickers': 1, 'Immokalee,': 1, 'own.': 1, \"Wasn't\": 1, 'expose': 1, 'horrendous': 1, 'semi': 1, 'like,': 1, 'lived': 1, 'under.': 1, 'significantly': 1, 'Great.': 1, 'page': 1, 'Tell': 1, 'section.': 1, 'break.[commercial': 1, 'Iowa,': 1, \"wouldn't\": 1, 'refused': 1, \"Here's\": 1, 'person,': 1, 'told.': 1, 'legitimate': 1, 'stay.': 1, '2.5': 1, 'chief,': 1, 'answer?': 1, 'seeking': 1, 'asylum.': 1, 'critical': 1, 'added': 1, 'guaranteed': 1, 'counsel': 1, '11-12': 1, 'terrorists,': 1, 'safety.': 1, 'current': 1, 'raids,': 1, 'round-ups,': 1, 'priority.': 1, 'again,': 1, 'either,': 1, 'prioritize': 1, 'deported:': 1, 'planning': 1, 'attacks,': 1, 'relatively': 1, 'universe.': 1, 'specific.': 1, 'contradicting': 1, 'interview.': 1, 'Asylum': 1, 'particular': 1, 'fleeing': 1, 'law,': 1, 'different.': 1, 'stop...': 1, 'children...': 1, 'record.': 1, 'proof': 1, 'pudding.': 1, 'hemisphere.': 1, 'Gang': 1, 'lords,': 1, 'vicious': 1, 'torturing': 1, 'horrible': 1, 'Children': 1, 'fled': 1, 'maybe,': 1, 'route': 1, 'horrific,': 1, 'start': 1, 'life.': 1, 'deportation.': 1, 'promise.': 1, 'successful': 1, 'rear-view': 1, 'mirror.': 1, 'asylum': 1, 'approaches': 1, 'others.': 1, 'request': 1, 'fund': 1, 'culture': 1, 'criminality': 1, 'stay': 1, 'safely': 1, \"secretary's,\": 1, 'touting,': 1, 'LULAC': 1, 'organizations,': 1, 'organizations': 1, 'improving': 1, 'supported,': 1, 'slaves.': 1, 'Farm': 1, 'Workers': 1, 'farm': 1, 'proven': 1, 'succeeding': 1, 'coalition': 1, 'Congress.': 1, 'deportation...': 1, \"It's...\": 1, '...and': 1, 'Minutemen': 1, 'ridiculous,': 1, '\"hunt': 1, 'immediately': 1, 'Senator?': 1, 'Minutemen?': 1, 'sorry?': 1, 'said?': 1, 'codified': 1, 'legislation.': 1, 'vigilantes,': 1, 'horrific': 1, 'statement,': 1, 'unfair': 1, 'statement': 1, 'make.': 1, 'career,': 1, 'poorest': 1, 'Madame': 1, 'match': 1, 'week.': 1, 'morning...': 1, 'happened.': 1, 'December': 1, 'free-standing': 1, 'Unfortunately,': 1, 'succeed.': 1, 'marshalled': 1, 'later,': 1, 'offered': 1, 'contained': 1, 'rescue.': 1, 'President-elect': 1, 'sworn': 1, 'word': 1, 'Secretary...': 1, 'perfect': 1, 'voted...': 1, 'Yeah,': 1, 'me...': 1, 'another.': 1, 'Thirty': 1, 'another...[applause]': 1, 'knows,': 1, 'about,': 1, 'recklessness,': 1, 'irresponsibility': 1, 'interesting': 1, 'defended': 1, 'York.': 1, 'Those': 1, 'constituents.': 1, 'Detroit': 1, 'suddenly': 1, 'helps': 1, 'article': 1, 'yesterday...': 1, 'Bayh': 1, 'Ron': 1, 'Wyden,': 1, 'Byron': 1, 'Dorgan...': 1, '...former': 1, 'senators': 1, 'Next': 1, 'recently': 1, 'instead': 1, 'walls': 1, 'tear': 1, 'November': 1, 'Hampshire,': 1, 'openly': 1, 'Mexico.': 1, \"What's\": 1, 'voting': 1, 'now?': 1, 'I,': 1, 'enhance': 1, 'increased': 1, 'fence,': 1, 'pedestrian': 1, 'vehicle': 1, 'places.': 1, 'Apprehensions': 1, 'strengthens': 1, 'argument.': 1, 'certainly,': 1, 'touch': 1, 'reality.': 1, 'raised': 1, 'appropriations': 1, 'enhanced': 1, 'Everybody': 1, 'looked': 1, 'okay,': 1, \"There's\": 1, 'demagoguery': 1, '—is': 1, 'side.': 1, \"You've\": 1, 'excuses.': 1, 'wall?': 1, 'Right?': 1, 'China,': 1, 'entire': 1, 'somehow': 1, 'magically': 1, 'fantasy.': 1, 'fact,': 1, 'cared': 1, 'fencing.': 1, 'patrol': 1, 'estimate': 1, '\"securing': 1, 'border\".': 1, 'Senator...': 1, 'mostly,': 1, 'hot': 1, 'divided': 1, 'much,': 1, 'not,': 1, 'resort': 1, 'racism': 1, 'xenophobia': 1, 'bigotry.': 1, 'suddenly,': 1, 'rounding': 1, 'outside': 1, 'vulgar,': 1, 'Aquiette.': 1, 'Guatemala,': 1, 'hardworking': 1, 'men': 1, 'field': 1, 'see,': 1, 'personal': 1, 'deportations,': 1, 'hers.': 1, 'heart': 1, 'editorial': 1, 'board': 1, 'essence': 1, 'divide': 1, 'immoral.': 1, 'man': 1, 'military,': 1, 'wife': 1, 'comprehension': 1, 'allowed': 1, 'exist.': 1, \"ma'am,\": 1, 'mother.': 1, 'thousands': 1, 'citizens,': 1, 'parents?': 1, 'are,': 1, 'story.': 1, 'incredible': 1, 'courage': 1, 'understand.': 1, 'met,': 1, 'similar': 1, 'yours,': 1, \"children's\": 1, 'gone.': 1, 'doubt': 1, 'widely': 1, 'cost': 1, 'facing.': 1, 'either': 1, 'eligible': 1, 'DACA': 1, 'DAPA,': 1, 'defend': 1, 'yourself,': 1, 'Enrique.': 1, 'yesterday': 1, '37': 1, 'honest': 1, 'trustworthy.': 1, 'past,': 1, 'foster': 1, 'mistrust?': 1, 'life,': 1, 'opinion': 1, 'founded,': 1, 'energies': 1, 'past': 1, 'present': 1, 'count': 1, 'saw': 1, 'action.': 1, 'surprise': 1, 'right,': 1, 'odds,': 1, \"woman's\": 1, 'heard.': 1, 'politician,': 1, 'noticed,': 1, \"people's\": 1, 'economically': 1, 'ways': 1, 'benefit': 1, 'demanded': 1, 'important?': 1, 'whose': 1, 'greed': 1, '$225,000,': 1, 'means': 1, 'extraordinarily': 1, 'speech.': 1, 'disclose...': 1, 'As': 1, 'speeches,': 1, 'was,': 1, 'releasing': 1, 'provided': 1, 'reporting': 1, 'period': 1, 'super': 1, 'PAC.': 1, 'influence': 1, 'politician': 1, 'determine': 1, '-': 1, 'greedy,': 1, 'fraudulent,': 1, 'dumb.': 1, 'contributions?': 1, 'respond,': 1, 'Recession': 1, 'basically': 1, 'putting': 1, 'risk,': 1, 'moratorium': 1, 'foreclosures.': 1, 'Orlando': 1, \"'08\": 1, 'case,': 1, 'visiting': 1, 'defrauded': 1, 'mortgages,': 1, 'subprime': 1, 'mortgages': 1, 'risk.': 1, 'changes.': 1, 'toughest,': 1, 'banks,': 1, 'jail,': 1, 'incidentally,': 1, 'signing': 1, 'toughest': 1, 'regulations': 1, 'Depression.': 1, 'intimidated': 1, 'contributions.': 1, 'corrupt': 1, 'finance': 1, 'received': 1, 'Wait': 1, 'ad': 1, 'Before': 1, 'Obamacare,': 1, 'Hillarycare,': 1, 'hard...[applause]...to': 1, 'beat': 1, 'standing': 1, 'so.': 1, 'Security,': 1, 'Medicare,': 1, 'Medicaid,': 1, 'virtually': 1, '1930s': 1, 'gentleman': 1, 'head': 1, 'speaking': 1, 'fees,': 1, 'guess': 1, 'sensible': 1, 'money.': 1, 'abhorrent,': 1, 'Bank,': 1, 'goods': 1, 'employ': 1, 'Floridians.': 1, 'brothers.': 1, 'respond.': 1, 'seconds.': 1, 'Bank': 1, 'Boeing,': 1, 'Boeing': 1, 'corporation': 1, 'revenue.': 1, 'welfare': 1, 'welfare.': 1, 'trust.': 1, 'Benghazi,': 1, 'e-mail': 1, 'Chelsea...[booing]...saying,': 1, 'Al': 1, 'Qaida': 1, 'responsible': 1, 'killing': 1, 'claim': 1, 'lied': 1, 'To': 1, 'speed,': 1, 'officer,': 1, 'Chaznea.': 1, 'SMITH:': 1, 'Panetta': 1, 'Biden': 1, 'video,': 1, 'knew': 1, 'was.': 1, 'lie': 1, 'them?': 1, 'look.': 1, 'sympathy': 1, 'grief': 1, 'losing': 1, 'son,': 1, 'administration,': 1, 'named,': 1, 'vice': 1, 'scrambling': 1, 'changing,': 1, 'information,': 1, 'sometimes': 1, 'contradicts': 1, 'testified': 1, 'hours.': 1, 'Anybody': 1, 'watched': 1, 'admit': 1, 'Why?': 1, 'investigation.': 1, 'seven': 1, 'eight': 1, 'investigations,': 1, 'reached': 1, 'conclusions,': 1, 'learned.': 1, 'attack.': 1, '3,000': 1, '9/11.': 1, 'embassies': 1, 'Tanzania': 1, 'Kenya': 1, '250': 1, 'Americans,': 1, 'civilian,': 1, 'Ronald': 1, 'Beirut.': 1, 'politicized': 1, '[applause].': 1, 'Instead': 1, 'save': 1, 'lives.': 1, 'Chelsea': 1, 'e-mailed': 1, 'daughter,': 1, 'group': 1, 'facility': 1, 'Within': 1, '16,': 1, 'hours,': 1, 'rescinded': 1, 'credit.': 1, 'social': 1, 'media.': 1, 'play': 1, 'role.': 1, 'captured': 1, 'lead': 1, 'terrorists': 1, 'admits': 1, 'attack': 1, 'influenced': 1, 'fog': 1, 'war.': 1, 'complicated.': 1, 'effective,': 1, 'reports': 1, 'beginning,': 1, 'regret': 1, 'sympathize': 1, 'still,': 1, 'grieving.': 1, 'lot,': 1, 'intelligence': 1, 'kept...': 1, 'improving,': 1, 'Benghazi': 1, 'tragedy,': 1, 'series': 1, 'articles': 1, 'Times': 1, 'role': 1, 'urging': 1, 'Libya.': 1, 'brutal': 1, 'dictator,': 1, 'differences': 1, 'quite': 1, 'aggressive': 1, 'fear': 1, 'after.': 1, 'talks': 1, 'Kissinger...': 1, 'winning': 1, 'Kissinger,': 1, \"Kissinger's\": 1, 'translator]': 1, 'Two': 1, 'download': 1, 'presidential': 1, 'connected': 1, 'focusing': 1, 'topics.': 1, 'evening,': 1, 'opinion,': 1, 'presented': 1, 'proposal?': 1, 'talking,': 1, 'explaining,': 1, 'writing': 1, 'says.': 1, 'important,': 1, 'six': 1, 'concerned,': 1, 'towards.': 1, 'raids': 1, 'stop.': 1, 'Families': 1, 'suffering,': 1, 'reunited.': 1, 'emotional': 1, 'testimony': 1, 'empathy': 1, 'saddest': 1, 'separated': 1, 'husband.': 1, 'suffering': 1, 'father.': 1, 'happening,': 1, 'approving': 1, 'migratory': 1, 'words,': 1, 'well.': 1, 'women': 1, 'Gabby,': 1, 'continues': 1, 'Jorge': 1, 'Ramos': 1, 'Elena': 1, 'Salinas.': 1, 'prefer': 1, 'politicians': 1, 'politician?': 1, 'demand': 1, 'institutions.': 1, 'pharmaceutical': 1, 'ripping': 1, 'charging': 1, 'prices': 1, 'drugs.': 1, 'creating': 1, 'seeing.': 1, 'true': 1, 'check': 1, 'strength': 1, 'environment,': 1, 'seniors.': 1, 'Unlike': 1, 'Security': 1, 'benefits.': 1, 'achievement': 1, 'veterans,': 1, 'craft': 1, 'veterans': 1, 'decades.': 1, 'of.': 1, 'Univision-Washington': 1, 'poll,': 1, 'average.': 1, 'Their': 1, 'net': 1, '42': 1, 'week': 1, 'tweeted': 1, 'GOP,': 1, 'conditions?': 1, 'addressed.': 1, 'infrastructure': 1, 'spending.': 1, 'ladder': 1, 'class.': 1, 'manufacturing': 1, 'incentivized': 1, 'enforcing': 1, 'support,': 1, 'Paris': 1, 'agreement': 1, 'step': 1, 'weak,': 1, 'lay': 1, 'fastest-growing': 1, 'segment': 1, 'minority': 1, 'women-owned': 1, 'business,': 1, 'started.': 1, 'distinguished': 1, 'congresswoman': 1, \"who's\": 1, 'Small': 1, 'Business': 1, 'Committee,': 1, 'Congresswoman': 1, 'Velasquez,': 1, 'equal': 1, 'women.': 1, 'do...': 1, 'well': 1, 'general': 1, 'terms,': 1, 'Everything': 1, 'conditions,': 1, 'spent': 1, 'effort': 1, 'listening': 1, 'Jobs': 1, 'issue,': 1, 'Close': 1, 'Every': 1, 'zip': 1, 'code': 1, 'Following': 1, 'Act': 1, 'access': 1, 'top.': 1, 'sorry,': 1, 'huge,': 1, 'making,': 1, 'media': 1, 'crisis': 1, 'youth': 1, 'graduated': 1, '36': 1, 'underemployed...': 1, 'Oh': 1, 'wait': 1, 'Can': 1, 'have...': 1, 'please?': 1, 'African-American': 1, 'underemployed': 1, 'tune': 1, '51': 1, 'co-sponsored': 1, '$5': 1, 'rather': 1, 'jails': 1, 'incarceration.': 1, 'industrialized': 1, 'guaranteeing': 1, 'rebuild': 1, 'crumbling': 1, 'infrastructure.': 1, '13': 1, 'decent-paying': 1, 'tuition.': 1, 'tuition,': 1, 'proposed': 1, 'universities.': 1, 'Yes': 1, 'potentially,': 1, 'truly': 1, 'subsidies.': 1, 'right?': 1, 'No.': 1, 'year': 1, '2016.': 1, 'Fifty': 1, 'ago': 1, 'Today,': 1, 'respects,': 1, 'equivalent': 1, 'degree.': 1, '12th': 1, 'tuition-free,': 1, 'not-so-young': 1, 'instance,': 1, 'grandchildren': 1, 'sorry': 1, 'grandchildren,': 1, 'free?': 1, 'free.': 1, 'raising': 1, 'taxes': 1, 'millionaires': 1, 'billionaires.': 1, 'view,': 1, 'third': 1, 'matter': 1, 'parents': 1, 'college,': 1, 'income.': 1, 'kid': 1, 'work,': 1, 'Cevedo': 1, 'Cevido.': 1, 'loans.': 1, 'Martinez': 1, 'old': 1, 'science': 1, 'College.': 1, 'grad': 1, 'PhD.': 1, 'debt?': 1, 'congratulations': 1, \"everyone's\": 1, 'events': 1, '8': 1, '14': 1, 'historically': 1, 'low,': 1, 'borrowing': 1, 'around.': 1, 'house': 1, 'rate.': 1, 'car.': 1, 'Corporations': 1, 'percentage': 1, 'debt-free': 1, 'eventually': 1, 'date': 1, 'quit': 1, 'lending': 1, 'copying': 1, 'idea.': 1, 'criticized': 1, 'thinking': 1, 'big.': 1, 'believing': 1, 'nation.': 1, 'punishing': 1, 'program,': 1, 'allowing': 1, 'fairly': 1, 'proposal,': 1, 'year.': 1, 'speculation.': 1, 'bailed': 1, 'bail': 1, '\"got': 1, 'money\"': 1, '\"bailout\",': 1, 'included': 1, 'nothing.': 1, 'Dodd-Frank': 1, 'systemic': 1, \"He's\": 1, 'universal,': 1, 'payer': 1, 'yet,': 1, 'experts,': 1, 'answers.': 1, 'admitting': 1, 'to.': 1, 'increase': 1, 'dramatically.': 1, 'say,': 1, 'sounds': 1, 'is.': 1, 'ripped': 1, 'far,': 1, 'per': 1, 'capita': 1, 'earth.': 1, 'prepared': 1, 'pass...': 1, 'senator.[crosstalk]': 1, 'fought': 1, 'Act,': 1, 'further.': 1, 'reduce': 1, 'respectfully': 1, 'disagree.': 1, 'Between': 1, 'wanting': 1, 'throw': 1, 'contentious': 1, 'single-payer,': 1, 'smart': 1, 'approach': 1, 'Make': 1, 'Reduce': 1, 'this,': 1, 'Committee': 1, 'write': 1, 'says,': 1, 'really.': 1, 'Many': 1, 'outrageously': 1, 'deductibles': 1, 'co-payments.': 1, 'drugs': 1, 'prescribe.': 1, 'Elderly': 1, 'cutting': 1, 'pills': 1, 'half.': 1, 'does,': 1, 'Medicare': 1, 'dozen': 1, 'concern': 1, 'effects': 1, 'sea': 1, 'communities.': 1, 'map.': 1, 'sitting.': 1, 'argue': 1, 'problem.': 1, 'consensus,': 1, 'do?': 1, 'hoax,': 1, \"candidates'\": 1, 'position,': 1, 'guts': 1, 'wind': 1, 'solar': 1, 'geothermal': 1, 'technologies,': 1, 'listens': 1, 'scientists?': 1, 'loses': 1, 'brothers': 1, 'problem,': 1, 'situation?': 1, 'area.': 1, 'Karen?': 1, 'profits,': 1, 'short-term': 1, 'profits': 1, 'long-term': 1, 'win.': 1, 'takes': 1, 'consensus?': 1, 'No': 1, 'environmental': 1, 'Carolina.': 1, \"isn't\": 1, 'happening': 1, 'Beach': 1, 'tides': 1, 'rising.': 1, 'mitigation': 1, 'clearly': 1, 'man-aggravated.': 1, 'elected,': 1, 'heaven': 1, 'forbid,': 1, 'actions.': 1, 'maintain': 1, 'delay': 1, 'implementing,': 1, 'sense.': 1, 'bridge': 1, 'keep': 1, 'lights': 1, 'transitioning': 1, 'resilience,': 1, 'clear...': 1, 'introduced...': 1, 'Excuse': 1, 'speak?': 1, 'After': 1, 'are...[applause]': 1, 'Madam': 1, 'speak...': 1, 'rates.': 1, 'property': 1, 'risk': 1, '50': 1, 'consensus': 1, 'implementing': 1, 'orders': 1, 'until': 1, 'frankly': 1, 'seats,': 1, 'bipartisan...[crosstalk]': 1, 'Sanders?': 1, 'clear.': 1, \"You're\": 1, 'introduced': 1, 'investments': 1, 'energy,': 1, \"you'll\": 1, 'fracking': 1, 'personnel': 1, 'door': 1, 'policy-making': 1, 'regulation': 1, 'Three': 1, 'secretaries': 1, 'appointed': 1, 'ties': 1, 'Citigroup.': 1, \"Warren's\": 1, 'criticism': 1, \"husband's\": 1, 'relied': 1, 'heavily': 1, 'advisers': 1, 'represent': 1, 'banks?': 1, 'door.': 1, 'Tammy': 1, 'Baldwin': 1, 'consumers': 1, 'first,': 1, 'Main': 1, 'flourishes.': 1, 'advice': 1, 'appointed,': 1, 'colleagues': 1, 'accomplish.': 1, 'debates': 1, 'seventh': 1, 'fine,': 1, 'Bush,': 1, 'wrecked': 1, 'created': 1, \"'90s,\": 1, '23': 1, 'Incomes': 1, 'African': 1, \"'90s.\": 1, 'Median': 1, 'minorities,': 1, 'Along': 1, 'trickle-down': 1, 'economics': 1, 'ideas': 1, 'snake': 1, 'ended': 1, 'name': 1, 'mentioned.': 1, 'gather': 1, \"hasn't\": 1, 'followed': 1, 'policies.': 1, 'remember,': 1, 'deregulation': 1, 'trade': 1, 'happened,': 1, 'mistakes': 1, 'disappearing': 1, 'Time': 1, 'leave.': 1, 'live.': 1, 'forget.': 1, 'follows.': 1, 'weeks.': 1, 'Forty': 1, 'uphold': 1, 'dissidents': 1, 'Cuba?': 1, 'Would': 1, 'Castro?': 1, 'Raul': 1, 'dictator?': 1, 'Miami.': 1, 'moves.': 1, 'leading': 1, 'announcements': 1, 'expanding': 1, 'travel': 1, 'opportunities,': 1, 'remittances.': 1, 'impact': 1, 'relationship.': 1, 'ambassadors': 1, 'movement': 1, 'forth,': 1, 'likely': 1, 'respect': 1, 'rights.': 1, 'following': 1, 'trip.': 1, 'dissidents,': 1, 'voices,': 1, 'tribunes': 1, 'important.': 1, 'rights': 1, 'respected': 1, 'upheld,': 1, 'leads.': 1, 'Castros': 1, 'dictatorial': 1, 'freely': 1, 'someday': 1, 'rooted': 1, 'soil': 1, 'fulfill': 1, 'dreams': 1, 'hope.': 1, 'Sanders...': 1, 'conversation': 1, 'having,': 1, 'embargo.': 1, 'normalized': 1, 'enable': 1, 'direction,': 1, 'see.': 1, 'mind.': 1, 'Sure.': 1, '1985,': 1, 'Sandinista': 1, 'impressive': 1, 'guy.': 1, 'recall': 1, 'in,': 1, '1961,': 1, 'invaded': 1, 'convinced': 1, 'guy': 1, 'rise': 1, 'rebellion': 1, 'forgot': 1, 'educated': 1, 'kids,': 1, 'transformed': 1, 'society.': 1, 'open': 1, 'wounds': 1, 'among': 1, 'exiles': 1, 'regarding': 1, 'communism.': 1, 'explain': 1, 'profess': 1, 'Nicaragua,': 1, 'Venezuela.': 1, 'invade': 1, 'Nicaraguan': 1, '1954,': 1, 'democratically': 1, 'elected': 1, 'Guatemala.': 1, 'Throughout': 1, 'relationship': 1, 'operated': 1, 'so-called': 1, 'Monroe': 1, 'Doctrine,': 1, 'shortly': 1, \"administration's\": 1, 'Kissinger': 1, 'Salvador': 1, 'Aliende': 1, 'Chile.': 1, 'governments': 1, 'involved': 1, 'brought': 1, 'anti-American': 1, 'sentiments.': 1, 'way?': 1, 'Please': 1, 'that...': 1, '1985?': 1, 'key': 1, 'mistake...': 1, '...both': 1, 'facts': 1, 'undemocratic': 1, 'soon': 1, 'becomes': 1, 'hand...[applause]...on': 1, 'advances': 1, 'sending': 1, 'progress': 1, 'restoring': 1, 'improvements': 1, 'Cubans': 1, 'invest.': 1, 'Rico.': 1, 'bankrupt.': 1, 'owes': 1, 'Lian': 1, 'Purvea': 1, 'following;': 1, 'presidency,': 1, 'days,': 1, 'Absolutely,': 1, 'although': 1, 'be.': 1, 'authority': 1, 'debts.': 1, 'enabled': 1, 'cities': 1, 'grave': 1, 'injustice': 1, 'refusing': 1, 'enact': 1, 'within': 1, 'bankruptcy': 1, 'suffering.': 1, 'schools': 1, 'closed,': 1, 'denied': 1, 'thousand': 1, 'Rican': 1, 'Ricans': 1, 'citizen': 1, 'feet': 1, 'economically.': 1, 'interview,': 1, 'oppress': 1, 'disappear': 1, 'imprison': 1, 'kill': 1, 'opinions,': 1, 'anywhere.': 1, 'countries': 1, 'two,': 1, 'island': 1, '$73': 1, 'bonds': 1, 'purchased': 1, 'cents': 1, 'dollar.': 1, 'schools.': 1, 'OK': 1, 'lose': 1, 'topic.': 1, 'vacancy': 1, 'supreme': 1, 'moment.': 1, 'Among': 1, 'things,': 1, 'considering': 1, 'abortion': 1, 'restrictions': 1, 'generation.': 1, 'Joshua': 1, 'Dansby,': 1, 'Washington,': 1, 'D.C.': 1, 'forms': 1, 'qualifications': 1, 'justice?': 1, 'intention': 1, 'constitution': 1, 'nominate': 1, 'successor': 1, 'Justice': 1, 'Scalia.': 1, 'believe...[applause]...I': 1, 'understands': 1, 'words:': 1, 'versus': 1, 'Gore.': 1, 'constitution.': 1, 'tolerate': 1, 'imperative': 1, 'enormous': 1, 'pressure': 1, 'constitutional': 1, 'duty.': 1, 'qualified': 1, 'paper,': 1, 'heart,': 1, 'life': 1, 'experience,': 1, 'balance': 1, 'disrupt': 1, 'other.': 1, 'Roe': 1, 'v.': 1, 'Wade': 1, 'settled': 1, 'overturned': 1, 'heads': 1, 'space': 1, 'reaching': 1, 'end,': 1, 'first.': 1, 'lively': 1, 'appreciate': 1, 'greatly': 1, 'especially': 1, 'reinforces': 1, 'potential,': 1, 'same.': 1, 'completed': 1, 'schooling.': 1, 'ground,': 1, 'lady,': 1, 'state.': 1, 'ground': 1, 'wherever': 1, 'matters': 1, 'principles': 1, 'stake.': 1, 'honored': 1, 'honor': 1, 'limited,': 1, '0.1': 1, 'owns': 1, 'average': 1, '58': 1, 'billionaires': 1, 'buy': 1, 'elections?': 1, 'oligarchy?': 1, 'greatest,': 1, 'world?': 1, 'better.': 1, 'tonight.': 1, 'crowd': 1, 'Our': 1, 'wonderful,': 1, 'behalf': 1, \"we'd\": 1, 'moments,': 1, 'March': 1, '15th': 1, 'elections': 1, 'Florida,': 1, 'Illinois,': 1, 'Missouri,': 1, 'Carolina,': 1, 'Ohio,': 1, 'Talk': 1, 'importance': 1, 'votes,': 1, 'races': 1, 'power,': 1, 'perfectly,': 1, 'participate,': 1, 'evening': 1, 'trusting': 1, 'Univision.': 1}\n"
     ]
    }
   ],
   "source": [
    "sorted_dict = {}\n",
    "sorted_keys = sorted(dem_word_counts, key=dem_word_counts.get, reverse=True)\n",
    "for w in sorted_keys:\n",
    "    sorted_dict[w] = dem_word_counts[w]\n",
    "\n",
    "print(sorted_dict) "
   ]
  },
  {
   "cell_type": "markdown",
   "metadata": {},
   "source": [
    "**In today's tutorial we will build candidate specific vocabularies and compute their frequencies**"
   ]
  },
  {
   "cell_type": "code",
   "execution_count": null,
   "metadata": {},
   "outputs": [],
   "source": []
  },
  {
   "cell_type": "markdown",
   "metadata": {},
   "source": [
    "## Functions"
   ]
  },
  {
   "cell_type": "code",
   "execution_count": 149,
   "metadata": {},
   "outputs": [],
   "source": [
    "def add(x, y):\n",
    "    \"\"\"Returns the sum of two numbers passed as arguments\"\"\"\n",
    "    return x + y"
   ]
  },
  {
   "cell_type": "code",
   "execution_count": 150,
   "metadata": {},
   "outputs": [
    {
     "data": {
      "text/plain": [
       "function"
      ]
     },
     "execution_count": 150,
     "metadata": {},
     "output_type": "execute_result"
    }
   ],
   "source": [
    "type(add)"
   ]
  },
  {
   "cell_type": "code",
   "execution_count": 152,
   "metadata": {},
   "outputs": [
    {
     "data": {
      "text/plain": [
       "'Returns the sum of two numbers passed as arguments'"
      ]
     },
     "execution_count": 152,
     "metadata": {},
     "output_type": "execute_result"
    }
   ],
   "source": [
    "add.__doc__"
   ]
  },
  {
   "cell_type": "code",
   "execution_count": null,
   "metadata": {},
   "outputs": [],
   "source": [
    "dict_example[0]"
   ]
  },
  {
   "cell_type": "markdown",
   "metadata": {},
   "source": [
    "## Control Statements"
   ]
  },
  {
   "cell_type": "markdown",
   "metadata": {},
   "source": [
    "### Loops"
   ]
  },
  {
   "cell_type": "markdown",
   "metadata": {},
   "source": [
    "We saw loops above. We can loop through any collection"
   ]
  },
  {
   "cell_type": "markdown",
   "metadata": {},
   "source": [
    "#### Looping through multiple collections"
   ]
  },
  {
   "cell_type": "code",
   "execution_count": 154,
   "metadata": {},
   "outputs": [
    {
     "name": "stdout",
     "output_type": "stream",
     "text": [
      "John likes apple\n",
      "Mary likes banana\n",
      "Karen likes organge\n"
     ]
    }
   ],
   "source": [
    "people = ['John', 'Mary', 'Karen']\n",
    "fruits = ['apple', 'banana', 'organge']\n",
    "\n",
    "for person, fruit in zip(people, fruits):\n",
    "    # Do something\n",
    "    print(f\"{person} likes {fruit}\")"
   ]
  },
  {
   "cell_type": "markdown",
   "metadata": {},
   "source": [
    "#### Looping and getting indices"
   ]
  },
  {
   "cell_type": "code",
   "execution_count": 156,
   "metadata": {},
   "outputs": [
    {
     "name": "stdout",
     "output_type": "stream",
     "text": [
      "apple is in the 0-index\n",
      "banana is in the 1-index\n",
      "organge is in the 2-index\n"
     ]
    }
   ],
   "source": [
    "for idx, fruit in enumerate(fruits):\n",
    "    print(f\"{fruit} is in the {idx}-index\")"
   ]
  },
  {
   "cell_type": "markdown",
   "metadata": {},
   "source": [
    "### Conditionals: If statements\n"
   ]
  },
  {
   "cell_type": "code",
   "execution_count": 157,
   "metadata": {},
   "outputs": [
    {
     "name": "stdout",
     "output_type": "stream",
     "text": [
      "1\n"
     ]
    }
   ],
   "source": [
    "if fruits[0] == 'apple':\n",
    "    # action 1\n",
    "    print(1)\n",
    "elif fruits[0] == 'banana': # other if second condition is true\n",
    "    # action 2\n",
    "    print(2)\n",
    "else: # if neither first condition . nor second condition are true:\n",
    "    # action 3\n",
    "    print(3)"
   ]
  },
  {
   "cell_type": "code",
   "execution_count": 158,
   "metadata": {},
   "outputs": [
    {
     "data": {
      "text/plain": [
       "False"
      ]
     },
     "execution_count": 158,
     "metadata": {},
     "output_type": "execute_result"
    }
   ],
   "source": [
    "fruits[1] == 'apple'"
   ]
  },
  {
   "cell_type": "code",
   "execution_count": 159,
   "metadata": {},
   "outputs": [
    {
     "data": {
      "text/plain": [
       "True"
      ]
     },
     "execution_count": 159,
     "metadata": {},
     "output_type": "execute_result"
    }
   ],
   "source": [
    "3 > 2 "
   ]
  },
  {
   "cell_type": "code",
   "execution_count": 160,
   "metadata": {},
   "outputs": [
    {
     "data": {
      "text/plain": [
       "False"
      ]
     },
     "execution_count": 160,
     "metadata": {},
     "output_type": "execute_result"
    }
   ],
   "source": [
    "3 > 3"
   ]
  },
  {
   "cell_type": "code",
   "execution_count": 161,
   "metadata": {},
   "outputs": [
    {
     "data": {
      "text/plain": [
       "True"
      ]
     },
     "execution_count": 161,
     "metadata": {},
     "output_type": "execute_result"
    }
   ],
   "source": [
    "3 >= 3"
   ]
  },
  {
   "cell_type": "markdown",
   "metadata": {},
   "source": [
    "## Python functions and libraries"
   ]
  },
  {
   "cell_type": "code",
   "execution_count": null,
   "metadata": {},
   "outputs": [],
   "source": []
  },
  {
   "cell_type": "markdown",
   "metadata": {},
   "source": [
    "**Question:** Write a function called `absolute()` that takes in a number of returns the absolute value"
   ]
  },
  {
   "cell_type": "code",
   "execution_count": null,
   "metadata": {},
   "outputs": [],
   "source": [
    "def absolute(number):\n",
    "    '''\n",
    "    Returns the absolute value of a number\n",
    "    '''\n",
    "    \n",
    "    return"
   ]
  },
  {
   "cell_type": "markdown",
   "metadata": {},
   "source": [
    "Let's look up built in python libraries"
   ]
  },
  {
   "cell_type": "markdown",
   "metadata": {},
   "source": [
    "Many of the things we want to do in computational text analysis are already implemented in python libraries:\n",
    "\n",
    "- Find all people, places, numbers, organizations, countries mentioned in a text\n",
    "- Identify all nouns, verbs, adjectives, or adverbs in a text\n",
    "- Predict the sentiment of a tweet or news article \n",
    "- Determine the vocabulary and frequency of different terms\n",
    "- Represent words with meaningful lists of numbers\n",
    "- Develop a Machine Learning classifier to predict X from text"
   ]
  },
  {
   "cell_type": "markdown",
   "metadata": {},
   "source": [
    "## Loops again"
   ]
  }
 ],
 "metadata": {
  "kernelspec": {
   "display_name": "Python 3",
   "language": "python",
   "name": "python3"
  },
  "language_info": {
   "codemirror_mode": {
    "name": "ipython",
    "version": 3
   },
   "file_extension": ".py",
   "mimetype": "text/x-python",
   "name": "python",
   "nbconvert_exporter": "python",
   "pygments_lexer": "ipython3",
   "version": "3.8.8"
  }
 },
 "nbformat": 4,
 "nbformat_minor": 4
}
