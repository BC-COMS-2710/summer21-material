{
 "cells": [
  {
   "cell_type": "markdown",
   "id": "aad807a4",
   "metadata": {},
   "source": [
    "# Demo 11"
   ]
  },
  {
   "cell_type": "code",
   "execution_count": null,
   "id": "34328465",
   "metadata": {},
   "outputs": [],
   "source": [
    "import pandas as pd\n",
    "import numpy as np\n",
    "import glob\n",
    "from pathlib import Path\n",
    "import pandas as pd\n",
    "import random\n",
    "pd.options.display.max_colwidth = 100"
   ]
  },
  {
   "cell_type": "markdown",
   "id": "d9004b9d",
   "metadata": {},
   "source": [
    "## Mallet"
   ]
  },
  {
   "cell_type": "code",
   "execution_count": null,
   "id": "0af0ebfa",
   "metadata": {},
   "outputs": [],
   "source": [
    "!which mallet"
   ]
  },
  {
   "cell_type": "markdown",
   "id": "a1d6377c",
   "metadata": {},
   "source": [
    "**Question:** Set the variable `path_to_mallet` to where mallet is stored on your server"
   ]
  },
  {
   "cell_type": "code",
   "execution_count": null,
   "id": "86683a49",
   "metadata": {},
   "outputs": [],
   "source": [
    "path_to_mallet = ...\n",
    "path_to_mallet"
   ]
  },
  {
   "cell_type": "code",
   "execution_count": null,
   "id": "8059d70d",
   "metadata": {},
   "outputs": [],
   "source": [
    "!mallet"
   ]
  },
  {
   "cell_type": "code",
   "execution_count": null,
   "id": "9c73f9f8",
   "metadata": {},
   "outputs": [],
   "source": [
    "!mallet info"
   ]
  },
  {
   "cell_type": "code",
   "execution_count": null,
   "id": "daa411ab",
   "metadata": {},
   "outputs": [],
   "source": [
    "!mallet train-topics --help"
   ]
  },
  {
   "cell_type": "markdown",
   "id": "5f5d7550",
   "metadata": {},
   "source": [
    "(back to slides)\n",
    "\n",
    "## Little Mallet Wrapper\n",
    "\n",
    "https://github.com/maria-antoniak/little-mallet-wrapper"
   ]
  },
  {
   "cell_type": "code",
   "execution_count": null,
   "id": "417e72ca",
   "metadata": {},
   "outputs": [],
   "source": [
    "import little_mallet_wrapper\n",
    "import seaborn"
   ]
  },
  {
   "cell_type": "markdown",
   "id": "0921c64d",
   "metadata": {},
   "source": [
    "### Data - r/AmItheAsshole/ - https://www.reddit.com/r/AmItheAsshole/\n",
    "\n",
    "> A catharsis for the frustrated moral philosopher in all of us, and a place to finally find out if you were wrong in an argument that's been bothering you. Tell us about any non-violent conflict you have experienced; give us both sides of the story, and find out if you're right, or you're the asshole. See our ~~*Best Of*~~ \"Most Controversial\" at /r/AITAFiltered!"
   ]
  },
  {
   "cell_type": "code",
   "execution_count": null,
   "id": "08f9f339",
   "metadata": {},
   "outputs": [],
   "source": [
    "!wget https://melaniewalsh.github.io/Intro-Cultural-Analytics/_downloads/a51ee65126a0d45564056781a6ad9dfe/top-reddit-aita-posts.csv"
   ]
  },
  {
   "cell_type": "markdown",
   "id": "087c9666",
   "metadata": {},
   "source": [
    "Let's now look at the files on the left navigator. We should move the csv file to `data/`"
   ]
  },
  {
   "cell_type": "code",
   "execution_count": null,
   "id": "902a05e7",
   "metadata": {},
   "outputs": [],
   "source": [
    "!mv top-reddit-aita-posts.csv data"
   ]
  },
  {
   "cell_type": "markdown",
   "id": "32e7614a",
   "metadata": {},
   "source": [
    "Let's now look at the files on the left navigator. Is the csv file there?"
   ]
  },
  {
   "cell_type": "code",
   "execution_count": null,
   "id": "3fdaa1e0",
   "metadata": {},
   "outputs": [],
   "source": [
    "df = pd.read_csv(\"data/top-reddit-aita-posts.csv\")\n",
    "df.sample(5)"
   ]
  },
  {
   "cell_type": "markdown",
   "id": "9384f3ba",
   "metadata": {},
   "source": [
    "#### Exploring the data"
   ]
  },
  {
   "cell_type": "markdown",
   "id": "b2e3c737",
   "metadata": {},
   "source": [
    "**Question:** What does each row represent? "
   ]
  },
  {
   "cell_type": "code",
   "execution_count": null,
   "id": "3c1a3e7d",
   "metadata": {},
   "outputs": [],
   "source": []
  },
  {
   "cell_type": "markdown",
   "id": "63a4cc02",
   "metadata": {},
   "source": [
    "**Question:** What does each column indicate"
   ]
  },
  {
   "cell_type": "code",
   "execution_count": null,
   "id": "870f13f2",
   "metadata": {},
   "outputs": [],
   "source": []
  },
  {
   "cell_type": "markdown",
   "id": "a7959d36",
   "metadata": {},
   "source": [
    "**Question** Let's look at an example"
   ]
  },
  {
   "cell_type": "code",
   "execution_count": null,
   "id": "fb67e225",
   "metadata": {},
   "outputs": [],
   "source": [
    "df['selftext'].iloc[11]"
   ]
  },
  {
   "cell_type": "code",
   "execution_count": null,
   "id": "7c1e8723",
   "metadata": {},
   "outputs": [],
   "source": [
    "example_title = df['title'].iloc[11]\n",
    "example_title"
   ]
  },
  {
   "cell_type": "code",
   "execution_count": null,
   "id": "303e91a6",
   "metadata": {},
   "outputs": [],
   "source": [
    "df['url'].iloc[11]"
   ]
  },
  {
   "cell_type": "markdown",
   "id": "744e39a5",
   "metadata": {},
   "source": [
    "**Question:** Lets filter out some Reddit posts that have removed or deleted text"
   ]
  },
  {
   "cell_type": "code",
   "execution_count": null,
   "id": "7b0f09c7",
   "metadata": {},
   "outputs": [],
   "source": [
    "df['selftext'].value_counts().head(3)"
   ]
  },
  {
   "cell_type": "code",
   "execution_count": null,
   "id": "605f483c",
   "metadata": {},
   "outputs": [],
   "source": [
    "## Remove deleted or removed posts\n",
    "df[~(df['selftext'] == '[removed]')]\n",
    "df[~(df['selftext'] == '[deleted]')]\n"
   ]
  },
  {
   "cell_type": "markdown",
   "id": "1cc66898",
   "metadata": {},
   "source": [
    "#### Process text\n",
    "\n",
    "Little Mallet Wrapper includes a function to clean and process text. \n",
    "\n",
    "\n",
    "**Question:** Based on the documentation (https://github.com/maria-antoniak/little-mallet-wrapper/blob/master/README.md), what function do you think we can use to clean and process text? \n",
    "\n",
    "<details>\n",
    "<summary>Solution</summary>\n",
    "    https://github.com/maria-antoniak/little-mallet-wrapper#process_stringtext-lowercasetrue-remove_short_wordstrue-remove_stop_wordstrue-remove_punctuationtrue-numbersreplace-stop_wordsstops\n",
    "\n",
    "</details>\n"
   ]
  },
  {
   "cell_type": "code",
   "execution_count": null,
   "id": "7788a0b8",
   "metadata": {},
   "outputs": [],
   "source": [
    "# skip"
   ]
  },
  {
   "cell_type": "code",
   "execution_count": null,
   "id": "f16e9641",
   "metadata": {},
   "outputs": [],
   "source": [
    "# skip"
   ]
  },
  {
   "cell_type": "code",
   "execution_count": null,
   "id": "b9434d3b",
   "metadata": {},
   "outputs": [],
   "source": [
    "# skip"
   ]
  },
  {
   "cell_type": "code",
   "execution_count": null,
   "id": "35685afa",
   "metadata": {},
   "outputs": [],
   "source": [
    "# skip"
   ]
  },
  {
   "cell_type": "code",
   "execution_count": null,
   "id": "9a520b71",
   "metadata": {},
   "outputs": [],
   "source": []
  },
  {
   "cell_type": "code",
   "execution_count": null,
   "id": "1c793503",
   "metadata": {},
   "outputs": [],
   "source": [
    "little_mallet_wrapper.process_string"
   ]
  },
  {
   "cell_type": "markdown",
   "id": "d4b9e35a",
   "metadata": {},
   "source": [
    "##### Process text example"
   ]
  },
  {
   "cell_type": "code",
   "execution_count": null,
   "id": "4fe34444",
   "metadata": {},
   "outputs": [],
   "source": [
    "df['selftext'].iloc[0]"
   ]
  },
  {
   "cell_type": "code",
   "execution_count": null,
   "id": "61ea0c95",
   "metadata": {},
   "outputs": [],
   "source": [
    "little_mallet_wrapper.process_string(df['selftext'].iloc[0], numbers='remove')"
   ]
  },
  {
   "cell_type": "code",
   "execution_count": null,
   "id": "d9b32e1e",
   "metadata": {},
   "outputs": [],
   "source": []
  },
  {
   "cell_type": "code",
   "execution_count": null,
   "id": "2b86796b",
   "metadata": {},
   "outputs": [],
   "source": [
    "training_data = [little_mallet_wrapper.process_string(text, numbers='remove') for text in df['selftext']]\n"
   ]
  },
  {
   "cell_type": "code",
   "execution_count": null,
   "id": "4777d27e",
   "metadata": {},
   "outputs": [],
   "source": [
    "df['selftext'].apply(little_mallet_wrapper.process_string, args={'numbers':'remove'})"
   ]
  },
  {
   "cell_type": "markdown",
   "id": "3c93c1ce",
   "metadata": {},
   "source": [
    "**Question:** Why did we get that error? \n",
    "\n",
    "<details>\n",
    "<summary>Hint</summary>\n",
    "    What *missing* value is stored as a float?  \n",
    "\n",
    "</details>"
   ]
  },
  {
   "cell_type": "code",
   "execution_count": null,
   "id": "c4185f04",
   "metadata": {},
   "outputs": [],
   "source": [
    "# skip"
   ]
  },
  {
   "cell_type": "code",
   "execution_count": null,
   "id": "b3123440",
   "metadata": {},
   "outputs": [],
   "source": [
    "# skip"
   ]
  },
  {
   "cell_type": "code",
   "execution_count": null,
   "id": "b62a4024",
   "metadata": {},
   "outputs": [],
   "source": [
    "df['selftext'].isna().value_counts()"
   ]
  },
  {
   "cell_type": "code",
   "execution_count": null,
   "id": "aced687d",
   "metadata": {},
   "outputs": [],
   "source": [
    "df = df[df['selftext'].notna()]"
   ]
  },
  {
   "cell_type": "markdown",
   "id": "a6b8a104",
   "metadata": {},
   "source": [
    "Let's process our text now that we've removed NaNs"
   ]
  },
  {
   "cell_type": "code",
   "execution_count": null,
   "id": "1bb5c215",
   "metadata": {},
   "outputs": [],
   "source": [
    "df['training_data'] = df['selftext'].apply(little_mallet_wrapper.process_string, args={'numbers':'remove'})\n",
    "df[['selftext', 'training_data']].sample(5)"
   ]
  },
  {
   "cell_type": "markdown",
   "id": "b5535b79",
   "metadata": {},
   "source": [
    "**Question:** Why are we calling this cleaned data our ***training data***?\n",
    "\n",
    "<details>\n",
    "<summary>Answer</summary>\n",
    "    We are using this to train our topic model.\n",
    "    We will see this terminology come up again in Week 5 when we cover machine learning\n",
    "\n",
    "</details>"
   ]
  },
  {
   "cell_type": "markdown",
   "id": "526b7b38",
   "metadata": {},
   "source": [
    "**Question:** What Little Mallet Wrapper function can we use to quickly see statistics about our dataset?"
   ]
  },
  {
   "cell_type": "code",
   "execution_count": null,
   "id": "4bfa4de0",
   "metadata": {},
   "outputs": [],
   "source": []
  },
  {
   "cell_type": "code",
   "execution_count": null,
   "id": "7a691308",
   "metadata": {},
   "outputs": [],
   "source": []
  },
  {
   "cell_type": "markdown",
   "id": "4c896971",
   "metadata": {},
   "source": [
    "<details>\n",
    "<summary>Solution</summary>\n",
    "   https://github.com/maria-antoniak/little-mallet-wrapper/blob/master/README.md#print_dataset_statstraining_data\n",
    "\n",
    "</details>"
   ]
  },
  {
   "cell_type": "code",
   "execution_count": null,
   "id": "b6e5d2d6",
   "metadata": {},
   "outputs": [],
   "source": [
    "little_mallet_wrapper.print_dataset_stats(df['training_data'])"
   ]
  },
  {
   "cell_type": "markdown",
   "id": "55ec2a2c",
   "metadata": {},
   "source": [
    "### Applying a Topic Model\n",
    "\n",
    "#### Training\n",
    "\n",
    "https://github.com/maria-antoniak/little-mallet-wrapper/blob/master/README.md#quick_train_topic_modelpath_to_mallet-output_directory_path-num_topics-training_data"
   ]
  },
  {
   "cell_type": "code",
   "execution_count": null,
   "id": "de54b911",
   "metadata": {},
   "outputs": [],
   "source": [
    "num_topics = 15"
   ]
  },
  {
   "cell_type": "code",
   "execution_count": null,
   "id": "44f8a1a8",
   "metadata": {},
   "outputs": [],
   "source": [
    "!which mallet"
   ]
  },
  {
   "cell_type": "code",
   "execution_count": null,
   "id": "11f0632b",
   "metadata": {},
   "outputs": [],
   "source": [
    "%%time\n",
    "topic_words, topic_doc_distribution = little_mallet_wrapper.quick_train_topic_model(\"/opt/conda/bin/mallet\", \"data/topic_modeling\", 15, df['training_data'])"
   ]
  },
  {
   "cell_type": "markdown",
   "id": "475e79de",
   "metadata": {},
   "source": [
    "#### Looking at topics"
   ]
  },
  {
   "cell_type": "code",
   "execution_count": null,
   "id": "c7ec8eab",
   "metadata": {},
   "outputs": [],
   "source": [
    "for topic_number, topic in enumerate(topic_words):\n",
    "    print(f\"✨Topic {topic_number}✨\\n\\n{topic}\\n\")"
   ]
  },
  {
   "cell_type": "markdown",
   "id": "f654520c",
   "metadata": {},
   "source": [
    "**Question:** Can we identify themes in these topics? Do these themes align with what we might think is discussed on r/AMITA?"
   ]
  },
  {
   "cell_type": "code",
   "execution_count": null,
   "id": "2b401e7d",
   "metadata": {},
   "outputs": [],
   "source": []
  },
  {
   "cell_type": "markdown",
   "id": "cd1d7340",
   "metadata": {},
   "source": [
    "**Saved output**\n",
    "Let's look at what is saved in the output directory we specified"
   ]
  },
  {
   "cell_type": "markdown",
   "id": "ad434b5b",
   "metadata": {},
   "source": [
    "##### Loading saved topics\n",
    "\n",
    "*little_mallet_wrapper.load_topic_keys(path_to_topic_keys)*"
   ]
  },
  {
   "cell_type": "code",
   "execution_count": null,
   "id": "8a3fb2f3",
   "metadata": {},
   "outputs": [],
   "source": [
    "path_to_topic_keys = \"data/topic_modeling/mallet.topic_keys.15\"\n",
    "loaded_topics = little_mallet_wrapper.load_topic_keys(path_to_topic_keys)"
   ]
  },
  {
   "cell_type": "code",
   "execution_count": null,
   "id": "2e5cb11d",
   "metadata": {},
   "outputs": [],
   "source": [
    "loaded_topics == topic_words"
   ]
  },
  {
   "cell_type": "markdown",
   "id": "e7a04f7b",
   "metadata": {},
   "source": [
    "#### Topic Distribution in Documents"
   ]
  },
  {
   "cell_type": "markdown",
   "id": "dcb344c7",
   "metadata": {},
   "source": [
    "**Question:** What does the next cell print out?"
   ]
  },
  {
   "cell_type": "code",
   "execution_count": null,
   "id": "258da728",
   "metadata": {},
   "outputs": [],
   "source": [
    "topic_doc_distribution[0]"
   ]
  },
  {
   "cell_type": "markdown",
   "id": "3bfec731",
   "metadata": {},
   "source": [
    "<details>\n",
    "<summary>Solution</summary>\n",
    "   Distribution of topics in the first reddit post\n",
    "\n",
    "</details>"
   ]
  },
  {
   "cell_type": "code",
   "execution_count": null,
   "id": "9ef0060b",
   "metadata": {},
   "outputs": [],
   "source": [
    "df.iloc[11]"
   ]
  },
  {
   "cell_type": "code",
   "execution_count": null,
   "id": "28c47082",
   "metadata": {},
   "outputs": [],
   "source": [
    "topic_doc_distribution[11]"
   ]
  },
  {
   "cell_type": "code",
   "execution_count": null,
   "id": "2f2bf14b",
   "metadata": {},
   "outputs": [],
   "source": [
    "print(f\"Topic Distributions for {df['title'].iloc[11]}\\n\")\n",
    "for topic_number, (topic, topic_distribution) in enumerate(zip(topic_words, topic_doc_distribution[11])):\n",
    "    print(f\"✨Topic {topic_number} {topic[:10]} ✨\\nProbability: {round(topic_distribution, 3)}\\n\")"
   ]
  },
  {
   "cell_type": "code",
   "execution_count": null,
   "id": "48257b3b",
   "metadata": {},
   "outputs": [],
   "source": [
    "df['title']"
   ]
  },
  {
   "cell_type": "code",
   "execution_count": null,
   "id": "bc8fa4e9",
   "metadata": {},
   "outputs": [],
   "source": [
    "print(f\"Topic Distributions for {df['title'].iloc[2]}\\n\")\n",
    "for topic_number, (topic, topic_distribution) in enumerate(zip(topic_words, topic_doc_distribution[2])):\n",
    "    print(f\"✨Topic {topic_number} {topic[:10]} ✨\\nProbability: {round(topic_distribution, 3)}\\n\")"
   ]
  },
  {
   "cell_type": "code",
   "execution_count": null,
   "id": "81cb2738",
   "metadata": {},
   "outputs": [],
   "source": [
    "pd.DataFrame(np.array(topic_doc_distribution))"
   ]
  },
  {
   "cell_type": "markdown",
   "id": "2bc03c0d",
   "metadata": {},
   "source": [
    "##### Visualizing topic distrubtion via a heatmap\n",
    "\n",
    "https://github.com/maria-antoniak/little-mallet-wrapper/blob/master/README.md#plot_categories_by_topics_heatmaplabels-topic_distributions-topic_keys-output_pathnone-target_labelsnone-dimnone"
   ]
  },
  {
   "cell_type": "code",
   "execution_count": null,
   "id": "30956423",
   "metadata": {},
   "outputs": [],
   "source": [
    "np.random.seed(1236)\n",
    "target_labels = list(df['title'].sample(6))\n",
    "target_labels"
   ]
  },
  {
   "cell_type": "code",
   "execution_count": null,
   "id": "60a68377",
   "metadata": {},
   "outputs": [],
   "source": [
    "little_mallet_wrapper.plot_categories_by_topics_heatmap(df['title'],\n",
    "                                      topic_doc_distribution,\n",
    "                                      topic_words, \n",
    "                                      'data/topic_modeling/categories_by_topics.pdf',\n",
    "                                      target_labels=target_labels,\n",
    "                                      dim= (25, 8)\n",
    "                                     )"
   ]
  },
  {
   "cell_type": "markdown",
   "id": "4169a916",
   "metadata": {},
   "source": [
    "##### Which documents are most about topic X?\n",
    "\n",
    "**Question:** Which Little Mallet Wrapper function do you think will get this for us?\n",
    "\n",
    "<details>\n",
    "<summary>Solution</summary>\n",
    "   https://github.com/maria-antoniak/little-mallet-wrapper/blob/master/README.md#get_top_docstraining_data-topic_distributions-topic_index-n5\n",
    "\n",
    "</details>\n"
   ]
  },
  {
   "cell_type": "code",
   "execution_count": null,
   "id": "cd41f497",
   "metadata": {},
   "outputs": [],
   "source": [
    "# skip"
   ]
  },
  {
   "cell_type": "code",
   "execution_count": null,
   "id": "57cb09e0",
   "metadata": {},
   "outputs": [],
   "source": [
    "# skip"
   ]
  },
  {
   "cell_type": "code",
   "execution_count": null,
   "id": "9513bd06",
   "metadata": {},
   "outputs": [],
   "source": [
    "# skip"
   ]
  },
  {
   "cell_type": "code",
   "execution_count": null,
   "id": "6c9b181a",
   "metadata": {},
   "outputs": [],
   "source": []
  },
  {
   "cell_type": "code",
   "execution_count": null,
   "id": "2ee036b8",
   "metadata": {},
   "outputs": [],
   "source": []
  },
  {
   "cell_type": "code",
   "execution_count": null,
   "id": "530e7ffd",
   "metadata": {},
   "outputs": [],
   "source": [
    "little_mallet_wrapper.get_top_docs(df['training_data'], topic_doc_distribution, 11, n=5)"
   ]
  },
  {
   "cell_type": "code",
   "execution_count": null,
   "id": "ee277767",
   "metadata": {},
   "outputs": [],
   "source": [
    "training_data_reddit_titles = dict(zip(df['training_data'], df['title']))\n",
    "training_data_original_text = dict(zip(df['training_data'], df['selftext']))\n",
    "\n",
    "def display_top_titles_per_topic(topic_number=0, number_of_documents=5):\n",
    "    \n",
    "    print(f\"✨Topic {topic_number}✨\\n\\n{topic_words[topic_number]}\\n\")\n",
    "\n",
    "    for probability, document in little_mallet_wrapper.get_top_docs(df['training_data'], topic_doc_distribution, \n",
    "                                                                    topic_number, n=number_of_documents):\n",
    "        print(round(probability, 4), training_data_reddit_titles[document] + \"\\n\")\n",
    "    return\n",
    "\n"
   ]
  },
  {
   "cell_type": "code",
   "execution_count": null,
   "id": "6d617312",
   "metadata": {},
   "outputs": [],
   "source": [
    "display_top_titles_per_topic(topic_number=0, number_of_documents=5)"
   ]
  },
  {
   "cell_type": "code",
   "execution_count": null,
   "id": "a282b653",
   "metadata": {},
   "outputs": [],
   "source": [
    "display_top_titles_per_topic(topic_number=11, number_of_documents=5)"
   ]
  },
  {
   "cell_type": "code",
   "execution_count": null,
   "id": "fb686f3b",
   "metadata": {},
   "outputs": [],
   "source": []
  },
  {
   "cell_type": "code",
   "execution_count": null,
   "id": "9e718559",
   "metadata": {},
   "outputs": [],
   "source": []
  },
  {
   "cell_type": "markdown",
   "id": "79abbcc4",
   "metadata": {},
   "source": [
    "#### Exploring Topics Words in Context\n",
    "\n",
    "Look at online textbook - https://melaniewalsh.github.io/Intro-Cultural-Analytics/Text-Analysis/Topic-Modeling-CSV.html#load-topic-distributions"
   ]
  },
  {
   "cell_type": "markdown",
   "id": "fcd9a4e9",
   "metadata": {},
   "source": [
    "#### Plot Topics Over Time\n",
    "\n",
    "Instead of plotting the sentiment of Trump's tweets over time, we can plot the prevelance of different topics over time.\n",
    "\n",
    "**In class discussion:** How could we plot the topics over time? What steps would we have to take?\n",
    "\n"
   ]
  },
  {
   "cell_type": "markdown",
   "id": "4645a668",
   "metadata": {},
   "source": [
    "Look at online textbook for an example: https://melaniewalsh.github.io/Intro-Cultural-Analytics/Text-Analysis/Topic-Modeling-Time-Series.html#plot-topics-over-time"
   ]
  },
  {
   "cell_type": "markdown",
   "id": "cf636a07",
   "metadata": {},
   "source": [
    "#### Progression of Topics During a Narrative\n",
    "\n",
    "Which Little Mallet Wrapper function does that for us?\n",
    "\n",
    "\n",
    "<details>\n",
    "<summary>Solution</summary>\n",
    "  https://github.com/maria-antoniak/little-mallet-wrapper/blob/master/README.md#plot_topics_over_timetopic_distributions-topic_keys-times-topic_index-output_pathnone\n",
    "    \n",
    "    <br><br>\n",
    "    <i>little_mallet_wrapper.plot_topics_over_time(topic_distributions, topic_keys, times, topic_index, output_path=None)</i>\n",
    "\n",
    "    \n",
    "    <br><br>\n",
    "    This requires us first segmenting each post into chunks.\n",
    "</details>"
   ]
  },
  {
   "cell_type": "markdown",
   "id": "62119ca4",
   "metadata": {},
   "source": [
    "**Question:** Let's do this together"
   ]
  },
  {
   "cell_type": "code",
   "execution_count": null,
   "id": "40a69daf",
   "metadata": {},
   "outputs": [],
   "source": []
  }
 ],
 "metadata": {
  "kernelspec": {
   "display_name": "Python 3",
   "language": "python",
   "name": "python3"
  },
  "language_info": {
   "codemirror_mode": {
    "name": "ipython",
    "version": 3
   },
   "file_extension": ".py",
   "mimetype": "text/x-python",
   "name": "python",
   "nbconvert_exporter": "python",
   "pygments_lexer": "ipython3",
   "version": "3.8.8"
  }
 },
 "nbformat": 4,
 "nbformat_minor": 5
}
