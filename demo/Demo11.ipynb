{
 "cells": [
  {
   "cell_type": "markdown",
   "id": "77fecbbf",
   "metadata": {},
   "source": [
    "# Demo 11"
   ]
  },
  {
   "cell_type": "code",
   "execution_count": null,
   "id": "e7852ed0",
   "metadata": {},
   "outputs": [],
   "source": [
    "import pandas as pd\n",
    "import numpy as np\n",
    "import glob\n",
    "from pathlib import Path\n",
    "import pandas as pd\n",
    "import random\n",
    "pd.options.display.max_colwidth = 100"
   ]
  },
  {
   "cell_type": "markdown",
   "id": "eb8add21",
   "metadata": {},
   "source": [
    "## Mallet"
   ]
  },
  {
   "cell_type": "code",
   "execution_count": null,
   "id": "7d0e4d16",
   "metadata": {},
   "outputs": [],
   "source": [
    "!which mallet"
   ]
  },
  {
   "cell_type": "markdown",
   "id": "a79456b6",
   "metadata": {},
   "source": [
    "**Question:** Set the variable `path_to_mallet` to where mallet is stored on your server"
   ]
  },
  {
   "cell_type": "code",
   "execution_count": null,
   "id": "c3296476",
   "metadata": {},
   "outputs": [],
   "source": [
    "path_to_mallet = ...\n",
    "path_to_mallet"
   ]
  },
  {
   "cell_type": "code",
   "execution_count": null,
   "id": "70728080",
   "metadata": {},
   "outputs": [],
   "source": [
    "!mallet"
   ]
  },
  {
   "cell_type": "code",
   "execution_count": null,
   "id": "92a8e6b0",
   "metadata": {},
   "outputs": [],
   "source": [
    "!mallet info"
   ]
  },
  {
   "cell_type": "code",
   "execution_count": null,
   "id": "9ab6f23c",
   "metadata": {},
   "outputs": [],
   "source": [
    "!mallet train-topics --help"
   ]
  },
  {
   "cell_type": "markdown",
   "id": "d9b7fd41",
   "metadata": {},
   "source": [
    "(back to slides)\n",
    "\n",
    "## Little Mallet Wrapper\n",
    "\n",
    "https://github.com/maria-antoniak/little-mallet-wrapper"
   ]
  },
  {
   "cell_type": "code",
   "execution_count": null,
   "id": "6635a32a",
   "metadata": {},
   "outputs": [],
   "source": [
    "import little_mallet_wrapper\n",
    "import seaborn"
   ]
  },
  {
   "cell_type": "markdown",
   "id": "69021afd",
   "metadata": {},
   "source": [
    "### Data - r/AmItheAsshole/ - https://www.reddit.com/r/AmItheAsshole/\n",
    "\n",
    "> A catharsis for the frustrated moral philosopher in all of us, and a place to finally find out if you were wrong in an argument that's been bothering you. Tell us about any non-violent conflict you have experienced; give us both sides of the story, and find out if you're right, or you're the asshole. See our ~~*Best Of*~~ \"Most Controversial\" at /r/AITAFiltered!"
   ]
  },
  {
   "cell_type": "code",
   "execution_count": null,
   "id": "d5c5abd6",
   "metadata": {},
   "outputs": [],
   "source": [
    "!wget https://melaniewalsh.github.io/Intro-Cultural-Analytics/_downloads/a51ee65126a0d45564056781a6ad9dfe/top-reddit-aita-posts.csv"
   ]
  },
  {
   "cell_type": "markdown",
   "id": "56e4a63f",
   "metadata": {},
   "source": [
    "Let's now look at the files on the left navigator. We should move the csv file to `data/`"
   ]
  },
  {
   "cell_type": "code",
   "execution_count": null,
   "id": "e1390168",
   "metadata": {},
   "outputs": [],
   "source": [
    "!mv top-reddit-aita-posts.csv data"
   ]
  },
  {
   "cell_type": "markdown",
   "id": "fb6bd1f5",
   "metadata": {},
   "source": [
    "Let's now look at the files on the left navigator. Is the csv file there?"
   ]
  },
  {
   "cell_type": "code",
   "execution_count": null,
   "id": "811c9c74",
   "metadata": {},
   "outputs": [],
   "source": [
    "df = pd.read_csv(\"data/top-reddit-aita-posts.csv\")\n",
    "df.sample(5)"
   ]
  },
  {
   "cell_type": "markdown",
   "id": "ae3db23c",
   "metadata": {},
   "source": [
    "#### Exploring the data"
   ]
  },
  {
   "cell_type": "markdown",
   "id": "de927c62",
   "metadata": {},
   "source": [
    "**Question:** What does each row represent? "
   ]
  },
  {
   "cell_type": "code",
   "execution_count": null,
   "id": "b3b13d61",
   "metadata": {},
   "outputs": [],
   "source": []
  },
  {
   "cell_type": "markdown",
   "id": "19e557df",
   "metadata": {},
   "source": [
    "**Question:** What does each column indicate"
   ]
  },
  {
   "cell_type": "code",
   "execution_count": null,
   "id": "fadd8ffa",
   "metadata": {},
   "outputs": [],
   "source": []
  },
  {
   "cell_type": "markdown",
   "id": "5da02f0a",
   "metadata": {},
   "source": [
    "**Question** Let's look at an example"
   ]
  },
  {
   "cell_type": "code",
   "execution_count": null,
   "id": "a5b7930a",
   "metadata": {},
   "outputs": [],
   "source": [
    "df['selftext'].iloc[11]"
   ]
  },
  {
   "cell_type": "code",
   "execution_count": null,
   "id": "4f755032",
   "metadata": {},
   "outputs": [],
   "source": [
    "example_title = df['title'].iloc[11]\n",
    "example_title"
   ]
  },
  {
   "cell_type": "code",
   "execution_count": null,
   "id": "f7a832e2",
   "metadata": {},
   "outputs": [],
   "source": [
    "df['url'].iloc[11]"
   ]
  },
  {
   "cell_type": "markdown",
   "id": "98132005",
   "metadata": {},
   "source": [
    "**Question:** Lets filter out some Reddit posts that have removed or deleted text"
   ]
  },
  {
   "cell_type": "code",
   "execution_count": null,
   "id": "33d23d96",
   "metadata": {},
   "outputs": [],
   "source": [
    "df['selftext'].value_counts().head(3)"
   ]
  },
  {
   "cell_type": "code",
   "execution_count": null,
   "id": "2c6240a8",
   "metadata": {},
   "outputs": [],
   "source": [
    "## Remove deleted or removed posts\n",
    "df[~(df['selftext'] == '[removed]')]\n",
    "df[~(df['selftext'] == '[deleted]')]\n"
   ]
  },
  {
   "cell_type": "markdown",
   "id": "bbbd9f42",
   "metadata": {},
   "source": [
    "#### Process text\n",
    "\n",
    "Little Mallet Wrapper includes a function to clean and process text. \n",
    "\n",
    "\n",
    "**Question:** Based on the documentation (https://github.com/maria-antoniak/little-mallet-wrapper/blob/master/README.md), what function do you think we can use to clean and process text? \n",
    "\n",
    "<details>\n",
    "<summary>Solution</summary>\n",
    "    https://github.com/maria-antoniak/little-mallet-wrapper#process_stringtext-lowercasetrue-remove_short_wordstrue-remove_stop_wordstrue-remove_punctuationtrue-numbersreplace-stop_wordsstops\n",
    "\n",
    "</details>\n"
   ]
  },
  {
   "cell_type": "code",
   "execution_count": null,
   "id": "75efe064",
   "metadata": {},
   "outputs": [],
   "source": [
    "# skip"
   ]
  },
  {
   "cell_type": "code",
   "execution_count": null,
   "id": "13579e34",
   "metadata": {},
   "outputs": [],
   "source": [
    "# skip"
   ]
  },
  {
   "cell_type": "code",
   "execution_count": null,
   "id": "dd222d56",
   "metadata": {},
   "outputs": [],
   "source": [
    "# skip"
   ]
  },
  {
   "cell_type": "code",
   "execution_count": null,
   "id": "5f7916ca",
   "metadata": {},
   "outputs": [],
   "source": [
    "# skip"
   ]
  },
  {
   "cell_type": "code",
   "execution_count": null,
   "id": "4f949113",
   "metadata": {},
   "outputs": [],
   "source": []
  },
  {
   "cell_type": "code",
   "execution_count": null,
   "id": "424c6234",
   "metadata": {},
   "outputs": [],
   "source": [
    "little_mallet_wrapper.process_string"
   ]
  },
  {
   "cell_type": "markdown",
   "id": "56752447",
   "metadata": {},
   "source": [
    "##### Process text example"
   ]
  },
  {
   "cell_type": "code",
   "execution_count": null,
   "id": "06c98c66",
   "metadata": {},
   "outputs": [],
   "source": [
    "df['selftext'].iloc[0]"
   ]
  },
  {
   "cell_type": "code",
   "execution_count": null,
   "id": "35170f26",
   "metadata": {},
   "outputs": [],
   "source": [
    "little_mallet_wrapper.process_string(df['selftext'].iloc[0], numbers='remove')"
   ]
  },
  {
   "cell_type": "code",
   "execution_count": null,
   "id": "5c34ec3d",
   "metadata": {},
   "outputs": [],
   "source": []
  },
  {
   "cell_type": "code",
   "execution_count": null,
   "id": "3bfbe3cc",
   "metadata": {},
   "outputs": [],
   "source": [
    "training_data = [little_mallet_wrapper.process_string(text, numbers='remove') for text in df['selftext']]\n"
   ]
  },
  {
   "cell_type": "code",
   "execution_count": null,
   "id": "29f42b39",
   "metadata": {},
   "outputs": [],
   "source": [
    "df['selftext'].apply(little_mallet_wrapper.process_string, args={'numbers':'remove'})"
   ]
  },
  {
   "cell_type": "markdown",
   "id": "43273715",
   "metadata": {},
   "source": [
    "**Question:** Why did we get that error? \n",
    "\n",
    "<details>\n",
    "<summary>Hint</summary>\n",
    "    What *missing* value is stored as a float?  \n",
    "\n",
    "</details>"
   ]
  },
  {
   "cell_type": "code",
   "execution_count": null,
   "id": "f4e98ae1",
   "metadata": {},
   "outputs": [],
   "source": [
    "# skip"
   ]
  },
  {
   "cell_type": "code",
   "execution_count": null,
   "id": "c555a675",
   "metadata": {},
   "outputs": [],
   "source": [
    "# skip"
   ]
  },
  {
   "cell_type": "code",
   "execution_count": null,
   "id": "559fd6d0",
   "metadata": {},
   "outputs": [],
   "source": [
    "df['selftext'].isna().value_counts()"
   ]
  },
  {
   "cell_type": "code",
   "execution_count": null,
   "id": "b1637b9c",
   "metadata": {},
   "outputs": [],
   "source": [
    "df = df[df['selftext'].notna()]"
   ]
  },
  {
   "cell_type": "markdown",
   "id": "aab0fcd6",
   "metadata": {},
   "source": [
    "Let's process our text now that we've removed NaNs"
   ]
  },
  {
   "cell_type": "code",
   "execution_count": null,
   "id": "91fc634e",
   "metadata": {},
   "outputs": [],
   "source": [
    "df['training_data'] = df['selftext'].apply(little_mallet_wrapper.process_string, args={'numbers':'remove'})\n",
    "df[['selftext', 'training_data']].sample(5)"
   ]
  },
  {
   "cell_type": "markdown",
   "id": "f44b646f",
   "metadata": {},
   "source": [
    "**Question:** Why are we calling this cleaned data our ***training data***?\n",
    "\n",
    "<details>\n",
    "<summary>Answer</summary>\n",
    "    We are using this to train our topic model.\n",
    "    We will see this terminology come up again in Week 5 when we cover machine learning\n",
    "\n",
    "</details>"
   ]
  },
  {
   "cell_type": "markdown",
   "id": "5f1ba9db",
   "metadata": {},
   "source": [
    "**Question:** What Little Mallet Wrapper function can we use to quickly see statistics about our dataset?"
   ]
  },
  {
   "cell_type": "code",
   "execution_count": null,
   "id": "14ae532c",
   "metadata": {},
   "outputs": [],
   "source": []
  },
  {
   "cell_type": "code",
   "execution_count": null,
   "id": "6a3d3992",
   "metadata": {},
   "outputs": [],
   "source": []
  },
  {
   "cell_type": "markdown",
   "id": "e8de6a38",
   "metadata": {},
   "source": [
    "<details>\n",
    "<summary>Solution</summary>\n",
    "   https://github.com/maria-antoniak/little-mallet-wrapper/blob/master/README.md#print_dataset_statstraining_data\n",
    "\n",
    "</details>"
   ]
  },
  {
   "cell_type": "code",
   "execution_count": null,
   "id": "84b97ecb",
   "metadata": {},
   "outputs": [],
   "source": [
    "little_mallet_wrapper.print_dataset_stats(df['training_data'])"
   ]
  },
  {
   "cell_type": "markdown",
   "id": "5cb93870",
   "metadata": {},
   "source": [
    "### Applying a Topic Model\n",
    "\n",
    "#### Training\n",
    "\n",
    "https://github.com/maria-antoniak/little-mallet-wrapper/blob/master/README.md#quick_train_topic_modelpath_to_mallet-output_directory_path-num_topics-training_data"
   ]
  },
  {
   "cell_type": "code",
   "execution_count": null,
   "id": "a0dd5981",
   "metadata": {},
   "outputs": [],
   "source": [
    "num_topics = 15"
   ]
  },
  {
   "cell_type": "code",
   "execution_count": null,
   "id": "0cca103d",
   "metadata": {},
   "outputs": [],
   "source": [
    "!which mallet"
   ]
  },
  {
   "cell_type": "code",
   "execution_count": null,
   "id": "3b05e7e3",
   "metadata": {},
   "outputs": [],
   "source": [
    "%%time\n",
    "topic_words, topic_doc_distribution = little_mallet_wrapper.quick_train_topic_model(\"/opt/conda/bin/mallet\", \"data/topic_modeling\", 15, df['training_data'])"
   ]
  },
  {
   "cell_type": "markdown",
   "id": "4466632b",
   "metadata": {},
   "source": [
    "#### Looking at topics"
   ]
  },
  {
   "cell_type": "code",
   "execution_count": null,
   "id": "54b00ef4",
   "metadata": {},
   "outputs": [],
   "source": [
    "for topic_number, topic in enumerate(topic_words):\n",
    "    print(f\"✨Topic {topic_number}✨\\n\\n{topic}\\n\")"
   ]
  },
  {
   "cell_type": "markdown",
   "id": "5f0c56da",
   "metadata": {},
   "source": [
    "**Question:** Can we identify themes in these topics? Do these themes align with what we might think is discussed on r/AMITA?"
   ]
  },
  {
   "cell_type": "code",
   "execution_count": null,
   "id": "d8392fe7",
   "metadata": {},
   "outputs": [],
   "source": []
  },
  {
   "cell_type": "markdown",
   "id": "dcd2aa3c",
   "metadata": {},
   "source": [
    "**Saved output**\n",
    "Let's look at what is saved in the output directory we specified"
   ]
  },
  {
   "cell_type": "markdown",
   "id": "64080723",
   "metadata": {},
   "source": [
    "##### Loading saved topics\n",
    "\n",
    "*little_mallet_wrapper.load_topic_keys(path_to_topic_keys)*"
   ]
  },
  {
   "cell_type": "code",
   "execution_count": null,
   "id": "8b7e4328",
   "metadata": {},
   "outputs": [],
   "source": [
    "path_to_topic_keys = \"data/topic_modeling/mallet.topic_keys.15\"\n",
    "loaded_topics = little_mallet_wrapper.load_topic_keys(path_to_topic_keys)"
   ]
  },
  {
   "cell_type": "code",
   "execution_count": null,
   "id": "1824ed8a",
   "metadata": {},
   "outputs": [],
   "source": [
    "loaded_topics == topic_words"
   ]
  },
  {
   "cell_type": "markdown",
   "id": "f45a8d74",
   "metadata": {},
   "source": [
    "#### Topic Distribution in Documents"
   ]
  },
  {
   "cell_type": "markdown",
   "id": "5f928f49",
   "metadata": {},
   "source": [
    "**Question:** What does the next cell print out?"
   ]
  },
  {
   "cell_type": "code",
   "execution_count": null,
   "id": "b88bf13f",
   "metadata": {},
   "outputs": [],
   "source": [
    "topic_doc_distribution[0]"
   ]
  },
  {
   "cell_type": "markdown",
   "id": "da53ea17",
   "metadata": {},
   "source": [
    "<details>\n",
    "<summary>Solution</summary>\n",
    "   Distribution of topics in the first reddit post\n",
    "\n",
    "</details>"
   ]
  },
  {
   "cell_type": "code",
   "execution_count": null,
   "id": "6b0beef6",
   "metadata": {},
   "outputs": [],
   "source": [
    "df.iloc[11]"
   ]
  },
  {
   "cell_type": "code",
   "execution_count": null,
   "id": "7d31d3a3",
   "metadata": {},
   "outputs": [],
   "source": [
    "topic_doc_distribution[11]"
   ]
  },
  {
   "cell_type": "code",
   "execution_count": null,
   "id": "6dff5b49",
   "metadata": {},
   "outputs": [],
   "source": [
    "print(f\"Topic Distributions for {df['title'].iloc[11]}\\n\")\n",
    "for topic_number, (topic, topic_distribution) in enumerate(zip(topic_words, topic_doc_distribution[11])):\n",
    "    print(f\"✨Topic {topic_number} {topic[:10]} ✨\\nProbability: {round(topic_distribution, 3)}\\n\")"
   ]
  },
  {
   "cell_type": "code",
   "execution_count": null,
   "id": "e647dd0f",
   "metadata": {},
   "outputs": [],
   "source": [
    "df['title']"
   ]
  },
  {
   "cell_type": "code",
   "execution_count": null,
   "id": "a8262ea7",
   "metadata": {},
   "outputs": [],
   "source": [
    "print(f\"Topic Distributions for {df['title'].iloc[2]}\\n\")\n",
    "for topic_number, (topic, topic_distribution) in enumerate(zip(topic_words, topic_doc_distribution[2])):\n",
    "    print(f\"✨Topic {topic_number} {topic[:10]} ✨\\nProbability: {round(topic_distribution, 3)}\\n\")"
   ]
  },
  {
   "cell_type": "code",
   "execution_count": null,
   "id": "7a2c9958",
   "metadata": {},
   "outputs": [],
   "source": [
    "pd.DataFrame(np.array(topic_doc_distribution))"
   ]
  },
  {
   "cell_type": "markdown",
   "id": "bf6e25a8",
   "metadata": {},
   "source": [
    "##### Visualizing topic distrubtion via a heatmap\n",
    "\n",
    "https://github.com/maria-antoniak/little-mallet-wrapper/blob/master/README.md#plot_categories_by_topics_heatmaplabels-topic_distributions-topic_keys-output_pathnone-target_labelsnone-dimnone"
   ]
  },
  {
   "cell_type": "code",
   "execution_count": null,
   "id": "4f24aa8a",
   "metadata": {},
   "outputs": [],
   "source": [
    "np.random.seed(1236)\n",
    "target_labels = list(df['title'].sample(6))\n",
    "target_labels"
   ]
  },
  {
   "cell_type": "code",
   "execution_count": null,
   "id": "7367682d",
   "metadata": {},
   "outputs": [],
   "source": [
    "little_mallet_wrapper.plot_categories_by_topics_heatmap(df['title'],\n",
    "                                      topic_doc_distribution,\n",
    "                                      topic_words, \n",
    "                                      'data/topic_modeling/categories_by_topics.pdf',\n",
    "                                      target_labels=target_labels,\n",
    "                                      dim= (25, 8)\n",
    "                                     )"
   ]
  },
  {
   "cell_type": "markdown",
   "id": "eddf4146",
   "metadata": {},
   "source": [
    "##### Which documents are most about topic X?\n",
    "\n",
    "**Question:** Which Little Mallet Wrapper function do you think will get this for us?\n",
    "\n",
    "<details>\n",
    "<summary>Solution</summary>\n",
    "   https://github.com/maria-antoniak/little-mallet-wrapper/blob/master/README.md#get_top_docstraining_data-topic_distributions-topic_index-n5\n",
    "\n",
    "</details>\n"
   ]
  },
  {
   "cell_type": "code",
   "execution_count": null,
   "id": "ebe53682",
   "metadata": {},
   "outputs": [],
   "source": [
    "# skip"
   ]
  },
  {
   "cell_type": "code",
   "execution_count": null,
   "id": "70ff5d32",
   "metadata": {},
   "outputs": [],
   "source": [
    "# skip"
   ]
  },
  {
   "cell_type": "code",
   "execution_count": null,
   "id": "9d284844",
   "metadata": {},
   "outputs": [],
   "source": [
    "# skip"
   ]
  },
  {
   "cell_type": "code",
   "execution_count": null,
   "id": "2f459bf2",
   "metadata": {},
   "outputs": [],
   "source": []
  },
  {
   "cell_type": "code",
   "execution_count": null,
   "id": "d1b5a389",
   "metadata": {},
   "outputs": [],
   "source": []
  },
  {
   "cell_type": "code",
   "execution_count": null,
   "id": "3b0383fd",
   "metadata": {},
   "outputs": [],
   "source": [
    "little_mallet_wrapper.get_top_docs(df['training_data'], topic_doc_distribution, 11, n=5)"
   ]
  },
  {
   "cell_type": "code",
   "execution_count": null,
   "id": "062b7e1b",
   "metadata": {},
   "outputs": [],
   "source": [
    "training_data_reddit_titles = dict(zip(df['training_data'], df['title']))\n",
    "training_data_original_text = dict(zip(df['training_data'], df['selftext']))\n",
    "\n",
    "def display_top_titles_per_topic(topic_number=0, number_of_documents=5):\n",
    "    \n",
    "    print(f\"✨Topic {topic_number}✨\\n\\n{topic_words[topic_number]}\\n\")\n",
    "\n",
    "    for probability, document in little_mallet_wrapper.get_top_docs(df['training_data'], topic_doc_distribution, \n",
    "                                                                    topic_number, n=number_of_documents):\n",
    "        print(round(probability, 4), training_data_reddit_titles[document] + \"\\n\")\n",
    "    return\n",
    "\n"
   ]
  },
  {
   "cell_type": "code",
   "execution_count": null,
   "id": "3310aeed",
   "metadata": {},
   "outputs": [],
   "source": [
    "display_top_titles_per_topic(topic_number=0, number_of_documents=5)"
   ]
  },
  {
   "cell_type": "code",
   "execution_count": null,
   "id": "84b58a72",
   "metadata": {},
   "outputs": [],
   "source": [
    "display_top_titles_per_topic(topic_number=11, number_of_documents=5)"
   ]
  },
  {
   "cell_type": "code",
   "execution_count": null,
   "id": "e996a0e0",
   "metadata": {},
   "outputs": [],
   "source": []
  },
  {
   "cell_type": "code",
   "execution_count": null,
   "id": "5e189967",
   "metadata": {},
   "outputs": [],
   "source": []
  },
  {
   "cell_type": "markdown",
   "id": "7255f46d",
   "metadata": {},
   "source": [
    "#### Exploring Topics Words in Context\n",
    "\n",
    "Look at online textbook - https://melaniewalsh.github.io/Intro-Cultural-Analytics/Text-Analysis/Topic-Modeling-CSV.html#load-topic-distributions"
   ]
  },
  {
   "cell_type": "markdown",
   "id": "57fd8c74",
   "metadata": {},
   "source": [
    "#### Plot Topics Over Time\n",
    "\n",
    "Instead of plotting the sentiment of Trump's tweets over time, we can plot the prevelance of different topics over time.\n",
    "\n",
    "**In class discussion:** How could we plot the topics over time? What steps would we have to take?\n",
    "\n"
   ]
  },
  {
   "cell_type": "markdown",
   "id": "a8d49897",
   "metadata": {},
   "source": [
    "Look at online textbook for an example: https://melaniewalsh.github.io/Intro-Cultural-Analytics/Text-Analysis/Topic-Modeling-Time-Series.html#plot-topics-over-time"
   ]
  },
  {
   "cell_type": "markdown",
   "id": "b60e80b1",
   "metadata": {},
   "source": [
    "#### Progression of Topics During a Narrative\n",
    "\n",
    "Which Little Mallet Wrapper function does that for us?\n",
    "\n",
    "\n",
    "<details>\n",
    "<summary>Solution</summary>\n",
    "  https://github.com/maria-antoniak/little-mallet-wrapper/blob/master/README.md#plot_topics_over_timetopic_distributions-topic_keys-times-topic_index-output_pathnone\n",
    "    \n",
    "    <br><br>\n",
    "    <i>little_mallet_wrapper.plot_topics_over_time(topic_distributions, topic_keys, times, topic_index, output_path=None)</i>\n",
    "\n",
    "    \n",
    "    <br><br>\n",
    "    This requires us first segmenting each post into chunks.\n",
    "</details>"
   ]
  },
  {
   "cell_type": "markdown",
   "id": "78e712c3",
   "metadata": {},
   "source": [
    "**Question:** Let's do this together"
   ]
  },
  {
   "cell_type": "code",
   "execution_count": null,
   "id": "ea1d715a",
   "metadata": {},
   "outputs": [],
   "source": []
  }
 ],
 "metadata": {
  "kernelspec": {
   "display_name": "Python 3",
   "language": "python",
   "name": "python3"
  },
  "language_info": {
   "codemirror_mode": {
    "name": "ipython",
    "version": 3
   },
   "file_extension": ".py",
   "mimetype": "text/x-python",
   "name": "python",
   "nbconvert_exporter": "python",
   "pygments_lexer": "ipython3",
   "version": "3.8.8"
  }
 },
 "nbformat": 4,
 "nbformat_minor": 5
}
