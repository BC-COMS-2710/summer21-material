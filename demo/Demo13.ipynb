{
 "cells": [
  {
   "cell_type": "markdown",
   "id": "df00d606",
   "metadata": {},
   "source": [
    "# Twitter"
   ]
  },
  {
   "cell_type": "code",
   "execution_count": null,
   "id": "2e94ff05",
   "metadata": {},
   "outputs": [],
   "source": [
    "!pip install tweepy"
   ]
  },
  {
   "cell_type": "code",
   "execution_count": null,
   "id": "d5e7e423",
   "metadata": {},
   "outputs": [],
   "source": [
    "import tweepy"
   ]
  },
  {
   "cell_type": "markdown",
   "id": "891bc81f",
   "metadata": {},
   "source": [
    "Create a new app by going to https://developer.twitter.com/en/portal/projects/1359950786231324672/apps/new"
   ]
  },
  {
   "cell_type": "markdown",
   "id": "01ed3638",
   "metadata": {},
   "source": [
    "## Authentication"
   ]
  },
  {
   "cell_type": "code",
   "execution_count": null,
   "id": "e43a025d",
   "metadata": {},
   "outputs": [],
   "source": [
    "consumer_key = ADD HERE \n",
    "consumer_secret = ADD HERE \n",
    "access_token = ADD HERE \n",
    "access_token_secret = ADD HERE \n"
   ]
  },
  {
   "cell_type": "markdown",
   "id": "456a6ea1",
   "metadata": {},
   "source": [
    "(back to slides)\n",
    "## Tweepy"
   ]
  },
  {
   "cell_type": "code",
   "execution_count": null,
   "id": "1d24aca0",
   "metadata": {},
   "outputs": [],
   "source": [
    "import tweepy\n",
    "tweepy.__version__"
   ]
  },
  {
   "cell_type": "code",
   "execution_count": null,
   "id": "b92db7c8",
   "metadata": {},
   "outputs": [],
   "source": [
    "auth = tweepy.OAuthHandler(consumer_key, consumer_secret)\n",
    "auth.set_access_token(access_token, access_token_secret)\n",
    "auth"
   ]
  },
  {
   "cell_type": "markdown",
   "id": "7999dae9",
   "metadata": {},
   "source": [
    "(back to slides)\n",
    "## Tweepy Stream API\n",
    "\n",
    "Access tweets in real time. We need to complete the following steps:\n",
    "\n",
    "1. Create a class inheriting from StreamListener\n",
    "1. Using that class create a Stream object\n",
    "1. Connect to the Twitter API using the Stream."
   ]
  },
  {
   "cell_type": "markdown",
   "id": "456db09e",
   "metadata": {},
   "source": [
    "#### Create a class that inherits from StreamListener"
   ]
  },
  {
   "cell_type": "code",
   "execution_count": null,
   "id": "ebdd9ea9",
   "metadata": {},
   "outputs": [],
   "source": [
    "class StreamListener(tweepy.StreamListener):\n",
    "    \n",
    "    def on_status(self, status):\n",
    "        print(status.text)\n",
    "        last_status = status\n",
    "        \n",
    "    def on_error(self, status_code):\n",
    "        print('Got an error with status code: ' + str(status_code))\n",
    "\n",
    "        if status_code == 420:\n",
    "            return False\n",
    "\n",
    "    def on_timeout(self):\n",
    "        print('Timeout...')\n",
    "        return True # To continue listening\n",
    "    \n",
    "StreamListener"
   ]
  },
  {
   "cell_type": "markdown",
   "id": "d9602466",
   "metadata": {},
   "source": [
    "#### Create a new Stream object"
   ]
  },
  {
   "cell_type": "code",
   "execution_count": null,
   "id": "3d0dce29",
   "metadata": {},
   "outputs": [],
   "source": [
    "stream_listener = StreamListener()\n",
    "stream_listener"
   ]
  },
  {
   "cell_type": "markdown",
   "id": "a4720719",
   "metadata": {},
   "source": [
    "#### Authenticate the object"
   ]
  },
  {
   "cell_type": "code",
   "execution_count": null,
   "id": "9a3802e4",
   "metadata": {},
   "outputs": [],
   "source": [
    "stream = tweepy.Stream(auth=auth, listener=stream_listener)\n",
    "stream"
   ]
  },
  {
   "cell_type": "code",
   "execution_count": null,
   "id": "3717b31f",
   "metadata": {},
   "outputs": [],
   "source": [
    "stream.running"
   ]
  },
  {
   "cell_type": "code",
   "execution_count": null,
   "id": "a82136c6",
   "metadata": {},
   "outputs": [],
   "source": [
    "stream"
   ]
  },
  {
   "cell_type": "markdown",
   "id": "eec818c0",
   "metadata": {},
   "source": [
    "### Connet the Stream Object to the API"
   ]
  },
  {
   "cell_type": "markdown",
   "id": "a1e48d2d",
   "metadata": {},
   "source": [
    "#### Sample Stream"
   ]
  },
  {
   "cell_type": "code",
   "execution_count": null,
   "id": "aee32ac8",
   "metadata": {
    "tags": []
   },
   "outputs": [],
   "source": [
    "stream.sample()"
   ]
  },
  {
   "cell_type": "code",
   "execution_count": null,
   "id": "5979de58",
   "metadata": {
    "tags": []
   },
   "outputs": [],
   "source": [
    "stream.disconnect()\n",
    "#stream.sample(languages=['en'])\n",
    "stream.running()"
   ]
  },
  {
   "cell_type": "markdown",
   "id": "dc761d5d",
   "metadata": {},
   "source": [
    "**Specify only Tweets in English**"
   ]
  },
  {
   "cell_type": "code",
   "execution_count": null,
   "id": "6f6bd1c2",
   "metadata": {
    "tags": []
   },
   "outputs": [],
   "source": [
    "stream.sample(languages=['en'])"
   ]
  },
  {
   "cell_type": "code",
   "execution_count": null,
   "id": "2004dd31",
   "metadata": {
    "tags": []
   },
   "outputs": [],
   "source": [
    "stream.running"
   ]
  },
  {
   "cell_type": "code",
   "execution_count": null,
   "id": "83765fb6",
   "metadata": {},
   "outputs": [],
   "source": [
    "stream.disconnect()\n",
    "stream.running"
   ]
  },
  {
   "cell_type": "markdown",
   "id": "a429f454",
   "metadata": {},
   "source": [
    "#### Filter the Stream"
   ]
  },
  {
   "cell_type": "markdown",
   "id": "6af97d4b",
   "metadata": {},
   "source": [
    "Last night the Miami Heat were playing so I was filtering tweets about the team"
   ]
  },
  {
   "cell_type": "code",
   "execution_count": null,
   "id": "c424ac64",
   "metadata": {
    "tags": []
   },
   "outputs": [],
   "source": [
    "stream.disconnect()\n",
    "stream.filter(track=[\"heat\"] ,languages=[\"en\"]) #is_async=True)"
   ]
  },
  {
   "cell_type": "code",
   "execution_count": null,
   "id": "6445837b",
   "metadata": {},
   "outputs": [],
   "source": [
    "status = stream.disconnect()\n",
    "status, stream.running"
   ]
  },
  {
   "cell_type": "markdown",
   "id": "0fc42d0a",
   "metadata": {},
   "source": [
    "Let's filtering on something trending right now"
   ]
  },
  {
   "cell_type": "code",
   "execution_count": null,
   "id": "d4355414",
   "metadata": {},
   "outputs": [],
   "source": [
    "stream.filter(track=[ADD HERE] ,languages=[\"en\"]) "
   ]
  },
  {
   "cell_type": "code",
   "execution_count": null,
   "id": "5c5436ee",
   "metadata": {},
   "outputs": [],
   "source": [
    "status"
   ]
  },
  {
   "cell_type": "code",
   "execution_count": null,
   "id": "f4c24661",
   "metadata": {
    "tags": []
   },
   "outputs": [],
   "source": [
    "stream.chunk_size"
   ]
  },
  {
   "cell_type": "code",
   "execution_count": null,
   "id": "6a6a0b5d",
   "metadata": {
    "tags": []
   },
   "outputs": [],
   "source": [
    "stream.body"
   ]
  },
  {
   "cell_type": "code",
   "execution_count": null,
   "id": "22704044",
   "metadata": {},
   "outputs": [],
   "source": [
    "stream.host"
   ]
  },
  {
   "cell_type": "code",
   "execution_count": null,
   "id": "bd31ab60",
   "metadata": {
    "tags": []
   },
   "outputs": [],
   "source": [
    "stream.disconnect()\n",
    "stream.running"
   ]
  },
  {
   "cell_type": "code",
   "execution_count": null,
   "id": "2cd8dfd5",
   "metadata": {},
   "outputs": [],
   "source": [
    "stream.chunk_size"
   ]
  },
  {
   "cell_type": "code",
   "execution_count": null,
   "id": "e2a1e9be",
   "metadata": {},
   "outputs": [],
   "source": [
    "status"
   ]
  },
  {
   "cell_type": "markdown",
   "id": "e1fc9b03",
   "metadata": {},
   "source": [
    "### Save Stream to File"
   ]
  },
  {
   "cell_type": "code",
   "execution_count": null,
   "id": "48887ed5",
   "metadata": {},
   "outputs": [],
   "source": [
    "class StreamListener2(tweepy.StreamListener):\n",
    "    \n",
    "    def on_status(self, status):\n",
    "        print(status.text)\n",
    "        \n",
    "    def on_data(self, data):\n",
    "        #print data\n",
    "        with open('fetched_tweets.txt','a') as tf:\n",
    "            tf.write(data)\n",
    "        return True\n",
    "        \n",
    "    def on_error(self, status_code):\n",
    "        print('Got an error with status code: ' + str(status_code))\n",
    "\n",
    "        if status_code == 420:\n",
    "            return False\n",
    "\n",
    "    def on_timeout(self):\n",
    "        print('Timeout...')\n",
    "        return True # To continue listening\n",
    "\n",
    "stream_listener = StreamListener2()\n",
    "stream2file = tweepy.Stream(auth=auth, listener=stream_listener)\n",
    "stream2file"
   ]
  },
  {
   "cell_type": "markdown",
   "id": "57d8770e",
   "metadata": {},
   "source": [
    "Let's keep this running for the remaining of class till we get to \"analyze tweets\" at the bottom"
   ]
  },
  {
   "cell_type": "markdown",
   "id": "ec102c7f",
   "metadata": {},
   "source": [
    "Let's look for some terms of what is currently trending on Twitter\n",
    "\n",
    "https://twitter.com/explore/tabs/trending"
   ]
  },
  {
   "cell_type": "markdown",
   "id": "cfae9e3a",
   "metadata": {},
   "source": [
    "**Asyncronous Streaming**"
   ]
  },
  {
   "cell_type": "code",
   "execution_count": null,
   "id": "4879f114",
   "metadata": {},
   "outputs": [],
   "source": [
    "stream2file.disconnect()\n",
    "stream2file.filter(track=[ADD], is_async=True)"
   ]
  },
  {
   "cell_type": "markdown",
   "id": "ee51e9a3",
   "metadata": {},
   "source": [
    "## Tweepy Rest API: \n",
    "https://docs.tweepy.org/en/latest/api.html#tweepy.API"
   ]
  },
  {
   "cell_type": "code",
   "execution_count": null,
   "id": "01589482",
   "metadata": {},
   "outputs": [],
   "source": [
    "api = tweepy.API(auth)\n",
    "api"
   ]
  },
  {
   "cell_type": "markdown",
   "id": "165deeb4",
   "metadata": {},
   "source": [
    "### Search"
   ]
  },
  {
   "cell_type": "markdown",
   "id": "eb5af0f9",
   "metadata": {},
   "source": [
    "Let's just run the following to get the 10 most recent Tweets that mention Barnard College"
   ]
  },
  {
   "cell_type": "code",
   "execution_count": null,
   "id": "668bd89f",
   "metadata": {},
   "outputs": [],
   "source": [
    "top_ten_tweets = tweepy.Cursor(api.search, q='Barnard College').items(10)\n",
    "for tweet in top_ten_tweets:\n",
    "    print(tweet.text)"
   ]
  },
  {
   "cell_type": "code",
   "execution_count": null,
   "id": "f643db3b",
   "metadata": {},
   "outputs": [],
   "source": [
    "[tweet.text for tweet in top_ten_tweets]"
   ]
  },
  {
   "cell_type": "code",
   "execution_count": null,
   "id": "8f4331de",
   "metadata": {},
   "outputs": [],
   "source": [
    "for tweet in top_ten_tweets:\n",
    "    print(\"barnard college\" in tweet.text)"
   ]
  },
  {
   "cell_type": "markdown",
   "id": "48f0d526",
   "metadata": {},
   "source": [
    "#### Elements from a Tweet"
   ]
  },
  {
   "cell_type": "code",
   "execution_count": null,
   "id": "c2bf18e8",
   "metadata": {},
   "outputs": [],
   "source": [
    "\" \".join(dir(tweet))"
   ]
  },
  {
   "cell_type": "code",
   "execution_count": null,
   "id": "0285e693",
   "metadata": {},
   "outputs": [],
   "source": [
    "tweet.text"
   ]
  },
  {
   "cell_type": "code",
   "execution_count": null,
   "id": "56c66d7f",
   "metadata": {},
   "outputs": [],
   "source": [
    "tweet.id"
   ]
  },
  {
   "cell_type": "code",
   "execution_count": null,
   "id": "032a7652",
   "metadata": {},
   "outputs": [],
   "source": [
    "tweet.created_at"
   ]
  },
  {
   "cell_type": "code",
   "execution_count": null,
   "id": "8668727b",
   "metadata": {},
   "outputs": [],
   "source": [
    "tweet.lang"
   ]
  },
  {
   "cell_type": "code",
   "execution_count": null,
   "id": "366846ff",
   "metadata": {},
   "outputs": [],
   "source": [
    "tweet.metadata"
   ]
  },
  {
   "cell_type": "code",
   "execution_count": null,
   "id": "32aa8511",
   "metadata": {},
   "outputs": [],
   "source": [
    "tweet.in_reply_to_status_id"
   ]
  },
  {
   "cell_type": "code",
   "execution_count": null,
   "id": "1fafd910",
   "metadata": {},
   "outputs": [],
   "source": [
    "tweet.source"
   ]
  },
  {
   "cell_type": "code",
   "execution_count": null,
   "id": "cafb7df0",
   "metadata": {},
   "outputs": [],
   "source": [
    "tweet.place"
   ]
  },
  {
   "cell_type": "code",
   "execution_count": null,
   "id": "a864650d",
   "metadata": {},
   "outputs": [],
   "source": [
    "tweet.coordinates"
   ]
  },
  {
   "cell_type": "code",
   "execution_count": null,
   "id": "cf32df77",
   "metadata": {},
   "outputs": [],
   "source": [
    "tweet.entities"
   ]
  },
  {
   "cell_type": "code",
   "execution_count": null,
   "id": "029f5848",
   "metadata": {},
   "outputs": [],
   "source": [
    "tweet.retweeted"
   ]
  },
  {
   "cell_type": "code",
   "execution_count": null,
   "id": "0317029b",
   "metadata": {},
   "outputs": [],
   "source": [
    "tweet.retweet_count"
   ]
  },
  {
   "cell_type": "code",
   "execution_count": null,
   "id": "2668aa3a",
   "metadata": {
    "tags": []
   },
   "outputs": [],
   "source": [
    "tweet.retweets()"
   ]
  },
  {
   "cell_type": "markdown",
   "id": "61502a6f",
   "metadata": {},
   "source": [
    "To view the tweet online, we use the following syntax:\n",
    "> twitter.com/*\\<Screen Name\\>*/status/*\\<tweet id\\>*"
   ]
  },
  {
   "cell_type": "code",
   "execution_count": null,
   "id": "bcce733f",
   "metadata": {},
   "outputs": [],
   "source": [
    "tweet.user.screen_name, tweet.id"
   ]
  },
  {
   "cell_type": "code",
   "execution_count": null,
   "id": "dc60ed4b",
   "metadata": {},
   "outputs": [],
   "source": [
    "f\"twitter.com/{tweet.user.screen_name}/status/{tweet.id}\""
   ]
  },
  {
   "cell_type": "markdown",
   "id": "16d4031f",
   "metadata": {},
   "source": [
    "List of all Attributes: \n",
    "https://developer.twitter.com/en/docs/twitter-api/v1/data-dictionary/object-model/tweet"
   ]
  },
  {
   "cell_type": "markdown",
   "id": "91cef5a2",
   "metadata": {},
   "source": [
    "#### Author/User"
   ]
  },
  {
   "cell_type": "code",
   "execution_count": null,
   "id": "889e8024",
   "metadata": {},
   "outputs": [],
   "source": [
    "tweet.user == tweet.author"
   ]
  },
  {
   "cell_type": "code",
   "execution_count": null,
   "id": "8834ab41",
   "metadata": {
    "tags": []
   },
   "outputs": [],
   "source": [
    "author = tweet.author\n",
    "author"
   ]
  },
  {
   "cell_type": "code",
   "execution_count": null,
   "id": "2e56dd81",
   "metadata": {},
   "outputs": [],
   "source": [
    "\" \".join(dir(author))"
   ]
  },
  {
   "cell_type": "code",
   "execution_count": null,
   "id": "fc7ce51e",
   "metadata": {},
   "outputs": [],
   "source": [
    "author.screen_name"
   ]
  },
  {
   "cell_type": "code",
   "execution_count": null,
   "id": "ddda3e86",
   "metadata": {},
   "outputs": [],
   "source": [
    "author.url"
   ]
  },
  {
   "cell_type": "code",
   "execution_count": null,
   "id": "daa20936",
   "metadata": {},
   "outputs": [],
   "source": [
    "author.id"
   ]
  },
  {
   "cell_type": "markdown",
   "id": "28abe0cb",
   "metadata": {},
   "source": [
    "**Question:** Who follows this person?"
   ]
  },
  {
   "cell_type": "code",
   "execution_count": null,
   "id": "fc78b12e",
   "metadata": {
    "tags": []
   },
   "outputs": [],
   "source": [
    "\" \".join([str(author_id) for author_id in author.followers_ids()][:10])"
   ]
  },
  {
   "cell_type": "code",
   "execution_count": null,
   "id": "1fbf4ef5",
   "metadata": {
    "tags": []
   },
   "outputs": [],
   "source": [
    "author.followers()"
   ]
  },
  {
   "cell_type": "markdown",
   "id": "fab05f14",
   "metadata": {},
   "source": [
    "#### Advanced Searche/Queries\n",
    "\n",
    "https://developer.twitter.com/en/docs/twitter-api/v1/rules-and-filtering/search-operators"
   ]
  },
  {
   "cell_type": "markdown",
   "id": "a4bee8ad",
   "metadata": {},
   "source": [
    "##### No retweets"
   ]
  },
  {
   "cell_type": "markdown",
   "id": "9bed29d6",
   "metadata": {},
   "source": [
    "-filter:retweets"
   ]
  },
  {
   "cell_type": "code",
   "execution_count": null,
   "id": "c04637e6",
   "metadata": {},
   "outputs": [],
   "source": [
    "ten_no_retweets = tweepy.Cursor(api.search, \n",
    "                                q='Barnard College -filter:retweets', \n",
    "                                count=10)"
   ]
  },
  {
   "cell_type": "code",
   "execution_count": null,
   "id": "9f3a0784",
   "metadata": {},
   "outputs": [],
   "source": [
    "items = ten_no_retweets.items(10)\n",
    "items"
   ]
  },
  {
   "cell_type": "code",
   "execution_count": null,
   "id": "19eeb8fd",
   "metadata": {},
   "outputs": [],
   "source": [
    "for tweet in items:\n",
    "    print(tweet.text)"
   ]
  },
  {
   "cell_type": "code",
   "execution_count": null,
   "id": "4bc7b926",
   "metadata": {},
   "outputs": [],
   "source": [
    "type(item)"
   ]
  },
  {
   "cell_type": "code",
   "execution_count": null,
   "id": "2bf890a4",
   "metadata": {},
   "outputs": [],
   "source": [
    "all_tweets = []\n",
    "for tweet in ten_no_retweets:\n",
    "    all_tweets.append(tweet)"
   ]
  },
  {
   "cell_type": "code",
   "execution_count": null,
   "id": "d0bc6c56",
   "metadata": {
    "tags": []
   },
   "outputs": [],
   "source": [
    "tweet = all_tweets[0]\n"
   ]
  },
  {
   "cell_type": "markdown",
   "id": "9f5da5b9",
   "metadata": {},
   "source": [
    "##### Safe Tweets\n",
    "\n",
    "Tweets marked as potentially sensitive removed.\n",
    "\n",
    "-filter:safe"
   ]
  },
  {
   "cell_type": "code",
   "execution_count": null,
   "id": "8de32cc5",
   "metadata": {},
   "outputs": [],
   "source": [
    "safe_cursor = tweepy.Cursor(api.search, \n",
    "                                q='Barnard College -filter:safe', \n",
    "                                count=10)\n",
    "\n",
    "safe_tweets = safe_cursor.iterator.next()"
   ]
  },
  {
   "cell_type": "code",
   "execution_count": null,
   "id": "e8b5d8dd",
   "metadata": {},
   "outputs": [],
   "source": [
    "safe_tweets[0].text"
   ]
  },
  {
   "cell_type": "markdown",
   "id": "26387baf",
   "metadata": {},
   "source": [
    "### Users"
   ]
  },
  {
   "cell_type": "code",
   "execution_count": null,
   "id": "c59ce2dd",
   "metadata": {
    "tags": []
   },
   "outputs": [],
   "source": [
    "user = api.get_user(author.id)\n",
    "user"
   ]
  },
  {
   "cell_type": "code",
   "execution_count": null,
   "id": "dc212432",
   "metadata": {
    "tags": []
   },
   "outputs": [],
   "source": [
    "user_timeline = user.timeline()\n",
    "user_timeline"
   ]
  },
  {
   "cell_type": "code",
   "execution_count": null,
   "id": "1fdb7dc2",
   "metadata": {},
   "outputs": [],
   "source": [
    "len(user_timeline)"
   ]
  },
  {
   "cell_type": "code",
   "execution_count": null,
   "id": "87e32154",
   "metadata": {},
   "outputs": [],
   "source": [
    "status_cursor = tweepy.Cursor(api.user_timeline, screen_name=\"billybob\", count=200,tweet_mode='extended')\n",
    "status_list = status_cursor.iterator.next()"
   ]
  },
  {
   "cell_type": "code",
   "execution_count": null,
   "id": "cb581ada",
   "metadata": {},
   "outputs": [],
   "source": [
    "len(status_list)"
   ]
  },
  {
   "cell_type": "code",
   "execution_count": null,
   "id": "5c5880d8",
   "metadata": {},
   "outputs": [],
   "source": [
    "status_cursor = tweepy.Cursor(api.user_timeline, screen_name=\"potus\", count=200,tweet_mode='extended')\n",
    "status_list = status_cursor.iterator.next()"
   ]
  },
  {
   "cell_type": "code",
   "execution_count": null,
   "id": "e2fa46b4",
   "metadata": {},
   "outputs": [],
   "source": [
    "len(status_list)"
   ]
  },
  {
   "cell_type": "markdown",
   "id": "9affb369",
   "metadata": {},
   "source": [
    "### Trends in a certain location"
   ]
  },
  {
   "cell_type": "code",
   "execution_count": null,
   "id": "c4441f87",
   "metadata": {},
   "outputs": [],
   "source": [
    "nyc_trends = api.trends_place(id=2459115)\n",
    "len(nyc_trends[0])"
   ]
  },
  {
   "cell_type": "code",
   "execution_count": null,
   "id": "6a400c63",
   "metadata": {},
   "outputs": [],
   "source": [
    "nyc_trends[0].keys()"
   ]
  },
  {
   "cell_type": "code",
   "execution_count": null,
   "id": "f37da1ee",
   "metadata": {},
   "outputs": [],
   "source": [
    "len(nyc_trends[0]['trends'])"
   ]
  },
  {
   "cell_type": "code",
   "execution_count": null,
   "id": "1c0a0727",
   "metadata": {},
   "outputs": [],
   "source": [
    "nyc_trends[0]['trends'][6]"
   ]
  },
  {
   "cell_type": "markdown",
   "id": "321b919c",
   "metadata": {},
   "source": [
    "## Tweets from more than 7 days ago\n",
    "\n",
    ">  Note that the standard search API only serves data from the last week. If you need historical data older than seven days, check out the premium and enterprise search APIs.\n",
    "\n",
    "So we will often rely on a dataset of existing IDs.\n",
    "\n",
    "**Terms and Conditions**\n",
    "\n",
    ">The best place to get Twitter Content is directly from Twitter. Consequently, we restrict the redistribution of Twitter Content to third parties.  If you provide Twitter Content to third parties, including downloadable datasets or via an API, you may only distribute Tweet IDs, Direct Message IDs, and/or User IDs (except as described below). We also grant special permissions to academic researchers sharing Tweet IDs and User IDs for non-commercial research purposes.\n",
    "\n",
    "> In total, you may not distribute more than 1,500,000 Tweet IDs to any entity (inclusive of multiple individuals associated with a single entity) within any 30 day period unless you have received written permission from Twitter. In addition, all developers may provide up to 50,000 public Tweets Objects and/or User Objects to each person who uses your service on a daily basis if this is done via non-automated means (e.g., download of spreadsheets or PDFs).\n",
    "\n",
    "> Academic researchers are permitted to distribute an unlimited number of Tweet IDs and/or User IDs if they are doing so on behalf of an academic institution and for the sole purpose of non-commercial research. For example, you are permitted to share an unlimited number of Tweet IDs for the purpose of enabling peer review or validation of your research. If you have questions about whether your use case qualifies under this category please submit a request via the API Policy Support form.\n",
    "\n",
    "**TLDR:** Don't share tweets, only TweetIDs\n",
    "\n",
    "https://developer.twitter.com/en/developer-terms/agreement-and-policy\n",
    "\n",
    "Here is an example of Tweet Ids of Tweets that are related to COVID-19: https://github.com/echen102/COVID-19-TweetIDs"
   ]
  },
  {
   "cell_type": "markdown",
   "id": "457c9a4c",
   "metadata": {},
   "source": [
    "### Finding Tweets by ID"
   ]
  },
  {
   "cell_type": "markdown",
   "id": "e6aef672",
   "metadata": {
    "tags": []
   },
   "source": [
    "`api.get_status()` ([documentation](https://docs.tweepy.org/en/latest/api.html?highlight=get_status#tweepy.API.get_status)) allows us to get a tweet by the tweet's id"
   ]
  },
  {
   "cell_type": "code",
   "execution_count": null,
   "id": "1c5c4fab",
   "metadata": {
    "tags": []
   },
   "outputs": [],
   "source": [
    "tweet = api.get_status(1256013432622481408)\n",
    "tweet"
   ]
  },
  {
   "cell_type": "code",
   "execution_count": null,
   "id": "0a8a7c19",
   "metadata": {},
   "outputs": [],
   "source": [
    "tweet.created_at"
   ]
  },
  {
   "cell_type": "code",
   "execution_count": null,
   "id": "cfa5e347",
   "metadata": {},
   "outputs": [],
   "source": [
    "f\"twitter.com/{tweet.user.screen_name}/status/{tweet.id}\""
   ]
  },
  {
   "cell_type": "markdown",
   "id": "12d5f48a",
   "metadata": {},
   "source": [
    "## Checking rate limit status"
   ]
  },
  {
   "cell_type": "code",
   "execution_count": null,
   "id": "7ff77847",
   "metadata": {},
   "outputs": [],
   "source": [
    "status_dict = api.rate_limit_status()\n",
    "status_dict.keys()"
   ]
  },
  {
   "cell_type": "markdown",
   "id": "3f02c081",
   "metadata": {},
   "source": [
    "## Academic Access\n",
    "Twitter recently created an academic track for accessing the API that grants access to the entire API:\n",
    "https://developer.twitter.com/en/solutions/academic-research/products-for-researchers. It grants academics access to Twitter data going back to 2006\n",
    "\n",
    "Twitter [blog post](https://blog.twitter.com/developer/en_us/topics/tools/2021/enabling-the-future-of-academic-research-with-the-twitter-api.html)"
   ]
  },
  {
   "cell_type": "markdown",
   "id": "1d341514",
   "metadata": {},
   "source": [
    "## Analyze Tweets"
   ]
  },
  {
   "cell_type": "code",
   "execution_count": null,
   "id": "69a70829",
   "metadata": {},
   "outputs": [],
   "source": []
  },
  {
   "cell_type": "code",
   "execution_count": null,
   "id": "60a5894c",
   "metadata": {},
   "outputs": [],
   "source": [
    "!wc fetched_tweets.txt"
   ]
  },
  {
   "cell_type": "code",
   "execution_count": null,
   "id": "d11a3d8b",
   "metadata": {},
   "outputs": [],
   "source": [
    "[item for item in dir() if not item.startswith(\"_\")]"
   ]
  },
  {
   "cell_type": "code",
   "execution_count": null,
   "id": "a04bea95",
   "metadata": {},
   "outputs": [],
   "source": [
    "stream2file.disconnect()\n",
    "stream2file.running"
   ]
  },
  {
   "cell_type": "code",
   "execution_count": null,
   "id": "cb3741dd",
   "metadata": {},
   "outputs": [],
   "source": [
    "import pandas as pd"
   ]
  },
  {
   "cell_type": "code",
   "execution_count": null,
   "id": "beef64d4",
   "metadata": {},
   "outputs": [],
   "source": [
    "df = pd.read_json(\"fetched_tweets.txt\", lines=True)\n",
    "df"
   ]
  },
  {
   "cell_type": "code",
   "execution_count": null,
   "id": "3e19cce7",
   "metadata": {},
   "outputs": [],
   "source": [
    "df.keys()"
   ]
  },
  {
   "cell_type": "code",
   "execution_count": null,
   "id": "b2259b42",
   "metadata": {},
   "outputs": [],
   "source": [
    "df.shape"
   ]
  },
  {
   "cell_type": "code",
   "execution_count": null,
   "id": "3f3d1e77",
   "metadata": {},
   "outputs": [],
   "source": [
    "df = df[df['retweeted_status'].isna()]\n",
    "df.shape"
   ]
  },
  {
   "cell_type": "code",
   "execution_count": null,
   "id": "c8487817",
   "metadata": {},
   "outputs": [],
   "source": [
    "df['text'].shape"
   ]
  },
  {
   "cell_type": "markdown",
   "id": "e7b7f990",
   "metadata": {},
   "source": [
    "### Tokenize Tweets"
   ]
  },
  {
   "cell_type": "code",
   "execution_count": null,
   "id": "94caaece",
   "metadata": {},
   "outputs": [],
   "source": [
    "df['text'].iloc[1]"
   ]
  },
  {
   "cell_type": "code",
   "execution_count": null,
   "id": "7ea0298b",
   "metadata": {},
   "outputs": [],
   "source": [
    "nltk.word_tokenize(df['text'].iloc[1])"
   ]
  },
  {
   "cell_type": "code",
   "execution_count": null,
   "id": "979ac8d7",
   "metadata": {},
   "outputs": [],
   "source": [
    "twitter_tokenizer = nltk.tokenize.TweetTokenizer()\n",
    "twitter_tokenizer.tokenize(df['text'].iloc[1])"
   ]
  },
  {
   "cell_type": "code",
   "execution_count": null,
   "id": "facaef71",
   "metadata": {},
   "outputs": [],
   "source": [
    "twitter_tokenizer.strip_handles = True\n",
    "twitter_tokenizer.tokenize(df['text'].iloc[1])"
   ]
  },
  {
   "cell_type": "code",
   "execution_count": null,
   "id": "ccfa182e",
   "metadata": {},
   "outputs": [],
   "source": [
    "import nltk\n"
   ]
  },
  {
   "cell_type": "code",
   "execution_count": null,
   "id": "bfd49614",
   "metadata": {},
   "outputs": [],
   "source": [
    "nltk.FreqDist(nltk.word_tokenize(\" \".join(df['text']))"
   ]
  },
  {
   "cell_type": "code",
   "execution_count": null,
   "id": "44c30183",
   "metadata": {},
   "outputs": [],
   "source": [
    "nltk.FreqDist(\" \".join([\" \".join(sent) for sent in df['text'].str.lower().apply(nltk.word_tokenize)]).split())"
   ]
  },
  {
   "cell_type": "code",
   "execution_count": null,
   "id": "f9c54dc4",
   "metadata": {},
   "outputs": [],
   "source": [
    "df['text_tokenize'] = df['text'].apply(twitter_tokenizer)\n",
    "df['text_tokenize']"
   ]
  },
  {
   "cell_type": "code",
   "execution_count": null,
   "id": "ebef5f07",
   "metadata": {},
   "outputs": [],
   "source": []
  }
 ],
 "metadata": {
  "kernelspec": {
   "display_name": "Python 3",
   "language": "python",
   "name": "python3"
  },
  "language_info": {
   "codemirror_mode": {
    "name": "ipython",
    "version": 3
   },
   "file_extension": ".py",
   "mimetype": "text/x-python",
   "name": "python",
   "nbconvert_exporter": "python",
   "pygments_lexer": "ipython3",
   "version": "3.8.8"
  }
 },
 "nbformat": 4,
 "nbformat_minor": 5
}
