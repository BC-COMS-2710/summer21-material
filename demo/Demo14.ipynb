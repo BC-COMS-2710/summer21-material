{
 "cells": [
  {
   "cell_type": "markdown",
   "id": "e2ab9661",
   "metadata": {},
   "source": [
    "# Demo 14 - Reddit API"
   ]
  },
  {
   "cell_type": "code",
   "execution_count": 1,
   "id": "6c865881",
   "metadata": {},
   "outputs": [],
   "source": [
    "import numpy as np\n",
    "import pandas as pd"
   ]
  },
  {
   "cell_type": "markdown",
   "id": "479b82ec",
   "metadata": {},
   "source": [
    "## PSAW\n",
    "\n",
    "psaw is a python module that is a wrapper for the Pushshift API. It includes functionality for accessing publicly available Reddit submissions and comments. \n",
    "\n",
    "Code and examples can be found on [github](https://github.com/dmarx/psaw), documentation can be found [online](https://psaw.readthedocs.io/en/latest/#)"
   ]
  },
  {
   "cell_type": "markdown",
   "id": "a1e9d668",
   "metadata": {},
   "source": [
    "**Question:** How do we install psaw?\n",
    "\n",
    "<details>\n",
    "<summary>Solution</summary>\n",
    "   !pip install psaw\n",
    "\n",
    "</details>"
   ]
  },
  {
   "cell_type": "code",
   "execution_count": 5,
   "id": "4016fde2",
   "metadata": {},
   "outputs": [
    {
     "name": "stdout",
     "output_type": "stream",
     "text": [
      "Requirement already satisfied: psaw in /opt/conda/lib/python3.8/site-packages (0.1.0)\n",
      "Requirement already satisfied: requests in /opt/conda/lib/python3.8/site-packages (from psaw) (2.25.1)\n",
      "Requirement already satisfied: Click in /opt/conda/lib/python3.8/site-packages (from psaw) (7.1.2)\n",
      "Requirement already satisfied: chardet<5,>=3.0.2 in /opt/conda/lib/python3.8/site-packages (from requests->psaw) (4.0.0)\n",
      "Requirement already satisfied: urllib3<1.27,>=1.21.1 in /opt/conda/lib/python3.8/site-packages (from requests->psaw) (1.26.4)\n",
      "Requirement already satisfied: certifi>=2017.4.17 in /opt/conda/lib/python3.8/site-packages (from requests->psaw) (2020.12.5)\n",
      "Requirement already satisfied: idna<3,>=2.5 in /opt/conda/lib/python3.8/site-packages (from requests->psaw) (2.10)\n"
     ]
    }
   ],
   "source": [
    "!pip install psaw"
   ]
  },
  {
   "cell_type": "code",
   "execution_count": 4,
   "id": "085ecff0",
   "metadata": {},
   "outputs": [],
   "source": [
    "import psaw"
   ]
  },
  {
   "cell_type": "code",
   "execution_count": 6,
   "id": "f1fe4502",
   "metadata": {},
   "outputs": [],
   "source": [
    "from psaw import PushshiftAPI"
   ]
  },
  {
   "cell_type": "code",
   "execution_count": 7,
   "id": "cd5ccd92",
   "metadata": {},
   "outputs": [
    {
     "data": {
      "text/plain": [
       "<psaw.PushshiftAPI.PushshiftAPI at 0x7faf0b4e2ac0>"
      ]
     },
     "execution_count": 7,
     "metadata": {},
     "output_type": "execute_result"
    }
   ],
   "source": [
    "api = PushshiftAPI()\n",
    "api"
   ]
  },
  {
   "cell_type": "code",
   "execution_count": null,
   "id": "db346540",
   "metadata": {},
   "outputs": [],
   "source": [
    "api.search_comments()"
   ]
  },
  {
   "cell_type": "code",
   "execution_count": 46,
   "id": "1e23071a",
   "metadata": {},
   "outputs": [
    {
     "data": {
      "text/plain": [
       "<generator object PushshiftAPIMinimal._search at 0x7faf47cc7f90>"
      ]
     },
     "execution_count": 46,
     "metadata": {},
     "output_type": "execute_result"
    }
   ],
   "source": [
    "api_request_generator = api.search_submissions(subreddit='AMITheAsshole', size=25)\n",
    "api_request_generator"
   ]
  },
  {
   "cell_type": "code",
   "execution_count": 40,
   "id": "d309e868",
   "metadata": {},
   "outputs": [
    {
     "data": {
      "text/plain": [
       "generator"
      ]
     },
     "execution_count": 40,
     "metadata": {},
     "output_type": "execute_result"
    }
   ],
   "source": [
    "type(api_request_generator)"
   ]
  },
  {
   "cell_type": "markdown",
   "id": "078aa53a",
   "metadata": {},
   "source": [
    "### Python Generators Explained"
   ]
  },
  {
   "cell_type": "markdown",
   "id": "69119435",
   "metadata": {},
   "source": [
    "#### Iterable\n",
    "\n",
    "**Question** What is an `Iterable`?\n",
    "\n",
    "<details>\n",
    "<summary>Solution</summary>\n",
    "    An iterable is any object in Python which has an __iter__ or a __getitem__ method defined which returns an iterator or can take indexes. In short an iterable is any object which can provide us with an iterator.\n",
    "    \n",
    "    <br>\n",
    "    <br>\n",
    "    https://book.pythontips.com/en/latest/generators.html (Quotes below are from this site as well)\n",
    "\n",
    "</details>"
   ]
  },
  {
   "cell_type": "markdown",
   "id": "5747bc70",
   "metadata": {},
   "source": [
    "##### Examples of Iterable objects"
   ]
  },
  {
   "cell_type": "code",
   "execution_count": 10,
   "id": "08bee766",
   "metadata": {},
   "outputs": [
    {
     "data": {
      "text/plain": [
       "array([0, 1, 2, 3, 4, 5, 6, 7, 8, 9])"
      ]
     },
     "execution_count": 10,
     "metadata": {},
     "output_type": "execute_result"
    }
   ],
   "source": [
    "np_array = np.arange(10)\n",
    "np_array"
   ]
  },
  {
   "cell_type": "code",
   "execution_count": 11,
   "id": "6da9cd5a",
   "metadata": {},
   "outputs": [
    {
     "data": {
      "text/plain": [
       "True"
      ]
     },
     "execution_count": 11,
     "metadata": {},
     "output_type": "execute_result"
    }
   ],
   "source": [
    "\"__iter__\" in dir(np_array)"
   ]
  },
  {
   "cell_type": "code",
   "execution_count": 12,
   "id": "c194575b",
   "metadata": {
    "collapsed": true,
    "jupyter": {
     "outputs_hidden": true
    },
    "tags": []
   },
   "outputs": [
    {
     "name": "stdout",
     "output_type": "stream",
     "text": [
      "0\n",
      "1\n",
      "2\n",
      "3\n",
      "4\n",
      "5\n",
      "6\n",
      "7\n",
      "8\n",
      "9\n"
     ]
    }
   ],
   "source": [
    "for number in np_array:\n",
    "    print(number)"
   ]
  },
  {
   "cell_type": "code",
   "execution_count": null,
   "id": "bf130d0a",
   "metadata": {},
   "outputs": [],
   "source": [
    "\"__getitem__\" in dir(np_array)"
   ]
  },
  {
   "cell_type": "code",
   "execution_count": 13,
   "id": "415a2cc3",
   "metadata": {},
   "outputs": [
    {
     "data": {
      "text/plain": [
       "{'a': 0.24905767287063585,\n",
       " 'b': 0.8523255237584075,\n",
       " 'c': 0.7024317651265927,\n",
       " 'd': 0.2094614583863874,\n",
       " 'e': 0.7664520700602468,\n",
       " 'f': 0.29900172129809444,\n",
       " 'h': 0.07475177676595168,\n",
       " 'i': 0.4869221032738906}"
      ]
     },
     "execution_count": 13,
     "metadata": {},
     "output_type": "execute_result"
    }
   ],
   "source": [
    "dictionary = {}\n",
    "for key in 'abcdefhi':\n",
    "    dictionary[key] = np.random.rand()\n",
    "dictionary"
   ]
  },
  {
   "cell_type": "code",
   "execution_count": 17,
   "id": "249fc9f6",
   "metadata": {},
   "outputs": [
    {
     "data": {
      "text/plain": [
       "0"
      ]
     },
     "execution_count": 17,
     "metadata": {},
     "output_type": "execute_result"
    }
   ],
   "source": [
    "np_array[0]"
   ]
  },
  {
   "cell_type": "code",
   "execution_count": 18,
   "id": "234de91d",
   "metadata": {},
   "outputs": [
    {
     "data": {
      "text/plain": [
       "True"
      ]
     },
     "execution_count": 18,
     "metadata": {},
     "output_type": "execute_result"
    }
   ],
   "source": [
    "\"__iter__\" in dir(np_array)"
   ]
  },
  {
   "cell_type": "code",
   "execution_count": 19,
   "id": "06ec17f4",
   "metadata": {},
   "outputs": [
    {
     "data": {
      "text/plain": [
       "True"
      ]
     },
     "execution_count": 19,
     "metadata": {},
     "output_type": "execute_result"
    }
   ],
   "source": [
    "\"__getitem__\" in dir(np_array)"
   ]
  },
  {
   "cell_type": "markdown",
   "id": "53272a19",
   "metadata": {},
   "source": [
    "#### Iterator\n",
    "\n",
    "An iterator is any object in Python which has a next (Python2) or __next__ method defined. That’s it. That’s an iterator"
   ]
  },
  {
   "cell_type": "code",
   "execution_count": 22,
   "id": "f3e6124b",
   "metadata": {},
   "outputs": [
    {
     "data": {
      "text/plain": [
       "False"
      ]
     },
     "execution_count": 22,
     "metadata": {},
     "output_type": "execute_result"
    }
   ],
   "source": [
    "\"__next__\" in dir(np_array)"
   ]
  },
  {
   "cell_type": "code",
   "execution_count": 23,
   "id": "52b0aa6d",
   "metadata": {},
   "outputs": [
    {
     "data": {
      "text/plain": [
       "True"
      ]
     },
     "execution_count": 23,
     "metadata": {},
     "output_type": "execute_result"
    }
   ],
   "source": [
    "\"__next__\" in dir(iter(np_array))"
   ]
  },
  {
   "cell_type": "code",
   "execution_count": 25,
   "id": "9b3fef10",
   "metadata": {},
   "outputs": [
    {
     "data": {
      "text/plain": [
       "(<iterator at 0x7faf0b42d520>, array([0, 1, 2, 3, 4, 5, 6, 7, 8, 9]))"
      ]
     },
     "execution_count": 25,
     "metadata": {},
     "output_type": "execute_result"
    }
   ],
   "source": [
    "iterator = iter(np_array)\n",
    "iterator, np_array"
   ]
  },
  {
   "cell_type": "code",
   "execution_count": 26,
   "id": "49844a22",
   "metadata": {},
   "outputs": [
    {
     "data": {
      "text/plain": [
       "0"
      ]
     },
     "execution_count": 26,
     "metadata": {},
     "output_type": "execute_result"
    }
   ],
   "source": [
    "next(iterator)"
   ]
  },
  {
   "cell_type": "code",
   "execution_count": 27,
   "id": "0b916ef9",
   "metadata": {},
   "outputs": [
    {
     "data": {
      "text/plain": [
       "1"
      ]
     },
     "execution_count": 27,
     "metadata": {},
     "output_type": "execute_result"
    }
   ],
   "source": [
    "next(iterator)"
   ]
  },
  {
   "cell_type": "code",
   "execution_count": 28,
   "id": "b82fdedf",
   "metadata": {},
   "outputs": [
    {
     "data": {
      "text/plain": [
       "2"
      ]
     },
     "execution_count": 28,
     "metadata": {},
     "output_type": "execute_result"
    }
   ],
   "source": [
    "next(iterator)"
   ]
  },
  {
   "cell_type": "code",
   "execution_count": 29,
   "id": "52e7a22d",
   "metadata": {},
   "outputs": [
    {
     "data": {
      "text/plain": [
       "(<iterator at 0x7faf0b42d100>, array([0]))"
      ]
     },
     "execution_count": 29,
     "metadata": {},
     "output_type": "execute_result"
    }
   ],
   "source": [
    "iterator = iter(np_array[:1])\n",
    "iterator, np_array[:1]"
   ]
  },
  {
   "cell_type": "code",
   "execution_count": 30,
   "id": "9f776bc2",
   "metadata": {},
   "outputs": [
    {
     "data": {
      "text/plain": [
       "0"
      ]
     },
     "execution_count": 30,
     "metadata": {},
     "output_type": "execute_result"
    }
   ],
   "source": [
    "next(iterator)"
   ]
  },
  {
   "cell_type": "code",
   "execution_count": 31,
   "id": "7559cdc8",
   "metadata": {},
   "outputs": [
    {
     "ename": "StopIteration",
     "evalue": "",
     "output_type": "error",
     "traceback": [
      "\u001b[0;31m---------------------------------------------------------------------------\u001b[0m",
      "\u001b[0;31mStopIteration\u001b[0m                             Traceback (most recent call last)",
      "\u001b[0;32m<ipython-input-31-4ce711c44abc>\u001b[0m in \u001b[0;36m<module>\u001b[0;34m\u001b[0m\n\u001b[0;32m----> 1\u001b[0;31m \u001b[0mnext\u001b[0m\u001b[0;34m(\u001b[0m\u001b[0miterator\u001b[0m\u001b[0;34m)\u001b[0m\u001b[0;34m\u001b[0m\u001b[0;34m\u001b[0m\u001b[0m\n\u001b[0m",
      "\u001b[0;31mStopIteration\u001b[0m: "
     ]
    }
   ],
   "source": [
    "next(iterator)"
   ]
  },
  {
   "cell_type": "markdown",
   "id": "232d2068",
   "metadata": {},
   "source": [
    "The previous line throws an error because we are at the end of the iterator"
   ]
  },
  {
   "cell_type": "code",
   "execution_count": 32,
   "id": "25645ba8",
   "metadata": {},
   "outputs": [
    {
     "data": {
      "text/plain": [
       "(<iterator at 0x7faf0b42db20>, array([0, 1, 2, 3, 4, 5, 6, 7, 8, 9]))"
      ]
     },
     "execution_count": 32,
     "metadata": {},
     "output_type": "execute_result"
    }
   ],
   "source": [
    "iterator = iter(np_array)\n",
    "iterator, np_array"
   ]
  },
  {
   "cell_type": "code",
   "execution_count": 33,
   "id": "835f7c32",
   "metadata": {},
   "outputs": [
    {
     "name": "stdout",
     "output_type": "stream",
     "text": [
      "0\n",
      "1\n",
      "2\n",
      "3\n",
      "4\n",
      "5\n",
      "6\n",
      "7\n",
      "8\n",
      "9\n"
     ]
    }
   ],
   "source": [
    "for number in iterator:\n",
    "    print(number)"
   ]
  },
  {
   "cell_type": "code",
   "execution_count": 36,
   "id": "133c2b83",
   "metadata": {},
   "outputs": [],
   "source": [
    "for number in iterator:\n",
    "    print(number)"
   ]
  },
  {
   "cell_type": "code",
   "execution_count": 37,
   "id": "e2daf679",
   "metadata": {},
   "outputs": [
    {
     "ename": "StopIteration",
     "evalue": "",
     "output_type": "error",
     "traceback": [
      "\u001b[0;31m---------------------------------------------------------------------------\u001b[0m",
      "\u001b[0;31mStopIteration\u001b[0m                             Traceback (most recent call last)",
      "\u001b[0;32m<ipython-input-37-4ce711c44abc>\u001b[0m in \u001b[0;36m<module>\u001b[0;34m\u001b[0m\n\u001b[0;32m----> 1\u001b[0;31m \u001b[0mnext\u001b[0m\u001b[0;34m(\u001b[0m\u001b[0miterator\u001b[0m\u001b[0;34m)\u001b[0m\u001b[0;34m\u001b[0m\u001b[0;34m\u001b[0m\u001b[0m\n\u001b[0m",
      "\u001b[0;31mStopIteration\u001b[0m: "
     ]
    }
   ],
   "source": [
    "next(iterator)"
   ]
  },
  {
   "cell_type": "markdown",
   "id": "7efa5043",
   "metadata": {},
   "source": [
    "#### Iteration\n",
    "\n",
    "In simple words it is the process of taking an item from something e.g a list. When we use a loop to loop over something it is called iteration. It is the name given to the process itself. Now as we have a basic understanding of these terms let’s understand generators."
   ]
  },
  {
   "cell_type": "code",
   "execution_count": 20,
   "id": "0e6900e2",
   "metadata": {},
   "outputs": [
    {
     "name": "stdout",
     "output_type": "stream",
     "text": [
      "0\n",
      "1\n",
      "2\n",
      "3\n",
      "4\n",
      "5\n",
      "6\n",
      "7\n",
      "8\n",
      "9\n"
     ]
    }
   ],
   "source": [
    "for num in np_array:\n",
    "    print(num)"
   ]
  },
  {
   "cell_type": "code",
   "execution_count": null,
   "id": "558fb101",
   "metadata": {},
   "outputs": [],
   "source": [
    "for num in iterator:\n",
    "    print(num)"
   ]
  },
  {
   "cell_type": "code",
   "execution_count": 21,
   "id": "cbc283c6",
   "metadata": {},
   "outputs": [
    {
     "name": "stdout",
     "output_type": "stream",
     "text": [
      "0\n",
      "1\n",
      "2\n",
      "3\n",
      "4\n",
      "5\n",
      "6\n",
      "7\n",
      "8\n",
      "9\n"
     ]
    }
   ],
   "source": [
    "iterator = iter(np_array)\n",
    "iterator\n",
    "\n",
    "for num in iterator:\n",
    "    print(num)"
   ]
  },
  {
   "cell_type": "markdown",
   "id": "d9d1afeb",
   "metadata": {},
   "source": [
    "#### Generators\n",
    "\n",
    "Generators are iterators, but you can only iterate over them once. It’s because they do not store all the values in memory, they generate the values on the fly. You use them by iterating over them, either with a ‘for’ loop or by passing them to any function or construct that iterates. Most of the time generators are implemented as functions. However, they do not return a value, they yield it. Here is a simple example of a generator function:"
   ]
  },
  {
   "cell_type": "code",
   "execution_count": 38,
   "id": "78dd0eb6",
   "metadata": {},
   "outputs": [
    {
     "name": "stdout",
     "output_type": "stream",
     "text": [
      "0\n",
      "1\n",
      "2\n"
     ]
    },
    {
     "ename": "StopIteration",
     "evalue": "",
     "output_type": "error",
     "traceback": [
      "\u001b[0;31m---------------------------------------------------------------------------\u001b[0m",
      "\u001b[0;31mStopIteration\u001b[0m                             Traceback (most recent call last)",
      "\u001b[0;32m<ipython-input-38-6873fc47f7ed>\u001b[0m in \u001b[0;36m<module>\u001b[0;34m\u001b[0m\n\u001b[1;32m     10\u001b[0m \u001b[0mprint\u001b[0m\u001b[0;34m(\u001b[0m\u001b[0mnext\u001b[0m\u001b[0;34m(\u001b[0m\u001b[0mgen\u001b[0m\u001b[0;34m)\u001b[0m\u001b[0;34m)\u001b[0m\u001b[0;34m\u001b[0m\u001b[0;34m\u001b[0m\u001b[0m\n\u001b[1;32m     11\u001b[0m \u001b[0;31m# Output: 2\u001b[0m\u001b[0;34m\u001b[0m\u001b[0;34m\u001b[0m\u001b[0;34m\u001b[0m\u001b[0m\n\u001b[0;32m---> 12\u001b[0;31m \u001b[0mprint\u001b[0m\u001b[0;34m(\u001b[0m\u001b[0mnext\u001b[0m\u001b[0;34m(\u001b[0m\u001b[0mgen\u001b[0m\u001b[0;34m)\u001b[0m\u001b[0;34m)\u001b[0m\u001b[0;34m\u001b[0m\u001b[0;34m\u001b[0m\u001b[0m\n\u001b[0m\u001b[1;32m     13\u001b[0m \u001b[0;31m# Output: Traceback (most recent call last):\u001b[0m\u001b[0;34m\u001b[0m\u001b[0;34m\u001b[0m\u001b[0;34m\u001b[0m\u001b[0m\n\u001b[1;32m     14\u001b[0m \u001b[0;31m#            File \"<stdin>\", line 1, in <module>\u001b[0m\u001b[0;34m\u001b[0m\u001b[0;34m\u001b[0m\u001b[0;34m\u001b[0m\u001b[0m\n",
      "\u001b[0;31mStopIteration\u001b[0m: "
     ]
    }
   ],
   "source": [
    "def generator_function():\n",
    "    for i in range(3):\n",
    "        yield i\n",
    "\n",
    "gen = generator_function()\n",
    "print(next(gen))\n",
    "# Output: 0\n",
    "print(next(gen))\n",
    "# Output: 1\n",
    "print(next(gen))\n",
    "# Output: 2\n",
    "print(next(gen))\n",
    "# Output: Traceback (most recent call last):\n",
    "#            File \"<stdin>\", line 1, in <module>\n",
    "#         StopIteration"
   ]
  },
  {
   "cell_type": "markdown",
   "id": "4a51d5aa",
   "metadata": {},
   "source": [
    "We can use generators to convert functions into Iterators"
   ]
  },
  {
   "cell_type": "markdown",
   "id": "12f9888b",
   "metadata": {},
   "source": [
    "### Search Submissions"
   ]
  },
  {
   "cell_type": "code",
   "execution_count": 48,
   "id": "f53f6af0",
   "metadata": {},
   "outputs": [
    {
     "data": {
      "text/plain": [
       "(<generator object PushshiftAPIMinimal._search at 0x7faf47cc7f90>, generator)"
      ]
     },
     "execution_count": 48,
     "metadata": {},
     "output_type": "execute_result"
    }
   ],
   "source": [
    "api_request_generator, type(api_request_generator)"
   ]
  },
  {
   "cell_type": "code",
   "execution_count": 62,
   "id": "34de34b3",
   "metadata": {
    "collapsed": true,
    "jupyter": {
     "outputs_hidden": true
    },
    "tags": []
   },
   "outputs": [
    {
     "data": {
      "text/plain": [
       "\"This is my first time posting so I'm not exactly sure how this should go. Today my friends/roommates and I all went out to a bar to celebrate our senior year(full vaccinated obviously), two of my friends/roommates (L and G) decided to go home while my other roommate and I went with some friends to a different bar. After we got a drink we decided to go home and had a mutual friend who hadn't been drinking drive us home. As we were on our way home said roommate (U) got a phone call finding out a family member was in the hospital after some medical complications. My roommate was very upset in the car but they did not tell me what was happening I only pieced things together from what they were saying on the phone and they were crying.\\n\\nWe were almost home and I asked U if they wanted me to come to their room with them, but they said no they wanted to be alone. Our two other roommates (L and G) were upstairs watching TV and I said that our other roommate was drunk and just wanted to go to bed so we watched 20 minutes left of the movie and then went to bed. U's boyfriend came over and then eventually told our other roommates what happened and U's boyfriend said they thought I would have told them. Then L came upstairs to my room and called me a liar saying I should have told them what's going on so they could have had turned off their movie and comforted U. I told L it was none of my business to tell them, and L said that G was closest with U and wanted to be there to comfort her so I was a bad friend. As someone who has lost a parent, I thought that if our roommate wanted everyone to know they either would have told me to tell everyone or told everyone themselves, as I did not want to betray her trust especially since she didn’t choose to tell me what was happened.\\n\\nThen I texted G saying I'm sorry I didn't tell them and that I thought it wasn't my place to tell them, then G said it was weird I lied and that she wasn't mad it was just weird I lied saying U was drunk and just wanted to go to bed. We went back and forth about this as I kept saying I just did what I thought U wanted especially as someone who has been in that exact situation and didn't want anyone to know. But they claim that I purposefully lied to them and it was weird I hid it from them, or that I could have just said U was upset and left it at that so they would have turned off the movie. My defense is that if I had said U was upset they would have asked what is wrong or barged into her room even though she said she wanted to be alone. I really don't know who is right here because maybe my own past trauma is clouding my judgment and I am doing what I would have wanted instead of what is best for U.\\n\\nAlso in my defense, I did text U telling her I am there for her and if she wants us to come downstairs we could just all cuddle and hang out and not talk about it and she didn't respond. Also, U obviously texted her boyfriend so if she wanted G or L there she could have texted them too. AITA?\""
      ]
     },
     "execution_count": 62,
     "metadata": {},
     "output_type": "execute_result"
    }
   ],
   "source": [
    "submission = next(api_request_generator)\n",
    "submission.selftext"
   ]
  },
  {
   "cell_type": "code",
   "execution_count": null,
   "id": "3d25fd61",
   "metadata": {},
   "outputs": [],
   "source": []
  },
  {
   "cell_type": "markdown",
   "id": "0a6ceacd",
   "metadata": {},
   "source": [
    "Potential subbreddits for class:\n",
    "\n",
    "- https://www.reddit.com/r/columbia/\n",
    "- https://www.reddit.com/r/wallstreetbets/\n",
    "- https://www.reddit.com/r/datasets/\n",
    "- /r/AskReddit"
   ]
  },
  {
   "cell_type": "code",
   "execution_count": 67,
   "id": "87ba73a8",
   "metadata": {},
   "outputs": [
    {
     "data": {
      "text/plain": [
       "<generator object PushshiftAPIMinimal._search at 0x7faf47ef1970>"
      ]
     },
     "execution_count": 67,
     "metadata": {},
     "output_type": "execute_result"
    }
   ],
   "source": [
    "api_request_generator = api.search_submissions(subreddit='AmITheAsshole', score = \">2000\", size=5)\n",
    "api_request_generator"
   ]
  },
  {
   "cell_type": "code",
   "execution_count": 65,
   "id": "93db5bc2",
   "metadata": {
    "collapsed": true,
    "jupyter": {
     "outputs_hidden": true
    },
    "tags": []
   },
   "outputs": [
    {
     "ename": "KeyboardInterrupt",
     "evalue": "",
     "output_type": "error",
     "traceback": [
      "\u001b[0;31m---------------------------------------------------------------------------\u001b[0m",
      "\u001b[0;31mKeyboardInterrupt\u001b[0m                         Traceback (most recent call last)",
      "\u001b[0;32m<ipython-input-65-a394e82d5891>\u001b[0m in \u001b[0;36m<module>\u001b[0;34m\u001b[0m\n\u001b[0;32m----> 1\u001b[0;31m \u001b[0;34m[\u001b[0m\u001b[0msubmission\u001b[0m\u001b[0;34m.\u001b[0m\u001b[0md_\u001b[0m \u001b[0;32mfor\u001b[0m \u001b[0msubmission\u001b[0m \u001b[0;32min\u001b[0m \u001b[0mapi_request_generator\u001b[0m\u001b[0;34m]\u001b[0m\u001b[0;34m\u001b[0m\u001b[0;34m\u001b[0m\u001b[0m\n\u001b[0m",
      "\u001b[0;32m<ipython-input-65-a394e82d5891>\u001b[0m in \u001b[0;36m<listcomp>\u001b[0;34m(.0)\u001b[0m\n\u001b[0;32m----> 1\u001b[0;31m \u001b[0;34m[\u001b[0m\u001b[0msubmission\u001b[0m\u001b[0;34m.\u001b[0m\u001b[0md_\u001b[0m \u001b[0;32mfor\u001b[0m \u001b[0msubmission\u001b[0m \u001b[0;32min\u001b[0m \u001b[0mapi_request_generator\u001b[0m\u001b[0;34m]\u001b[0m\u001b[0;34m\u001b[0m\u001b[0;34m\u001b[0m\u001b[0m\n\u001b[0m",
      "\u001b[0;32m/opt/conda/lib/python3.8/site-packages/psaw/PushshiftAPI.py\u001b[0m in \u001b[0;36m_search\u001b[0;34m(self, kind, stop_condition, return_batch, dataset, **kwargs)\u001b[0m\n\u001b[1;32m    236\u001b[0m         \u001b[0mendpoint\u001b[0m \u001b[0;34m=\u001b[0m \u001b[0;34m'{dataset}/{kind}/search'\u001b[0m\u001b[0;34m.\u001b[0m\u001b[0mformat\u001b[0m\u001b[0;34m(\u001b[0m\u001b[0mdataset\u001b[0m\u001b[0;34m=\u001b[0m\u001b[0mdataset\u001b[0m\u001b[0;34m,\u001b[0m \u001b[0mkind\u001b[0m\u001b[0;34m=\u001b[0m\u001b[0mkind\u001b[0m\u001b[0;34m)\u001b[0m\u001b[0;34m\u001b[0m\u001b[0;34m\u001b[0m\u001b[0m\n\u001b[1;32m    237\u001b[0m         \u001b[0murl\u001b[0m \u001b[0;34m=\u001b[0m \u001b[0mself\u001b[0m\u001b[0;34m.\u001b[0m\u001b[0mbase_url\u001b[0m\u001b[0;34m.\u001b[0m\u001b[0mformat\u001b[0m\u001b[0;34m(\u001b[0m\u001b[0mendpoint\u001b[0m\u001b[0;34m=\u001b[0m\u001b[0mendpoint\u001b[0m\u001b[0;34m)\u001b[0m\u001b[0;34m\u001b[0m\u001b[0;34m\u001b[0m\u001b[0m\n\u001b[0;32m--> 238\u001b[0;31m         \u001b[0;32mfor\u001b[0m \u001b[0mresponse\u001b[0m \u001b[0;32min\u001b[0m \u001b[0mself\u001b[0m\u001b[0;34m.\u001b[0m\u001b[0m_handle_paging\u001b[0m\u001b[0;34m(\u001b[0m\u001b[0murl\u001b[0m\u001b[0;34m)\u001b[0m\u001b[0;34m:\u001b[0m\u001b[0;34m\u001b[0m\u001b[0;34m\u001b[0m\u001b[0m\n\u001b[0m\u001b[1;32m    239\u001b[0m             \u001b[0;32mif\u001b[0m \u001b[0;34m'aggs'\u001b[0m \u001b[0;32min\u001b[0m \u001b[0mresponse\u001b[0m\u001b[0;34m:\u001b[0m\u001b[0;34m\u001b[0m\u001b[0;34m\u001b[0m\u001b[0m\n\u001b[1;32m    240\u001b[0m                 \u001b[0;32myield\u001b[0m \u001b[0mresponse\u001b[0m\u001b[0;34m[\u001b[0m\u001b[0;34m'aggs'\u001b[0m\u001b[0;34m]\u001b[0m\u001b[0;34m\u001b[0m\u001b[0;34m\u001b[0m\u001b[0m\n",
      "\u001b[0;32m/opt/conda/lib/python3.8/site-packages/psaw/PushshiftAPI.py\u001b[0m in \u001b[0;36m_handle_paging\u001b[0;34m(self, url)\u001b[0m\n\u001b[1;32m    213\u001b[0m             \u001b[0mself\u001b[0m\u001b[0;34m.\u001b[0m\u001b[0m_add_nec_args\u001b[0m\u001b[0;34m(\u001b[0m\u001b[0mself\u001b[0m\u001b[0;34m.\u001b[0m\u001b[0mpayload\u001b[0m\u001b[0;34m)\u001b[0m\u001b[0;34m\u001b[0m\u001b[0;34m\u001b[0m\u001b[0m\n\u001b[1;32m    214\u001b[0m \u001b[0;34m\u001b[0m\u001b[0m\n\u001b[0;32m--> 215\u001b[0;31m             \u001b[0mdata\u001b[0m \u001b[0;34m=\u001b[0m \u001b[0mself\u001b[0m\u001b[0;34m.\u001b[0m\u001b[0m_get\u001b[0m\u001b[0;34m(\u001b[0m\u001b[0murl\u001b[0m\u001b[0;34m,\u001b[0m \u001b[0mself\u001b[0m\u001b[0;34m.\u001b[0m\u001b[0mpayload\u001b[0m\u001b[0;34m)\u001b[0m\u001b[0;34m\u001b[0m\u001b[0;34m\u001b[0m\u001b[0m\n\u001b[0m\u001b[1;32m    216\u001b[0m             \u001b[0;32myield\u001b[0m \u001b[0mdata\u001b[0m\u001b[0;34m\u001b[0m\u001b[0;34m\u001b[0m\u001b[0m\n\u001b[1;32m    217\u001b[0m             \u001b[0;32mif\u001b[0m \u001b[0mlimit\u001b[0m \u001b[0;32mis\u001b[0m \u001b[0;32mnot\u001b[0m \u001b[0;32mNone\u001b[0m\u001b[0;34m:\u001b[0m\u001b[0;34m\u001b[0m\u001b[0;34m\u001b[0m\u001b[0m\n",
      "\u001b[0;32m/opt/conda/lib/python3.8/site-packages/psaw/PushshiftAPI.py\u001b[0m in \u001b[0;36m_get\u001b[0;34m(self, url, payload)\u001b[0m\n\u001b[1;32m    182\u001b[0m             \u001b[0mi\u001b[0m\u001b[0;34m+=\u001b[0m\u001b[0;36m1\u001b[0m\u001b[0;34m\u001b[0m\u001b[0;34m\u001b[0m\u001b[0m\n\u001b[1;32m    183\u001b[0m             \u001b[0;32mtry\u001b[0m\u001b[0;34m:\u001b[0m\u001b[0;34m\u001b[0m\u001b[0;34m\u001b[0m\u001b[0m\n\u001b[0;32m--> 184\u001b[0;31m                 \u001b[0mresponse\u001b[0m \u001b[0;34m=\u001b[0m \u001b[0mrequests\u001b[0m\u001b[0;34m.\u001b[0m\u001b[0mget\u001b[0m\u001b[0;34m(\u001b[0m\u001b[0murl\u001b[0m\u001b[0;34m,\u001b[0m \u001b[0mparams\u001b[0m\u001b[0;34m=\u001b[0m\u001b[0mpayload\u001b[0m\u001b[0;34m,\u001b[0m \u001b[0mproxies\u001b[0m\u001b[0;34m=\u001b[0m\u001b[0mself\u001b[0m\u001b[0;34m.\u001b[0m\u001b[0mproxies\u001b[0m\u001b[0;34m)\u001b[0m\u001b[0;34m\u001b[0m\u001b[0;34m\u001b[0m\u001b[0m\n\u001b[0m\u001b[1;32m    185\u001b[0m                 \u001b[0mlog\u001b[0m\u001b[0;34m.\u001b[0m\u001b[0minfo\u001b[0m\u001b[0;34m(\u001b[0m\u001b[0mresponse\u001b[0m\u001b[0;34m.\u001b[0m\u001b[0murl\u001b[0m\u001b[0;34m)\u001b[0m\u001b[0;34m\u001b[0m\u001b[0;34m\u001b[0m\u001b[0m\n\u001b[1;32m    186\u001b[0m                 \u001b[0mlog\u001b[0m\u001b[0;34m.\u001b[0m\u001b[0mdebug\u001b[0m\u001b[0;34m(\u001b[0m\u001b[0;34m'Response status code: %s'\u001b[0m \u001b[0;34m%\u001b[0m \u001b[0mresponse\u001b[0m\u001b[0;34m.\u001b[0m\u001b[0mstatus_code\u001b[0m\u001b[0;34m)\u001b[0m\u001b[0;34m\u001b[0m\u001b[0;34m\u001b[0m\u001b[0m\n",
      "\u001b[0;32m/opt/conda/lib/python3.8/site-packages/requests/api.py\u001b[0m in \u001b[0;36mget\u001b[0;34m(url, params, **kwargs)\u001b[0m\n\u001b[1;32m     74\u001b[0m \u001b[0;34m\u001b[0m\u001b[0m\n\u001b[1;32m     75\u001b[0m     \u001b[0mkwargs\u001b[0m\u001b[0;34m.\u001b[0m\u001b[0msetdefault\u001b[0m\u001b[0;34m(\u001b[0m\u001b[0;34m'allow_redirects'\u001b[0m\u001b[0;34m,\u001b[0m \u001b[0;32mTrue\u001b[0m\u001b[0;34m)\u001b[0m\u001b[0;34m\u001b[0m\u001b[0;34m\u001b[0m\u001b[0m\n\u001b[0;32m---> 76\u001b[0;31m     \u001b[0;32mreturn\u001b[0m \u001b[0mrequest\u001b[0m\u001b[0;34m(\u001b[0m\u001b[0;34m'get'\u001b[0m\u001b[0;34m,\u001b[0m \u001b[0murl\u001b[0m\u001b[0;34m,\u001b[0m \u001b[0mparams\u001b[0m\u001b[0;34m=\u001b[0m\u001b[0mparams\u001b[0m\u001b[0;34m,\u001b[0m \u001b[0;34m**\u001b[0m\u001b[0mkwargs\u001b[0m\u001b[0;34m)\u001b[0m\u001b[0;34m\u001b[0m\u001b[0;34m\u001b[0m\u001b[0m\n\u001b[0m\u001b[1;32m     77\u001b[0m \u001b[0;34m\u001b[0m\u001b[0m\n\u001b[1;32m     78\u001b[0m \u001b[0;34m\u001b[0m\u001b[0m\n",
      "\u001b[0;32m/opt/conda/lib/python3.8/site-packages/requests/api.py\u001b[0m in \u001b[0;36mrequest\u001b[0;34m(method, url, **kwargs)\u001b[0m\n\u001b[1;32m     59\u001b[0m     \u001b[0;31m# cases, and look like a memory leak in others.\u001b[0m\u001b[0;34m\u001b[0m\u001b[0;34m\u001b[0m\u001b[0;34m\u001b[0m\u001b[0m\n\u001b[1;32m     60\u001b[0m     \u001b[0;32mwith\u001b[0m \u001b[0msessions\u001b[0m\u001b[0;34m.\u001b[0m\u001b[0mSession\u001b[0m\u001b[0;34m(\u001b[0m\u001b[0;34m)\u001b[0m \u001b[0;32mas\u001b[0m \u001b[0msession\u001b[0m\u001b[0;34m:\u001b[0m\u001b[0;34m\u001b[0m\u001b[0;34m\u001b[0m\u001b[0m\n\u001b[0;32m---> 61\u001b[0;31m         \u001b[0;32mreturn\u001b[0m \u001b[0msession\u001b[0m\u001b[0;34m.\u001b[0m\u001b[0mrequest\u001b[0m\u001b[0;34m(\u001b[0m\u001b[0mmethod\u001b[0m\u001b[0;34m=\u001b[0m\u001b[0mmethod\u001b[0m\u001b[0;34m,\u001b[0m \u001b[0murl\u001b[0m\u001b[0;34m=\u001b[0m\u001b[0murl\u001b[0m\u001b[0;34m,\u001b[0m \u001b[0;34m**\u001b[0m\u001b[0mkwargs\u001b[0m\u001b[0;34m)\u001b[0m\u001b[0;34m\u001b[0m\u001b[0;34m\u001b[0m\u001b[0m\n\u001b[0m\u001b[1;32m     62\u001b[0m \u001b[0;34m\u001b[0m\u001b[0m\n\u001b[1;32m     63\u001b[0m \u001b[0;34m\u001b[0m\u001b[0m\n",
      "\u001b[0;32m/opt/conda/lib/python3.8/site-packages/requests/sessions.py\u001b[0m in \u001b[0;36mrequest\u001b[0;34m(self, method, url, params, data, headers, cookies, files, auth, timeout, allow_redirects, proxies, hooks, stream, verify, cert, json)\u001b[0m\n\u001b[1;32m    540\u001b[0m         }\n\u001b[1;32m    541\u001b[0m         \u001b[0msend_kwargs\u001b[0m\u001b[0;34m.\u001b[0m\u001b[0mupdate\u001b[0m\u001b[0;34m(\u001b[0m\u001b[0msettings\u001b[0m\u001b[0;34m)\u001b[0m\u001b[0;34m\u001b[0m\u001b[0;34m\u001b[0m\u001b[0m\n\u001b[0;32m--> 542\u001b[0;31m         \u001b[0mresp\u001b[0m \u001b[0;34m=\u001b[0m \u001b[0mself\u001b[0m\u001b[0;34m.\u001b[0m\u001b[0msend\u001b[0m\u001b[0;34m(\u001b[0m\u001b[0mprep\u001b[0m\u001b[0;34m,\u001b[0m \u001b[0;34m**\u001b[0m\u001b[0msend_kwargs\u001b[0m\u001b[0;34m)\u001b[0m\u001b[0;34m\u001b[0m\u001b[0;34m\u001b[0m\u001b[0m\n\u001b[0m\u001b[1;32m    543\u001b[0m \u001b[0;34m\u001b[0m\u001b[0m\n\u001b[1;32m    544\u001b[0m         \u001b[0;32mreturn\u001b[0m \u001b[0mresp\u001b[0m\u001b[0;34m\u001b[0m\u001b[0;34m\u001b[0m\u001b[0m\n",
      "\u001b[0;32m/opt/conda/lib/python3.8/site-packages/requests/sessions.py\u001b[0m in \u001b[0;36msend\u001b[0;34m(self, request, **kwargs)\u001b[0m\n\u001b[1;32m    695\u001b[0m \u001b[0;34m\u001b[0m\u001b[0m\n\u001b[1;32m    696\u001b[0m         \u001b[0;32mif\u001b[0m \u001b[0;32mnot\u001b[0m \u001b[0mstream\u001b[0m\u001b[0;34m:\u001b[0m\u001b[0;34m\u001b[0m\u001b[0;34m\u001b[0m\u001b[0m\n\u001b[0;32m--> 697\u001b[0;31m             \u001b[0mr\u001b[0m\u001b[0;34m.\u001b[0m\u001b[0mcontent\u001b[0m\u001b[0;34m\u001b[0m\u001b[0;34m\u001b[0m\u001b[0m\n\u001b[0m\u001b[1;32m    698\u001b[0m \u001b[0;34m\u001b[0m\u001b[0m\n\u001b[1;32m    699\u001b[0m         \u001b[0;32mreturn\u001b[0m \u001b[0mr\u001b[0m\u001b[0;34m\u001b[0m\u001b[0;34m\u001b[0m\u001b[0m\n",
      "\u001b[0;32m/opt/conda/lib/python3.8/site-packages/requests/models.py\u001b[0m in \u001b[0;36mcontent\u001b[0;34m(self)\u001b[0m\n\u001b[1;32m    829\u001b[0m                 \u001b[0mself\u001b[0m\u001b[0;34m.\u001b[0m\u001b[0m_content\u001b[0m \u001b[0;34m=\u001b[0m \u001b[0;32mNone\u001b[0m\u001b[0;34m\u001b[0m\u001b[0;34m\u001b[0m\u001b[0m\n\u001b[1;32m    830\u001b[0m             \u001b[0;32melse\u001b[0m\u001b[0;34m:\u001b[0m\u001b[0;34m\u001b[0m\u001b[0;34m\u001b[0m\u001b[0m\n\u001b[0;32m--> 831\u001b[0;31m                 \u001b[0mself\u001b[0m\u001b[0;34m.\u001b[0m\u001b[0m_content\u001b[0m \u001b[0;34m=\u001b[0m \u001b[0;34mb''\u001b[0m\u001b[0;34m.\u001b[0m\u001b[0mjoin\u001b[0m\u001b[0;34m(\u001b[0m\u001b[0mself\u001b[0m\u001b[0;34m.\u001b[0m\u001b[0miter_content\u001b[0m\u001b[0;34m(\u001b[0m\u001b[0mCONTENT_CHUNK_SIZE\u001b[0m\u001b[0;34m)\u001b[0m\u001b[0;34m)\u001b[0m \u001b[0;32mor\u001b[0m \u001b[0;34mb''\u001b[0m\u001b[0;34m\u001b[0m\u001b[0;34m\u001b[0m\u001b[0m\n\u001b[0m\u001b[1;32m    832\u001b[0m \u001b[0;34m\u001b[0m\u001b[0m\n\u001b[1;32m    833\u001b[0m         \u001b[0mself\u001b[0m\u001b[0;34m.\u001b[0m\u001b[0m_content_consumed\u001b[0m \u001b[0;34m=\u001b[0m \u001b[0;32mTrue\u001b[0m\u001b[0;34m\u001b[0m\u001b[0;34m\u001b[0m\u001b[0m\n",
      "\u001b[0;32m/opt/conda/lib/python3.8/site-packages/requests/models.py\u001b[0m in \u001b[0;36mgenerate\u001b[0;34m()\u001b[0m\n\u001b[1;32m    751\u001b[0m             \u001b[0;32mif\u001b[0m \u001b[0mhasattr\u001b[0m\u001b[0;34m(\u001b[0m\u001b[0mself\u001b[0m\u001b[0;34m.\u001b[0m\u001b[0mraw\u001b[0m\u001b[0;34m,\u001b[0m \u001b[0;34m'stream'\u001b[0m\u001b[0;34m)\u001b[0m\u001b[0;34m:\u001b[0m\u001b[0;34m\u001b[0m\u001b[0;34m\u001b[0m\u001b[0m\n\u001b[1;32m    752\u001b[0m                 \u001b[0;32mtry\u001b[0m\u001b[0;34m:\u001b[0m\u001b[0;34m\u001b[0m\u001b[0;34m\u001b[0m\u001b[0m\n\u001b[0;32m--> 753\u001b[0;31m                     \u001b[0;32mfor\u001b[0m \u001b[0mchunk\u001b[0m \u001b[0;32min\u001b[0m \u001b[0mself\u001b[0m\u001b[0;34m.\u001b[0m\u001b[0mraw\u001b[0m\u001b[0;34m.\u001b[0m\u001b[0mstream\u001b[0m\u001b[0;34m(\u001b[0m\u001b[0mchunk_size\u001b[0m\u001b[0;34m,\u001b[0m \u001b[0mdecode_content\u001b[0m\u001b[0;34m=\u001b[0m\u001b[0;32mTrue\u001b[0m\u001b[0;34m)\u001b[0m\u001b[0;34m:\u001b[0m\u001b[0;34m\u001b[0m\u001b[0;34m\u001b[0m\u001b[0m\n\u001b[0m\u001b[1;32m    754\u001b[0m                         \u001b[0;32myield\u001b[0m \u001b[0mchunk\u001b[0m\u001b[0;34m\u001b[0m\u001b[0;34m\u001b[0m\u001b[0m\n\u001b[1;32m    755\u001b[0m                 \u001b[0;32mexcept\u001b[0m \u001b[0mProtocolError\u001b[0m \u001b[0;32mas\u001b[0m \u001b[0me\u001b[0m\u001b[0;34m:\u001b[0m\u001b[0;34m\u001b[0m\u001b[0;34m\u001b[0m\u001b[0m\n",
      "\u001b[0;32m/opt/conda/lib/python3.8/site-packages/urllib3/response.py\u001b[0m in \u001b[0;36mstream\u001b[0;34m(self, amt, decode_content)\u001b[0m\n\u001b[1;32m    570\u001b[0m         \"\"\"\n\u001b[1;32m    571\u001b[0m         \u001b[0;32mif\u001b[0m \u001b[0mself\u001b[0m\u001b[0;34m.\u001b[0m\u001b[0mchunked\u001b[0m \u001b[0;32mand\u001b[0m \u001b[0mself\u001b[0m\u001b[0;34m.\u001b[0m\u001b[0msupports_chunked_reads\u001b[0m\u001b[0;34m(\u001b[0m\u001b[0;34m)\u001b[0m\u001b[0;34m:\u001b[0m\u001b[0;34m\u001b[0m\u001b[0;34m\u001b[0m\u001b[0m\n\u001b[0;32m--> 572\u001b[0;31m             \u001b[0;32mfor\u001b[0m \u001b[0mline\u001b[0m \u001b[0;32min\u001b[0m \u001b[0mself\u001b[0m\u001b[0;34m.\u001b[0m\u001b[0mread_chunked\u001b[0m\u001b[0;34m(\u001b[0m\u001b[0mamt\u001b[0m\u001b[0;34m,\u001b[0m \u001b[0mdecode_content\u001b[0m\u001b[0;34m=\u001b[0m\u001b[0mdecode_content\u001b[0m\u001b[0;34m)\u001b[0m\u001b[0;34m:\u001b[0m\u001b[0;34m\u001b[0m\u001b[0;34m\u001b[0m\u001b[0m\n\u001b[0m\u001b[1;32m    573\u001b[0m                 \u001b[0;32myield\u001b[0m \u001b[0mline\u001b[0m\u001b[0;34m\u001b[0m\u001b[0;34m\u001b[0m\u001b[0m\n\u001b[1;32m    574\u001b[0m         \u001b[0;32melse\u001b[0m\u001b[0;34m:\u001b[0m\u001b[0;34m\u001b[0m\u001b[0;34m\u001b[0m\u001b[0m\n",
      "\u001b[0;32m/opt/conda/lib/python3.8/site-packages/urllib3/response.py\u001b[0m in \u001b[0;36mread_chunked\u001b[0;34m(self, amt, decode_content)\u001b[0m\n\u001b[1;32m    762\u001b[0m \u001b[0;34m\u001b[0m\u001b[0m\n\u001b[1;32m    763\u001b[0m             \u001b[0;32mwhile\u001b[0m \u001b[0;32mTrue\u001b[0m\u001b[0;34m:\u001b[0m\u001b[0;34m\u001b[0m\u001b[0;34m\u001b[0m\u001b[0m\n\u001b[0;32m--> 764\u001b[0;31m                 \u001b[0mself\u001b[0m\u001b[0;34m.\u001b[0m\u001b[0m_update_chunk_length\u001b[0m\u001b[0;34m(\u001b[0m\u001b[0;34m)\u001b[0m\u001b[0;34m\u001b[0m\u001b[0;34m\u001b[0m\u001b[0m\n\u001b[0m\u001b[1;32m    765\u001b[0m                 \u001b[0;32mif\u001b[0m \u001b[0mself\u001b[0m\u001b[0;34m.\u001b[0m\u001b[0mchunk_left\u001b[0m \u001b[0;34m==\u001b[0m \u001b[0;36m0\u001b[0m\u001b[0;34m:\u001b[0m\u001b[0;34m\u001b[0m\u001b[0;34m\u001b[0m\u001b[0m\n\u001b[1;32m    766\u001b[0m                     \u001b[0;32mbreak\u001b[0m\u001b[0;34m\u001b[0m\u001b[0;34m\u001b[0m\u001b[0m\n",
      "\u001b[0;32m/opt/conda/lib/python3.8/site-packages/urllib3/response.py\u001b[0m in \u001b[0;36m_update_chunk_length\u001b[0;34m(self)\u001b[0m\n\u001b[1;32m    692\u001b[0m         \u001b[0;32mif\u001b[0m \u001b[0mself\u001b[0m\u001b[0;34m.\u001b[0m\u001b[0mchunk_left\u001b[0m \u001b[0;32mis\u001b[0m \u001b[0;32mnot\u001b[0m \u001b[0;32mNone\u001b[0m\u001b[0;34m:\u001b[0m\u001b[0;34m\u001b[0m\u001b[0;34m\u001b[0m\u001b[0m\n\u001b[1;32m    693\u001b[0m             \u001b[0;32mreturn\u001b[0m\u001b[0;34m\u001b[0m\u001b[0;34m\u001b[0m\u001b[0m\n\u001b[0;32m--> 694\u001b[0;31m         \u001b[0mline\u001b[0m \u001b[0;34m=\u001b[0m \u001b[0mself\u001b[0m\u001b[0;34m.\u001b[0m\u001b[0m_fp\u001b[0m\u001b[0;34m.\u001b[0m\u001b[0mfp\u001b[0m\u001b[0;34m.\u001b[0m\u001b[0mreadline\u001b[0m\u001b[0;34m(\u001b[0m\u001b[0;34m)\u001b[0m\u001b[0;34m\u001b[0m\u001b[0;34m\u001b[0m\u001b[0m\n\u001b[0m\u001b[1;32m    695\u001b[0m         \u001b[0mline\u001b[0m \u001b[0;34m=\u001b[0m \u001b[0mline\u001b[0m\u001b[0;34m.\u001b[0m\u001b[0msplit\u001b[0m\u001b[0;34m(\u001b[0m\u001b[0;34mb\";\"\u001b[0m\u001b[0;34m,\u001b[0m \u001b[0;36m1\u001b[0m\u001b[0;34m)\u001b[0m\u001b[0;34m[\u001b[0m\u001b[0;36m0\u001b[0m\u001b[0;34m]\u001b[0m\u001b[0;34m\u001b[0m\u001b[0;34m\u001b[0m\u001b[0m\n\u001b[1;32m    696\u001b[0m         \u001b[0;32mtry\u001b[0m\u001b[0;34m:\u001b[0m\u001b[0;34m\u001b[0m\u001b[0;34m\u001b[0m\u001b[0m\n",
      "\u001b[0;32m/opt/conda/lib/python3.8/socket.py\u001b[0m in \u001b[0;36mreadinto\u001b[0;34m(self, b)\u001b[0m\n\u001b[1;32m    667\u001b[0m         \u001b[0;32mwhile\u001b[0m \u001b[0;32mTrue\u001b[0m\u001b[0;34m:\u001b[0m\u001b[0;34m\u001b[0m\u001b[0;34m\u001b[0m\u001b[0m\n\u001b[1;32m    668\u001b[0m             \u001b[0;32mtry\u001b[0m\u001b[0;34m:\u001b[0m\u001b[0;34m\u001b[0m\u001b[0;34m\u001b[0m\u001b[0m\n\u001b[0;32m--> 669\u001b[0;31m                 \u001b[0;32mreturn\u001b[0m \u001b[0mself\u001b[0m\u001b[0;34m.\u001b[0m\u001b[0m_sock\u001b[0m\u001b[0;34m.\u001b[0m\u001b[0mrecv_into\u001b[0m\u001b[0;34m(\u001b[0m\u001b[0mb\u001b[0m\u001b[0;34m)\u001b[0m\u001b[0;34m\u001b[0m\u001b[0;34m\u001b[0m\u001b[0m\n\u001b[0m\u001b[1;32m    670\u001b[0m             \u001b[0;32mexcept\u001b[0m \u001b[0mtimeout\u001b[0m\u001b[0;34m:\u001b[0m\u001b[0;34m\u001b[0m\u001b[0;34m\u001b[0m\u001b[0m\n\u001b[1;32m    671\u001b[0m                 \u001b[0mself\u001b[0m\u001b[0;34m.\u001b[0m\u001b[0m_timeout_occurred\u001b[0m \u001b[0;34m=\u001b[0m \u001b[0;32mTrue\u001b[0m\u001b[0;34m\u001b[0m\u001b[0;34m\u001b[0m\u001b[0m\n",
      "\u001b[0;32m/opt/conda/lib/python3.8/ssl.py\u001b[0m in \u001b[0;36mrecv_into\u001b[0;34m(self, buffer, nbytes, flags)\u001b[0m\n\u001b[1;32m   1239\u001b[0m                   \u001b[0;34m\"non-zero flags not allowed in calls to recv_into() on %s\"\u001b[0m \u001b[0;34m%\u001b[0m\u001b[0;34m\u001b[0m\u001b[0;34m\u001b[0m\u001b[0m\n\u001b[1;32m   1240\u001b[0m                   self.__class__)\n\u001b[0;32m-> 1241\u001b[0;31m             \u001b[0;32mreturn\u001b[0m \u001b[0mself\u001b[0m\u001b[0;34m.\u001b[0m\u001b[0mread\u001b[0m\u001b[0;34m(\u001b[0m\u001b[0mnbytes\u001b[0m\u001b[0;34m,\u001b[0m \u001b[0mbuffer\u001b[0m\u001b[0;34m)\u001b[0m\u001b[0;34m\u001b[0m\u001b[0;34m\u001b[0m\u001b[0m\n\u001b[0m\u001b[1;32m   1242\u001b[0m         \u001b[0;32melse\u001b[0m\u001b[0;34m:\u001b[0m\u001b[0;34m\u001b[0m\u001b[0;34m\u001b[0m\u001b[0m\n\u001b[1;32m   1243\u001b[0m             \u001b[0;32mreturn\u001b[0m \u001b[0msuper\u001b[0m\u001b[0;34m(\u001b[0m\u001b[0;34m)\u001b[0m\u001b[0;34m.\u001b[0m\u001b[0mrecv_into\u001b[0m\u001b[0;34m(\u001b[0m\u001b[0mbuffer\u001b[0m\u001b[0;34m,\u001b[0m \u001b[0mnbytes\u001b[0m\u001b[0;34m,\u001b[0m \u001b[0mflags\u001b[0m\u001b[0;34m)\u001b[0m\u001b[0;34m\u001b[0m\u001b[0;34m\u001b[0m\u001b[0m\n",
      "\u001b[0;32m/opt/conda/lib/python3.8/ssl.py\u001b[0m in \u001b[0;36mread\u001b[0;34m(self, len, buffer)\u001b[0m\n\u001b[1;32m   1097\u001b[0m         \u001b[0;32mtry\u001b[0m\u001b[0;34m:\u001b[0m\u001b[0;34m\u001b[0m\u001b[0;34m\u001b[0m\u001b[0m\n\u001b[1;32m   1098\u001b[0m             \u001b[0;32mif\u001b[0m \u001b[0mbuffer\u001b[0m \u001b[0;32mis\u001b[0m \u001b[0;32mnot\u001b[0m \u001b[0;32mNone\u001b[0m\u001b[0;34m:\u001b[0m\u001b[0;34m\u001b[0m\u001b[0;34m\u001b[0m\u001b[0m\n\u001b[0;32m-> 1099\u001b[0;31m                 \u001b[0;32mreturn\u001b[0m \u001b[0mself\u001b[0m\u001b[0;34m.\u001b[0m\u001b[0m_sslobj\u001b[0m\u001b[0;34m.\u001b[0m\u001b[0mread\u001b[0m\u001b[0;34m(\u001b[0m\u001b[0mlen\u001b[0m\u001b[0;34m,\u001b[0m \u001b[0mbuffer\u001b[0m\u001b[0;34m)\u001b[0m\u001b[0;34m\u001b[0m\u001b[0;34m\u001b[0m\u001b[0m\n\u001b[0m\u001b[1;32m   1100\u001b[0m             \u001b[0;32melse\u001b[0m\u001b[0;34m:\u001b[0m\u001b[0;34m\u001b[0m\u001b[0;34m\u001b[0m\u001b[0m\n\u001b[1;32m   1101\u001b[0m                 \u001b[0;32mreturn\u001b[0m \u001b[0mself\u001b[0m\u001b[0;34m.\u001b[0m\u001b[0m_sslobj\u001b[0m\u001b[0;34m.\u001b[0m\u001b[0mread\u001b[0m\u001b[0;34m(\u001b[0m\u001b[0mlen\u001b[0m\u001b[0;34m)\u001b[0m\u001b[0;34m\u001b[0m\u001b[0;34m\u001b[0m\u001b[0m\n",
      "\u001b[0;31mKeyboardInterrupt\u001b[0m: "
     ]
    }
   ],
   "source": [
    "[submission.d_ for submission in api_request_generator]"
   ]
  },
  {
   "cell_type": "code",
   "execution_count": 68,
   "id": "3cb7fe95",
   "metadata": {},
   "outputs": [
    {
     "name": "stderr",
     "output_type": "stream",
     "text": [
      "/opt/conda/lib/python3.8/site-packages/psaw/PushshiftAPI.py:192: UserWarning: Got non 200 code 502\n",
      "  warnings.warn(\"Got non 200 code %s\" % response.status_code)\n",
      "/opt/conda/lib/python3.8/site-packages/psaw/PushshiftAPI.py:180: UserWarning: Unable to connect to pushshift.io. Retrying after backoff.\n",
      "  warnings.warn(\"Unable to connect to pushshift.io. Retrying after backoff.\")\n",
      "/opt/conda/lib/python3.8/site-packages/psaw/PushshiftAPI.py:192: UserWarning: Got non 200 code 429\n",
      "  warnings.warn(\"Got non 200 code %s\" % response.status_code)\n"
     ]
    },
    {
     "data": {
      "text/plain": [
       "(3238, 78)"
      ]
     },
     "execution_count": 68,
     "metadata": {},
     "output_type": "execute_result"
    }
   ],
   "source": [
    "aita_subs_df = pd.DataFrame([submission.d_ for submission in api_request_generator])\n",
    "aita_subs_df.shape"
   ]
  },
  {
   "cell_type": "code",
   "execution_count": 87,
   "id": "a10e9cde",
   "metadata": {},
   "outputs": [
    {
     "data": {
      "text/plain": [
       "['all_awardings',\n",
       " 'allow_live_comments',\n",
       " 'author',\n",
       " 'author_cakeday',\n",
       " 'author_flair_background_color',\n",
       " 'author_flair_css_class',\n",
       " 'author_flair_richtext',\n",
       " 'author_flair_template_id',\n",
       " 'author_flair_text',\n",
       " 'author_flair_text_color',\n",
       " 'author_flair_type',\n",
       " 'author_fullname',\n",
       " 'author_patreon_flair',\n",
       " 'author_premium',\n",
       " 'awarders',\n",
       " 'banned_by',\n",
       " 'can_mod_post',\n",
       " 'contest_mode',\n",
       " 'created',\n",
       " 'created_utc',\n",
       " 'domain',\n",
       " 'edited',\n",
       " 'full_link',\n",
       " 'gilded',\n",
       " 'gildings',\n",
       " 'id',\n",
       " 'is_crosspostable',\n",
       " 'is_meta',\n",
       " 'is_original_content',\n",
       " 'is_reddit_media_domain',\n",
       " 'is_robot_indexable',\n",
       " 'is_self',\n",
       " 'is_video',\n",
       " 'link_flair_background_color',\n",
       " 'link_flair_css_class',\n",
       " 'link_flair_richtext',\n",
       " 'link_flair_template_id',\n",
       " 'link_flair_text',\n",
       " 'link_flair_text_color',\n",
       " 'link_flair_type',\n",
       " 'locked',\n",
       " 'media_only',\n",
       " 'no_follow',\n",
       " 'num_comments',\n",
       " 'num_crossposts',\n",
       " 'og_description',\n",
       " 'og_title',\n",
       " 'over_18',\n",
       " 'parent_whitelist_status',\n",
       " 'permalink',\n",
       " 'pinned',\n",
       " 'post_hint',\n",
       " 'preview',\n",
       " 'pwls',\n",
       " 'removed_by_category',\n",
       " 'retrieved_on',\n",
       " 'rte_mode',\n",
       " 'score',\n",
       " 'selftext',\n",
       " 'send_replies',\n",
       " 'spoiler',\n",
       " 'steward_reports',\n",
       " 'stickied',\n",
       " 'subreddit',\n",
       " 'subreddit_id',\n",
       " 'subreddit_subscribers',\n",
       " 'subreddit_type',\n",
       " 'suggested_sort',\n",
       " 'thumbnail',\n",
       " 'title',\n",
       " 'top_awarded_type',\n",
       " 'total_awards_received',\n",
       " 'treatment_tags',\n",
       " 'updated_utc',\n",
       " 'upvote_ratio',\n",
       " 'url',\n",
       " 'whitelist_status',\n",
       " 'wls']"
      ]
     },
     "execution_count": 87,
     "metadata": {},
     "output_type": "execute_result"
    }
   ],
   "source": [
    "sorted(aita_subs_df.keys())"
   ]
  },
  {
   "cell_type": "markdown",
   "id": "1dac0f7a",
   "metadata": {},
   "source": [
    "- author\n",
    "- title\n",
    "- Selftext\n",
    "- Created_at\n",
    "- Score\n",
    "- num_comments\n",
    "- Subreddit\n",
    "- url\n"
   ]
  },
  {
   "cell_type": "code",
   "execution_count": 74,
   "id": "7e1b112f",
   "metadata": {},
   "outputs": [
    {
     "data": {
      "text/plain": [
       "True     2777\n",
       "False     461\n",
       "Name: title, dtype: int64"
      ]
     },
     "execution_count": 74,
     "metadata": {},
     "output_type": "execute_result"
    }
   ],
   "source": [
    "aita_subs_df['title'].map(lambda x: x.startswith(\"AITA \")).value_counts()"
   ]
  },
  {
   "cell_type": "code",
   "execution_count": 77,
   "id": "b833db09",
   "metadata": {},
   "outputs": [
    {
     "data": {
      "text/plain": [
       "1       UPDATE: AITA for telling my wife I think she’s...\n",
       "15      Aita for leaving a friend group chat after bei...\n",
       "20      Update: AITA for not attending my friend's wed...\n",
       "30      WIBTA if I made my husband choose between me a...\n",
       "37      Update: WIBTAH if I fired a kid because his mo...\n",
       "                              ...                        \n",
       "3192    WIBTA If I don't share my rather large (to me ...\n",
       "3196    AITA: I ditched a girl 40 minutes from her hou...\n",
       "3203    WIBTA if I make my gf start paying some of the...\n",
       "3229    WIBTA if I post pictures of this girl that wen...\n",
       "3231                                  UPVOTE THE ASSHOLES\n",
       "Name: title, Length: 461, dtype: object"
      ]
     },
     "execution_count": 77,
     "metadata": {},
     "output_type": "execute_result"
    }
   ],
   "source": [
    "aita_subs_df[~aita_subs_df['title'].map(lambda x: x.startswith(\"AITA \"))]['title']"
   ]
  },
  {
   "cell_type": "code",
   "execution_count": 78,
   "id": "376cc9f4",
   "metadata": {},
   "outputs": [
    {
     "data": {
      "text/plain": [
       "0       Me (M31) and my GF (F24)  have a great relatio...\n",
       "1       [original post ](https://www.reddit.com/r/AmIt...\n",
       "2                                               [deleted]\n",
       "3                                               [deleted]\n",
       "4       I (25F) started my Masters program last year r...\n",
       "                              ...                        \n",
       "3233    Hi, so my girlfriend and i watched a horror mo...\n",
       "3234                                                     \n",
       "3235    Recently my daughter has 'come out' to me as n...\n",
       "3236    I was going to McDonald's for a quick bite to ...\n",
       "3237    So over two years ago a cat appeared in my yar...\n",
       "Name: selftext, Length: 3238, dtype: object"
      ]
     },
     "execution_count": 78,
     "metadata": {},
     "output_type": "execute_result"
    }
   ],
   "source": [
    "aita_subs_df['selftext']"
   ]
  },
  {
   "cell_type": "code",
   "execution_count": 81,
   "id": "17409d99",
   "metadata": {},
   "outputs": [
    {
     "data": {
      "text/plain": [
       "['created_utc', 'created']"
      ]
     },
     "execution_count": 81,
     "metadata": {},
     "output_type": "execute_result"
    }
   ],
   "source": [
    "[column for column in aita_subs_df.columns if 'created' in column]"
   ]
  },
  {
   "cell_type": "code",
   "execution_count": 83,
   "id": "f6a5fe9a",
   "metadata": {},
   "outputs": [
    {
     "data": {
      "text/plain": [
       "0       1614937372\n",
       "1       1614922936\n",
       "2       1614916559\n",
       "3       1614914439\n",
       "4       1614913736\n",
       "           ...    \n",
       "3233    1535751589\n",
       "3234    1535648431\n",
       "3235    1535276025\n",
       "3236    1529374025\n",
       "3237    1526009287\n",
       "Name: created_utc, Length: 3238, dtype: int64"
      ]
     },
     "execution_count": 83,
     "metadata": {},
     "output_type": "execute_result"
    }
   ],
   "source": [
    "aita_subs_df['created_utc']"
   ]
  },
  {
   "cell_type": "code",
   "execution_count": null,
   "id": "7eb7cb30",
   "metadata": {},
   "outputs": [],
   "source": []
  },
  {
   "cell_type": "code",
   "execution_count": 84,
   "id": "7362664e",
   "metadata": {},
   "outputs": [],
   "source": [
    "from datetime import datetime"
   ]
  },
  {
   "cell_type": "code",
   "execution_count": 85,
   "id": "5343fe28",
   "metadata": {},
   "outputs": [
    {
     "data": {
      "text/plain": [
       "0   2021-03-05 09:42:52\n",
       "1   2021-03-05 05:42:16\n",
       "2   2021-03-05 03:55:59\n",
       "3   2021-03-05 03:20:39\n",
       "4   2021-03-05 03:08:56\n",
       "Name: created_utc, dtype: datetime64[ns]"
      ]
     },
     "execution_count": 85,
     "metadata": {},
     "output_type": "execute_result"
    }
   ],
   "source": [
    "aita_subs_df.head(5)['created_utc'].apply(datetime.fromtimestamp)"
   ]
  },
  {
   "cell_type": "code",
   "execution_count": 86,
   "id": "29bd8b04",
   "metadata": {},
   "outputs": [
    {
     "data": {
      "text/plain": [
       "0        610\n",
       "1        197\n",
       "2        515\n",
       "3       1467\n",
       "4        745\n",
       "        ... \n",
       "3233     405\n",
       "3234     104\n",
       "3235     905\n",
       "3236      90\n",
       "3237     169\n",
       "Name: num_comments, Length: 3238, dtype: int64"
      ]
     },
     "execution_count": 86,
     "metadata": {},
     "output_type": "execute_result"
    }
   ],
   "source": [
    "aita_subs_df['num_comments']"
   ]
  },
  {
   "cell_type": "markdown",
   "id": "1e46a325",
   "metadata": {},
   "source": [
    "#### Search submission by keyword"
   ]
  },
  {
   "cell_type": "code",
   "execution_count": null,
   "id": "74c14709",
   "metadata": {},
   "outputs": [],
   "source": [
    "api_request_generator = api.search_submissions(q='Missy Elliott', score = \">2000\")\n",
    "missy_elliot_df = pd.DataFrame([submission.d_ for submission in api_request_generator])\n"
   ]
  },
  {
   "cell_type": "markdown",
   "id": "c3daf9d2",
   "metadata": {},
   "source": [
    "### Search Comments"
   ]
  },
  {
   "cell_type": "code",
   "execution_count": null,
   "id": "e00fc99b",
   "metadata": {},
   "outputs": [],
   "source": [
    "search_generator = api.search_comments(size=25)\n",
    "search_generator"
   ]
  },
  {
   "cell_type": "code",
   "execution_count": null,
   "id": "94832b57",
   "metadata": {},
   "outputs": [],
   "source": [
    "comments_df = pd.DataFrame([submission.d_ for submission in search_generator])\n",
    "comments_df.shape"
   ]
  },
  {
   "cell_type": "code",
   "execution_count": null,
   "id": "af1baf4d",
   "metadata": {},
   "outputs": [],
   "source": [
    "submissionubmission in search_generator:\n",
    "    submission=submission"
   ]
  },
  {
   "cell_type": "code",
   "execution_count": null,
   "id": "64058b3d",
   "metadata": {},
   "outputs": [],
   "source": [
    "type(submission)"
   ]
  },
  {
   "cell_type": "code",
   "execution_count": null,
   "id": "2be07794",
   "metadata": {},
   "outputs": [],
   "source": [
    "dir(submission)"
   ]
  },
  {
   "cell_type": "code",
   "execution_count": null,
   "id": "457d00d8",
   "metadata": {},
   "outputs": [],
   "source": [
    "submission.d_['stickied']"
   ]
  },
  {
   "cell_type": "markdown",
   "id": "0cabc65d",
   "metadata": {},
   "source": [
    "#### Search Comments by Multiple Keywords\n",
    "\n",
    "**Question:** Can someone explain the next two lines"
   ]
  },
  {
   "cell_type": "code",
   "execution_count": 89,
   "id": "413b7a8b",
   "metadata": {},
   "outputs": [],
   "source": [
    "api_request_generator = api.search_comments(q='(George Orwell)|(J. R. R. Tolkien)')\n",
    "api_request_generator = api.search_comments(q='(George Orwell)AND(J. R. R. Tolkien)')"
   ]
  },
  {
   "cell_type": "code",
   "execution_count": null,
   "id": "43fddde9",
   "metadata": {},
   "outputs": [],
   "source": [
    "api_request_generator = api.search_comments(q='(Shakespeare)&(Beyonce)')"
   ]
  },
  {
   "cell_type": "markdown",
   "id": "8cd38e18",
   "metadata": {},
   "source": [
    "## PRAW\n",
    "\n",
    "PRAW is a popular python wrapper for accessing Reddit data. Unlike PSAW, it uses the Reddit API directly rather than Pushshifts collection of Reddit. \n",
    "\n",
    "If you use Praw, you need to create a Reddit account and create a Reddit App on Reddit.\n",
    "We'll skip this during today's demo.\n",
    "\n",
    "### Making a Reddit App\n",
    "\n",
    "\n",
    "Go to https://www.reddit.com/prefs/apps/ and click on the button that says \n",
    "`are you a developer? create an app...`\n",
    "\n",
    "[API Access overview](https://www.reddit.com/wiki/api)\n"
   ]
  },
  {
   "cell_type": "markdown",
   "id": "6dbff997",
   "metadata": {},
   "source": [
    "## Cleaning text"
   ]
  },
  {
   "cell_type": "code",
   "execution_count": 111,
   "id": "5d22bad4",
   "metadata": {
    "collapsed": true,
    "jupyter": {
     "outputs_hidden": true
    },
    "tags": []
   },
   "outputs": [
    {
     "data": {
      "text/plain": [
       "(\"Link to original [post](https://www.reddit.com/r/AmItheAsshole/comments/ljaump/aita_for_not_attending_my_friends_wedding_on_the/)\\n\\nHello Reddit, I want to start off by saying thank you to everyone who replied, I was not expecting my post to get this level of attention. I have read all of your comments, and thank you once again. I am in tears and became an emotional mess after reading your thoughtful responses, thank you for the love and support. I have always felt as some sort of emotional burden to my friends, so thank you for your encouraging messages and telling me to keep my head up high. Even though we are all strangers on the internet, it sort of felt like I had gained new family. My heart goes out to the people who have messaged me privately of their experiences with losing their loved ones to drunk driving as well. Please know, I have felt your pain, you are not alone in this and I wish you all the love in this world.\\n\\nNow for the update, I did what some of you suggested and called my other friends to let them know what Amy had asked of me. They were quite livid and angry for me as they had no idea what Amy was planning for the wedding, we arranged a zoom call with her the next day to discuss why is she being so insensitive to me. Well, the call was quite the battle. It started off calm, then Amy just blew up. You guys were right when you said that Amy was jealous of the attention that I had received during the time of my family’s death anniversary, her wedding was a way to shift the attention towards her. She tried to explain to us by having the wedding on that day, it will turn a negative situation into a positive one. When she realized she wasn’t convincing enough, it felt as though a mask had fallen from her face and she started yelling and insulting me. She said that she is tired of having to play the supportive friend role and that it’s been 7 years, I should just get over it by now or go join my family in the ground. My friends lost their anger and called her every name in the book. I am honestly just shocked and disappointed at the person who used to be my friend. It breaks my heart knowing I lost another person in my life, but I guess you guys are right in the sense that she never really was a friend. I now look back at our friendship and realized it was often one sided on my part. I wish it didn’t take me so long to realize it. No one in our friend group of 6 people are going to her wedding now. We have decided to go no contact with Amy and block her on all social media. My friends have offered to go visit my family’s graves together with me, I accepted and we are now planning to also make a scrapbook with my family's pictures. For once I am actually looking forward to this day, and will start to plan more eventful activities like this.\\n\\nThank you once again to everyone for helping me through this. And please remember, do not drink and drive, I am begging you, please don't. Please drink responsibly and drive safely everyone.\\n\\nEdit: I was once again not expecting this amount of attention. I am in literal tears, thank you everyone for your kind words and sympathy. I appreciate your love and support. I don't think I deserve the awards you all have given me, thank you kind strangers. Some are asking about Amy's fiancé and his thoughts, we haven't heard anything as we still haven't even met him. We tried several times to meet him last year, but something always came up. I guess we'll never know his true feelings.\\n\\nEdit: I am so sorry for not being able to reply to everyone, thank you for your kind words and support\",\n",
       " 'https://www.reddit.com/r/AmItheAsshole/comments/lxfk2w/update_aita_for_not_attending_my_friends_wedding/')"
      ]
     },
     "execution_count": 111,
     "metadata": {},
     "output_type": "execute_result"
    }
   ],
   "source": [
    "aita_subs_df['selftext'][20], aita_subs_df['url'][20]"
   ]
  },
  {
   "cell_type": "code",
   "execution_count": null,
   "id": "998dbcfb",
   "metadata": {},
   "outputs": [],
   "source": []
  },
  {
   "cell_type": "code",
   "execution_count": null,
   "id": "418c2f3e",
   "metadata": {},
   "outputs": [],
   "source": []
  },
  {
   "cell_type": "code",
   "execution_count": null,
   "id": "85571147",
   "metadata": {},
   "outputs": [],
   "source": [
    "import pandas as pd\n",
    "aita_subs_df = pd.DataFrame([submission.d_ for submission in api_request_generator])\n"
   ]
  },
  {
   "cell_type": "code",
   "execution_count": null,
   "id": "08e0d6f7",
   "metadata": {},
   "outputs": [],
   "source": [
    "submission = next(api_request_generator)\n",
    "submission.selftext"
   ]
  },
  {
   "cell_type": "code",
   "execution_count": 107,
   "id": "4e9db9c3",
   "metadata": {},
   "outputs": [
    {
     "name": "stdout",
     "output_type": "stream",
     "text": [
      "Requirement already satisfied: redditcleaner in /opt/conda/lib/python3.8/site-packages (1.1.2)\n"
     ]
    }
   ],
   "source": [
    "!pip install redditcleaner"
   ]
  },
  {
   "cell_type": "code",
   "execution_count": 108,
   "id": "28c89fa6",
   "metadata": {},
   "outputs": [],
   "source": [
    "import redditcleaner"
   ]
  },
  {
   "cell_type": "code",
   "execution_count": 114,
   "id": "7f198850",
   "metadata": {},
   "outputs": [
    {
     "data": {
      "text/plain": [
       "'Throwaway. I 32(F) is the only child of my parents. It became clear growing up that my dad wanted a boy but made the best of what he got. He taught me how to do everything, like fixing stuff around the house, putting DIY furniture together(he’s big on that), woodworking, basically a lot of stuff that is traditionally expected of men to do, my dad taught me how. My husband (33M) and I had our first child last year. We got most of the baby furniture from IKEA, I ended up putting all of them together(I’m not saying this to complain, it was relaxing for me). I also put together any of our child’s toys or chairs or whatever else that needs to get done. Due to the on pandemic, my husband’s family hadn’t been able to visit. My SIL and her husband recently got the vaccine( they work in health care) and decided to visit us for the first time. SIL made a comment about how nice the nursery looked, and asked where we got the nursery furniture from. I told her we got them from ikea and then she said it must have been a hassle for Her brother/my husband to put together. I told her that I put together the furniture myself and a lot of the DIY furniture in our house as well. SIL laughed and said she’d need some help with hers. I thought it ended there until they left. My husband said I was showing off and trying to show that he’s incompetent. I didn’t correct SIL with that intention, I guess I felt proud of my abilities. My husband is still sulking and keep on insisting that the comment didn’t need clarification. AITA?'"
      ]
     },
     "execution_count": 114,
     "metadata": {},
     "output_type": "execute_result"
    }
   ],
   "source": [
    "redditcleaner.clean(aita_subs_df['selftext'][23])"
   ]
  },
  {
   "cell_type": "code",
   "execution_count": 127,
   "id": "e0f3be00",
   "metadata": {},
   "outputs": [
    {
     "data": {
      "text/plain": [
       "'AITA for throwing a soda on the ground near the dude I bought it for?'"
      ]
     },
     "execution_count": 127,
     "metadata": {},
     "output_type": "execute_result"
    }
   ],
   "source": [
    "aita_subs_df['title'].iloc[-2]"
   ]
  },
  {
   "cell_type": "code",
   "execution_count": 120,
   "id": "0156bd36",
   "metadata": {},
   "outputs": [
    {
     "data": {
      "text/plain": [
       "\"Recently my daughter has 'come out' to me as non binary, meaning that she supposedly does not believe she is a man or a woman. I heard her out and let her speak, and tried to calmly ask her how she has come to this conclusion. The conversation was civil until I told her I did not believe she is anything but a woman. At this point, she started crying, calling me a bigot, and my wife had to take over. My wife tells me I am being insensitive. They want me to refer to them as 'they', which I have agreed to do in order to avoid conflict. I understand that there are people who decide to live as the opposite gender, and many of them take hormones and have operations to make the effect more believable. I understand that - like being gay - this is something people cannot control, it is what they feel they truly are inside. My daughter says that gender is on a spectrum. While I am glad my daughter isn't planning on having any operations, throughout her upbringing, I have never seen any sign that she was different from a typical female child. She would play with ponies and dolls, while my son would play with dinosaurs. They both played with lego. She has never shown any masculine traits until very recently, where she has cut her hair short and sometimes wears men's clothes. I do not doubt that gender exists on a spectrum. Different people have different hormone levels, and some women are more feminine than others. Perhaps my daughter is somewhere closer to the middle on this spectrum. What I don't understand is - what's the point? I remember when boyish girls were simply called tomboys, and they wouldn't mind being referred to as 'she'. What's wrong with just cutting your hair and wearing jeans? What's the point in asking everyone to change the way they talk to you? And can I still call her my daughter? Or is she now simply my child? Can I call her pretty, or is she now handsome? Or maybe she's pretty when she's in a dress and handsome when wearing jeans. I understand how frustrating it is for teenagers to feel like their parents don't understand them, and that to be told they are going through a phase, but is that not exactly what this is? I seroously doubt they will still be asking people to refer to them as 'they' when they are my age. When I was a kid I bought a scooter and my mum hated it. Is this just the new way of rebelling against your parents? And is it not my job as a parent to be against this rebellion, whatever it is? I just feel like my daughter is getting distracted by all these silly ideas when there are more important things to care about. She is young and has so much time to enjoy life and the freedoms that come with youth. I don't think it's healthy to reinforce these ideas by calling them 'they'. Maybe I should buy her a scooter.\""
      ]
     },
     "execution_count": 120,
     "metadata": {},
     "output_type": "execute_result"
    }
   ],
   "source": [
    "redditcleaner.clean(aita_subs_df['selftext'].iloc[-3])"
   ]
  },
  {
   "cell_type": "code",
   "execution_count": 124,
   "id": "e4e22661",
   "metadata": {},
   "outputs": [
    {
     "data": {
      "text/plain": [
       "\"Guys, please, this is for the good of our community. \\n\\nI know it's counter-intuitive, your instinct is to downvote when you see an asshole, but it's just not in the spirit of this subreddit to do that here.\\n\\nWe shouldn't have to sort by controversial to find assholes here. We should be upvoting them so that everyone can see their assholery from their front page.\\n\\nPlease, please, please upvote the assholes! \""
      ]
     },
     "execution_count": 124,
     "metadata": {},
     "output_type": "execute_result"
    }
   ],
   "source": [
    "aita_subs_df['selftext'].iloc[-7]"
   ]
  },
  {
   "cell_type": "code",
   "execution_count": null,
   "id": "691fc634",
   "metadata": {},
   "outputs": [],
   "source": []
  }
 ],
 "metadata": {
  "kernelspec": {
   "display_name": "Python 3",
   "language": "python",
   "name": "python3"
  },
  "language_info": {
   "codemirror_mode": {
    "name": "ipython",
    "version": 3
   },
   "file_extension": ".py",
   "mimetype": "text/x-python",
   "name": "python",
   "nbconvert_exporter": "python",
   "pygments_lexer": "ipython3",
   "version": "3.8.8"
  }
 },
 "nbformat": 4,
 "nbformat_minor": 5
}
