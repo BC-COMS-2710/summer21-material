{
 "cells": [
  {
   "cell_type": "markdown",
   "id": "6b7e0806",
   "metadata": {},
   "source": [
    "# Demo 14 - Reddit API"
   ]
  },
  {
   "cell_type": "code",
   "execution_count": null,
   "id": "92e2f480",
   "metadata": {},
   "outputs": [],
   "source": [
    "import numpy as np\n",
    "import pandas as pd"
   ]
  },
  {
   "cell_type": "markdown",
   "id": "c1ca7920",
   "metadata": {},
   "source": [
    "## PSAW\n",
    "\n",
    "psaw is a python module that is a wrapper for the Pushshift API. It includes functionality for accessing publicly available Reddit submissions and comments. \n",
    "\n",
    "Code and examples can be found on [github](https://github.com/dmarx/psaw), documentation can be found [online](https://psaw.readthedocs.io/en/latest/#)"
   ]
  },
  {
   "cell_type": "markdown",
   "id": "1cdf7f71",
   "metadata": {},
   "source": [
    "**Question:** How do we install psaw?\n",
    "\n",
    "<details>\n",
    "<summary>Solution</summary>\n",
    "   !pip install psaw\n",
    "\n",
    "</details>"
   ]
  },
  {
   "cell_type": "code",
   "execution_count": null,
   "id": "86205538",
   "metadata": {},
   "outputs": [],
   "source": []
  },
  {
   "cell_type": "code",
   "execution_count": null,
   "id": "ffb30ac1",
   "metadata": {},
   "outputs": [],
   "source": [
    "from psaw import PushshiftAPI"
   ]
  },
  {
   "cell_type": "code",
   "execution_count": null,
   "id": "d107adc6",
   "metadata": {},
   "outputs": [],
   "source": [
    "api = PushshiftAPI()\n",
    "api"
   ]
  },
  {
   "cell_type": "code",
   "execution_count": null,
   "id": "d15204ff",
   "metadata": {},
   "outputs": [],
   "source": [
    "api_request_generator = api.search_submissions(subreddit='AMITheAsshole')\n",
    "api_request_generator"
   ]
  },
  {
   "cell_type": "markdown",
   "id": "aec84c74",
   "metadata": {},
   "source": [
    "### Python Generators Explained"
   ]
  },
  {
   "cell_type": "markdown",
   "id": "ecbb2bf2",
   "metadata": {},
   "source": [
    "#### Iterable\n",
    "\n",
    "**Question** What is an `Iterable`?\n",
    "\n",
    "<details>\n",
    "<summary>Solution</summary>\n",
    "    An iterable is any object in Python which has an __iter__ or a __getitem__ method defined which returns an iterator or can take indexes. In short an iterable is any object which can provide us with an iterator.\n",
    "    \n",
    "    <br>\n",
    "    <br>\n",
    "    https://book.pythontips.com/en/latest/generators.html\n",
    "\n",
    "</details>"
   ]
  },
  {
   "cell_type": "markdown",
   "id": "11389e4c",
   "metadata": {},
   "source": [
    "##### Examples of Iterable objects"
   ]
  },
  {
   "cell_type": "code",
   "execution_count": null,
   "id": "e4e3e05b",
   "metadata": {},
   "outputs": [],
   "source": [
    "np_array = np.arange(10)\n",
    "np_array"
   ]
  },
  {
   "cell_type": "code",
   "execution_count": null,
   "id": "5de9f9b9",
   "metadata": {},
   "outputs": [],
   "source": [
    "\"__iter__\" in dir(np_array)"
   ]
  },
  {
   "cell_type": "code",
   "execution_count": null,
   "id": "35483f70",
   "metadata": {},
   "outputs": [],
   "source": [
    "\"__getitem__\" in dir(np_array)"
   ]
  },
  {
   "cell_type": "code",
   "execution_count": null,
   "id": "8b462e2f",
   "metadata": {},
   "outputs": [],
   "source": [
    "dictionary = {}\n",
    "for key in 'abcdefhi':\n",
    "    dictionary[key] = np.random.rand()\n",
    "dictionary"
   ]
  },
  {
   "cell_type": "code",
   "execution_count": null,
   "id": "e22ecf7b",
   "metadata": {},
   "outputs": [],
   "source": [
    "\"__iter__\" in dir(np_array)"
   ]
  },
  {
   "cell_type": "code",
   "execution_count": null,
   "id": "5a66755a",
   "metadata": {},
   "outputs": [],
   "source": [
    "\"__getitem__\" in dir(np_array)"
   ]
  },
  {
   "cell_type": "markdown",
   "id": "94c893b1",
   "metadata": {},
   "source": [
    "#### Iterator\n",
    "\n",
    "An iterator is any object in Python which has a next (Python2) or __next__ method defined. That’s it. That’s an iterator"
   ]
  },
  {
   "cell_type": "code",
   "execution_count": null,
   "id": "fd0c9813",
   "metadata": {},
   "outputs": [],
   "source": [
    "\"__next__\" in dir(np_array)"
   ]
  },
  {
   "cell_type": "code",
   "execution_count": null,
   "id": "f35d2e92",
   "metadata": {},
   "outputs": [],
   "source": [
    "\"__next__\" in dir(iter(np_array))"
   ]
  },
  {
   "cell_type": "code",
   "execution_count": null,
   "id": "017ee455",
   "metadata": {},
   "outputs": [],
   "source": [
    "iterator = iter(np_array)\n",
    "iterator"
   ]
  },
  {
   "cell_type": "code",
   "execution_count": null,
   "id": "3c2efa15",
   "metadata": {},
   "outputs": [],
   "source": [
    "next(iterator)"
   ]
  },
  {
   "cell_type": "code",
   "execution_count": null,
   "id": "0e166526",
   "metadata": {},
   "outputs": [],
   "source": [
    "next(iterator)"
   ]
  },
  {
   "cell_type": "code",
   "execution_count": null,
   "id": "33439ab3",
   "metadata": {},
   "outputs": [],
   "source": [
    "iterator = iter(np_array[:1])\n",
    "iterator"
   ]
  },
  {
   "cell_type": "code",
   "execution_count": null,
   "id": "29fc5917",
   "metadata": {},
   "outputs": [],
   "source": [
    "next(iterator)"
   ]
  },
  {
   "cell_type": "code",
   "execution_count": null,
   "id": "3d387eb3",
   "metadata": {},
   "outputs": [],
   "source": [
    "next(iterator)"
   ]
  },
  {
   "cell_type": "markdown",
   "id": "1cfb6f9c",
   "metadata": {},
   "source": [
    "The previous line throws an error because we are at the end of the iterator"
   ]
  },
  {
   "cell_type": "markdown",
   "id": "2cee495d",
   "metadata": {},
   "source": [
    "#### Iteration\n",
    "\n",
    "In simple words it is the process of taking an item from something e.g a list. When we use a loop to loop over something it is called iteration. It is the name given to the process itself. Now as we have a basic understanding of these terms let’s understand generators."
   ]
  },
  {
   "cell_type": "code",
   "execution_count": null,
   "id": "6afc2fb9",
   "metadata": {},
   "outputs": [],
   "source": [
    "for num in np_array:\n",
    "    print(num)"
   ]
  },
  {
   "cell_type": "code",
   "execution_count": null,
   "id": "2e375c70",
   "metadata": {},
   "outputs": [],
   "source": [
    "for num in iterator:\n",
    "    print(num)"
   ]
  },
  {
   "cell_type": "code",
   "execution_count": null,
   "id": "015a1b95",
   "metadata": {},
   "outputs": [],
   "source": [
    "iterator = iter(np_array)\n",
    "iterator\n",
    "\n",
    "for num in iterator:\n",
    "    print(num)"
   ]
  },
  {
   "cell_type": "markdown",
   "id": "29722af0",
   "metadata": {},
   "source": [
    "#### Generators\n",
    "\n",
    "Generators are iterators, but you can only iterate over them once. It’s because they do not store all the values in memory, they generate the values on the fly. You use them by iterating over them, either with a ‘for’ loop or by passing them to any function or construct that iterates. Most of the time generators are implemented as functions. However, they do not return a value, they yield it. Here is a simple example of a generator function:"
   ]
  },
  {
   "cell_type": "code",
   "execution_count": null,
   "id": "a23c6e50",
   "metadata": {},
   "outputs": [],
   "source": [
    "def generator_function():\n",
    "    for i in range(3):\n",
    "        yield i\n",
    "\n",
    "gen = generator_function()\n",
    "print(next(gen))\n",
    "# Output: 0\n",
    "print(next(gen))\n",
    "# Output: 1\n",
    "print(next(gen))\n",
    "# Output: 2\n",
    "print(next(gen))\n",
    "# Output: Traceback (most recent call last):\n",
    "#            File \"<stdin>\", line 1, in <module>\n",
    "#         StopIteration"
   ]
  },
  {
   "cell_type": "markdown",
   "id": "a9638d13",
   "metadata": {},
   "source": [
    "We can use generators to convert functions into Iterators"
   ]
  },
  {
   "cell_type": "markdown",
   "id": "98d745f4",
   "metadata": {},
   "source": [
    "### Search Submissions"
   ]
  },
  {
   "cell_type": "markdown",
   "id": "f5609db0",
   "metadata": {},
   "source": [
    "Potential subbreddits for class:\n",
    "\n",
    "- https://www.reddit.com/r/columbia/\n",
    "- https://www.reddit.com/r/wallstreetbets/\n",
    "- https://www.reddit.com/r/datasets/\n",
    "- /r/AskReddit"
   ]
  },
  {
   "cell_type": "code",
   "execution_count": null,
   "id": "3f27a506",
   "metadata": {},
   "outputs": [],
   "source": [
    "api_request_generator = api.search_submissions(subreddit='AmITheAsshole', score = \">2000\")\n",
    "api_request_generator"
   ]
  },
  {
   "cell_type": "code",
   "execution_count": null,
   "id": "d1e94a82",
   "metadata": {},
   "outputs": [],
   "source": []
  },
  {
   "cell_type": "code",
   "execution_count": null,
   "id": "20bf5d88",
   "metadata": {},
   "outputs": [],
   "source": [
    "aita_subs_df = pd.DataFrame([submission.d_ for submission in api_request_generator])\n",
    "aita_subs_df.shape"
   ]
  },
  {
   "cell_type": "code",
   "execution_count": null,
   "id": "a5d3f5ee",
   "metadata": {},
   "outputs": [],
   "source": [
    "aita_subs_df.keys()"
   ]
  },
  {
   "cell_type": "markdown",
   "id": "e7dbdefc",
   "metadata": {},
   "source": [
    "- author\n",
    "- title\n",
    "- Selftext\n",
    "- Created_at\n",
    "- Score\n",
    "- num_comments\n",
    "- Subreddit\n",
    "- url\n"
   ]
  },
  {
   "cell_type": "code",
   "execution_count": null,
   "id": "e3a36e8a",
   "metadata": {},
   "outputs": [],
   "source": [
    "from datetime import datetime"
   ]
  },
  {
   "cell_type": "code",
   "execution_count": null,
   "id": "1498e05d",
   "metadata": {},
   "outputs": [],
   "source": [
    "aita_subs_df.head(5)['created_utc'].apply(datetime.fromtimestamp)"
   ]
  },
  {
   "cell_type": "markdown",
   "id": "e0c717fc",
   "metadata": {},
   "source": [
    "#### Search submission by keyword"
   ]
  },
  {
   "cell_type": "code",
   "execution_count": null,
   "id": "e19555e9",
   "metadata": {},
   "outputs": [],
   "source": [
    "api_request_generator = api.search_submissions(q='Missy Elliott', score = \">2000\")\n",
    "missy_elliot_df = pd.DataFrame([submission.d_ for submission in api_request_generator])\n"
   ]
  },
  {
   "cell_type": "markdown",
   "id": "78331a36",
   "metadata": {},
   "source": [
    "### Search Comments"
   ]
  },
  {
   "cell_type": "code",
   "execution_count": null,
   "id": "98ee8a04",
   "metadata": {},
   "outputs": [],
   "source": [
    "search_generator = api.search_comments(size=25)\n",
    "search_generator"
   ]
  },
  {
   "cell_type": "code",
   "execution_count": null,
   "id": "8cd1a7fe",
   "metadata": {},
   "outputs": [],
   "source": [
    "comments_df = pd.DataFrame([submission.d_ for submission in search_generator])\n",
    "comments_df.shape"
   ]
  },
  {
   "cell_type": "code",
   "execution_count": null,
   "id": "3fddda5e",
   "metadata": {},
   "outputs": [],
   "source": [
    "submissionubmission in search_generator:\n",
    "    submission=submission"
   ]
  },
  {
   "cell_type": "code",
   "execution_count": null,
   "id": "284a608e",
   "metadata": {},
   "outputs": [],
   "source": [
    "type(submission)"
   ]
  },
  {
   "cell_type": "code",
   "execution_count": null,
   "id": "4e4f1c77",
   "metadata": {},
   "outputs": [],
   "source": [
    "dir(submission)"
   ]
  },
  {
   "cell_type": "code",
   "execution_count": null,
   "id": "b5bcafc4",
   "metadata": {},
   "outputs": [],
   "source": [
    "submission.d_['stickied']"
   ]
  },
  {
   "cell_type": "markdown",
   "id": "9810bf54",
   "metadata": {},
   "source": [
    "#### Search Comments by Multiple Keywords\n",
    "\n",
    "**Question:** Can someone explain the next two lines"
   ]
  },
  {
   "cell_type": "code",
   "execution_count": null,
   "id": "43e8492b",
   "metadata": {},
   "outputs": [],
   "source": [
    "api_request_generator = api.search_comments(q='(George Orwell)|(J. R. R. Tolkien)')"
   ]
  },
  {
   "cell_type": "code",
   "execution_count": null,
   "id": "ea778e6b",
   "metadata": {},
   "outputs": [],
   "source": [
    "api_request_generator = api.search_comments(q='(Shakespeare)&(Beyonce)')"
   ]
  },
  {
   "cell_type": "markdown",
   "id": "a46f2de2",
   "metadata": {},
   "source": [
    "## PRAW\n",
    "\n",
    "PRAW is a popular python wrapper for accessing Reddit data. Unlike PSAW, it uses the Reddit API directly rather than Pushshifts collection of Reddit. \n",
    "\n",
    "If you use Praw, you need to create a Reddit account and create a Reddit App on Reddit.\n",
    "We'll skip this during today's demo.\n",
    "\n",
    "### Making a Reddit App\n",
    "\n",
    "\n",
    "Go to https://www.reddit.com/prefs/apps/ and click on the button that says \n",
    "`are you a developer? create an app...`\n",
    "\n",
    "[API Access overview](https://www.reddit.com/wiki/api)\n"
   ]
  },
  {
   "cell_type": "markdown",
   "id": "7269f255",
   "metadata": {},
   "source": [
    "## Cleaning text"
   ]
  },
  {
   "cell_type": "code",
   "execution_count": null,
   "id": "82b84ea2",
   "metadata": {},
   "outputs": [],
   "source": [
    "import pandas as pd\n",
    "aita_subs_df = pd.DataFrame([submission.d_ for submission in api_request_generator])\n"
   ]
  },
  {
   "cell_type": "code",
   "execution_count": null,
   "id": "4fad4ab2",
   "metadata": {},
   "outputs": [],
   "source": [
    "submission = next(api_request_generator)\n",
    "submission.selftext"
   ]
  },
  {
   "cell_type": "code",
   "execution_count": null,
   "id": "16102e04",
   "metadata": {},
   "outputs": [],
   "source": [
    "!pip install redditcleaner"
   ]
  },
  {
   "cell_type": "code",
   "execution_count": null,
   "id": "d970c248",
   "metadata": {},
   "outputs": [],
   "source": [
    "import redditcleaner"
   ]
  },
  {
   "cell_type": "code",
   "execution_count": null,
   "id": "bd2b3995",
   "metadata": {},
   "outputs": [],
   "source": [
    "redditcleaner.clean(submission.selftext)"
   ]
  },
  {
   "cell_type": "code",
   "execution_count": null,
   "id": "ea368a80",
   "metadata": {},
   "outputs": [],
   "source": []
  }
 ],
 "metadata": {
  "kernelspec": {
   "display_name": "Python 3",
   "language": "python",
   "name": "python3"
  },
  "language_info": {
   "codemirror_mode": {
    "name": "ipython",
    "version": 3
   },
   "file_extension": ".py",
   "mimetype": "text/x-python",
   "name": "python",
   "nbconvert_exporter": "python",
   "pygments_lexer": "ipython3",
   "version": "3.8.8"
  }
 },
 "nbformat": 4,
 "nbformat_minor": 5
}
