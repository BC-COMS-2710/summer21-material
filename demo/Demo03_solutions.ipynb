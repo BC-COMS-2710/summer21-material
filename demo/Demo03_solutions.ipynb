{
 "cells": [
  {
   "cell_type": "markdown",
   "id": "465d9012",
   "metadata": {},
   "source": [
    "# Demo 03 - Numpy and Pandas"
   ]
  },
  {
   "cell_type": "code",
   "execution_count": 1,
   "id": "dc89ba39",
   "metadata": {},
   "outputs": [],
   "source": [
    "import pandas as pd\n",
    "import numpy as np\n",
    "import time\n",
    "import random"
   ]
  },
  {
   "cell_type": "markdown",
   "id": "68cee187",
   "metadata": {},
   "source": [
    "## List Compression"
   ]
  },
  {
   "cell_type": "code",
   "execution_count": 7,
   "id": "88d7b098",
   "metadata": {},
   "outputs": [
    {
     "data": {
      "text/plain": [
       "['apple', 'banana', 'mango']"
      ]
     },
     "execution_count": 7,
     "metadata": {},
     "output_type": "execute_result"
    }
   ],
   "source": [
    "fruits = [\"apple\", \"banana\", \"cherry\", \"kiwi\", \"mango\"]\n",
    "newlist = []\n",
    "\n",
    "# Write a for loop for adding fruits that contain the letter 'a' to newlist \n",
    "for fruit in fruits:\n",
    "    if 'a' in fruit:\n",
    "        newlist.append(fruit)\n",
    "    # if it starts with a\n",
    "    #if fruit[0] == 'a': # we can also do fruit.startswith('a')\n",
    "    #    newlist.append(fruit)\n",
    "        \n",
    "newlist"
   ]
  },
  {
   "cell_type": "code",
   "execution_count": 6,
   "id": "7cd6d3f9",
   "metadata": {},
   "outputs": [
    {
     "data": {
      "text/plain": [
       "True"
      ]
     },
     "execution_count": 6,
     "metadata": {},
     "output_type": "execute_result"
    }
   ],
   "source": [
    "'a' in 'apple'"
   ]
  },
  {
   "cell_type": "code",
   "execution_count": 5,
   "id": "2f287aa7",
   "metadata": {},
   "outputs": [
    {
     "data": {
      "text/plain": [
       "True"
      ]
     },
     "execution_count": 5,
     "metadata": {},
     "output_type": "execute_result"
    }
   ],
   "source": [
    "'apple' in fruits"
   ]
  },
  {
   "cell_type": "markdown",
   "id": "40f17b05",
   "metadata": {},
   "source": [
    "Template for list compression:\n",
    "\n",
    "    [<do something> for item in <list> <condition>  ]"
   ]
  },
  {
   "cell_type": "code",
   "execution_count": 9,
   "id": "4a8386ea",
   "metadata": {},
   "outputs": [
    {
     "data": {
      "text/plain": [
       "['Apple', 'Banana', 'Mango']"
      ]
     },
     "execution_count": 9,
     "metadata": {},
     "output_type": "execute_result"
    }
   ],
   "source": [
    "# Write a one liner\n",
    "\n",
    "[fruit.capitalize() for fruit in fruits if 'a' in fruit]"
   ]
  },
  {
   "cell_type": "code",
   "execution_count": null,
   "id": "a3ec030c",
   "metadata": {},
   "outputs": [],
   "source": []
  },
  {
   "cell_type": "markdown",
   "id": "8005d9df",
   "metadata": {},
   "source": [
    "More examples https://www.w3schools.com/python/python_lists_comprehension.asp"
   ]
  },
  {
   "cell_type": "code",
   "execution_count": 12,
   "id": "7a8c758e",
   "metadata": {},
   "outputs": [
    {
     "data": {
      "text/plain": [
       "['apple', 'banana', 'cherry', 'kiwi', 'mango']"
      ]
     },
     "execution_count": 12,
     "metadata": {},
     "output_type": "execute_result"
    }
   ],
   "source": [
    "'apple banana cherry kiwi mango'.split()"
   ]
  },
  {
   "cell_type": "code",
   "execution_count": 13,
   "id": "2bdc4a9d",
   "metadata": {},
   "outputs": [
    {
     "data": {
      "text/plain": [
       "'apple|||banana|||cherry|||kiwi|||mango'"
      ]
     },
     "execution_count": 13,
     "metadata": {},
     "output_type": "execute_result"
    }
   ],
   "source": [
    "\"|||\".join([\"apple\", \"banana\", \"cherry\", \"kiwi\", \"mango\"])"
   ]
  },
  {
   "cell_type": "code",
   "execution_count": 16,
   "id": "ca06f83a",
   "metadata": {},
   "outputs": [
    {
     "data": {
      "text/plain": [
       "['apple', 4, 4.5, ['list1'], {}, set()]"
      ]
     },
     "execution_count": 16,
     "metadata": {},
     "output_type": "execute_result"
    }
   ],
   "source": [
    "['apple', 4, 4.5, ['list1'], {}, set()]"
   ]
  },
  {
   "cell_type": "markdown",
   "id": "243623e1",
   "metadata": {},
   "source": [
    "(slides)\n",
    "\n",
    "## Array vs List"
   ]
  },
  {
   "cell_type": "markdown",
   "id": "273fe629",
   "metadata": {},
   "source": [
    "### Initalizing array"
   ]
  },
  {
   "cell_type": "code",
   "execution_count": 17,
   "id": "33755c06",
   "metadata": {},
   "outputs": [
    {
     "data": {
      "text/plain": [
       "array([1, 2, 3])"
      ]
     },
     "execution_count": 17,
     "metadata": {},
     "output_type": "execute_result"
    }
   ],
   "source": [
    "array = np.array([1,2,3])\n",
    "array"
   ]
  },
  {
   "cell_type": "code",
   "execution_count": 18,
   "id": "6f77ebab",
   "metadata": {},
   "outputs": [
    {
     "data": {
      "text/plain": [
       "array([0., 1., 2., 3., 4., 5., 6., 7., 8., 9.])"
      ]
     },
     "execution_count": 18,
     "metadata": {},
     "output_type": "execute_result"
    }
   ],
   "source": [
    "evenly_spaced_array = np.linspace(0, 9, 10)\n",
    "evenly_spaced_array"
   ]
  },
  {
   "cell_type": "code",
   "execution_count": 22,
   "id": "fba0314f",
   "metadata": {},
   "outputs": [
    {
     "data": {
      "text/plain": [
       "(50,)"
      ]
     },
     "execution_count": 22,
     "metadata": {},
     "output_type": "execute_result"
    }
   ],
   "source": [
    "np.linspace(1,100,50).shape"
   ]
  },
  {
   "cell_type": "code",
   "execution_count": 23,
   "id": "de3a6ccf",
   "metadata": {},
   "outputs": [
    {
     "data": {
      "text/plain": [
       "array([0., 0., 0., 0., 0., 0., 0., 0., 0., 0.])"
      ]
     },
     "execution_count": 23,
     "metadata": {},
     "output_type": "execute_result"
    }
   ],
   "source": [
    "np.zeros(10)"
   ]
  },
  {
   "cell_type": "code",
   "execution_count": 24,
   "id": "72f4623a",
   "metadata": {},
   "outputs": [
    {
     "data": {
      "text/plain": [
       "array([[0., 0.],\n",
       "       [0., 0.],\n",
       "       [0., 0.],\n",
       "       [0., 0.],\n",
       "       [0., 0.]])"
      ]
     },
     "execution_count": 24,
     "metadata": {},
     "output_type": "execute_result"
    }
   ],
   "source": [
    "np.zeros((5, 2)) # 5 by 2 "
   ]
  },
  {
   "cell_type": "code",
   "execution_count": 25,
   "id": "e62eed8c",
   "metadata": {},
   "outputs": [
    {
     "data": {
      "text/plain": [
       "(5, 2)"
      ]
     },
     "execution_count": 25,
     "metadata": {},
     "output_type": "execute_result"
    }
   ],
   "source": [
    "np.zeros((5, 2)).shape"
   ]
  },
  {
   "cell_type": "code",
   "execution_count": 27,
   "id": "7b75c21d",
   "metadata": {},
   "outputs": [
    {
     "data": {
      "text/plain": [
       "5"
      ]
     },
     "execution_count": 27,
     "metadata": {},
     "output_type": "execute_result"
    }
   ],
   "source": [
    "num_rows = np.zeros((5, 2)).shape[0]\n",
    "num_rows"
   ]
  },
  {
   "cell_type": "code",
   "execution_count": 28,
   "id": "36bfa383",
   "metadata": {},
   "outputs": [
    {
     "data": {
      "text/plain": [
       "array([1., 1., 1., 1., 1.])"
      ]
     },
     "execution_count": 28,
     "metadata": {},
     "output_type": "execute_result"
    }
   ],
   "source": [
    "np.ones(5)"
   ]
  },
  {
   "cell_type": "code",
   "execution_count": 29,
   "id": "a9b666e4",
   "metadata": {},
   "outputs": [
    {
     "data": {
      "text/plain": [
       "array([[1., 1., 1., 1., 1.],\n",
       "       [1., 1., 1., 1., 1.],\n",
       "       [1., 1., 1., 1., 1.],\n",
       "       [1., 1., 1., 1., 1.],\n",
       "       [1., 1., 1., 1., 1.]])"
      ]
     },
     "execution_count": 29,
     "metadata": {},
     "output_type": "execute_result"
    }
   ],
   "source": [
    "np.ones((5, 5)) # 5 by 5 of all ones"
   ]
  },
  {
   "cell_type": "code",
   "execution_count": 30,
   "id": "8f907498",
   "metadata": {},
   "outputs": [
    {
     "data": {
      "text/plain": [
       "array(['a', 'a', 'a', 'a', 'a'], dtype='<U1')"
      ]
     },
     "execution_count": 30,
     "metadata": {},
     "output_type": "execute_result"
    }
   ],
   "source": [
    "np.full(5, 'a') "
   ]
  },
  {
   "cell_type": "markdown",
   "id": "c776a80e",
   "metadata": {},
   "source": [
    "**Question:** What is different about what is printed out compared to the previous arrays?"
   ]
  },
  {
   "cell_type": "code",
   "execution_count": 32,
   "id": "6287754c",
   "metadata": {},
   "outputs": [
    {
     "data": {
      "text/plain": [
       "array(['a', 'a', 'a', 'a', 'a'], dtype='<U1')"
      ]
     },
     "execution_count": 32,
     "metadata": {},
     "output_type": "execute_result"
    }
   ],
   "source": [
    "five_a_array = np.full(5, 'a')\n",
    "five_a_array"
   ]
  },
  {
   "cell_type": "code",
   "execution_count": 33,
   "id": "b999be5e",
   "metadata": {},
   "outputs": [
    {
     "data": {
      "text/plain": [
       "dtype('<U1')"
      ]
     },
     "execution_count": 33,
     "metadata": {},
     "output_type": "execute_result"
    }
   ],
   "source": [
    "five_a_array.dtype"
   ]
  },
  {
   "cell_type": "code",
   "execution_count": 34,
   "id": "3ae98635",
   "metadata": {},
   "outputs": [
    {
     "data": {
      "text/plain": [
       "dtype('float64')"
      ]
     },
     "execution_count": 34,
     "metadata": {},
     "output_type": "execute_result"
    }
   ],
   "source": [
    "np.zeros(5).dtype"
   ]
  },
  {
   "cell_type": "code",
   "execution_count": 35,
   "id": "bde09be6",
   "metadata": {},
   "outputs": [
    {
     "data": {
      "text/plain": [
       "array([[4, 4, 4],\n",
       "       [4, 4, 4],\n",
       "       [4, 4, 4]])"
      ]
     },
     "execution_count": 35,
     "metadata": {},
     "output_type": "execute_result"
    }
   ],
   "source": [
    "np.full((3, 3), 4)"
   ]
  },
  {
   "cell_type": "code",
   "execution_count": null,
   "id": "eaecd282",
   "metadata": {},
   "outputs": [],
   "source": [
    "np.empty(10)"
   ]
  },
  {
   "cell_type": "code",
   "execution_count": 36,
   "id": "4299ea7f",
   "metadata": {},
   "outputs": [
    {
     "data": {
      "text/plain": [
       "array([10, 11, 12, 13, 14, 15, 16, 17, 18, 19])"
      ]
     },
     "execution_count": 36,
     "metadata": {},
     "output_type": "execute_result"
    }
   ],
   "source": [
    "np.arange(10, 20)"
   ]
  },
  {
   "cell_type": "code",
   "execution_count": 37,
   "id": "70e050c9",
   "metadata": {},
   "outputs": [
    {
     "data": {
      "text/plain": [
       "array([10, 12, 14, 16, 18])"
      ]
     },
     "execution_count": 37,
     "metadata": {},
     "output_type": "execute_result"
    }
   ],
   "source": [
    "np.arange(10, 20, step=2)"
   ]
  },
  {
   "cell_type": "code",
   "execution_count": 38,
   "id": "15826fd5",
   "metadata": {},
   "outputs": [
    {
     "data": {
      "text/plain": [
       "array([10, 11, 12, 13, 14, 15, 16, 17, 18, 19])"
      ]
     },
     "execution_count": 38,
     "metadata": {},
     "output_type": "execute_result"
    }
   ],
   "source": [
    "np.arange(start=10, stop=20)"
   ]
  },
  {
   "cell_type": "code",
   "execution_count": 39,
   "id": "a69b1c76",
   "metadata": {},
   "outputs": [
    {
     "data": {
      "text/plain": [
       "array([10, 11, 12, 13, 14, 15, 16, 17, 18, 19])"
      ]
     },
     "execution_count": 39,
     "metadata": {},
     "output_type": "execute_result"
    }
   ],
   "source": [
    "np.arange(stop=20, start=10)"
   ]
  },
  {
   "cell_type": "code",
   "execution_count": 40,
   "id": "d13cadde",
   "metadata": {},
   "outputs": [
    {
     "data": {
      "text/plain": [
       "array([], dtype=int64)"
      ]
     },
     "execution_count": 40,
     "metadata": {},
     "output_type": "execute_result"
    }
   ],
   "source": [
    "np.arange(20, 10)"
   ]
  },
  {
   "cell_type": "code",
   "execution_count": 41,
   "id": "fbeb6dab",
   "metadata": {},
   "outputs": [
    {
     "data": {
      "text/plain": [
       "array([20, 19, 18, 17, 16, 15, 14, 13, 12, 11])"
      ]
     },
     "execution_count": 41,
     "metadata": {},
     "output_type": "execute_result"
    }
   ],
   "source": [
    "np.arange(20, 10, -1)"
   ]
  },
  {
   "cell_type": "markdown",
   "id": "36cacac2",
   "metadata": {},
   "source": [
    "(back to slides)\n",
    "\n",
    "### Element-wise operations"
   ]
  },
  {
   "cell_type": "code",
   "execution_count": 43,
   "id": "9eb3f736",
   "metadata": {},
   "outputs": [
    {
     "data": {
      "text/plain": [
       "[6, 7, 8, 9, 10]"
      ]
     },
     "execution_count": 43,
     "metadata": {},
     "output_type": "execute_result"
    }
   ],
   "source": [
    "numbers = [1,2,3,4,5]\n",
    "\n",
    "\n",
    "[item + 5 for item in numbers]"
   ]
  },
  {
   "cell_type": "code",
   "execution_count": 46,
   "id": "8280f995",
   "metadata": {},
   "outputs": [
    {
     "data": {
      "text/plain": [
       "array([ 6,  7,  8,  9, 10])"
      ]
     },
     "execution_count": 46,
     "metadata": {},
     "output_type": "execute_result"
    }
   ],
   "source": [
    "np.arange(1,6) + 5"
   ]
  },
  {
   "cell_type": "code",
   "execution_count": 60,
   "id": "81c79360",
   "metadata": {},
   "outputs": [
    {
     "data": {
      "text/plain": [
       "array([0.22065749, 0.48998924, 0.34985879, 0.08573526, 0.54105478])"
      ]
     },
     "execution_count": 60,
     "metadata": {},
     "output_type": "execute_result"
    }
   ],
   "source": [
    "random_array = np.random.rand(5)\n",
    "random_array"
   ]
  },
  {
   "cell_type": "code",
   "execution_count": 61,
   "id": "c0a05421",
   "metadata": {},
   "outputs": [
    {
     "data": {
      "text/plain": [
       "array([1.10328747, 2.44994621, 1.74929394, 0.42867632, 2.70527389])"
      ]
     },
     "execution_count": 61,
     "metadata": {},
     "output_type": "execute_result"
    }
   ],
   "source": [
    "random_array * 5"
   ]
  },
  {
   "cell_type": "code",
   "execution_count": 62,
   "id": "2590f030",
   "metadata": {},
   "outputs": [
    {
     "data": {
      "text/plain": [
       "array([0.0441315 , 0.09799785, 0.06997176, 0.01714705, 0.10821096])"
      ]
     },
     "execution_count": 62,
     "metadata": {},
     "output_type": "execute_result"
    }
   ],
   "source": [
    "random_array / 5"
   ]
  },
  {
   "cell_type": "code",
   "execution_count": 63,
   "id": "017493a5",
   "metadata": {},
   "outputs": [
    {
     "data": {
      "text/plain": [
       "array([5.22065749, 5.48998924, 5.34985879, 5.08573526, 5.54105478])"
      ]
     },
     "execution_count": 63,
     "metadata": {},
     "output_type": "execute_result"
    }
   ],
   "source": [
    "random_array + 5"
   ]
  },
  {
   "cell_type": "code",
   "execution_count": 64,
   "id": "d6cd6000",
   "metadata": {},
   "outputs": [
    {
     "data": {
      "text/plain": [
       "array([1.10328747, 2.44994621, 1.74929394, 0.42867632, 2.70527389])"
      ]
     },
     "execution_count": 64,
     "metadata": {},
     "output_type": "execute_result"
    }
   ],
   "source": [
    "random_array *= 5 # random_array = random_array * 5\n",
    "random_array"
   ]
  },
  {
   "cell_type": "code",
   "execution_count": 65,
   "id": "58bb6a5e",
   "metadata": {},
   "outputs": [
    {
     "data": {
      "text/plain": [
       "array([ True,  True,  True, False,  True])"
      ]
     },
     "execution_count": 65,
     "metadata": {},
     "output_type": "execute_result"
    }
   ],
   "source": [
    "random_array > 1"
   ]
  },
  {
   "cell_type": "code",
   "execution_count": 66,
   "id": "7e49ff99",
   "metadata": {},
   "outputs": [
    {
     "data": {
      "text/plain": [
       "array([False, False, False, False, False])"
      ]
     },
     "execution_count": 66,
     "metadata": {},
     "output_type": "execute_result"
    }
   ],
   "source": [
    "random_array == 1"
   ]
  },
  {
   "cell_type": "code",
   "execution_count": 68,
   "id": "f5b3c808",
   "metadata": {},
   "outputs": [
    {
     "data": {
      "text/plain": [
       "numpy.ndarray"
      ]
     },
     "execution_count": 68,
     "metadata": {},
     "output_type": "execute_result"
    }
   ],
   "source": [
    "boolean_array = random_array > 1\n",
    "type(boolean_array)"
   ]
  },
  {
   "cell_type": "code",
   "execution_count": 70,
   "id": "b1559484",
   "metadata": {},
   "outputs": [
    {
     "data": {
      "text/plain": [
       "dtype('bool')"
      ]
     },
     "execution_count": 70,
     "metadata": {},
     "output_type": "execute_result"
    }
   ],
   "source": [
    "boolean_array.dtype"
   ]
  },
  {
   "cell_type": "markdown",
   "id": "2e4d0b7e",
   "metadata": {},
   "source": [
    "#### Homogenous types"
   ]
  },
  {
   "cell_type": "code",
   "execution_count": 71,
   "id": "09bb8611",
   "metadata": {},
   "outputs": [
    {
     "data": {
      "text/plain": [
       "dtype('int64')"
      ]
     },
     "execution_count": 71,
     "metadata": {},
     "output_type": "execute_result"
    }
   ],
   "source": [
    "np.array([1,2,3]).dtype"
   ]
  },
  {
   "cell_type": "code",
   "execution_count": 76,
   "id": "d7d6d6b7",
   "metadata": {},
   "outputs": [
    {
     "data": {
      "text/plain": [
       "3"
      ]
     },
     "execution_count": 76,
     "metadata": {},
     "output_type": "execute_result"
    }
   ],
   "source": [
    "np.array([1,2,3])[-1]"
   ]
  },
  {
   "cell_type": "code",
   "execution_count": 78,
   "id": "14a3b244",
   "metadata": {},
   "outputs": [
    {
     "data": {
      "text/plain": [
       "array([2, 3])"
      ]
     },
     "execution_count": 78,
     "metadata": {},
     "output_type": "execute_result"
    }
   ],
   "source": [
    "np.array([1,2,3])[1:]"
   ]
  },
  {
   "cell_type": "code",
   "execution_count": 79,
   "id": "df8ccf3e",
   "metadata": {},
   "outputs": [
    {
     "data": {
      "text/plain": [
       "array(['1', 'two', '3'], dtype='<U21')"
      ]
     },
     "execution_count": 79,
     "metadata": {},
     "output_type": "execute_result"
    }
   ],
   "source": [
    "np.array([1, \"two\", 3])"
   ]
  },
  {
   "cell_type": "code",
   "execution_count": 80,
   "id": "5f3efc15",
   "metadata": {},
   "outputs": [
    {
     "data": {
      "text/plain": [
       "dtype('<U21')"
      ]
     },
     "execution_count": 80,
     "metadata": {},
     "output_type": "execute_result"
    }
   ],
   "source": [
    "np.array([1, \"two\", 3]).dtype"
   ]
  },
  {
   "cell_type": "code",
   "execution_count": 81,
   "id": "17d974f2",
   "metadata": {},
   "outputs": [
    {
     "data": {
      "text/plain": [
       "'1'"
      ]
     },
     "execution_count": 81,
     "metadata": {},
     "output_type": "execute_result"
    }
   ],
   "source": [
    "np.array([1, \"two\", 3])[0]"
   ]
  },
  {
   "cell_type": "code",
   "execution_count": 82,
   "id": "626660d8",
   "metadata": {},
   "outputs": [
    {
     "data": {
      "text/plain": [
       "numpy.str_"
      ]
     },
     "execution_count": 82,
     "metadata": {},
     "output_type": "execute_result"
    }
   ],
   "source": [
    "type(np.array([1, \"two\", 3])[0])"
   ]
  },
  {
   "cell_type": "code",
   "execution_count": 85,
   "id": "d9c9ef86",
   "metadata": {},
   "outputs": [
    {
     "data": {
      "text/plain": [
       "False"
      ]
     },
     "execution_count": 85,
     "metadata": {},
     "output_type": "execute_result"
    }
   ],
   "source": [
    "type(\"this is an example string\") == type(np.array([1, \"two\", 3])[0])"
   ]
  },
  {
   "cell_type": "markdown",
   "id": "fb17d044",
   "metadata": {},
   "source": [
    "#### Adding Arrays vs Lists"
   ]
  },
  {
   "cell_type": "code",
   "execution_count": 87,
   "id": "c11dcb4f",
   "metadata": {},
   "outputs": [
    {
     "data": {
      "text/plain": [
       "([0, 1, 2, 3, 4, 5, 6, 7, 8, 9],\n",
       " [10, 11, 12, 13, 14, 15, 16, 17, 18, 19],\n",
       " list)"
      ]
     },
     "execution_count": 87,
     "metadata": {},
     "output_type": "execute_result"
    }
   ],
   "source": [
    "list_one = [num for num in range(10)]\n",
    "list_two = [num for num in range(10, 20)]\n",
    "\n",
    "list_one, list_two, type(list_one)"
   ]
  },
  {
   "cell_type": "code",
   "execution_count": 88,
   "id": "9fc1598b",
   "metadata": {},
   "outputs": [
    {
     "data": {
      "text/plain": [
       "[0, 1, 2, 3, 4, 5, 6, 7, 8, 9, 10, 11, 12, 13, 14, 15, 16, 17, 18, 19]"
      ]
     },
     "execution_count": 88,
     "metadata": {},
     "output_type": "execute_result"
    }
   ],
   "source": [
    "list_one + list_two"
   ]
  },
  {
   "cell_type": "code",
   "execution_count": 89,
   "id": "dcd31b9c",
   "metadata": {},
   "outputs": [
    {
     "data": {
      "text/plain": [
       "[10, 12, 14, 16, 18, 20, 22, 24, 26, 28]"
      ]
     },
     "execution_count": 89,
     "metadata": {},
     "output_type": "execute_result"
    }
   ],
   "source": [
    "added_list = []\n",
    "for one, two in zip(list_one, list_two):\n",
    "    added_list.append(one + two)\n",
    "added_list"
   ]
  },
  {
   "cell_type": "markdown",
   "id": "e211be36",
   "metadata": {},
   "source": [
    "[do something for item in list <condition>]"
   ]
  },
  {
   "cell_type": "code",
   "execution_count": 90,
   "id": "c65c591f",
   "metadata": {},
   "outputs": [
    {
     "data": {
      "text/plain": [
       "[10, 12, 14, 16, 18, 20, 22, 24, 26, 28]"
      ]
     },
     "execution_count": 90,
     "metadata": {},
     "output_type": "execute_result"
    }
   ],
   "source": [
    "[one + two  for one, two in zip(list_one, list_two)]"
   ]
  },
  {
   "cell_type": "code",
   "execution_count": 91,
   "id": "ee4a75ec",
   "metadata": {},
   "outputs": [
    {
     "data": {
      "text/plain": [
       "(array([0, 1, 2, 3, 4, 5, 6, 7, 8, 9]),\n",
       " array([10, 11, 12, 13, 14, 15, 16, 17, 18, 19]))"
      ]
     },
     "execution_count": 91,
     "metadata": {},
     "output_type": "execute_result"
    }
   ],
   "source": [
    "array1 = np.arange(10)\n",
    "array2 = np.arange(10, 20)\n",
    "\n",
    "array1, array2"
   ]
  },
  {
   "cell_type": "code",
   "execution_count": 92,
   "id": "fd0cb318",
   "metadata": {},
   "outputs": [
    {
     "data": {
      "text/plain": [
       "array([10, 12, 14, 16, 18, 20, 22, 24, 26, 28])"
      ]
     },
     "execution_count": 92,
     "metadata": {},
     "output_type": "execute_result"
    }
   ],
   "source": [
    "array1 + array2"
   ]
  },
  {
   "cell_type": "markdown",
   "id": "730edfcd",
   "metadata": {},
   "source": [
    "#### Concatenating arrays"
   ]
  },
  {
   "cell_type": "code",
   "execution_count": 93,
   "id": "54758ce7",
   "metadata": {},
   "outputs": [
    {
     "data": {
      "text/plain": [
       "array([ 0,  1,  2,  3,  4,  5,  6,  7,  8,  9, 10, 11, 12, 13, 14, 15, 16,\n",
       "       17, 18, 19])"
      ]
     },
     "execution_count": 93,
     "metadata": {},
     "output_type": "execute_result"
    }
   ],
   "source": [
    "np.concatenate((array1, array2))"
   ]
  },
  {
   "cell_type": "markdown",
   "id": "dfbce0df",
   "metadata": {},
   "source": [
    "### Speed"
   ]
  },
  {
   "cell_type": "code",
   "execution_count": 98,
   "id": "46cc811f",
   "metadata": {},
   "outputs": [],
   "source": [
    "list_one = [random.random() for i in range(int(1e7))] # create a list of 10k random numbers\n",
    "list_two = [random.random() for i in range(int(1e7))]\n",
    "\n",
    "array_one = np.array(list_one)\n",
    "array_two = np.array(list_two)"
   ]
  },
  {
   "cell_type": "code",
   "execution_count": 99,
   "id": "510ef04f",
   "metadata": {},
   "outputs": [
    {
     "data": {
      "text/plain": [
       "3.387997627258301"
      ]
     },
     "execution_count": 99,
     "metadata": {},
     "output_type": "execute_result"
    }
   ],
   "source": [
    "list_three = []\n",
    "start = time.time()\n",
    "for one, two in zip(list_one, list_two):\n",
    "    list_three.append(one * two)\n",
    "end = time.time()\n",
    "end - start"
   ]
  },
  {
   "cell_type": "code",
   "execution_count": 100,
   "id": "a264780d",
   "metadata": {},
   "outputs": [
    {
     "data": {
      "text/plain": [
       "0.04576921463012695"
      ]
     },
     "execution_count": 100,
     "metadata": {},
     "output_type": "execute_result"
    }
   ],
   "source": [
    "start = time.time()\n",
    "array_three = array_one * array_two\n",
    "end = time.time()\n",
    "end - start"
   ]
  },
  {
   "cell_type": "markdown",
   "id": "47980644",
   "metadata": {},
   "source": [
    "Let's increase the size of the list to 1e8 and see if there is a larger difference"
   ]
  },
  {
   "cell_type": "code",
   "execution_count": null,
   "id": "b86c8662",
   "metadata": {},
   "outputs": [],
   "source": [
    "np.array([1,2,3,4])"
   ]
  },
  {
   "cell_type": "code",
   "execution_count": null,
   "id": "f3f94640",
   "metadata": {},
   "outputs": [],
   "source": [
    "np.arange(20)"
   ]
  },
  {
   "cell_type": "code",
   "execution_count": null,
   "id": "32012ee5",
   "metadata": {},
   "outputs": [],
   "source": [
    "type(np.arange(20))"
   ]
  },
  {
   "cell_type": "markdown",
   "id": "44a8f737",
   "metadata": {},
   "source": [
    "## Numpy Math Functions"
   ]
  },
  {
   "cell_type": "code",
   "execution_count": 101,
   "id": "53c2d392",
   "metadata": {},
   "outputs": [
    {
     "data": {
      "text/plain": [
       "array([-0.26102565,  1.19786751, -0.04273852,  1.19557279, -0.38429647,\n",
       "       -0.08511161,  0.02987767, -1.71108574,  1.58880855, -0.37785036,\n",
       "        0.75643005,  0.13669353, -0.67790953,  0.77678411,  0.43531734,\n",
       "       -0.02492461,  0.27366968,  0.64593856, -0.00222571,  1.31239193,\n",
       "       -0.16477506, -1.98562236,  0.81843284, -1.84680836,  0.08840747,\n",
       "        1.75900984, -0.36088447,  1.00172109,  0.58522671, -0.26250973])"
      ]
     },
     "execution_count": 101,
     "metadata": {},
     "output_type": "execute_result"
    }
   ],
   "source": [
    "random_array = np.random.randn(30)\n",
    "random_array"
   ]
  },
  {
   "cell_type": "code",
   "execution_count": 102,
   "id": "ce784862",
   "metadata": {},
   "outputs": [
    {
     "data": {
      "text/plain": [
       "0.14714604991347643"
      ]
     },
     "execution_count": 102,
     "metadata": {},
     "output_type": "execute_result"
    }
   ],
   "source": [
    "random_array.mean()"
   ]
  },
  {
   "cell_type": "code",
   "execution_count": 106,
   "id": "0874598f",
   "metadata": {},
   "outputs": [
    {
     "data": {
      "text/plain": [
       "900"
      ]
     },
     "execution_count": 106,
     "metadata": {},
     "output_type": "execute_result"
    }
   ],
   "source": [
    "example_array_one = np.arange(10) * 100\n",
    "example_array_one.max()"
   ]
  },
  {
   "cell_type": "code",
   "execution_count": 107,
   "id": "d1eb1b4d",
   "metadata": {},
   "outputs": [
    {
     "data": {
      "text/plain": [
       "9"
      ]
     },
     "execution_count": 107,
     "metadata": {},
     "output_type": "execute_result"
    }
   ],
   "source": [
    "example_array_one.argmax()"
   ]
  },
  {
   "cell_type": "code",
   "execution_count": 108,
   "id": "61a49423",
   "metadata": {},
   "outputs": [
    {
     "data": {
      "text/plain": [
       "array([  0, 100, 200, 300, 400, 500, 600, 700, 800, 900])"
      ]
     },
     "execution_count": 108,
     "metadata": {},
     "output_type": "execute_result"
    }
   ],
   "source": [
    "example_array_one"
   ]
  },
  {
   "cell_type": "code",
   "execution_count": 103,
   "id": "feed6578",
   "metadata": {},
   "outputs": [
    {
     "data": {
      "text/plain": [
       "array([0, 2, 9, 4, 8, 8, 1, 4, 1, 2, 7, 8, 6, 5, 3, 6, 9, 0, 1, 0, 3, 5,\n",
       "       2, 3, 6, 0, 0, 1, 0, 4, 9, 8, 0, 0, 6, 7, 7, 9, 1, 4, 5, 9, 9, 8,\n",
       "       4, 8, 1, 4, 1, 6])"
      ]
     },
     "execution_count": 103,
     "metadata": {},
     "output_type": "execute_result"
    }
   ],
   "source": [
    "random_int_array = np.random.randint(low = 0, high = 10, size = 50)\n",
    "random_int_array"
   ]
  },
  {
   "cell_type": "markdown",
   "id": "ecefbf03",
   "metadata": {},
   "source": [
    "**Question** Find the median of `random_int_array`"
   ]
  },
  {
   "cell_type": "code",
   "execution_count": 110,
   "id": "987d56e7",
   "metadata": {},
   "outputs": [
    {
     "data": {
      "text/plain": [
       "4.0"
      ]
     },
     "execution_count": 110,
     "metadata": {},
     "output_type": "execute_result"
    }
   ],
   "source": [
    "np.median(random_int_array)"
   ]
  },
  {
   "cell_type": "markdown",
   "id": "44801e3b",
   "metadata": {},
   "source": [
    "(back to slides)\n",
    "## Series"
   ]
  },
  {
   "cell_type": "code",
   "execution_count": 112,
   "id": "0e9fe3bd",
   "metadata": {},
   "outputs": [
    {
     "data": {
      "text/plain": [
       "array([5, 4, 2, 0, 1])"
      ]
     },
     "execution_count": 112,
     "metadata": {},
     "output_type": "execute_result"
    }
   ],
   "source": [
    "arr"
   ]
  },
  {
   "cell_type": "code",
   "execution_count": 121,
   "id": "3fde94e8",
   "metadata": {},
   "outputs": [
    {
     "data": {
      "text/plain": [
       "0    5\n",
       "1    4\n",
       "2    2\n",
       "3    0\n",
       "4    1\n",
       "dtype: int64"
      ]
     },
     "execution_count": 121,
     "metadata": {},
     "output_type": "execute_result"
    }
   ],
   "source": [
    "arr = np.array([5, 4, 2, 0, 1])\n",
    "s1 = pd.Series(arr)\n",
    "s1"
   ]
  },
  {
   "cell_type": "markdown",
   "id": "69cb609a",
   "metadata": {},
   "source": [
    "**Question:** What are the indices in `s1`?"
   ]
  },
  {
   "cell_type": "code",
   "execution_count": 115,
   "id": "dde1caf4",
   "metadata": {},
   "outputs": [
    {
     "data": {
      "text/plain": [
       "5"
      ]
     },
     "execution_count": 115,
     "metadata": {},
     "output_type": "execute_result"
    }
   ],
   "source": [
    "s1.max()"
   ]
  },
  {
   "cell_type": "code",
   "execution_count": 116,
   "id": "7184d82b",
   "metadata": {},
   "outputs": [
    {
     "data": {
      "text/plain": [
       "0"
      ]
     },
     "execution_count": 116,
     "metadata": {},
     "output_type": "execute_result"
    }
   ],
   "source": [
    "s1.argmax()"
   ]
  },
  {
   "cell_type": "code",
   "execution_count": 118,
   "id": "bc4334da",
   "metadata": {},
   "outputs": [
    {
     "data": {
      "text/plain": [
       "RangeIndex(start=1, stop=6, step=1)"
      ]
     },
     "execution_count": 118,
     "metadata": {},
     "output_type": "execute_result"
    }
   ],
   "source": [
    "s1.index + 1"
   ]
  },
  {
   "cell_type": "code",
   "execution_count": 122,
   "id": "9a891552",
   "metadata": {},
   "outputs": [
    {
     "data": {
      "text/plain": [
       "1    5\n",
       "2    4\n",
       "3    2\n",
       "4    0\n",
       "5    1\n",
       "dtype: int64"
      ]
     },
     "execution_count": 122,
     "metadata": {},
     "output_type": "execute_result"
    }
   ],
   "source": [
    "s1.index += 1\n",
    "s1"
   ]
  },
  {
   "cell_type": "code",
   "execution_count": 123,
   "id": "b6384dc7",
   "metadata": {},
   "outputs": [
    {
     "name": "stdout",
     "output_type": "stream",
     "text": [
      "a    5\n",
      "b    4\n",
      "c    2\n",
      "d    0\n",
      "e    1\n",
      "dtype: int64\n"
     ]
    }
   ],
   "source": [
    "s2 = pd.Series(arr, index=['a','b','c','d','e'])\n",
    "print(s2)"
   ]
  },
  {
   "cell_type": "markdown",
   "id": "5cabc99d",
   "metadata": {},
   "source": [
    "**Question:** What are the indices in `s2`?"
   ]
  },
  {
   "cell_type": "code",
   "execution_count": 125,
   "id": "9c545550",
   "metadata": {},
   "outputs": [
    {
     "data": {
      "text/plain": [
       "2"
      ]
     },
     "execution_count": 125,
     "metadata": {},
     "output_type": "execute_result"
    }
   ],
   "source": [
    "arr[2]"
   ]
  },
  {
   "cell_type": "code",
   "execution_count": 127,
   "id": "834e1b65",
   "metadata": {},
   "outputs": [
    {
     "data": {
      "text/plain": [
       "5"
      ]
     },
     "execution_count": 127,
     "metadata": {},
     "output_type": "execute_result"
    }
   ],
   "source": [
    "s2['a']"
   ]
  },
  {
   "cell_type": "code",
   "execution_count": 128,
   "id": "3946d504",
   "metadata": {},
   "outputs": [
    {
     "data": {
      "text/plain": [
       "5"
      ]
     },
     "execution_count": 128,
     "metadata": {},
     "output_type": "execute_result"
    }
   ],
   "source": [
    "s2[0]"
   ]
  },
  {
   "cell_type": "code",
   "execution_count": 129,
   "id": "a7675069",
   "metadata": {},
   "outputs": [
    {
     "data": {
      "text/plain": [
       "a    1\n",
       "b    2\n",
       "c    3\n",
       "dtype: int64"
      ]
     },
     "execution_count": 129,
     "metadata": {},
     "output_type": "execute_result"
    }
   ],
   "source": [
    "mydict = {'a': 1, 'b': 2, 'c': 3}\n",
    "s3 = pd.Series(mydict)\n",
    "s3"
   ]
  },
  {
   "cell_type": "code",
   "execution_count": 130,
   "id": "ce36c6dc",
   "metadata": {},
   "outputs": [
    {
     "data": {
      "text/plain": [
       "{'a': 1, 'b': 2, 'c': 3}"
      ]
     },
     "execution_count": 130,
     "metadata": {},
     "output_type": "execute_result"
    }
   ],
   "source": [
    "mydict"
   ]
  },
  {
   "cell_type": "code",
   "execution_count": 131,
   "id": "ca927494",
   "metadata": {},
   "outputs": [
    {
     "data": {
      "text/plain": [
       "b    2.0\n",
       "a    1.0\n",
       "d    NaN\n",
       "dtype: float64"
      ]
     },
     "execution_count": 131,
     "metadata": {},
     "output_type": "execute_result"
    }
   ],
   "source": [
    "s4 = pd.Series(mydict, index=['b','a','d'])\n",
    "s4"
   ]
  },
  {
   "cell_type": "markdown",
   "id": "2c724751",
   "metadata": {},
   "source": [
    "**Question:** What is `Nan`?"
   ]
  },
  {
   "cell_type": "code",
   "execution_count": 138,
   "id": "24f15b4d",
   "metadata": {},
   "outputs": [
    {
     "data": {
      "text/plain": [
       "(float, numpy.float64)"
      ]
     },
     "execution_count": 138,
     "metadata": {},
     "output_type": "execute_result"
    }
   ],
   "source": [
    "type(np.nan), type(s4[0])"
   ]
  },
  {
   "cell_type": "markdown",
   "id": "5b5cec49",
   "metadata": {},
   "source": [
    "**Question:** Why is the Series now a series of floats rather than ints?"
   ]
  },
  {
   "cell_type": "code",
   "execution_count": null,
   "id": "7711f4e9",
   "metadata": {},
   "outputs": [],
   "source": [
    "s4.isna()"
   ]
  },
  {
   "cell_type": "code",
   "execution_count": 140,
   "id": "a284724e",
   "metadata": {},
   "outputs": [
    {
     "data": {
      "text/plain": [
       "a    5\n",
       "b    5\n",
       "c    5\n",
       "dtype: int64"
      ]
     },
     "execution_count": 140,
     "metadata": {},
     "output_type": "execute_result"
    }
   ],
   "source": [
    "s5 = pd.Series(5, index=['a','b','c'])\n",
    "s5"
   ]
  },
  {
   "cell_type": "code",
   "execution_count": 141,
   "id": "c65c9582",
   "metadata": {},
   "outputs": [
    {
     "data": {
      "text/plain": [
       "0    string\n",
       "1    string\n",
       "2    string\n",
       "3    string\n",
       "4    string\n",
       "dtype: object"
      ]
     },
     "execution_count": 141,
     "metadata": {},
     "output_type": "execute_result"
    }
   ],
   "source": [
    "pd.Series(\"string\", index=np.arange(5))"
   ]
  },
  {
   "cell_type": "markdown",
   "id": "c7ce0cae",
   "metadata": {},
   "source": [
    "### Indexing Series"
   ]
  },
  {
   "cell_type": "code",
   "execution_count": null,
   "id": "b58f2411",
   "metadata": {},
   "outputs": [],
   "source": [
    "s5[1]"
   ]
  },
  {
   "cell_type": "code",
   "execution_count": null,
   "id": "419888d9",
   "metadata": {},
   "outputs": [],
   "source": [
    "s5['b']"
   ]
  },
  {
   "cell_type": "markdown",
   "id": "65c4b362",
   "metadata": {},
   "source": [
    "### Vectorized operations"
   ]
  },
  {
   "cell_type": "code",
   "execution_count": 142,
   "id": "aac1f03b",
   "metadata": {},
   "outputs": [
    {
     "data": {
      "text/plain": [
       "(a    5\n",
       " b    5\n",
       " c    5\n",
       " dtype: int64,\n",
       " a    1\n",
       " b    2\n",
       " c    3\n",
       " dtype: int64)"
      ]
     },
     "execution_count": 142,
     "metadata": {},
     "output_type": "execute_result"
    }
   ],
   "source": [
    "s5, s3"
   ]
  },
  {
   "cell_type": "code",
   "execution_count": 143,
   "id": "c9d79f7b",
   "metadata": {},
   "outputs": [
    {
     "data": {
      "text/plain": [
       "a    6\n",
       "b    7\n",
       "c    8\n",
       "dtype: int64"
      ]
     },
     "execution_count": 143,
     "metadata": {},
     "output_type": "execute_result"
    }
   ],
   "source": [
    "s5 + s3"
   ]
  },
  {
   "cell_type": "markdown",
   "id": "c0c8dbea",
   "metadata": {},
   "source": [
    "#### Adding mismatched indices"
   ]
  },
  {
   "cell_type": "code",
   "execution_count": 144,
   "id": "5b5ab92e",
   "metadata": {},
   "outputs": [
    {
     "data": {
      "text/plain": [
       "(1    5\n",
       " 2    4\n",
       " 3    2\n",
       " 4    0\n",
       " 5    1\n",
       " dtype: int64,\n",
       " a    1\n",
       " b    2\n",
       " c    3\n",
       " dtype: int64)"
      ]
     },
     "execution_count": 144,
     "metadata": {},
     "output_type": "execute_result"
    }
   ],
   "source": [
    "s1, s3"
   ]
  },
  {
   "cell_type": "code",
   "execution_count": 145,
   "id": "f6ee8494",
   "metadata": {},
   "outputs": [
    {
     "data": {
      "text/plain": [
       "1   NaN\n",
       "2   NaN\n",
       "3   NaN\n",
       "4   NaN\n",
       "5   NaN\n",
       "a   NaN\n",
       "b   NaN\n",
       "c   NaN\n",
       "dtype: float64"
      ]
     },
     "execution_count": 145,
     "metadata": {},
     "output_type": "execute_result"
    }
   ],
   "source": [
    "s1 + s3"
   ]
  },
  {
   "cell_type": "code",
   "execution_count": 146,
   "id": "c9eec8bb",
   "metadata": {},
   "outputs": [
    {
     "data": {
      "text/plain": [
       "nan"
      ]
     },
     "execution_count": 146,
     "metadata": {},
     "output_type": "execute_result"
    }
   ],
   "source": [
    "5 + np.nan"
   ]
  },
  {
   "cell_type": "code",
   "execution_count": 147,
   "id": "55805792",
   "metadata": {},
   "outputs": [
    {
     "data": {
      "text/plain": [
       "a    1\n",
       "b    2\n",
       "c    3\n",
       "dtype: int64"
      ]
     },
     "execution_count": 147,
     "metadata": {},
     "output_type": "execute_result"
    }
   ],
   "source": [
    "s3"
   ]
  },
  {
   "cell_type": "code",
   "execution_count": 148,
   "id": "7217abf6",
   "metadata": {},
   "outputs": [
    {
     "data": {
      "text/plain": [
       "2.0"
      ]
     },
     "execution_count": 148,
     "metadata": {},
     "output_type": "execute_result"
    }
   ],
   "source": [
    "s3.mean()"
   ]
  },
  {
   "cell_type": "markdown",
   "id": "1a3b6a22",
   "metadata": {},
   "source": [
    "#### Additional functions"
   ]
  },
  {
   "cell_type": "code",
   "execution_count": 149,
   "id": "e9a2e5ae",
   "metadata": {},
   "outputs": [
    {
     "data": {
      "text/plain": [
       "1    148.413159\n",
       "2     54.598150\n",
       "3      7.389056\n",
       "4      1.000000\n",
       "5      2.718282\n",
       "dtype: float64"
      ]
     },
     "execution_count": 149,
     "metadata": {},
     "output_type": "execute_result"
    }
   ],
   "source": [
    "np.exp(s1)"
   ]
  },
  {
   "cell_type": "code",
   "execution_count": null,
   "id": "838876a0",
   "metadata": {},
   "outputs": [],
   "source": [
    "s2"
   ]
  },
  {
   "cell_type": "code",
   "execution_count": 151,
   "id": "438011a5",
   "metadata": {},
   "outputs": [
    {
     "data": {
      "text/plain": [
       "(a    1.609438\n",
       " b    1.386294\n",
       " c    0.693147\n",
       " d        -inf\n",
       " e    0.000000\n",
       " dtype: float64,\n",
       " a    5\n",
       " b    4\n",
       " c    2\n",
       " d    0\n",
       " e    1\n",
       " dtype: int64)"
      ]
     },
     "execution_count": 151,
     "metadata": {},
     "output_type": "execute_result"
    }
   ],
   "source": [
    "np.log(s2), s2"
   ]
  },
  {
   "cell_type": "code",
   "execution_count": 152,
   "id": "260d5917",
   "metadata": {},
   "outputs": [
    {
     "data": {
      "text/plain": [
       "count    5.000000\n",
       "mean     2.400000\n",
       "std      2.073644\n",
       "min      0.000000\n",
       "25%      1.000000\n",
       "50%      2.000000\n",
       "75%      4.000000\n",
       "max      5.000000\n",
       "dtype: float64"
      ]
     },
     "execution_count": 152,
     "metadata": {},
     "output_type": "execute_result"
    }
   ],
   "source": [
    "s2.describe()"
   ]
  },
  {
   "cell_type": "markdown",
   "id": "ff088d10",
   "metadata": {},
   "source": [
    "(back to slides)\n",
    "\n",
    "## DataFrames\n",
    "\n"
   ]
  },
  {
   "cell_type": "markdown",
   "id": "274e710e",
   "metadata": {},
   "source": [
    "### Constructing a DataFrame"
   ]
  },
  {
   "cell_type": "markdown",
   "id": "06d50bad",
   "metadata": {},
   "source": [
    "##### Empty dataframe"
   ]
  },
  {
   "cell_type": "code",
   "execution_count": 153,
   "id": "85dc3935",
   "metadata": {},
   "outputs": [
    {
     "data": {
      "text/html": [
       "<div>\n",
       "<style scoped>\n",
       "    .dataframe tbody tr th:only-of-type {\n",
       "        vertical-align: middle;\n",
       "    }\n",
       "\n",
       "    .dataframe tbody tr th {\n",
       "        vertical-align: top;\n",
       "    }\n",
       "\n",
       "    .dataframe thead th {\n",
       "        text-align: right;\n",
       "    }\n",
       "</style>\n",
       "<table border=\"1\" class=\"dataframe\">\n",
       "  <thead>\n",
       "    <tr style=\"text-align: right;\">\n",
       "      <th></th>\n",
       "    </tr>\n",
       "  </thead>\n",
       "  <tbody>\n",
       "  </tbody>\n",
       "</table>\n",
       "</div>"
      ],
      "text/plain": [
       "Empty DataFrame\n",
       "Columns: []\n",
       "Index: []"
      ]
     },
     "execution_count": 153,
     "metadata": {},
     "output_type": "execute_result"
    }
   ],
   "source": [
    "pd.DataFrame()"
   ]
  },
  {
   "cell_type": "markdown",
   "id": "0d43ebab",
   "metadata": {},
   "source": [
    "##### Based on Dictionary"
   ]
  },
  {
   "cell_type": "code",
   "execution_count": 154,
   "id": "2d8056fe",
   "metadata": {},
   "outputs": [
    {
     "data": {
      "text/plain": [
       "(a    5\n",
       " b    4\n",
       " c    2\n",
       " d    0\n",
       " e    1\n",
       " dtype: int64,\n",
       " a    1\n",
       " b    2\n",
       " c    3\n",
       " dtype: int64)"
      ]
     },
     "execution_count": 154,
     "metadata": {},
     "output_type": "execute_result"
    }
   ],
   "source": [
    "s2, s3"
   ]
  },
  {
   "cell_type": "code",
   "execution_count": 155,
   "id": "48fceb9a",
   "metadata": {},
   "outputs": [
    {
     "data": {
      "text/html": [
       "<div>\n",
       "<style scoped>\n",
       "    .dataframe tbody tr th:only-of-type {\n",
       "        vertical-align: middle;\n",
       "    }\n",
       "\n",
       "    .dataframe tbody tr th {\n",
       "        vertical-align: top;\n",
       "    }\n",
       "\n",
       "    .dataframe thead th {\n",
       "        text-align: right;\n",
       "    }\n",
       "</style>\n",
       "<table border=\"1\" class=\"dataframe\">\n",
       "  <thead>\n",
       "    <tr style=\"text-align: right;\">\n",
       "      <th></th>\n",
       "      <th>column1</th>\n",
       "      <th>column2</th>\n",
       "    </tr>\n",
       "  </thead>\n",
       "  <tbody>\n",
       "    <tr>\n",
       "      <th>a</th>\n",
       "      <td>5</td>\n",
       "      <td>1.0</td>\n",
       "    </tr>\n",
       "    <tr>\n",
       "      <th>b</th>\n",
       "      <td>4</td>\n",
       "      <td>2.0</td>\n",
       "    </tr>\n",
       "    <tr>\n",
       "      <th>c</th>\n",
       "      <td>2</td>\n",
       "      <td>3.0</td>\n",
       "    </tr>\n",
       "    <tr>\n",
       "      <th>d</th>\n",
       "      <td>0</td>\n",
       "      <td>NaN</td>\n",
       "    </tr>\n",
       "    <tr>\n",
       "      <th>e</th>\n",
       "      <td>1</td>\n",
       "      <td>NaN</td>\n",
       "    </tr>\n",
       "  </tbody>\n",
       "</table>\n",
       "</div>"
      ],
      "text/plain": [
       "   column1  column2\n",
       "a        5      1.0\n",
       "b        4      2.0\n",
       "c        2      3.0\n",
       "d        0      NaN\n",
       "e        1      NaN"
      ]
     },
     "execution_count": 155,
     "metadata": {},
     "output_type": "execute_result"
    }
   ],
   "source": [
    "mydict = {'column1': s2, 'column2': s3}\n",
    "df1 = pd.DataFrame(mydict)\n",
    "\n",
    "df1"
   ]
  },
  {
   "cell_type": "markdown",
   "id": "ac04b604",
   "metadata": {},
   "source": [
    "Let's look at the indices of `df1`."
   ]
  },
  {
   "cell_type": "code",
   "execution_count": 156,
   "id": "5d349f1e",
   "metadata": {},
   "outputs": [
    {
     "data": {
      "text/plain": [
       "Index(['a', 'b', 'c', 'd', 'e'], dtype='object')"
      ]
     },
     "execution_count": 156,
     "metadata": {},
     "output_type": "execute_result"
    }
   ],
   "source": [
    "df1.index"
   ]
  },
  {
   "cell_type": "markdown",
   "id": "7b263d7c",
   "metadata": {},
   "source": [
    "**Question: Why are these the indices?**\n",
    "    \n",
    "<details>\n",
    "<summary>Hint</summary>\n",
    "<b>Let's look at `s2` and `s1`</b>  \n",
    "</details>"
   ]
  },
  {
   "cell_type": "code",
   "execution_count": 157,
   "id": "8b5ad86d",
   "metadata": {},
   "outputs": [
    {
     "data": {
      "text/plain": [
       "column1      int64\n",
       "column2    float64\n",
       "dtype: object"
      ]
     },
     "execution_count": 157,
     "metadata": {},
     "output_type": "execute_result"
    }
   ],
   "source": [
    "df1.dtypes"
   ]
  },
  {
   "cell_type": "markdown",
   "id": "765cbf2d",
   "metadata": {},
   "source": [
    "**Question:** What if the indices don't match up?"
   ]
  },
  {
   "cell_type": "code",
   "execution_count": 158,
   "id": "c551d834",
   "metadata": {},
   "outputs": [
    {
     "data": {
      "text/plain": [
       "(1    5\n",
       " 2    4\n",
       " 3    2\n",
       " 4    0\n",
       " 5    1\n",
       " dtype: int64,\n",
       " a    5\n",
       " b    4\n",
       " c    2\n",
       " d    0\n",
       " e    1\n",
       " dtype: int64)"
      ]
     },
     "execution_count": 158,
     "metadata": {},
     "output_type": "execute_result"
    }
   ],
   "source": [
    "s1, s2"
   ]
  },
  {
   "cell_type": "code",
   "execution_count": 159,
   "id": "2efb10a5",
   "metadata": {},
   "outputs": [
    {
     "data": {
      "text/html": [
       "<div>\n",
       "<style scoped>\n",
       "    .dataframe tbody tr th:only-of-type {\n",
       "        vertical-align: middle;\n",
       "    }\n",
       "\n",
       "    .dataframe tbody tr th {\n",
       "        vertical-align: top;\n",
       "    }\n",
       "\n",
       "    .dataframe thead th {\n",
       "        text-align: right;\n",
       "    }\n",
       "</style>\n",
       "<table border=\"1\" class=\"dataframe\">\n",
       "  <thead>\n",
       "    <tr style=\"text-align: right;\">\n",
       "      <th></th>\n",
       "      <th>column1</th>\n",
       "      <th>column2</th>\n",
       "    </tr>\n",
       "  </thead>\n",
       "  <tbody>\n",
       "    <tr>\n",
       "      <th>1</th>\n",
       "      <td>5.0</td>\n",
       "      <td>NaN</td>\n",
       "    </tr>\n",
       "    <tr>\n",
       "      <th>2</th>\n",
       "      <td>4.0</td>\n",
       "      <td>NaN</td>\n",
       "    </tr>\n",
       "    <tr>\n",
       "      <th>3</th>\n",
       "      <td>2.0</td>\n",
       "      <td>NaN</td>\n",
       "    </tr>\n",
       "    <tr>\n",
       "      <th>4</th>\n",
       "      <td>0.0</td>\n",
       "      <td>NaN</td>\n",
       "    </tr>\n",
       "    <tr>\n",
       "      <th>5</th>\n",
       "      <td>1.0</td>\n",
       "      <td>NaN</td>\n",
       "    </tr>\n",
       "    <tr>\n",
       "      <th>a</th>\n",
       "      <td>NaN</td>\n",
       "      <td>5.0</td>\n",
       "    </tr>\n",
       "    <tr>\n",
       "      <th>b</th>\n",
       "      <td>NaN</td>\n",
       "      <td>4.0</td>\n",
       "    </tr>\n",
       "    <tr>\n",
       "      <th>c</th>\n",
       "      <td>NaN</td>\n",
       "      <td>2.0</td>\n",
       "    </tr>\n",
       "    <tr>\n",
       "      <th>d</th>\n",
       "      <td>NaN</td>\n",
       "      <td>0.0</td>\n",
       "    </tr>\n",
       "    <tr>\n",
       "      <th>e</th>\n",
       "      <td>NaN</td>\n",
       "      <td>1.0</td>\n",
       "    </tr>\n",
       "  </tbody>\n",
       "</table>\n",
       "</div>"
      ],
      "text/plain": [
       "   column1  column2\n",
       "1      5.0      NaN\n",
       "2      4.0      NaN\n",
       "3      2.0      NaN\n",
       "4      0.0      NaN\n",
       "5      1.0      NaN\n",
       "a      NaN      5.0\n",
       "b      NaN      4.0\n",
       "c      NaN      2.0\n",
       "d      NaN      0.0\n",
       "e      NaN      1.0"
      ]
     },
     "execution_count": 159,
     "metadata": {},
     "output_type": "execute_result"
    }
   ],
   "source": [
    "mydict = {'column1': s1, 'column2': s2}\n",
    "df2 = pd.DataFrame(mydict)\n",
    "\n",
    "df2"
   ]
  },
  {
   "cell_type": "code",
   "execution_count": 160,
   "id": "ba7ec827",
   "metadata": {},
   "outputs": [
    {
     "data": {
      "text/plain": [
       "Index([1, 2, 3, 4, 5, 'a', 'b', 'c', 'd', 'e'], dtype='object')"
      ]
     },
     "execution_count": 160,
     "metadata": {},
     "output_type": "execute_result"
    }
   ],
   "source": [
    "df2.index"
   ]
  },
  {
   "cell_type": "code",
   "execution_count": 162,
   "id": "54d79e38",
   "metadata": {},
   "outputs": [
    {
     "data": {
      "text/plain": [
       "RangeIndex(start=1, stop=6, step=1)"
      ]
     },
     "execution_count": 162,
     "metadata": {},
     "output_type": "execute_result"
    }
   ],
   "source": [
    "s1.index"
   ]
  },
  {
   "cell_type": "markdown",
   "id": "f2944aea",
   "metadata": {},
   "source": [
    "#### Adding Columns to a dataframe\n",
    "\n",
    "2 ways:\n",
    "- `df.assign(<column name>=<list>)`\n",
    "- `df[<column name>] = <list>`  - access like a collection"
   ]
  },
  {
   "cell_type": "code",
   "execution_count": 163,
   "id": "6077f7c7",
   "metadata": {},
   "outputs": [
    {
     "data": {
      "text/html": [
       "<div>\n",
       "<style scoped>\n",
       "    .dataframe tbody tr th:only-of-type {\n",
       "        vertical-align: middle;\n",
       "    }\n",
       "\n",
       "    .dataframe tbody tr th {\n",
       "        vertical-align: top;\n",
       "    }\n",
       "\n",
       "    .dataframe thead th {\n",
       "        text-align: right;\n",
       "    }\n",
       "</style>\n",
       "<table border=\"1\" class=\"dataframe\">\n",
       "  <thead>\n",
       "    <tr style=\"text-align: right;\">\n",
       "      <th></th>\n",
       "    </tr>\n",
       "  </thead>\n",
       "  <tbody>\n",
       "  </tbody>\n",
       "</table>\n",
       "</div>"
      ],
      "text/plain": [
       "Empty DataFrame\n",
       "Columns: []\n",
       "Index: []"
      ]
     },
     "execution_count": 163,
     "metadata": {},
     "output_type": "execute_result"
    }
   ],
   "source": [
    "df3 = pd.DataFrame()\n",
    "df3"
   ]
  },
  {
   "cell_type": "code",
   "execution_count": 165,
   "id": "4d31e06d",
   "metadata": {},
   "outputs": [
    {
     "data": {
      "text/html": [
       "<div>\n",
       "<style scoped>\n",
       "    .dataframe tbody tr th:only-of-type {\n",
       "        vertical-align: middle;\n",
       "    }\n",
       "\n",
       "    .dataframe tbody tr th {\n",
       "        vertical-align: top;\n",
       "    }\n",
       "\n",
       "    .dataframe thead th {\n",
       "        text-align: right;\n",
       "    }\n",
       "</style>\n",
       "<table border=\"1\" class=\"dataframe\">\n",
       "  <thead>\n",
       "    <tr style=\"text-align: right;\">\n",
       "      <th></th>\n",
       "      <th>column_one</th>\n",
       "    </tr>\n",
       "  </thead>\n",
       "  <tbody>\n",
       "    <tr>\n",
       "      <th>0</th>\n",
       "      <td>-0.051360</td>\n",
       "    </tr>\n",
       "    <tr>\n",
       "      <th>1</th>\n",
       "      <td>-1.021937</td>\n",
       "    </tr>\n",
       "    <tr>\n",
       "      <th>2</th>\n",
       "      <td>1.068062</td>\n",
       "    </tr>\n",
       "    <tr>\n",
       "      <th>3</th>\n",
       "      <td>-1.250372</td>\n",
       "    </tr>\n",
       "    <tr>\n",
       "      <th>4</th>\n",
       "      <td>-0.749344</td>\n",
       "    </tr>\n",
       "  </tbody>\n",
       "</table>\n",
       "</div>"
      ],
      "text/plain": [
       "   column_one\n",
       "0   -0.051360\n",
       "1   -1.021937\n",
       "2    1.068062\n",
       "3   -1.250372\n",
       "4   -0.749344"
      ]
     },
     "execution_count": 165,
     "metadata": {},
     "output_type": "execute_result"
    }
   ],
   "source": [
    "df3.assign(column_one = np.random.randn(5))"
   ]
  },
  {
   "cell_type": "code",
   "execution_count": 167,
   "id": "e7625473",
   "metadata": {},
   "outputs": [
    {
     "data": {
      "text/html": [
       "<div>\n",
       "<style scoped>\n",
       "    .dataframe tbody tr th:only-of-type {\n",
       "        vertical-align: middle;\n",
       "    }\n",
       "\n",
       "    .dataframe tbody tr th {\n",
       "        vertical-align: top;\n",
       "    }\n",
       "\n",
       "    .dataframe thead th {\n",
       "        text-align: right;\n",
       "    }\n",
       "</style>\n",
       "<table border=\"1\" class=\"dataframe\">\n",
       "  <thead>\n",
       "    <tr style=\"text-align: right;\">\n",
       "      <th></th>\n",
       "      <th>column_one</th>\n",
       "    </tr>\n",
       "  </thead>\n",
       "  <tbody>\n",
       "    <tr>\n",
       "      <th>0</th>\n",
       "      <td>0.280962</td>\n",
       "    </tr>\n",
       "    <tr>\n",
       "      <th>1</th>\n",
       "      <td>0.056487</td>\n",
       "    </tr>\n",
       "    <tr>\n",
       "      <th>2</th>\n",
       "      <td>1.676626</td>\n",
       "    </tr>\n",
       "    <tr>\n",
       "      <th>3</th>\n",
       "      <td>-1.245970</td>\n",
       "    </tr>\n",
       "    <tr>\n",
       "      <th>4</th>\n",
       "      <td>-1.273119</td>\n",
       "    </tr>\n",
       "  </tbody>\n",
       "</table>\n",
       "</div>"
      ],
      "text/plain": [
       "   column_one\n",
       "0    0.280962\n",
       "1    0.056487\n",
       "2    1.676626\n",
       "3   -1.245970\n",
       "4   -1.273119"
      ]
     },
     "execution_count": 167,
     "metadata": {},
     "output_type": "execute_result"
    }
   ],
   "source": [
    "df3 = df3.assign(column_one = np.random.randn(5))\n",
    "df3"
   ]
  },
  {
   "cell_type": "code",
   "execution_count": 169,
   "id": "8a2e6e93",
   "metadata": {},
   "outputs": [
    {
     "data": {
      "text/html": [
       "<div>\n",
       "<style scoped>\n",
       "    .dataframe tbody tr th:only-of-type {\n",
       "        vertical-align: middle;\n",
       "    }\n",
       "\n",
       "    .dataframe tbody tr th {\n",
       "        vertical-align: top;\n",
       "    }\n",
       "\n",
       "    .dataframe thead th {\n",
       "        text-align: right;\n",
       "    }\n",
       "</style>\n",
       "<table border=\"1\" class=\"dataframe\">\n",
       "  <thead>\n",
       "    <tr style=\"text-align: right;\">\n",
       "      <th></th>\n",
       "      <th>column_one</th>\n",
       "      <th>column_two</th>\n",
       "    </tr>\n",
       "  </thead>\n",
       "  <tbody>\n",
       "    <tr>\n",
       "      <th>0</th>\n",
       "      <td>0.280962</td>\n",
       "      <td>5</td>\n",
       "    </tr>\n",
       "    <tr>\n",
       "      <th>1</th>\n",
       "      <td>0.056487</td>\n",
       "      <td>5</td>\n",
       "    </tr>\n",
       "    <tr>\n",
       "      <th>2</th>\n",
       "      <td>1.676626</td>\n",
       "      <td>5</td>\n",
       "    </tr>\n",
       "    <tr>\n",
       "      <th>3</th>\n",
       "      <td>-1.245970</td>\n",
       "      <td>5</td>\n",
       "    </tr>\n",
       "    <tr>\n",
       "      <th>4</th>\n",
       "      <td>-1.273119</td>\n",
       "      <td>5</td>\n",
       "    </tr>\n",
       "  </tbody>\n",
       "</table>\n",
       "</div>"
      ],
      "text/plain": [
       "   column_one  column_two\n",
       "0    0.280962           5\n",
       "1    0.056487           5\n",
       "2    1.676626           5\n",
       "3   -1.245970           5\n",
       "4   -1.273119           5"
      ]
     },
     "execution_count": 169,
     "metadata": {},
     "output_type": "execute_result"
    }
   ],
   "source": [
    "df3['column_two'] = 5\n",
    "df3"
   ]
  },
  {
   "cell_type": "code",
   "execution_count": 170,
   "id": "59dbe594",
   "metadata": {},
   "outputs": [
    {
     "data": {
      "text/plain": [
       "10"
      ]
     },
     "execution_count": 170,
     "metadata": {},
     "output_type": "execute_result"
    }
   ],
   "source": [
    "df3.size"
   ]
  },
  {
   "cell_type": "code",
   "execution_count": 171,
   "id": "d2ea6612",
   "metadata": {},
   "outputs": [
    {
     "data": {
      "text/plain": [
       "(5, 2)"
      ]
     },
     "execution_count": 171,
     "metadata": {},
     "output_type": "execute_result"
    }
   ],
   "source": [
    "df3.shape"
   ]
  },
  {
   "cell_type": "markdown",
   "id": "2e24013d",
   "metadata": {},
   "source": [
    "Adding a new column of a different length"
   ]
  },
  {
   "cell_type": "markdown",
   "id": "616c9400",
   "metadata": {},
   "source": [
    "**Question:** Why do we think the next line will throw an error?"
   ]
  },
  {
   "cell_type": "code",
   "execution_count": 172,
   "id": "8b7b6562",
   "metadata": {},
   "outputs": [
    {
     "data": {
      "text/plain": [
       "array([ 1.01153164,  0.7415595 ,  1.38637033, -0.58985323,  1.22718878,\n",
       "        0.46597923])"
      ]
     },
     "execution_count": 172,
     "metadata": {},
     "output_type": "execute_result"
    }
   ],
   "source": [
    "np.random.randn(6)"
   ]
  },
  {
   "cell_type": "code",
   "execution_count": 173,
   "id": "5ab6c286",
   "metadata": {},
   "outputs": [
    {
     "ename": "ValueError",
     "evalue": "Length of values (6) does not match length of index (5)",
     "output_type": "error",
     "traceback": [
      "\u001b[0;31m---------------------------------------------------------------------------\u001b[0m",
      "\u001b[0;31mValueError\u001b[0m                                Traceback (most recent call last)",
      "\u001b[0;32m<ipython-input-173-7e2647dbd7bd>\u001b[0m in \u001b[0;36m<module>\u001b[0;34m\u001b[0m\n\u001b[0;32m----> 1\u001b[0;31m \u001b[0mdf3\u001b[0m\u001b[0;34m[\u001b[0m\u001b[0;34m'three'\u001b[0m\u001b[0;34m]\u001b[0m \u001b[0;34m=\u001b[0m \u001b[0mnp\u001b[0m\u001b[0;34m.\u001b[0m\u001b[0mrandom\u001b[0m\u001b[0;34m.\u001b[0m\u001b[0mrandn\u001b[0m\u001b[0;34m(\u001b[0m\u001b[0;36m6\u001b[0m\u001b[0;34m)\u001b[0m\u001b[0;34m\u001b[0m\u001b[0;34m\u001b[0m\u001b[0m\n\u001b[0m",
      "\u001b[0;32m/opt/conda/lib/python3.8/site-packages/pandas/core/frame.py\u001b[0m in \u001b[0;36m__setitem__\u001b[0;34m(self, key, value)\u001b[0m\n\u001b[1;32m   3161\u001b[0m         \u001b[0;32melse\u001b[0m\u001b[0;34m:\u001b[0m\u001b[0;34m\u001b[0m\u001b[0;34m\u001b[0m\u001b[0m\n\u001b[1;32m   3162\u001b[0m             \u001b[0;31m# set column\u001b[0m\u001b[0;34m\u001b[0m\u001b[0;34m\u001b[0m\u001b[0;34m\u001b[0m\u001b[0m\n\u001b[0;32m-> 3163\u001b[0;31m             \u001b[0mself\u001b[0m\u001b[0;34m.\u001b[0m\u001b[0m_set_item\u001b[0m\u001b[0;34m(\u001b[0m\u001b[0mkey\u001b[0m\u001b[0;34m,\u001b[0m \u001b[0mvalue\u001b[0m\u001b[0;34m)\u001b[0m\u001b[0;34m\u001b[0m\u001b[0;34m\u001b[0m\u001b[0m\n\u001b[0m\u001b[1;32m   3164\u001b[0m \u001b[0;34m\u001b[0m\u001b[0m\n\u001b[1;32m   3165\u001b[0m     \u001b[0;32mdef\u001b[0m \u001b[0m_setitem_slice\u001b[0m\u001b[0;34m(\u001b[0m\u001b[0mself\u001b[0m\u001b[0;34m,\u001b[0m \u001b[0mkey\u001b[0m\u001b[0;34m:\u001b[0m \u001b[0mslice\u001b[0m\u001b[0;34m,\u001b[0m \u001b[0mvalue\u001b[0m\u001b[0;34m)\u001b[0m\u001b[0;34m:\u001b[0m\u001b[0;34m\u001b[0m\u001b[0;34m\u001b[0m\u001b[0m\n",
      "\u001b[0;32m/opt/conda/lib/python3.8/site-packages/pandas/core/frame.py\u001b[0m in \u001b[0;36m_set_item\u001b[0;34m(self, key, value)\u001b[0m\n\u001b[1;32m   3240\u001b[0m         \"\"\"\n\u001b[1;32m   3241\u001b[0m         \u001b[0mself\u001b[0m\u001b[0;34m.\u001b[0m\u001b[0m_ensure_valid_index\u001b[0m\u001b[0;34m(\u001b[0m\u001b[0mvalue\u001b[0m\u001b[0;34m)\u001b[0m\u001b[0;34m\u001b[0m\u001b[0;34m\u001b[0m\u001b[0m\n\u001b[0;32m-> 3242\u001b[0;31m         \u001b[0mvalue\u001b[0m \u001b[0;34m=\u001b[0m \u001b[0mself\u001b[0m\u001b[0;34m.\u001b[0m\u001b[0m_sanitize_column\u001b[0m\u001b[0;34m(\u001b[0m\u001b[0mkey\u001b[0m\u001b[0;34m,\u001b[0m \u001b[0mvalue\u001b[0m\u001b[0;34m)\u001b[0m\u001b[0;34m\u001b[0m\u001b[0;34m\u001b[0m\u001b[0m\n\u001b[0m\u001b[1;32m   3243\u001b[0m         \u001b[0mNDFrame\u001b[0m\u001b[0;34m.\u001b[0m\u001b[0m_set_item\u001b[0m\u001b[0;34m(\u001b[0m\u001b[0mself\u001b[0m\u001b[0;34m,\u001b[0m \u001b[0mkey\u001b[0m\u001b[0;34m,\u001b[0m \u001b[0mvalue\u001b[0m\u001b[0;34m)\u001b[0m\u001b[0;34m\u001b[0m\u001b[0;34m\u001b[0m\u001b[0m\n\u001b[1;32m   3244\u001b[0m \u001b[0;34m\u001b[0m\u001b[0m\n",
      "\u001b[0;32m/opt/conda/lib/python3.8/site-packages/pandas/core/frame.py\u001b[0m in \u001b[0;36m_sanitize_column\u001b[0;34m(self, key, value, broadcast)\u001b[0m\n\u001b[1;32m   3897\u001b[0m \u001b[0;34m\u001b[0m\u001b[0m\n\u001b[1;32m   3898\u001b[0m             \u001b[0;31m# turn me into an ndarray\u001b[0m\u001b[0;34m\u001b[0m\u001b[0;34m\u001b[0m\u001b[0;34m\u001b[0m\u001b[0m\n\u001b[0;32m-> 3899\u001b[0;31m             \u001b[0mvalue\u001b[0m \u001b[0;34m=\u001b[0m \u001b[0msanitize_index\u001b[0m\u001b[0;34m(\u001b[0m\u001b[0mvalue\u001b[0m\u001b[0;34m,\u001b[0m \u001b[0mself\u001b[0m\u001b[0;34m.\u001b[0m\u001b[0mindex\u001b[0m\u001b[0;34m)\u001b[0m\u001b[0;34m\u001b[0m\u001b[0;34m\u001b[0m\u001b[0m\n\u001b[0m\u001b[1;32m   3900\u001b[0m             \u001b[0;32mif\u001b[0m \u001b[0;32mnot\u001b[0m \u001b[0misinstance\u001b[0m\u001b[0;34m(\u001b[0m\u001b[0mvalue\u001b[0m\u001b[0;34m,\u001b[0m \u001b[0;34m(\u001b[0m\u001b[0mnp\u001b[0m\u001b[0;34m.\u001b[0m\u001b[0mndarray\u001b[0m\u001b[0;34m,\u001b[0m \u001b[0mIndex\u001b[0m\u001b[0;34m)\u001b[0m\u001b[0;34m)\u001b[0m\u001b[0;34m:\u001b[0m\u001b[0;34m\u001b[0m\u001b[0;34m\u001b[0m\u001b[0m\n\u001b[1;32m   3901\u001b[0m                 \u001b[0;32mif\u001b[0m \u001b[0misinstance\u001b[0m\u001b[0;34m(\u001b[0m\u001b[0mvalue\u001b[0m\u001b[0;34m,\u001b[0m \u001b[0mlist\u001b[0m\u001b[0;34m)\u001b[0m \u001b[0;32mand\u001b[0m \u001b[0mlen\u001b[0m\u001b[0;34m(\u001b[0m\u001b[0mvalue\u001b[0m\u001b[0;34m)\u001b[0m \u001b[0;34m>\u001b[0m \u001b[0;36m0\u001b[0m\u001b[0;34m:\u001b[0m\u001b[0;34m\u001b[0m\u001b[0;34m\u001b[0m\u001b[0m\n",
      "\u001b[0;32m/opt/conda/lib/python3.8/site-packages/pandas/core/internals/construction.py\u001b[0m in \u001b[0;36msanitize_index\u001b[0;34m(data, index)\u001b[0m\n\u001b[1;32m    749\u001b[0m     \"\"\"\n\u001b[1;32m    750\u001b[0m     \u001b[0;32mif\u001b[0m \u001b[0mlen\u001b[0m\u001b[0;34m(\u001b[0m\u001b[0mdata\u001b[0m\u001b[0;34m)\u001b[0m \u001b[0;34m!=\u001b[0m \u001b[0mlen\u001b[0m\u001b[0;34m(\u001b[0m\u001b[0mindex\u001b[0m\u001b[0;34m)\u001b[0m\u001b[0;34m:\u001b[0m\u001b[0;34m\u001b[0m\u001b[0;34m\u001b[0m\u001b[0m\n\u001b[0;32m--> 751\u001b[0;31m         raise ValueError(\n\u001b[0m\u001b[1;32m    752\u001b[0m             \u001b[0;34m\"Length of values \"\u001b[0m\u001b[0;34m\u001b[0m\u001b[0;34m\u001b[0m\u001b[0m\n\u001b[1;32m    753\u001b[0m             \u001b[0;34mf\"({len(data)}) \"\u001b[0m\u001b[0;34m\u001b[0m\u001b[0;34m\u001b[0m\u001b[0m\n",
      "\u001b[0;31mValueError\u001b[0m: Length of values (6) does not match length of index (5)"
     ]
    }
   ],
   "source": [
    "df3['three'] = np.random.randn(6)"
   ]
  },
  {
   "cell_type": "code",
   "execution_count": null,
   "id": "7adfed99",
   "metadata": {},
   "outputs": [],
   "source": [
    "df3['example'] = 'example'\n",
    "df3"
   ]
  },
  {
   "cell_type": "markdown",
   "id": "c517ae79",
   "metadata": {},
   "source": [
    "### Pudding Film Dialogue Data"
   ]
  },
  {
   "cell_type": "markdown",
   "id": "7d6cc249",
   "metadata": {},
   "source": [
    "The data we will work with today comes from https://pudding.cool/2017/03/film-dialogue/\n",
    "\n",
    "> Lately, Hollywood has been taking so much shit for rampant sexism and racism. The prevailing theme: white men dominate movie roles.\n",
    "\n",
    "> But it’s all rhetoric and no data, which gets us nowhere in terms of having an informed discussion. How many movies are actually about men? What changes by genre, era, or box-office revenue? What circumstances generate more diversity?\n",
    "\n",
    "> We didn’t set out trying to prove anything, but rather compile real data. We framed it as a census rather than a study. So we Googled our way to 8,000 screenplays and matched each character’s lines to an actor. From there, we compiled the number of words spoken by male and female characters across roughly 2,000 films, arguably the largest undertaking of script analysis, ever."
   ]
  },
  {
   "cell_type": "code",
   "execution_count": 174,
   "id": "4e0c3bb8",
   "metadata": {},
   "outputs": [
    {
     "name": "stdout",
     "output_type": "stream",
     "text": [
      "23048 data/Pudding-Film-Dialogue-Clean.csv\n"
     ]
    }
   ],
   "source": [
    "!wc -l data/Pudding-Film-Dialogue-Clean.csv"
   ]
  },
  {
   "cell_type": "code",
   "execution_count": 175,
   "id": "48920301",
   "metadata": {},
   "outputs": [
    {
     "name": "stdout",
     "output_type": "stream",
     "text": [
      "\"title\",\"release_year\",\"character\",\"gender\",\"words\",\"proportion_of_dialogue\",\"age\",\"gross\",\"script_id\"\n",
      "\"The Bridges of Madison County\",1995,\"Betty\",\"woman\",311,0.0486393494,35,142,280\n",
      "\"The Bridges of Madison County\",1995,\"Carolyn Johnson\",\"woman\",873,0.1365342509,,142,280\n",
      "\"The Bridges of Madison County\",1995,\"Eleanor\",\"woman\",138,0.0215827338,,142,280\n",
      "\"The Bridges of Madison County\",1995,\"Francesca Johns\",\"woman\",2251,0.3520487957,46,142,280\n",
      "\"The Bridges of Madison County\",1995,\"Madge\",\"woman\",190,0.0297153581,46,142,280\n",
      "\"The Bridges of Madison County\",1995,\"Michael Johnson\",\"man\",723,0.1130747576,38,142,280\n",
      "\"The Bridges of Madison County\",1995,\"Robert Kincaid\",\"man\",1908,0.2984047545,65,142,280\n",
      "\"15 Minutes\",2001,\"Bobby Korfin\",\"man\",328,0.0360122969,,37,623\n",
      "\"15 Minutes\",2001,\"Daphne Handlova\",\"woman\",409,0.0449055775,28,37,623\n"
     ]
    }
   ],
   "source": [
    "!head data/Pudding-Film-Dialogue-Clean.csv"
   ]
  },
  {
   "cell_type": "code",
   "execution_count": 176,
   "id": "ca07d106",
   "metadata": {},
   "outputs": [
    {
     "data": {
      "text/html": [
       "<div>\n",
       "<style scoped>\n",
       "    .dataframe tbody tr th:only-of-type {\n",
       "        vertical-align: middle;\n",
       "    }\n",
       "\n",
       "    .dataframe tbody tr th {\n",
       "        vertical-align: top;\n",
       "    }\n",
       "\n",
       "    .dataframe thead th {\n",
       "        text-align: right;\n",
       "    }\n",
       "</style>\n",
       "<table border=\"1\" class=\"dataframe\">\n",
       "  <thead>\n",
       "    <tr style=\"text-align: right;\">\n",
       "      <th></th>\n",
       "      <th>title</th>\n",
       "      <th>release_year</th>\n",
       "      <th>character</th>\n",
       "      <th>gender</th>\n",
       "      <th>words</th>\n",
       "      <th>proportion_of_dialogue</th>\n",
       "      <th>age</th>\n",
       "      <th>gross</th>\n",
       "      <th>script_id</th>\n",
       "    </tr>\n",
       "  </thead>\n",
       "  <tbody>\n",
       "    <tr>\n",
       "      <th>0</th>\n",
       "      <td>The Bridges of Madison County</td>\n",
       "      <td>1995</td>\n",
       "      <td>Betty</td>\n",
       "      <td>woman</td>\n",
       "      <td>311</td>\n",
       "      <td>0.048639</td>\n",
       "      <td>35.0</td>\n",
       "      <td>142.0</td>\n",
       "      <td>280</td>\n",
       "    </tr>\n",
       "    <tr>\n",
       "      <th>1</th>\n",
       "      <td>The Bridges of Madison County</td>\n",
       "      <td>1995</td>\n",
       "      <td>Carolyn Johnson</td>\n",
       "      <td>woman</td>\n",
       "      <td>873</td>\n",
       "      <td>0.136534</td>\n",
       "      <td>NaN</td>\n",
       "      <td>142.0</td>\n",
       "      <td>280</td>\n",
       "    </tr>\n",
       "    <tr>\n",
       "      <th>2</th>\n",
       "      <td>The Bridges of Madison County</td>\n",
       "      <td>1995</td>\n",
       "      <td>Eleanor</td>\n",
       "      <td>woman</td>\n",
       "      <td>138</td>\n",
       "      <td>0.021583</td>\n",
       "      <td>NaN</td>\n",
       "      <td>142.0</td>\n",
       "      <td>280</td>\n",
       "    </tr>\n",
       "    <tr>\n",
       "      <th>3</th>\n",
       "      <td>The Bridges of Madison County</td>\n",
       "      <td>1995</td>\n",
       "      <td>Francesca Johns</td>\n",
       "      <td>woman</td>\n",
       "      <td>2251</td>\n",
       "      <td>0.352049</td>\n",
       "      <td>46.0</td>\n",
       "      <td>142.0</td>\n",
       "      <td>280</td>\n",
       "    </tr>\n",
       "    <tr>\n",
       "      <th>4</th>\n",
       "      <td>The Bridges of Madison County</td>\n",
       "      <td>1995</td>\n",
       "      <td>Madge</td>\n",
       "      <td>woman</td>\n",
       "      <td>190</td>\n",
       "      <td>0.029715</td>\n",
       "      <td>46.0</td>\n",
       "      <td>142.0</td>\n",
       "      <td>280</td>\n",
       "    </tr>\n",
       "    <tr>\n",
       "      <th>...</th>\n",
       "      <td>...</td>\n",
       "      <td>...</td>\n",
       "      <td>...</td>\n",
       "      <td>...</td>\n",
       "      <td>...</td>\n",
       "      <td>...</td>\n",
       "      <td>...</td>\n",
       "      <td>...</td>\n",
       "      <td>...</td>\n",
       "    </tr>\n",
       "    <tr>\n",
       "      <th>23042</th>\n",
       "      <td>Beauty and the Beast</td>\n",
       "      <td>1991</td>\n",
       "      <td>Lumiere</td>\n",
       "      <td>man</td>\n",
       "      <td>1063</td>\n",
       "      <td>0.104636</td>\n",
       "      <td>56.0</td>\n",
       "      <td>452.0</td>\n",
       "      <td>9254</td>\n",
       "    </tr>\n",
       "    <tr>\n",
       "      <th>23043</th>\n",
       "      <td>Beauty and the Beast</td>\n",
       "      <td>1991</td>\n",
       "      <td>Maurice</td>\n",
       "      <td>man</td>\n",
       "      <td>1107</td>\n",
       "      <td>0.108967</td>\n",
       "      <td>71.0</td>\n",
       "      <td>452.0</td>\n",
       "      <td>9254</td>\n",
       "    </tr>\n",
       "    <tr>\n",
       "      <th>23044</th>\n",
       "      <td>Beauty and the Beast</td>\n",
       "      <td>1991</td>\n",
       "      <td>Monsieur D'Arqu</td>\n",
       "      <td>man</td>\n",
       "      <td>114</td>\n",
       "      <td>0.011222</td>\n",
       "      <td>58.0</td>\n",
       "      <td>452.0</td>\n",
       "      <td>9254</td>\n",
       "    </tr>\n",
       "    <tr>\n",
       "      <th>23045</th>\n",
       "      <td>Beauty and the Beast</td>\n",
       "      <td>1991</td>\n",
       "      <td>Mrs. Potts</td>\n",
       "      <td>woman</td>\n",
       "      <td>564</td>\n",
       "      <td>0.055517</td>\n",
       "      <td>66.0</td>\n",
       "      <td>452.0</td>\n",
       "      <td>9254</td>\n",
       "    </tr>\n",
       "    <tr>\n",
       "      <th>23046</th>\n",
       "      <td>Beauty and the Beast</td>\n",
       "      <td>1991</td>\n",
       "      <td>Wardrobe</td>\n",
       "      <td>woman</td>\n",
       "      <td>121</td>\n",
       "      <td>0.011911</td>\n",
       "      <td>54.0</td>\n",
       "      <td>452.0</td>\n",
       "      <td>9254</td>\n",
       "    </tr>\n",
       "  </tbody>\n",
       "</table>\n",
       "<p>23047 rows × 9 columns</p>\n",
       "</div>"
      ],
      "text/plain": [
       "                               title  release_year        character gender  \\\n",
       "0      The Bridges of Madison County          1995            Betty  woman   \n",
       "1      The Bridges of Madison County          1995  Carolyn Johnson  woman   \n",
       "2      The Bridges of Madison County          1995          Eleanor  woman   \n",
       "3      The Bridges of Madison County          1995  Francesca Johns  woman   \n",
       "4      The Bridges of Madison County          1995            Madge  woman   \n",
       "...                              ...           ...              ...    ...   \n",
       "23042           Beauty and the Beast          1991          Lumiere    man   \n",
       "23043           Beauty and the Beast          1991          Maurice    man   \n",
       "23044           Beauty and the Beast          1991  Monsieur D'Arqu    man   \n",
       "23045           Beauty and the Beast          1991       Mrs. Potts  woman   \n",
       "23046           Beauty and the Beast          1991         Wardrobe  woman   \n",
       "\n",
       "       words  proportion_of_dialogue   age  gross  script_id  \n",
       "0        311                0.048639  35.0  142.0        280  \n",
       "1        873                0.136534   NaN  142.0        280  \n",
       "2        138                0.021583   NaN  142.0        280  \n",
       "3       2251                0.352049  46.0  142.0        280  \n",
       "4        190                0.029715  46.0  142.0        280  \n",
       "...      ...                     ...   ...    ...        ...  \n",
       "23042   1063                0.104636  56.0  452.0       9254  \n",
       "23043   1107                0.108967  71.0  452.0       9254  \n",
       "23044    114                0.011222  58.0  452.0       9254  \n",
       "23045    564                0.055517  66.0  452.0       9254  \n",
       "23046    121                0.011911  54.0  452.0       9254  \n",
       "\n",
       "[23047 rows x 9 columns]"
      ]
     },
     "execution_count": 176,
     "metadata": {},
     "output_type": "execute_result"
    }
   ],
   "source": [
    "pd.read_csv(\"data/Pudding-Film-Dialogue-Clean.csv\")"
   ]
  },
  {
   "cell_type": "code",
   "execution_count": 177,
   "id": "0834b18d",
   "metadata": {},
   "outputs": [
    {
     "data": {
      "text/html": [
       "<div>\n",
       "<style scoped>\n",
       "    .dataframe tbody tr th:only-of-type {\n",
       "        vertical-align: middle;\n",
       "    }\n",
       "\n",
       "    .dataframe tbody tr th {\n",
       "        vertical-align: top;\n",
       "    }\n",
       "\n",
       "    .dataframe thead th {\n",
       "        text-align: right;\n",
       "    }\n",
       "</style>\n",
       "<table border=\"1\" class=\"dataframe\">\n",
       "  <thead>\n",
       "    <tr style=\"text-align: right;\">\n",
       "      <th></th>\n",
       "      <th>title</th>\n",
       "      <th>release_year</th>\n",
       "      <th>character</th>\n",
       "      <th>gender</th>\n",
       "      <th>words</th>\n",
       "      <th>proportion_of_dialogue</th>\n",
       "      <th>age</th>\n",
       "      <th>gross</th>\n",
       "      <th>script_id</th>\n",
       "    </tr>\n",
       "  </thead>\n",
       "  <tbody>\n",
       "    <tr>\n",
       "      <th>0</th>\n",
       "      <td>The Bridges of Madison County</td>\n",
       "      <td>1995</td>\n",
       "      <td>Betty</td>\n",
       "      <td>woman</td>\n",
       "      <td>311</td>\n",
       "      <td>0.048639</td>\n",
       "      <td>35.0</td>\n",
       "      <td>142.0</td>\n",
       "      <td>280</td>\n",
       "    </tr>\n",
       "    <tr>\n",
       "      <th>1</th>\n",
       "      <td>The Bridges of Madison County</td>\n",
       "      <td>1995</td>\n",
       "      <td>Carolyn Johnson</td>\n",
       "      <td>woman</td>\n",
       "      <td>873</td>\n",
       "      <td>0.136534</td>\n",
       "      <td>NaN</td>\n",
       "      <td>142.0</td>\n",
       "      <td>280</td>\n",
       "    </tr>\n",
       "    <tr>\n",
       "      <th>2</th>\n",
       "      <td>The Bridges of Madison County</td>\n",
       "      <td>1995</td>\n",
       "      <td>Eleanor</td>\n",
       "      <td>woman</td>\n",
       "      <td>138</td>\n",
       "      <td>0.021583</td>\n",
       "      <td>NaN</td>\n",
       "      <td>142.0</td>\n",
       "      <td>280</td>\n",
       "    </tr>\n",
       "    <tr>\n",
       "      <th>3</th>\n",
       "      <td>The Bridges of Madison County</td>\n",
       "      <td>1995</td>\n",
       "      <td>Francesca Johns</td>\n",
       "      <td>woman</td>\n",
       "      <td>2251</td>\n",
       "      <td>0.352049</td>\n",
       "      <td>46.0</td>\n",
       "      <td>142.0</td>\n",
       "      <td>280</td>\n",
       "    </tr>\n",
       "    <tr>\n",
       "      <th>4</th>\n",
       "      <td>The Bridges of Madison County</td>\n",
       "      <td>1995</td>\n",
       "      <td>Madge</td>\n",
       "      <td>woman</td>\n",
       "      <td>190</td>\n",
       "      <td>0.029715</td>\n",
       "      <td>46.0</td>\n",
       "      <td>142.0</td>\n",
       "      <td>280</td>\n",
       "    </tr>\n",
       "  </tbody>\n",
       "</table>\n",
       "</div>"
      ],
      "text/plain": [
       "                           title  release_year        character gender  words  \\\n",
       "0  The Bridges of Madison County          1995            Betty  woman    311   \n",
       "1  The Bridges of Madison County          1995  Carolyn Johnson  woman    873   \n",
       "2  The Bridges of Madison County          1995          Eleanor  woman    138   \n",
       "3  The Bridges of Madison County          1995  Francesca Johns  woman   2251   \n",
       "4  The Bridges of Madison County          1995            Madge  woman    190   \n",
       "\n",
       "   proportion_of_dialogue   age  gross  script_id  \n",
       "0                0.048639  35.0  142.0        280  \n",
       "1                0.136534   NaN  142.0        280  \n",
       "2                0.021583   NaN  142.0        280  \n",
       "3                0.352049  46.0  142.0        280  \n",
       "4                0.029715  46.0  142.0        280  "
      ]
     },
     "execution_count": 177,
     "metadata": {},
     "output_type": "execute_result"
    }
   ],
   "source": [
    "df = pd.read_csv(\"data/Pudding-Film-Dialogue-Clean.csv\")\n",
    "df.head(5)"
   ]
  },
  {
   "cell_type": "code",
   "execution_count": 178,
   "id": "4acaabe2",
   "metadata": {},
   "outputs": [
    {
     "data": {
      "text/plain": [
       "Index(['title', 'release_year', 'character', 'gender', 'words',\n",
       "       'proportion_of_dialogue', 'age', 'gross', 'script_id'],\n",
       "      dtype='object')"
      ]
     },
     "execution_count": 178,
     "metadata": {},
     "output_type": "execute_result"
    }
   ],
   "source": [
    "df.keys()"
   ]
  },
  {
   "cell_type": "code",
   "execution_count": 179,
   "id": "0cc37cc6",
   "metadata": {},
   "outputs": [
    {
     "data": {
      "text/plain": [
       "Index(['title', 'release_year', 'character', 'gender', 'words',\n",
       "       'proportion_of_dialogue', 'age', 'gross', 'script_id'],\n",
       "      dtype='object')"
      ]
     },
     "execution_count": 179,
     "metadata": {},
     "output_type": "execute_result"
    }
   ],
   "source": [
    "df.columns"
   ]
  },
  {
   "cell_type": "code",
   "execution_count": 180,
   "id": "70b52225",
   "metadata": {},
   "outputs": [
    {
     "data": {
      "text/plain": [
       "array([ True,  True,  True,  True,  True,  True,  True,  True,  True])"
      ]
     },
     "execution_count": 180,
     "metadata": {},
     "output_type": "execute_result"
    }
   ],
   "source": [
    "df.columns == df.keys()"
   ]
  },
  {
   "cell_type": "code",
   "execution_count": 181,
   "id": "2233b2d5",
   "metadata": {},
   "outputs": [
    {
     "data": {
      "text/plain": [
       "True"
      ]
     },
     "execution_count": 181,
     "metadata": {},
     "output_type": "execute_result"
    }
   ],
   "source": [
    "np.all(df.columns == df.keys())"
   ]
  },
  {
   "cell_type": "markdown",
   "id": "dc1a574a",
   "metadata": {},
   "source": [
    "**Question:** Let's randomly sample 10 rows from the dataframe?"
   ]
  },
  {
   "cell_type": "code",
   "execution_count": 183,
   "id": "a270e936",
   "metadata": {},
   "outputs": [
    {
     "data": {
      "text/html": [
       "<div>\n",
       "<style scoped>\n",
       "    .dataframe tbody tr th:only-of-type {\n",
       "        vertical-align: middle;\n",
       "    }\n",
       "\n",
       "    .dataframe tbody tr th {\n",
       "        vertical-align: top;\n",
       "    }\n",
       "\n",
       "    .dataframe thead th {\n",
       "        text-align: right;\n",
       "    }\n",
       "</style>\n",
       "<table border=\"1\" class=\"dataframe\">\n",
       "  <thead>\n",
       "    <tr style=\"text-align: right;\">\n",
       "      <th></th>\n",
       "      <th>title</th>\n",
       "      <th>release_year</th>\n",
       "      <th>character</th>\n",
       "      <th>gender</th>\n",
       "      <th>words</th>\n",
       "      <th>proportion_of_dialogue</th>\n",
       "      <th>age</th>\n",
       "      <th>gross</th>\n",
       "      <th>script_id</th>\n",
       "    </tr>\n",
       "  </thead>\n",
       "  <tbody>\n",
       "    <tr>\n",
       "      <th>20525</th>\n",
       "      <td>Final Destination 3</td>\n",
       "      <td>2006</td>\n",
       "      <td>Hector</td>\n",
       "      <td>man</td>\n",
       "      <td>665</td>\n",
       "      <td>0.081535</td>\n",
       "      <td>NaN</td>\n",
       "      <td>71.0</td>\n",
       "      <td>7904</td>\n",
       "    </tr>\n",
       "    <tr>\n",
       "      <th>2455</th>\n",
       "      <td>Predator</td>\n",
       "      <td>1987</td>\n",
       "      <td>Ramirez</td>\n",
       "      <td>man</td>\n",
       "      <td>258</td>\n",
       "      <td>0.085800</td>\n",
       "      <td>NaN</td>\n",
       "      <td>132.0</td>\n",
       "      <td>1244</td>\n",
       "    </tr>\n",
       "    <tr>\n",
       "      <th>21703</th>\n",
       "      <td>Old Boyfriends</td>\n",
       "      <td>1979</td>\n",
       "      <td>Dylan Turrin</td>\n",
       "      <td>woman</td>\n",
       "      <td>290</td>\n",
       "      <td>0.041036</td>\n",
       "      <td>15.0</td>\n",
       "      <td>NaN</td>\n",
       "      <td>8450</td>\n",
       "    </tr>\n",
       "    <tr>\n",
       "      <th>3734</th>\n",
       "      <td>A Few Good Men</td>\n",
       "      <td>1992</td>\n",
       "      <td>Lt. Dave Spradl</td>\n",
       "      <td>man</td>\n",
       "      <td>306</td>\n",
       "      <td>0.007228</td>\n",
       "      <td>36.0</td>\n",
       "      <td>295.0</td>\n",
       "      <td>1538</td>\n",
       "    </tr>\n",
       "    <tr>\n",
       "      <th>12244</th>\n",
       "      <td>El cantante</td>\n",
       "      <td>2006</td>\n",
       "      <td>Puchi</td>\n",
       "      <td>woman</td>\n",
       "      <td>2917</td>\n",
       "      <td>0.411599</td>\n",
       "      <td>37.0</td>\n",
       "      <td>10.0</td>\n",
       "      <td>3986</td>\n",
       "    </tr>\n",
       "    <tr>\n",
       "      <th>12688</th>\n",
       "      <td>Evil Angel</td>\n",
       "      <td>2009</td>\n",
       "      <td>Shawn</td>\n",
       "      <td>man</td>\n",
       "      <td>472</td>\n",
       "      <td>0.061426</td>\n",
       "      <td>NaN</td>\n",
       "      <td>NaN</td>\n",
       "      <td>4178</td>\n",
       "    </tr>\n",
       "    <tr>\n",
       "      <th>1189</th>\n",
       "      <td>Final Destination</td>\n",
       "      <td>2000</td>\n",
       "      <td>Carter Horton</td>\n",
       "      <td>man</td>\n",
       "      <td>400</td>\n",
       "      <td>0.138937</td>\n",
       "      <td>28.0</td>\n",
       "      <td>86.0</td>\n",
       "      <td>915</td>\n",
       "    </tr>\n",
       "    <tr>\n",
       "      <th>2713</th>\n",
       "      <td>Rushmore</td>\n",
       "      <td>1998</td>\n",
       "      <td>Magnus Buchan</td>\n",
       "      <td>man</td>\n",
       "      <td>169</td>\n",
       "      <td>0.031279</td>\n",
       "      <td>NaN</td>\n",
       "      <td>31.0</td>\n",
       "      <td>1291</td>\n",
       "    </tr>\n",
       "    <tr>\n",
       "      <th>5547</th>\n",
       "      <td>Collateral</td>\n",
       "      <td>2004</td>\n",
       "      <td>Peter Lim</td>\n",
       "      <td>man</td>\n",
       "      <td>114</td>\n",
       "      <td>0.010014</td>\n",
       "      <td>NaN</td>\n",
       "      <td>140.0</td>\n",
       "      <td>2035</td>\n",
       "    </tr>\n",
       "    <tr>\n",
       "      <th>11267</th>\n",
       "      <td>Twilight</td>\n",
       "      <td>2008</td>\n",
       "      <td>Eric</td>\n",
       "      <td>man</td>\n",
       "      <td>308</td>\n",
       "      <td>0.021502</td>\n",
       "      <td>27.0</td>\n",
       "      <td>231.0</td>\n",
       "      <td>3621</td>\n",
       "    </tr>\n",
       "  </tbody>\n",
       "</table>\n",
       "</div>"
      ],
      "text/plain": [
       "                     title  release_year        character gender  words  \\\n",
       "20525  Final Destination 3          2006           Hector    man    665   \n",
       "2455              Predator          1987          Ramirez    man    258   \n",
       "21703       Old Boyfriends          1979     Dylan Turrin  woman    290   \n",
       "3734        A Few Good Men          1992  Lt. Dave Spradl    man    306   \n",
       "12244          El cantante          2006            Puchi  woman   2917   \n",
       "12688           Evil Angel          2009            Shawn    man    472   \n",
       "1189     Final Destination          2000    Carter Horton    man    400   \n",
       "2713              Rushmore          1998    Magnus Buchan    man    169   \n",
       "5547            Collateral          2004        Peter Lim    man    114   \n",
       "11267             Twilight          2008             Eric    man    308   \n",
       "\n",
       "       proportion_of_dialogue   age  gross  script_id  \n",
       "20525                0.081535   NaN   71.0       7904  \n",
       "2455                 0.085800   NaN  132.0       1244  \n",
       "21703                0.041036  15.0    NaN       8450  \n",
       "3734                 0.007228  36.0  295.0       1538  \n",
       "12244                0.411599  37.0   10.0       3986  \n",
       "12688                0.061426   NaN    NaN       4178  \n",
       "1189                 0.138937  28.0   86.0        915  \n",
       "2713                 0.031279   NaN   31.0       1291  \n",
       "5547                 0.010014   NaN  140.0       2035  \n",
       "11267                0.021502  27.0  231.0       3621  "
      ]
     },
     "execution_count": 183,
     "metadata": {},
     "output_type": "execute_result"
    }
   ],
   "source": [
    "# How can we find out how to do that?\n",
    "df.sample(10)\n"
   ]
  },
  {
   "cell_type": "markdown",
   "id": "04d311fa",
   "metadata": {},
   "source": [
    "**Question:** How many rows and columns do we have?"
   ]
  },
  {
   "cell_type": "code",
   "execution_count": null,
   "id": "d7dec440",
   "metadata": {},
   "outputs": [],
   "source": []
  },
  {
   "cell_type": "markdown",
   "id": "0028de87",
   "metadata": {},
   "source": [
    "**Question:** What are the different types in each column?"
   ]
  },
  {
   "cell_type": "code",
   "execution_count": 184,
   "id": "1a3c8868",
   "metadata": {},
   "outputs": [
    {
     "data": {
      "text/plain": [
       "title                      object\n",
       "release_year                int64\n",
       "character                  object\n",
       "gender                     object\n",
       "words                       int64\n",
       "proportion_of_dialogue    float64\n",
       "age                       float64\n",
       "gross                     float64\n",
       "script_id                   int64\n",
       "dtype: object"
      ]
     },
     "execution_count": 184,
     "metadata": {},
     "output_type": "execute_result"
    }
   ],
   "source": [
    "df.dtypes"
   ]
  },
  {
   "cell_type": "markdown",
   "id": "bae669d5",
   "metadata": {},
   "source": [
    "### Listing columns\n",
    "\n",
    "**Question:** On your own using the documentation, find the two ways we can list the columns.\n",
    "\n",
    "*Hint* One way is a dataframe function and the other is an attribute/instance\n"
   ]
  },
  {
   "cell_type": "code",
   "execution_count": null,
   "id": "80e220e8",
   "metadata": {},
   "outputs": [],
   "source": []
  },
  {
   "cell_type": "code",
   "execution_count": null,
   "id": "17d4e365",
   "metadata": {},
   "outputs": [],
   "source": []
  },
  {
   "cell_type": "code",
   "execution_count": null,
   "id": "33189932",
   "metadata": {},
   "outputs": [],
   "source": []
  },
  {
   "cell_type": "markdown",
   "id": "a96954f8",
   "metadata": {},
   "source": [
    "### Accessing columns\n",
    "\n",
    "3 options:\n",
    "\n",
    "- `df.get(<column name>)`\n",
    "- `df[<column name>]` - access like a collection\n",
    "- `df.<column name>` - access like a attribute/method "
   ]
  },
  {
   "cell_type": "code",
   "execution_count": 186,
   "id": "7541fa5e",
   "metadata": {},
   "outputs": [
    {
     "data": {
      "text/plain": [
       "0        woman\n",
       "1        woman\n",
       "2        woman\n",
       "3        woman\n",
       "4        woman\n",
       "         ...  \n",
       "23042      man\n",
       "23043      man\n",
       "23044      man\n",
       "23045    woman\n",
       "23046    woman\n",
       "Name: gender, Length: 23047, dtype: object"
      ]
     },
     "execution_count": 186,
     "metadata": {},
     "output_type": "execute_result"
    }
   ],
   "source": [
    "# try first option here\n",
    "df.get('gender')"
   ]
  },
  {
   "cell_type": "code",
   "execution_count": 185,
   "id": "eee8544d",
   "metadata": {},
   "outputs": [
    {
     "data": {
      "text/plain": [
       "0        woman\n",
       "1        woman\n",
       "2        woman\n",
       "3        woman\n",
       "4        woman\n",
       "         ...  \n",
       "23042      man\n",
       "23043      man\n",
       "23044      man\n",
       "23045    woman\n",
       "23046    woman\n",
       "Name: gender, Length: 23047, dtype: object"
      ]
     },
     "execution_count": 185,
     "metadata": {},
     "output_type": "execute_result"
    }
   ],
   "source": [
    "# try second option here\n",
    "df['gender']"
   ]
  },
  {
   "cell_type": "code",
   "execution_count": 187,
   "id": "53a3e3f7",
   "metadata": {},
   "outputs": [
    {
     "data": {
      "text/plain": [
       "0        woman\n",
       "1        woman\n",
       "2        woman\n",
       "3        woman\n",
       "4        woman\n",
       "         ...  \n",
       "23042      man\n",
       "23043      man\n",
       "23044      man\n",
       "23045    woman\n",
       "23046    woman\n",
       "Name: gender, Length: 23047, dtype: object"
      ]
     },
     "execution_count": 187,
     "metadata": {},
     "output_type": "execute_result"
    }
   ],
   "source": [
    "# try third option here\n",
    "df.gender"
   ]
  },
  {
   "cell_type": "markdown",
   "id": "da5b044a",
   "metadata": {},
   "source": [
    "### Accessing rows"
   ]
  },
  {
   "cell_type": "code",
   "execution_count": 192,
   "id": "1b2fce03",
   "metadata": {},
   "outputs": [
    {
     "data": {
      "text/plain": [
       "title                     The Bridges of Madison County\n",
       "release_year                                       1995\n",
       "character                                         Madge\n",
       "gender                                            woman\n",
       "words                                               190\n",
       "proportion_of_dialogue                         0.029715\n",
       "age                                                46.0\n",
       "gross                                             142.0\n",
       "script_id                                           280\n",
       "Name: 4, dtype: object"
      ]
     },
     "execution_count": 192,
     "metadata": {},
     "output_type": "execute_result"
    }
   ],
   "source": [
    "## Access by index label\n",
    "\n",
    "df.loc[4]"
   ]
  },
  {
   "cell_type": "code",
   "execution_count": 190,
   "id": "467f6382",
   "metadata": {},
   "outputs": [
    {
     "data": {
      "text/plain": [
       "title                     Beauty and the Beast\n",
       "release_year                              1991\n",
       "character                             Wardrobe\n",
       "gender                                   woman\n",
       "words                                      121\n",
       "proportion_of_dialogue                0.011911\n",
       "age                                       54.0\n",
       "gross                                    452.0\n",
       "script_id                                 9254\n",
       "Name: 23046, dtype: object"
      ]
     },
     "execution_count": 190,
     "metadata": {},
     "output_type": "execute_result"
    }
   ],
   "source": [
    "## Access by location\n",
    "\n",
    "df.iloc[-1]"
   ]
  },
  {
   "cell_type": "markdown",
   "id": "dd3b8cb3",
   "metadata": {},
   "source": [
    "### Sorting dataframe"
   ]
  },
  {
   "cell_type": "code",
   "execution_count": null,
   "id": "d741cdc8",
   "metadata": {},
   "outputs": [],
   "source": [
    "df.keys()"
   ]
  },
  {
   "cell_type": "markdown",
   "id": "c873c8bd",
   "metadata": {},
   "source": [
    "**Question:** What column should we sort by?"
   ]
  },
  {
   "cell_type": "code",
   "execution_count": null,
   "id": "8eb806b9",
   "metadata": {},
   "outputs": [],
   "source": []
  },
  {
   "cell_type": "markdown",
   "id": "a547a18c",
   "metadata": {},
   "source": [
    "**Question:** What two columns should we sort by?"
   ]
  },
  {
   "cell_type": "code",
   "execution_count": null,
   "id": "2d68f1c2",
   "metadata": {},
   "outputs": [],
   "source": []
  },
  {
   "cell_type": "markdown",
   "id": "9e43abce",
   "metadata": {},
   "source": [
    "Return type of dataframe functions"
   ]
  },
  {
   "cell_type": "markdown",
   "id": "62304d8b",
   "metadata": {},
   "source": [
    "### Querying "
   ]
  },
  {
   "cell_type": "code",
   "execution_count": null,
   "id": "9d0205d6",
   "metadata": {},
   "outputs": [],
   "source": [
    "df['age'] > 10"
   ]
  },
  {
   "cell_type": "code",
   "execution_count": null,
   "id": "b54a1b4f",
   "metadata": {},
   "outputs": [],
   "source": [
    "old_movies = df[df['age'] > 10]\n",
    "old_movies"
   ]
  },
  {
   "cell_type": "markdown",
   "id": "7c773e7e",
   "metadata": {},
   "source": [
    "Let's look at the indices\n",
    "\n",
    "**Question:** What do we notice about these indices?"
   ]
  },
  {
   "cell_type": "code",
   "execution_count": null,
   "id": "02a3dee3",
   "metadata": {},
   "outputs": [],
   "source": []
  },
  {
   "cell_type": "markdown",
   "id": "0f423c6a",
   "metadata": {},
   "source": [
    "Let's reset the indices"
   ]
  },
  {
   "cell_type": "code",
   "execution_count": null,
   "id": "a947c598",
   "metadata": {},
   "outputs": [],
   "source": [
    "old_movies.reset_index()"
   ]
  },
  {
   "cell_type": "markdown",
   "id": "c11da2d1",
   "metadata": {},
   "source": [
    "Let's not include the original index"
   ]
  },
  {
   "cell_type": "code",
   "execution_count": null,
   "id": "2586873d",
   "metadata": {},
   "outputs": [],
   "source": [
    "df.reset_index?"
   ]
  },
  {
   "cell_type": "markdown",
   "id": "53a1d7a3",
   "metadata": {},
   "source": [
    "#### Querying on Multiple Conditions"
   ]
  },
  {
   "cell_type": "code",
   "execution_count": null,
   "id": "776b197d",
   "metadata": {},
   "outputs": [],
   "source": [
    "df[\n",
    "    (df['release_year'] < 1930)\n",
    "    &\n",
    "    (df['gender'] == 'man')\n",
    "]"
   ]
  },
  {
   "cell_type": "code",
   "execution_count": null,
   "id": "ebc10248",
   "metadata": {},
   "outputs": [],
   "source": [
    "df"
   ]
  },
  {
   "cell_type": "markdown",
   "id": "4829c1ea",
   "metadata": {},
   "source": [
    "### Values in a column"
   ]
  },
  {
   "cell_type": "markdown",
   "id": "0464176a",
   "metadata": {},
   "source": [
    "**Question:** Based on everything we've seen so far, how can we determine the set of values that are in a column?\n",
    "\n",
    "<details>\n",
    "<summary>Hint</summary>\n",
    "<b>1. Accessing the column; 2. convert the column (Series) to a set</b>  \n",
    "</details>"
   ]
  },
  {
   "cell_type": "code",
   "execution_count": null,
   "id": "6fbc0f1d",
   "metadata": {},
   "outputs": [],
   "source": [
    "#skip"
   ]
  },
  {
   "cell_type": "code",
   "execution_count": null,
   "id": "ebc59e79",
   "metadata": {},
   "outputs": [],
   "source": [
    "#skip"
   ]
  },
  {
   "cell_type": "markdown",
   "id": "76d2538d",
   "metadata": {},
   "source": [
    "`unique()`"
   ]
  },
  {
   "cell_type": "code",
   "execution_count": null,
   "id": "a2dc4e60",
   "metadata": {},
   "outputs": [],
   "source": [
    "df['gender'].unique()"
   ]
  },
  {
   "cell_type": "markdown",
   "id": "dea22286",
   "metadata": {},
   "source": [
    "**Question:** How many rows have their gender assigned as `woman`, `man`, or `?`"
   ]
  },
  {
   "cell_type": "code",
   "execution_count": null,
   "id": "cee70aab",
   "metadata": {},
   "outputs": [],
   "source": [
    "df['gender'].value_counts()"
   ]
  },
  {
   "cell_type": "markdown",
   "id": "ac3dfabd",
   "metadata": {},
   "source": [
    "\n",
    "### Grouping "
   ]
  },
  {
   "cell_type": "markdown",
   "id": "094bc453",
   "metadata": {},
   "source": [
    "Let's group by gender"
   ]
  },
  {
   "cell_type": "code",
   "execution_count": null,
   "id": "ef396ccf",
   "metadata": {},
   "outputs": [],
   "source": [
    "gender_groups = df.groupby('gender')\n",
    "gender_groups"
   ]
  },
  {
   "cell_type": "code",
   "execution_count": null,
   "id": "58fb1468",
   "metadata": {},
   "outputs": [],
   "source": [
    "Now let's find the mean/average values of the other columns for each gender"
   ]
  },
  {
   "cell_type": "code",
   "execution_count": null,
   "id": "75a67a7e",
   "metadata": {},
   "outputs": [],
   "source": [
    "gender_groups.mean()"
   ]
  },
  {
   "cell_type": "markdown",
   "id": "551868ec",
   "metadata": {},
   "source": [
    "**What just happened?**\n",
    "\n",
    "1. The table’s rows are split into groups according to cause. \n",
    "    - All of the rows whose gender is 'man' are placed into one group,\n",
    "    - All of the rows whose gender is 'woman' are placed into another group.\n",
    "    - All of the rows whose gender is `?` are placed into another group\n",
    "\n",
    "2. Each group is aggregated into a single row by average the value of entries in each of the group’s columns.\n",
    "\n",
    "3. The resulting rows are combined to form a new table, with one row for every group."
   ]
  },
  {
   "cell_type": "markdown",
   "id": "993e9f7e",
   "metadata": {},
   "source": [
    "**Other aggregation methods:**\n",
    "- .median()\n",
    "- .max()\n",
    "- .min()\n",
    "- .count()"
   ]
  },
  {
   "cell_type": "code",
   "execution_count": null,
   "id": "8d5511a4",
   "metadata": {},
   "outputs": [],
   "source": [
    "df.groupby('gender').count()"
   ]
  },
  {
   "cell_type": "markdown",
   "id": "e497f7dd",
   "metadata": {},
   "source": [
    "### Function on a cell\n",
    "\n",
    "> Defining our own functions allows us to make tables even more powerful. One way to use tables with functions is to pass the table into the function as one of its inputs, as we saw in the example above. In some situations, however, we don’t want to apply the function to the entire table, but rather to each entry in one of the table’s columns. In these cases, we can use the .apply method.\n",
    "(https://eldridgejm.github.io/dive_into_data_science/02-data_sets/apply.html#the-apply-series-method)\n",
    "\n",
    "Let's write a function to get the word in a movie title"
   ]
  },
  {
   "cell_type": "code",
   "execution_count": null,
   "id": "4cfe6dfa",
   "metadata": {},
   "outputs": [],
   "source": [
    "def get_first_word_in_title(title):\n",
    "    return title.split()[0]"
   ]
  },
  {
   "cell_type": "markdown",
   "id": "5c7d97d5",
   "metadata": {},
   "source": [
    "Now let's apply the function to the title column"
   ]
  },
  {
   "cell_type": "code",
   "execution_count": null,
   "id": "fa5c0ec5",
   "metadata": {},
   "outputs": [],
   "source": [
    "df['title'].apply(get_first_word_in_title)"
   ]
  },
  {
   "cell_type": "markdown",
   "id": "65bb6ae4",
   "metadata": {},
   "source": [
    "#### .map()"
   ]
  },
  {
   "cell_type": "code",
   "execution_count": null,
   "id": "564a4077",
   "metadata": {},
   "outputs": [],
   "source": []
  }
 ],
 "metadata": {
  "kernelspec": {
   "display_name": "Python 3",
   "language": "python",
   "name": "python3"
  },
  "language_info": {
   "codemirror_mode": {
    "name": "ipython",
    "version": 3
   },
   "file_extension": ".py",
   "mimetype": "text/x-python",
   "name": "python",
   "nbconvert_exporter": "python",
   "pygments_lexer": "ipython3",
   "version": "3.8.8"
  }
 },
 "nbformat": 4,
 "nbformat_minor": 5
}
