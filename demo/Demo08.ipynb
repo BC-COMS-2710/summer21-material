{
 "cells": [
  {
   "cell_type": "markdown",
   "id": "d8a3b77a",
   "metadata": {},
   "source": [
    "# Demo 08"
   ]
  },
  {
   "cell_type": "markdown",
   "id": "bf8bab6c",
   "metadata": {},
   "source": [
    "## Cosine"
   ]
  },
  {
   "cell_type": "code",
   "execution_count": null,
   "id": "a96d8107",
   "metadata": {},
   "outputs": [],
   "source": [
    "import matplotlib.pyplot as plt\n",
    "import sklearn\n",
    "import numpy as np\n",
    "# if using a jupyter notebook\n",
    "%matplotlib inline  "
   ]
  },
  {
   "cell_type": "code",
   "execution_count": null,
   "id": "d04149fa",
   "metadata": {},
   "outputs": [],
   "source": [
    "x = np.arange(np.pi,np.pi,0.1)   # start,stop,step\n",
    "y = np.cos(x)"
   ]
  },
  {
   "cell_type": "code",
   "execution_count": null,
   "id": "2e847472",
   "metadata": {},
   "outputs": [],
   "source": [
    "plt.plot(x,y)\n",
    "plt.axhline(y=0, color='black', linestyle='-')\n",
    "plt.axvline(x=0, color='black', linestyle='-')\n",
    "plt.title(\"Empty Graph\")\n",
    "plt.show()"
   ]
  },
  {
   "cell_type": "code",
   "execution_count": null,
   "id": "d21f6196",
   "metadata": {},
   "outputs": [],
   "source": [
    "plt.plot(x,y)\n",
    "plt.axhline(y=0, color='black', linestyle='-')\n",
    "plt.axvline(x=0, color='black', linestyle='-')\n",
    "plt.ylim(bottom=0)\n",
    "plt.xlim(0)\n",
    "plt.title(\"First Quadrant\")\n",
    "plt.show()"
   ]
  },
  {
   "cell_type": "code",
   "execution_count": null,
   "id": "a631339c",
   "metadata": {},
   "outputs": [],
   "source": [
    "x = [val*radians for val in np.arange(2*-np.pi, 2*np.pi, 0.01)]\n",
    "\n",
    "fig, axs = plt.subplots(1)\n",
    "\n",
    "axs.plot(x, cos(x), xunits=radians)\n",
    "#axs[1].plot(x, cos(x), xunits=degrees)\n",
    "\n",
    "plt.axhline(y=0, color='black', linestyle='-')\n",
    "plt.axvline(x=0, color='black', linestyle='-')\n",
    "\n",
    "fig.tight_layout()\n",
    "plt.title(\"Cosine Graph\")\n",
    "plt.show()"
   ]
  },
  {
   "cell_type": "code",
   "execution_count": null,
   "id": "ede69a58",
   "metadata": {},
   "outputs": [],
   "source": [
    "x = [val*radians for val in np.arange(0, np.pi, 0.01)]\n",
    "\n",
    "fig, axs = plt.subplots(1)\n",
    "\n",
    "axs.plot(x, cos(x), xunits=radians)\n",
    "#axs[1].plot(x, cos(x), xunits=degrees)\n",
    "\n",
    "plt.axhline(y=0, color='black', linestyle='-')\n",
    "plt.axvline(x=0, color='black', linestyle='-')\n",
    "\n",
    "fig.tight_layout()\n",
    "plt.title(\"Cosine Graph first quadrant\")\n",
    "plt.ylim(bottom=0)\n",
    "plt.xlim(0)\n",
    "plt.show()\n"
   ]
  },
  {
   "cell_type": "markdown",
   "id": "79bd51a2",
   "metadata": {},
   "source": [
    "### Computing cosine similarity"
   ]
  },
  {
   "cell_type": "code",
   "execution_count": null,
   "id": "2f47614e",
   "metadata": {},
   "outputs": [],
   "source": [
    "np.random.seed(1000)\n",
    "A = np.random.randint(low=0, high=50, size=2)\n",
    "B = np.random.randint(low=0, high=50, size=2)\n",
    "A, B"
   ]
  },
  {
   "cell_type": "code",
   "execution_count": null,
   "id": "f5dbe5f0",
   "metadata": {},
   "outputs": [],
   "source": [
    "A.dot(B)"
   ]
  },
  {
   "cell_type": "code",
   "execution_count": null,
   "id": "695f7ab7",
   "metadata": {},
   "outputs": [],
   "source": [
    "np.linalg.norm(A)"
   ]
  },
  {
   "cell_type": "code",
   "execution_count": null,
   "id": "5609a677",
   "metadata": {},
   "outputs": [],
   "source": [
    "A ** 2"
   ]
  },
  {
   "cell_type": "code",
   "execution_count": null,
   "id": "e3ccf03b",
   "metadata": {},
   "outputs": [],
   "source": [
    "np.sum(A **2 )"
   ]
  },
  {
   "cell_type": "code",
   "execution_count": null,
   "id": "63afe769",
   "metadata": {},
   "outputs": [],
   "source": [
    "np.sqrt(np.sum(A **2 ))"
   ]
  },
  {
   "cell_type": "code",
   "execution_count": null,
   "id": "01516c94",
   "metadata": {},
   "outputs": [],
   "source": [
    "np.linalg.norm(B)"
   ]
  },
  {
   "cell_type": "code",
   "execution_count": null,
   "id": "921d6b83",
   "metadata": {},
   "outputs": [],
   "source": [
    "A.dot(B) / (np.linalg.norm(A) * np.linalg.norm(B))"
   ]
  },
  {
   "cell_type": "markdown",
   "id": "ba099782",
   "metadata": {},
   "source": [
    "Let's graph this:\n",
    "(draw the vectors on the graph Belows)"
   ]
  },
  {
   "cell_type": "code",
   "execution_count": null,
   "id": "39824aa6",
   "metadata": {},
   "outputs": [],
   "source": [
    "plt.plot(100, 100)\n",
    "plt.axhline(y=0, color='black', linestyle='-')\n",
    "plt.axvline(x=0, color='black', linestyle='-')\n",
    "plt.ylim(bottom=0)\n",
    "plt.xlim(0)\n",
    "plt.title(\"First Quadrant\")\n",
    "plt.show()"
   ]
  },
  {
   "cell_type": "markdown",
   "id": "5d350a51",
   "metadata": {},
   "source": [
    "### Scaling to *n*-dimensions"
   ]
  },
  {
   "cell_type": "code",
   "execution_count": null,
   "id": "6eb3c70b",
   "metadata": {
    "tags": []
   },
   "outputs": [],
   "source": [
    "np.random.seed(1000)\n",
    "A = np.random.randn(200)\n",
    "B = np.random.randn(200)\n",
    "A, B"
   ]
  },
  {
   "cell_type": "code",
   "execution_count": null,
   "id": "f9065cf9",
   "metadata": {},
   "outputs": [],
   "source": [
    "A.dot(B) / (np.linalg.norm(A) * np.linalg.norm(B))"
   ]
  },
  {
   "cell_type": "markdown",
   "id": "8f6e1e01",
   "metadata": {},
   "source": [
    "**Question:** Why is this negative? I thought we said cosine similarity can only be positive\n",
    "\n",
    "<details>\n",
    "<summary>Solution</summary>\n",
    "    The vectors contained negative values\n",
    "\n",
    "</details>"
   ]
  },
  {
   "cell_type": "code",
   "execution_count": null,
   "id": "5dfe5272",
   "metadata": {},
   "outputs": [],
   "source": []
  },
  {
   "cell_type": "code",
   "execution_count": null,
   "id": "8a20e780",
   "metadata": {},
   "outputs": [],
   "source": [
    "A = abs(A)\n",
    "B = abs(B)\n",
    "A.dot(B) / (np.linalg.norm(A) * np.linalg.norm(B))"
   ]
  },
  {
   "cell_type": "code",
   "execution_count": null,
   "id": "04471d5d",
   "metadata": {},
   "outputs": [],
   "source": [
    "A.shape"
   ]
  },
  {
   "cell_type": "markdown",
   "id": "24899905",
   "metadata": {},
   "source": [
    "**Cosine similarity in Sklearn**"
   ]
  },
  {
   "cell_type": "code",
   "execution_count": null,
   "id": "853380eb",
   "metadata": {
    "tags": []
   },
   "outputs": [],
   "source": [
    "from sklearn import metrics\n",
    "metrics.pairwise.cosine_similarity(A, B)"
   ]
  },
  {
   "cell_type": "code",
   "execution_count": null,
   "id": "7839963f",
   "metadata": {},
   "outputs": [],
   "source": [
    "metrics.pairwise.cosine_similarity(A.reshape(1, -1), B.reshape(1, -1))"
   ]
  },
  {
   "cell_type": "markdown",
   "id": "1dc4f7b0",
   "metadata": {},
   "source": [
    "## Dictionary"
   ]
  },
  {
   "cell_type": "code",
   "execution_count": null,
   "id": "c9aa611a",
   "metadata": {},
   "outputs": [],
   "source": [
    "from nltk.sentiment import vader"
   ]
  },
  {
   "cell_type": "code",
   "execution_count": null,
   "id": "0ed47b2f",
   "metadata": {
    "tags": []
   },
   "outputs": [],
   "source": [
    "vader.VaderConstants.NEGATE"
   ]
  },
  {
   "cell_type": "code",
   "execution_count": null,
   "id": "2dfbbefe",
   "metadata": {},
   "outputs": [],
   "source": [
    "vader.VaderConstants.SPECIAL_CASE_IDIOMS"
   ]
  }
 ],
 "metadata": {
  "kernelspec": {
   "display_name": "Python 3",
   "language": "python",
   "name": "python3"
  },
  "language_info": {
   "codemirror_mode": {
    "name": "ipython",
    "version": 3
   },
   "file_extension": ".py",
   "mimetype": "text/x-python",
   "name": "python",
   "nbconvert_exporter": "python",
   "pygments_lexer": "ipython3",
   "version": "3.8.8"
  }
 },
 "nbformat": 4,
 "nbformat_minor": 5
}
