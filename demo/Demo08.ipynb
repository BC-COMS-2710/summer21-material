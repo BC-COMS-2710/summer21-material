{
 "cells": [
  {
   "cell_type": "markdown",
   "id": "4182d19d",
   "metadata": {},
   "source": [
    "# Demo 08"
   ]
  },
  {
   "cell_type": "markdown",
   "id": "08f2993a",
   "metadata": {},
   "source": [
    "## Cosine"
   ]
  },
  {
   "cell_type": "code",
   "execution_count": 1,
   "id": "52e9fd38",
   "metadata": {},
   "outputs": [],
   "source": [
    "import matplotlib.pyplot as plt\n",
    "import sklearn\n",
    "import numpy as np\n",
    "# if using a jupyter notebook\n",
    "%matplotlib inline  "
   ]
  },
  {
   "cell_type": "code",
   "execution_count": 2,
   "id": "f3c8dabf",
   "metadata": {},
   "outputs": [],
   "source": [
    "x = np.arange(np.pi,np.pi,0.1)   # start,stop,step\n",
    "y = np.cos(x)"
   ]
  },
  {
   "cell_type": "code",
   "execution_count": 3,
   "id": "0d60ec39",
   "metadata": {},
   "outputs": [
    {
     "data": {
      "image/png": "[encoded data removed]",
      "text/plain": [
       "<Figure size 432x288 with 1 Axes>"
      ]
     },
     "metadata": {
      "needs_background": "light"
     },
     "output_type": "display_data"
    }
   ],
   "source": [
    "plt.plot(x,y)\n",
    "plt.axhline(y=0, color='black', linestyle='-')\n",
    "plt.axvline(x=0, color='black', linestyle='-')\n",
    "plt.title(\"Empty Graph\")\n",
    "plt.show()"
   ]
  },
  {
   "cell_type": "code",
   "execution_count": 6,
   "id": "a79153e3",
   "metadata": {},
   "outputs": [
    {
     "data": {
      "image/png": "[encoded data removed]",
      "text/plain": [
       "<Figure size 432x288 with 1 Axes>"
      ]
     },
     "metadata": {
      "needs_background": "light"
     },
     "output_type": "display_data"
    }
   ],
   "source": [
    "plt.plot(x,y)\n",
    "plt.axhline(y=0, color='black', linestyle='-')\n",
    "plt.axvline(x=0, color='black', linestyle='-')\n",
    "plt.ylim(bottom=0)\n",
    "plt.xlim(0)\n",
    "plt.title(\"First Quadrant\")\n",
    "plt.show()"
   ]
  },
  {
   "cell_type": "code",
   "execution_count": 7,
   "id": "ad1527a8",
   "metadata": {},
   "outputs": [
    {
     "ename": "NameError",
     "evalue": "name 'radians' is not defined",
     "output_type": "error",
     "traceback": [
      "\u001b[0;31m---------------------------------------------------------------------------\u001b[0m",
      "\u001b[0;31mNameError\u001b[0m                                 Traceback (most recent call last)",
      "\u001b[0;32m<ipython-input-7-1b689aadec5c>\u001b[0m in \u001b[0;36m<module>\u001b[0;34m\u001b[0m\n\u001b[0;32m----> 1\u001b[0;31m \u001b[0mx\u001b[0m \u001b[0;34m=\u001b[0m \u001b[0;34m[\u001b[0m\u001b[0mval\u001b[0m\u001b[0;34m*\u001b[0m\u001b[0mradians\u001b[0m \u001b[0;32mfor\u001b[0m \u001b[0mval\u001b[0m \u001b[0;32min\u001b[0m \u001b[0mnp\u001b[0m\u001b[0;34m.\u001b[0m\u001b[0marange\u001b[0m\u001b[0;34m(\u001b[0m\u001b[0;36m2\u001b[0m\u001b[0;34m*\u001b[0m\u001b[0;34m-\u001b[0m\u001b[0mnp\u001b[0m\u001b[0;34m.\u001b[0m\u001b[0mpi\u001b[0m\u001b[0;34m,\u001b[0m \u001b[0;36m2\u001b[0m\u001b[0;34m*\u001b[0m\u001b[0mnp\u001b[0m\u001b[0;34m.\u001b[0m\u001b[0mpi\u001b[0m\u001b[0;34m,\u001b[0m \u001b[0;36m0.01\u001b[0m\u001b[0;34m)\u001b[0m\u001b[0;34m]\u001b[0m\u001b[0;34m\u001b[0m\u001b[0;34m\u001b[0m\u001b[0m\n\u001b[0m\u001b[1;32m      2\u001b[0m \u001b[0;34m\u001b[0m\u001b[0m\n\u001b[1;32m      3\u001b[0m \u001b[0mfig\u001b[0m\u001b[0;34m,\u001b[0m \u001b[0maxs\u001b[0m \u001b[0;34m=\u001b[0m \u001b[0mplt\u001b[0m\u001b[0;34m.\u001b[0m\u001b[0msubplots\u001b[0m\u001b[0;34m(\u001b[0m\u001b[0;36m1\u001b[0m\u001b[0;34m)\u001b[0m\u001b[0;34m\u001b[0m\u001b[0;34m\u001b[0m\u001b[0m\n\u001b[1;32m      4\u001b[0m \u001b[0;34m\u001b[0m\u001b[0m\n\u001b[1;32m      5\u001b[0m \u001b[0maxs\u001b[0m\u001b[0;34m.\u001b[0m\u001b[0mplot\u001b[0m\u001b[0;34m(\u001b[0m\u001b[0mx\u001b[0m\u001b[0;34m,\u001b[0m \u001b[0mcos\u001b[0m\u001b[0;34m(\u001b[0m\u001b[0mx\u001b[0m\u001b[0;34m)\u001b[0m\u001b[0;34m,\u001b[0m \u001b[0mxunits\u001b[0m\u001b[0;34m=\u001b[0m\u001b[0mradians\u001b[0m\u001b[0;34m)\u001b[0m\u001b[0;34m\u001b[0m\u001b[0;34m\u001b[0m\u001b[0m\n",
      "\u001b[0;32m<ipython-input-7-1b689aadec5c>\u001b[0m in \u001b[0;36m<listcomp>\u001b[0;34m(.0)\u001b[0m\n\u001b[0;32m----> 1\u001b[0;31m \u001b[0mx\u001b[0m \u001b[0;34m=\u001b[0m \u001b[0;34m[\u001b[0m\u001b[0mval\u001b[0m\u001b[0;34m*\u001b[0m\u001b[0mradians\u001b[0m \u001b[0;32mfor\u001b[0m \u001b[0mval\u001b[0m \u001b[0;32min\u001b[0m \u001b[0mnp\u001b[0m\u001b[0;34m.\u001b[0m\u001b[0marange\u001b[0m\u001b[0;34m(\u001b[0m\u001b[0;36m2\u001b[0m\u001b[0;34m*\u001b[0m\u001b[0;34m-\u001b[0m\u001b[0mnp\u001b[0m\u001b[0;34m.\u001b[0m\u001b[0mpi\u001b[0m\u001b[0;34m,\u001b[0m \u001b[0;36m2\u001b[0m\u001b[0;34m*\u001b[0m\u001b[0mnp\u001b[0m\u001b[0;34m.\u001b[0m\u001b[0mpi\u001b[0m\u001b[0;34m,\u001b[0m \u001b[0;36m0.01\u001b[0m\u001b[0;34m)\u001b[0m\u001b[0;34m]\u001b[0m\u001b[0;34m\u001b[0m\u001b[0;34m\u001b[0m\u001b[0m\n\u001b[0m\u001b[1;32m      2\u001b[0m \u001b[0;34m\u001b[0m\u001b[0m\n\u001b[1;32m      3\u001b[0m \u001b[0mfig\u001b[0m\u001b[0;34m,\u001b[0m \u001b[0maxs\u001b[0m \u001b[0;34m=\u001b[0m \u001b[0mplt\u001b[0m\u001b[0;34m.\u001b[0m\u001b[0msubplots\u001b[0m\u001b[0;34m(\u001b[0m\u001b[0;36m1\u001b[0m\u001b[0;34m)\u001b[0m\u001b[0;34m\u001b[0m\u001b[0;34m\u001b[0m\u001b[0m\n\u001b[1;32m      4\u001b[0m \u001b[0;34m\u001b[0m\u001b[0m\n\u001b[1;32m      5\u001b[0m \u001b[0maxs\u001b[0m\u001b[0;34m.\u001b[0m\u001b[0mplot\u001b[0m\u001b[0;34m(\u001b[0m\u001b[0mx\u001b[0m\u001b[0;34m,\u001b[0m \u001b[0mcos\u001b[0m\u001b[0;34m(\u001b[0m\u001b[0mx\u001b[0m\u001b[0;34m)\u001b[0m\u001b[0;34m,\u001b[0m \u001b[0mxunits\u001b[0m\u001b[0;34m=\u001b[0m\u001b[0mradians\u001b[0m\u001b[0;34m)\u001b[0m\u001b[0;34m\u001b[0m\u001b[0;34m\u001b[0m\u001b[0m\n",
      "\u001b[0;31mNameError\u001b[0m: name 'radians' is not defined"
     ]
    }
   ],
   "source": [
    "x = [val*radians for val in np.arange(2*-np.pi, 2*np.pi, 0.01)]\n",
    "\n",
    "fig, axs = plt.subplots(1)\n",
    "\n",
    "axs.plot(x, cos(x), xunits=radians)\n",
    "#axs[1].plot(x, cos(x), xunits=degrees)\n",
    "\n",
    "plt.axhline(y=0, color='black', linestyle='-')\n",
    "plt.axvline(x=0, color='black', linestyle='-')\n",
    "\n",
    "fig.tight_layout()\n",
    "plt.title(\"Cosine Graph\")\n",
    "plt.show()"
   ]
  },
  {
   "cell_type": "code",
   "execution_count": 8,
   "id": "e5323ef0",
   "metadata": {},
   "outputs": [
    {
     "ename": "NameError",
     "evalue": "name 'radians' is not defined",
     "output_type": "error",
     "traceback": [
      "\u001b[0;31m---------------------------------------------------------------------------\u001b[0m",
      "\u001b[0;31mNameError\u001b[0m                                 Traceback (most recent call last)",
      "\u001b[0;32m<ipython-input-8-b7c2bcd9157d>\u001b[0m in \u001b[0;36m<module>\u001b[0;34m\u001b[0m\n\u001b[0;32m----> 1\u001b[0;31m \u001b[0mx\u001b[0m \u001b[0;34m=\u001b[0m \u001b[0;34m[\u001b[0m\u001b[0mval\u001b[0m\u001b[0;34m*\u001b[0m\u001b[0mradians\u001b[0m \u001b[0;32mfor\u001b[0m \u001b[0mval\u001b[0m \u001b[0;32min\u001b[0m \u001b[0mnp\u001b[0m\u001b[0;34m.\u001b[0m\u001b[0marange\u001b[0m\u001b[0;34m(\u001b[0m\u001b[0;36m0\u001b[0m\u001b[0;34m,\u001b[0m \u001b[0mnp\u001b[0m\u001b[0;34m.\u001b[0m\u001b[0mpi\u001b[0m\u001b[0;34m,\u001b[0m \u001b[0;36m0.01\u001b[0m\u001b[0;34m)\u001b[0m\u001b[0;34m]\u001b[0m\u001b[0;34m\u001b[0m\u001b[0;34m\u001b[0m\u001b[0m\n\u001b[0m\u001b[1;32m      2\u001b[0m \u001b[0;34m\u001b[0m\u001b[0m\n\u001b[1;32m      3\u001b[0m \u001b[0mfig\u001b[0m\u001b[0;34m,\u001b[0m \u001b[0maxs\u001b[0m \u001b[0;34m=\u001b[0m \u001b[0mplt\u001b[0m\u001b[0;34m.\u001b[0m\u001b[0msubplots\u001b[0m\u001b[0;34m(\u001b[0m\u001b[0;36m1\u001b[0m\u001b[0;34m)\u001b[0m\u001b[0;34m\u001b[0m\u001b[0;34m\u001b[0m\u001b[0m\n\u001b[1;32m      4\u001b[0m \u001b[0;34m\u001b[0m\u001b[0m\n\u001b[1;32m      5\u001b[0m \u001b[0maxs\u001b[0m\u001b[0;34m.\u001b[0m\u001b[0mplot\u001b[0m\u001b[0;34m(\u001b[0m\u001b[0mx\u001b[0m\u001b[0;34m,\u001b[0m \u001b[0mcos\u001b[0m\u001b[0;34m(\u001b[0m\u001b[0mx\u001b[0m\u001b[0;34m)\u001b[0m\u001b[0;34m,\u001b[0m \u001b[0mxunits\u001b[0m\u001b[0;34m=\u001b[0m\u001b[0mradians\u001b[0m\u001b[0;34m)\u001b[0m\u001b[0;34m\u001b[0m\u001b[0;34m\u001b[0m\u001b[0m\n",
      "\u001b[0;32m<ipython-input-8-b7c2bcd9157d>\u001b[0m in \u001b[0;36m<listcomp>\u001b[0;34m(.0)\u001b[0m\n\u001b[0;32m----> 1\u001b[0;31m \u001b[0mx\u001b[0m \u001b[0;34m=\u001b[0m \u001b[0;34m[\u001b[0m\u001b[0mval\u001b[0m\u001b[0;34m*\u001b[0m\u001b[0mradians\u001b[0m \u001b[0;32mfor\u001b[0m \u001b[0mval\u001b[0m \u001b[0;32min\u001b[0m \u001b[0mnp\u001b[0m\u001b[0;34m.\u001b[0m\u001b[0marange\u001b[0m\u001b[0;34m(\u001b[0m\u001b[0;36m0\u001b[0m\u001b[0;34m,\u001b[0m \u001b[0mnp\u001b[0m\u001b[0;34m.\u001b[0m\u001b[0mpi\u001b[0m\u001b[0;34m,\u001b[0m \u001b[0;36m0.01\u001b[0m\u001b[0;34m)\u001b[0m\u001b[0;34m]\u001b[0m\u001b[0;34m\u001b[0m\u001b[0;34m\u001b[0m\u001b[0m\n\u001b[0m\u001b[1;32m      2\u001b[0m \u001b[0;34m\u001b[0m\u001b[0m\n\u001b[1;32m      3\u001b[0m \u001b[0mfig\u001b[0m\u001b[0;34m,\u001b[0m \u001b[0maxs\u001b[0m \u001b[0;34m=\u001b[0m \u001b[0mplt\u001b[0m\u001b[0;34m.\u001b[0m\u001b[0msubplots\u001b[0m\u001b[0;34m(\u001b[0m\u001b[0;36m1\u001b[0m\u001b[0;34m)\u001b[0m\u001b[0;34m\u001b[0m\u001b[0;34m\u001b[0m\u001b[0m\n\u001b[1;32m      4\u001b[0m \u001b[0;34m\u001b[0m\u001b[0m\n\u001b[1;32m      5\u001b[0m \u001b[0maxs\u001b[0m\u001b[0;34m.\u001b[0m\u001b[0mplot\u001b[0m\u001b[0;34m(\u001b[0m\u001b[0mx\u001b[0m\u001b[0;34m,\u001b[0m \u001b[0mcos\u001b[0m\u001b[0;34m(\u001b[0m\u001b[0mx\u001b[0m\u001b[0;34m)\u001b[0m\u001b[0;34m,\u001b[0m \u001b[0mxunits\u001b[0m\u001b[0;34m=\u001b[0m\u001b[0mradians\u001b[0m\u001b[0;34m)\u001b[0m\u001b[0;34m\u001b[0m\u001b[0;34m\u001b[0m\u001b[0m\n",
      "\u001b[0;31mNameError\u001b[0m: name 'radians' is not defined"
     ]
    }
   ],
   "source": [
    "x = [val*radians for val in np.arange(0, np.pi, 0.01)]\n",
    "\n",
    "fig, axs = plt.subplots(1)\n",
    "\n",
    "axs.plot(x, cos(x), xunits=radians)\n",
    "#axs[1].plot(x, cos(x), xunits=degrees)\n",
    "\n",
    "plt.axhline(y=0, color='black', linestyle='-')\n",
    "plt.axvline(x=0, color='black', linestyle='-')\n",
    "\n",
    "fig.tight_layout()\n",
    "plt.title(\"Cosine Graph first quadrant\")\n",
    "plt.ylim(bottom=0)\n",
    "plt.xlim(0)\n",
    "plt.show()\n"
   ]
  },
  {
   "cell_type": "markdown",
   "id": "ccec925a",
   "metadata": {},
   "source": [
    "### Computing cosine similarity"
   ]
  },
  {
   "cell_type": "code",
   "execution_count": 21,
   "id": "5fa12253",
   "metadata": {},
   "outputs": [
    {
     "data": {
      "text/plain": [
       "(array([23,  7]), array([ 0, 30]))"
      ]
     },
     "execution_count": 21,
     "metadata": {},
     "output_type": "execute_result"
    }
   ],
   "source": [
    "np.random.seed(1000)\n",
    "A = np.random.randint(low=0, high=50, size=2)\n",
    "B = np.random.randint(low=0, high=50, size=2)\n",
    "A, B"
   ]
  },
  {
   "cell_type": "code",
   "execution_count": 22,
   "id": "9ed1a406",
   "metadata": {},
   "outputs": [
    {
     "data": {
      "text/plain": [
       "210"
      ]
     },
     "execution_count": 22,
     "metadata": {},
     "output_type": "execute_result"
    }
   ],
   "source": [
    "A.dot(B)"
   ]
  },
  {
   "cell_type": "code",
   "execution_count": 23,
   "id": "7ef3d5f3",
   "metadata": {},
   "outputs": [
    {
     "data": {
      "text/plain": [
       "24.041630560342615"
      ]
     },
     "execution_count": 23,
     "metadata": {},
     "output_type": "execute_result"
    }
   ],
   "source": [
    "np.linalg.norm(A)"
   ]
  },
  {
   "cell_type": "code",
   "execution_count": 24,
   "id": "7533d49c",
   "metadata": {},
   "outputs": [
    {
     "data": {
      "text/plain": [
       "array([529,  49])"
      ]
     },
     "execution_count": 24,
     "metadata": {},
     "output_type": "execute_result"
    }
   ],
   "source": [
    "A ** 2"
   ]
  },
  {
   "cell_type": "code",
   "execution_count": 25,
   "id": "9d5bf912",
   "metadata": {},
   "outputs": [
    {
     "data": {
      "text/plain": [
       "578"
      ]
     },
     "execution_count": 25,
     "metadata": {},
     "output_type": "execute_result"
    }
   ],
   "source": [
    "np.sum(A **2 )"
   ]
  },
  {
   "cell_type": "code",
   "execution_count": 26,
   "id": "de028c1c",
   "metadata": {},
   "outputs": [
    {
     "data": {
      "text/plain": [
       "24.041630560342615"
      ]
     },
     "execution_count": 26,
     "metadata": {},
     "output_type": "execute_result"
    }
   ],
   "source": [
    "np.sqrt(np.sum(A **2 ))"
   ]
  },
  {
   "cell_type": "code",
   "execution_count": 27,
   "id": "6789cbd1",
   "metadata": {},
   "outputs": [
    {
     "data": {
      "text/plain": [
       "30.0"
      ]
     },
     "execution_count": 27,
     "metadata": {},
     "output_type": "execute_result"
    }
   ],
   "source": [
    "np.linalg.norm(B)"
   ]
  },
  {
   "cell_type": "code",
   "execution_count": 28,
   "id": "ea5ec2d2",
   "metadata": {},
   "outputs": [
    {
     "data": {
      "text/plain": [
       "0.29116161578269606"
      ]
     },
     "execution_count": 28,
     "metadata": {},
     "output_type": "execute_result"
    }
   ],
   "source": [
    "A.dot(B) / (np.linalg.norm(A) * np.linalg.norm(B))"
   ]
  },
  {
   "cell_type": "markdown",
   "id": "de038184",
   "metadata": {},
   "source": [
    "Let's graph this:\n",
    "(draw the vectors on the graph Belows)"
   ]
  },
  {
   "cell_type": "code",
   "execution_count": 29,
   "id": "981a6f4b",
   "metadata": {},
   "outputs": [
    {
     "data": {
      "image/png": "[encoded data removed]",
      "text/plain": [
       "<Figure size 432x288 with 1 Axes>"
      ]
     },
     "metadata": {
      "needs_background": "light"
     },
     "output_type": "display_data"
    }
   ],
   "source": [
    "plt.plot(100, 100)\n",
    "plt.axhline(y=0, color='black', linestyle='-')\n",
    "plt.axvline(x=0, color='black', linestyle='-')\n",
    "plt.ylim(bottom=0)\n",
    "plt.xlim(0)\n",
    "plt.title(\"First Quadrant\")\n",
    "plt.show()"
   ]
  },
  {
   "cell_type": "markdown",
   "id": "d2e48eb2",
   "metadata": {},
   "source": [
    "### Scaling to *n*-dimensions"
   ]
  },
  {
   "cell_type": "code",
   "execution_count": 30,
   "id": "94cf7b55",
   "metadata": {
    "collapsed": true,
    "jupyter": {
     "outputs_hidden": true
    },
    "tags": []
   },
   "outputs": [
    {
     "data": {
      "text/plain": [
       "(array([-0.8044583 ,  0.32093155, -0.02548288,  0.64432383, -0.30079667,\n",
       "         0.38947455, -0.1074373 , -0.47998308,  0.5950355 , -0.46466753,\n",
       "         0.66728131, -0.80611561, -1.19606983, -0.40596016, -0.18237734,\n",
       "         0.10319289, -0.13842199,  0.70569237,  1.27179528, -0.98674733,\n",
       "        -0.33483545, -0.0994817 ,  0.4071921 ,  0.91938754,  0.31211801,\n",
       "         1.53316107, -0.55017387, -0.38314741, -0.82294096,  1.60008337,\n",
       "        -0.0692813 ,  0.08320949, -0.32692468, -0.04579719, -0.30446006,\n",
       "         1.92301013, -0.078659  , -0.58206572, -1.61798224,  0.86726082,\n",
       "        -1.04043709,  0.65042142,  2.69964586,  0.80202451, -1.09692126,\n",
       "        -0.17805445, -0.42287048, -0.33040055, -1.11116278, -0.74200575,\n",
       "         2.57475919,  1.07321332, -1.86613451, -0.64717693,  1.08224081,\n",
       "         0.17667032, -0.83532823, -1.69499832,  1.13341723,  1.04853072,\n",
       "        -2.12832537, -1.43713939,  0.17793711,  1.39442275,  0.29132019,\n",
       "        -0.08200619,  0.64424261,  0.32807995,  0.85743275, -0.93696928,\n",
       "         0.18007496, -1.42337059, -0.36775578, -1.52328799, -0.6347717 ,\n",
       "         0.98740384, -1.01601962,  2.04572375,  0.24999852,  0.65116253,\n",
       "        -1.26602354,  1.3741556 , -0.60990513,  0.03075795,  0.81965668,\n",
       "         1.45431373, -0.58367645,  0.41534745,  0.66702578,  0.8694953 ,\n",
       "        -1.20270333,  2.86176918, -2.68159245, -1.16881176, -0.58416422,\n",
       "         0.8182497 ,  1.59043723, -0.25828823,  0.44702904,  1.93841974,\n",
       "        -0.39031935, -0.58069634,  1.94898697, -1.86255134, -0.56835658,\n",
       "         0.97922403,  0.89536389, -0.23626245,  0.44109793, -0.99241399,\n",
       "         0.29550499,  0.04215969,  0.76213902,  0.62795647,  0.10712324,\n",
       "        -1.55526284, -2.90585418,  0.75576283, -1.29956225, -0.86502249,\n",
       "        -1.18799428, -0.97881451, -1.96300125, -0.47853119,  1.08223608,\n",
       "         1.10308709,  0.68998145,  0.32137876, -0.60046522, -0.16970945,\n",
       "        -1.39456835, -0.21324829,  1.28449338,  0.58563634, -0.56827215,\n",
       "        -0.0438312 ,  0.95258674, -0.32737543, -0.45769825,  0.35132602,\n",
       "        -0.35943923, -0.51449823, -0.99111467, -1.23731715, -0.66248953,\n",
       "         0.75710258, -1.25981812, -0.66598594,  0.38770092,  1.14829037,\n",
       "         0.91048583, -0.18628087, -0.99987617, -1.13493354,  0.63767192,\n",
       "        -0.24427861,  0.23571671, -0.9475228 ,  0.69736917,  0.883317  ,\n",
       "         0.42288321, -0.39845173,  0.19924306, -0.62263506, -0.44505362,\n",
       "        -1.53138209, -0.07974412, -1.59213106,  0.1751518 , -1.79209305,\n",
       "        -1.98285664, -0.59041093, -0.29051815,  0.82101638, -0.70927502,\n",
       "        -0.05356814, -0.86203668,  0.77401818,  0.64566762, -0.84120597,\n",
       "         1.7628106 , -0.60414801, -0.38585761, -0.50100567,  0.58223485,\n",
       "        -0.47186767, -1.15990877,  0.92210822, -0.41188284,  0.4018219 ,\n",
       "         2.27904002,  0.97215107,  0.11997196, -2.16209451, -0.7943524 ,\n",
       "        -0.17477808, -0.52906273,  0.03778076, -1.41088367,  0.83970971]),\n",
       " array([-1.11573322e+00, -1.34477121e+00,  7.53343740e-01,  2.00927039e+00,\n",
       "        -6.32569224e-01, -2.47982948e-01,  4.12862339e-01, -9.24232528e-01,\n",
       "         1.37342792e+00, -2.74967767e+00,  2.31285488e-02, -3.41669172e-01,\n",
       "        -1.13725533e+00,  1.13437686e+00, -1.25803771e+00, -1.76426234e+00,\n",
       "         1.95315661e-01, -2.82273671e+00, -8.30051447e-01,  8.73942870e-01,\n",
       "         1.42747902e+00, -6.80861947e-01,  1.96589679e+00,  6.57740424e-01,\n",
       "         1.63460334e+00, -3.61164656e-01, -2.31986154e-01,  1.48934662e+00,\n",
       "        -3.25314145e-01, -1.03511138e+00, -1.10553546e+00,  6.61163917e-01,\n",
       "        -5.40413934e-01, -1.71806693e+00, -3.36429740e-01,  7.44706574e-01,\n",
       "        -4.21440757e-01,  5.31604304e-01,  7.36768174e-01,  3.49369666e-01,\n",
       "         2.79165467e-01, -5.44525657e-01,  1.04664684e+00, -1.93760051e+00,\n",
       "        -9.05878830e-01,  1.51050951e+00, -1.34731603e+00, -3.04137957e-01,\n",
       "        -4.96696009e-03, -7.54207488e-01, -7.78034424e-01,  1.43843445e-02,\n",
       "        -1.31765744e+00,  6.75736069e-01, -3.95203065e-01, -5.51232398e-01,\n",
       "         1.25463321e+00, -5.81261949e-01,  2.37118611e-01,  1.67133345e+00,\n",
       "         2.05563111e-01, -6.65862186e-02, -2.15119837e+00, -7.93210178e-01,\n",
       "         6.20613084e-01, -2.79962844e-01,  4.66928935e-01,  4.24802943e-01,\n",
       "        -1.24297409e+00,  7.05147910e-01, -1.30994991e-01, -1.54240326e+00,\n",
       "        -1.17437258e+00, -2.42441508e-01, -1.49756081e+00,  1.75689288e+00,\n",
       "        -1.10157899e+00, -2.29938374e+00,  1.00578114e+00, -2.10550419e+00,\n",
       "         1.34260269e+00,  5.24464269e-01, -1.18058704e-01, -5.94405326e-01,\n",
       "         3.65818706e-02,  9.08063048e-01,  9.96708648e-01,  1.88265059e-01,\n",
       "        -4.13103517e-01, -9.36358706e-01, -2.71810747e-01, -1.09820752e+00,\n",
       "        -1.20937305e+00,  2.38406460e-01, -1.09620324e+00,  6.04722022e-02,\n",
       "         4.86553502e-01,  9.89401727e-01,  1.90939628e+00, -8.29618512e-01,\n",
       "         4.24006990e-01, -1.56680276e+00,  7.64998946e-01,  3.87625480e-01,\n",
       "         1.13787252e+00, -3.09108955e-01,  5.79357212e-01, -1.03126262e+00,\n",
       "         2.79851190e-02,  1.27980024e+00,  4.62605724e-01,  2.35474332e-01,\n",
       "        -6.56010136e-01, -2.18416362e+00, -4.94507387e-04, -5.26103048e-01,\n",
       "         8.88520272e-01, -9.87727438e-01,  2.19147368e-01, -4.30307070e-01,\n",
       "        -2.16798779e-01,  4.48390052e-01,  6.61749858e-01,  5.03481664e-01,\n",
       "        -3.65872593e-01,  7.36742879e-01, -6.48545137e-01,  3.76234901e-01,\n",
       "         1.31414105e-02, -1.51498349e+00,  1.96025814e+00,  1.37190845e+00,\n",
       "        -1.57418016e+00, -1.45575845e+00,  9.83264976e-02, -2.32605118e+00,\n",
       "         1.32471268e+00,  4.11873705e-01,  5.91773578e-01, -2.88772603e-01,\n",
       "         3.60538058e-01,  6.28807277e-01, -7.28919609e-01, -6.92993306e-01,\n",
       "        -6.77031480e-01,  3.29414794e-03,  1.32901669e-01,  9.63391600e-01,\n",
       "         3.84443730e-01,  1.33039967e+00, -9.23129417e-01, -1.13075580e+00,\n",
       "        -1.46722519e+00,  2.25679193e-01,  1.64168434e-01, -6.57986368e-01,\n",
       "        -1.26360218e+00,  8.14755640e-01, -6.57207002e-01,  1.25656900e+00,\n",
       "        -9.36221444e-02, -1.18178204e+00,  3.94044283e-01,  9.62953792e-01,\n",
       "        -5.76479393e-01, -8.49873587e-01,  2.22821189e-01,  4.07704478e-01,\n",
       "         7.77419356e-01,  5.67180407e-02,  1.26109325e-02,  8.65131266e-01,\n",
       "        -6.36111674e-01,  2.06085954e+00,  1.98173786e+00,  6.36507488e-01,\n",
       "         1.16115169e+00, -6.13947033e-01, -1.33205700e-02, -2.92551675e-01,\n",
       "        -1.02504866e+00,  1.61511441e+00,  6.71912879e-01, -1.17264155e+00,\n",
       "        -2.40556417e-01, -1.23833775e+00,  2.49995679e-01,  2.79425803e-01,\n",
       "         1.03009493e+00,  8.35574053e-01, -3.45366636e-02, -3.22656735e-01,\n",
       "        -1.26897112e-02,  1.96226489e+00,  9.13136029e-01, -8.84592614e-02,\n",
       "        -1.57847578e-01, -3.37319741e-01, -3.19582518e-01,  1.26889969e+00]))"
      ]
     },
     "execution_count": 30,
     "metadata": {},
     "output_type": "execute_result"
    }
   ],
   "source": [
    "np.random.seed(1000)\n",
    "A = np.random.randn(200)\n",
    "B = np.random.randn(200)\n",
    "A, B"
   ]
  },
  {
   "cell_type": "code",
   "execution_count": 31,
   "id": "d9c14c17",
   "metadata": {},
   "outputs": [
    {
     "data": {
      "text/plain": [
       "-0.054384703382203727"
      ]
     },
     "execution_count": 31,
     "metadata": {},
     "output_type": "execute_result"
    }
   ],
   "source": [
    "A.dot(B) / (np.linalg.norm(A) * np.linalg.norm(B))"
   ]
  },
  {
   "cell_type": "markdown",
   "id": "a4170826",
   "metadata": {},
   "source": [
    "**Question:** Why is this negative? I thought we said cosine similarity can only be positive\n",
    "\n",
    "<details>\n",
    "<summary>Solution</summary>\n",
    "    The vectors contained negative values\n",
    "\n",
    "</details>"
   ]
  },
  {
   "cell_type": "code",
   "execution_count": null,
   "id": "423c188a",
   "metadata": {},
   "outputs": [],
   "source": [
    "A"
   ]
  },
  {
   "cell_type": "code",
   "execution_count": 32,
   "id": "cf56ceeb",
   "metadata": {},
   "outputs": [
    {
     "data": {
      "text/plain": [
       "0.6424338364152419"
      ]
     },
     "execution_count": 32,
     "metadata": {},
     "output_type": "execute_result"
    }
   ],
   "source": [
    "A = abs(A)\n",
    "B = abs(B)\n",
    "A.dot(B) / (np.linalg.norm(A) * np.linalg.norm(B))"
   ]
  },
  {
   "cell_type": "code",
   "execution_count": 34,
   "id": "e2226fc8",
   "metadata": {},
   "outputs": [
    {
     "data": {
      "text/plain": [
       "(200,)"
      ]
     },
     "execution_count": 34,
     "metadata": {},
     "output_type": "execute_result"
    }
   ],
   "source": [
    "A.shape"
   ]
  },
  {
   "cell_type": "markdown",
   "id": "4184eeb9",
   "metadata": {},
   "source": [
    "**Cosine similarity in Sklearn**"
   ]
  },
  {
   "cell_type": "code",
   "execution_count": 33,
   "id": "b0e70172",
   "metadata": {
    "collapsed": true,
    "jupyter": {
     "outputs_hidden": true
    },
    "tags": []
   },
   "outputs": [
    {
     "ename": "ValueError",
     "evalue": "Expected 2D array, got 1D array instead:\narray=[0.8044583  0.32093155 0.02548288 0.64432383 0.30079667 0.38947455\n 0.1074373  0.47998308 0.5950355  0.46466753 0.66728131 0.80611561\n 1.19606983 0.40596016 0.18237734 0.10319289 0.13842199 0.70569237\n 1.27179528 0.98674733 0.33483545 0.0994817  0.4071921  0.91938754\n 0.31211801 1.53316107 0.55017387 0.38314741 0.82294096 1.60008337\n 0.0692813  0.08320949 0.32692468 0.04579719 0.30446006 1.92301013\n 0.078659   0.58206572 1.61798224 0.86726082 1.04043709 0.65042142\n 2.69964586 0.80202451 1.09692126 0.17805445 0.42287048 0.33040055\n 1.11116278 0.74200575 2.57475919 1.07321332 1.86613451 0.64717693\n 1.08224081 0.17667032 0.83532823 1.69499832 1.13341723 1.04853072\n 2.12832537 1.43713939 0.17793711 1.39442275 0.29132019 0.08200619\n 0.64424261 0.32807995 0.85743275 0.93696928 0.18007496 1.42337059\n 0.36775578 1.52328799 0.6347717  0.98740384 1.01601962 2.04572375\n 0.24999852 0.65116253 1.26602354 1.3741556  0.60990513 0.03075795\n 0.81965668 1.45431373 0.58367645 0.41534745 0.66702578 0.8694953\n 1.20270333 2.86176918 2.68159245 1.16881176 0.58416422 0.8182497\n 1.59043723 0.25828823 0.44702904 1.93841974 0.39031935 0.58069634\n 1.94898697 1.86255134 0.56835658 0.97922403 0.89536389 0.23626245\n 0.44109793 0.99241399 0.29550499 0.04215969 0.76213902 0.62795647\n 0.10712324 1.55526284 2.90585418 0.75576283 1.29956225 0.86502249\n 1.18799428 0.97881451 1.96300125 0.47853119 1.08223608 1.10308709\n 0.68998145 0.32137876 0.60046522 0.16970945 1.39456835 0.21324829\n 1.28449338 0.58563634 0.56827215 0.0438312  0.95258674 0.32737543\n 0.45769825 0.35132602 0.35943923 0.51449823 0.99111467 1.23731715\n 0.66248953 0.75710258 1.25981812 0.66598594 0.38770092 1.14829037\n 0.91048583 0.18628087 0.99987617 1.13493354 0.63767192 0.24427861\n 0.23571671 0.9475228  0.69736917 0.883317   0.42288321 0.39845173\n 0.19924306 0.62263506 0.44505362 1.53138209 0.07974412 1.59213106\n 0.1751518  1.79209305 1.98285664 0.59041093 0.29051815 0.82101638\n 0.70927502 0.05356814 0.86203668 0.77401818 0.64566762 0.84120597\n 1.7628106  0.60414801 0.38585761 0.50100567 0.58223485 0.47186767\n 1.15990877 0.92210822 0.41188284 0.4018219  2.27904002 0.97215107\n 0.11997196 2.16209451 0.7943524  0.17477808 0.52906273 0.03778076\n 1.41088367 0.83970971].\nReshape your data either using array.reshape(-1, 1) if your data has a single feature or array.reshape(1, -1) if it contains a single sample.",
     "output_type": "error",
     "traceback": [
      "\u001b[0;31m---------------------------------------------------------------------------\u001b[0m",
      "\u001b[0;31mValueError\u001b[0m                                Traceback (most recent call last)",
      "\u001b[0;32m<ipython-input-33-808d02bffc3d>\u001b[0m in \u001b[0;36m<module>\u001b[0;34m\u001b[0m\n\u001b[1;32m      1\u001b[0m \u001b[0;32mfrom\u001b[0m \u001b[0msklearn\u001b[0m \u001b[0;32mimport\u001b[0m \u001b[0mmetrics\u001b[0m\u001b[0;34m\u001b[0m\u001b[0;34m\u001b[0m\u001b[0m\n\u001b[0;32m----> 2\u001b[0;31m \u001b[0mmetrics\u001b[0m\u001b[0;34m.\u001b[0m\u001b[0mpairwise\u001b[0m\u001b[0;34m.\u001b[0m\u001b[0mcosine_similarity\u001b[0m\u001b[0;34m(\u001b[0m\u001b[0mA\u001b[0m\u001b[0;34m,\u001b[0m \u001b[0mB\u001b[0m\u001b[0;34m)\u001b[0m\u001b[0;34m\u001b[0m\u001b[0;34m\u001b[0m\u001b[0m\n\u001b[0m",
      "\u001b[0;32m/opt/conda/lib/python3.8/site-packages/sklearn/metrics/pairwise.py\u001b[0m in \u001b[0;36mcosine_similarity\u001b[0;34m(X, Y, dense_output)\u001b[0m\n\u001b[1;32m   1178\u001b[0m     \u001b[0;31m# to avoid recursive import\u001b[0m\u001b[0;34m\u001b[0m\u001b[0;34m\u001b[0m\u001b[0;34m\u001b[0m\u001b[0m\n\u001b[1;32m   1179\u001b[0m \u001b[0;34m\u001b[0m\u001b[0m\n\u001b[0;32m-> 1180\u001b[0;31m     \u001b[0mX\u001b[0m\u001b[0;34m,\u001b[0m \u001b[0mY\u001b[0m \u001b[0;34m=\u001b[0m \u001b[0mcheck_pairwise_arrays\u001b[0m\u001b[0;34m(\u001b[0m\u001b[0mX\u001b[0m\u001b[0;34m,\u001b[0m \u001b[0mY\u001b[0m\u001b[0;34m)\u001b[0m\u001b[0;34m\u001b[0m\u001b[0;34m\u001b[0m\u001b[0m\n\u001b[0m\u001b[1;32m   1181\u001b[0m \u001b[0;34m\u001b[0m\u001b[0m\n\u001b[1;32m   1182\u001b[0m     \u001b[0mX_normalized\u001b[0m \u001b[0;34m=\u001b[0m \u001b[0mnormalize\u001b[0m\u001b[0;34m(\u001b[0m\u001b[0mX\u001b[0m\u001b[0;34m,\u001b[0m \u001b[0mcopy\u001b[0m\u001b[0;34m=\u001b[0m\u001b[0;32mTrue\u001b[0m\u001b[0;34m)\u001b[0m\u001b[0;34m\u001b[0m\u001b[0;34m\u001b[0m\u001b[0m\n",
      "\u001b[0;32m/opt/conda/lib/python3.8/site-packages/sklearn/utils/validation.py\u001b[0m in \u001b[0;36minner_f\u001b[0;34m(*args, **kwargs)\u001b[0m\n\u001b[1;32m     61\u001b[0m             \u001b[0mextra_args\u001b[0m \u001b[0;34m=\u001b[0m \u001b[0mlen\u001b[0m\u001b[0;34m(\u001b[0m\u001b[0margs\u001b[0m\u001b[0;34m)\u001b[0m \u001b[0;34m-\u001b[0m \u001b[0mlen\u001b[0m\u001b[0;34m(\u001b[0m\u001b[0mall_args\u001b[0m\u001b[0;34m)\u001b[0m\u001b[0;34m\u001b[0m\u001b[0;34m\u001b[0m\u001b[0m\n\u001b[1;32m     62\u001b[0m             \u001b[0;32mif\u001b[0m \u001b[0mextra_args\u001b[0m \u001b[0;34m<=\u001b[0m \u001b[0;36m0\u001b[0m\u001b[0;34m:\u001b[0m\u001b[0;34m\u001b[0m\u001b[0;34m\u001b[0m\u001b[0m\n\u001b[0;32m---> 63\u001b[0;31m                 \u001b[0;32mreturn\u001b[0m \u001b[0mf\u001b[0m\u001b[0;34m(\u001b[0m\u001b[0;34m*\u001b[0m\u001b[0margs\u001b[0m\u001b[0;34m,\u001b[0m \u001b[0;34m**\u001b[0m\u001b[0mkwargs\u001b[0m\u001b[0;34m)\u001b[0m\u001b[0;34m\u001b[0m\u001b[0;34m\u001b[0m\u001b[0m\n\u001b[0m\u001b[1;32m     64\u001b[0m \u001b[0;34m\u001b[0m\u001b[0m\n\u001b[1;32m     65\u001b[0m             \u001b[0;31m# extra_args > 0\u001b[0m\u001b[0;34m\u001b[0m\u001b[0;34m\u001b[0m\u001b[0;34m\u001b[0m\u001b[0m\n",
      "\u001b[0;32m/opt/conda/lib/python3.8/site-packages/sklearn/metrics/pairwise.py\u001b[0m in \u001b[0;36mcheck_pairwise_arrays\u001b[0;34m(X, Y, precomputed, dtype, accept_sparse, force_all_finite, copy)\u001b[0m\n\u001b[1;32m    144\u001b[0m                             estimator=estimator)\n\u001b[1;32m    145\u001b[0m     \u001b[0;32melse\u001b[0m\u001b[0;34m:\u001b[0m\u001b[0;34m\u001b[0m\u001b[0;34m\u001b[0m\u001b[0m\n\u001b[0;32m--> 146\u001b[0;31m         X = check_array(X, accept_sparse=accept_sparse, dtype=dtype,\n\u001b[0m\u001b[1;32m    147\u001b[0m                         \u001b[0mcopy\u001b[0m\u001b[0;34m=\u001b[0m\u001b[0mcopy\u001b[0m\u001b[0;34m,\u001b[0m \u001b[0mforce_all_finite\u001b[0m\u001b[0;34m=\u001b[0m\u001b[0mforce_all_finite\u001b[0m\u001b[0;34m,\u001b[0m\u001b[0;34m\u001b[0m\u001b[0;34m\u001b[0m\u001b[0m\n\u001b[1;32m    148\u001b[0m                         estimator=estimator)\n",
      "\u001b[0;32m/opt/conda/lib/python3.8/site-packages/sklearn/utils/validation.py\u001b[0m in \u001b[0;36minner_f\u001b[0;34m(*args, **kwargs)\u001b[0m\n\u001b[1;32m     61\u001b[0m             \u001b[0mextra_args\u001b[0m \u001b[0;34m=\u001b[0m \u001b[0mlen\u001b[0m\u001b[0;34m(\u001b[0m\u001b[0margs\u001b[0m\u001b[0;34m)\u001b[0m \u001b[0;34m-\u001b[0m \u001b[0mlen\u001b[0m\u001b[0;34m(\u001b[0m\u001b[0mall_args\u001b[0m\u001b[0;34m)\u001b[0m\u001b[0;34m\u001b[0m\u001b[0;34m\u001b[0m\u001b[0m\n\u001b[1;32m     62\u001b[0m             \u001b[0;32mif\u001b[0m \u001b[0mextra_args\u001b[0m \u001b[0;34m<=\u001b[0m \u001b[0;36m0\u001b[0m\u001b[0;34m:\u001b[0m\u001b[0;34m\u001b[0m\u001b[0;34m\u001b[0m\u001b[0m\n\u001b[0;32m---> 63\u001b[0;31m                 \u001b[0;32mreturn\u001b[0m \u001b[0mf\u001b[0m\u001b[0;34m(\u001b[0m\u001b[0;34m*\u001b[0m\u001b[0margs\u001b[0m\u001b[0;34m,\u001b[0m \u001b[0;34m**\u001b[0m\u001b[0mkwargs\u001b[0m\u001b[0;34m)\u001b[0m\u001b[0;34m\u001b[0m\u001b[0;34m\u001b[0m\u001b[0m\n\u001b[0m\u001b[1;32m     64\u001b[0m \u001b[0;34m\u001b[0m\u001b[0m\n\u001b[1;32m     65\u001b[0m             \u001b[0;31m# extra_args > 0\u001b[0m\u001b[0;34m\u001b[0m\u001b[0;34m\u001b[0m\u001b[0;34m\u001b[0m\u001b[0m\n",
      "\u001b[0;32m/opt/conda/lib/python3.8/site-packages/sklearn/utils/validation.py\u001b[0m in \u001b[0;36mcheck_array\u001b[0;34m(array, accept_sparse, accept_large_sparse, dtype, order, copy, force_all_finite, ensure_2d, allow_nd, ensure_min_samples, ensure_min_features, estimator)\u001b[0m\n\u001b[1;32m    635\u001b[0m             \u001b[0;31m# If input is 1D raise error\u001b[0m\u001b[0;34m\u001b[0m\u001b[0;34m\u001b[0m\u001b[0;34m\u001b[0m\u001b[0m\n\u001b[1;32m    636\u001b[0m             \u001b[0;32mif\u001b[0m \u001b[0marray\u001b[0m\u001b[0;34m.\u001b[0m\u001b[0mndim\u001b[0m \u001b[0;34m==\u001b[0m \u001b[0;36m1\u001b[0m\u001b[0;34m:\u001b[0m\u001b[0;34m\u001b[0m\u001b[0;34m\u001b[0m\u001b[0m\n\u001b[0;32m--> 637\u001b[0;31m                 raise ValueError(\n\u001b[0m\u001b[1;32m    638\u001b[0m                     \u001b[0;34m\"Expected 2D array, got 1D array instead:\\narray={}.\\n\"\u001b[0m\u001b[0;34m\u001b[0m\u001b[0;34m\u001b[0m\u001b[0m\n\u001b[1;32m    639\u001b[0m                     \u001b[0;34m\"Reshape your data either using array.reshape(-1, 1) if \"\u001b[0m\u001b[0;34m\u001b[0m\u001b[0;34m\u001b[0m\u001b[0m\n",
      "\u001b[0;31mValueError\u001b[0m: Expected 2D array, got 1D array instead:\narray=[0.8044583  0.32093155 0.02548288 0.64432383 0.30079667 0.38947455\n 0.1074373  0.47998308 0.5950355  0.46466753 0.66728131 0.80611561\n 1.19606983 0.40596016 0.18237734 0.10319289 0.13842199 0.70569237\n 1.27179528 0.98674733 0.33483545 0.0994817  0.4071921  0.91938754\n 0.31211801 1.53316107 0.55017387 0.38314741 0.82294096 1.60008337\n 0.0692813  0.08320949 0.32692468 0.04579719 0.30446006 1.92301013\n 0.078659   0.58206572 1.61798224 0.86726082 1.04043709 0.65042142\n 2.69964586 0.80202451 1.09692126 0.17805445 0.42287048 0.33040055\n 1.11116278 0.74200575 2.57475919 1.07321332 1.86613451 0.64717693\n 1.08224081 0.17667032 0.83532823 1.69499832 1.13341723 1.04853072\n 2.12832537 1.43713939 0.17793711 1.39442275 0.29132019 0.08200619\n 0.64424261 0.32807995 0.85743275 0.93696928 0.18007496 1.42337059\n 0.36775578 1.52328799 0.6347717  0.98740384 1.01601962 2.04572375\n 0.24999852 0.65116253 1.26602354 1.3741556  0.60990513 0.03075795\n 0.81965668 1.45431373 0.58367645 0.41534745 0.66702578 0.8694953\n 1.20270333 2.86176918 2.68159245 1.16881176 0.58416422 0.8182497\n 1.59043723 0.25828823 0.44702904 1.93841974 0.39031935 0.58069634\n 1.94898697 1.86255134 0.56835658 0.97922403 0.89536389 0.23626245\n 0.44109793 0.99241399 0.29550499 0.04215969 0.76213902 0.62795647\n 0.10712324 1.55526284 2.90585418 0.75576283 1.29956225 0.86502249\n 1.18799428 0.97881451 1.96300125 0.47853119 1.08223608 1.10308709\n 0.68998145 0.32137876 0.60046522 0.16970945 1.39456835 0.21324829\n 1.28449338 0.58563634 0.56827215 0.0438312  0.95258674 0.32737543\n 0.45769825 0.35132602 0.35943923 0.51449823 0.99111467 1.23731715\n 0.66248953 0.75710258 1.25981812 0.66598594 0.38770092 1.14829037\n 0.91048583 0.18628087 0.99987617 1.13493354 0.63767192 0.24427861\n 0.23571671 0.9475228  0.69736917 0.883317   0.42288321 0.39845173\n 0.19924306 0.62263506 0.44505362 1.53138209 0.07974412 1.59213106\n 0.1751518  1.79209305 1.98285664 0.59041093 0.29051815 0.82101638\n 0.70927502 0.05356814 0.86203668 0.77401818 0.64566762 0.84120597\n 1.7628106  0.60414801 0.38585761 0.50100567 0.58223485 0.47186767\n 1.15990877 0.92210822 0.41188284 0.4018219  2.27904002 0.97215107\n 0.11997196 2.16209451 0.7943524  0.17477808 0.52906273 0.03778076\n 1.41088367 0.83970971].\nReshape your data either using array.reshape(-1, 1) if your data has a single feature or array.reshape(1, -1) if it contains a single sample."
     ]
    }
   ],
   "source": [
    "from sklearn import metrics\n",
    "metrics.pairwise.cosine_similarity(A, B)"
   ]
  },
  {
   "cell_type": "code",
   "execution_count": 36,
   "id": "e073d0a0",
   "metadata": {},
   "outputs": [
    {
     "data": {
      "text/plain": [
       "(1, 200)"
      ]
     },
     "execution_count": 36,
     "metadata": {},
     "output_type": "execute_result"
    }
   ],
   "source": [
    "A.reshape(1, -1).shape"
   ]
  },
  {
   "cell_type": "code",
   "execution_count": 37,
   "id": "55e51ebf",
   "metadata": {},
   "outputs": [
    {
     "data": {
      "text/plain": [
       "array([[0.64243384]])"
      ]
     },
     "execution_count": 37,
     "metadata": {},
     "output_type": "execute_result"
    }
   ],
   "source": [
    "metrics.pairwise.cosine_similarity(A.reshape(1, -1), B.reshape(1, -1))"
   ]
  },
  {
   "cell_type": "markdown",
   "id": "b9e1c112",
   "metadata": {},
   "source": [
    "## Dictionary"
   ]
  },
  {
   "cell_type": "code",
   "execution_count": null,
   "id": "26c5d6ac",
   "metadata": {},
   "outputs": [],
   "source": [
    "from nltk.sentiment import vader"
   ]
  },
  {
   "cell_type": "code",
   "execution_count": null,
   "id": "4d4d2e95",
   "metadata": {
    "tags": []
   },
   "outputs": [],
   "source": [
    "vader.VaderConstants.NEGATE"
   ]
  },
  {
   "cell_type": "code",
   "execution_count": null,
   "id": "23b6c61b",
   "metadata": {},
   "outputs": [],
   "source": [
    "vader.VaderConstants.SPECIAL_CASE_IDIOMS"
   ]
  }
 ],
 "metadata": {
  "kernelspec": {
   "display_name": "Python 3",
   "language": "python",
   "name": "python3"
  },
  "language_info": {
   "codemirror_mode": {
    "name": "ipython",
    "version": 3
   },
   "file_extension": ".py",
   "mimetype": "text/x-python",
   "name": "python",
   "nbconvert_exporter": "python",
   "pygments_lexer": "ipython3",
   "version": "3.8.8"
  }
 },
 "nbformat": 4,
 "nbformat_minor": 5
}
