{
 "cells": [
  {
   "cell_type": "markdown",
   "id": "d6c48d66",
   "metadata": {},
   "source": [
    "# Demo 07"
   ]
  },
  {
   "cell_type": "code",
   "execution_count": null,
   "id": "f5fbc598",
   "metadata": {},
   "outputs": [],
   "source": [
    "import nltk\n",
    "\n",
    "import os\n",
    "from sklearn.feature_extraction.text import TfidfVectorizer\n",
    "from sklearn.feature_extraction.text import CountVectorizer\n",
    "import pandas as pd\n",
    "pd.set_option(\"max_rows\", 20)"
   ]
  },
  {
   "cell_type": "markdown",
   "id": "b2df6433",
   "metadata": {},
   "source": [
    "## TF-IDF for Inaugaural Addresses"
   ]
  },
  {
   "cell_type": "markdown",
   "id": "67f0685a",
   "metadata": {},
   "source": [
    "#### Making Document-Matrix with Sklearn"
   ]
  },
  {
   "cell_type": "markdown",
   "id": "66bade2e",
   "metadata": {},
   "source": [
    "In yesterday's demo we used nltk's [CountVectorizer](https://scikit-learn.org/stable/modules/generated/sklearn.feature_extraction.text.CountVectorizer.html) to\n",
    "> Convert a collection of text documents to a matrix of token counts\n",
    "\n",
    "Today's demo will use nltk's [TfidfVectorize](https://scikit-learn.org/stable/modules/generated/sklearn.feature_extraction.text.TfidfVectorizer.html) to\n",
    "> Convert a collection of raw documents to a matrix of TF-IDF features."
   ]
  },
  {
   "cell_type": "code",
   "execution_count": null,
   "id": "7599c615",
   "metadata": {},
   "outputs": [],
   "source": [
    "# Create a new TfidfVectorizer\n",
    "tfidf_vectorizer = TfidfVectorizer(input='filename', stop_words='english') "
   ]
  },
  {
   "cell_type": "markdown",
   "id": "46bae5d0",
   "metadata": {},
   "source": [
    "**Question:** What are these options of `input='filename'` and `stop_words='english'`?"
   ]
  },
  {
   "cell_type": "markdown",
   "id": "b09af247",
   "metadata": {},
   "source": [
    "Let's read the documentation in the Contextual help"
   ]
  },
  {
   "cell_type": "markdown",
   "id": "0aa22c45",
   "metadata": {},
   "source": [
    "Let's get the list of speeches"
   ]
  },
  {
   "cell_type": "code",
   "execution_count": null,
   "id": "5a2ec30f",
   "metadata": {},
   "outputs": [],
   "source": [
    "Speeches_path = \"data/inaugural_speeches/\""
   ]
  },
  {
   "cell_type": "markdown",
   "id": "aff35063",
   "metadata": {},
   "source": [
    "Stores the titles of the speeches, we will use this information later"
   ]
  },
  {
   "cell_type": "code",
   "execution_count": null,
   "id": "e2ac6288",
   "metadata": {},
   "outputs": [],
   "source": [
    "titles = [title.strip(\".txt\") for title in os.listdir(Speeches_path)]\n",
    "\" \".join(titles)"
   ]
  },
  {
   "cell_type": "markdown",
   "id": "164d9aa9",
   "metadata": {},
   "source": [
    "This list compression will create the paths to the speech files\n",
    "\n",
    "*Not for in class: show students how to hide output of a Jupytercell*"
   ]
  },
  {
   "cell_type": "code",
   "execution_count": null,
   "id": "12c05c4c",
   "metadata": {
    "tags": []
   },
   "outputs": [],
   "source": [
    "[Speeches_path + fname for fname in os.listdir(Speeches_path)]"
   ]
  },
  {
   "cell_type": "markdown",
   "id": "e520e964",
   "metadata": {},
   "source": [
    "Now lets create our Document-Term matrix where features are TF-IDF counts"
   ]
  },
  {
   "cell_type": "code",
   "execution_count": null,
   "id": "94a02e8a",
   "metadata": {
    "tags": []
   },
   "outputs": [],
   "source": [
    "tfidf_vector = tfidf_vectorizer.fit_transform([Speeches_path + fname for fname in os.listdir(Speeches_path)])\n",
    "tfidf_vector"
   ]
  },
  {
   "cell_type": "markdown",
   "id": "b96882c6",
   "metadata": {},
   "source": [
    "Let's read contextual help for `.fit_transform`"
   ]
  },
  {
   "cell_type": "markdown",
   "id": "307800bf",
   "metadata": {},
   "source": [
    "**Question:** Let's find the size of the matrix, i.e. how many rows and how many columns"
   ]
  },
  {
   "cell_type": "code",
   "execution_count": null,
   "id": "4d604659",
   "metadata": {
    "tags": []
   },
   "outputs": [],
   "source": [
    "tfidf_vector.shape"
   ]
  },
  {
   "cell_type": "markdown",
   "id": "ac48ae90",
   "metadata": {},
   "source": [
    "**Answer:**"
   ]
  },
  {
   "cell_type": "markdown",
   "id": "0b68d2d6",
   "metadata": {},
   "source": [
    "Let's store the Document-Word Matrix of TF-IDF values into a DataFrame"
   ]
  },
  {
   "cell_type": "code",
   "execution_count": null,
   "id": "1fe646b9",
   "metadata": {
    "tags": []
   },
   "outputs": [],
   "source": [
    "tfidf_df = pd.DataFrame(tfidf_vector.toarray())\n",
    "tfidf_df"
   ]
  },
  {
   "cell_type": "markdown",
   "id": "341b575f",
   "metadata": {},
   "source": [
    "Let's clean up the dataframe to add appropriate columns names and indices"
   ]
  },
  {
   "cell_type": "code",
   "execution_count": null,
   "id": "55936dae",
   "metadata": {},
   "outputs": [],
   "source": [
    "# Makes the indices of the dataframe the titles of the speeches\n",
    "tfidf_df.index = titles\n",
    "# makes the names of the columns the word types\n",
    "tfidf_df.columns = tfidf_vectorizer.get_feature_names()   \n",
    "tfidf_df"
   ]
  },
  {
   "cell_type": "markdown",
   "id": "bed61692",
   "metadata": {},
   "source": [
    "## Distinctive Words\n",
    "\n",
    "Sometimes we know what words are indicative of specific things we want to quantify.\n"
   ]
  },
  {
   "cell_type": "code",
   "execution_count": null,
   "id": "969f3f6d",
   "metadata": {},
   "outputs": [],
   "source": [
    "tfidf_slice = tfidf_df[['government', 'borders', 'people', 'war', 'honor','foreign', 'men', 'women', 'children']]\n",
    "tfidf_slice.sort_index().round(decimals=2)"
   ]
  },
  {
   "cell_type": "markdown",
   "id": "08bf45ee",
   "metadata": {},
   "source": [
    "Let's determine the most distinctive terms for each Inaugrual Address"
   ]
  },
  {
   "cell_type": "code",
   "execution_count": null,
   "id": "bdedb9f8",
   "metadata": {
    "jupyter": {
     "source_hidden": true
    },
    "tags": []
   },
   "outputs": [],
   "source": [
    "doc_word_tfidf_df = tfidf_df.stack().reset_index()\n",
    "doc_word_tfidf_df"
   ]
  },
  {
   "cell_type": "markdown",
   "id": "2bf9f384",
   "metadata": {},
   "source": [
    "Let's rename the columns so the dataframe is interpretable"
   ]
  },
  {
   "cell_type": "code",
   "execution_count": null,
   "id": "6aa72e5c",
   "metadata": {
    "jupyter": {
     "source_hidden": true
    },
    "tags": []
   },
   "outputs": [],
   "source": [
    "doc_word_tfidf_df = doc_word_tfidf_df.rename(columns=\n",
    "                         {0:'tfidf', 'level_0': 'document','level_1': 'term', 'level_2': 'term'})\n",
    "doc_word_tfidf_df"
   ]
  },
  {
   "cell_type": "markdown",
   "id": "e699647c",
   "metadata": {},
   "source": [
    "Now we can sort the terms based on the document (ascending) and tfidf of term (descending)"
   ]
  },
  {
   "cell_type": "code",
   "execution_count": null,
   "id": "4ea238c9",
   "metadata": {},
   "outputs": [],
   "source": [
    "doc_word_tfidf_df = doc_word_tfidf_df.sort_values(by=['document','tfidf'], ascending=[True,False]).groupby(['document']).head(10)\n",
    "doc_word_tfidf_df"
   ]
  },
  {
   "cell_type": "markdown",
   "id": "6334199e",
   "metadata": {},
   "source": [
    "**Question:** How did word usage change between a President's first and second address?"
   ]
  },
  {
   "cell_type": "code",
   "execution_count": null,
   "id": "def78474",
   "metadata": {
    "tags": []
   },
   "outputs": [],
   "source": [
    "doc_word_tfidf_df[doc_word_tfidf_df['document'].str.contains(\"George_W._Bush\")] "
   ]
  },
  {
   "cell_type": "code",
   "execution_count": null,
   "id": "f5097280",
   "metadata": {
    "tags": []
   },
   "outputs": [],
   "source": [
    "doc_word_tfidf_df[doc_word_tfidf_df['document'].str.contains(\"Washington\")] "
   ]
  },
  {
   "cell_type": "code",
   "execution_count": null,
   "id": "985b240c",
   "metadata": {
    "tags": []
   },
   "outputs": [],
   "source": [
    "doc_word_tfidf_df[doc_word_tfidf_df['document'].str.contains(\"Franklin_D\")]"
   ]
  },
  {
   "cell_type": "markdown",
   "id": "93c901bf",
   "metadata": {},
   "source": [
    "**Question:** How did TF-IDF change over time in these Inaugrual Speeches?"
   ]
  },
  {
   "cell_type": "code",
   "execution_count": null,
   "id": "54139a7b",
   "metadata": {
    "tags": []
   },
   "outputs": [],
   "source": [
    "doc_word_tfidf_df = doc_word_tfidf_df.sort_values(by=['document','tfidf'], ascending=[True,False]).groupby(['document']).head(10)\n",
    "doc_word_tfidf_df"
   ]
  },
  {
   "cell_type": "code",
   "execution_count": null,
   "id": "8955f027",
   "metadata": {
    "tags": []
   },
   "outputs": [],
   "source": [
    "doc_word_tfidf_df['document'].apply(lambda x: x.split(\"-\")[0])"
   ]
  },
  {
   "cell_type": "code",
   "execution_count": null,
   "id": "6bed0214",
   "metadata": {
    "tags": []
   },
   "outputs": [],
   "source": [
    "doc_word_tfidf_df['year'] = doc_word_tfidf_df['document'].apply(lambda x: x.split(\"-\")[0])\n",
    "\n",
    "doc_word_tfidf_df[doc_word_tfidf_df['term'] == 'government']"
   ]
  },
  {
   "cell_type": "code",
   "execution_count": null,
   "id": "558cd9b2",
   "metadata": {
    "tags": []
   },
   "outputs": [],
   "source": [
    "doc_word_tfidf_df[doc_word_tfidf_df['term'] == 'peace']\n"
   ]
  },
  {
   "cell_type": "markdown",
   "id": "80c5c347",
   "metadata": {},
   "source": [
    "Regenerate `doc_word_tfidf_df` but for more than top-10 words in each document"
   ]
  },
  {
   "cell_type": "code",
   "execution_count": null,
   "id": "fc99a20c",
   "metadata": {
    "jupyter": {
     "source_hidden": true
    },
    "tags": []
   },
   "outputs": [],
   "source": [
    "doc_word_tfidf_df = tfidf_df.stack().reset_index()\n",
    "doc_word_tfidf_df = doc_word_tfidf_df.rename(columns=\n",
    "                         {0:'tfidf', 'level_0': 'document','level_1': 'term', 'level_2': 'term'})\n",
    "doc_word_tfidf_df = doc_word_tfidf_df.sort_values(by=['document','tfidf'], ascending=[True,False]).groupby(['document']).head(10000)\n",
    "doc_word_tfidf_df['year'] = doc_word_tfidf_df['document'].apply(lambda x: x.split(\"-\")[0])"
   ]
  },
  {
   "cell_type": "code",
   "execution_count": null,
   "id": "a24259b5",
   "metadata": {
    "jupyter": {
     "source_hidden": true
    },
    "tags": []
   },
   "outputs": [],
   "source": [
    "def plot_tfidf_over_time(word):\n",
    "    ax = doc_word_tfidf_df[doc_word_tfidf_df['term'] == word].plot(kind='line', x='year', y='tfidf')\n",
    "    ax.set_title(f\"TF-IDF of {word} over time\")\n",
    "    ax.set_ylabel(\"TF-IDF\")\n",
    "    \n",
    "plot_tfidf_over_time('government')"
   ]
  },
  {
   "cell_type": "code",
   "execution_count": null,
   "id": "47c48ef3",
   "metadata": {},
   "outputs": [],
   "source": [
    "plot_tfidf_over_time('peace')"
   ]
  },
  {
   "cell_type": "code",
   "execution_count": null,
   "id": "3056ec1d",
   "metadata": {},
   "outputs": [],
   "source": [
    "plot_tfidf_over_time('war')"
   ]
  },
  {
   "cell_type": "markdown",
   "id": "3ca07dea",
   "metadata": {},
   "source": [
    "(back to slides)\n",
    "## Similar Addressess"
   ]
  },
  {
   "cell_type": "code",
   "execution_count": null,
   "id": "6c56a1f1",
   "metadata": {},
   "outputs": [],
   "source": [
    "from sklearn.metrics.pairwise import cosine_similarity\n",
    "from sklearn.metrics.pairwise import cosine_distances"
   ]
  },
  {
   "cell_type": "code",
   "execution_count": null,
   "id": "fd0e0cba",
   "metadata": {},
   "outputs": [],
   "source": [
    "similarity_df = pd.DataFrame(cosine_similarity(tfidf_df))\n",
    "similarity_df.index =  tfidf_df.index\n",
    "similarity_df.columns = tfidf_df.index\n",
    "similarity_df"
   ]
  },
  {
   "cell_type": "markdown",
   "id": "62731147",
   "metadata": {},
   "source": [
    "**Question:** Which two speeches are the most similar?"
   ]
  },
  {
   "cell_type": "code",
   "execution_count": null,
   "id": "4f7d25e0",
   "metadata": {},
   "outputs": [],
   "source": [
    "for key in similarity_df:\n",
    "    similarity_df[key]\n",
    "    sorted_similar_speeches = similarity_df[key].sort_values(ascending=False)\n",
    "    print(f\"{sorted_similar_speeches.index[1]} is the most similar speech to {key} with a cosine similarity of\\\n",
    "    {sorted_similar_speeches[1]}\")\n"
   ]
  },
  {
   "cell_type": "code",
   "execution_count": null,
   "id": "a390b82d",
   "metadata": {},
   "outputs": [],
   "source": [
    "sorted_similar_speeches = similarity_df[key].sort_values(ascending=False)\n",
    "sorted_similar_speeches[1]\n",
    "sorted_similar_speeches.index[1]"
   ]
  },
  {
   "cell_type": "markdown",
   "id": "4434a606",
   "metadata": {},
   "source": [
    "**Question:** Which speech was most similar to Kennedy's famous \"Ask not what your country can do for you\"?"
   ]
  },
  {
   "cell_type": "code",
   "execution_count": null,
   "id": "9943f459",
   "metadata": {},
   "outputs": [],
   "source": [
    "similarity_df.sort_values('1961-John_F._Kennedy', ascending=False).index"
   ]
  },
  {
   "cell_type": "code",
   "execution_count": null,
   "id": "0dd9469a",
   "metadata": {},
   "outputs": [],
   "source": [
    "doc_word_tfidf_df[doc_word_tfidf_df['document'] == '1973-Richard_Nixon']"
   ]
  },
  {
   "cell_type": "code",
   "execution_count": null,
   "id": "312627b3",
   "metadata": {},
   "outputs": [],
   "source": [
    "doc_word_tfidf_df[doc_word_tfidf_df['document'] == '1961-John_F._Kennedy']"
   ]
  },
  {
   "cell_type": "code",
   "execution_count": null,
   "id": "b4698d36",
   "metadata": {},
   "outputs": [],
   "source": [
    "doc_word_tfidf_df[doc_word_tfidf_df['document'] == '1993-Bill_Clinton']"
   ]
  },
  {
   "cell_type": "code",
   "execution_count": null,
   "id": "c1e601b8",
   "metadata": {
    "tags": []
   },
   "outputs": [],
   "source": [
    "open(\"data/inaugural_speeches/1973-Richard_Nixon.txt\").read()"
   ]
  },
  {
   "cell_type": "markdown",
   "id": "86db48cd",
   "metadata": {},
   "source": [
    "## Homework 02\n",
    "\n",
    "Analyzing NYTimes obituaries using tf-idf"
   ]
  },
  {
   "cell_type": "markdown",
   "id": "3408a124",
   "metadata": {},
   "source": [
    "### Questions for homework\n",
    "\n",
    "Are your findings robust to:\n",
    "1. Stopwords\n",
    "1. lemmatization\n",
    "1. stemming"
   ]
  },
  {
   "cell_type": "code",
   "execution_count": null,
   "id": "bce49a34",
   "metadata": {},
   "outputs": [],
   "source": []
  }
 ],
 "metadata": {
  "kernelspec": {
   "display_name": "Python 3",
   "language": "python",
   "name": "python3"
  },
  "language_info": {
   "codemirror_mode": {
    "name": "ipython",
    "version": 3
   },
   "file_extension": ".py",
   "mimetype": "text/x-python",
   "name": "python",
   "nbconvert_exporter": "python",
   "pygments_lexer": "ipython3",
   "version": "3.8.8"
  }
 },
 "nbformat": 4,
 "nbformat_minor": 5
}
