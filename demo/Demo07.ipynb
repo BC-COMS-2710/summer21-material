{
 "cells": [
  {
   "cell_type": "markdown",
   "id": "d783e843",
   "metadata": {},
   "source": [
    "# Demo 07"
   ]
  },
  {
   "cell_type": "code",
   "execution_count": null,
   "id": "f10a3482",
   "metadata": {},
   "outputs": [],
   "source": [
    "import nltk\n",
    "\n",
    "import os\n",
    "from sklearn.feature_extraction.text import TfidfVectorizer\n",
    "from sklearn.feature_extraction.text import CountVectorizer\n",
    "import pandas as pd\n",
    "pd.set_option(\"max_rows\", 20)"
   ]
  },
  {
   "cell_type": "markdown",
   "id": "4ffe5432",
   "metadata": {},
   "source": [
    "## TF-IDF for Inaugaural Addresses"
   ]
  },
  {
   "cell_type": "markdown",
   "id": "79263158",
   "metadata": {},
   "source": [
    "#### Making Document-Matrix with Sklearn"
   ]
  },
  {
   "cell_type": "markdown",
   "id": "2c3b119d",
   "metadata": {},
   "source": [
    "In yesterday's demo we used nltk's [CountVectorizer](https://scikit-learn.org/stable/modules/generated/sklearn.feature_extraction.text.CountVectorizer.html) to\n",
    "> Convert a collection of text documents to a matrix of token counts\n",
    "\n",
    "Today's demo will use nltk's [TfidfVectorize](https://scikit-learn.org/stable/modules/generated/sklearn.feature_extraction.text.TfidfVectorizer.html) to\n",
    "> Convert a collection of raw documents to a matrix of TF-IDF features."
   ]
  },
  {
   "cell_type": "code",
   "execution_count": null,
   "id": "637a79d9",
   "metadata": {},
   "outputs": [],
   "source": [
    "# Create a new TfidfVectorizer\n",
    "tfidf_vectorizer = TfidfVectorizer(input='filename', stop_words='english') "
   ]
  },
  {
   "cell_type": "markdown",
   "id": "ee0ca2e8",
   "metadata": {},
   "source": [
    "**Question:** What are these options of `input='filename'` and `stop_words='english'`?"
   ]
  },
  {
   "cell_type": "markdown",
   "id": "ba15b429",
   "metadata": {},
   "source": [
    "Let's read the documentation in the Contextual help"
   ]
  },
  {
   "cell_type": "markdown",
   "id": "5cf5c157",
   "metadata": {},
   "source": [
    "Let's get the list of speeches"
   ]
  },
  {
   "cell_type": "code",
   "execution_count": null,
   "id": "9105bea2",
   "metadata": {},
   "outputs": [],
   "source": [
    "Speeches_path = \"data/inaugural_speeches/\""
   ]
  },
  {
   "cell_type": "markdown",
   "id": "675eccce",
   "metadata": {},
   "source": [
    "Stores the titles of the speeches, we will use this information later"
   ]
  },
  {
   "cell_type": "code",
   "execution_count": null,
   "id": "fa27d433",
   "metadata": {},
   "outputs": [],
   "source": [
    "titles = [title.strip(\".txt\") for title in os.listdir(Speeches_path)]\n",
    "\" \".join(titles)"
   ]
  },
  {
   "cell_type": "markdown",
   "id": "cf7e3d3f",
   "metadata": {},
   "source": [
    "This list compression will create the paths to the speech files\n",
    "\n",
    "*Not for in class: show students how to hide output of a Jupytercell*"
   ]
  },
  {
   "cell_type": "code",
   "execution_count": null,
   "id": "de08ed69",
   "metadata": {
    "tags": []
   },
   "outputs": [],
   "source": [
    "[Speeches_path + fname for fname in os.listdir(Speeches_path)]"
   ]
  },
  {
   "cell_type": "markdown",
   "id": "17dd402e",
   "metadata": {},
   "source": [
    "Now lets create our Document-Term matrix where features are TF-IDF counts"
   ]
  },
  {
   "cell_type": "code",
   "execution_count": null,
   "id": "1acbf6b4",
   "metadata": {
    "jupyter": {
     "source_hidden": true
    },
    "tags": []
   },
   "outputs": [],
   "source": [
    "tfidf_vector = tfidf_vectorizer.fit_transform([Speeches_path + fname for fname in os.listdir(Speeches_path)])\n",
    "tfidf_vector"
   ]
  },
  {
   "cell_type": "markdown",
   "id": "58eafe74",
   "metadata": {},
   "source": [
    "Let's read contextual help for `.fit_transform`"
   ]
  },
  {
   "cell_type": "markdown",
   "id": "d033b53b",
   "metadata": {},
   "source": [
    "**Question:** Let's find the size of the matrix, i.e. how many rows and how many columns"
   ]
  },
  {
   "cell_type": "code",
   "execution_count": null,
   "id": "307fe4f2",
   "metadata": {
    "jupyter": {
     "source_hidden": true
    },
    "tags": []
   },
   "outputs": [],
   "source": [
    "tfidf_vector.shape"
   ]
  },
  {
   "cell_type": "markdown",
   "id": "ebbd9113",
   "metadata": {},
   "source": [
    "**Answer:**"
   ]
  },
  {
   "cell_type": "markdown",
   "id": "1ed6921a",
   "metadata": {},
   "source": [
    "Let's store the Document-Word Matrix of TF-IDF values into a DataFrame"
   ]
  },
  {
   "cell_type": "code",
   "execution_count": null,
   "id": "0898c7c6",
   "metadata": {
    "jupyter": {
     "source_hidden": true
    },
    "tags": []
   },
   "outputs": [],
   "source": [
    "tfidf_df = pd.DataFrame(tfidf_vector.toarray())\n",
    "tfidf_df"
   ]
  },
  {
   "cell_type": "markdown",
   "id": "c5a0d96f",
   "metadata": {},
   "source": [
    "Let's clean up the dataframe to add appropriate columns names and indices"
   ]
  },
  {
   "cell_type": "code",
   "execution_count": null,
   "id": "c6e13a64",
   "metadata": {},
   "outputs": [],
   "source": [
    "# Makes the indices of the dataframe the titles of the speeches\n",
    "tfidf_df.index = titles\n",
    "# makes the names of the columns the word types\n",
    "tfidf_df.columns = tfidf_vectorizer.get_feature_names()   \n",
    "tfidf_df"
   ]
  },
  {
   "cell_type": "markdown",
   "id": "200e80bc",
   "metadata": {},
   "source": [
    "## Distinctive Words\n",
    "\n",
    "Sometimes we know what words are indicative of specific things we want to quantify.\n"
   ]
  },
  {
   "cell_type": "code",
   "execution_count": null,
   "id": "411f7f39",
   "metadata": {},
   "outputs": [],
   "source": [
    "tfidf_slice = tfidf_df[['government', 'borders', 'people', 'war', 'honor','foreign', 'men', 'women', 'children']]\n",
    "tfidf_slice.sort_index().round(decimals=2)"
   ]
  },
  {
   "cell_type": "markdown",
   "id": "b58f7039",
   "metadata": {},
   "source": [
    "Let's determine the most distinctive terms for each Inaugrual Address"
   ]
  },
  {
   "cell_type": "code",
   "execution_count": null,
   "id": "f017e03d",
   "metadata": {
    "jupyter": {
     "source_hidden": true
    },
    "tags": []
   },
   "outputs": [],
   "source": [
    "doc_word_tfidf_df = tfidf_df.stack().reset_index()\n",
    "doc_word_tfidf_df"
   ]
  },
  {
   "cell_type": "markdown",
   "id": "613c48f4",
   "metadata": {},
   "source": [
    "Let's rename the columns so the dataframe is interpretable"
   ]
  },
  {
   "cell_type": "code",
   "execution_count": null,
   "id": "445bdc6e",
   "metadata": {
    "jupyter": {
     "source_hidden": true
    },
    "tags": []
   },
   "outputs": [],
   "source": [
    "doc_word_tfidf_df = doc_word_tfidf_df.rename(columns=\n",
    "                         {0:'tfidf', 'level_0': 'document','level_1': 'term', 'level_2': 'term'})\n",
    "doc_word_tfidf_df"
   ]
  },
  {
   "cell_type": "markdown",
   "id": "73d8ed34",
   "metadata": {},
   "source": [
    "Now we can sort the terms based on the document (ascending) and tfidf of term (descending)"
   ]
  },
  {
   "cell_type": "code",
   "execution_count": null,
   "id": "460391fa",
   "metadata": {},
   "outputs": [],
   "source": [
    "doc_word_tfidf_df = doc_word_tfidf_df.sort_values(by=['document','tfidf'], ascending=[True,False]).groupby(['document']).head(10)\n",
    "doc_word_tfidf_df"
   ]
  },
  {
   "cell_type": "markdown",
   "id": "72924828",
   "metadata": {},
   "source": [
    "**Question:** How did word usage change between a President's first and second address?"
   ]
  },
  {
   "cell_type": "code",
   "execution_count": null,
   "id": "13ff682c",
   "metadata": {
    "tags": []
   },
   "outputs": [],
   "source": [
    "doc_word_tfidf_df[doc_word_tfidf_df['document'].str.contains(\"George_W._Bush\")] "
   ]
  },
  {
   "cell_type": "code",
   "execution_count": null,
   "id": "0828b720",
   "metadata": {
    "tags": []
   },
   "outputs": [],
   "source": [
    "doc_word_tfidf_df[doc_word_tfidf_df['document'].str.contains(\"Washington\")] "
   ]
  },
  {
   "cell_type": "code",
   "execution_count": null,
   "id": "8fa4a77d",
   "metadata": {
    "tags": []
   },
   "outputs": [],
   "source": [
    "doc_word_tfidf_df[doc_word_tfidf_df['document'].str.contains(\"Franklin_D\")]"
   ]
  },
  {
   "cell_type": "markdown",
   "id": "7e6700c2",
   "metadata": {},
   "source": [
    "**Question:** How did TF-IDF change over time in these Inaugrual Speeches?"
   ]
  },
  {
   "cell_type": "code",
   "execution_count": null,
   "id": "2057062f",
   "metadata": {
    "tags": []
   },
   "outputs": [],
   "source": [
    "doc_word_tfidf_df = doc_word_tfidf_df.sort_values(by=['document','tfidf'], ascending=[True,False]).groupby(['document']).head(10)\n",
    "doc_word_tfidf_df"
   ]
  },
  {
   "cell_type": "code",
   "execution_count": null,
   "id": "fa95495f",
   "metadata": {
    "tags": []
   },
   "outputs": [],
   "source": [
    "doc_word_tfidf_df['document'].apply(lambda x: x.split(\"-\")[0])"
   ]
  },
  {
   "cell_type": "code",
   "execution_count": null,
   "id": "69c74638",
   "metadata": {
    "tags": []
   },
   "outputs": [],
   "source": [
    "doc_word_tfidf_df['year'] = doc_word_tfidf_df['document'].apply(lambda x: x.split(\"-\")[0])\n",
    "\n",
    "doc_word_tfidf_df[doc_word_tfidf_df['term'] == 'government']"
   ]
  },
  {
   "cell_type": "code",
   "execution_count": null,
   "id": "ae1e736a",
   "metadata": {
    "tags": []
   },
   "outputs": [],
   "source": [
    "doc_word_tfidf_df[doc_word_tfidf_df['term'] == 'peace']\n"
   ]
  },
  {
   "cell_type": "markdown",
   "id": "86489bb0",
   "metadata": {},
   "source": [
    "Regenerate `doc_word_tfidf_df` but for more than top-10 words in each document"
   ]
  },
  {
   "cell_type": "code",
   "execution_count": null,
   "id": "8d4e2416",
   "metadata": {
    "jupyter": {
     "source_hidden": true
    },
    "tags": []
   },
   "outputs": [],
   "source": [
    "doc_word_tfidf_df = tfidf_df.stack().reset_index()\n",
    "doc_word_tfidf_df = doc_word_tfidf_df.rename(columns=\n",
    "                         {0:'tfidf', 'level_0': 'document','level_1': 'term', 'level_2': 'term'})\n",
    "doc_word_tfidf_df = doc_word_tfidf_df.sort_values(by=['document','tfidf'], ascending=[True,False]).groupby(['document']).head(10000)\n",
    "doc_word_tfidf_df['year'] = doc_word_tfidf_df['document'].apply(lambda x: x.split(\"-\")[0])"
   ]
  },
  {
   "cell_type": "code",
   "execution_count": null,
   "id": "954f17d1",
   "metadata": {
    "jupyter": {
     "source_hidden": true
    },
    "tags": []
   },
   "outputs": [],
   "source": [
    "def plot_tfidf_over_time(word):\n",
    "    ax = doc_word_tfidf_df[doc_word_tfidf_df['term'] == word].plot(kind='line', x='year', y='tfidf')\n",
    "    ax.set_title(f\"TF-IDF of {word} over time\")\n",
    "    ax.set_ylabel(\"TF-IDF\")\n",
    "    \n",
    "plot_tfidf_over_time('government')"
   ]
  },
  {
   "cell_type": "code",
   "execution_count": null,
   "id": "04d3a3b8",
   "metadata": {},
   "outputs": [],
   "source": [
    "plot_tfidf_over_time('peace')"
   ]
  },
  {
   "cell_type": "code",
   "execution_count": null,
   "id": "4b9eaefd",
   "metadata": {},
   "outputs": [],
   "source": [
    "plot_tfidf_over_time('war')"
   ]
  },
  {
   "cell_type": "markdown",
   "id": "9bda0b19",
   "metadata": {},
   "source": [
    "(back to slides)\n",
    "## Similar Addressess"
   ]
  },
  {
   "cell_type": "code",
   "execution_count": null,
   "id": "2f9b8e78",
   "metadata": {},
   "outputs": [],
   "source": [
    "from sklearn.metrics.pairwise import cosine_similarity\n",
    "from sklearn.metrics.pairwise import cosine_distances"
   ]
  },
  {
   "cell_type": "code",
   "execution_count": null,
   "id": "c9ddd687",
   "metadata": {},
   "outputs": [],
   "source": [
    "similarity_df = pd.DataFrame(cosine_similarity(tfidf_df))\n",
    "similarity_df.index =  tfidf_df.index\n",
    "similarity_df.columns = tfidf_df.index\n",
    "similarity_df"
   ]
  },
  {
   "cell_type": "markdown",
   "id": "cd469051",
   "metadata": {},
   "source": [
    "**Question:** Which two speeches are the most similar?"
   ]
  },
  {
   "cell_type": "code",
   "execution_count": null,
   "id": "2e05f2da",
   "metadata": {},
   "outputs": [],
   "source": [
    "for key in similarity_df:\n",
    "    similarity_df[key]\n",
    "    sorted_similar_speeches = similarity_df[key].sort_values(ascending=False)\n",
    "    print(f\"{sorted_similar_speeches.index[1]} is the most similar speech to {key} with a cosine similarity of\\\n",
    "    {sorted_similar_speeches[1]}\")\n"
   ]
  },
  {
   "cell_type": "code",
   "execution_count": null,
   "id": "b5fed132",
   "metadata": {},
   "outputs": [],
   "source": [
    "sorted_similar_speeches = similarity_df[key].sort_values(ascending=False)\n",
    "sorted_similar_speeches[1]\n",
    "sorted_similar_speeches.index[1]"
   ]
  },
  {
   "cell_type": "markdown",
   "id": "ab9dd966",
   "metadata": {},
   "source": [
    "**Question:** Which speech was most similar to Kennedy's famous \"Ask not what your country can do for you\"?"
   ]
  },
  {
   "cell_type": "code",
   "execution_count": null,
   "id": "9e378b31",
   "metadata": {},
   "outputs": [],
   "source": [
    "similarity_df.sort_values('1961-John_F._Kennedy', ascending=False).index"
   ]
  },
  {
   "cell_type": "code",
   "execution_count": null,
   "id": "05fb8cd0",
   "metadata": {},
   "outputs": [],
   "source": [
    "doc_word_tfidf_df[doc_word_tfidf_df['document'] == '1973-Richard_Nixon']"
   ]
  },
  {
   "cell_type": "code",
   "execution_count": null,
   "id": "fc45bd41",
   "metadata": {},
   "outputs": [],
   "source": [
    "doc_word_tfidf_df[doc_word_tfidf_df['document'] == '1961-John_F._Kennedy']"
   ]
  },
  {
   "cell_type": "code",
   "execution_count": null,
   "id": "270cba19",
   "metadata": {},
   "outputs": [],
   "source": [
    "doc_word_tfidf_df[doc_word_tfidf_df['document'] == '1993-Bill_Clinton']"
   ]
  },
  {
   "cell_type": "code",
   "execution_count": null,
   "id": "a6e9b940",
   "metadata": {
    "tags": []
   },
   "outputs": [],
   "source": [
    "open(\"data/inaugural_speeches/1973-Richard_Nixon.txt\").read()"
   ]
  },
  {
   "cell_type": "markdown",
   "id": "f9b6244b",
   "metadata": {},
   "source": [
    "## Homework 02\n",
    "\n",
    "Analyzing NYTimes obituaries using tf-idf"
   ]
  },
  {
   "cell_type": "markdown",
   "id": "6e3a8736",
   "metadata": {},
   "source": [
    "### Questions for homework\n",
    "\n",
    "Are your findings robust to:\n",
    "1. Stopwords\n",
    "1. lemmatization\n",
    "1. stemming"
   ]
  },
  {
   "cell_type": "code",
   "execution_count": null,
   "id": "c659e9fe",
   "metadata": {},
   "outputs": [],
   "source": []
  }
 ],
 "metadata": {
  "kernelspec": {
   "display_name": "Python 3",
   "language": "python",
   "name": "python3"
  },
  "language_info": {
   "codemirror_mode": {
    "name": "ipython",
    "version": 3
   },
   "file_extension": ".py",
   "mimetype": "text/x-python",
   "name": "python",
   "nbconvert_exporter": "python",
   "pygments_lexer": "ipython3",
   "version": "3.8.8"
  }
 },
 "nbformat": 4,
 "nbformat_minor": 5
}
