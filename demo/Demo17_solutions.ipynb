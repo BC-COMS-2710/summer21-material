{
 "cells": [
  {
   "cell_type": "markdown",
   "id": "db285222",
   "metadata": {},
   "source": [
    "# Demo 17 - Naive Bayes and Logistic Regressions"
   ]
  },
  {
   "cell_type": "code",
   "execution_count": 2,
   "id": "d211a40b",
   "metadata": {},
   "outputs": [],
   "source": [
    "import nltk\n",
    "import sklearn\n",
    "import pandas as pd\n",
    "import numpy as np"
   ]
  },
  {
   "cell_type": "markdown",
   "id": "83dfb715",
   "metadata": {},
   "source": [
    "## Multiplying Probabilities"
   ]
  },
  {
   "cell_type": "code",
   "execution_count": 3,
   "id": "2c507215",
   "metadata": {},
   "outputs": [
    {
     "data": {
      "text/plain": [
       "0.13311109186413153"
      ]
     },
     "execution_count": 3,
     "metadata": {},
     "output_type": "execute_result"
    }
   ],
   "source": [
    "np.random.rand() * np.random.rand() * np.random.rand()"
   ]
  },
  {
   "cell_type": "code",
   "execution_count": 5,
   "id": "9426e88e",
   "metadata": {},
   "outputs": [
    {
     "data": {
      "text/plain": [
       "0.9995835362899248"
      ]
     },
     "execution_count": 5,
     "metadata": {},
     "output_type": "execute_result"
    }
   ],
   "source": [
    "np.random.rand()"
   ]
  },
  {
   "cell_type": "code",
   "execution_count": 6,
   "id": "af319e29",
   "metadata": {},
   "outputs": [
    {
     "data": {
      "text/plain": [
       "0.00016670105472496005"
      ]
     },
     "execution_count": 6,
     "metadata": {},
     "output_type": "execute_result"
    }
   ],
   "source": [
    "rand_number = np.random.rand() \n",
    "for i in range(10):\n",
    "    rand_number *= np.random.rand() \n",
    "rand_number"
   ]
  },
  {
   "cell_type": "code",
   "execution_count": 7,
   "id": "9d3b9442",
   "metadata": {},
   "outputs": [
    {
     "data": {
      "text/plain": [
       "7.388162536859592e-46"
      ]
     },
     "execution_count": 7,
     "metadata": {},
     "output_type": "execute_result"
    }
   ],
   "source": [
    "rand_number = np.random.rand() \n",
    "for i in range(100):\n",
    "    rand_number *= np.random.rand() \n",
    "rand_number"
   ]
  },
  {
   "cell_type": "code",
   "execution_count": 8,
   "id": "6bac5cc0",
   "metadata": {},
   "outputs": [
    {
     "data": {
      "text/plain": [
       "1.6866754839815355e-216"
      ]
     },
     "execution_count": 8,
     "metadata": {},
     "output_type": "execute_result"
    }
   ],
   "source": [
    "rand_number = np.random.rand() \n",
    "for i in range(500):\n",
    "    rand_number *= np.random.rand() \n",
    "rand_number"
   ]
  },
  {
   "cell_type": "code",
   "execution_count": 9,
   "id": "2862cab0",
   "metadata": {},
   "outputs": [
    {
     "data": {
      "text/plain": [
       "8.616630815473531e-250"
      ]
     },
     "execution_count": 9,
     "metadata": {},
     "output_type": "execute_result"
    }
   ],
   "source": [
    "rand_number = np.random.rand() \n",
    "for i in range(600):\n",
    "    rand_number *= np.random.rand() \n",
    "rand_number"
   ]
  },
  {
   "cell_type": "code",
   "execution_count": 10,
   "id": "b6c3cd3f",
   "metadata": {},
   "outputs": [
    {
     "data": {
      "text/plain": [
       "0.0"
      ]
     },
     "execution_count": 10,
     "metadata": {},
     "output_type": "execute_result"
    }
   ],
   "source": [
    "rand_number = np.random.rand() \n",
    "for i in range(1000):\n",
    "    rand_number *= np.random.rand() \n",
    "rand_number"
   ]
  },
  {
   "cell_type": "markdown",
   "id": "19000752",
   "metadata": {},
   "source": [
    "(back to slides)"
   ]
  },
  {
   "cell_type": "markdown",
   "id": "ecd556d9",
   "metadata": {},
   "source": [
    "#### Logs to the rescue"
   ]
  },
  {
   "cell_type": "code",
   "execution_count": 11,
   "id": "7237ee7c",
   "metadata": {},
   "outputs": [
    {
     "data": {
      "text/plain": [
       "-1005.6900271981366"
      ]
     },
     "execution_count": 11,
     "metadata": {},
     "output_type": "execute_result"
    }
   ],
   "source": [
    "rand_number = np.log(np.random.rand())\n",
    "for i in range(1000):\n",
    "    rand_number += np.log(np.random.rand()) \n",
    "rand_number"
   ]
  },
  {
   "cell_type": "markdown",
   "id": "cda294f6",
   "metadata": {},
   "source": [
    "## Sklearn\n",
    "\n",
    "### Movie Reviews"
   ]
  },
  {
   "cell_type": "code",
   "execution_count": 12,
   "id": "95fb1143",
   "metadata": {},
   "outputs": [],
   "source": [
    "moview_reviews = nltk.corpus.movie_reviews"
   ]
  },
  {
   "cell_type": "code",
   "execution_count": 17,
   "id": "f816dfd2",
   "metadata": {},
   "outputs": [
    {
     "data": {
      "text/plain": [
       "2000"
      ]
     },
     "execution_count": 17,
     "metadata": {},
     "output_type": "execute_result"
    }
   ],
   "source": [
    "len(moview_reviews.fileids())"
   ]
  },
  {
   "cell_type": "code",
   "execution_count": 18,
   "id": "8d777886",
   "metadata": {
    "tags": []
   },
   "outputs": [
    {
     "data": {
      "text/plain": [
       "2000"
      ]
     },
     "execution_count": 18,
     "metadata": {},
     "output_type": "execute_result"
    }
   ],
   "source": [
    "#neg_review, pos_review = [], []\n",
    "review_files = [(file_id, file_id.startswith(\"pos\")) for file_id in moview_reviews.fileids()]\n",
    "\n",
    "len(review_files)"
   ]
  },
  {
   "cell_type": "code",
   "execution_count": 19,
   "id": "c187c1b6",
   "metadata": {},
   "outputs": [
    {
     "data": {
      "text/plain": [
       "[('neg/cv000_29416.txt', False),\n",
       " ('neg/cv001_19502.txt', False),\n",
       " ('neg/cv002_17424.txt', False),\n",
       " ('neg/cv003_12683.txt', False),\n",
       " ('neg/cv004_12641.txt', False)]"
      ]
     },
     "execution_count": 19,
     "metadata": {},
     "output_type": "execute_result"
    }
   ],
   "source": [
    "review_files[:5]"
   ]
  },
  {
   "cell_type": "code",
   "execution_count": 20,
   "id": "b21b9c15",
   "metadata": {},
   "outputs": [
    {
     "data": {
      "text/html": [
       "<div>\n",
       "<style scoped>\n",
       "    .dataframe tbody tr th:only-of-type {\n",
       "        vertical-align: middle;\n",
       "    }\n",
       "\n",
       "    .dataframe tbody tr th {\n",
       "        vertical-align: top;\n",
       "    }\n",
       "\n",
       "    .dataframe thead th {\n",
       "        text-align: right;\n",
       "    }\n",
       "</style>\n",
       "<table border=\"1\" class=\"dataframe\">\n",
       "  <thead>\n",
       "    <tr style=\"text-align: right;\">\n",
       "      <th></th>\n",
       "      <th>0</th>\n",
       "      <th>1</th>\n",
       "    </tr>\n",
       "  </thead>\n",
       "  <tbody>\n",
       "    <tr>\n",
       "      <th>0</th>\n",
       "      <td>neg/cv000_29416.txt</td>\n",
       "      <td>False</td>\n",
       "    </tr>\n",
       "    <tr>\n",
       "      <th>1</th>\n",
       "      <td>neg/cv001_19502.txt</td>\n",
       "      <td>False</td>\n",
       "    </tr>\n",
       "    <tr>\n",
       "      <th>2</th>\n",
       "      <td>neg/cv002_17424.txt</td>\n",
       "      <td>False</td>\n",
       "    </tr>\n",
       "    <tr>\n",
       "      <th>3</th>\n",
       "      <td>neg/cv003_12683.txt</td>\n",
       "      <td>False</td>\n",
       "    </tr>\n",
       "    <tr>\n",
       "      <th>4</th>\n",
       "      <td>neg/cv004_12641.txt</td>\n",
       "      <td>False</td>\n",
       "    </tr>\n",
       "    <tr>\n",
       "      <th>...</th>\n",
       "      <td>...</td>\n",
       "      <td>...</td>\n",
       "    </tr>\n",
       "    <tr>\n",
       "      <th>1995</th>\n",
       "      <td>pos/cv995_21821.txt</td>\n",
       "      <td>True</td>\n",
       "    </tr>\n",
       "    <tr>\n",
       "      <th>1996</th>\n",
       "      <td>pos/cv996_11592.txt</td>\n",
       "      <td>True</td>\n",
       "    </tr>\n",
       "    <tr>\n",
       "      <th>1997</th>\n",
       "      <td>pos/cv997_5046.txt</td>\n",
       "      <td>True</td>\n",
       "    </tr>\n",
       "    <tr>\n",
       "      <th>1998</th>\n",
       "      <td>pos/cv998_14111.txt</td>\n",
       "      <td>True</td>\n",
       "    </tr>\n",
       "    <tr>\n",
       "      <th>1999</th>\n",
       "      <td>pos/cv999_13106.txt</td>\n",
       "      <td>True</td>\n",
       "    </tr>\n",
       "  </tbody>\n",
       "</table>\n",
       "<p>2000 rows × 2 columns</p>\n",
       "</div>"
      ],
      "text/plain": [
       "                        0      1\n",
       "0     neg/cv000_29416.txt  False\n",
       "1     neg/cv001_19502.txt  False\n",
       "2     neg/cv002_17424.txt  False\n",
       "3     neg/cv003_12683.txt  False\n",
       "4     neg/cv004_12641.txt  False\n",
       "...                   ...    ...\n",
       "1995  pos/cv995_21821.txt   True\n",
       "1996  pos/cv996_11592.txt   True\n",
       "1997   pos/cv997_5046.txt   True\n",
       "1998  pos/cv998_14111.txt   True\n",
       "1999  pos/cv999_13106.txt   True\n",
       "\n",
       "[2000 rows x 2 columns]"
      ]
     },
     "execution_count": 20,
     "metadata": {},
     "output_type": "execute_result"
    }
   ],
   "source": [
    "df = pd.DataFrame(review_files)\n",
    "df"
   ]
  },
  {
   "cell_type": "code",
   "execution_count": 21,
   "id": "a2a659ea",
   "metadata": {},
   "outputs": [
    {
     "data": {
      "text/html": [
       "<div>\n",
       "<style scoped>\n",
       "    .dataframe tbody tr th:only-of-type {\n",
       "        vertical-align: middle;\n",
       "    }\n",
       "\n",
       "    .dataframe tbody tr th {\n",
       "        vertical-align: top;\n",
       "    }\n",
       "\n",
       "    .dataframe thead th {\n",
       "        text-align: right;\n",
       "    }\n",
       "</style>\n",
       "<table border=\"1\" class=\"dataframe\">\n",
       "  <thead>\n",
       "    <tr style=\"text-align: right;\">\n",
       "      <th></th>\n",
       "      <th>file_name</th>\n",
       "      <th>gold-label</th>\n",
       "    </tr>\n",
       "  </thead>\n",
       "  <tbody>\n",
       "    <tr>\n",
       "      <th>0</th>\n",
       "      <td>neg/cv000_29416.txt</td>\n",
       "      <td>False</td>\n",
       "    </tr>\n",
       "    <tr>\n",
       "      <th>1</th>\n",
       "      <td>neg/cv001_19502.txt</td>\n",
       "      <td>False</td>\n",
       "    </tr>\n",
       "    <tr>\n",
       "      <th>2</th>\n",
       "      <td>neg/cv002_17424.txt</td>\n",
       "      <td>False</td>\n",
       "    </tr>\n",
       "    <tr>\n",
       "      <th>3</th>\n",
       "      <td>neg/cv003_12683.txt</td>\n",
       "      <td>False</td>\n",
       "    </tr>\n",
       "    <tr>\n",
       "      <th>4</th>\n",
       "      <td>neg/cv004_12641.txt</td>\n",
       "      <td>False</td>\n",
       "    </tr>\n",
       "    <tr>\n",
       "      <th>...</th>\n",
       "      <td>...</td>\n",
       "      <td>...</td>\n",
       "    </tr>\n",
       "    <tr>\n",
       "      <th>1995</th>\n",
       "      <td>pos/cv995_21821.txt</td>\n",
       "      <td>True</td>\n",
       "    </tr>\n",
       "    <tr>\n",
       "      <th>1996</th>\n",
       "      <td>pos/cv996_11592.txt</td>\n",
       "      <td>True</td>\n",
       "    </tr>\n",
       "    <tr>\n",
       "      <th>1997</th>\n",
       "      <td>pos/cv997_5046.txt</td>\n",
       "      <td>True</td>\n",
       "    </tr>\n",
       "    <tr>\n",
       "      <th>1998</th>\n",
       "      <td>pos/cv998_14111.txt</td>\n",
       "      <td>True</td>\n",
       "    </tr>\n",
       "    <tr>\n",
       "      <th>1999</th>\n",
       "      <td>pos/cv999_13106.txt</td>\n",
       "      <td>True</td>\n",
       "    </tr>\n",
       "  </tbody>\n",
       "</table>\n",
       "<p>2000 rows × 2 columns</p>\n",
       "</div>"
      ],
      "text/plain": [
       "                file_name  gold-label\n",
       "0     neg/cv000_29416.txt       False\n",
       "1     neg/cv001_19502.txt       False\n",
       "2     neg/cv002_17424.txt       False\n",
       "3     neg/cv003_12683.txt       False\n",
       "4     neg/cv004_12641.txt       False\n",
       "...                   ...         ...\n",
       "1995  pos/cv995_21821.txt        True\n",
       "1996  pos/cv996_11592.txt        True\n",
       "1997   pos/cv997_5046.txt        True\n",
       "1998  pos/cv998_14111.txt        True\n",
       "1999  pos/cv999_13106.txt        True\n",
       "\n",
       "[2000 rows x 2 columns]"
      ]
     },
     "execution_count": 21,
     "metadata": {},
     "output_type": "execute_result"
    }
   ],
   "source": [
    "df = df.rename(columns={0: \"file_name\", 1: \"gold-label\"})\n",
    "df"
   ]
  },
  {
   "cell_type": "code",
   "execution_count": 22,
   "id": "47366bea",
   "metadata": {},
   "outputs": [],
   "source": [
    "def read_mov_review(f_name):\n",
    "    return moview_reviews.open(f_name).read()\n",
    "\n",
    "df['review_text'] = df['file_name'].apply(read_mov_review)"
   ]
  },
  {
   "cell_type": "code",
   "execution_count": 23,
   "id": "a0cc0d3c",
   "metadata": {},
   "outputs": [
    {
     "data": {
      "text/plain": [
       "0       plot : two teen couples go to a church party ,...\n",
       "1       the happy bastard's quick movie review \\ndamn ...\n",
       "2       it is movies like these that make a jaded movi...\n",
       "3        \" quest for camelot \" is warner bros . ' firs...\n",
       "4       synopsis : a mentally unstable man undergoing ...\n",
       "                              ...                        \n",
       "1995    wow ! what a movie . \\nit's everything a movie...\n",
       "1996    richard gere can be a commanding actor , but h...\n",
       "1997    glory--starring matthew broderick , denzel was...\n",
       "1998    steven spielberg's second epic film on world w...\n",
       "1999    truman ( \" true-man \" ) burbank is the perfect...\n",
       "Name: review_text, Length: 2000, dtype: object"
      ]
     },
     "execution_count": 23,
     "metadata": {},
     "output_type": "execute_result"
    }
   ],
   "source": [
    "df['review_text']"
   ]
  },
  {
   "cell_type": "code",
   "execution_count": 27,
   "id": "521707ba",
   "metadata": {},
   "outputs": [
    {
     "data": {
      "text/plain": [
       "\"this film is extraordinarily horrendous and i'm not going to waste any more words on it . \\n\""
      ]
     },
     "execution_count": 27,
     "metadata": {},
     "output_type": "execute_result"
    }
   ],
   "source": [
    "df[df['review_text'].map(lambda x: len(x) < 100)]['review_text'].iloc[0]"
   ]
  },
  {
   "cell_type": "code",
   "execution_count": 28,
   "id": "350cafc7",
   "metadata": {},
   "outputs": [
    {
     "data": {
      "text/plain": [
       "False"
      ]
     },
     "execution_count": 28,
     "metadata": {},
     "output_type": "execute_result"
    }
   ],
   "source": [
    "df[df['review_text'].map(lambda x: len(x) < 100)]['gold-label'].iloc[0]"
   ]
  },
  {
   "cell_type": "markdown",
   "id": "0697e8ab",
   "metadata": {},
   "source": [
    "#### Make train/dev/test split"
   ]
  },
  {
   "cell_type": "code",
   "execution_count": 29,
   "id": "97681e0f",
   "metadata": {},
   "outputs": [
    {
     "data": {
      "text/html": [
       "<div>\n",
       "<style scoped>\n",
       "    .dataframe tbody tr th:only-of-type {\n",
       "        vertical-align: middle;\n",
       "    }\n",
       "\n",
       "    .dataframe tbody tr th {\n",
       "        vertical-align: top;\n",
       "    }\n",
       "\n",
       "    .dataframe thead th {\n",
       "        text-align: right;\n",
       "    }\n",
       "</style>\n",
       "<table border=\"1\" class=\"dataframe\">\n",
       "  <thead>\n",
       "    <tr style=\"text-align: right;\">\n",
       "      <th></th>\n",
       "      <th>file_name</th>\n",
       "      <th>gold-label</th>\n",
       "      <th>review_text</th>\n",
       "    </tr>\n",
       "  </thead>\n",
       "  <tbody>\n",
       "    <tr>\n",
       "      <th>918</th>\n",
       "      <td>neg/cv918_27080.txt</td>\n",
       "      <td>False</td>\n",
       "      <td>you know something , christmas is not about pr...</td>\n",
       "    </tr>\n",
       "    <tr>\n",
       "      <th>411</th>\n",
       "      <td>neg/cv411_16799.txt</td>\n",
       "      <td>False</td>\n",
       "      <td>confucius once said , \" governing a nation is ...</td>\n",
       "    </tr>\n",
       "    <tr>\n",
       "      <th>765</th>\n",
       "      <td>neg/cv765_20429.txt</td>\n",
       "      <td>False</td>\n",
       "      <td>it seems that i've stopped enjoying movies tha...</td>\n",
       "    </tr>\n",
       "    <tr>\n",
       "      <th>208</th>\n",
       "      <td>neg/cv208_9475.txt</td>\n",
       "      <td>False</td>\n",
       "      <td>one would think that david duchovny , star of ...</td>\n",
       "    </tr>\n",
       "    <tr>\n",
       "      <th>1726</th>\n",
       "      <td>pos/cv726_4719.txt</td>\n",
       "      <td>True</td>\n",
       "      <td>copyright 1996 graeme huggan carry on henry is...</td>\n",
       "    </tr>\n",
       "  </tbody>\n",
       "</table>\n",
       "</div>"
      ],
      "text/plain": [
       "                file_name  gold-label  \\\n",
       "918   neg/cv918_27080.txt       False   \n",
       "411   neg/cv411_16799.txt       False   \n",
       "765   neg/cv765_20429.txt       False   \n",
       "208    neg/cv208_9475.txt       False   \n",
       "1726   pos/cv726_4719.txt        True   \n",
       "\n",
       "                                            review_text  \n",
       "918   you know something , christmas is not about pr...  \n",
       "411   confucius once said , \" governing a nation is ...  \n",
       "765   it seems that i've stopped enjoying movies tha...  \n",
       "208   one would think that david duchovny , star of ...  \n",
       "1726  copyright 1996 graeme huggan carry on henry is...  "
      ]
     },
     "execution_count": 29,
     "metadata": {},
     "output_type": "execute_result"
    }
   ],
   "source": [
    "df = df.sample(df.shape[0])\n",
    "df.head(5)"
   ]
  },
  {
   "cell_type": "code",
   "execution_count": 30,
   "id": "8ff44e3f",
   "metadata": {},
   "outputs": [
    {
     "data": {
      "text/plain": [
       "2000"
      ]
     },
     "execution_count": 30,
     "metadata": {},
     "output_type": "execute_result"
    }
   ],
   "source": [
    "df.shape[0]"
   ]
  },
  {
   "cell_type": "markdown",
   "id": "c5ec194d",
   "metadata": {},
   "source": [
    "Let's make 80:10:10 split of our data"
   ]
  },
  {
   "cell_type": "code",
   "execution_count": 31,
   "id": "8f51b665",
   "metadata": {},
   "outputs": [
    {
     "data": {
      "text/plain": [
       "(1600, 1800)"
      ]
     },
     "execution_count": 31,
     "metadata": {},
     "output_type": "execute_result"
    }
   ],
   "source": [
    "train_max_idx = int(df.shape[0] * .8)\n",
    "dev_max_idx = int((df.shape[0] * .1) + train_max_idx)\n",
    "\n",
    "\n",
    "train_max_idx, dev_max_idx"
   ]
  },
  {
   "cell_type": "code",
   "execution_count": 32,
   "id": "e2f7bbcd",
   "metadata": {},
   "outputs": [
    {
     "data": {
      "text/plain": [
       "((1600, 3), (200, 3), (200, 3))"
      ]
     },
     "execution_count": 32,
     "metadata": {},
     "output_type": "execute_result"
    }
   ],
   "source": [
    "train_df = df.iloc[:train_max_idx]\n",
    "dev_df = df.iloc[train_max_idx:dev_max_idx]\n",
    "test_df = df.iloc[dev_max_idx:]\n",
    "\n",
    "train_df.shape, dev_df.shape, test_df.shape"
   ]
  },
  {
   "cell_type": "markdown",
   "id": "a22e9a05",
   "metadata": {},
   "source": [
    "We will train models on `train_df`, change different hyper-parameters based on `dev_df`, and then evaluate the model on `test_df` once we are done changing our different hyperparameters."
   ]
  },
  {
   "cell_type": "markdown",
   "id": "557ba887",
   "metadata": {},
   "source": [
    "### Naive Bayes"
   ]
  },
  {
   "cell_type": "code",
   "execution_count": 33,
   "id": "1a7d52be",
   "metadata": {},
   "outputs": [],
   "source": [
    "from sklearn.naive_bayes import MultinomialNB"
   ]
  },
  {
   "cell_type": "markdown",
   "id": "dcb67837",
   "metadata": {},
   "source": [
    "https://scikit-learn.org/stable/modules/generated/sklearn.naive_bayes.MultinomialNB.html#sklearn.naive_bayes.MultinomialNB"
   ]
  },
  {
   "cell_type": "code",
   "execution_count": 34,
   "id": "e1ab7fb3",
   "metadata": {},
   "outputs": [
    {
     "data": {
      "text/plain": [
       "MultinomialNB()"
      ]
     },
     "execution_count": 34,
     "metadata": {},
     "output_type": "execute_result"
    }
   ],
   "source": [
    "nb_model = MultinomialNB()\n",
    "nb_model"
   ]
  },
  {
   "cell_type": "code",
   "execution_count": null,
   "id": "cd3fd9b8",
   "metadata": {},
   "outputs": [],
   "source": []
  },
  {
   "cell_type": "code",
   "execution_count": 35,
   "id": "74437db0",
   "metadata": {},
   "outputs": [
    {
     "ename": "ValueError",
     "evalue": "could not convert string to float: 'you know something , christmas is not about presents . \\nit\\'s about over-hyped holiday films with lots of merchandising and product tie-ins . \\nat least that would seem to be the message of \" the grinch , \" which has been advertised since last christmas and whose logo is currently plastered all over stores . \\nhollywood expects us to ignore this cynical greed as the movie scolds us about losing the true spirit of the season . \\nyou know the plot : there\\'s this evil furry green guy called the grinch ( jim carrey ) who lives on a mountain overlooking whoville . \\ndown below all the whos are preparing for their whobilation , but the grinch is determined to steal their christmas . \\nthe movie is , of course , a live-action version of the beloved children\\'s book , which was previously adapted into a 1966 tv special by looney tunes animator chuck jones . \\nit\\'s rare that a big budget hollywood release is shamed by a thirty-year-old half-hour cartoon , but that\\'s the case when jones\\' version is compared to ron howard\\'s . \\nthe tv grinch hit all the right notes : boris karloff\\'s soft , deep narration ; thurl ravenscroft singing \" mr . grinch \" ; max the dog weighed down by the gigantic antler tied to his head ; and the grinch\\'s wide , toothless grin . \\nby contrast , the movie hits one sour note after another . \\nfirst , there are the numerous bad choices that jeffrey price and peter seaman made in padding out the short book into a 105-minute movie . \\nyoung wide-eyed cindy lou who ( taylor momsen ) is depressed about the misplaced priorities of her parents ( bill irwin and molly shannon ) during the holiday season . \\nshe begins to sympathize with the grinch , who turns out to be surprisingly sympathetic . \\ncindy lou discovers that the grinch turned tearfully away from whoville in grammar school when he was publicly humiliated while expressing his love for the prettiest girl in the class , martha may whovier ( played as an adult by christine baranski ) . \\nare we expected to like the grinch , hate the whos , and want him to steal christmas ? \\nthe grinch isn\\'t even the villain here ; that role is filled by the corrupt mayor of whoville ( jeffrey tambor ) who was the grinch\\'s rival for martha\\'s affection . \\nnot only are the characters needlessly complex , but the once-simple plot becomes so convoluted that the actual theft of christmas seems like an afterthought . \\nthe casting choices aren\\'t any better than the screenwriting decisions . \\njim carrey seems woefully miscast . \\nwhile his face is so supple that the rubber make-up seems superfluous , carrey brings nothing else to the role . \\nhis accent keeps changing ; i assume he was shooting for karloff , but he ends up sounding like a weird slurry of richard nixon , sean connery , and cartman from \" south park . \" \\nnot knowing what else to do during his many scenes alone in the grinch\\'s home , carrey falls back on his stand-up comedy and clowns around ace ventura-style . \\nneedless to say , his wise-cracking antics don\\'t quite fit the character of the grinch , who is an embittered loner filled with hate . \\nlittle taylor momsen brings little to role of cindy lou except big eyes and a cute smile . \\nshe would have been fine if cindy lou was limited to her original purpose in the seuss story ( finding \" santa \" in her living room stealing the tree ) . \\nhowever , the expanded script makes cindy as important as the grinch , and momsen is not up to the challenge . \\nbottom line : when you\\'re stealing christmas ( movies ) , leave this one behind . \\n'",
     "output_type": "error",
     "traceback": [
      "\u001b[0;31m---------------------------------------------------------------------------\u001b[0m",
      "\u001b[0;31mValueError\u001b[0m                                Traceback (most recent call last)",
      "\u001b[0;32m<ipython-input-35-aa6cfdab697b>\u001b[0m in \u001b[0;36m<module>\u001b[0;34m\u001b[0m\n\u001b[0;32m----> 1\u001b[0;31m \u001b[0mnb_model\u001b[0m\u001b[0;34m.\u001b[0m\u001b[0mfit\u001b[0m\u001b[0;34m(\u001b[0m\u001b[0mtrain_df\u001b[0m\u001b[0;34m[\u001b[0m\u001b[0;34m'review_text'\u001b[0m\u001b[0;34m]\u001b[0m\u001b[0;34m,\u001b[0m \u001b[0mtrain_df\u001b[0m\u001b[0;34m[\u001b[0m\u001b[0;34m'gold-label'\u001b[0m\u001b[0;34m]\u001b[0m\u001b[0;34m)\u001b[0m\u001b[0;34m\u001b[0m\u001b[0;34m\u001b[0m\u001b[0m\n\u001b[0m",
      "\u001b[0;32m/opt/conda/lib/python3.8/site-packages/sklearn/naive_bayes.py\u001b[0m in \u001b[0;36mfit\u001b[0;34m(self, X, y, sample_weight)\u001b[0m\n\u001b[1;32m    610\u001b[0m         \u001b[0mself\u001b[0m \u001b[0;34m:\u001b[0m \u001b[0mobject\u001b[0m\u001b[0;34m\u001b[0m\u001b[0;34m\u001b[0m\u001b[0m\n\u001b[1;32m    611\u001b[0m         \"\"\"\n\u001b[0;32m--> 612\u001b[0;31m         \u001b[0mX\u001b[0m\u001b[0;34m,\u001b[0m \u001b[0my\u001b[0m \u001b[0;34m=\u001b[0m \u001b[0mself\u001b[0m\u001b[0;34m.\u001b[0m\u001b[0m_check_X_y\u001b[0m\u001b[0;34m(\u001b[0m\u001b[0mX\u001b[0m\u001b[0;34m,\u001b[0m \u001b[0my\u001b[0m\u001b[0;34m)\u001b[0m\u001b[0;34m\u001b[0m\u001b[0;34m\u001b[0m\u001b[0m\n\u001b[0m\u001b[1;32m    613\u001b[0m         \u001b[0m_\u001b[0m\u001b[0;34m,\u001b[0m \u001b[0mn_features\u001b[0m \u001b[0;34m=\u001b[0m \u001b[0mX\u001b[0m\u001b[0;34m.\u001b[0m\u001b[0mshape\u001b[0m\u001b[0;34m\u001b[0m\u001b[0;34m\u001b[0m\u001b[0m\n\u001b[1;32m    614\u001b[0m         \u001b[0mself\u001b[0m\u001b[0;34m.\u001b[0m\u001b[0mn_features_\u001b[0m \u001b[0;34m=\u001b[0m \u001b[0mn_features\u001b[0m\u001b[0;34m\u001b[0m\u001b[0;34m\u001b[0m\u001b[0m\n",
      "\u001b[0;32m/opt/conda/lib/python3.8/site-packages/sklearn/naive_bayes.py\u001b[0m in \u001b[0;36m_check_X_y\u001b[0;34m(self, X, y)\u001b[0m\n\u001b[1;32m    475\u001b[0m \u001b[0;34m\u001b[0m\u001b[0m\n\u001b[1;32m    476\u001b[0m     \u001b[0;32mdef\u001b[0m \u001b[0m_check_X_y\u001b[0m\u001b[0;34m(\u001b[0m\u001b[0mself\u001b[0m\u001b[0;34m,\u001b[0m \u001b[0mX\u001b[0m\u001b[0;34m,\u001b[0m \u001b[0my\u001b[0m\u001b[0;34m)\u001b[0m\u001b[0;34m:\u001b[0m\u001b[0;34m\u001b[0m\u001b[0;34m\u001b[0m\u001b[0m\n\u001b[0;32m--> 477\u001b[0;31m         \u001b[0;32mreturn\u001b[0m \u001b[0mself\u001b[0m\u001b[0;34m.\u001b[0m\u001b[0m_validate_data\u001b[0m\u001b[0;34m(\u001b[0m\u001b[0mX\u001b[0m\u001b[0;34m,\u001b[0m \u001b[0my\u001b[0m\u001b[0;34m,\u001b[0m \u001b[0maccept_sparse\u001b[0m\u001b[0;34m=\u001b[0m\u001b[0;34m'csr'\u001b[0m\u001b[0;34m)\u001b[0m\u001b[0;34m\u001b[0m\u001b[0;34m\u001b[0m\u001b[0m\n\u001b[0m\u001b[1;32m    478\u001b[0m \u001b[0;34m\u001b[0m\u001b[0m\n\u001b[1;32m    479\u001b[0m     \u001b[0;32mdef\u001b[0m \u001b[0m_update_class_log_prior\u001b[0m\u001b[0;34m(\u001b[0m\u001b[0mself\u001b[0m\u001b[0;34m,\u001b[0m \u001b[0mclass_prior\u001b[0m\u001b[0;34m=\u001b[0m\u001b[0;32mNone\u001b[0m\u001b[0;34m)\u001b[0m\u001b[0;34m:\u001b[0m\u001b[0;34m\u001b[0m\u001b[0;34m\u001b[0m\u001b[0m\n",
      "\u001b[0;32m/opt/conda/lib/python3.8/site-packages/sklearn/base.py\u001b[0m in \u001b[0;36m_validate_data\u001b[0;34m(self, X, y, reset, validate_separately, **check_params)\u001b[0m\n\u001b[1;32m    431\u001b[0m                 \u001b[0my\u001b[0m \u001b[0;34m=\u001b[0m \u001b[0mcheck_array\u001b[0m\u001b[0;34m(\u001b[0m\u001b[0my\u001b[0m\u001b[0;34m,\u001b[0m \u001b[0;34m**\u001b[0m\u001b[0mcheck_y_params\u001b[0m\u001b[0;34m)\u001b[0m\u001b[0;34m\u001b[0m\u001b[0;34m\u001b[0m\u001b[0m\n\u001b[1;32m    432\u001b[0m             \u001b[0;32melse\u001b[0m\u001b[0;34m:\u001b[0m\u001b[0;34m\u001b[0m\u001b[0;34m\u001b[0m\u001b[0m\n\u001b[0;32m--> 433\u001b[0;31m                 \u001b[0mX\u001b[0m\u001b[0;34m,\u001b[0m \u001b[0my\u001b[0m \u001b[0;34m=\u001b[0m \u001b[0mcheck_X_y\u001b[0m\u001b[0;34m(\u001b[0m\u001b[0mX\u001b[0m\u001b[0;34m,\u001b[0m \u001b[0my\u001b[0m\u001b[0;34m,\u001b[0m \u001b[0;34m**\u001b[0m\u001b[0mcheck_params\u001b[0m\u001b[0;34m)\u001b[0m\u001b[0;34m\u001b[0m\u001b[0;34m\u001b[0m\u001b[0m\n\u001b[0m\u001b[1;32m    434\u001b[0m             \u001b[0mout\u001b[0m \u001b[0;34m=\u001b[0m \u001b[0mX\u001b[0m\u001b[0;34m,\u001b[0m \u001b[0my\u001b[0m\u001b[0;34m\u001b[0m\u001b[0;34m\u001b[0m\u001b[0m\n\u001b[1;32m    435\u001b[0m \u001b[0;34m\u001b[0m\u001b[0m\n",
      "\u001b[0;32m/opt/conda/lib/python3.8/site-packages/sklearn/utils/validation.py\u001b[0m in \u001b[0;36minner_f\u001b[0;34m(*args, **kwargs)\u001b[0m\n\u001b[1;32m     61\u001b[0m             \u001b[0mextra_args\u001b[0m \u001b[0;34m=\u001b[0m \u001b[0mlen\u001b[0m\u001b[0;34m(\u001b[0m\u001b[0margs\u001b[0m\u001b[0;34m)\u001b[0m \u001b[0;34m-\u001b[0m \u001b[0mlen\u001b[0m\u001b[0;34m(\u001b[0m\u001b[0mall_args\u001b[0m\u001b[0;34m)\u001b[0m\u001b[0;34m\u001b[0m\u001b[0;34m\u001b[0m\u001b[0m\n\u001b[1;32m     62\u001b[0m             \u001b[0;32mif\u001b[0m \u001b[0mextra_args\u001b[0m \u001b[0;34m<=\u001b[0m \u001b[0;36m0\u001b[0m\u001b[0;34m:\u001b[0m\u001b[0;34m\u001b[0m\u001b[0;34m\u001b[0m\u001b[0m\n\u001b[0;32m---> 63\u001b[0;31m                 \u001b[0;32mreturn\u001b[0m \u001b[0mf\u001b[0m\u001b[0;34m(\u001b[0m\u001b[0;34m*\u001b[0m\u001b[0margs\u001b[0m\u001b[0;34m,\u001b[0m \u001b[0;34m**\u001b[0m\u001b[0mkwargs\u001b[0m\u001b[0;34m)\u001b[0m\u001b[0;34m\u001b[0m\u001b[0;34m\u001b[0m\u001b[0m\n\u001b[0m\u001b[1;32m     64\u001b[0m \u001b[0;34m\u001b[0m\u001b[0m\n\u001b[1;32m     65\u001b[0m             \u001b[0;31m# extra_args > 0\u001b[0m\u001b[0;34m\u001b[0m\u001b[0;34m\u001b[0m\u001b[0;34m\u001b[0m\u001b[0m\n",
      "\u001b[0;32m/opt/conda/lib/python3.8/site-packages/sklearn/utils/validation.py\u001b[0m in \u001b[0;36mcheck_X_y\u001b[0;34m(X, y, accept_sparse, accept_large_sparse, dtype, order, copy, force_all_finite, ensure_2d, allow_nd, multi_output, ensure_min_samples, ensure_min_features, y_numeric, estimator)\u001b[0m\n\u001b[1;32m    812\u001b[0m         \u001b[0;32mraise\u001b[0m \u001b[0mValueError\u001b[0m\u001b[0;34m(\u001b[0m\u001b[0;34m\"y cannot be None\"\u001b[0m\u001b[0;34m)\u001b[0m\u001b[0;34m\u001b[0m\u001b[0;34m\u001b[0m\u001b[0m\n\u001b[1;32m    813\u001b[0m \u001b[0;34m\u001b[0m\u001b[0m\n\u001b[0;32m--> 814\u001b[0;31m     X = check_array(X, accept_sparse=accept_sparse,\n\u001b[0m\u001b[1;32m    815\u001b[0m                     \u001b[0maccept_large_sparse\u001b[0m\u001b[0;34m=\u001b[0m\u001b[0maccept_large_sparse\u001b[0m\u001b[0;34m,\u001b[0m\u001b[0;34m\u001b[0m\u001b[0;34m\u001b[0m\u001b[0m\n\u001b[1;32m    816\u001b[0m                     \u001b[0mdtype\u001b[0m\u001b[0;34m=\u001b[0m\u001b[0mdtype\u001b[0m\u001b[0;34m,\u001b[0m \u001b[0morder\u001b[0m\u001b[0;34m=\u001b[0m\u001b[0morder\u001b[0m\u001b[0;34m,\u001b[0m \u001b[0mcopy\u001b[0m\u001b[0;34m=\u001b[0m\u001b[0mcopy\u001b[0m\u001b[0;34m,\u001b[0m\u001b[0;34m\u001b[0m\u001b[0;34m\u001b[0m\u001b[0m\n",
      "\u001b[0;32m/opt/conda/lib/python3.8/site-packages/sklearn/utils/validation.py\u001b[0m in \u001b[0;36minner_f\u001b[0;34m(*args, **kwargs)\u001b[0m\n\u001b[1;32m     61\u001b[0m             \u001b[0mextra_args\u001b[0m \u001b[0;34m=\u001b[0m \u001b[0mlen\u001b[0m\u001b[0;34m(\u001b[0m\u001b[0margs\u001b[0m\u001b[0;34m)\u001b[0m \u001b[0;34m-\u001b[0m \u001b[0mlen\u001b[0m\u001b[0;34m(\u001b[0m\u001b[0mall_args\u001b[0m\u001b[0;34m)\u001b[0m\u001b[0;34m\u001b[0m\u001b[0;34m\u001b[0m\u001b[0m\n\u001b[1;32m     62\u001b[0m             \u001b[0;32mif\u001b[0m \u001b[0mextra_args\u001b[0m \u001b[0;34m<=\u001b[0m \u001b[0;36m0\u001b[0m\u001b[0;34m:\u001b[0m\u001b[0;34m\u001b[0m\u001b[0;34m\u001b[0m\u001b[0m\n\u001b[0;32m---> 63\u001b[0;31m                 \u001b[0;32mreturn\u001b[0m \u001b[0mf\u001b[0m\u001b[0;34m(\u001b[0m\u001b[0;34m*\u001b[0m\u001b[0margs\u001b[0m\u001b[0;34m,\u001b[0m \u001b[0;34m**\u001b[0m\u001b[0mkwargs\u001b[0m\u001b[0;34m)\u001b[0m\u001b[0;34m\u001b[0m\u001b[0;34m\u001b[0m\u001b[0m\n\u001b[0m\u001b[1;32m     64\u001b[0m \u001b[0;34m\u001b[0m\u001b[0m\n\u001b[1;32m     65\u001b[0m             \u001b[0;31m# extra_args > 0\u001b[0m\u001b[0;34m\u001b[0m\u001b[0;34m\u001b[0m\u001b[0;34m\u001b[0m\u001b[0m\n",
      "\u001b[0;32m/opt/conda/lib/python3.8/site-packages/sklearn/utils/validation.py\u001b[0m in \u001b[0;36mcheck_array\u001b[0;34m(array, accept_sparse, accept_large_sparse, dtype, order, copy, force_all_finite, ensure_2d, allow_nd, ensure_min_samples, ensure_min_features, estimator)\u001b[0m\n\u001b[1;32m    614\u001b[0m                     \u001b[0marray\u001b[0m \u001b[0;34m=\u001b[0m \u001b[0marray\u001b[0m\u001b[0;34m.\u001b[0m\u001b[0mastype\u001b[0m\u001b[0;34m(\u001b[0m\u001b[0mdtype\u001b[0m\u001b[0;34m,\u001b[0m \u001b[0mcasting\u001b[0m\u001b[0;34m=\u001b[0m\u001b[0;34m\"unsafe\"\u001b[0m\u001b[0;34m,\u001b[0m \u001b[0mcopy\u001b[0m\u001b[0;34m=\u001b[0m\u001b[0;32mFalse\u001b[0m\u001b[0;34m)\u001b[0m\u001b[0;34m\u001b[0m\u001b[0;34m\u001b[0m\u001b[0m\n\u001b[1;32m    615\u001b[0m                 \u001b[0;32melse\u001b[0m\u001b[0;34m:\u001b[0m\u001b[0;34m\u001b[0m\u001b[0;34m\u001b[0m\u001b[0m\n\u001b[0;32m--> 616\u001b[0;31m                     \u001b[0marray\u001b[0m \u001b[0;34m=\u001b[0m \u001b[0mnp\u001b[0m\u001b[0;34m.\u001b[0m\u001b[0masarray\u001b[0m\u001b[0;34m(\u001b[0m\u001b[0marray\u001b[0m\u001b[0;34m,\u001b[0m \u001b[0morder\u001b[0m\u001b[0;34m=\u001b[0m\u001b[0morder\u001b[0m\u001b[0;34m,\u001b[0m \u001b[0mdtype\u001b[0m\u001b[0;34m=\u001b[0m\u001b[0mdtype\u001b[0m\u001b[0;34m)\u001b[0m\u001b[0;34m\u001b[0m\u001b[0;34m\u001b[0m\u001b[0m\n\u001b[0m\u001b[1;32m    617\u001b[0m             \u001b[0;32mexcept\u001b[0m \u001b[0mComplexWarning\u001b[0m \u001b[0;32mas\u001b[0m \u001b[0mcomplex_warning\u001b[0m\u001b[0;34m:\u001b[0m\u001b[0;34m\u001b[0m\u001b[0;34m\u001b[0m\u001b[0m\n\u001b[1;32m    618\u001b[0m                 raise ValueError(\"Complex data not supported\\n\"\n",
      "\u001b[0;32m/opt/conda/lib/python3.8/site-packages/numpy/core/_asarray.py\u001b[0m in \u001b[0;36masarray\u001b[0;34m(a, dtype, order, like)\u001b[0m\n\u001b[1;32m    100\u001b[0m         \u001b[0;32mreturn\u001b[0m \u001b[0m_asarray_with_like\u001b[0m\u001b[0;34m(\u001b[0m\u001b[0ma\u001b[0m\u001b[0;34m,\u001b[0m \u001b[0mdtype\u001b[0m\u001b[0;34m=\u001b[0m\u001b[0mdtype\u001b[0m\u001b[0;34m,\u001b[0m \u001b[0morder\u001b[0m\u001b[0;34m=\u001b[0m\u001b[0morder\u001b[0m\u001b[0;34m,\u001b[0m \u001b[0mlike\u001b[0m\u001b[0;34m=\u001b[0m\u001b[0mlike\u001b[0m\u001b[0;34m)\u001b[0m\u001b[0;34m\u001b[0m\u001b[0;34m\u001b[0m\u001b[0m\n\u001b[1;32m    101\u001b[0m \u001b[0;34m\u001b[0m\u001b[0m\n\u001b[0;32m--> 102\u001b[0;31m     \u001b[0;32mreturn\u001b[0m \u001b[0marray\u001b[0m\u001b[0;34m(\u001b[0m\u001b[0ma\u001b[0m\u001b[0;34m,\u001b[0m \u001b[0mdtype\u001b[0m\u001b[0;34m,\u001b[0m \u001b[0mcopy\u001b[0m\u001b[0;34m=\u001b[0m\u001b[0;32mFalse\u001b[0m\u001b[0;34m,\u001b[0m \u001b[0morder\u001b[0m\u001b[0;34m=\u001b[0m\u001b[0morder\u001b[0m\u001b[0;34m)\u001b[0m\u001b[0;34m\u001b[0m\u001b[0;34m\u001b[0m\u001b[0m\n\u001b[0m\u001b[1;32m    103\u001b[0m \u001b[0;34m\u001b[0m\u001b[0m\n\u001b[1;32m    104\u001b[0m \u001b[0;34m\u001b[0m\u001b[0m\n",
      "\u001b[0;32m/opt/conda/lib/python3.8/site-packages/pandas/core/series.py\u001b[0m in \u001b[0;36m__array__\u001b[0;34m(self, dtype)\u001b[0m\n\u001b[1;32m    766\u001b[0m               dtype='datetime64[ns]')\n\u001b[1;32m    767\u001b[0m         \"\"\"\n\u001b[0;32m--> 768\u001b[0;31m         \u001b[0;32mreturn\u001b[0m \u001b[0mnp\u001b[0m\u001b[0;34m.\u001b[0m\u001b[0masarray\u001b[0m\u001b[0;34m(\u001b[0m\u001b[0mself\u001b[0m\u001b[0;34m.\u001b[0m\u001b[0marray\u001b[0m\u001b[0;34m,\u001b[0m \u001b[0mdtype\u001b[0m\u001b[0;34m)\u001b[0m\u001b[0;34m\u001b[0m\u001b[0;34m\u001b[0m\u001b[0m\n\u001b[0m\u001b[1;32m    769\u001b[0m \u001b[0;34m\u001b[0m\u001b[0m\n\u001b[1;32m    770\u001b[0m     \u001b[0;31m# ----------------------------------------------------------------------\u001b[0m\u001b[0;34m\u001b[0m\u001b[0;34m\u001b[0m\u001b[0;34m\u001b[0m\u001b[0m\n",
      "\u001b[0;32m/opt/conda/lib/python3.8/site-packages/numpy/core/_asarray.py\u001b[0m in \u001b[0;36masarray\u001b[0;34m(a, dtype, order, like)\u001b[0m\n\u001b[1;32m    100\u001b[0m         \u001b[0;32mreturn\u001b[0m \u001b[0m_asarray_with_like\u001b[0m\u001b[0;34m(\u001b[0m\u001b[0ma\u001b[0m\u001b[0;34m,\u001b[0m \u001b[0mdtype\u001b[0m\u001b[0;34m=\u001b[0m\u001b[0mdtype\u001b[0m\u001b[0;34m,\u001b[0m \u001b[0morder\u001b[0m\u001b[0;34m=\u001b[0m\u001b[0morder\u001b[0m\u001b[0;34m,\u001b[0m \u001b[0mlike\u001b[0m\u001b[0;34m=\u001b[0m\u001b[0mlike\u001b[0m\u001b[0;34m)\u001b[0m\u001b[0;34m\u001b[0m\u001b[0;34m\u001b[0m\u001b[0m\n\u001b[1;32m    101\u001b[0m \u001b[0;34m\u001b[0m\u001b[0m\n\u001b[0;32m--> 102\u001b[0;31m     \u001b[0;32mreturn\u001b[0m \u001b[0marray\u001b[0m\u001b[0;34m(\u001b[0m\u001b[0ma\u001b[0m\u001b[0;34m,\u001b[0m \u001b[0mdtype\u001b[0m\u001b[0;34m,\u001b[0m \u001b[0mcopy\u001b[0m\u001b[0;34m=\u001b[0m\u001b[0;32mFalse\u001b[0m\u001b[0;34m,\u001b[0m \u001b[0morder\u001b[0m\u001b[0;34m=\u001b[0m\u001b[0morder\u001b[0m\u001b[0;34m)\u001b[0m\u001b[0;34m\u001b[0m\u001b[0;34m\u001b[0m\u001b[0m\n\u001b[0m\u001b[1;32m    103\u001b[0m \u001b[0;34m\u001b[0m\u001b[0m\n\u001b[1;32m    104\u001b[0m \u001b[0;34m\u001b[0m\u001b[0m\n",
      "\u001b[0;32m/opt/conda/lib/python3.8/site-packages/pandas/core/arrays/numpy_.py\u001b[0m in \u001b[0;36m__array__\u001b[0;34m(self, dtype)\u001b[0m\n\u001b[1;32m    201\u001b[0m \u001b[0;34m\u001b[0m\u001b[0m\n\u001b[1;32m    202\u001b[0m     \u001b[0;32mdef\u001b[0m \u001b[0m__array__\u001b[0m\u001b[0;34m(\u001b[0m\u001b[0mself\u001b[0m\u001b[0;34m,\u001b[0m \u001b[0mdtype\u001b[0m\u001b[0;34m=\u001b[0m\u001b[0;32mNone\u001b[0m\u001b[0;34m)\u001b[0m \u001b[0;34m->\u001b[0m \u001b[0mnp\u001b[0m\u001b[0;34m.\u001b[0m\u001b[0mndarray\u001b[0m\u001b[0;34m:\u001b[0m\u001b[0;34m\u001b[0m\u001b[0;34m\u001b[0m\u001b[0m\n\u001b[0;32m--> 203\u001b[0;31m         \u001b[0;32mreturn\u001b[0m \u001b[0mnp\u001b[0m\u001b[0;34m.\u001b[0m\u001b[0masarray\u001b[0m\u001b[0;34m(\u001b[0m\u001b[0mself\u001b[0m\u001b[0;34m.\u001b[0m\u001b[0m_ndarray\u001b[0m\u001b[0;34m,\u001b[0m \u001b[0mdtype\u001b[0m\u001b[0;34m=\u001b[0m\u001b[0mdtype\u001b[0m\u001b[0;34m)\u001b[0m\u001b[0;34m\u001b[0m\u001b[0;34m\u001b[0m\u001b[0m\n\u001b[0m\u001b[1;32m    204\u001b[0m \u001b[0;34m\u001b[0m\u001b[0m\n\u001b[1;32m    205\u001b[0m     \u001b[0m_HANDLED_TYPES\u001b[0m \u001b[0;34m=\u001b[0m \u001b[0;34m(\u001b[0m\u001b[0mnp\u001b[0m\u001b[0;34m.\u001b[0m\u001b[0mndarray\u001b[0m\u001b[0;34m,\u001b[0m \u001b[0mnumbers\u001b[0m\u001b[0;34m.\u001b[0m\u001b[0mNumber\u001b[0m\u001b[0;34m)\u001b[0m\u001b[0;34m\u001b[0m\u001b[0;34m\u001b[0m\u001b[0m\n",
      "\u001b[0;32m/opt/conda/lib/python3.8/site-packages/numpy/core/_asarray.py\u001b[0m in \u001b[0;36masarray\u001b[0;34m(a, dtype, order, like)\u001b[0m\n\u001b[1;32m    100\u001b[0m         \u001b[0;32mreturn\u001b[0m \u001b[0m_asarray_with_like\u001b[0m\u001b[0;34m(\u001b[0m\u001b[0ma\u001b[0m\u001b[0;34m,\u001b[0m \u001b[0mdtype\u001b[0m\u001b[0;34m=\u001b[0m\u001b[0mdtype\u001b[0m\u001b[0;34m,\u001b[0m \u001b[0morder\u001b[0m\u001b[0;34m=\u001b[0m\u001b[0morder\u001b[0m\u001b[0;34m,\u001b[0m \u001b[0mlike\u001b[0m\u001b[0;34m=\u001b[0m\u001b[0mlike\u001b[0m\u001b[0;34m)\u001b[0m\u001b[0;34m\u001b[0m\u001b[0;34m\u001b[0m\u001b[0m\n\u001b[1;32m    101\u001b[0m \u001b[0;34m\u001b[0m\u001b[0m\n\u001b[0;32m--> 102\u001b[0;31m     \u001b[0;32mreturn\u001b[0m \u001b[0marray\u001b[0m\u001b[0;34m(\u001b[0m\u001b[0ma\u001b[0m\u001b[0;34m,\u001b[0m \u001b[0mdtype\u001b[0m\u001b[0;34m,\u001b[0m \u001b[0mcopy\u001b[0m\u001b[0;34m=\u001b[0m\u001b[0;32mFalse\u001b[0m\u001b[0;34m,\u001b[0m \u001b[0morder\u001b[0m\u001b[0;34m=\u001b[0m\u001b[0morder\u001b[0m\u001b[0;34m)\u001b[0m\u001b[0;34m\u001b[0m\u001b[0;34m\u001b[0m\u001b[0m\n\u001b[0m\u001b[1;32m    103\u001b[0m \u001b[0;34m\u001b[0m\u001b[0m\n\u001b[1;32m    104\u001b[0m \u001b[0;34m\u001b[0m\u001b[0m\n",
      "\u001b[0;31mValueError\u001b[0m: could not convert string to float: 'you know something , christmas is not about presents . \\nit\\'s about over-hyped holiday films with lots of merchandising and product tie-ins . \\nat least that would seem to be the message of \" the grinch , \" which has been advertised since last christmas and whose logo is currently plastered all over stores . \\nhollywood expects us to ignore this cynical greed as the movie scolds us about losing the true spirit of the season . \\nyou know the plot : there\\'s this evil furry green guy called the grinch ( jim carrey ) who lives on a mountain overlooking whoville . \\ndown below all the whos are preparing for their whobilation , but the grinch is determined to steal their christmas . \\nthe movie is , of course , a live-action version of the beloved children\\'s book , which was previously adapted into a 1966 tv special by looney tunes animator chuck jones . \\nit\\'s rare that a big budget hollywood release is shamed by a thirty-year-old half-hour cartoon , but that\\'s the case when jones\\' version is compared to ron howard\\'s . \\nthe tv grinch hit all the right notes : boris karloff\\'s soft , deep narration ; thurl ravenscroft singing \" mr . grinch \" ; max the dog weighed down by the gigantic antler tied to his head ; and the grinch\\'s wide , toothless grin . \\nby contrast , the movie hits one sour note after another . \\nfirst , there are the numerous bad choices that jeffrey price and peter seaman made in padding out the short book into a 105-minute movie . \\nyoung wide-eyed cindy lou who ( taylor momsen ) is depressed about the misplaced priorities of her parents ( bill irwin and molly shannon ) during the holiday season . \\nshe begins to sympathize with the grinch , who turns out to be surprisingly sympathetic . \\ncindy lou discovers that the grinch turned tearfully away from whoville in grammar school when he was publicly humiliated while expressing his love for the prettiest girl in the class , martha may whovier ( played as an adult by christine baranski ) . \\nare we expected to like the grinch , hate the whos , and want him to steal christmas ? \\nthe grinch isn\\'t even the villain here ; that role is filled by the corrupt mayor of whoville ( jeffrey tambor ) who was the grinch\\'s rival for martha\\'s affection . \\nnot only are the characters needlessly complex , but the once-simple plot becomes so convoluted that the actual theft of christmas seems like an afterthought . \\nthe casting choices aren\\'t any better than the screenwriting decisions . \\njim carrey seems woefully miscast . \\nwhile his face is so supple that the rubber make-up seems superfluous , carrey brings nothing else to the role . \\nhis accent keeps changing ; i assume he was shooting for karloff , but he ends up sounding like a weird slurry of richard nixon , sean connery , and cartman from \" south park . \" \\nnot knowing what else to do during his many scenes alone in the grinch\\'s home , carrey falls back on his stand-up comedy and clowns around ace ventura-style . \\nneedless to say , his wise-cracking antics don\\'t quite fit the character of the grinch , who is an embittered loner filled with hate . \\nlittle taylor momsen brings little to role of cindy lou except big eyes and a cute smile . \\nshe would have been fine if cindy lou was limited to her original purpose in the seuss story ( finding \" santa \" in her living room stealing the tree ) . \\nhowever , the expanded script makes cindy as important as the grinch , and momsen is not up to the challenge . \\nbottom line : when you\\'re stealing christmas ( movies ) , leave this one behind . \\n'"
     ]
    }
   ],
   "source": [
    "nb_model.fit(train_df['review_text'], train_df['gold-label'])"
   ]
  },
  {
   "cell_type": "markdown",
   "id": "61b95293",
   "metadata": {},
   "source": [
    "**Question:** What happened?\n",
    "\n",
    "Solution: We need to convert the text to numbers, actually features"
   ]
  },
  {
   "cell_type": "markdown",
   "id": "5b63078c",
   "metadata": {},
   "source": [
    "(back to slides)\n",
    "\n",
    "#### Feature Engineering\n",
    "\n",
    "We need to convert each document into features. \n",
    "\n",
    "**Question:** What should our features be?\n",
    "\n",
    "*Hint*: What's the most basic approach we've taken so far in this class?\n",
    "\n",
    "<details>\n",
    "<summary>Solution</summary>\n",
    "    Bag of words\n",
    "</details>"
   ]
  },
  {
   "cell_type": "code",
   "execution_count": null,
   "id": "5cae4450",
   "metadata": {},
   "outputs": [],
   "source": [
    "# skip next bunch of empty cells, answer below"
   ]
  },
  {
   "cell_type": "code",
   "execution_count": null,
   "id": "6aea5952",
   "metadata": {},
   "outputs": [],
   "source": []
  },
  {
   "cell_type": "code",
   "execution_count": null,
   "id": "52652c35",
   "metadata": {},
   "outputs": [],
   "source": []
  },
  {
   "cell_type": "code",
   "execution_count": null,
   "id": "8b9907f0",
   "metadata": {},
   "outputs": [],
   "source": []
  },
  {
   "cell_type": "code",
   "execution_count": null,
   "id": "3d5408bc",
   "metadata": {},
   "outputs": [],
   "source": []
  },
  {
   "cell_type": "code",
   "execution_count": null,
   "id": "6286ee22",
   "metadata": {},
   "outputs": [],
   "source": []
  },
  {
   "cell_type": "code",
   "execution_count": null,
   "id": "40f42f5b",
   "metadata": {},
   "outputs": [],
   "source": []
  },
  {
   "cell_type": "code",
   "execution_count": null,
   "id": "a26c2b0d",
   "metadata": {},
   "outputs": [],
   "source": []
  },
  {
   "cell_type": "code",
   "execution_count": 53,
   "id": "9b0a9262",
   "metadata": {},
   "outputs": [],
   "source": [
    "from sklearn.feature_extraction.text import CountVectorizer\n",
    "vectorizer = CountVectorizer()"
   ]
  },
  {
   "cell_type": "code",
   "execution_count": 54,
   "id": "0e48bf6f",
   "metadata": {},
   "outputs": [
    {
     "data": {
      "text/plain": [
       "<1600x36174 sparse matrix of type '<class 'numpy.int64'>'\n",
       "\twith 531505 stored elements in Compressed Sparse Row format>"
      ]
     },
     "execution_count": 54,
     "metadata": {},
     "output_type": "execute_result"
    }
   ],
   "source": [
    "vectorizer.fit_transform(train_df['review_text'])"
   ]
  },
  {
   "cell_type": "markdown",
   "id": "0d62329f",
   "metadata": {},
   "source": [
    "**Question:** What do these numbers that were printed out mean?\n",
    "\n",
    "<details>\n",
    "<summary>Solution</summary>\n",
    "Number of examples, size of vocabulary\n",
    "</details>"
   ]
  },
  {
   "cell_type": "code",
   "execution_count": null,
   "id": "85dc76fa",
   "metadata": {},
   "outputs": [],
   "source": []
  },
  {
   "cell_type": "code",
   "execution_count": 55,
   "id": "94b20e9b",
   "metadata": {},
   "outputs": [
    {
     "data": {
      "text/plain": [
       "<1600x36174 sparse matrix of type '<class 'numpy.int64'>'\n",
       "\twith 531505 stored elements in Compressed Sparse Row format>"
      ]
     },
     "execution_count": 55,
     "metadata": {},
     "output_type": "execute_result"
    }
   ],
   "source": [
    "X = vectorizer.fit_transform(train_df['review_text'])\n",
    "X"
   ]
  },
  {
   "cell_type": "markdown",
   "id": "9ca42e17",
   "metadata": {},
   "source": [
    "Let's look at the contenxtual help to print out what X is.\n",
    "\n",
    "**Question:** What do we think *(0, 8284) <tab>  2* in *X* means?\n",
    "    \n",
    "<details>\n",
    "<summary>Solution</summary>\n",
    "    The value of the 8284 feature for the 0-th example. In our setting this means how many times that word appeared in the first document\n",
    "\n",
    "        \n",
    "</details>"
   ]
  },
  {
   "cell_type": "code",
   "execution_count": 40,
   "id": "f2eefef6",
   "metadata": {
    "collapsed": true,
    "jupyter": {
     "outputs_hidden": true
    },
    "tags": []
   },
   "outputs": [
    {
     "data": {
      "text/plain": [
       "'you know something , christmas is not about presents . \\nit\\'s about over-hyped holiday films with lots of merchandising and product tie-ins . \\nat least that would seem to be the message of \" the grinch , \" which has been advertised since last christmas and whose logo is currently plastered all over stores . \\nhollywood expects us to ignore this cynical greed as the movie scolds us about losing the true spirit of the season . \\nyou know the plot : there\\'s this evil furry green guy called the grinch ( jim carrey ) who lives on a mountain overlooking whoville . \\ndown below all the whos are preparing for their whobilation , but the grinch is determined to steal their christmas . \\nthe movie is , of course , a live-action version of the beloved children\\'s book , which was previously adapted into a 1966 tv special by looney tunes animator chuck jones . \\nit\\'s rare that a big budget hollywood release is shamed by a thirty-year-old half-hour cartoon , but that\\'s the case when jones\\' version is compared to ron howard\\'s . \\nthe tv grinch hit all the right notes : boris karloff\\'s soft , deep narration ; thurl ravenscroft singing \" mr . grinch \" ; max the dog weighed down by the gigantic antler tied to his head ; and the grinch\\'s wide , toothless grin . \\nby contrast , the movie hits one sour note after another . \\nfirst , there are the numerous bad choices that jeffrey price and peter seaman made in padding out the short book into a 105-minute movie . \\nyoung wide-eyed cindy lou who ( taylor momsen ) is depressed about the misplaced priorities of her parents ( bill irwin and molly shannon ) during the holiday season . \\nshe begins to sympathize with the grinch , who turns out to be surprisingly sympathetic . \\ncindy lou discovers that the grinch turned tearfully away from whoville in grammar school when he was publicly humiliated while expressing his love for the prettiest girl in the class , martha may whovier ( played as an adult by christine baranski ) . \\nare we expected to like the grinch , hate the whos , and want him to steal christmas ? \\nthe grinch isn\\'t even the villain here ; that role is filled by the corrupt mayor of whoville ( jeffrey tambor ) who was the grinch\\'s rival for martha\\'s affection . \\nnot only are the characters needlessly complex , but the once-simple plot becomes so convoluted that the actual theft of christmas seems like an afterthought . \\nthe casting choices aren\\'t any better than the screenwriting decisions . \\njim carrey seems woefully miscast . \\nwhile his face is so supple that the rubber make-up seems superfluous , carrey brings nothing else to the role . \\nhis accent keeps changing ; i assume he was shooting for karloff , but he ends up sounding like a weird slurry of richard nixon , sean connery , and cartman from \" south park . \" \\nnot knowing what else to do during his many scenes alone in the grinch\\'s home , carrey falls back on his stand-up comedy and clowns around ace ventura-style . \\nneedless to say , his wise-cracking antics don\\'t quite fit the character of the grinch , who is an embittered loner filled with hate . \\nlittle taylor momsen brings little to role of cindy lou except big eyes and a cute smile . \\nshe would have been fine if cindy lou was limited to her original purpose in the seuss story ( finding \" santa \" in her living room stealing the tree ) . \\nhowever , the expanded script makes cindy as important as the grinch , and momsen is not up to the challenge . \\nbottom line : when you\\'re stealing christmas ( movies ) , leave this one behind . \\n'"
      ]
     },
     "execution_count": 40,
     "metadata": {},
     "output_type": "execute_result"
    }
   ],
   "source": [
    "train_df['review_text'].iloc[0]"
   ]
  },
  {
   "cell_type": "markdown",
   "id": "191a6291",
   "metadata": {},
   "source": [
    "(0, 13536)\t3"
   ]
  },
  {
   "cell_type": "code",
   "execution_count": 56,
   "id": "25a7548b",
   "metadata": {},
   "outputs": [
    {
     "data": {
      "text/plain": [
       "'you'"
      ]
     },
     "execution_count": 56,
     "metadata": {},
     "output_type": "execute_result"
    }
   ],
   "source": [
    "vectorizer.get_feature_names()[36008]"
   ]
  },
  {
   "cell_type": "code",
   "execution_count": 57,
   "id": "14ec3d9c",
   "metadata": {},
   "outputs": [
    {
     "data": {
      "text/plain": [
       "4"
      ]
     },
     "execution_count": 57,
     "metadata": {},
     "output_type": "execute_result"
    }
   ],
   "source": [
    "train_df['review_text'].iloc[0].count('you')"
   ]
  },
  {
   "cell_type": "code",
   "execution_count": 50,
   "id": "ce3bff26",
   "metadata": {},
   "outputs": [
    {
     "data": {
      "text/plain": [
       "<1600x13578 sparse matrix of type '<class 'numpy.int64'>'\n",
       "\twith 498014 stored elements in Compressed Sparse Row format>"
      ]
     },
     "execution_count": 50,
     "metadata": {},
     "output_type": "execute_result"
    }
   ],
   "source": [
    "X"
   ]
  },
  {
   "cell_type": "code",
   "execution_count": 51,
   "id": "55f030fc",
   "metadata": {},
   "outputs": [
    {
     "data": {
      "text/plain": [
       "'know'"
      ]
     },
     "execution_count": 51,
     "metadata": {},
     "output_type": "execute_result"
    }
   ],
   "source": [
    "vectorizer.get_feature_names()[6826]"
   ]
  },
  {
   "cell_type": "code",
   "execution_count": 52,
   "id": "d8cc2025",
   "metadata": {},
   "outputs": [
    {
     "data": {
      "text/plain": [
       "3"
      ]
     },
     "execution_count": 52,
     "metadata": {},
     "output_type": "execute_result"
    }
   ],
   "source": [
    "train_df['review_text'].iloc[0].count('know')"
   ]
  },
  {
   "cell_type": "code",
   "execution_count": null,
   "id": "37c03081",
   "metadata": {},
   "outputs": [],
   "source": [
    "vectorizer.get_feature_names()[8284]"
   ]
  },
  {
   "cell_type": "code",
   "execution_count": null,
   "id": "fc1067ce",
   "metadata": {},
   "outputs": [],
   "source": [
    "train_df['review_text'].iloc[0].count('notoriety')"
   ]
  },
  {
   "cell_type": "markdown",
   "id": "d9ea985c",
   "metadata": {},
   "source": [
    "#### Train the model"
   ]
  },
  {
   "cell_type": "code",
   "execution_count": 58,
   "id": "7fabb019",
   "metadata": {},
   "outputs": [
    {
     "data": {
      "text/plain": [
       "MultinomialNB()"
      ]
     },
     "execution_count": 58,
     "metadata": {},
     "output_type": "execute_result"
    }
   ],
   "source": [
    "nb_model.fit(X, train_df['gold-label'])"
   ]
  },
  {
   "cell_type": "markdown",
   "id": "e76ba3a0",
   "metadata": {},
   "source": [
    "#### How well does the model perform on the training set?"
   ]
  },
  {
   "cell_type": "code",
   "execution_count": 59,
   "id": "e487ceaa",
   "metadata": {},
   "outputs": [
    {
     "data": {
      "text/plain": [
       "0.975625"
      ]
     },
     "execution_count": 59,
     "metadata": {},
     "output_type": "execute_result"
    }
   ],
   "source": [
    "nb_model.score(X, train_df['gold-label'])"
   ]
  },
  {
   "cell_type": "markdown",
   "id": "a56728f6",
   "metadata": {},
   "source": [
    "If the model just guessed True or False:"
   ]
  },
  {
   "cell_type": "code",
   "execution_count": 60,
   "id": "75a171b1",
   "metadata": {},
   "outputs": [
    {
     "data": {
      "text/plain": [
       "False    0.501875\n",
       "True     0.498125\n",
       "Name: gold-label, dtype: float64"
      ]
     },
     "execution_count": 60,
     "metadata": {},
     "output_type": "execute_result"
    }
   ],
   "source": [
    "train_df['gold-label'].value_counts(normalize=True)"
   ]
  },
  {
   "cell_type": "markdown",
   "id": "d81b770a",
   "metadata": {},
   "source": [
    "#### Evaluate the model on dev"
   ]
  },
  {
   "cell_type": "code",
   "execution_count": 61,
   "id": "1efaf96c",
   "metadata": {
    "collapsed": true,
    "jupyter": {
     "outputs_hidden": true
    },
    "tags": []
   },
   "outputs": [
    {
     "ename": "ValueError",
     "evalue": "could not convert string to float: 'after seeing blaze and driving miss daisy , i was ready for some mindless fun--oh , maybe something like tango & cash . \\nmaybe not ! \\nmindless fun is one thing , but brain-dead slop is another matter altogether . \\ntango & cash has \" lowest common denominator \" written all over it . \\nthe movie stars sylvester stallone and kurt russell as rival undercover cops in l . a . russell plays cash , a reckless slob who dresses in jeans and tee shirts . \\nstallone plays tango , a wealthy investor who works on the force strictly for the thrill of it ; he doesn\\'t need the money . \\nin an effort to change his image , stallone goes for a yuppie , gq look in the film , wearing spectacles and three piece suits . \\nthe two detectives reluctantly become partners after they are framed for murder and have to break out of prison to clear their names . \\ntango & cash is unbearably noisy . \\nfor starters , there\\'s harold faltermeyer\\'s annoying synthesized score , which gets old after four notes . \\nto make matters worse , the filmmakers seem to think that when it comes to loud explosions and screeching cars , the more the merrier . \\nin fact , the movie begins with not one but two car chases . \\nthere\\'s nothing like a good old car chase to introduce the characters in a movie . \\nscreenwriter randy feldman\\'s brain must have gone to mush from watching too many cop shows on tv . \\nhis shockingly stupid screenplay undermines anything and everything the movie has going for it , such as stallone\\'s efforts to convince you that tango is an intellectual . \\nin a movie with the iq level of an amoeba , even a great actor is going to have trouble looking intelligent--and stallone is no lawrence olivier . \\nit\\'s hard to imagine anyone reading feldman\\'s script and thinking , \" i want to be in this movie . \" \\nthe film\\'s plot doesn\\'t have one original bone in its body , and--again--you have to point your finger at the screenwriting . \\nfeldman\\'s story line succumbs to every crime thriller cliche in the book , making tango & cash altogether generic and predictable . \\nthey simply could have called it \" action movie . \" \\nevery character , every twist and turn , is stolen from television or from other movies . \\nadding insult to injury , tango & cash is about as believable as a \" road runner \" cartoon . \\naction movies don\\'t have to be realistic , but they should absorb you enough so that you\\'re not thinking about the lack of realism . \\nthe only artistic aspect of tango & cash is the cinematography . \\nthere are some spectacular shots , especially during the rainy nighttime prison break in which tango and cash slide to safety on electrical wires . \\nthe film\\'s main draw is the chemistry between stallone and russell . \\nunfortunately , their relationship rarely progresses past macho competition as they endlessly bicker about who packs more meat in his pants . \\nthe dialogue consists of nothing but one-liners , and consequently the attempts at character development are embarrassing . \\nit\\'s a shame because with a workable screenplay , russell and stallone could have turned tango & cash into a charming \" lethal weaponesque \" adventure . \\ntango & cash tries to maintain a light tone , and you do laugh about once every five minutes . \\nseeing russell in drag is the movie\\'s funniest moment , but you probably already have seen it in the commercials . \\nfurthermore , the light tone does not sit well against the relentlessly brutal violence . \\nmachine guns and torture generally don\\'t mix well with comedy . \\njack palance appears in tango & cash doing what he does best : playing a sleazy , conniving villain . \\nhis character , however , is run-of-the-mill , except for his strange obsession with mice . \\nlike many movie villains , palance likes to play games . \\nin fact , he sets a ridiculously elaborate trap for tango and cash , a trap which sends the two detectives to prison so they can be beaten and electrocuted by some meanies in the boiler room . \\nyou have to wonder why palance doesn\\'t just shoot the detectives in the head ! \\nthe story would crumble if any of the characters were to do anything intelligent . \\nteri hatcher plays stallone\\'s sister and russell\\'s love-interest , and she is just as pretty as can be . \\nbut regrettably , hatcher\\'s acting is not on par with her exceptional beauty . \\nevery time she opens her mouth , you cringe ; corny dialogue and atrocious acting are always a fatal combination . \\nthere\\'s really very little , if anything , to recommend in the film . \\nand , more to the point , tango definitely isn\\'t worth a penny of your cash--so don\\'t bother . \\n'",
     "output_type": "error",
     "traceback": [
      "\u001b[0;31m---------------------------------------------------------------------------\u001b[0m",
      "\u001b[0;31mValueError\u001b[0m                                Traceback (most recent call last)",
      "\u001b[0;32m<ipython-input-61-5423e57b295e>\u001b[0m in \u001b[0;36m<module>\u001b[0;34m\u001b[0m\n\u001b[0;32m----> 1\u001b[0;31m \u001b[0mnb_model\u001b[0m\u001b[0;34m.\u001b[0m\u001b[0mpredict\u001b[0m\u001b[0;34m(\u001b[0m\u001b[0mdev_df\u001b[0m\u001b[0;34m[\u001b[0m\u001b[0;34m'review_text'\u001b[0m\u001b[0;34m]\u001b[0m\u001b[0;34m)\u001b[0m\u001b[0;34m\u001b[0m\u001b[0;34m\u001b[0m\u001b[0m\n\u001b[0m",
      "\u001b[0;32m/opt/conda/lib/python3.8/site-packages/sklearn/naive_bayes.py\u001b[0m in \u001b[0;36mpredict\u001b[0;34m(self, X)\u001b[0m\n\u001b[1;32m     72\u001b[0m         \"\"\"\n\u001b[1;32m     73\u001b[0m         \u001b[0mcheck_is_fitted\u001b[0m\u001b[0;34m(\u001b[0m\u001b[0mself\u001b[0m\u001b[0;34m)\u001b[0m\u001b[0;34m\u001b[0m\u001b[0;34m\u001b[0m\u001b[0m\n\u001b[0;32m---> 74\u001b[0;31m         \u001b[0mX\u001b[0m \u001b[0;34m=\u001b[0m \u001b[0mself\u001b[0m\u001b[0;34m.\u001b[0m\u001b[0m_check_X\u001b[0m\u001b[0;34m(\u001b[0m\u001b[0mX\u001b[0m\u001b[0;34m)\u001b[0m\u001b[0;34m\u001b[0m\u001b[0;34m\u001b[0m\u001b[0m\n\u001b[0m\u001b[1;32m     75\u001b[0m         \u001b[0mjll\u001b[0m \u001b[0;34m=\u001b[0m \u001b[0mself\u001b[0m\u001b[0;34m.\u001b[0m\u001b[0m_joint_log_likelihood\u001b[0m\u001b[0;34m(\u001b[0m\u001b[0mX\u001b[0m\u001b[0;34m)\u001b[0m\u001b[0;34m\u001b[0m\u001b[0;34m\u001b[0m\u001b[0m\n\u001b[1;32m     76\u001b[0m         \u001b[0;32mreturn\u001b[0m \u001b[0mself\u001b[0m\u001b[0;34m.\u001b[0m\u001b[0mclasses_\u001b[0m\u001b[0;34m[\u001b[0m\u001b[0mnp\u001b[0m\u001b[0;34m.\u001b[0m\u001b[0margmax\u001b[0m\u001b[0;34m(\u001b[0m\u001b[0mjll\u001b[0m\u001b[0;34m,\u001b[0m \u001b[0maxis\u001b[0m\u001b[0;34m=\u001b[0m\u001b[0;36m1\u001b[0m\u001b[0;34m)\u001b[0m\u001b[0;34m]\u001b[0m\u001b[0;34m\u001b[0m\u001b[0;34m\u001b[0m\u001b[0m\n",
      "\u001b[0;32m/opt/conda/lib/python3.8/site-packages/sklearn/naive_bayes.py\u001b[0m in \u001b[0;36m_check_X\u001b[0;34m(self, X)\u001b[0m\n\u001b[1;32m    472\u001b[0m \u001b[0;34m\u001b[0m\u001b[0m\n\u001b[1;32m    473\u001b[0m     \u001b[0;32mdef\u001b[0m \u001b[0m_check_X\u001b[0m\u001b[0;34m(\u001b[0m\u001b[0mself\u001b[0m\u001b[0;34m,\u001b[0m \u001b[0mX\u001b[0m\u001b[0;34m)\u001b[0m\u001b[0;34m:\u001b[0m\u001b[0;34m\u001b[0m\u001b[0;34m\u001b[0m\u001b[0m\n\u001b[0;32m--> 474\u001b[0;31m         \u001b[0;32mreturn\u001b[0m \u001b[0mcheck_array\u001b[0m\u001b[0;34m(\u001b[0m\u001b[0mX\u001b[0m\u001b[0;34m,\u001b[0m \u001b[0maccept_sparse\u001b[0m\u001b[0;34m=\u001b[0m\u001b[0;34m'csr'\u001b[0m\u001b[0;34m)\u001b[0m\u001b[0;34m\u001b[0m\u001b[0;34m\u001b[0m\u001b[0m\n\u001b[0m\u001b[1;32m    475\u001b[0m \u001b[0;34m\u001b[0m\u001b[0m\n\u001b[1;32m    476\u001b[0m     \u001b[0;32mdef\u001b[0m \u001b[0m_check_X_y\u001b[0m\u001b[0;34m(\u001b[0m\u001b[0mself\u001b[0m\u001b[0;34m,\u001b[0m \u001b[0mX\u001b[0m\u001b[0;34m,\u001b[0m \u001b[0my\u001b[0m\u001b[0;34m)\u001b[0m\u001b[0;34m:\u001b[0m\u001b[0;34m\u001b[0m\u001b[0;34m\u001b[0m\u001b[0m\n",
      "\u001b[0;32m/opt/conda/lib/python3.8/site-packages/sklearn/utils/validation.py\u001b[0m in \u001b[0;36minner_f\u001b[0;34m(*args, **kwargs)\u001b[0m\n\u001b[1;32m     61\u001b[0m             \u001b[0mextra_args\u001b[0m \u001b[0;34m=\u001b[0m \u001b[0mlen\u001b[0m\u001b[0;34m(\u001b[0m\u001b[0margs\u001b[0m\u001b[0;34m)\u001b[0m \u001b[0;34m-\u001b[0m \u001b[0mlen\u001b[0m\u001b[0;34m(\u001b[0m\u001b[0mall_args\u001b[0m\u001b[0;34m)\u001b[0m\u001b[0;34m\u001b[0m\u001b[0;34m\u001b[0m\u001b[0m\n\u001b[1;32m     62\u001b[0m             \u001b[0;32mif\u001b[0m \u001b[0mextra_args\u001b[0m \u001b[0;34m<=\u001b[0m \u001b[0;36m0\u001b[0m\u001b[0;34m:\u001b[0m\u001b[0;34m\u001b[0m\u001b[0;34m\u001b[0m\u001b[0m\n\u001b[0;32m---> 63\u001b[0;31m                 \u001b[0;32mreturn\u001b[0m \u001b[0mf\u001b[0m\u001b[0;34m(\u001b[0m\u001b[0;34m*\u001b[0m\u001b[0margs\u001b[0m\u001b[0;34m,\u001b[0m \u001b[0;34m**\u001b[0m\u001b[0mkwargs\u001b[0m\u001b[0;34m)\u001b[0m\u001b[0;34m\u001b[0m\u001b[0;34m\u001b[0m\u001b[0m\n\u001b[0m\u001b[1;32m     64\u001b[0m \u001b[0;34m\u001b[0m\u001b[0m\n\u001b[1;32m     65\u001b[0m             \u001b[0;31m# extra_args > 0\u001b[0m\u001b[0;34m\u001b[0m\u001b[0;34m\u001b[0m\u001b[0;34m\u001b[0m\u001b[0m\n",
      "\u001b[0;32m/opt/conda/lib/python3.8/site-packages/sklearn/utils/validation.py\u001b[0m in \u001b[0;36mcheck_array\u001b[0;34m(array, accept_sparse, accept_large_sparse, dtype, order, copy, force_all_finite, ensure_2d, allow_nd, ensure_min_samples, ensure_min_features, estimator)\u001b[0m\n\u001b[1;32m    614\u001b[0m                     \u001b[0marray\u001b[0m \u001b[0;34m=\u001b[0m \u001b[0marray\u001b[0m\u001b[0;34m.\u001b[0m\u001b[0mastype\u001b[0m\u001b[0;34m(\u001b[0m\u001b[0mdtype\u001b[0m\u001b[0;34m,\u001b[0m \u001b[0mcasting\u001b[0m\u001b[0;34m=\u001b[0m\u001b[0;34m\"unsafe\"\u001b[0m\u001b[0;34m,\u001b[0m \u001b[0mcopy\u001b[0m\u001b[0;34m=\u001b[0m\u001b[0;32mFalse\u001b[0m\u001b[0;34m)\u001b[0m\u001b[0;34m\u001b[0m\u001b[0;34m\u001b[0m\u001b[0m\n\u001b[1;32m    615\u001b[0m                 \u001b[0;32melse\u001b[0m\u001b[0;34m:\u001b[0m\u001b[0;34m\u001b[0m\u001b[0;34m\u001b[0m\u001b[0m\n\u001b[0;32m--> 616\u001b[0;31m                     \u001b[0marray\u001b[0m \u001b[0;34m=\u001b[0m \u001b[0mnp\u001b[0m\u001b[0;34m.\u001b[0m\u001b[0masarray\u001b[0m\u001b[0;34m(\u001b[0m\u001b[0marray\u001b[0m\u001b[0;34m,\u001b[0m \u001b[0morder\u001b[0m\u001b[0;34m=\u001b[0m\u001b[0morder\u001b[0m\u001b[0;34m,\u001b[0m \u001b[0mdtype\u001b[0m\u001b[0;34m=\u001b[0m\u001b[0mdtype\u001b[0m\u001b[0;34m)\u001b[0m\u001b[0;34m\u001b[0m\u001b[0;34m\u001b[0m\u001b[0m\n\u001b[0m\u001b[1;32m    617\u001b[0m             \u001b[0;32mexcept\u001b[0m \u001b[0mComplexWarning\u001b[0m \u001b[0;32mas\u001b[0m \u001b[0mcomplex_warning\u001b[0m\u001b[0;34m:\u001b[0m\u001b[0;34m\u001b[0m\u001b[0;34m\u001b[0m\u001b[0m\n\u001b[1;32m    618\u001b[0m                 raise ValueError(\"Complex data not supported\\n\"\n",
      "\u001b[0;32m/opt/conda/lib/python3.8/site-packages/numpy/core/_asarray.py\u001b[0m in \u001b[0;36masarray\u001b[0;34m(a, dtype, order, like)\u001b[0m\n\u001b[1;32m    100\u001b[0m         \u001b[0;32mreturn\u001b[0m \u001b[0m_asarray_with_like\u001b[0m\u001b[0;34m(\u001b[0m\u001b[0ma\u001b[0m\u001b[0;34m,\u001b[0m \u001b[0mdtype\u001b[0m\u001b[0;34m=\u001b[0m\u001b[0mdtype\u001b[0m\u001b[0;34m,\u001b[0m \u001b[0morder\u001b[0m\u001b[0;34m=\u001b[0m\u001b[0morder\u001b[0m\u001b[0;34m,\u001b[0m \u001b[0mlike\u001b[0m\u001b[0;34m=\u001b[0m\u001b[0mlike\u001b[0m\u001b[0;34m)\u001b[0m\u001b[0;34m\u001b[0m\u001b[0;34m\u001b[0m\u001b[0m\n\u001b[1;32m    101\u001b[0m \u001b[0;34m\u001b[0m\u001b[0m\n\u001b[0;32m--> 102\u001b[0;31m     \u001b[0;32mreturn\u001b[0m \u001b[0marray\u001b[0m\u001b[0;34m(\u001b[0m\u001b[0ma\u001b[0m\u001b[0;34m,\u001b[0m \u001b[0mdtype\u001b[0m\u001b[0;34m,\u001b[0m \u001b[0mcopy\u001b[0m\u001b[0;34m=\u001b[0m\u001b[0;32mFalse\u001b[0m\u001b[0;34m,\u001b[0m \u001b[0morder\u001b[0m\u001b[0;34m=\u001b[0m\u001b[0morder\u001b[0m\u001b[0;34m)\u001b[0m\u001b[0;34m\u001b[0m\u001b[0;34m\u001b[0m\u001b[0m\n\u001b[0m\u001b[1;32m    103\u001b[0m \u001b[0;34m\u001b[0m\u001b[0m\n\u001b[1;32m    104\u001b[0m \u001b[0;34m\u001b[0m\u001b[0m\n",
      "\u001b[0;32m/opt/conda/lib/python3.8/site-packages/pandas/core/series.py\u001b[0m in \u001b[0;36m__array__\u001b[0;34m(self, dtype)\u001b[0m\n\u001b[1;32m    766\u001b[0m               dtype='datetime64[ns]')\n\u001b[1;32m    767\u001b[0m         \"\"\"\n\u001b[0;32m--> 768\u001b[0;31m         \u001b[0;32mreturn\u001b[0m \u001b[0mnp\u001b[0m\u001b[0;34m.\u001b[0m\u001b[0masarray\u001b[0m\u001b[0;34m(\u001b[0m\u001b[0mself\u001b[0m\u001b[0;34m.\u001b[0m\u001b[0marray\u001b[0m\u001b[0;34m,\u001b[0m \u001b[0mdtype\u001b[0m\u001b[0;34m)\u001b[0m\u001b[0;34m\u001b[0m\u001b[0;34m\u001b[0m\u001b[0m\n\u001b[0m\u001b[1;32m    769\u001b[0m \u001b[0;34m\u001b[0m\u001b[0m\n\u001b[1;32m    770\u001b[0m     \u001b[0;31m# ----------------------------------------------------------------------\u001b[0m\u001b[0;34m\u001b[0m\u001b[0;34m\u001b[0m\u001b[0;34m\u001b[0m\u001b[0m\n",
      "\u001b[0;32m/opt/conda/lib/python3.8/site-packages/numpy/core/_asarray.py\u001b[0m in \u001b[0;36masarray\u001b[0;34m(a, dtype, order, like)\u001b[0m\n\u001b[1;32m    100\u001b[0m         \u001b[0;32mreturn\u001b[0m \u001b[0m_asarray_with_like\u001b[0m\u001b[0;34m(\u001b[0m\u001b[0ma\u001b[0m\u001b[0;34m,\u001b[0m \u001b[0mdtype\u001b[0m\u001b[0;34m=\u001b[0m\u001b[0mdtype\u001b[0m\u001b[0;34m,\u001b[0m \u001b[0morder\u001b[0m\u001b[0;34m=\u001b[0m\u001b[0morder\u001b[0m\u001b[0;34m,\u001b[0m \u001b[0mlike\u001b[0m\u001b[0;34m=\u001b[0m\u001b[0mlike\u001b[0m\u001b[0;34m)\u001b[0m\u001b[0;34m\u001b[0m\u001b[0;34m\u001b[0m\u001b[0m\n\u001b[1;32m    101\u001b[0m \u001b[0;34m\u001b[0m\u001b[0m\n\u001b[0;32m--> 102\u001b[0;31m     \u001b[0;32mreturn\u001b[0m \u001b[0marray\u001b[0m\u001b[0;34m(\u001b[0m\u001b[0ma\u001b[0m\u001b[0;34m,\u001b[0m \u001b[0mdtype\u001b[0m\u001b[0;34m,\u001b[0m \u001b[0mcopy\u001b[0m\u001b[0;34m=\u001b[0m\u001b[0;32mFalse\u001b[0m\u001b[0;34m,\u001b[0m \u001b[0morder\u001b[0m\u001b[0;34m=\u001b[0m\u001b[0morder\u001b[0m\u001b[0;34m)\u001b[0m\u001b[0;34m\u001b[0m\u001b[0;34m\u001b[0m\u001b[0m\n\u001b[0m\u001b[1;32m    103\u001b[0m \u001b[0;34m\u001b[0m\u001b[0m\n\u001b[1;32m    104\u001b[0m \u001b[0;34m\u001b[0m\u001b[0m\n",
      "\u001b[0;32m/opt/conda/lib/python3.8/site-packages/pandas/core/arrays/numpy_.py\u001b[0m in \u001b[0;36m__array__\u001b[0;34m(self, dtype)\u001b[0m\n\u001b[1;32m    201\u001b[0m \u001b[0;34m\u001b[0m\u001b[0m\n\u001b[1;32m    202\u001b[0m     \u001b[0;32mdef\u001b[0m \u001b[0m__array__\u001b[0m\u001b[0;34m(\u001b[0m\u001b[0mself\u001b[0m\u001b[0;34m,\u001b[0m \u001b[0mdtype\u001b[0m\u001b[0;34m=\u001b[0m\u001b[0;32mNone\u001b[0m\u001b[0;34m)\u001b[0m \u001b[0;34m->\u001b[0m \u001b[0mnp\u001b[0m\u001b[0;34m.\u001b[0m\u001b[0mndarray\u001b[0m\u001b[0;34m:\u001b[0m\u001b[0;34m\u001b[0m\u001b[0;34m\u001b[0m\u001b[0m\n\u001b[0;32m--> 203\u001b[0;31m         \u001b[0;32mreturn\u001b[0m \u001b[0mnp\u001b[0m\u001b[0;34m.\u001b[0m\u001b[0masarray\u001b[0m\u001b[0;34m(\u001b[0m\u001b[0mself\u001b[0m\u001b[0;34m.\u001b[0m\u001b[0m_ndarray\u001b[0m\u001b[0;34m,\u001b[0m \u001b[0mdtype\u001b[0m\u001b[0;34m=\u001b[0m\u001b[0mdtype\u001b[0m\u001b[0;34m)\u001b[0m\u001b[0;34m\u001b[0m\u001b[0;34m\u001b[0m\u001b[0m\n\u001b[0m\u001b[1;32m    204\u001b[0m \u001b[0;34m\u001b[0m\u001b[0m\n\u001b[1;32m    205\u001b[0m     \u001b[0m_HANDLED_TYPES\u001b[0m \u001b[0;34m=\u001b[0m \u001b[0;34m(\u001b[0m\u001b[0mnp\u001b[0m\u001b[0;34m.\u001b[0m\u001b[0mndarray\u001b[0m\u001b[0;34m,\u001b[0m \u001b[0mnumbers\u001b[0m\u001b[0;34m.\u001b[0m\u001b[0mNumber\u001b[0m\u001b[0;34m)\u001b[0m\u001b[0;34m\u001b[0m\u001b[0;34m\u001b[0m\u001b[0m\n",
      "\u001b[0;32m/opt/conda/lib/python3.8/site-packages/numpy/core/_asarray.py\u001b[0m in \u001b[0;36masarray\u001b[0;34m(a, dtype, order, like)\u001b[0m\n\u001b[1;32m    100\u001b[0m         \u001b[0;32mreturn\u001b[0m \u001b[0m_asarray_with_like\u001b[0m\u001b[0;34m(\u001b[0m\u001b[0ma\u001b[0m\u001b[0;34m,\u001b[0m \u001b[0mdtype\u001b[0m\u001b[0;34m=\u001b[0m\u001b[0mdtype\u001b[0m\u001b[0;34m,\u001b[0m \u001b[0morder\u001b[0m\u001b[0;34m=\u001b[0m\u001b[0morder\u001b[0m\u001b[0;34m,\u001b[0m \u001b[0mlike\u001b[0m\u001b[0;34m=\u001b[0m\u001b[0mlike\u001b[0m\u001b[0;34m)\u001b[0m\u001b[0;34m\u001b[0m\u001b[0;34m\u001b[0m\u001b[0m\n\u001b[1;32m    101\u001b[0m \u001b[0;34m\u001b[0m\u001b[0m\n\u001b[0;32m--> 102\u001b[0;31m     \u001b[0;32mreturn\u001b[0m \u001b[0marray\u001b[0m\u001b[0;34m(\u001b[0m\u001b[0ma\u001b[0m\u001b[0;34m,\u001b[0m \u001b[0mdtype\u001b[0m\u001b[0;34m,\u001b[0m \u001b[0mcopy\u001b[0m\u001b[0;34m=\u001b[0m\u001b[0;32mFalse\u001b[0m\u001b[0;34m,\u001b[0m \u001b[0morder\u001b[0m\u001b[0;34m=\u001b[0m\u001b[0morder\u001b[0m\u001b[0;34m)\u001b[0m\u001b[0;34m\u001b[0m\u001b[0;34m\u001b[0m\u001b[0m\n\u001b[0m\u001b[1;32m    103\u001b[0m \u001b[0;34m\u001b[0m\u001b[0m\n\u001b[1;32m    104\u001b[0m \u001b[0;34m\u001b[0m\u001b[0m\n",
      "\u001b[0;31mValueError\u001b[0m: could not convert string to float: 'after seeing blaze and driving miss daisy , i was ready for some mindless fun--oh , maybe something like tango & cash . \\nmaybe not ! \\nmindless fun is one thing , but brain-dead slop is another matter altogether . \\ntango & cash has \" lowest common denominator \" written all over it . \\nthe movie stars sylvester stallone and kurt russell as rival undercover cops in l . a . russell plays cash , a reckless slob who dresses in jeans and tee shirts . \\nstallone plays tango , a wealthy investor who works on the force strictly for the thrill of it ; he doesn\\'t need the money . \\nin an effort to change his image , stallone goes for a yuppie , gq look in the film , wearing spectacles and three piece suits . \\nthe two detectives reluctantly become partners after they are framed for murder and have to break out of prison to clear their names . \\ntango & cash is unbearably noisy . \\nfor starters , there\\'s harold faltermeyer\\'s annoying synthesized score , which gets old after four notes . \\nto make matters worse , the filmmakers seem to think that when it comes to loud explosions and screeching cars , the more the merrier . \\nin fact , the movie begins with not one but two car chases . \\nthere\\'s nothing like a good old car chase to introduce the characters in a movie . \\nscreenwriter randy feldman\\'s brain must have gone to mush from watching too many cop shows on tv . \\nhis shockingly stupid screenplay undermines anything and everything the movie has going for it , such as stallone\\'s efforts to convince you that tango is an intellectual . \\nin a movie with the iq level of an amoeba , even a great actor is going to have trouble looking intelligent--and stallone is no lawrence olivier . \\nit\\'s hard to imagine anyone reading feldman\\'s script and thinking , \" i want to be in this movie . \" \\nthe film\\'s plot doesn\\'t have one original bone in its body , and--again--you have to point your finger at the screenwriting . \\nfeldman\\'s story line succumbs to every crime thriller cliche in the book , making tango & cash altogether generic and predictable . \\nthey simply could have called it \" action movie . \" \\nevery character , every twist and turn , is stolen from television or from other movies . \\nadding insult to injury , tango & cash is about as believable as a \" road runner \" cartoon . \\naction movies don\\'t have to be realistic , but they should absorb you enough so that you\\'re not thinking about the lack of realism . \\nthe only artistic aspect of tango & cash is the cinematography . \\nthere are some spectacular shots , especially during the rainy nighttime prison break in which tango and cash slide to safety on electrical wires . \\nthe film\\'s main draw is the chemistry between stallone and russell . \\nunfortunately , their relationship rarely progresses past macho competition as they endlessly bicker about who packs more meat in his pants . \\nthe dialogue consists of nothing but one-liners , and consequently the attempts at character development are embarrassing . \\nit\\'s a shame because with a workable screenplay , russell and stallone could have turned tango & cash into a charming \" lethal weaponesque \" adventure . \\ntango & cash tries to maintain a light tone , and you do laugh about once every five minutes . \\nseeing russell in drag is the movie\\'s funniest moment , but you probably already have seen it in the commercials . \\nfurthermore , the light tone does not sit well against the relentlessly brutal violence . \\nmachine guns and torture generally don\\'t mix well with comedy . \\njack palance appears in tango & cash doing what he does best : playing a sleazy , conniving villain . \\nhis character , however , is run-of-the-mill , except for his strange obsession with mice . \\nlike many movie villains , palance likes to play games . \\nin fact , he sets a ridiculously elaborate trap for tango and cash , a trap which sends the two detectives to prison so they can be beaten and electrocuted by some meanies in the boiler room . \\nyou have to wonder why palance doesn\\'t just shoot the detectives in the head ! \\nthe story would crumble if any of the characters were to do anything intelligent . \\nteri hatcher plays stallone\\'s sister and russell\\'s love-interest , and she is just as pretty as can be . \\nbut regrettably , hatcher\\'s acting is not on par with her exceptional beauty . \\nevery time she opens her mouth , you cringe ; corny dialogue and atrocious acting are always a fatal combination . \\nthere\\'s really very little , if anything , to recommend in the film . \\nand , more to the point , tango definitely isn\\'t worth a penny of your cash--so don\\'t bother . \\n'"
     ]
    }
   ],
   "source": [
    "nb_model.predict(dev_df['review_text'])"
   ]
  },
  {
   "cell_type": "code",
   "execution_count": null,
   "id": "747cc513",
   "metadata": {},
   "outputs": [],
   "source": [
    "vectorizer.fit_transform"
   ]
  },
  {
   "cell_type": "code",
   "execution_count": 62,
   "id": "34a53351",
   "metadata": {},
   "outputs": [
    {
     "data": {
      "text/plain": [
       "<200x36174 sparse matrix of type '<class 'numpy.int64'>'\n",
       "\twith 65181 stored elements in Compressed Sparse Row format>"
      ]
     },
     "execution_count": 62,
     "metadata": {},
     "output_type": "execute_result"
    }
   ],
   "source": [
    "X_dev = vectorizer.transform(dev_df['review_text'])\n",
    "X_dev"
   ]
  },
  {
   "cell_type": "code",
   "execution_count": 65,
   "id": "19653f50",
   "metadata": {},
   "outputs": [
    {
     "data": {
      "text/plain": [
       "708"
      ]
     },
     "execution_count": 65,
     "metadata": {},
     "output_type": "execute_result"
    }
   ],
   "source": [
    "sum(X_dev.toarray()[0])"
   ]
  },
  {
   "cell_type": "code",
   "execution_count": 70,
   "id": "475b238f",
   "metadata": {
    "collapsed": true,
    "jupyter": {
     "outputs_hidden": true
    },
    "tags": []
   },
   "outputs": [
    {
     "data": {
      "text/plain": [
       "array([False,  True, False,  True,  True,  True,  True,  True,  True,\n",
       "       False, False,  True, False,  True, False,  True, False, False,\n",
       "       False, False,  True,  True, False,  True,  True,  True,  True,\n",
       "       False, False, False, False, False, False,  True, False, False,\n",
       "        True,  True, False,  True,  True,  True,  True, False, False,\n",
       "       False, False,  True, False, False, False, False,  True, False,\n",
       "        True,  True, False,  True, False, False,  True, False,  True,\n",
       "        True,  True,  True, False, False, False,  True,  True,  True,\n",
       "        True, False, False,  True, False,  True, False, False,  True,\n",
       "        True, False, False, False,  True,  True, False,  True,  True,\n",
       "       False, False,  True, False,  True,  True,  True,  True, False,\n",
       "       False, False,  True, False,  True,  True, False,  True,  True,\n",
       "        True, False,  True, False, False,  True, False, False, False,\n",
       "        True, False, False, False, False, False, False, False,  True,\n",
       "        True, False,  True,  True,  True,  True,  True, False, False,\n",
       "        True,  True, False, False, False, False,  True,  True,  True,\n",
       "        True,  True,  True, False, False, False, False, False, False,\n",
       "       False,  True,  True,  True, False, False,  True,  True, False,\n",
       "       False, False, False, False, False, False,  True, False, False,\n",
       "       False, False, False,  True,  True,  True,  True, False,  True,\n",
       "       False, False,  True, False,  True, False, False, False, False,\n",
       "        True, False,  True,  True,  True, False, False, False,  True,\n",
       "       False,  True])"
      ]
     },
     "execution_count": 70,
     "metadata": {},
     "output_type": "execute_result"
    }
   ],
   "source": [
    "nb_model.predict(X_dev)"
   ]
  },
  {
   "cell_type": "markdown",
   "id": "dba80252",
   "metadata": {},
   "source": [
    "**Let's store the predictions**"
   ]
  },
  {
   "cell_type": "code",
   "execution_count": 71,
   "id": "950476c2",
   "metadata": {},
   "outputs": [
    {
     "data": {
      "text/plain": [
       "Index(['file_name', 'gold-label', 'review_text', 'nb_predictions'], dtype='object')"
      ]
     },
     "execution_count": 71,
     "metadata": {},
     "output_type": "execute_result"
    }
   ],
   "source": [
    "dev_df = dev_df.assign(nb_predictions = nb_model.predict(X_dev))\n",
    "dev_df.keys()"
   ]
  },
  {
   "cell_type": "markdown",
   "id": "bb0e46f0",
   "metadata": {},
   "source": [
    "**Let's compute accuracy**"
   ]
  },
  {
   "cell_type": "code",
   "execution_count": 72,
   "id": "b8c9a6bf",
   "metadata": {},
   "outputs": [
    {
     "data": {
      "text/plain": [
       "781      True\n",
       "1457     True\n",
       "180      True\n",
       "1262     True\n",
       "1249     True\n",
       "        ...  \n",
       "105      True\n",
       "759      True\n",
       "1070     True\n",
       "279      True\n",
       "223     False\n",
       "Length: 200, dtype: bool"
      ]
     },
     "execution_count": 72,
     "metadata": {},
     "output_type": "execute_result"
    }
   ],
   "source": [
    "dev_df['nb_predictions'] == dev_df['gold-label']"
   ]
  },
  {
   "cell_type": "code",
   "execution_count": 73,
   "id": "750b4694",
   "metadata": {},
   "outputs": [
    {
     "data": {
      "text/plain": [
       "0.805"
      ]
     },
     "execution_count": 73,
     "metadata": {},
     "output_type": "execute_result"
    }
   ],
   "source": [
    "sum(dev_df['nb_predictions'] == dev_df['gold-label']) / dev_df.shape[0]"
   ]
  },
  {
   "cell_type": "code",
   "execution_count": 74,
   "id": "53b03b71",
   "metadata": {},
   "outputs": [
    {
     "data": {
      "text/plain": [
       "0.805"
      ]
     },
     "execution_count": 74,
     "metadata": {},
     "output_type": "execute_result"
    }
   ],
   "source": [
    "nb_model.score(X_dev, dev_df['gold-label'])"
   ]
  },
  {
   "cell_type": "markdown",
   "id": "48cf539c",
   "metadata": {},
   "source": [
    "#### Interpreting the model\n",
    "\n",
    "In computational text analysis, we don't necessarily care just about building a classifier that does well. We want to use the classifier to gain insight about our text.\n",
    "\n",
    "**Question:** From the Naive Bayes equation, what do you think can give us the most insight about our text?"
   ]
  },
  {
   "cell_type": "code",
   "execution_count": null,
   "id": "09548d9a",
   "metadata": {},
   "outputs": [],
   "source": [
    "nb_model.feature_log_prob_.shape"
   ]
  },
  {
   "cell_type": "code",
   "execution_count": null,
   "id": "39213e36",
   "metadata": {},
   "outputs": [],
   "source": [
    "nb_model.feature_log_prob_[0]"
   ]
  },
  {
   "cell_type": "code",
   "execution_count": null,
   "id": "2c5a8ac3",
   "metadata": {},
   "outputs": [],
   "source": [
    "nb_model.feature_log_prob_[0].argmax()"
   ]
  },
  {
   "cell_type": "code",
   "execution_count": null,
   "id": "83a2a0e8",
   "metadata": {},
   "outputs": [],
   "source": [
    "vectorizer.get_feature_names()[nb_model.feature_log_prob_[0].argmax()]"
   ]
  },
  {
   "cell_type": "code",
   "execution_count": null,
   "id": "6697b56d",
   "metadata": {},
   "outputs": [],
   "source": [
    "nb_model.feature_log_prob_[0].max(), nb_model.feature_log_prob_[0][nb_model.feature_log_prob_[0].argmax()]"
   ]
  },
  {
   "cell_type": "code",
   "execution_count": null,
   "id": "e92404b9",
   "metadata": {},
   "outputs": [],
   "source": [
    "# code from https://stackoverflow.com/questions/50526898/how-to-get-feature-importance-in-naive-bayes\n",
    "\n",
    "neg_class_prob_sorted = nb_model.feature_log_prob_[0, :].argsort()[::-1]\n",
    "pos_class_prob_sorted = nb_model.feature_log_prob_[1, :].argsort()[::-1]\n",
    "\n",
    "print(np.take(vectorizer.get_feature_names(), neg_class_prob_sorted[:10]))\n",
    "print(np.take(vectorizer.get_feature_names(), pos_class_prob_sorted[:10]))"
   ]
  },
  {
   "cell_type": "markdown",
   "id": "489dc586",
   "metadata": {},
   "source": [
    "The above is telling us what is the probability of a word given a label."
   ]
  },
  {
   "cell_type": "code",
   "execution_count": null,
   "id": "4b9412d3",
   "metadata": {},
   "outputs": [],
   "source": [
    "neg_class_prob_sorted = nb_model.feature_log_prob_[0, :].argsort()[::-1]\n",
    "pos_class_prob_sorted = nb_model.feature_log_prob_[1, :].argsort()[::-1]\n",
    "\n",
    "top_100_negative = set(np.take(vectorizer.get_feature_names(), neg_class_prob_sorted[:200]))\n",
    "top_100_positive = set(np.take(vectorizer.get_feature_names(), pos_class_prob_sorted[:200]))"
   ]
  },
  {
   "cell_type": "code",
   "execution_count": null,
   "id": "8e122561",
   "metadata": {},
   "outputs": [],
   "source": [
    "top_100_negative - top_100_positive"
   ]
  },
  {
   "cell_type": "code",
   "execution_count": null,
   "id": "2a63b099",
   "metadata": {},
   "outputs": [],
   "source": [
    "top_100_positive - top_100_negative"
   ]
  },
  {
   "cell_type": "markdown",
   "id": "3402a9af",
   "metadata": {},
   "source": [
    "#### Fine-tuning hyper-parameters"
   ]
  },
  {
   "cell_type": "code",
   "execution_count": null,
   "id": "1c5f2c9d",
   "metadata": {},
   "outputs": [],
   "source": [
    "nb_model.alpha = 5\n",
    "nb_model.alpha"
   ]
  },
  {
   "cell_type": "code",
   "execution_count": null,
   "id": "b4177c8c",
   "metadata": {},
   "outputs": [],
   "source": [
    "nb_model = MultinomialNB(alpha=5)"
   ]
  },
  {
   "cell_type": "code",
   "execution_count": null,
   "id": "75a7ec35",
   "metadata": {},
   "outputs": [],
   "source": [
    "X_train"
   ]
  },
  {
   "cell_type": "code",
   "execution_count": null,
   "id": "c9b990e5",
   "metadata": {},
   "outputs": [],
   "source": [
    "nb_model.fit(X, train_df['gold-label'])"
   ]
  },
  {
   "cell_type": "code",
   "execution_count": null,
   "id": "4e56eb53",
   "metadata": {},
   "outputs": [],
   "source": [
    "nb_model.score(X, train_df['gold-label'])"
   ]
  },
  {
   "cell_type": "code",
   "execution_count": null,
   "id": "0998e6a9",
   "metadata": {},
   "outputs": [],
   "source": [
    "nb_model.predict(X_dev)"
   ]
  },
  {
   "cell_type": "code",
   "execution_count": null,
   "id": "f5e28e60",
   "metadata": {},
   "outputs": [],
   "source": [
    "nb_model.score(X_dev, dev_df['gold-label'])"
   ]
  },
  {
   "cell_type": "markdown",
   "id": "6c0043d8",
   "metadata": {},
   "source": [
    "**How does this compare to the result on dev before?**"
   ]
  },
  {
   "cell_type": "code",
   "execution_count": null,
   "id": "f5c2be9c",
   "metadata": {},
   "outputs": [],
   "source": []
  },
  {
   "cell_type": "markdown",
   "id": "bcf46c2b",
   "metadata": {},
   "source": [
    "This was an example of hyper-parameter tuning"
   ]
  },
  {
   "cell_type": "markdown",
   "id": "fe739464",
   "metadata": {},
   "source": [
    "(back to slides)\n",
    "### Logistic Regression"
   ]
  },
  {
   "cell_type": "code",
   "execution_count": 75,
   "id": "bfc81557",
   "metadata": {},
   "outputs": [
    {
     "data": {
      "text/plain": [
       "LogisticRegression(max_iter=10000.0)"
      ]
     },
     "execution_count": 75,
     "metadata": {},
     "output_type": "execute_result"
    }
   ],
   "source": [
    "lr_model = sklearn.linear_model.LogisticRegression(max_iter = 1e4)\n",
    "lr_model"
   ]
  },
  {
   "cell_type": "code",
   "execution_count": null,
   "id": "f7265a34",
   "metadata": {},
   "outputs": [],
   "source": [
    "lr_model.fit()"
   ]
  },
  {
   "cell_type": "code",
   "execution_count": 76,
   "id": "a9e19f8b",
   "metadata": {},
   "outputs": [
    {
     "ename": "ValueError",
     "evalue": "could not convert string to float: 'you know something , christmas is not about presents . \\nit\\'s about over-hyped holiday films with lots of merchandising and product tie-ins . \\nat least that would seem to be the message of \" the grinch , \" which has been advertised since last christmas and whose logo is currently plastered all over stores . \\nhollywood expects us to ignore this cynical greed as the movie scolds us about losing the true spirit of the season . \\nyou know the plot : there\\'s this evil furry green guy called the grinch ( jim carrey ) who lives on a mountain overlooking whoville . \\ndown below all the whos are preparing for their whobilation , but the grinch is determined to steal their christmas . \\nthe movie is , of course , a live-action version of the beloved children\\'s book , which was previously adapted into a 1966 tv special by looney tunes animator chuck jones . \\nit\\'s rare that a big budget hollywood release is shamed by a thirty-year-old half-hour cartoon , but that\\'s the case when jones\\' version is compared to ron howard\\'s . \\nthe tv grinch hit all the right notes : boris karloff\\'s soft , deep narration ; thurl ravenscroft singing \" mr . grinch \" ; max the dog weighed down by the gigantic antler tied to his head ; and the grinch\\'s wide , toothless grin . \\nby contrast , the movie hits one sour note after another . \\nfirst , there are the numerous bad choices that jeffrey price and peter seaman made in padding out the short book into a 105-minute movie . \\nyoung wide-eyed cindy lou who ( taylor momsen ) is depressed about the misplaced priorities of her parents ( bill irwin and molly shannon ) during the holiday season . \\nshe begins to sympathize with the grinch , who turns out to be surprisingly sympathetic . \\ncindy lou discovers that the grinch turned tearfully away from whoville in grammar school when he was publicly humiliated while expressing his love for the prettiest girl in the class , martha may whovier ( played as an adult by christine baranski ) . \\nare we expected to like the grinch , hate the whos , and want him to steal christmas ? \\nthe grinch isn\\'t even the villain here ; that role is filled by the corrupt mayor of whoville ( jeffrey tambor ) who was the grinch\\'s rival for martha\\'s affection . \\nnot only are the characters needlessly complex , but the once-simple plot becomes so convoluted that the actual theft of christmas seems like an afterthought . \\nthe casting choices aren\\'t any better than the screenwriting decisions . \\njim carrey seems woefully miscast . \\nwhile his face is so supple that the rubber make-up seems superfluous , carrey brings nothing else to the role . \\nhis accent keeps changing ; i assume he was shooting for karloff , but he ends up sounding like a weird slurry of richard nixon , sean connery , and cartman from \" south park . \" \\nnot knowing what else to do during his many scenes alone in the grinch\\'s home , carrey falls back on his stand-up comedy and clowns around ace ventura-style . \\nneedless to say , his wise-cracking antics don\\'t quite fit the character of the grinch , who is an embittered loner filled with hate . \\nlittle taylor momsen brings little to role of cindy lou except big eyes and a cute smile . \\nshe would have been fine if cindy lou was limited to her original purpose in the seuss story ( finding \" santa \" in her living room stealing the tree ) . \\nhowever , the expanded script makes cindy as important as the grinch , and momsen is not up to the challenge . \\nbottom line : when you\\'re stealing christmas ( movies ) , leave this one behind . \\n'",
     "output_type": "error",
     "traceback": [
      "\u001b[0;31m---------------------------------------------------------------------------\u001b[0m",
      "\u001b[0;31mValueError\u001b[0m                                Traceback (most recent call last)",
      "\u001b[0;32m<ipython-input-76-7e9c222bb2b1>\u001b[0m in \u001b[0;36m<module>\u001b[0;34m\u001b[0m\n\u001b[0;32m----> 1\u001b[0;31m \u001b[0mlr_model\u001b[0m\u001b[0;34m.\u001b[0m\u001b[0mfit\u001b[0m\u001b[0;34m(\u001b[0m\u001b[0mdf\u001b[0m\u001b[0;34m[\u001b[0m\u001b[0;34m'review_text'\u001b[0m\u001b[0;34m]\u001b[0m\u001b[0;34m,\u001b[0m \u001b[0mdf\u001b[0m\u001b[0;34m[\u001b[0m\u001b[0;34m'gold-label'\u001b[0m\u001b[0;34m]\u001b[0m\u001b[0;34m)\u001b[0m\u001b[0;34m\u001b[0m\u001b[0;34m\u001b[0m\u001b[0m\n\u001b[0m",
      "\u001b[0;32m/opt/conda/lib/python3.8/site-packages/sklearn/linear_model/_logistic.py\u001b[0m in \u001b[0;36mfit\u001b[0;34m(self, X, y, sample_weight)\u001b[0m\n\u001b[1;32m   1342\u001b[0m             \u001b[0m_dtype\u001b[0m \u001b[0;34m=\u001b[0m \u001b[0;34m[\u001b[0m\u001b[0mnp\u001b[0m\u001b[0;34m.\u001b[0m\u001b[0mfloat64\u001b[0m\u001b[0;34m,\u001b[0m \u001b[0mnp\u001b[0m\u001b[0;34m.\u001b[0m\u001b[0mfloat32\u001b[0m\u001b[0;34m]\u001b[0m\u001b[0;34m\u001b[0m\u001b[0;34m\u001b[0m\u001b[0m\n\u001b[1;32m   1343\u001b[0m \u001b[0;34m\u001b[0m\u001b[0m\n\u001b[0;32m-> 1344\u001b[0;31m         X, y = self._validate_data(X, y, accept_sparse='csr', dtype=_dtype,\n\u001b[0m\u001b[1;32m   1345\u001b[0m                                    \u001b[0morder\u001b[0m\u001b[0;34m=\u001b[0m\u001b[0;34m\"C\"\u001b[0m\u001b[0;34m,\u001b[0m\u001b[0;34m\u001b[0m\u001b[0;34m\u001b[0m\u001b[0m\n\u001b[1;32m   1346\u001b[0m                                    accept_large_sparse=solver != 'liblinear')\n",
      "\u001b[0;32m/opt/conda/lib/python3.8/site-packages/sklearn/base.py\u001b[0m in \u001b[0;36m_validate_data\u001b[0;34m(self, X, y, reset, validate_separately, **check_params)\u001b[0m\n\u001b[1;32m    431\u001b[0m                 \u001b[0my\u001b[0m \u001b[0;34m=\u001b[0m \u001b[0mcheck_array\u001b[0m\u001b[0;34m(\u001b[0m\u001b[0my\u001b[0m\u001b[0;34m,\u001b[0m \u001b[0;34m**\u001b[0m\u001b[0mcheck_y_params\u001b[0m\u001b[0;34m)\u001b[0m\u001b[0;34m\u001b[0m\u001b[0;34m\u001b[0m\u001b[0m\n\u001b[1;32m    432\u001b[0m             \u001b[0;32melse\u001b[0m\u001b[0;34m:\u001b[0m\u001b[0;34m\u001b[0m\u001b[0;34m\u001b[0m\u001b[0m\n\u001b[0;32m--> 433\u001b[0;31m                 \u001b[0mX\u001b[0m\u001b[0;34m,\u001b[0m \u001b[0my\u001b[0m \u001b[0;34m=\u001b[0m \u001b[0mcheck_X_y\u001b[0m\u001b[0;34m(\u001b[0m\u001b[0mX\u001b[0m\u001b[0;34m,\u001b[0m \u001b[0my\u001b[0m\u001b[0;34m,\u001b[0m \u001b[0;34m**\u001b[0m\u001b[0mcheck_params\u001b[0m\u001b[0;34m)\u001b[0m\u001b[0;34m\u001b[0m\u001b[0;34m\u001b[0m\u001b[0m\n\u001b[0m\u001b[1;32m    434\u001b[0m             \u001b[0mout\u001b[0m \u001b[0;34m=\u001b[0m \u001b[0mX\u001b[0m\u001b[0;34m,\u001b[0m \u001b[0my\u001b[0m\u001b[0;34m\u001b[0m\u001b[0;34m\u001b[0m\u001b[0m\n\u001b[1;32m    435\u001b[0m \u001b[0;34m\u001b[0m\u001b[0m\n",
      "\u001b[0;32m/opt/conda/lib/python3.8/site-packages/sklearn/utils/validation.py\u001b[0m in \u001b[0;36minner_f\u001b[0;34m(*args, **kwargs)\u001b[0m\n\u001b[1;32m     61\u001b[0m             \u001b[0mextra_args\u001b[0m \u001b[0;34m=\u001b[0m \u001b[0mlen\u001b[0m\u001b[0;34m(\u001b[0m\u001b[0margs\u001b[0m\u001b[0;34m)\u001b[0m \u001b[0;34m-\u001b[0m \u001b[0mlen\u001b[0m\u001b[0;34m(\u001b[0m\u001b[0mall_args\u001b[0m\u001b[0;34m)\u001b[0m\u001b[0;34m\u001b[0m\u001b[0;34m\u001b[0m\u001b[0m\n\u001b[1;32m     62\u001b[0m             \u001b[0;32mif\u001b[0m \u001b[0mextra_args\u001b[0m \u001b[0;34m<=\u001b[0m \u001b[0;36m0\u001b[0m\u001b[0;34m:\u001b[0m\u001b[0;34m\u001b[0m\u001b[0;34m\u001b[0m\u001b[0m\n\u001b[0;32m---> 63\u001b[0;31m                 \u001b[0;32mreturn\u001b[0m \u001b[0mf\u001b[0m\u001b[0;34m(\u001b[0m\u001b[0;34m*\u001b[0m\u001b[0margs\u001b[0m\u001b[0;34m,\u001b[0m \u001b[0;34m**\u001b[0m\u001b[0mkwargs\u001b[0m\u001b[0;34m)\u001b[0m\u001b[0;34m\u001b[0m\u001b[0;34m\u001b[0m\u001b[0m\n\u001b[0m\u001b[1;32m     64\u001b[0m \u001b[0;34m\u001b[0m\u001b[0m\n\u001b[1;32m     65\u001b[0m             \u001b[0;31m# extra_args > 0\u001b[0m\u001b[0;34m\u001b[0m\u001b[0;34m\u001b[0m\u001b[0;34m\u001b[0m\u001b[0m\n",
      "\u001b[0;32m/opt/conda/lib/python3.8/site-packages/sklearn/utils/validation.py\u001b[0m in \u001b[0;36mcheck_X_y\u001b[0;34m(X, y, accept_sparse, accept_large_sparse, dtype, order, copy, force_all_finite, ensure_2d, allow_nd, multi_output, ensure_min_samples, ensure_min_features, y_numeric, estimator)\u001b[0m\n\u001b[1;32m    812\u001b[0m         \u001b[0;32mraise\u001b[0m \u001b[0mValueError\u001b[0m\u001b[0;34m(\u001b[0m\u001b[0;34m\"y cannot be None\"\u001b[0m\u001b[0;34m)\u001b[0m\u001b[0;34m\u001b[0m\u001b[0;34m\u001b[0m\u001b[0m\n\u001b[1;32m    813\u001b[0m \u001b[0;34m\u001b[0m\u001b[0m\n\u001b[0;32m--> 814\u001b[0;31m     X = check_array(X, accept_sparse=accept_sparse,\n\u001b[0m\u001b[1;32m    815\u001b[0m                     \u001b[0maccept_large_sparse\u001b[0m\u001b[0;34m=\u001b[0m\u001b[0maccept_large_sparse\u001b[0m\u001b[0;34m,\u001b[0m\u001b[0;34m\u001b[0m\u001b[0;34m\u001b[0m\u001b[0m\n\u001b[1;32m    816\u001b[0m                     \u001b[0mdtype\u001b[0m\u001b[0;34m=\u001b[0m\u001b[0mdtype\u001b[0m\u001b[0;34m,\u001b[0m \u001b[0morder\u001b[0m\u001b[0;34m=\u001b[0m\u001b[0morder\u001b[0m\u001b[0;34m,\u001b[0m \u001b[0mcopy\u001b[0m\u001b[0;34m=\u001b[0m\u001b[0mcopy\u001b[0m\u001b[0;34m,\u001b[0m\u001b[0;34m\u001b[0m\u001b[0;34m\u001b[0m\u001b[0m\n",
      "\u001b[0;32m/opt/conda/lib/python3.8/site-packages/sklearn/utils/validation.py\u001b[0m in \u001b[0;36minner_f\u001b[0;34m(*args, **kwargs)\u001b[0m\n\u001b[1;32m     61\u001b[0m             \u001b[0mextra_args\u001b[0m \u001b[0;34m=\u001b[0m \u001b[0mlen\u001b[0m\u001b[0;34m(\u001b[0m\u001b[0margs\u001b[0m\u001b[0;34m)\u001b[0m \u001b[0;34m-\u001b[0m \u001b[0mlen\u001b[0m\u001b[0;34m(\u001b[0m\u001b[0mall_args\u001b[0m\u001b[0;34m)\u001b[0m\u001b[0;34m\u001b[0m\u001b[0;34m\u001b[0m\u001b[0m\n\u001b[1;32m     62\u001b[0m             \u001b[0;32mif\u001b[0m \u001b[0mextra_args\u001b[0m \u001b[0;34m<=\u001b[0m \u001b[0;36m0\u001b[0m\u001b[0;34m:\u001b[0m\u001b[0;34m\u001b[0m\u001b[0;34m\u001b[0m\u001b[0m\n\u001b[0;32m---> 63\u001b[0;31m                 \u001b[0;32mreturn\u001b[0m \u001b[0mf\u001b[0m\u001b[0;34m(\u001b[0m\u001b[0;34m*\u001b[0m\u001b[0margs\u001b[0m\u001b[0;34m,\u001b[0m \u001b[0;34m**\u001b[0m\u001b[0mkwargs\u001b[0m\u001b[0;34m)\u001b[0m\u001b[0;34m\u001b[0m\u001b[0;34m\u001b[0m\u001b[0m\n\u001b[0m\u001b[1;32m     64\u001b[0m \u001b[0;34m\u001b[0m\u001b[0m\n\u001b[1;32m     65\u001b[0m             \u001b[0;31m# extra_args > 0\u001b[0m\u001b[0;34m\u001b[0m\u001b[0;34m\u001b[0m\u001b[0;34m\u001b[0m\u001b[0m\n",
      "\u001b[0;32m/opt/conda/lib/python3.8/site-packages/sklearn/utils/validation.py\u001b[0m in \u001b[0;36mcheck_array\u001b[0;34m(array, accept_sparse, accept_large_sparse, dtype, order, copy, force_all_finite, ensure_2d, allow_nd, ensure_min_samples, ensure_min_features, estimator)\u001b[0m\n\u001b[1;32m    614\u001b[0m                     \u001b[0marray\u001b[0m \u001b[0;34m=\u001b[0m \u001b[0marray\u001b[0m\u001b[0;34m.\u001b[0m\u001b[0mastype\u001b[0m\u001b[0;34m(\u001b[0m\u001b[0mdtype\u001b[0m\u001b[0;34m,\u001b[0m \u001b[0mcasting\u001b[0m\u001b[0;34m=\u001b[0m\u001b[0;34m\"unsafe\"\u001b[0m\u001b[0;34m,\u001b[0m \u001b[0mcopy\u001b[0m\u001b[0;34m=\u001b[0m\u001b[0;32mFalse\u001b[0m\u001b[0;34m)\u001b[0m\u001b[0;34m\u001b[0m\u001b[0;34m\u001b[0m\u001b[0m\n\u001b[1;32m    615\u001b[0m                 \u001b[0;32melse\u001b[0m\u001b[0;34m:\u001b[0m\u001b[0;34m\u001b[0m\u001b[0;34m\u001b[0m\u001b[0m\n\u001b[0;32m--> 616\u001b[0;31m                     \u001b[0marray\u001b[0m \u001b[0;34m=\u001b[0m \u001b[0mnp\u001b[0m\u001b[0;34m.\u001b[0m\u001b[0masarray\u001b[0m\u001b[0;34m(\u001b[0m\u001b[0marray\u001b[0m\u001b[0;34m,\u001b[0m \u001b[0morder\u001b[0m\u001b[0;34m=\u001b[0m\u001b[0morder\u001b[0m\u001b[0;34m,\u001b[0m \u001b[0mdtype\u001b[0m\u001b[0;34m=\u001b[0m\u001b[0mdtype\u001b[0m\u001b[0;34m)\u001b[0m\u001b[0;34m\u001b[0m\u001b[0;34m\u001b[0m\u001b[0m\n\u001b[0m\u001b[1;32m    617\u001b[0m             \u001b[0;32mexcept\u001b[0m \u001b[0mComplexWarning\u001b[0m \u001b[0;32mas\u001b[0m \u001b[0mcomplex_warning\u001b[0m\u001b[0;34m:\u001b[0m\u001b[0;34m\u001b[0m\u001b[0;34m\u001b[0m\u001b[0m\n\u001b[1;32m    618\u001b[0m                 raise ValueError(\"Complex data not supported\\n\"\n",
      "\u001b[0;32m/opt/conda/lib/python3.8/site-packages/numpy/core/_asarray.py\u001b[0m in \u001b[0;36masarray\u001b[0;34m(a, dtype, order, like)\u001b[0m\n\u001b[1;32m    100\u001b[0m         \u001b[0;32mreturn\u001b[0m \u001b[0m_asarray_with_like\u001b[0m\u001b[0;34m(\u001b[0m\u001b[0ma\u001b[0m\u001b[0;34m,\u001b[0m \u001b[0mdtype\u001b[0m\u001b[0;34m=\u001b[0m\u001b[0mdtype\u001b[0m\u001b[0;34m,\u001b[0m \u001b[0morder\u001b[0m\u001b[0;34m=\u001b[0m\u001b[0morder\u001b[0m\u001b[0;34m,\u001b[0m \u001b[0mlike\u001b[0m\u001b[0;34m=\u001b[0m\u001b[0mlike\u001b[0m\u001b[0;34m)\u001b[0m\u001b[0;34m\u001b[0m\u001b[0;34m\u001b[0m\u001b[0m\n\u001b[1;32m    101\u001b[0m \u001b[0;34m\u001b[0m\u001b[0m\n\u001b[0;32m--> 102\u001b[0;31m     \u001b[0;32mreturn\u001b[0m \u001b[0marray\u001b[0m\u001b[0;34m(\u001b[0m\u001b[0ma\u001b[0m\u001b[0;34m,\u001b[0m \u001b[0mdtype\u001b[0m\u001b[0;34m,\u001b[0m \u001b[0mcopy\u001b[0m\u001b[0;34m=\u001b[0m\u001b[0;32mFalse\u001b[0m\u001b[0;34m,\u001b[0m \u001b[0morder\u001b[0m\u001b[0;34m=\u001b[0m\u001b[0morder\u001b[0m\u001b[0;34m)\u001b[0m\u001b[0;34m\u001b[0m\u001b[0;34m\u001b[0m\u001b[0m\n\u001b[0m\u001b[1;32m    103\u001b[0m \u001b[0;34m\u001b[0m\u001b[0m\n\u001b[1;32m    104\u001b[0m \u001b[0;34m\u001b[0m\u001b[0m\n",
      "\u001b[0;32m/opt/conda/lib/python3.8/site-packages/pandas/core/series.py\u001b[0m in \u001b[0;36m__array__\u001b[0;34m(self, dtype)\u001b[0m\n\u001b[1;32m    766\u001b[0m               dtype='datetime64[ns]')\n\u001b[1;32m    767\u001b[0m         \"\"\"\n\u001b[0;32m--> 768\u001b[0;31m         \u001b[0;32mreturn\u001b[0m \u001b[0mnp\u001b[0m\u001b[0;34m.\u001b[0m\u001b[0masarray\u001b[0m\u001b[0;34m(\u001b[0m\u001b[0mself\u001b[0m\u001b[0;34m.\u001b[0m\u001b[0marray\u001b[0m\u001b[0;34m,\u001b[0m \u001b[0mdtype\u001b[0m\u001b[0;34m)\u001b[0m\u001b[0;34m\u001b[0m\u001b[0;34m\u001b[0m\u001b[0m\n\u001b[0m\u001b[1;32m    769\u001b[0m \u001b[0;34m\u001b[0m\u001b[0m\n\u001b[1;32m    770\u001b[0m     \u001b[0;31m# ----------------------------------------------------------------------\u001b[0m\u001b[0;34m\u001b[0m\u001b[0;34m\u001b[0m\u001b[0;34m\u001b[0m\u001b[0m\n",
      "\u001b[0;32m/opt/conda/lib/python3.8/site-packages/numpy/core/_asarray.py\u001b[0m in \u001b[0;36masarray\u001b[0;34m(a, dtype, order, like)\u001b[0m\n\u001b[1;32m    100\u001b[0m         \u001b[0;32mreturn\u001b[0m \u001b[0m_asarray_with_like\u001b[0m\u001b[0;34m(\u001b[0m\u001b[0ma\u001b[0m\u001b[0;34m,\u001b[0m \u001b[0mdtype\u001b[0m\u001b[0;34m=\u001b[0m\u001b[0mdtype\u001b[0m\u001b[0;34m,\u001b[0m \u001b[0morder\u001b[0m\u001b[0;34m=\u001b[0m\u001b[0morder\u001b[0m\u001b[0;34m,\u001b[0m \u001b[0mlike\u001b[0m\u001b[0;34m=\u001b[0m\u001b[0mlike\u001b[0m\u001b[0;34m)\u001b[0m\u001b[0;34m\u001b[0m\u001b[0;34m\u001b[0m\u001b[0m\n\u001b[1;32m    101\u001b[0m \u001b[0;34m\u001b[0m\u001b[0m\n\u001b[0;32m--> 102\u001b[0;31m     \u001b[0;32mreturn\u001b[0m \u001b[0marray\u001b[0m\u001b[0;34m(\u001b[0m\u001b[0ma\u001b[0m\u001b[0;34m,\u001b[0m \u001b[0mdtype\u001b[0m\u001b[0;34m,\u001b[0m \u001b[0mcopy\u001b[0m\u001b[0;34m=\u001b[0m\u001b[0;32mFalse\u001b[0m\u001b[0;34m,\u001b[0m \u001b[0morder\u001b[0m\u001b[0;34m=\u001b[0m\u001b[0morder\u001b[0m\u001b[0;34m)\u001b[0m\u001b[0;34m\u001b[0m\u001b[0;34m\u001b[0m\u001b[0m\n\u001b[0m\u001b[1;32m    103\u001b[0m \u001b[0;34m\u001b[0m\u001b[0m\n\u001b[1;32m    104\u001b[0m \u001b[0;34m\u001b[0m\u001b[0m\n",
      "\u001b[0;32m/opt/conda/lib/python3.8/site-packages/pandas/core/arrays/numpy_.py\u001b[0m in \u001b[0;36m__array__\u001b[0;34m(self, dtype)\u001b[0m\n\u001b[1;32m    201\u001b[0m \u001b[0;34m\u001b[0m\u001b[0m\n\u001b[1;32m    202\u001b[0m     \u001b[0;32mdef\u001b[0m \u001b[0m__array__\u001b[0m\u001b[0;34m(\u001b[0m\u001b[0mself\u001b[0m\u001b[0;34m,\u001b[0m \u001b[0mdtype\u001b[0m\u001b[0;34m=\u001b[0m\u001b[0;32mNone\u001b[0m\u001b[0;34m)\u001b[0m \u001b[0;34m->\u001b[0m \u001b[0mnp\u001b[0m\u001b[0;34m.\u001b[0m\u001b[0mndarray\u001b[0m\u001b[0;34m:\u001b[0m\u001b[0;34m\u001b[0m\u001b[0;34m\u001b[0m\u001b[0m\n\u001b[0;32m--> 203\u001b[0;31m         \u001b[0;32mreturn\u001b[0m \u001b[0mnp\u001b[0m\u001b[0;34m.\u001b[0m\u001b[0masarray\u001b[0m\u001b[0;34m(\u001b[0m\u001b[0mself\u001b[0m\u001b[0;34m.\u001b[0m\u001b[0m_ndarray\u001b[0m\u001b[0;34m,\u001b[0m \u001b[0mdtype\u001b[0m\u001b[0;34m=\u001b[0m\u001b[0mdtype\u001b[0m\u001b[0;34m)\u001b[0m\u001b[0;34m\u001b[0m\u001b[0;34m\u001b[0m\u001b[0m\n\u001b[0m\u001b[1;32m    204\u001b[0m \u001b[0;34m\u001b[0m\u001b[0m\n\u001b[1;32m    205\u001b[0m     \u001b[0m_HANDLED_TYPES\u001b[0m \u001b[0;34m=\u001b[0m \u001b[0;34m(\u001b[0m\u001b[0mnp\u001b[0m\u001b[0;34m.\u001b[0m\u001b[0mndarray\u001b[0m\u001b[0;34m,\u001b[0m \u001b[0mnumbers\u001b[0m\u001b[0;34m.\u001b[0m\u001b[0mNumber\u001b[0m\u001b[0;34m)\u001b[0m\u001b[0;34m\u001b[0m\u001b[0;34m\u001b[0m\u001b[0m\n",
      "\u001b[0;32m/opt/conda/lib/python3.8/site-packages/numpy/core/_asarray.py\u001b[0m in \u001b[0;36masarray\u001b[0;34m(a, dtype, order, like)\u001b[0m\n\u001b[1;32m    100\u001b[0m         \u001b[0;32mreturn\u001b[0m \u001b[0m_asarray_with_like\u001b[0m\u001b[0;34m(\u001b[0m\u001b[0ma\u001b[0m\u001b[0;34m,\u001b[0m \u001b[0mdtype\u001b[0m\u001b[0;34m=\u001b[0m\u001b[0mdtype\u001b[0m\u001b[0;34m,\u001b[0m \u001b[0morder\u001b[0m\u001b[0;34m=\u001b[0m\u001b[0morder\u001b[0m\u001b[0;34m,\u001b[0m \u001b[0mlike\u001b[0m\u001b[0;34m=\u001b[0m\u001b[0mlike\u001b[0m\u001b[0;34m)\u001b[0m\u001b[0;34m\u001b[0m\u001b[0;34m\u001b[0m\u001b[0m\n\u001b[1;32m    101\u001b[0m \u001b[0;34m\u001b[0m\u001b[0m\n\u001b[0;32m--> 102\u001b[0;31m     \u001b[0;32mreturn\u001b[0m \u001b[0marray\u001b[0m\u001b[0;34m(\u001b[0m\u001b[0ma\u001b[0m\u001b[0;34m,\u001b[0m \u001b[0mdtype\u001b[0m\u001b[0;34m,\u001b[0m \u001b[0mcopy\u001b[0m\u001b[0;34m=\u001b[0m\u001b[0;32mFalse\u001b[0m\u001b[0;34m,\u001b[0m \u001b[0morder\u001b[0m\u001b[0;34m=\u001b[0m\u001b[0morder\u001b[0m\u001b[0;34m)\u001b[0m\u001b[0;34m\u001b[0m\u001b[0;34m\u001b[0m\u001b[0m\n\u001b[0m\u001b[1;32m    103\u001b[0m \u001b[0;34m\u001b[0m\u001b[0m\n\u001b[1;32m    104\u001b[0m \u001b[0;34m\u001b[0m\u001b[0m\n",
      "\u001b[0;31mValueError\u001b[0m: could not convert string to float: 'you know something , christmas is not about presents . \\nit\\'s about over-hyped holiday films with lots of merchandising and product tie-ins . \\nat least that would seem to be the message of \" the grinch , \" which has been advertised since last christmas and whose logo is currently plastered all over stores . \\nhollywood expects us to ignore this cynical greed as the movie scolds us about losing the true spirit of the season . \\nyou know the plot : there\\'s this evil furry green guy called the grinch ( jim carrey ) who lives on a mountain overlooking whoville . \\ndown below all the whos are preparing for their whobilation , but the grinch is determined to steal their christmas . \\nthe movie is , of course , a live-action version of the beloved children\\'s book , which was previously adapted into a 1966 tv special by looney tunes animator chuck jones . \\nit\\'s rare that a big budget hollywood release is shamed by a thirty-year-old half-hour cartoon , but that\\'s the case when jones\\' version is compared to ron howard\\'s . \\nthe tv grinch hit all the right notes : boris karloff\\'s soft , deep narration ; thurl ravenscroft singing \" mr . grinch \" ; max the dog weighed down by the gigantic antler tied to his head ; and the grinch\\'s wide , toothless grin . \\nby contrast , the movie hits one sour note after another . \\nfirst , there are the numerous bad choices that jeffrey price and peter seaman made in padding out the short book into a 105-minute movie . \\nyoung wide-eyed cindy lou who ( taylor momsen ) is depressed about the misplaced priorities of her parents ( bill irwin and molly shannon ) during the holiday season . \\nshe begins to sympathize with the grinch , who turns out to be surprisingly sympathetic . \\ncindy lou discovers that the grinch turned tearfully away from whoville in grammar school when he was publicly humiliated while expressing his love for the prettiest girl in the class , martha may whovier ( played as an adult by christine baranski ) . \\nare we expected to like the grinch , hate the whos , and want him to steal christmas ? \\nthe grinch isn\\'t even the villain here ; that role is filled by the corrupt mayor of whoville ( jeffrey tambor ) who was the grinch\\'s rival for martha\\'s affection . \\nnot only are the characters needlessly complex , but the once-simple plot becomes so convoluted that the actual theft of christmas seems like an afterthought . \\nthe casting choices aren\\'t any better than the screenwriting decisions . \\njim carrey seems woefully miscast . \\nwhile his face is so supple that the rubber make-up seems superfluous , carrey brings nothing else to the role . \\nhis accent keeps changing ; i assume he was shooting for karloff , but he ends up sounding like a weird slurry of richard nixon , sean connery , and cartman from \" south park . \" \\nnot knowing what else to do during his many scenes alone in the grinch\\'s home , carrey falls back on his stand-up comedy and clowns around ace ventura-style . \\nneedless to say , his wise-cracking antics don\\'t quite fit the character of the grinch , who is an embittered loner filled with hate . \\nlittle taylor momsen brings little to role of cindy lou except big eyes and a cute smile . \\nshe would have been fine if cindy lou was limited to her original purpose in the seuss story ( finding \" santa \" in her living room stealing the tree ) . \\nhowever , the expanded script makes cindy as important as the grinch , and momsen is not up to the challenge . \\nbottom line : when you\\'re stealing christmas ( movies ) , leave this one behind . \\n'"
     ]
    }
   ],
   "source": [
    "lr_model.fit(df['review_text'], df['gold-label'])"
   ]
  },
  {
   "cell_type": "markdown",
   "id": "f8c597af",
   "metadata": {},
   "source": [
    "**Question:** What happened?\n",
    "\n",
    "\n",
    "<details>\n",
    "<summary>Solution</summary>\n",
    "We need to convert the text to features\n",
    "</details>\n"
   ]
  },
  {
   "cell_type": "code",
   "execution_count": null,
   "id": "4b922b73",
   "metadata": {},
   "outputs": [],
   "source": [
    "df['review_text']"
   ]
  },
  {
   "cell_type": "code",
   "execution_count": 77,
   "id": "c6f4bfaf",
   "metadata": {},
   "outputs": [],
   "source": [
    "from sklearn.feature_extraction.text import CountVectorizer\n",
    "vectorizer = CountVectorizer(min_df=4)"
   ]
  },
  {
   "cell_type": "code",
   "execution_count": 78,
   "id": "aa92b6cb",
   "metadata": {},
   "outputs": [
    {
     "data": {
      "text/plain": [
       "<2000x15452 sparse matrix of type '<class 'numpy.int64'>'\n",
       "\twith 630855 stored elements in Compressed Sparse Row format>"
      ]
     },
     "execution_count": 78,
     "metadata": {},
     "output_type": "execute_result"
    }
   ],
   "source": [
    "X = vectorizer.fit_transform(df['review_text'])\n",
    "X"
   ]
  },
  {
   "cell_type": "markdown",
   "id": "4062a7bb",
   "metadata": {},
   "source": [
    "**Question:** What is 2000 and what is 15452?"
   ]
  },
  {
   "cell_type": "code",
   "execution_count": 79,
   "id": "8f9a049e",
   "metadata": {},
   "outputs": [
    {
     "data": {
      "text/plain": [
       "LogisticRegression(max_iter=10000.0)"
      ]
     },
     "execution_count": 79,
     "metadata": {},
     "output_type": "execute_result"
    }
   ],
   "source": [
    "lr_model.fit(X, df['gold-label'])"
   ]
  },
  {
   "cell_type": "code",
   "execution_count": 80,
   "id": "6bb1517e",
   "metadata": {},
   "outputs": [
    {
     "data": {
      "text/plain": [
       "918     False\n",
       "411     False\n",
       "765     False\n",
       "208     False\n",
       "1726     True\n",
       "        ...  \n",
       "1216     True\n",
       "209     False\n",
       "38      False\n",
       "184     False\n",
       "648     False\n",
       "Name: prediction, Length: 2000, dtype: bool"
      ]
     },
     "execution_count": 80,
     "metadata": {},
     "output_type": "execute_result"
    }
   ],
   "source": [
    "df['prediction'] = lr_model.predict(X)\n",
    "df['prediction']"
   ]
  },
  {
   "cell_type": "code",
   "execution_count": 81,
   "id": "60f7bed7",
   "metadata": {},
   "outputs": [
    {
     "data": {
      "text/plain": [
       "2000"
      ]
     },
     "execution_count": 81,
     "metadata": {},
     "output_type": "execute_result"
    }
   ],
   "source": [
    "sum(df['prediction'] == df['gold-label'])"
   ]
  },
  {
   "cell_type": "markdown",
   "id": "967d61f0",
   "metadata": {},
   "source": [
    "#### Finding coefficients"
   ]
  },
  {
   "cell_type": "code",
   "execution_count": 82,
   "id": "7a9f0448",
   "metadata": {},
   "outputs": [
    {
     "data": {
      "text/plain": [
       "array([[ 0.0146596 , -0.02227432,  0.03103228, ...,  0.16988816,\n",
       "        -0.0455234 , -0.032439  ]])"
      ]
     },
     "execution_count": 82,
     "metadata": {},
     "output_type": "execute_result"
    }
   ],
   "source": [
    "lr_model.coef_"
   ]
  },
  {
   "cell_type": "code",
   "execution_count": 83,
   "id": "7a8076b3",
   "metadata": {},
   "outputs": [
    {
     "data": {
      "text/plain": [
       "(1, 15452)"
      ]
     },
     "execution_count": 83,
     "metadata": {},
     "output_type": "execute_result"
    }
   ],
   "source": [
    "lr_model.coef_.shape"
   ]
  },
  {
   "cell_type": "code",
   "execution_count": null,
   "id": "802273d5",
   "metadata": {},
   "outputs": [],
   "source": [
    "len(vectorizer.get_feature_names())"
   ]
  },
  {
   "cell_type": "code",
   "execution_count": 84,
   "id": "89da6846",
   "metadata": {},
   "outputs": [
    {
     "data": {
      "text/plain": [
       "5673"
      ]
     },
     "execution_count": 84,
     "metadata": {},
     "output_type": "execute_result"
    }
   ],
   "source": [
    "lr_model.coef_.argmax()"
   ]
  },
  {
   "cell_type": "code",
   "execution_count": 86,
   "id": "51e31adc",
   "metadata": {},
   "outputs": [
    {
     "data": {
      "text/plain": [
       "0.5842190320719329"
      ]
     },
     "execution_count": 86,
     "metadata": {},
     "output_type": "execute_result"
    }
   ],
   "source": [
    "lr_model.coef_[0][lr_model.coef_.argmax()]"
   ]
  },
  {
   "cell_type": "code",
   "execution_count": 88,
   "id": "6f70e7b7",
   "metadata": {},
   "outputs": [
    {
     "data": {
      "text/plain": [
       "'fun'"
      ]
     },
     "execution_count": 88,
     "metadata": {},
     "output_type": "execute_result"
    }
   ],
   "source": [
    "vectorizer.get_feature_names()[lr_model.coef_.argmax()]"
   ]
  },
  {
   "cell_type": "code",
   "execution_count": 89,
   "id": "9261703a",
   "metadata": {},
   "outputs": [
    {
     "data": {
      "text/plain": [
       "1134"
      ]
     },
     "execution_count": 89,
     "metadata": {},
     "output_type": "execute_result"
    }
   ],
   "source": [
    "lr_model.coef_.argmin()"
   ]
  },
  {
   "cell_type": "code",
   "execution_count": 90,
   "id": "4596b24b",
   "metadata": {},
   "outputs": [
    {
     "data": {
      "text/plain": [
       "-0.8156166518651667"
      ]
     },
     "execution_count": 90,
     "metadata": {},
     "output_type": "execute_result"
    }
   ],
   "source": [
    "lr_model.coef_[0][lr_model.coef_.argmin()]"
   ]
  },
  {
   "cell_type": "code",
   "execution_count": 91,
   "id": "3cc4d26a",
   "metadata": {},
   "outputs": [
    {
     "data": {
      "text/plain": [
       "'bad'"
      ]
     },
     "execution_count": 91,
     "metadata": {},
     "output_type": "execute_result"
    }
   ],
   "source": [
    "vectorizer.get_feature_names()[lr_model.coef_.argmin()]"
   ]
  },
  {
   "cell_type": "markdown",
   "id": "ea6d64f5",
   "metadata": {},
   "source": [
    "#### Prediction"
   ]
  },
  {
   "cell_type": "code",
   "execution_count": 92,
   "id": "11c378ba",
   "metadata": {},
   "outputs": [
    {
     "data": {
      "text/html": [
       "<div>\n",
       "<style scoped>\n",
       "    .dataframe tbody tr th:only-of-type {\n",
       "        vertical-align: middle;\n",
       "    }\n",
       "\n",
       "    .dataframe tbody tr th {\n",
       "        vertical-align: top;\n",
       "    }\n",
       "\n",
       "    .dataframe thead th {\n",
       "        text-align: right;\n",
       "    }\n",
       "</style>\n",
       "<table border=\"1\" class=\"dataframe\">\n",
       "  <thead>\n",
       "    <tr style=\"text-align: right;\">\n",
       "      <th></th>\n",
       "      <th>file_name</th>\n",
       "      <th>gold-label</th>\n",
       "      <th>review_text</th>\n",
       "      <th>prediction</th>\n",
       "    </tr>\n",
       "  </thead>\n",
       "  <tbody>\n",
       "    <tr>\n",
       "      <th>918</th>\n",
       "      <td>neg/cv918_27080.txt</td>\n",
       "      <td>False</td>\n",
       "      <td>you know something , christmas is not about pr...</td>\n",
       "      <td>False</td>\n",
       "    </tr>\n",
       "    <tr>\n",
       "      <th>411</th>\n",
       "      <td>neg/cv411_16799.txt</td>\n",
       "      <td>False</td>\n",
       "      <td>confucius once said , \" governing a nation is ...</td>\n",
       "      <td>False</td>\n",
       "    </tr>\n",
       "    <tr>\n",
       "      <th>765</th>\n",
       "      <td>neg/cv765_20429.txt</td>\n",
       "      <td>False</td>\n",
       "      <td>it seems that i've stopped enjoying movies tha...</td>\n",
       "      <td>False</td>\n",
       "    </tr>\n",
       "    <tr>\n",
       "      <th>208</th>\n",
       "      <td>neg/cv208_9475.txt</td>\n",
       "      <td>False</td>\n",
       "      <td>one would think that david duchovny , star of ...</td>\n",
       "      <td>False</td>\n",
       "    </tr>\n",
       "    <tr>\n",
       "      <th>1726</th>\n",
       "      <td>pos/cv726_4719.txt</td>\n",
       "      <td>True</td>\n",
       "      <td>copyright 1996 graeme huggan carry on henry is...</td>\n",
       "      <td>True</td>\n",
       "    </tr>\n",
       "    <tr>\n",
       "      <th>...</th>\n",
       "      <td>...</td>\n",
       "      <td>...</td>\n",
       "      <td>...</td>\n",
       "      <td>...</td>\n",
       "    </tr>\n",
       "    <tr>\n",
       "      <th>1216</th>\n",
       "      <td>pos/cv216_18738.txt</td>\n",
       "      <td>True</td>\n",
       "      <td>bruce barth's mellow piano plays in the backgr...</td>\n",
       "      <td>True</td>\n",
       "    </tr>\n",
       "    <tr>\n",
       "      <th>209</th>\n",
       "      <td>neg/cv209_28973.txt</td>\n",
       "      <td>False</td>\n",
       "      <td>\" i would appreciate it if you didn't do that...</td>\n",
       "      <td>False</td>\n",
       "    </tr>\n",
       "    <tr>\n",
       "      <th>38</th>\n",
       "      <td>neg/cv038_9781.txt</td>\n",
       "      <td>False</td>\n",
       "      <td>capsule : where are you tonight , leni rienfen...</td>\n",
       "      <td>False</td>\n",
       "    </tr>\n",
       "    <tr>\n",
       "      <th>184</th>\n",
       "      <td>neg/cv184_26935.txt</td>\n",
       "      <td>False</td>\n",
       "      <td>it's always a bad sign when the core audience ...</td>\n",
       "      <td>False</td>\n",
       "    </tr>\n",
       "    <tr>\n",
       "      <th>648</th>\n",
       "      <td>neg/cv648_17277.txt</td>\n",
       "      <td>False</td>\n",
       "      <td>\" there's nothing new under the sun \" is a ph...</td>\n",
       "      <td>False</td>\n",
       "    </tr>\n",
       "  </tbody>\n",
       "</table>\n",
       "<p>2000 rows × 4 columns</p>\n",
       "</div>"
      ],
      "text/plain": [
       "                file_name  gold-label  \\\n",
       "918   neg/cv918_27080.txt       False   \n",
       "411   neg/cv411_16799.txt       False   \n",
       "765   neg/cv765_20429.txt       False   \n",
       "208    neg/cv208_9475.txt       False   \n",
       "1726   pos/cv726_4719.txt        True   \n",
       "...                   ...         ...   \n",
       "1216  pos/cv216_18738.txt        True   \n",
       "209   neg/cv209_28973.txt       False   \n",
       "38     neg/cv038_9781.txt       False   \n",
       "184   neg/cv184_26935.txt       False   \n",
       "648   neg/cv648_17277.txt       False   \n",
       "\n",
       "                                            review_text  prediction  \n",
       "918   you know something , christmas is not about pr...       False  \n",
       "411   confucius once said , \" governing a nation is ...       False  \n",
       "765   it seems that i've stopped enjoying movies tha...       False  \n",
       "208   one would think that david duchovny , star of ...       False  \n",
       "1726  copyright 1996 graeme huggan carry on henry is...        True  \n",
       "...                                                 ...         ...  \n",
       "1216  bruce barth's mellow piano plays in the backgr...        True  \n",
       "209    \" i would appreciate it if you didn't do that...       False  \n",
       "38    capsule : where are you tonight , leni rienfen...       False  \n",
       "184   it's always a bad sign when the core audience ...       False  \n",
       "648    \" there's nothing new under the sun \" is a ph...       False  \n",
       "\n",
       "[2000 rows x 4 columns]"
      ]
     },
     "execution_count": 92,
     "metadata": {},
     "output_type": "execute_result"
    }
   ],
   "source": [
    "df"
   ]
  },
  {
   "cell_type": "code",
   "execution_count": 93,
   "id": "6f8095ce",
   "metadata": {},
   "outputs": [
    {
     "data": {
      "text/html": [
       "<div>\n",
       "<style scoped>\n",
       "    .dataframe tbody tr th:only-of-type {\n",
       "        vertical-align: middle;\n",
       "    }\n",
       "\n",
       "    .dataframe tbody tr th {\n",
       "        vertical-align: top;\n",
       "    }\n",
       "\n",
       "    .dataframe thead th {\n",
       "        text-align: right;\n",
       "    }\n",
       "</style>\n",
       "<table border=\"1\" class=\"dataframe\">\n",
       "  <thead>\n",
       "    <tr style=\"text-align: right;\">\n",
       "      <th></th>\n",
       "      <th>file_name</th>\n",
       "      <th>gold-label</th>\n",
       "      <th>review_text</th>\n",
       "      <th>prediction</th>\n",
       "    </tr>\n",
       "  </thead>\n",
       "  <tbody>\n",
       "    <tr>\n",
       "      <th>164</th>\n",
       "      <td>neg/cv164_23451.txt</td>\n",
       "      <td>False</td>\n",
       "      <td>ever watch a very young child try and tell a j...</td>\n",
       "      <td>False</td>\n",
       "    </tr>\n",
       "    <tr>\n",
       "      <th>1760</th>\n",
       "      <td>pos/cv760_8597.txt</td>\n",
       "      <td>True</td>\n",
       "      <td>the \" italian hitchcock \" and acknowledged mas...</td>\n",
       "      <td>True</td>\n",
       "    </tr>\n",
       "    <tr>\n",
       "      <th>439</th>\n",
       "      <td>neg/cv439_17633.txt</td>\n",
       "      <td>False</td>\n",
       "      <td>you know the plot : a dimwit with a shady past...</td>\n",
       "      <td>False</td>\n",
       "    </tr>\n",
       "    <tr>\n",
       "      <th>1816</th>\n",
       "      <td>pos/cv816_13655.txt</td>\n",
       "      <td>True</td>\n",
       "      <td>in my review of there's something about mary ,...</td>\n",
       "      <td>True</td>\n",
       "    </tr>\n",
       "    <tr>\n",
       "      <th>1914</th>\n",
       "      <td>pos/cv914_28742.txt</td>\n",
       "      <td>True</td>\n",
       "      <td>susan granger's review of \" legally blonde \" (...</td>\n",
       "      <td>True</td>\n",
       "    </tr>\n",
       "    <tr>\n",
       "      <th>...</th>\n",
       "      <td>...</td>\n",
       "      <td>...</td>\n",
       "      <td>...</td>\n",
       "      <td>...</td>\n",
       "    </tr>\n",
       "    <tr>\n",
       "      <th>301</th>\n",
       "      <td>neg/cv301_13010.txt</td>\n",
       "      <td>False</td>\n",
       "      <td>carry on at your convenience is all about the ...</td>\n",
       "      <td>False</td>\n",
       "    </tr>\n",
       "    <tr>\n",
       "      <th>1938</th>\n",
       "      <td>pos/cv938_10220.txt</td>\n",
       "      <td>True</td>\n",
       "      <td>the idea at the center of the devil's advocate...</td>\n",
       "      <td>True</td>\n",
       "    </tr>\n",
       "    <tr>\n",
       "      <th>1154</th>\n",
       "      <td>pos/cv154_9328.txt</td>\n",
       "      <td>True</td>\n",
       "      <td>\" i've been told by several people , 'you're ...</td>\n",
       "      <td>True</td>\n",
       "    </tr>\n",
       "    <tr>\n",
       "      <th>1056</th>\n",
       "      <td>pos/cv056_13133.txt</td>\n",
       "      <td>True</td>\n",
       "      <td>the disney studios has its formula for annual ...</td>\n",
       "      <td>True</td>\n",
       "    </tr>\n",
       "    <tr>\n",
       "      <th>56</th>\n",
       "      <td>neg/cv056_14663.txt</td>\n",
       "      <td>False</td>\n",
       "      <td>unfortunately it doesn't get much more formula...</td>\n",
       "      <td>False</td>\n",
       "    </tr>\n",
       "  </tbody>\n",
       "</table>\n",
       "<p>2000 rows × 4 columns</p>\n",
       "</div>"
      ],
      "text/plain": [
       "                file_name  gold-label  \\\n",
       "164   neg/cv164_23451.txt       False   \n",
       "1760   pos/cv760_8597.txt        True   \n",
       "439   neg/cv439_17633.txt       False   \n",
       "1816  pos/cv816_13655.txt        True   \n",
       "1914  pos/cv914_28742.txt        True   \n",
       "...                   ...         ...   \n",
       "301   neg/cv301_13010.txt       False   \n",
       "1938  pos/cv938_10220.txt        True   \n",
       "1154   pos/cv154_9328.txt        True   \n",
       "1056  pos/cv056_13133.txt        True   \n",
       "56    neg/cv056_14663.txt       False   \n",
       "\n",
       "                                            review_text  prediction  \n",
       "164   ever watch a very young child try and tell a j...       False  \n",
       "1760  the \" italian hitchcock \" and acknowledged mas...        True  \n",
       "439   you know the plot : a dimwit with a shady past...       False  \n",
       "1816  in my review of there's something about mary ,...        True  \n",
       "1914  susan granger's review of \" legally blonde \" (...        True  \n",
       "...                                                 ...         ...  \n",
       "301   carry on at your convenience is all about the ...       False  \n",
       "1938  the idea at the center of the devil's advocate...        True  \n",
       "1154   \" i've been told by several people , 'you're ...        True  \n",
       "1056  the disney studios has its formula for annual ...        True  \n",
       "56    unfortunately it doesn't get much more formula...       False  \n",
       "\n",
       "[2000 rows x 4 columns]"
      ]
     },
     "execution_count": 93,
     "metadata": {},
     "output_type": "execute_result"
    }
   ],
   "source": [
    "df.sample(df.shape[0])"
   ]
  },
  {
   "cell_type": "code",
   "execution_count": 94,
   "id": "2245baf1",
   "metadata": {},
   "outputs": [
    {
     "data": {
      "text/plain": [
       "((1800, 4), (200, 4))"
      ]
     },
     "execution_count": 94,
     "metadata": {},
     "output_type": "execute_result"
    }
   ],
   "source": [
    "df = df.sample(df.shape[0])\n",
    "train_df = df.head(1800)\n",
    "test_df = df.tail(200)\n",
    "\n",
    "train_df.shape, test_df.shape"
   ]
  },
  {
   "cell_type": "code",
   "execution_count": 102,
   "id": "55826247",
   "metadata": {},
   "outputs": [
    {
     "data": {
      "text/plain": [
       "<1800x37980 sparse matrix of type '<class 'numpy.int64'>'\n",
       "\twith 600830 stored elements in Compressed Sparse Row format>"
      ]
     },
     "execution_count": 102,
     "metadata": {},
     "output_type": "execute_result"
    }
   ],
   "source": [
    "vectorizer = CountVectorizer()\n",
    "vectorizer.fit_transform(train_df['review_text'])"
   ]
  },
  {
   "cell_type": "markdown",
   "id": "cfcc8a47",
   "metadata": {},
   "source": [
    "*In class there was a bug here because I had `vectorizer.fit_transform(train_df)`*"
   ]
  },
  {
   "cell_type": "code",
   "execution_count": 103,
   "id": "f3737c18",
   "metadata": {},
   "outputs": [
    {
     "data": {
      "text/plain": [
       "<1800x37980 sparse matrix of type '<class 'numpy.int64'>'\n",
       "\twith 600830 stored elements in Compressed Sparse Row format>"
      ]
     },
     "execution_count": 103,
     "metadata": {},
     "output_type": "execute_result"
    }
   ],
   "source": [
    "X_train = vectorizer.fit_transform(train_df['review_text'])\n",
    "X_train"
   ]
  },
  {
   "cell_type": "code",
   "execution_count": 104,
   "id": "1f257c34",
   "metadata": {},
   "outputs": [
    {
     "data": {
      "text/plain": [
       "LogisticRegression(max_iter=10000.0)"
      ]
     },
     "execution_count": 104,
     "metadata": {},
     "output_type": "execute_result"
    }
   ],
   "source": [
    "lr_model = sklearn.linear_model.LogisticRegression(max_iter = 1e4)\n",
    "lr_model"
   ]
  },
  {
   "cell_type": "code",
   "execution_count": 105,
   "id": "b68951c1",
   "metadata": {
    "tags": []
   },
   "outputs": [
    {
     "data": {
      "text/plain": [
       "LogisticRegression(max_iter=10000.0)"
      ]
     },
     "execution_count": 105,
     "metadata": {},
     "output_type": "execute_result"
    }
   ],
   "source": [
    "lr_model.fit(X_train, train_df['gold-label'])"
   ]
  },
  {
   "cell_type": "markdown",
   "id": "a15f9773",
   "metadata": {},
   "source": [
    "Let's see how well the model performed by saving the predictions"
   ]
  },
  {
   "cell_type": "code",
   "execution_count": 107,
   "id": "c072bb9d",
   "metadata": {},
   "outputs": [
    {
     "data": {
      "text/plain": [
       "1.0"
      ]
     },
     "execution_count": 107,
     "metadata": {},
     "output_type": "execute_result"
    }
   ],
   "source": [
    "lr_model.score(X_train, train_df['gold-label'])"
   ]
  },
  {
   "cell_type": "markdown",
   "id": "9e2f4f93",
   "metadata": {},
   "source": [
    "The model perfectly fit the training data. Now let's see how well the model performs on the test set."
   ]
  },
  {
   "cell_type": "code",
   "execution_count": 109,
   "id": "ab88a3e2",
   "metadata": {},
   "outputs": [
    {
     "data": {
      "text/plain": [
       "0.855"
      ]
     },
     "execution_count": 109,
     "metadata": {},
     "output_type": "execute_result"
    }
   ],
   "source": [
    "lr_model.score(vectorizer.transform(test_df['review_text']), test_df['gold-label'])"
   ]
  },
  {
   "cell_type": "markdown",
   "id": "84a42fc2",
   "metadata": {},
   "source": [
    "We can see the model achieved an 85.5% accuracy on the held out test examples.\n",
    "When a model performs much better on the training set compared to the held out set, we refer to this as ***overfitting***. Here is a good, [brief post from Investopia](https://www.investopedia.com/terms/o/overfitting.asp) that explained overfitting."
   ]
  },
  {
   "cell_type": "markdown",
   "id": "e6f5765c",
   "metadata": {},
   "source": [
    "#### n-grams\n",
    "\n",
    "Look at ngram_range in https://scikit-learn.org/stable/modules/generated/sklearn.feature_extraction.text.CountVectorizer.html"
   ]
  },
  {
   "cell_type": "code",
   "execution_count": null,
   "id": "d0237ee4",
   "metadata": {},
   "outputs": [],
   "source": []
  },
  {
   "cell_type": "markdown",
   "id": "560b6be5",
   "metadata": {},
   "source": [
    "(back to slides)\n",
    "### More classifiers"
   ]
  },
  {
   "cell_type": "code",
   "execution_count": null,
   "id": "37afdff0",
   "metadata": {},
   "outputs": [],
   "source": [
    "from sklearn.neural_network import MLPClassifier\n",
    "from sklearn.svm import SVC\n",
    "from sklearn.tree import DecisionTreeClassifier\n",
    "\n",
    "clf = MLPClassifier(solver='lbfgs', alpha=1e-5,\n",
    "                     hidden_layer_sizes=(5, 2), random_state=1)\n",
    "clf = SVC(gamma=2, C=1)\n",
    "clf = DecisionTreeClassifier(max_depth=5)"
   ]
  },
  {
   "cell_type": "code",
   "execution_count": null,
   "id": "9341d468",
   "metadata": {},
   "outputs": [],
   "source": [
    "clf.fit()\n",
    "clf.predict()"
   ]
  }
 ],
 "metadata": {
  "kernelspec": {
   "display_name": "Python 3",
   "language": "python",
   "name": "python3"
  },
  "language_info": {
   "codemirror_mode": {
    "name": "ipython",
    "version": 3
   },
   "file_extension": ".py",
   "mimetype": "text/x-python",
   "name": "python",
   "nbconvert_exporter": "python",
   "pygments_lexer": "ipython3",
   "version": "3.8.8"
  }
 },
 "nbformat": 4,
 "nbformat_minor": 5
}
