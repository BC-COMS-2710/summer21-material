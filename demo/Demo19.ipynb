{
 "cells": [
  {
   "cell_type": "markdown",
   "id": "c99cfeee",
   "metadata": {},
   "source": [
    "# Demo 19"
   ]
  },
  {
   "cell_type": "code",
   "execution_count": null,
   "id": "fab7144f",
   "metadata": {},
   "outputs": [],
   "source": [
    "import pandas as pd\n",
    "import sklearn\n",
    "import numpy as np\n",
    "\n",
    "import matplotlib.pyplot as plt"
   ]
  },
  {
   "cell_type": "markdown",
   "id": "5770be08",
   "metadata": {},
   "source": [
    "## Dataset - Obits from HW02\n",
    "\n",
    "Now lets look at using kmeans to cluster documents"
   ]
  },
  {
   "cell_type": "markdown",
   "id": "f44e19cc",
   "metadata": {},
   "source": [
    "Load in data. This takes a little while."
   ]
  },
  {
   "cell_type": "code",
   "execution_count": null,
   "id": "46d0c24a",
   "metadata": {},
   "outputs": [],
   "source": [
    "df = pd.read_csv(\"data/tfidf_hw02.csv.gz\", compression=\"gzip\")\n",
    "df.shape"
   ]
  },
  {
   "cell_type": "code",
   "execution_count": null,
   "id": "d8576eff",
   "metadata": {},
   "outputs": [],
   "source": [
    "df.index"
   ]
  },
  {
   "cell_type": "code",
   "execution_count": null,
   "id": "b4a2d606",
   "metadata": {},
   "outputs": [],
   "source": [
    "df.head(5)"
   ]
  },
  {
   "cell_type": "code",
   "execution_count": null,
   "id": "a8089a78",
   "metadata": {},
   "outputs": [],
   "source": [
    "df.index = df['subject']\n",
    "df"
   ]
  },
  {
   "cell_type": "code",
   "execution_count": null,
   "id": "d77aa2ac",
   "metadata": {},
   "outputs": [],
   "source": [
    "df = df.drop(columns=['subject'])\n",
    "df"
   ]
  },
  {
   "cell_type": "markdown",
   "id": "8bca31de",
   "metadata": {},
   "source": [
    "Let's store the dataframe in a new numpy array called X"
   ]
  },
  {
   "cell_type": "code",
   "execution_count": null,
   "id": "b0f1691c",
   "metadata": {},
   "outputs": [],
   "source": [
    "X = df.to_numpy()\n",
    "X.shape"
   ]
  },
  {
   "cell_type": "code",
   "execution_count": null,
   "id": "3d367a00",
   "metadata": {},
   "outputs": [],
   "source": [
    "X[-1], df.index[-1]"
   ]
  },
  {
   "cell_type": "markdown",
   "id": "5dbb96fc",
   "metadata": {},
   "source": [
    "### Sparsity"
   ]
  },
  {
   "cell_type": "code",
   "execution_count": null,
   "id": "f33b8457",
   "metadata": {},
   "outputs": [],
   "source": [
    "\n",
    "\n",
    "values, counts = np.unique(X, return_counts=True)\n",
    "counts, values"
   ]
  },
  {
   "cell_type": "markdown",
   "id": "8367f4cf",
   "metadata": {},
   "source": [
    "Most common value is 0"
   ]
  },
  {
   "cell_type": "markdown",
   "id": "d1eefca3",
   "metadata": {},
   "source": [
    "### Size"
   ]
  },
  {
   "cell_type": "code",
   "execution_count": null,
   "id": "41c76bbc",
   "metadata": {},
   "outputs": [],
   "source": [
    "X.shape"
   ]
  },
  {
   "cell_type": "code",
   "execution_count": null,
   "id": "c1dc71dd",
   "metadata": {},
   "outputs": [],
   "source": [
    "!ls -lah data/tfidf_hw02.csv.gz"
   ]
  },
  {
   "cell_type": "markdown",
   "id": "930bfe59",
   "metadata": {},
   "source": [
    "2 MB doesnt sound like a lot, but thats because it is compressed and vocab is only 35K."
   ]
  },
  {
   "cell_type": "markdown",
   "id": "08cada08",
   "metadata": {},
   "source": [
    "(back to slides)\n",
    "## SVD"
   ]
  },
  {
   "cell_type": "markdown",
   "id": "a4848850",
   "metadata": {},
   "source": [
    "SVD in Sklearn: http://scikit-learn.org/stable/modules/generated/sklearn.decomposition.TruncatedSVD.html"
   ]
  },
  {
   "cell_type": "code",
   "execution_count": null,
   "id": "0f1e6892",
   "metadata": {},
   "outputs": [],
   "source": [
    "from sklearn.decomposition import TruncatedSVD"
   ]
  },
  {
   "cell_type": "code",
   "execution_count": null,
   "id": "ed07b719",
   "metadata": {},
   "outputs": [],
   "source": [
    "svd = TruncatedSVD(n_components=5, n_iter=7, random_state=42)\n",
    "svd"
   ]
  },
  {
   "cell_type": "markdown",
   "id": "dd050a83",
   "metadata": {},
   "source": [
    "**Question:** what sklearn method do you think we can use to *train* the model? Here, train means learn the decomped matrices.\n",
    "\n",
    "<details>\n",
    "<summary>Solution</summary>\n",
    "    .fit()\n",
    "</details>"
   ]
  },
  {
   "cell_type": "code",
   "execution_count": null,
   "id": "0b4d2bb1",
   "metadata": {},
   "outputs": [],
   "source": [
    "# skip"
   ]
  },
  {
   "cell_type": "code",
   "execution_count": null,
   "id": "7c8a7362",
   "metadata": {},
   "outputs": [],
   "source": []
  },
  {
   "cell_type": "code",
   "execution_count": null,
   "id": "213a5404",
   "metadata": {},
   "outputs": [],
   "source": []
  },
  {
   "cell_type": "code",
   "execution_count": null,
   "id": "2057ece2",
   "metadata": {},
   "outputs": [],
   "source": [
    "svd.fit(X)"
   ]
  },
  {
   "cell_type": "markdown",
   "id": "ac55726b",
   "metadata": {},
   "source": [
    "### Reduce Dimensions"
   ]
  },
  {
   "cell_type": "markdown",
   "id": "06d772b5",
   "metadata": {},
   "source": [
    "**Question:** what sklearn method do you think we can use to perform dimensionality reduction on X?\n",
    "<details>\n",
    "<summary>Solution</summary>\n",
    "    .transform()\n",
    "</details>"
   ]
  },
  {
   "cell_type": "code",
   "execution_count": null,
   "id": "1dd3d4c7",
   "metadata": {},
   "outputs": [],
   "source": [
    "# skip"
   ]
  },
  {
   "cell_type": "code",
   "execution_count": null,
   "id": "bf31b45c",
   "metadata": {},
   "outputs": [],
   "source": []
  },
  {
   "cell_type": "code",
   "execution_count": null,
   "id": "3c62be2c",
   "metadata": {},
   "outputs": [],
   "source": []
  },
  {
   "cell_type": "code",
   "execution_count": null,
   "id": "69d44654",
   "metadata": {},
   "outputs": [],
   "source": [
    "U = svd.transform(X)\n",
    "U.shape"
   ]
  },
  {
   "cell_type": "code",
   "execution_count": null,
   "id": "637e65cf",
   "metadata": {},
   "outputs": [],
   "source": [
    "U"
   ]
  },
  {
   "cell_type": "markdown",
   "id": "9561caf9",
   "metadata": {},
   "source": [
    "#### Sparsity"
   ]
  },
  {
   "cell_type": "code",
   "execution_count": null,
   "id": "6e0e9cf0",
   "metadata": {},
   "outputs": [],
   "source": [
    "values, counts = np.unique(U, return_counts=True)\n",
    "counts, values"
   ]
  },
  {
   "cell_type": "markdown",
   "id": "b47d741d",
   "metadata": {},
   "source": [
    "No more 0's"
   ]
  },
  {
   "cell_type": "markdown",
   "id": "ab585356",
   "metadata": {},
   "source": [
    "#### Size"
   ]
  },
  {
   "cell_type": "code",
   "execution_count": null,
   "id": "aa1e6758",
   "metadata": {},
   "outputs": [],
   "source": [
    "U.shape"
   ]
  },
  {
   "cell_type": "code",
   "execution_count": null,
   "id": "e47ca08e",
   "metadata": {},
   "outputs": [],
   "source": [
    "pd.DataFrame(U).to_csv(\"data/reduced_tfidf.csv\")"
   ]
  },
  {
   "cell_type": "code",
   "execution_count": null,
   "id": "0f434e0c",
   "metadata": {},
   "outputs": [],
   "source": [
    "!ls -lah data/reduced_tfidf.csv"
   ]
  },
  {
   "cell_type": "markdown",
   "id": "23687c4b",
   "metadata": {},
   "source": [
    "**Question:** Is this file much smaller than the compressed tf-idf version?"
   ]
  },
  {
   "cell_type": "code",
   "execution_count": null,
   "id": "0953e228",
   "metadata": {},
   "outputs": [],
   "source": []
  },
  {
   "cell_type": "markdown",
   "id": "5d59710f",
   "metadata": {},
   "source": [
    "### Singular Values\n",
    "\n",
    "Remember $s_{1} > s_{2} > \\ldots > s_{n} $"
   ]
  },
  {
   "cell_type": "code",
   "execution_count": null,
   "id": "65d0d5d3",
   "metadata": {},
   "outputs": [],
   "source": [
    "S = svd.singular_values_\n",
    "S"
   ]
  },
  {
   "cell_type": "markdown",
   "id": "0e898757",
   "metadata": {},
   "source": [
    "### Components\n",
    "\n",
    "***V***-matrix ndarray of shape (n_components, n_features)"
   ]
  },
  {
   "cell_type": "code",
   "execution_count": null,
   "id": "575cbeb5",
   "metadata": {},
   "outputs": [],
   "source": []
  },
  {
   "cell_type": "code",
   "execution_count": null,
   "id": "639f9341",
   "metadata": {},
   "outputs": [],
   "source": [
    "V = svd.components_\n",
    "V"
   ]
  },
  {
   "cell_type": "code",
   "execution_count": null,
   "id": "564481fe",
   "metadata": {},
   "outputs": [],
   "source": [
    "V.shape"
   ]
  },
  {
   "cell_type": "markdown",
   "id": "1a5ef9db",
   "metadata": {},
   "source": [
    "For the first component, let's figure out the features that have the highest values"
   ]
  },
  {
   "cell_type": "code",
   "execution_count": null,
   "id": "dae78da5",
   "metadata": {},
   "outputs": [],
   "source": [
    "V_[0].argsort()"
   ]
  },
  {
   "cell_type": "code",
   "execution_count": null,
   "id": "a429a57b",
   "metadata": {},
   "outputs": [],
   "source": [
    "V[0].argsort()[:5]"
   ]
  },
  {
   "cell_type": "code",
   "execution_count": null,
   "id": "4f39f19f",
   "metadata": {},
   "outputs": [],
   "source": [
    "df.columns[[V.argsort()[:5]]]"
   ]
  },
  {
   "cell_type": "markdown",
   "id": "a63ea809",
   "metadata": {},
   "source": [
    "Now let's find the features that are most indicative of each components"
   ]
  },
  {
   "cell_type": "code",
   "execution_count": null,
   "id": "917ee7eb",
   "metadata": {},
   "outputs": [],
   "source": [
    "for k, row in enumerate(V):\n",
    "    print(f\"Components {k}\\t\", df.columns[[row.argsort()[:5]]])"
   ]
  },
  {
   "cell_type": "code",
   "execution_count": null,
   "id": "eb3f37b7",
   "metadata": {},
   "outputs": [],
   "source": []
  },
  {
   "cell_type": "markdown",
   "id": "5523f67c",
   "metadata": {},
   "source": [
    "## Plotting documents"
   ]
  },
  {
   "cell_type": "code",
   "execution_count": null,
   "id": "0c4957d4",
   "metadata": {},
   "outputs": [],
   "source": [
    "svd = TruncatedSVD(n_components=2, n_iter=7, random_state=42)\n",
    "U = svd.fit_transform(df)"
   ]
  },
  {
   "cell_type": "code",
   "execution_count": null,
   "id": "3b0a2f25",
   "metadata": {},
   "outputs": [],
   "source": [
    "new_df = pd.DataFrame(U)\n",
    "new_df"
   ]
  },
  {
   "cell_type": "code",
   "execution_count": null,
   "id": "52f36b3c",
   "metadata": {},
   "outputs": [],
   "source": [
    "new_df.index = df.index\n",
    "new_df"
   ]
  },
  {
   "cell_type": "code",
   "execution_count": null,
   "id": "a0a68713",
   "metadata": {},
   "outputs": [],
   "source": [
    "new_df.plot.scatter(x=1, y=0)"
   ]
  },
  {
   "cell_type": "markdown",
   "id": "d5ae8508",
   "metadata": {},
   "source": [
    "### Train Kmeans model\n",
    "\n",
    "**Question:** What function do we think we can use to train the model?\n",
    "\n",
    "<details>\n",
    "<summary>Hint</summary>\n",
    "    What function did we use yesterday to train the Naive Bayes and Logistic Regression classifiers\n",
    "</details>\n",
    "\n",
    "<details>\n",
    "<summary>Solution</summary>\n",
    "    .fit()\n",
    "</details>"
   ]
  },
  {
   "cell_type": "code",
   "execution_count": null,
   "id": "62f69210",
   "metadata": {},
   "outputs": [],
   "source": [
    "from sklearn.cluster import KMeans\n",
    "\n",
    "kmeans_model = km = KMeans(n_clusters=5)\n",
    "kmeans_model.fit(X)"
   ]
  },
  {
   "cell_type": "code",
   "execution_count": null,
   "id": "eda8970d",
   "metadata": {},
   "outputs": [],
   "source": [
    "kmeans_model.labels_"
   ]
  },
  {
   "cell_type": "code",
   "execution_count": null,
   "id": "b3de64b2",
   "metadata": {},
   "outputs": [],
   "source": [
    "new_df['cluster'] = kmeans_model.labels_\n",
    "new_df"
   ]
  },
  {
   "cell_type": "code",
   "execution_count": null,
   "id": "73dd7933",
   "metadata": {},
   "outputs": [],
   "source": [
    "new_df.plot.scatter(x=1, y=0, c='cluster')"
   ]
  },
  {
   "cell_type": "code",
   "execution_count": null,
   "id": "b4152673",
   "metadata": {},
   "outputs": [],
   "source": [
    "new_df.plot.scatter(x=1, y=0, c='cluster', cmap='winter')"
   ]
  },
  {
   "cell_type": "markdown",
   "id": "cf6416e1",
   "metadata": {},
   "source": [
    "#### ColorMaps in MatplotLib\n",
    "\n",
    "https://matplotlib.org/stable/tutorials/colors/colormaps.html"
   ]
  },
  {
   "cell_type": "code",
   "execution_count": null,
   "id": "eb49896a",
   "metadata": {},
   "outputs": [],
   "source": [
    "new_df.plot.scatter(x=1, y=0, c='cluster', cmap='tab20')"
   ]
  },
  {
   "cell_type": "code",
   "execution_count": null,
   "id": "0cca2a88",
   "metadata": {},
   "outputs": [],
   "source": [
    "new_df.plot.scatter(x=1, y=0, c='cluster', cmap='winter')"
   ]
  },
  {
   "cell_type": "markdown",
   "id": "3411575f",
   "metadata": {},
   "source": [
    "## More dimensionality reduction techniques in sklearn\n",
    "\n",
    "https://scikit-learn.org/stable/modules/classes.html#module-sklearn.decomposition\n",
    "\n",
    "The textbook *(text analysis in python for social scientists)* discusses more dimensionality reduction methods (e.g NMF Nonnegative Matrix Factorization, T-SNE) "
   ]
  },
  {
   "cell_type": "markdown",
   "id": "a988ef91",
   "metadata": {},
   "source": [
    "(back to slides)\n",
    "\n",
    "### TSNE"
   ]
  },
  {
   "cell_type": "code",
   "execution_count": null,
   "id": "9720b302",
   "metadata": {},
   "outputs": [],
   "source": [
    "from sklearn.manifold import TSNE\n",
    "tsne_transformed = TSNE(n_components=2).fit_transform(X)\n",
    "tsne_transformed.shape"
   ]
  },
  {
   "cell_type": "code",
   "execution_count": null,
   "id": "723d3c18",
   "metadata": {},
   "outputs": [],
   "source": [
    "tsne_df = pd.DataFrame(tsne_transformed)\n",
    "tsne_df['cluster'] = kmeans_model.labels_"
   ]
  },
  {
   "cell_type": "code",
   "execution_count": null,
   "id": "2a84ac47",
   "metadata": {},
   "outputs": [],
   "source": [
    "tsne_df.plot.scatter(x=1, y=0, c='cluster', cmap='winter')"
   ]
  }
 ],
 "metadata": {
  "kernelspec": {
   "display_name": "Python 3",
   "language": "python",
   "name": "python3"
  },
  "language_info": {
   "codemirror_mode": {
    "name": "ipython",
    "version": 3
   },
   "file_extension": ".py",
   "mimetype": "text/x-python",
   "name": "python",
   "nbconvert_exporter": "python",
   "pygments_lexer": "ipython3",
   "version": "3.8.8"
  }
 },
 "nbformat": 4,
 "nbformat_minor": 5
}
