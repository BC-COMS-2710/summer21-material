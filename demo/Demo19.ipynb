{
 "cells": [
  {
   "cell_type": "markdown",
   "id": "b803ee06",
   "metadata": {},
   "source": [
    "# Demo 19"
   ]
  },
  {
   "cell_type": "code",
   "execution_count": 1,
   "id": "b292c7ed",
   "metadata": {},
   "outputs": [],
   "source": [
    "import pandas as pd\n",
    "import sklearn\n",
    "import numpy as np\n",
    "\n",
    "import matplotlib.pyplot as plt"
   ]
  },
  {
   "cell_type": "markdown",
   "id": "ebc3eb4d",
   "metadata": {},
   "source": [
    "## Dataset - Obits from HW02\n",
    "\n",
    "Now lets look at using kmeans to cluster documents"
   ]
  },
  {
   "cell_type": "markdown",
   "id": "f5c8a9c9",
   "metadata": {},
   "source": [
    "Load in data. This takes a little while."
   ]
  },
  {
   "cell_type": "code",
   "execution_count": 2,
   "id": "a19b2509",
   "metadata": {},
   "outputs": [
    {
     "data": {
      "text/plain": [
       "(364, 35049)"
      ]
     },
     "execution_count": 2,
     "metadata": {},
     "output_type": "execute_result"
    }
   ],
   "source": [
    "df = pd.read_csv(\"data/tfidf_hw02.csv.gz\", compression=\"gzip\")\n",
    "df.shape"
   ]
  },
  {
   "cell_type": "code",
   "execution_count": 3,
   "id": "bb6607e0",
   "metadata": {},
   "outputs": [
    {
     "data": {
      "text/plain": [
       "RangeIndex(start=0, stop=364, step=1)"
      ]
     },
     "execution_count": 3,
     "metadata": {},
     "output_type": "execute_result"
    }
   ],
   "source": [
    "df.index"
   ]
  },
  {
   "cell_type": "code",
   "execution_count": 4,
   "id": "9c52cac6",
   "metadata": {},
   "outputs": [
    {
     "data": {
      "text/html": [
       "<div>\n",
       "<style scoped>\n",
       "    .dataframe tbody tr th:only-of-type {\n",
       "        vertical-align: middle;\n",
       "    }\n",
       "\n",
       "    .dataframe tbody tr th {\n",
       "        vertical-align: top;\n",
       "    }\n",
       "\n",
       "    .dataframe thead th {\n",
       "        text-align: right;\n",
       "    }\n",
       "</style>\n",
       "<table border=\"1\" class=\"dataframe\">\n",
       "  <thead>\n",
       "    <tr style=\"text-align: right;\">\n",
       "      <th></th>\n",
       "      <th>subject</th>\n",
       "      <th>aachen</th>\n",
       "      <th>aahs</th>\n",
       "      <th>aarau</th>\n",
       "      <th>aaron</th>\n",
       "      <th>aaugh</th>\n",
       "      <th>ab</th>\n",
       "      <th>ababa</th>\n",
       "      <th>aback</th>\n",
       "      <th>abaco</th>\n",
       "      <th>...</th>\n",
       "      <th>zrathustra</th>\n",
       "      <th>zuber</th>\n",
       "      <th>zuker</th>\n",
       "      <th>zukor</th>\n",
       "      <th>zukors</th>\n",
       "      <th>zula</th>\n",
       "      <th>zululand</th>\n",
       "      <th>zurich</th>\n",
       "      <th>zvai</th>\n",
       "      <th>zwilich</th>\n",
       "    </tr>\n",
       "  </thead>\n",
       "  <tbody>\n",
       "    <tr>\n",
       "      <th>0</th>\n",
       "      <td>Randolph</td>\n",
       "      <td>0.0</td>\n",
       "      <td>0.0</td>\n",
       "      <td>0.0</td>\n",
       "      <td>0.000000</td>\n",
       "      <td>0.0</td>\n",
       "      <td>0.0</td>\n",
       "      <td>0.0</td>\n",
       "      <td>0.0</td>\n",
       "      <td>0.0</td>\n",
       "      <td>...</td>\n",
       "      <td>0.0</td>\n",
       "      <td>0.0</td>\n",
       "      <td>0.0</td>\n",
       "      <td>0.0</td>\n",
       "      <td>0.0</td>\n",
       "      <td>0.0</td>\n",
       "      <td>0.0</td>\n",
       "      <td>0.0</td>\n",
       "      <td>0.0</td>\n",
       "      <td>0.0</td>\n",
       "    </tr>\n",
       "    <tr>\n",
       "      <th>1</th>\n",
       "      <td>Basie</td>\n",
       "      <td>0.0</td>\n",
       "      <td>0.0</td>\n",
       "      <td>0.0</td>\n",
       "      <td>0.012317</td>\n",
       "      <td>0.0</td>\n",
       "      <td>0.0</td>\n",
       "      <td>0.0</td>\n",
       "      <td>0.0</td>\n",
       "      <td>0.0</td>\n",
       "      <td>...</td>\n",
       "      <td>0.0</td>\n",
       "      <td>0.0</td>\n",
       "      <td>0.0</td>\n",
       "      <td>0.0</td>\n",
       "      <td>0.0</td>\n",
       "      <td>0.0</td>\n",
       "      <td>0.0</td>\n",
       "      <td>0.0</td>\n",
       "      <td>0.0</td>\n",
       "      <td>0.0</td>\n",
       "    </tr>\n",
       "    <tr>\n",
       "      <th>2</th>\n",
       "      <td>Swope</td>\n",
       "      <td>0.0</td>\n",
       "      <td>0.0</td>\n",
       "      <td>0.0</td>\n",
       "      <td>0.000000</td>\n",
       "      <td>0.0</td>\n",
       "      <td>0.0</td>\n",
       "      <td>0.0</td>\n",
       "      <td>0.0</td>\n",
       "      <td>0.0</td>\n",
       "      <td>...</td>\n",
       "      <td>0.0</td>\n",
       "      <td>0.0</td>\n",
       "      <td>0.0</td>\n",
       "      <td>0.0</td>\n",
       "      <td>0.0</td>\n",
       "      <td>0.0</td>\n",
       "      <td>0.0</td>\n",
       "      <td>0.0</td>\n",
       "      <td>0.0</td>\n",
       "      <td>0.0</td>\n",
       "    </tr>\n",
       "    <tr>\n",
       "      <th>3</th>\n",
       "      <td>Ulanova</td>\n",
       "      <td>0.0</td>\n",
       "      <td>0.0</td>\n",
       "      <td>0.0</td>\n",
       "      <td>0.000000</td>\n",
       "      <td>0.0</td>\n",
       "      <td>0.0</td>\n",
       "      <td>0.0</td>\n",
       "      <td>0.0</td>\n",
       "      <td>0.0</td>\n",
       "      <td>...</td>\n",
       "      <td>0.0</td>\n",
       "      <td>0.0</td>\n",
       "      <td>0.0</td>\n",
       "      <td>0.0</td>\n",
       "      <td>0.0</td>\n",
       "      <td>0.0</td>\n",
       "      <td>0.0</td>\n",
       "      <td>0.0</td>\n",
       "      <td>0.0</td>\n",
       "      <td>0.0</td>\n",
       "    </tr>\n",
       "    <tr>\n",
       "      <th>4</th>\n",
       "      <td>Sousa</td>\n",
       "      <td>0.0</td>\n",
       "      <td>0.0</td>\n",
       "      <td>0.0</td>\n",
       "      <td>0.000000</td>\n",
       "      <td>0.0</td>\n",
       "      <td>0.0</td>\n",
       "      <td>0.0</td>\n",
       "      <td>0.0</td>\n",
       "      <td>0.0</td>\n",
       "      <td>...</td>\n",
       "      <td>0.0</td>\n",
       "      <td>0.0</td>\n",
       "      <td>0.0</td>\n",
       "      <td>0.0</td>\n",
       "      <td>0.0</td>\n",
       "      <td>0.0</td>\n",
       "      <td>0.0</td>\n",
       "      <td>0.0</td>\n",
       "      <td>0.0</td>\n",
       "      <td>0.0</td>\n",
       "    </tr>\n",
       "  </tbody>\n",
       "</table>\n",
       "<p>5 rows × 35049 columns</p>\n",
       "</div>"
      ],
      "text/plain": [
       "    subject  aachen  aahs  aarau     aaron  aaugh   ab  ababa  aback  abaco  \\\n",
       "0  Randolph     0.0   0.0    0.0  0.000000    0.0  0.0    0.0    0.0    0.0   \n",
       "1     Basie     0.0   0.0    0.0  0.012317    0.0  0.0    0.0    0.0    0.0   \n",
       "2     Swope     0.0   0.0    0.0  0.000000    0.0  0.0    0.0    0.0    0.0   \n",
       "3   Ulanova     0.0   0.0    0.0  0.000000    0.0  0.0    0.0    0.0    0.0   \n",
       "4     Sousa     0.0   0.0    0.0  0.000000    0.0  0.0    0.0    0.0    0.0   \n",
       "\n",
       "   ...  zrathustra  zuber  zuker  zukor  zukors  zula  zululand  zurich  zvai  \\\n",
       "0  ...         0.0    0.0    0.0    0.0     0.0   0.0       0.0     0.0   0.0   \n",
       "1  ...         0.0    0.0    0.0    0.0     0.0   0.0       0.0     0.0   0.0   \n",
       "2  ...         0.0    0.0    0.0    0.0     0.0   0.0       0.0     0.0   0.0   \n",
       "3  ...         0.0    0.0    0.0    0.0     0.0   0.0       0.0     0.0   0.0   \n",
       "4  ...         0.0    0.0    0.0    0.0     0.0   0.0       0.0     0.0   0.0   \n",
       "\n",
       "   zwilich  \n",
       "0      0.0  \n",
       "1      0.0  \n",
       "2      0.0  \n",
       "3      0.0  \n",
       "4      0.0  \n",
       "\n",
       "[5 rows x 35049 columns]"
      ]
     },
     "execution_count": 4,
     "metadata": {},
     "output_type": "execute_result"
    }
   ],
   "source": [
    "df.head(5)"
   ]
  },
  {
   "cell_type": "code",
   "execution_count": 5,
   "id": "f29efe7c",
   "metadata": {},
   "outputs": [
    {
     "data": {
      "text/html": [
       "<div>\n",
       "<style scoped>\n",
       "    .dataframe tbody tr th:only-of-type {\n",
       "        vertical-align: middle;\n",
       "    }\n",
       "\n",
       "    .dataframe tbody tr th {\n",
       "        vertical-align: top;\n",
       "    }\n",
       "\n",
       "    .dataframe thead th {\n",
       "        text-align: right;\n",
       "    }\n",
       "</style>\n",
       "<table border=\"1\" class=\"dataframe\">\n",
       "  <thead>\n",
       "    <tr style=\"text-align: right;\">\n",
       "      <th></th>\n",
       "      <th>subject</th>\n",
       "      <th>aachen</th>\n",
       "      <th>aahs</th>\n",
       "      <th>aarau</th>\n",
       "      <th>aaron</th>\n",
       "      <th>aaugh</th>\n",
       "      <th>ab</th>\n",
       "      <th>ababa</th>\n",
       "      <th>aback</th>\n",
       "      <th>abaco</th>\n",
       "      <th>...</th>\n",
       "      <th>zrathustra</th>\n",
       "      <th>zuber</th>\n",
       "      <th>zuker</th>\n",
       "      <th>zukor</th>\n",
       "      <th>zukors</th>\n",
       "      <th>zula</th>\n",
       "      <th>zululand</th>\n",
       "      <th>zurich</th>\n",
       "      <th>zvai</th>\n",
       "      <th>zwilich</th>\n",
       "    </tr>\n",
       "    <tr>\n",
       "      <th>subject</th>\n",
       "      <th></th>\n",
       "      <th></th>\n",
       "      <th></th>\n",
       "      <th></th>\n",
       "      <th></th>\n",
       "      <th></th>\n",
       "      <th></th>\n",
       "      <th></th>\n",
       "      <th></th>\n",
       "      <th></th>\n",
       "      <th></th>\n",
       "      <th></th>\n",
       "      <th></th>\n",
       "      <th></th>\n",
       "      <th></th>\n",
       "      <th></th>\n",
       "      <th></th>\n",
       "      <th></th>\n",
       "      <th></th>\n",
       "      <th></th>\n",
       "      <th></th>\n",
       "    </tr>\n",
       "  </thead>\n",
       "  <tbody>\n",
       "    <tr>\n",
       "      <th>Randolph</th>\n",
       "      <td>Randolph</td>\n",
       "      <td>0.0</td>\n",
       "      <td>0.0</td>\n",
       "      <td>0.0</td>\n",
       "      <td>0.000000</td>\n",
       "      <td>0.0</td>\n",
       "      <td>0.0</td>\n",
       "      <td>0.0</td>\n",
       "      <td>0.000000</td>\n",
       "      <td>0.0</td>\n",
       "      <td>...</td>\n",
       "      <td>0.0</td>\n",
       "      <td>0.0</td>\n",
       "      <td>0.0</td>\n",
       "      <td>0.0</td>\n",
       "      <td>0.0</td>\n",
       "      <td>0.0</td>\n",
       "      <td>0.0</td>\n",
       "      <td>0.0</td>\n",
       "      <td>0.0</td>\n",
       "      <td>0.0</td>\n",
       "    </tr>\n",
       "    <tr>\n",
       "      <th>Basie</th>\n",
       "      <td>Basie</td>\n",
       "      <td>0.0</td>\n",
       "      <td>0.0</td>\n",
       "      <td>0.0</td>\n",
       "      <td>0.012317</td>\n",
       "      <td>0.0</td>\n",
       "      <td>0.0</td>\n",
       "      <td>0.0</td>\n",
       "      <td>0.000000</td>\n",
       "      <td>0.0</td>\n",
       "      <td>...</td>\n",
       "      <td>0.0</td>\n",
       "      <td>0.0</td>\n",
       "      <td>0.0</td>\n",
       "      <td>0.0</td>\n",
       "      <td>0.0</td>\n",
       "      <td>0.0</td>\n",
       "      <td>0.0</td>\n",
       "      <td>0.0</td>\n",
       "      <td>0.0</td>\n",
       "      <td>0.0</td>\n",
       "    </tr>\n",
       "    <tr>\n",
       "      <th>Swope</th>\n",
       "      <td>Swope</td>\n",
       "      <td>0.0</td>\n",
       "      <td>0.0</td>\n",
       "      <td>0.0</td>\n",
       "      <td>0.000000</td>\n",
       "      <td>0.0</td>\n",
       "      <td>0.0</td>\n",
       "      <td>0.0</td>\n",
       "      <td>0.000000</td>\n",
       "      <td>0.0</td>\n",
       "      <td>...</td>\n",
       "      <td>0.0</td>\n",
       "      <td>0.0</td>\n",
       "      <td>0.0</td>\n",
       "      <td>0.0</td>\n",
       "      <td>0.0</td>\n",
       "      <td>0.0</td>\n",
       "      <td>0.0</td>\n",
       "      <td>0.0</td>\n",
       "      <td>0.0</td>\n",
       "      <td>0.0</td>\n",
       "    </tr>\n",
       "    <tr>\n",
       "      <th>Ulanova</th>\n",
       "      <td>Ulanova</td>\n",
       "      <td>0.0</td>\n",
       "      <td>0.0</td>\n",
       "      <td>0.0</td>\n",
       "      <td>0.000000</td>\n",
       "      <td>0.0</td>\n",
       "      <td>0.0</td>\n",
       "      <td>0.0</td>\n",
       "      <td>0.000000</td>\n",
       "      <td>0.0</td>\n",
       "      <td>...</td>\n",
       "      <td>0.0</td>\n",
       "      <td>0.0</td>\n",
       "      <td>0.0</td>\n",
       "      <td>0.0</td>\n",
       "      <td>0.0</td>\n",
       "      <td>0.0</td>\n",
       "      <td>0.0</td>\n",
       "      <td>0.0</td>\n",
       "      <td>0.0</td>\n",
       "      <td>0.0</td>\n",
       "    </tr>\n",
       "    <tr>\n",
       "      <th>Sousa</th>\n",
       "      <td>Sousa</td>\n",
       "      <td>0.0</td>\n",
       "      <td>0.0</td>\n",
       "      <td>0.0</td>\n",
       "      <td>0.000000</td>\n",
       "      <td>0.0</td>\n",
       "      <td>0.0</td>\n",
       "      <td>0.0</td>\n",
       "      <td>0.000000</td>\n",
       "      <td>0.0</td>\n",
       "      <td>...</td>\n",
       "      <td>0.0</td>\n",
       "      <td>0.0</td>\n",
       "      <td>0.0</td>\n",
       "      <td>0.0</td>\n",
       "      <td>0.0</td>\n",
       "      <td>0.0</td>\n",
       "      <td>0.0</td>\n",
       "      <td>0.0</td>\n",
       "      <td>0.0</td>\n",
       "      <td>0.0</td>\n",
       "    </tr>\n",
       "    <tr>\n",
       "      <th>...</th>\n",
       "      <td>...</td>\n",
       "      <td>...</td>\n",
       "      <td>...</td>\n",
       "      <td>...</td>\n",
       "      <td>...</td>\n",
       "      <td>...</td>\n",
       "      <td>...</td>\n",
       "      <td>...</td>\n",
       "      <td>...</td>\n",
       "      <td>...</td>\n",
       "      <td>...</td>\n",
       "      <td>...</td>\n",
       "      <td>...</td>\n",
       "      <td>...</td>\n",
       "      <td>...</td>\n",
       "      <td>...</td>\n",
       "      <td>...</td>\n",
       "      <td>...</td>\n",
       "      <td>...</td>\n",
       "      <td>...</td>\n",
       "      <td>...</td>\n",
       "    </tr>\n",
       "    <tr>\n",
       "      <th>Miss Balch</th>\n",
       "      <td>Miss Balch</td>\n",
       "      <td>0.0</td>\n",
       "      <td>0.0</td>\n",
       "      <td>0.0</td>\n",
       "      <td>0.000000</td>\n",
       "      <td>0.0</td>\n",
       "      <td>0.0</td>\n",
       "      <td>0.0</td>\n",
       "      <td>0.000000</td>\n",
       "      <td>0.0</td>\n",
       "      <td>...</td>\n",
       "      <td>0.0</td>\n",
       "      <td>0.0</td>\n",
       "      <td>0.0</td>\n",
       "      <td>0.0</td>\n",
       "      <td>0.0</td>\n",
       "      <td>0.0</td>\n",
       "      <td>0.0</td>\n",
       "      <td>0.0</td>\n",
       "      <td>0.0</td>\n",
       "      <td>0.0</td>\n",
       "    </tr>\n",
       "    <tr>\n",
       "      <th>Cage</th>\n",
       "      <td>Cage</td>\n",
       "      <td>0.0</td>\n",
       "      <td>0.0</td>\n",
       "      <td>0.0</td>\n",
       "      <td>0.000000</td>\n",
       "      <td>0.0</td>\n",
       "      <td>0.0</td>\n",
       "      <td>0.0</td>\n",
       "      <td>0.000000</td>\n",
       "      <td>0.0</td>\n",
       "      <td>...</td>\n",
       "      <td>0.0</td>\n",
       "      <td>0.0</td>\n",
       "      <td>0.0</td>\n",
       "      <td>0.0</td>\n",
       "      <td>0.0</td>\n",
       "      <td>0.0</td>\n",
       "      <td>0.0</td>\n",
       "      <td>0.0</td>\n",
       "      <td>0.0</td>\n",
       "      <td>0.0</td>\n",
       "    </tr>\n",
       "    <tr>\n",
       "      <th>Grant</th>\n",
       "      <td>Grant</td>\n",
       "      <td>0.0</td>\n",
       "      <td>0.0</td>\n",
       "      <td>0.0</td>\n",
       "      <td>0.000000</td>\n",
       "      <td>0.0</td>\n",
       "      <td>0.0</td>\n",
       "      <td>0.0</td>\n",
       "      <td>0.003402</td>\n",
       "      <td>0.0</td>\n",
       "      <td>...</td>\n",
       "      <td>0.0</td>\n",
       "      <td>0.0</td>\n",
       "      <td>0.0</td>\n",
       "      <td>0.0</td>\n",
       "      <td>0.0</td>\n",
       "      <td>0.0</td>\n",
       "      <td>0.0</td>\n",
       "      <td>0.0</td>\n",
       "      <td>0.0</td>\n",
       "      <td>0.0</td>\n",
       "    </tr>\n",
       "    <tr>\n",
       "      <th>Gorky</th>\n",
       "      <td>Gorky</td>\n",
       "      <td>0.0</td>\n",
       "      <td>0.0</td>\n",
       "      <td>0.0</td>\n",
       "      <td>0.000000</td>\n",
       "      <td>0.0</td>\n",
       "      <td>0.0</td>\n",
       "      <td>0.0</td>\n",
       "      <td>0.000000</td>\n",
       "      <td>0.0</td>\n",
       "      <td>...</td>\n",
       "      <td>0.0</td>\n",
       "      <td>0.0</td>\n",
       "      <td>0.0</td>\n",
       "      <td>0.0</td>\n",
       "      <td>0.0</td>\n",
       "      <td>0.0</td>\n",
       "      <td>0.0</td>\n",
       "      <td>0.0</td>\n",
       "      <td>0.0</td>\n",
       "      <td>0.0</td>\n",
       "    </tr>\n",
       "    <tr>\n",
       "      <th>Tandy</th>\n",
       "      <td>Tandy</td>\n",
       "      <td>0.0</td>\n",
       "      <td>0.0</td>\n",
       "      <td>0.0</td>\n",
       "      <td>0.000000</td>\n",
       "      <td>0.0</td>\n",
       "      <td>0.0</td>\n",
       "      <td>0.0</td>\n",
       "      <td>0.000000</td>\n",
       "      <td>0.0</td>\n",
       "      <td>...</td>\n",
       "      <td>0.0</td>\n",
       "      <td>0.0</td>\n",
       "      <td>0.0</td>\n",
       "      <td>0.0</td>\n",
       "      <td>0.0</td>\n",
       "      <td>0.0</td>\n",
       "      <td>0.0</td>\n",
       "      <td>0.0</td>\n",
       "      <td>0.0</td>\n",
       "      <td>0.0</td>\n",
       "    </tr>\n",
       "  </tbody>\n",
       "</table>\n",
       "<p>364 rows × 35049 columns</p>\n",
       "</div>"
      ],
      "text/plain": [
       "               subject  aachen  aahs  aarau     aaron  aaugh   ab  ababa  \\\n",
       "subject                                                                    \n",
       "Randolph      Randolph     0.0   0.0    0.0  0.000000    0.0  0.0    0.0   \n",
       "Basie            Basie     0.0   0.0    0.0  0.012317    0.0  0.0    0.0   \n",
       "Swope            Swope     0.0   0.0    0.0  0.000000    0.0  0.0    0.0   \n",
       "Ulanova        Ulanova     0.0   0.0    0.0  0.000000    0.0  0.0    0.0   \n",
       "Sousa            Sousa     0.0   0.0    0.0  0.000000    0.0  0.0    0.0   \n",
       "...                ...     ...   ...    ...       ...    ...  ...    ...   \n",
       "Miss Balch  Miss Balch     0.0   0.0    0.0  0.000000    0.0  0.0    0.0   \n",
       "Cage              Cage     0.0   0.0    0.0  0.000000    0.0  0.0    0.0   \n",
       "Grant            Grant     0.0   0.0    0.0  0.000000    0.0  0.0    0.0   \n",
       "Gorky            Gorky     0.0   0.0    0.0  0.000000    0.0  0.0    0.0   \n",
       "Tandy            Tandy     0.0   0.0    0.0  0.000000    0.0  0.0    0.0   \n",
       "\n",
       "               aback  abaco  ...  zrathustra  zuber  zuker  zukor  zukors  \\\n",
       "subject                      ...                                            \n",
       "Randolph    0.000000    0.0  ...         0.0    0.0    0.0    0.0     0.0   \n",
       "Basie       0.000000    0.0  ...         0.0    0.0    0.0    0.0     0.0   \n",
       "Swope       0.000000    0.0  ...         0.0    0.0    0.0    0.0     0.0   \n",
       "Ulanova     0.000000    0.0  ...         0.0    0.0    0.0    0.0     0.0   \n",
       "Sousa       0.000000    0.0  ...         0.0    0.0    0.0    0.0     0.0   \n",
       "...              ...    ...  ...         ...    ...    ...    ...     ...   \n",
       "Miss Balch  0.000000    0.0  ...         0.0    0.0    0.0    0.0     0.0   \n",
       "Cage        0.000000    0.0  ...         0.0    0.0    0.0    0.0     0.0   \n",
       "Grant       0.003402    0.0  ...         0.0    0.0    0.0    0.0     0.0   \n",
       "Gorky       0.000000    0.0  ...         0.0    0.0    0.0    0.0     0.0   \n",
       "Tandy       0.000000    0.0  ...         0.0    0.0    0.0    0.0     0.0   \n",
       "\n",
       "            zula  zululand  zurich  zvai  zwilich  \n",
       "subject                                            \n",
       "Randolph     0.0       0.0     0.0   0.0      0.0  \n",
       "Basie        0.0       0.0     0.0   0.0      0.0  \n",
       "Swope        0.0       0.0     0.0   0.0      0.0  \n",
       "Ulanova      0.0       0.0     0.0   0.0      0.0  \n",
       "Sousa        0.0       0.0     0.0   0.0      0.0  \n",
       "...          ...       ...     ...   ...      ...  \n",
       "Miss Balch   0.0       0.0     0.0   0.0      0.0  \n",
       "Cage         0.0       0.0     0.0   0.0      0.0  \n",
       "Grant        0.0       0.0     0.0   0.0      0.0  \n",
       "Gorky        0.0       0.0     0.0   0.0      0.0  \n",
       "Tandy        0.0       0.0     0.0   0.0      0.0  \n",
       "\n",
       "[364 rows x 35049 columns]"
      ]
     },
     "execution_count": 5,
     "metadata": {},
     "output_type": "execute_result"
    }
   ],
   "source": [
    "df.index = df['subject']\n",
    "df"
   ]
  },
  {
   "cell_type": "code",
   "execution_count": 6,
   "id": "0e3db7cb",
   "metadata": {},
   "outputs": [
    {
     "data": {
      "text/html": [
       "<div>\n",
       "<style scoped>\n",
       "    .dataframe tbody tr th:only-of-type {\n",
       "        vertical-align: middle;\n",
       "    }\n",
       "\n",
       "    .dataframe tbody tr th {\n",
       "        vertical-align: top;\n",
       "    }\n",
       "\n",
       "    .dataframe thead th {\n",
       "        text-align: right;\n",
       "    }\n",
       "</style>\n",
       "<table border=\"1\" class=\"dataframe\">\n",
       "  <thead>\n",
       "    <tr style=\"text-align: right;\">\n",
       "      <th></th>\n",
       "      <th>aachen</th>\n",
       "      <th>aahs</th>\n",
       "      <th>aarau</th>\n",
       "      <th>aaron</th>\n",
       "      <th>aaugh</th>\n",
       "      <th>ab</th>\n",
       "      <th>ababa</th>\n",
       "      <th>aback</th>\n",
       "      <th>abaco</th>\n",
       "      <th>abandon</th>\n",
       "      <th>...</th>\n",
       "      <th>zrathustra</th>\n",
       "      <th>zuber</th>\n",
       "      <th>zuker</th>\n",
       "      <th>zukor</th>\n",
       "      <th>zukors</th>\n",
       "      <th>zula</th>\n",
       "      <th>zululand</th>\n",
       "      <th>zurich</th>\n",
       "      <th>zvai</th>\n",
       "      <th>zwilich</th>\n",
       "    </tr>\n",
       "    <tr>\n",
       "      <th>subject</th>\n",
       "      <th></th>\n",
       "      <th></th>\n",
       "      <th></th>\n",
       "      <th></th>\n",
       "      <th></th>\n",
       "      <th></th>\n",
       "      <th></th>\n",
       "      <th></th>\n",
       "      <th></th>\n",
       "      <th></th>\n",
       "      <th></th>\n",
       "      <th></th>\n",
       "      <th></th>\n",
       "      <th></th>\n",
       "      <th></th>\n",
       "      <th></th>\n",
       "      <th></th>\n",
       "      <th></th>\n",
       "      <th></th>\n",
       "      <th></th>\n",
       "      <th></th>\n",
       "    </tr>\n",
       "  </thead>\n",
       "  <tbody>\n",
       "    <tr>\n",
       "      <th>Randolph</th>\n",
       "      <td>0.0</td>\n",
       "      <td>0.0</td>\n",
       "      <td>0.0</td>\n",
       "      <td>0.000000</td>\n",
       "      <td>0.0</td>\n",
       "      <td>0.0</td>\n",
       "      <td>0.0</td>\n",
       "      <td>0.000000</td>\n",
       "      <td>0.0</td>\n",
       "      <td>0.000000</td>\n",
       "      <td>...</td>\n",
       "      <td>0.0</td>\n",
       "      <td>0.0</td>\n",
       "      <td>0.0</td>\n",
       "      <td>0.0</td>\n",
       "      <td>0.0</td>\n",
       "      <td>0.0</td>\n",
       "      <td>0.0</td>\n",
       "      <td>0.0</td>\n",
       "      <td>0.0</td>\n",
       "      <td>0.0</td>\n",
       "    </tr>\n",
       "    <tr>\n",
       "      <th>Basie</th>\n",
       "      <td>0.0</td>\n",
       "      <td>0.0</td>\n",
       "      <td>0.0</td>\n",
       "      <td>0.012317</td>\n",
       "      <td>0.0</td>\n",
       "      <td>0.0</td>\n",
       "      <td>0.0</td>\n",
       "      <td>0.000000</td>\n",
       "      <td>0.0</td>\n",
       "      <td>0.010460</td>\n",
       "      <td>...</td>\n",
       "      <td>0.0</td>\n",
       "      <td>0.0</td>\n",
       "      <td>0.0</td>\n",
       "      <td>0.0</td>\n",
       "      <td>0.0</td>\n",
       "      <td>0.0</td>\n",
       "      <td>0.0</td>\n",
       "      <td>0.0</td>\n",
       "      <td>0.0</td>\n",
       "      <td>0.0</td>\n",
       "    </tr>\n",
       "    <tr>\n",
       "      <th>Swope</th>\n",
       "      <td>0.0</td>\n",
       "      <td>0.0</td>\n",
       "      <td>0.0</td>\n",
       "      <td>0.000000</td>\n",
       "      <td>0.0</td>\n",
       "      <td>0.0</td>\n",
       "      <td>0.0</td>\n",
       "      <td>0.000000</td>\n",
       "      <td>0.0</td>\n",
       "      <td>0.000000</td>\n",
       "      <td>...</td>\n",
       "      <td>0.0</td>\n",
       "      <td>0.0</td>\n",
       "      <td>0.0</td>\n",
       "      <td>0.0</td>\n",
       "      <td>0.0</td>\n",
       "      <td>0.0</td>\n",
       "      <td>0.0</td>\n",
       "      <td>0.0</td>\n",
       "      <td>0.0</td>\n",
       "      <td>0.0</td>\n",
       "    </tr>\n",
       "    <tr>\n",
       "      <th>Ulanova</th>\n",
       "      <td>0.0</td>\n",
       "      <td>0.0</td>\n",
       "      <td>0.0</td>\n",
       "      <td>0.000000</td>\n",
       "      <td>0.0</td>\n",
       "      <td>0.0</td>\n",
       "      <td>0.0</td>\n",
       "      <td>0.000000</td>\n",
       "      <td>0.0</td>\n",
       "      <td>0.000000</td>\n",
       "      <td>...</td>\n",
       "      <td>0.0</td>\n",
       "      <td>0.0</td>\n",
       "      <td>0.0</td>\n",
       "      <td>0.0</td>\n",
       "      <td>0.0</td>\n",
       "      <td>0.0</td>\n",
       "      <td>0.0</td>\n",
       "      <td>0.0</td>\n",
       "      <td>0.0</td>\n",
       "      <td>0.0</td>\n",
       "    </tr>\n",
       "    <tr>\n",
       "      <th>Sousa</th>\n",
       "      <td>0.0</td>\n",
       "      <td>0.0</td>\n",
       "      <td>0.0</td>\n",
       "      <td>0.000000</td>\n",
       "      <td>0.0</td>\n",
       "      <td>0.0</td>\n",
       "      <td>0.0</td>\n",
       "      <td>0.000000</td>\n",
       "      <td>0.0</td>\n",
       "      <td>0.000000</td>\n",
       "      <td>...</td>\n",
       "      <td>0.0</td>\n",
       "      <td>0.0</td>\n",
       "      <td>0.0</td>\n",
       "      <td>0.0</td>\n",
       "      <td>0.0</td>\n",
       "      <td>0.0</td>\n",
       "      <td>0.0</td>\n",
       "      <td>0.0</td>\n",
       "      <td>0.0</td>\n",
       "      <td>0.0</td>\n",
       "    </tr>\n",
       "    <tr>\n",
       "      <th>...</th>\n",
       "      <td>...</td>\n",
       "      <td>...</td>\n",
       "      <td>...</td>\n",
       "      <td>...</td>\n",
       "      <td>...</td>\n",
       "      <td>...</td>\n",
       "      <td>...</td>\n",
       "      <td>...</td>\n",
       "      <td>...</td>\n",
       "      <td>...</td>\n",
       "      <td>...</td>\n",
       "      <td>...</td>\n",
       "      <td>...</td>\n",
       "      <td>...</td>\n",
       "      <td>...</td>\n",
       "      <td>...</td>\n",
       "      <td>...</td>\n",
       "      <td>...</td>\n",
       "      <td>...</td>\n",
       "      <td>...</td>\n",
       "      <td>...</td>\n",
       "    </tr>\n",
       "    <tr>\n",
       "      <th>Miss Balch</th>\n",
       "      <td>0.0</td>\n",
       "      <td>0.0</td>\n",
       "      <td>0.0</td>\n",
       "      <td>0.000000</td>\n",
       "      <td>0.0</td>\n",
       "      <td>0.0</td>\n",
       "      <td>0.0</td>\n",
       "      <td>0.000000</td>\n",
       "      <td>0.0</td>\n",
       "      <td>0.000000</td>\n",
       "      <td>...</td>\n",
       "      <td>0.0</td>\n",
       "      <td>0.0</td>\n",
       "      <td>0.0</td>\n",
       "      <td>0.0</td>\n",
       "      <td>0.0</td>\n",
       "      <td>0.0</td>\n",
       "      <td>0.0</td>\n",
       "      <td>0.0</td>\n",
       "      <td>0.0</td>\n",
       "      <td>0.0</td>\n",
       "    </tr>\n",
       "    <tr>\n",
       "      <th>Cage</th>\n",
       "      <td>0.0</td>\n",
       "      <td>0.0</td>\n",
       "      <td>0.0</td>\n",
       "      <td>0.000000</td>\n",
       "      <td>0.0</td>\n",
       "      <td>0.0</td>\n",
       "      <td>0.0</td>\n",
       "      <td>0.000000</td>\n",
       "      <td>0.0</td>\n",
       "      <td>0.011006</td>\n",
       "      <td>...</td>\n",
       "      <td>0.0</td>\n",
       "      <td>0.0</td>\n",
       "      <td>0.0</td>\n",
       "      <td>0.0</td>\n",
       "      <td>0.0</td>\n",
       "      <td>0.0</td>\n",
       "      <td>0.0</td>\n",
       "      <td>0.0</td>\n",
       "      <td>0.0</td>\n",
       "      <td>0.0</td>\n",
       "    </tr>\n",
       "    <tr>\n",
       "      <th>Grant</th>\n",
       "      <td>0.0</td>\n",
       "      <td>0.0</td>\n",
       "      <td>0.0</td>\n",
       "      <td>0.000000</td>\n",
       "      <td>0.0</td>\n",
       "      <td>0.0</td>\n",
       "      <td>0.0</td>\n",
       "      <td>0.003402</td>\n",
       "      <td>0.0</td>\n",
       "      <td>0.007226</td>\n",
       "      <td>...</td>\n",
       "      <td>0.0</td>\n",
       "      <td>0.0</td>\n",
       "      <td>0.0</td>\n",
       "      <td>0.0</td>\n",
       "      <td>0.0</td>\n",
       "      <td>0.0</td>\n",
       "      <td>0.0</td>\n",
       "      <td>0.0</td>\n",
       "      <td>0.0</td>\n",
       "      <td>0.0</td>\n",
       "    </tr>\n",
       "    <tr>\n",
       "      <th>Gorky</th>\n",
       "      <td>0.0</td>\n",
       "      <td>0.0</td>\n",
       "      <td>0.0</td>\n",
       "      <td>0.000000</td>\n",
       "      <td>0.0</td>\n",
       "      <td>0.0</td>\n",
       "      <td>0.0</td>\n",
       "      <td>0.000000</td>\n",
       "      <td>0.0</td>\n",
       "      <td>0.000000</td>\n",
       "      <td>...</td>\n",
       "      <td>0.0</td>\n",
       "      <td>0.0</td>\n",
       "      <td>0.0</td>\n",
       "      <td>0.0</td>\n",
       "      <td>0.0</td>\n",
       "      <td>0.0</td>\n",
       "      <td>0.0</td>\n",
       "      <td>0.0</td>\n",
       "      <td>0.0</td>\n",
       "      <td>0.0</td>\n",
       "    </tr>\n",
       "    <tr>\n",
       "      <th>Tandy</th>\n",
       "      <td>0.0</td>\n",
       "      <td>0.0</td>\n",
       "      <td>0.0</td>\n",
       "      <td>0.000000</td>\n",
       "      <td>0.0</td>\n",
       "      <td>0.0</td>\n",
       "      <td>0.0</td>\n",
       "      <td>0.000000</td>\n",
       "      <td>0.0</td>\n",
       "      <td>0.000000</td>\n",
       "      <td>...</td>\n",
       "      <td>0.0</td>\n",
       "      <td>0.0</td>\n",
       "      <td>0.0</td>\n",
       "      <td>0.0</td>\n",
       "      <td>0.0</td>\n",
       "      <td>0.0</td>\n",
       "      <td>0.0</td>\n",
       "      <td>0.0</td>\n",
       "      <td>0.0</td>\n",
       "      <td>0.0</td>\n",
       "    </tr>\n",
       "  </tbody>\n",
       "</table>\n",
       "<p>364 rows × 35048 columns</p>\n",
       "</div>"
      ],
      "text/plain": [
       "            aachen  aahs  aarau     aaron  aaugh   ab  ababa     aback  abaco  \\\n",
       "subject                                                                         \n",
       "Randolph       0.0   0.0    0.0  0.000000    0.0  0.0    0.0  0.000000    0.0   \n",
       "Basie          0.0   0.0    0.0  0.012317    0.0  0.0    0.0  0.000000    0.0   \n",
       "Swope          0.0   0.0    0.0  0.000000    0.0  0.0    0.0  0.000000    0.0   \n",
       "Ulanova        0.0   0.0    0.0  0.000000    0.0  0.0    0.0  0.000000    0.0   \n",
       "Sousa          0.0   0.0    0.0  0.000000    0.0  0.0    0.0  0.000000    0.0   \n",
       "...            ...   ...    ...       ...    ...  ...    ...       ...    ...   \n",
       "Miss Balch     0.0   0.0    0.0  0.000000    0.0  0.0    0.0  0.000000    0.0   \n",
       "Cage           0.0   0.0    0.0  0.000000    0.0  0.0    0.0  0.000000    0.0   \n",
       "Grant          0.0   0.0    0.0  0.000000    0.0  0.0    0.0  0.003402    0.0   \n",
       "Gorky          0.0   0.0    0.0  0.000000    0.0  0.0    0.0  0.000000    0.0   \n",
       "Tandy          0.0   0.0    0.0  0.000000    0.0  0.0    0.0  0.000000    0.0   \n",
       "\n",
       "             abandon  ...  zrathustra  zuber  zuker  zukor  zukors  zula  \\\n",
       "subject               ...                                                  \n",
       "Randolph    0.000000  ...         0.0    0.0    0.0    0.0     0.0   0.0   \n",
       "Basie       0.010460  ...         0.0    0.0    0.0    0.0     0.0   0.0   \n",
       "Swope       0.000000  ...         0.0    0.0    0.0    0.0     0.0   0.0   \n",
       "Ulanova     0.000000  ...         0.0    0.0    0.0    0.0     0.0   0.0   \n",
       "Sousa       0.000000  ...         0.0    0.0    0.0    0.0     0.0   0.0   \n",
       "...              ...  ...         ...    ...    ...    ...     ...   ...   \n",
       "Miss Balch  0.000000  ...         0.0    0.0    0.0    0.0     0.0   0.0   \n",
       "Cage        0.011006  ...         0.0    0.0    0.0    0.0     0.0   0.0   \n",
       "Grant       0.007226  ...         0.0    0.0    0.0    0.0     0.0   0.0   \n",
       "Gorky       0.000000  ...         0.0    0.0    0.0    0.0     0.0   0.0   \n",
       "Tandy       0.000000  ...         0.0    0.0    0.0    0.0     0.0   0.0   \n",
       "\n",
       "            zululand  zurich  zvai  zwilich  \n",
       "subject                                      \n",
       "Randolph         0.0     0.0   0.0      0.0  \n",
       "Basie            0.0     0.0   0.0      0.0  \n",
       "Swope            0.0     0.0   0.0      0.0  \n",
       "Ulanova          0.0     0.0   0.0      0.0  \n",
       "Sousa            0.0     0.0   0.0      0.0  \n",
       "...              ...     ...   ...      ...  \n",
       "Miss Balch       0.0     0.0   0.0      0.0  \n",
       "Cage             0.0     0.0   0.0      0.0  \n",
       "Grant            0.0     0.0   0.0      0.0  \n",
       "Gorky            0.0     0.0   0.0      0.0  \n",
       "Tandy            0.0     0.0   0.0      0.0  \n",
       "\n",
       "[364 rows x 35048 columns]"
      ]
     },
     "execution_count": 6,
     "metadata": {},
     "output_type": "execute_result"
    }
   ],
   "source": [
    "df = df.drop(columns=['subject'])\n",
    "df"
   ]
  },
  {
   "cell_type": "markdown",
   "id": "7ac988e9",
   "metadata": {},
   "source": [
    "Let's store the dataframe in a new numpy array called X"
   ]
  },
  {
   "cell_type": "code",
   "execution_count": 7,
   "id": "b05a5802",
   "metadata": {},
   "outputs": [
    {
     "data": {
      "text/plain": [
       "(364, 35048)"
      ]
     },
     "execution_count": 7,
     "metadata": {},
     "output_type": "execute_result"
    }
   ],
   "source": [
    "X = df.to_numpy()\n",
    "X.shape"
   ]
  },
  {
   "cell_type": "code",
   "execution_count": 8,
   "id": "b7b3d199",
   "metadata": {},
   "outputs": [
    {
     "data": {
      "text/plain": [
       "(array([0., 0., 0., ..., 0., 0., 0.]), 'Tandy')"
      ]
     },
     "execution_count": 8,
     "metadata": {},
     "output_type": "execute_result"
    }
   ],
   "source": [
    "X[-1], df.index[-1]"
   ]
  },
  {
   "cell_type": "markdown",
   "id": "c1bf5e09",
   "metadata": {},
   "source": [
    "### Sparsity"
   ]
  },
  {
   "cell_type": "code",
   "execution_count": 9,
   "id": "0e6399db",
   "metadata": {},
   "outputs": [
    {
     "data": {
      "text/plain": [
       "(array([12499345,        1,        1, ...,        1,        1,        1]),\n",
       " array([0.        , 0.000985  , 0.00105308, ..., 0.8868675 , 0.89451676,\n",
       "        0.91090351]))"
      ]
     },
     "execution_count": 9,
     "metadata": {},
     "output_type": "execute_result"
    }
   ],
   "source": [
    "values, counts = np.unique(X, return_counts=True)\n",
    "counts, values"
   ]
  },
  {
   "cell_type": "markdown",
   "id": "78884f8a",
   "metadata": {},
   "source": [
    "Most common value is 0"
   ]
  },
  {
   "cell_type": "markdown",
   "id": "1b840dcf",
   "metadata": {},
   "source": [
    "### Size"
   ]
  },
  {
   "cell_type": "code",
   "execution_count": 10,
   "id": "e527d9c7",
   "metadata": {},
   "outputs": [
    {
     "data": {
      "text/plain": [
       "(364, 35048)"
      ]
     },
     "execution_count": 10,
     "metadata": {},
     "output_type": "execute_result"
    }
   ],
   "source": [
    "X.shape"
   ]
  },
  {
   "cell_type": "code",
   "execution_count": 11,
   "id": "5b83fcf5",
   "metadata": {},
   "outputs": [
    {
     "name": "stdout",
     "output_type": "stream",
     "text": [
      "-rw-rw-r-- 1 jovyan users 2.2M Jun  2 18:39 data/tfidf_hw02.csv.gz\n"
     ]
    }
   ],
   "source": [
    "!ls -lah data/tfidf_hw02.csv.gz"
   ]
  },
  {
   "cell_type": "markdown",
   "id": "9989fe37",
   "metadata": {},
   "source": [
    "2 MB doesnt sound like a lot, but thats because it is compressed and vocab is only 35K."
   ]
  },
  {
   "cell_type": "markdown",
   "id": "851ade1d",
   "metadata": {},
   "source": [
    "(back to slides)\n",
    "## SVD"
   ]
  },
  {
   "cell_type": "markdown",
   "id": "28cacbba",
   "metadata": {},
   "source": [
    "SVD in Sklearn: http://scikit-learn.org/stable/modules/generated/sklearn.decomposition.TruncatedSVD.html"
   ]
  },
  {
   "cell_type": "code",
   "execution_count": 12,
   "id": "573d5d6d",
   "metadata": {},
   "outputs": [],
   "source": [
    "from sklearn.decomposition import TruncatedSVD"
   ]
  },
  {
   "cell_type": "code",
   "execution_count": 14,
   "id": "620e66f1",
   "metadata": {},
   "outputs": [
    {
     "data": {
      "text/plain": [
       "TruncatedSVD(n_components=5, n_iter=7, random_state=42)"
      ]
     },
     "execution_count": 14,
     "metadata": {},
     "output_type": "execute_result"
    }
   ],
   "source": [
    "svd = TruncatedSVD(n_components=5, n_iter=7, random_state=42)\n",
    "svd"
   ]
  },
  {
   "cell_type": "markdown",
   "id": "c4d779ab",
   "metadata": {},
   "source": [
    "**Question:** what sklearn method do you think we can use to *train* the model? Here, train means learn the decomposed matrices.\n",
    "\n",
    "<details>\n",
    "<summary>Solution</summary>\n",
    "    .fit()\n",
    "</details>"
   ]
  },
  {
   "cell_type": "code",
   "execution_count": null,
   "id": "645538e3",
   "metadata": {},
   "outputs": [],
   "source": [
    "# skip"
   ]
  },
  {
   "cell_type": "code",
   "execution_count": null,
   "id": "644e30c4",
   "metadata": {},
   "outputs": [],
   "source": [
    "svd.fit()"
   ]
  },
  {
   "cell_type": "code",
   "execution_count": null,
   "id": "3936c750",
   "metadata": {},
   "outputs": [],
   "source": []
  },
  {
   "cell_type": "code",
   "execution_count": 15,
   "id": "5eda5beb",
   "metadata": {},
   "outputs": [
    {
     "data": {
      "text/plain": [
       "TruncatedSVD(n_components=5, n_iter=7, random_state=42)"
      ]
     },
     "execution_count": 15,
     "metadata": {},
     "output_type": "execute_result"
    }
   ],
   "source": [
    "svd.fit(X)"
   ]
  },
  {
   "cell_type": "markdown",
   "id": "bf0ead32",
   "metadata": {},
   "source": [
    "### Reduce Dimensions"
   ]
  },
  {
   "cell_type": "markdown",
   "id": "dcbbcd27",
   "metadata": {},
   "source": [
    "**Question:** what sklearn method do you think we can use to perform dimensionality reduction on X?\n",
    "<details>\n",
    "<summary>Solution</summary>\n",
    "    .transform()\n",
    "</details>"
   ]
  },
  {
   "cell_type": "code",
   "execution_count": null,
   "id": "67660d0f",
   "metadata": {},
   "outputs": [],
   "source": [
    "# skip"
   ]
  },
  {
   "cell_type": "code",
   "execution_count": null,
   "id": "5ba92dad",
   "metadata": {},
   "outputs": [],
   "source": []
  },
  {
   "cell_type": "code",
   "execution_count": null,
   "id": "7e878e01",
   "metadata": {},
   "outputs": [],
   "source": []
  },
  {
   "cell_type": "code",
   "execution_count": 16,
   "id": "8c0cf6de",
   "metadata": {},
   "outputs": [
    {
     "data": {
      "text/plain": [
       "(364, 5)"
      ]
     },
     "execution_count": 16,
     "metadata": {},
     "output_type": "execute_result"
    }
   ],
   "source": [
    "U = svd.transform(X)\n",
    "U.shape"
   ]
  },
  {
   "cell_type": "code",
   "execution_count": 17,
   "id": "0ecf12f9",
   "metadata": {},
   "outputs": [
    {
     "data": {
      "text/plain": [
       "array([[ 0.1969517 ,  0.10455802,  0.03958181,  0.06317127, -0.02210682],\n",
       "       [ 0.12384257, -0.12000851,  0.41991499, -0.00898755,  0.07639225],\n",
       "       [ 0.16086302,  0.02870603, -0.00168286,  0.01304767, -0.03404512],\n",
       "       ...,\n",
       "       [ 0.41446508,  0.1780573 ,  0.00722345,  0.02692548, -0.00871281],\n",
       "       [ 0.19368587,  0.00764103, -0.05233531, -0.13298163,  0.043007  ],\n",
       "       [ 0.26206756, -0.26029441, -0.09145356,  0.11280092,  0.09681598]])"
      ]
     },
     "execution_count": 17,
     "metadata": {},
     "output_type": "execute_result"
    }
   ],
   "source": [
    "U"
   ]
  },
  {
   "cell_type": "markdown",
   "id": "8cdfb2e8",
   "metadata": {},
   "source": [
    "#### Sparsity"
   ]
  },
  {
   "cell_type": "code",
   "execution_count": 18,
   "id": "d81e7e52",
   "metadata": {},
   "outputs": [
    {
     "data": {
      "text/plain": [
       "(array([1, 1, 1, ..., 1, 1, 1]),\n",
       " array([-0.27388997, -0.26029441, -0.25167082, ...,  0.43057317,\n",
       "         0.45442427,  0.48370346]))"
      ]
     },
     "execution_count": 18,
     "metadata": {},
     "output_type": "execute_result"
    }
   ],
   "source": [
    "values, counts = np.unique(U, return_counts=True)\n",
    "counts, values"
   ]
  },
  {
   "cell_type": "markdown",
   "id": "327372c7",
   "metadata": {},
   "source": [
    "No more 0's"
   ]
  },
  {
   "cell_type": "markdown",
   "id": "c60985b0",
   "metadata": {},
   "source": [
    "#### Size"
   ]
  },
  {
   "cell_type": "code",
   "execution_count": 19,
   "id": "3d8d4145",
   "metadata": {},
   "outputs": [
    {
     "data": {
      "text/plain": [
       "(364, 5)"
      ]
     },
     "execution_count": 19,
     "metadata": {},
     "output_type": "execute_result"
    }
   ],
   "source": [
    "U.shape"
   ]
  },
  {
   "cell_type": "code",
   "execution_count": 20,
   "id": "44e7f531",
   "metadata": {},
   "outputs": [],
   "source": [
    "pd.DataFrame(U).to_csv(\"data/reduced_tfidf.csv\")"
   ]
  },
  {
   "cell_type": "code",
   "execution_count": 21,
   "id": "c4aea23b",
   "metadata": {},
   "outputs": [
    {
     "name": "stdout",
     "output_type": "stream",
     "text": [
      "-rw-r--r-- 1 jovyan users 38K Jun  7 15:48 data/reduced_tfidf.csv\n"
     ]
    }
   ],
   "source": [
    "!ls -lah data/reduced_tfidf.csv"
   ]
  },
  {
   "cell_type": "markdown",
   "id": "1b637c77",
   "metadata": {},
   "source": [
    "**Question:** Is this file much smaller than the compressed tf-idf version?"
   ]
  },
  {
   "cell_type": "code",
   "execution_count": null,
   "id": "2f80563c",
   "metadata": {},
   "outputs": [],
   "source": []
  },
  {
   "cell_type": "markdown",
   "id": "e3118517",
   "metadata": {},
   "source": [
    "### Singular Values\n",
    "\n",
    "Remember $s_{1} > s_{2} > \\ldots > s_{k} $"
   ]
  },
  {
   "cell_type": "code",
   "execution_count": 22,
   "id": "63f3fce9",
   "metadata": {},
   "outputs": [
    {
     "data": {
      "text/plain": [
       "array([3.71930583, 2.03573589, 1.66287214, 1.62254288, 1.58531469])"
      ]
     },
     "execution_count": 22,
     "metadata": {},
     "output_type": "execute_result"
    }
   ],
   "source": [
    "S = svd.singular_values_\n",
    "S"
   ]
  },
  {
   "cell_type": "markdown",
   "id": "302c2300",
   "metadata": {},
   "source": [
    "### Components\n",
    "\n",
    "***V***-matrix ndarray of shape (n_components, n_features)"
   ]
  },
  {
   "cell_type": "code",
   "execution_count": null,
   "id": "d804976e",
   "metadata": {},
   "outputs": [],
   "source": []
  },
  {
   "cell_type": "code",
   "execution_count": 23,
   "id": "657e8865",
   "metadata": {},
   "outputs": [
    {
     "data": {
      "text/plain": [
       "array([[ 6.15318285e-04,  5.91545003e-04,  4.79311343e-04, ...,\n",
       "         7.11510227e-03,  3.21280490e-04,  9.93716717e-05],\n",
       "       [ 9.66926671e-06, -1.88532783e-03,  2.22060794e-04, ...,\n",
       "        -2.72610583e-04,  8.60827639e-04, -1.14277481e-04],\n",
       "       [-5.54596516e-05, -1.25676264e-03, -4.63595100e-04, ...,\n",
       "        -5.82438434e-03, -1.67563896e-04,  6.76770556e-05],\n",
       "       [-1.11208493e-03,  1.59171548e-03, -1.56344551e-03, ...,\n",
       "        -1.84157462e-02, -1.43886696e-03, -1.29424274e-04],\n",
       "       [-9.87266696e-04,  1.05815736e-03, -4.81414476e-04, ...,\n",
       "        -3.48507588e-03,  2.76539249e-03, -1.56272218e-04]])"
      ]
     },
     "execution_count": 23,
     "metadata": {},
     "output_type": "execute_result"
    }
   ],
   "source": [
    "V = svd.components_\n",
    "V"
   ]
  },
  {
   "cell_type": "code",
   "execution_count": 24,
   "id": "ba958ec0",
   "metadata": {},
   "outputs": [
    {
     "data": {
      "text/plain": [
       "(5, 35048)"
      ]
     },
     "execution_count": 24,
     "metadata": {},
     "output_type": "execute_result"
    }
   ],
   "source": [
    "V.shape"
   ]
  },
  {
   "cell_type": "code",
   "execution_count": 27,
   "id": "b8fa23a9",
   "metadata": {},
   "outputs": [
    {
     "data": {
      "text/plain": [
       "array([6.15318285e-04, 5.91545003e-04, 4.79311343e-04, ...,\n",
       "       7.11510227e-03, 3.21280490e-04, 9.93716717e-05])"
      ]
     },
     "execution_count": 27,
     "metadata": {},
     "output_type": "execute_result"
    }
   ],
   "source": [
    "V[0]"
   ]
  },
  {
   "cell_type": "markdown",
   "id": "f014374a",
   "metadata": {},
   "source": [
    "For the first component, let's figure out the features, i.e. the words, that have the highest values"
   ]
  },
  {
   "cell_type": "code",
   "execution_count": 28,
   "id": "411f3639",
   "metadata": {},
   "outputs": [
    {
     "data": {
      "text/plain": [
       "array([10071,  8426, 33069, ..., 27165, 34853, 20165])"
      ]
     },
     "execution_count": 28,
     "metadata": {},
     "output_type": "execute_result"
    }
   ],
   "source": [
    "V[0].argsort()"
   ]
  },
  {
   "cell_type": "code",
   "execution_count": 29,
   "id": "942fe232",
   "metadata": {},
   "outputs": [
    {
     "data": {
      "text/plain": [
       "array([10071,  8426, 33069, 22256, 13962])"
      ]
     },
     "execution_count": 29,
     "metadata": {},
     "output_type": "execute_result"
    }
   ],
   "source": [
    "V[0].argsort()[:5]"
   ]
  },
  {
   "cell_type": "code",
   "execution_count": 31,
   "id": "d64a7ab4",
   "metadata": {},
   "outputs": [
    {
     "data": {
      "text/plain": [
       "Index(['electrician', 'despot', 'unsafe', 'overstuffed', 'hairdos'], dtype='object')"
      ]
     },
     "execution_count": 31,
     "metadata": {},
     "output_type": "execute_result"
    }
   ],
   "source": [
    "df.columns[[V[0].argsort()[:5]]]"
   ]
  },
  {
   "cell_type": "markdown",
   "id": "b2ed76eb",
   "metadata": {},
   "source": [
    "Now let's find the features that are most indicative of each components"
   ]
  },
  {
   "cell_type": "code",
   "execution_count": 33,
   "id": "a459d92e",
   "metadata": {},
   "outputs": [
    {
     "name": "stdout",
     "output_type": "stream",
     "text": [
      "Components 0\t Index(['electrician', 'despot', 'unsafe', 'overstuffed', 'hairdos',\n",
      "       'degradation', 'slur', 'nan', 'detonate', 'yaobang'],\n",
      "      dtype='object')\n",
      "Components 1\t Index(['miss', 'film', 'theater', 'broadway', 'music', 'jazz', 'films', 'band',\n",
      "       'stage', 'actress'],\n",
      "      dtype='object')\n",
      "Components 2\t Index(['miss', 'keller', 'book', 'women', 'life', 'woman', 'published',\n",
      "       'novel', 'art', 'stanton'],\n",
      "      dtype='object')\n",
      "Components 3\t Index(['israel', 'soviet', 'book', 'jewish', 'novel', 'published', 'minister',\n",
      "       'german', 'world', 'hitler'],\n",
      "      dtype='object')\n",
      "Components 4\t Index(['baseball', 'rickey', 'game', 'negro', 'ruth', 'cleveland', 'warren',\n",
      "       'runs', 'book', 'court'],\n",
      "      dtype='object')\n"
     ]
    }
   ],
   "source": [
    "for k, row in enumerate(V):\n",
    "    print(f\"Components {k}\\t\", df.columns[[row.argsort()[:10]]])"
   ]
  },
  {
   "cell_type": "code",
   "execution_count": null,
   "id": "1a5877b9",
   "metadata": {},
   "outputs": [],
   "source": []
  },
  {
   "cell_type": "markdown",
   "id": "bef776a6",
   "metadata": {},
   "source": [
    "## Plotting documents"
   ]
  },
  {
   "cell_type": "code",
   "execution_count": 34,
   "id": "a1eb4700",
   "metadata": {},
   "outputs": [],
   "source": [
    "svd = TruncatedSVD(n_components=2, n_iter=7, random_state=42)\n",
    "U = svd.fit_transform(df)"
   ]
  },
  {
   "cell_type": "code",
   "execution_count": 35,
   "id": "855c1b4a",
   "metadata": {},
   "outputs": [
    {
     "data": {
      "text/html": [
       "<div>\n",
       "<style scoped>\n",
       "    .dataframe tbody tr th:only-of-type {\n",
       "        vertical-align: middle;\n",
       "    }\n",
       "\n",
       "    .dataframe tbody tr th {\n",
       "        vertical-align: top;\n",
       "    }\n",
       "\n",
       "    .dataframe thead th {\n",
       "        text-align: right;\n",
       "    }\n",
       "</style>\n",
       "<table border=\"1\" class=\"dataframe\">\n",
       "  <thead>\n",
       "    <tr style=\"text-align: right;\">\n",
       "      <th></th>\n",
       "      <th>0</th>\n",
       "      <th>1</th>\n",
       "    </tr>\n",
       "  </thead>\n",
       "  <tbody>\n",
       "    <tr>\n",
       "      <th>0</th>\n",
       "      <td>0.196952</td>\n",
       "      <td>0.104724</td>\n",
       "    </tr>\n",
       "    <tr>\n",
       "      <th>1</th>\n",
       "      <td>0.123843</td>\n",
       "      <td>-0.119607</td>\n",
       "    </tr>\n",
       "    <tr>\n",
       "      <th>2</th>\n",
       "      <td>0.160863</td>\n",
       "      <td>0.028794</td>\n",
       "    </tr>\n",
       "    <tr>\n",
       "      <th>3</th>\n",
       "      <td>0.155135</td>\n",
       "      <td>-0.094271</td>\n",
       "    </tr>\n",
       "    <tr>\n",
       "      <th>4</th>\n",
       "      <td>0.199017</td>\n",
       "      <td>-0.063786</td>\n",
       "    </tr>\n",
       "    <tr>\n",
       "      <th>...</th>\n",
       "      <td>...</td>\n",
       "      <td>...</td>\n",
       "    </tr>\n",
       "    <tr>\n",
       "      <th>359</th>\n",
       "      <td>0.176282</td>\n",
       "      <td>-0.044541</td>\n",
       "    </tr>\n",
       "    <tr>\n",
       "      <th>360</th>\n",
       "      <td>0.152369</td>\n",
       "      <td>-0.099391</td>\n",
       "    </tr>\n",
       "    <tr>\n",
       "      <th>361</th>\n",
       "      <td>0.414465</td>\n",
       "      <td>0.177312</td>\n",
       "    </tr>\n",
       "    <tr>\n",
       "      <th>362</th>\n",
       "      <td>0.193686</td>\n",
       "      <td>0.007653</td>\n",
       "    </tr>\n",
       "    <tr>\n",
       "      <th>363</th>\n",
       "      <td>0.262068</td>\n",
       "      <td>-0.259812</td>\n",
       "    </tr>\n",
       "  </tbody>\n",
       "</table>\n",
       "<p>364 rows × 2 columns</p>\n",
       "</div>"
      ],
      "text/plain": [
       "            0         1\n",
       "0    0.196952  0.104724\n",
       "1    0.123843 -0.119607\n",
       "2    0.160863  0.028794\n",
       "3    0.155135 -0.094271\n",
       "4    0.199017 -0.063786\n",
       "..        ...       ...\n",
       "359  0.176282 -0.044541\n",
       "360  0.152369 -0.099391\n",
       "361  0.414465  0.177312\n",
       "362  0.193686  0.007653\n",
       "363  0.262068 -0.259812\n",
       "\n",
       "[364 rows x 2 columns]"
      ]
     },
     "execution_count": 35,
     "metadata": {},
     "output_type": "execute_result"
    }
   ],
   "source": [
    "new_df = pd.DataFrame(U)\n",
    "new_df"
   ]
  },
  {
   "cell_type": "code",
   "execution_count": 36,
   "id": "5de1e16d",
   "metadata": {},
   "outputs": [
    {
     "data": {
      "text/html": [
       "<div>\n",
       "<style scoped>\n",
       "    .dataframe tbody tr th:only-of-type {\n",
       "        vertical-align: middle;\n",
       "    }\n",
       "\n",
       "    .dataframe tbody tr th {\n",
       "        vertical-align: top;\n",
       "    }\n",
       "\n",
       "    .dataframe thead th {\n",
       "        text-align: right;\n",
       "    }\n",
       "</style>\n",
       "<table border=\"1\" class=\"dataframe\">\n",
       "  <thead>\n",
       "    <tr style=\"text-align: right;\">\n",
       "      <th></th>\n",
       "      <th>0</th>\n",
       "      <th>1</th>\n",
       "    </tr>\n",
       "    <tr>\n",
       "      <th>subject</th>\n",
       "      <th></th>\n",
       "      <th></th>\n",
       "    </tr>\n",
       "  </thead>\n",
       "  <tbody>\n",
       "    <tr>\n",
       "      <th>Randolph</th>\n",
       "      <td>0.196952</td>\n",
       "      <td>0.104724</td>\n",
       "    </tr>\n",
       "    <tr>\n",
       "      <th>Basie</th>\n",
       "      <td>0.123843</td>\n",
       "      <td>-0.119607</td>\n",
       "    </tr>\n",
       "    <tr>\n",
       "      <th>Swope</th>\n",
       "      <td>0.160863</td>\n",
       "      <td>0.028794</td>\n",
       "    </tr>\n",
       "    <tr>\n",
       "      <th>Ulanova</th>\n",
       "      <td>0.155135</td>\n",
       "      <td>-0.094271</td>\n",
       "    </tr>\n",
       "    <tr>\n",
       "      <th>Sousa</th>\n",
       "      <td>0.199017</td>\n",
       "      <td>-0.063786</td>\n",
       "    </tr>\n",
       "    <tr>\n",
       "      <th>...</th>\n",
       "      <td>...</td>\n",
       "      <td>...</td>\n",
       "    </tr>\n",
       "    <tr>\n",
       "      <th>Miss Balch</th>\n",
       "      <td>0.176282</td>\n",
       "      <td>-0.044541</td>\n",
       "    </tr>\n",
       "    <tr>\n",
       "      <th>Cage</th>\n",
       "      <td>0.152369</td>\n",
       "      <td>-0.099391</td>\n",
       "    </tr>\n",
       "    <tr>\n",
       "      <th>Grant</th>\n",
       "      <td>0.414465</td>\n",
       "      <td>0.177312</td>\n",
       "    </tr>\n",
       "    <tr>\n",
       "      <th>Gorky</th>\n",
       "      <td>0.193686</td>\n",
       "      <td>0.007653</td>\n",
       "    </tr>\n",
       "    <tr>\n",
       "      <th>Tandy</th>\n",
       "      <td>0.262068</td>\n",
       "      <td>-0.259812</td>\n",
       "    </tr>\n",
       "  </tbody>\n",
       "</table>\n",
       "<p>364 rows × 2 columns</p>\n",
       "</div>"
      ],
      "text/plain": [
       "                   0         1\n",
       "subject                       \n",
       "Randolph    0.196952  0.104724\n",
       "Basie       0.123843 -0.119607\n",
       "Swope       0.160863  0.028794\n",
       "Ulanova     0.155135 -0.094271\n",
       "Sousa       0.199017 -0.063786\n",
       "...              ...       ...\n",
       "Miss Balch  0.176282 -0.044541\n",
       "Cage        0.152369 -0.099391\n",
       "Grant       0.414465  0.177312\n",
       "Gorky       0.193686  0.007653\n",
       "Tandy       0.262068 -0.259812\n",
       "\n",
       "[364 rows x 2 columns]"
      ]
     },
     "execution_count": 36,
     "metadata": {},
     "output_type": "execute_result"
    }
   ],
   "source": [
    "new_df.index = df.index\n",
    "new_df"
   ]
  },
  {
   "cell_type": "code",
   "execution_count": 37,
   "id": "8eb59914",
   "metadata": {},
   "outputs": [
    {
     "data": {
      "text/plain": [
       "<AxesSubplot:xlabel='1', ylabel='0'>"
      ]
     },
     "execution_count": 37,
     "metadata": {},
     "output_type": "execute_result"
    },
    {
     "data": {
      "image/png": "[encoded data removed]",
      "text/plain": [
       "<Figure size 432x288 with 1 Axes>"
      ]
     },
     "metadata": {
      "needs_background": "light"
     },
     "output_type": "display_data"
    }
   ],
   "source": [
    "new_df.plot.scatter(x=1, y=0)"
   ]
  },
  {
   "cell_type": "markdown",
   "id": "6016b6d5",
   "metadata": {},
   "source": [
    "### Train Kmeans model\n",
    "\n",
    "**Question:** What function do we think we can use to train the model?\n",
    "\n",
    "<details>\n",
    "<summary>Hint</summary>\n",
    "    What function did we use yesterday to train the Naive Bayes and Logistic Regression classifiers\n",
    "</details>\n",
    "\n",
    "<details>\n",
    "<summary>Solution</summary>\n",
    "    .fit()\n",
    "</details>"
   ]
  },
  {
   "cell_type": "code",
   "execution_count": 44,
   "id": "f4a50c67",
   "metadata": {},
   "outputs": [
    {
     "data": {
      "text/plain": [
       "KMeans(n_clusters=2)"
      ]
     },
     "execution_count": 44,
     "metadata": {},
     "output_type": "execute_result"
    }
   ],
   "source": [
    "from sklearn.cluster import KMeans\n",
    "\n",
    "kmeans_model = km = KMeans(n_clusters=2)\n",
    "kmeans_model.fit(X)"
   ]
  },
  {
   "cell_type": "code",
   "execution_count": 45,
   "id": "f83bb8da",
   "metadata": {},
   "outputs": [
    {
     "data": {
      "text/plain": [
       "array([0, 1, 0, 1, 1, 0, 1, 1, 1, 1, 1, 1, 1, 1, 1, 1, 1, 1, 1, 0, 1, 1,\n",
       "       1, 1, 1, 1, 1, 0, 0, 1, 1, 1, 1, 1, 1, 1, 0, 0, 1, 1, 1, 1, 1, 1,\n",
       "       1, 1, 1, 1, 1, 1, 1, 1, 0, 1, 1, 0, 0, 1, 1, 1, 1, 0, 1, 1, 1, 1,\n",
       "       1, 0, 1, 1, 1, 1, 1, 0, 0, 0, 1, 0, 1, 1, 1, 1, 1, 1, 1, 1, 1, 1,\n",
       "       0, 1, 1, 0, 0, 1, 1, 1, 0, 1, 1, 1, 1, 1, 1, 1, 1, 1, 0, 1, 1, 1,\n",
       "       1, 1, 1, 1, 1, 1, 1, 1, 1, 1, 1, 0, 0, 1, 0, 1, 1, 1, 1, 1, 1, 1,\n",
       "       1, 1, 1, 0, 1, 1, 0, 1, 1, 1, 0, 0, 1, 1, 1, 0, 0, 1, 1, 1, 1, 0,\n",
       "       1, 0, 1, 1, 1, 1, 1, 1, 1, 1, 1, 1, 1, 1, 1, 0, 1, 1, 0, 1, 0, 1,\n",
       "       1, 1, 0, 0, 0, 1, 1, 0, 1, 0, 1, 0, 1, 1, 0, 1, 1, 1, 1, 0, 0, 1,\n",
       "       0, 0, 0, 1, 0, 1, 1, 1, 0, 1, 0, 1, 1, 1, 1, 0, 1, 1, 1, 1, 1, 0,\n",
       "       1, 0, 0, 1, 1, 1, 1, 1, 1, 1, 0, 0, 1, 1, 0, 1, 1, 1, 1, 0, 0, 1,\n",
       "       0, 1, 0, 1, 0, 1, 1, 1, 1, 0, 1, 1, 1, 0, 1, 0, 1, 0, 1, 1, 1, 1,\n",
       "       0, 0, 1, 1, 1, 1, 1, 1, 0, 1, 0, 0, 1, 1, 1, 1, 1, 1, 1, 1, 1, 1,\n",
       "       1, 1, 0, 1, 0, 1, 1, 1, 0, 1, 0, 0, 1, 1, 1, 0, 1, 1, 1, 0, 1, 1,\n",
       "       1, 0, 1, 1, 1, 1, 1, 0, 1, 1, 1, 0, 0, 1, 0, 1, 1, 1, 1, 1, 1, 1,\n",
       "       1, 1, 1, 1, 1, 0, 1, 1, 1, 1, 1, 1, 1, 1, 1, 1, 1, 0, 0, 1, 1, 1,\n",
       "       1, 1, 1, 0, 1, 1, 0, 1, 1, 0, 1, 1], dtype=int32)"
      ]
     },
     "execution_count": 45,
     "metadata": {},
     "output_type": "execute_result"
    }
   ],
   "source": [
    "kmeans_model.labels_"
   ]
  },
  {
   "cell_type": "code",
   "execution_count": 46,
   "id": "1ee58375",
   "metadata": {},
   "outputs": [
    {
     "data": {
      "text/html": [
       "<div>\n",
       "<style scoped>\n",
       "    .dataframe tbody tr th:only-of-type {\n",
       "        vertical-align: middle;\n",
       "    }\n",
       "\n",
       "    .dataframe tbody tr th {\n",
       "        vertical-align: top;\n",
       "    }\n",
       "\n",
       "    .dataframe thead th {\n",
       "        text-align: right;\n",
       "    }\n",
       "</style>\n",
       "<table border=\"1\" class=\"dataframe\">\n",
       "  <thead>\n",
       "    <tr style=\"text-align: right;\">\n",
       "      <th></th>\n",
       "      <th>0</th>\n",
       "      <th>1</th>\n",
       "      <th>cluster</th>\n",
       "    </tr>\n",
       "    <tr>\n",
       "      <th>subject</th>\n",
       "      <th></th>\n",
       "      <th></th>\n",
       "      <th></th>\n",
       "    </tr>\n",
       "  </thead>\n",
       "  <tbody>\n",
       "    <tr>\n",
       "      <th>Randolph</th>\n",
       "      <td>0.196952</td>\n",
       "      <td>0.104724</td>\n",
       "      <td>0</td>\n",
       "    </tr>\n",
       "    <tr>\n",
       "      <th>Basie</th>\n",
       "      <td>0.123843</td>\n",
       "      <td>-0.119607</td>\n",
       "      <td>1</td>\n",
       "    </tr>\n",
       "    <tr>\n",
       "      <th>Swope</th>\n",
       "      <td>0.160863</td>\n",
       "      <td>0.028794</td>\n",
       "      <td>0</td>\n",
       "    </tr>\n",
       "    <tr>\n",
       "      <th>Ulanova</th>\n",
       "      <td>0.155135</td>\n",
       "      <td>-0.094271</td>\n",
       "      <td>1</td>\n",
       "    </tr>\n",
       "    <tr>\n",
       "      <th>Sousa</th>\n",
       "      <td>0.199017</td>\n",
       "      <td>-0.063786</td>\n",
       "      <td>1</td>\n",
       "    </tr>\n",
       "    <tr>\n",
       "      <th>...</th>\n",
       "      <td>...</td>\n",
       "      <td>...</td>\n",
       "      <td>...</td>\n",
       "    </tr>\n",
       "    <tr>\n",
       "      <th>Miss Balch</th>\n",
       "      <td>0.176282</td>\n",
       "      <td>-0.044541</td>\n",
       "      <td>1</td>\n",
       "    </tr>\n",
       "    <tr>\n",
       "      <th>Cage</th>\n",
       "      <td>0.152369</td>\n",
       "      <td>-0.099391</td>\n",
       "      <td>1</td>\n",
       "    </tr>\n",
       "    <tr>\n",
       "      <th>Grant</th>\n",
       "      <td>0.414465</td>\n",
       "      <td>0.177312</td>\n",
       "      <td>0</td>\n",
       "    </tr>\n",
       "    <tr>\n",
       "      <th>Gorky</th>\n",
       "      <td>0.193686</td>\n",
       "      <td>0.007653</td>\n",
       "      <td>1</td>\n",
       "    </tr>\n",
       "    <tr>\n",
       "      <th>Tandy</th>\n",
       "      <td>0.262068</td>\n",
       "      <td>-0.259812</td>\n",
       "      <td>1</td>\n",
       "    </tr>\n",
       "  </tbody>\n",
       "</table>\n",
       "<p>364 rows × 3 columns</p>\n",
       "</div>"
      ],
      "text/plain": [
       "                   0         1  cluster\n",
       "subject                                \n",
       "Randolph    0.196952  0.104724        0\n",
       "Basie       0.123843 -0.119607        1\n",
       "Swope       0.160863  0.028794        0\n",
       "Ulanova     0.155135 -0.094271        1\n",
       "Sousa       0.199017 -0.063786        1\n",
       "...              ...       ...      ...\n",
       "Miss Balch  0.176282 -0.044541        1\n",
       "Cage        0.152369 -0.099391        1\n",
       "Grant       0.414465  0.177312        0\n",
       "Gorky       0.193686  0.007653        1\n",
       "Tandy       0.262068 -0.259812        1\n",
       "\n",
       "[364 rows x 3 columns]"
      ]
     },
     "execution_count": 46,
     "metadata": {},
     "output_type": "execute_result"
    }
   ],
   "source": [
    "new_df['cluster'] = kmeans_model.labels_\n",
    "new_df"
   ]
  },
  {
   "cell_type": "code",
   "execution_count": 47,
   "id": "fef49d00",
   "metadata": {},
   "outputs": [
    {
     "data": {
      "text/plain": [
       "<AxesSubplot:xlabel='1', ylabel='0'>"
      ]
     },
     "execution_count": 47,
     "metadata": {},
     "output_type": "execute_result"
    },
    {
     "data": {
      "image/png": "[encoded data removed]",
      "text/plain": [
       "<Figure size 432x288 with 2 Axes>"
      ]
     },
     "metadata": {
      "needs_background": "light"
     },
     "output_type": "display_data"
    }
   ],
   "source": [
    "new_df.plot.scatter(x=1, y=0, c='cluster')"
   ]
  },
  {
   "cell_type": "code",
   "execution_count": 48,
   "id": "9f90f60a",
   "metadata": {},
   "outputs": [
    {
     "data": {
      "text/plain": [
       "<AxesSubplot:xlabel='1', ylabel='0'>"
      ]
     },
     "execution_count": 48,
     "metadata": {},
     "output_type": "execute_result"
    },
    {
     "data": {
      "image/png": "[encoded data removed]",
      "text/plain": [
       "<Figure size 432x288 with 2 Axes>"
      ]
     },
     "metadata": {
      "needs_background": "light"
     },
     "output_type": "display_data"
    }
   ],
   "source": [
    "new_df.plot.scatter(x=1, y=0, c='cluster', cmap='winter')"
   ]
  },
  {
   "cell_type": "markdown",
   "id": "37fe8da9",
   "metadata": {},
   "source": [
    "#### ColorMaps in MatplotLib\n",
    "\n",
    "https://matplotlib.org/stable/tutorials/colors/colormaps.html"
   ]
  },
  {
   "cell_type": "code",
   "execution_count": 43,
   "id": "9173f078",
   "metadata": {},
   "outputs": [
    {
     "data": {
      "text/plain": [
       "<AxesSubplot:xlabel='1', ylabel='0'>"
      ]
     },
     "execution_count": 43,
     "metadata": {},
     "output_type": "execute_result"
    },
    {
     "data": {
      "image/png": "[encoded data removed]",
      "text/plain": [
       "<Figure size 432x288 with 2 Axes>"
      ]
     },
     "metadata": {
      "needs_background": "light"
     },
     "output_type": "display_data"
    }
   ],
   "source": [
    "new_df.plot.scatter(x=1, y=0, c='cluster', cmap='tab20')"
   ]
  },
  {
   "cell_type": "code",
   "execution_count": null,
   "id": "915d5c39",
   "metadata": {},
   "outputs": [],
   "source": [
    "new_df.plot.scatter(x=1, y=0, c='cluster', cmap='winter')"
   ]
  },
  {
   "cell_type": "code",
   "execution_count": 49,
   "id": "8d7fee35",
   "metadata": {},
   "outputs": [
    {
     "data": {
      "text/plain": [
       "array([3.71930583, 2.03572502])"
      ]
     },
     "execution_count": 49,
     "metadata": {},
     "output_type": "execute_result"
    }
   ],
   "source": [
    "svd.singular_values_"
   ]
  },
  {
   "cell_type": "code",
   "execution_count": 51,
   "id": "2855bd06",
   "metadata": {},
   "outputs": [
    {
     "data": {
      "text/plain": [
       "(2, 35048)"
      ]
     },
     "execution_count": 51,
     "metadata": {},
     "output_type": "execute_result"
    }
   ],
   "source": [
    "svd.components_.shape"
   ]
  },
  {
   "cell_type": "code",
   "execution_count": 77,
   "id": "13a64a09",
   "metadata": {},
   "outputs": [
    {
     "name": "stdout",
     "output_type": "stream",
     "text": [
      "Components 0\t Index(['electrician', 'despot', 'unsafe', 'overstuffed', 'hairdos',\n",
      "       'degradation', 'slur', 'nan', 'detonate', 'yaobang', 'reunification',\n",
      "       'biao', 'dialed', 'unreformed', 'penitence'],\n",
      "      dtype='object')\n",
      "Components 1\t Index(['miss', 'film', 'theater', 'broadway', 'music', 'jazz', 'films', 'band',\n",
      "       'stage', 'movies', 'actress', 'hollywood', 'actor', 'movie',\n",
      "       'barrymore'],\n",
      "      dtype='object')\n"
     ]
    },
    {
     "name": "stderr",
     "output_type": "stream",
     "text": [
      "/opt/conda/lib/python3.8/site-packages/pandas/core/indexes/base.py:4307: FutureWarning: Using a non-tuple sequence for multidimensional indexing is deprecated; use `arr[tuple(seq)]` instead of `arr[seq]`. In the future this will be interpreted as an array index, `arr[np.array(seq)]`, which will result either in an error or a different result.\n",
      "  result = getitem(key)\n"
     ]
    }
   ],
   "source": [
    "for k, row in enumerate(svd.components_):\n",
    "    print(f\"Components {k}\\t\", df.columns[[row.argsort()[:15]]])"
   ]
  },
  {
   "cell_type": "code",
   "execution_count": 53,
   "id": "0adf4244",
   "metadata": {
    "collapsed": true,
    "jupyter": {
     "outputs_hidden": true
    },
    "tags": []
   },
   "outputs": [
    {
     "data": {
      "text/plain": [
       "array([0, 1, 0, 1, 1, 0, 1, 1, 1, 1, 1, 1, 1, 1, 1, 1, 1, 1, 1, 0, 1, 1,\n",
       "       1, 1, 1, 1, 1, 0, 0, 1, 1, 1, 1, 1, 1, 1, 0, 0, 1, 1, 1, 1, 1, 1,\n",
       "       1, 1, 1, 1, 1, 1, 1, 1, 0, 1, 1, 0, 0, 1, 1, 1, 1, 0, 1, 1, 1, 1,\n",
       "       1, 0, 1, 1, 1, 1, 1, 0, 0, 0, 1, 0, 1, 1, 1, 1, 1, 1, 1, 1, 1, 1,\n",
       "       0, 1, 1, 0, 0, 1, 1, 1, 0, 1, 1, 1, 1, 1, 1, 1, 1, 1, 0, 1, 1, 1,\n",
       "       1, 1, 1, 1, 1, 1, 1, 1, 1, 1, 1, 0, 0, 1, 0, 1, 1, 1, 1, 1, 1, 1,\n",
       "       1, 1, 1, 0, 1, 1, 0, 1, 1, 1, 0, 0, 1, 1, 1, 0, 0, 1, 1, 1, 1, 0,\n",
       "       1, 0, 1, 1, 1, 1, 1, 1, 1, 1, 1, 1, 1, 1, 1, 0, 1, 1, 0, 1, 0, 1,\n",
       "       1, 1, 0, 0, 0, 1, 1, 0, 1, 0, 1, 0, 1, 1, 0, 1, 1, 1, 1, 0, 0, 1,\n",
       "       0, 0, 0, 1, 0, 1, 1, 1, 0, 1, 0, 1, 1, 1, 1, 0, 1, 1, 1, 1, 1, 0,\n",
       "       1, 0, 0, 1, 1, 1, 1, 1, 1, 1, 0, 0, 1, 1, 0, 1, 1, 1, 1, 0, 0, 1,\n",
       "       0, 1, 0, 1, 0, 1, 1, 1, 1, 0, 1, 1, 1, 0, 1, 0, 1, 0, 1, 1, 1, 1,\n",
       "       0, 0, 1, 1, 1, 1, 1, 1, 0, 1, 0, 0, 1, 1, 1, 1, 1, 1, 1, 1, 1, 1,\n",
       "       1, 1, 0, 1, 0, 1, 1, 1, 0, 1, 0, 0, 1, 1, 1, 0, 1, 1, 1, 0, 1, 1,\n",
       "       1, 0, 1, 1, 1, 1, 1, 0, 1, 1, 1, 0, 0, 1, 0, 1, 1, 1, 1, 1, 1, 1,\n",
       "       1, 1, 1, 1, 1, 0, 1, 1, 1, 1, 1, 1, 1, 1, 1, 1, 1, 0, 0, 1, 1, 1,\n",
       "       1, 1, 1, 0, 1, 1, 0, 1, 1, 0, 1, 1], dtype=int32)"
      ]
     },
     "execution_count": 53,
     "metadata": {},
     "output_type": "execute_result"
    }
   ],
   "source": [
    "kmeans_model.labels_"
   ]
  },
  {
   "cell_type": "code",
   "execution_count": 55,
   "id": "f3da223a",
   "metadata": {
    "collapsed": true,
    "jupyter": {
     "outputs_hidden": true
    },
    "tags": []
   },
   "outputs": [
    {
     "data": {
      "text/plain": [
       "array([[0.97356483, 0.98978981],\n",
       "       [1.0197693 , 0.98852452],\n",
       "       [0.98862405, 0.99138939],\n",
       "       [1.00935257, 0.98648213],\n",
       "       [0.99902432, 0.97770129],\n",
       "       [0.96856278, 0.98888364],\n",
       "       [1.01297585, 0.98183949],\n",
       "       [1.01683045, 0.98320795],\n",
       "       [1.01111206, 0.98919298],\n",
       "       [1.01310281, 0.98983578],\n",
       "       [1.01567711, 0.99726465],\n",
       "       [0.99484914, 0.97210253],\n",
       "       [1.02859771, 1.00169262],\n",
       "       [1.01799105, 0.99453817],\n",
       "       [1.0128839 , 0.98614972],\n",
       "       [1.01056888, 0.98773669],\n",
       "       [1.01065883, 0.99306958],\n",
       "       [1.01399278, 0.9889413 ],\n",
       "       [1.01171537, 0.98688432],\n",
       "       [0.98575865, 0.99953814],\n",
       "       [1.00714239, 0.99543751],\n",
       "       [1.00397094, 0.97946366],\n",
       "       [1.00825108, 0.97296957],\n",
       "       [0.99850072, 0.98757731],\n",
       "       [0.99792707, 0.97424059],\n",
       "       [1.00319887, 0.98585497],\n",
       "       [1.00985043, 0.99080556],\n",
       "       [0.97362632, 0.98498635],\n",
       "       [0.93989865, 0.98225097],\n",
       "       [1.00289039, 0.99041458],\n",
       "       [1.01366927, 0.98915283],\n",
       "       [1.0095815 , 0.98394641],\n",
       "       [1.01632313, 0.99379257],\n",
       "       [1.00008167, 0.96861535],\n",
       "       [1.00202821, 0.98016703],\n",
       "       [0.99481913, 0.97312837],\n",
       "       [0.94295873, 0.98380945],\n",
       "       [0.95734017, 0.97515319],\n",
       "       [1.01207744, 0.98497723],\n",
       "       [1.00949187, 0.97679764],\n",
       "       [0.96899751, 0.96313053],\n",
       "       [1.00634659, 0.96822345],\n",
       "       [0.99830521, 0.98656901],\n",
       "       [1.01039028, 0.98478764],\n",
       "       [0.99666573, 0.97626264],\n",
       "       [1.00533124, 0.98280666],\n",
       "       [1.01306194, 0.99016581],\n",
       "       [1.01801596, 0.99705286],\n",
       "       [0.99251583, 0.97401598],\n",
       "       [1.01048791, 0.98086257],\n",
       "       [0.9796864 , 0.97542875],\n",
       "       [1.00804938, 0.9865787 ],\n",
       "       [0.93550482, 0.97466841],\n",
       "       [1.00689512, 0.98201151],\n",
       "       [0.9798516 , 0.97045417],\n",
       "       [0.967391  , 0.98764434],\n",
       "       [0.96930331, 0.97817544],\n",
       "       [0.99767598, 0.97070676],\n",
       "       [1.00712325, 0.97516422],\n",
       "       [1.00724697, 0.98192173],\n",
       "       [1.01199972, 0.99602513],\n",
       "       [0.96398719, 0.99259934],\n",
       "       [1.00684232, 0.99812608],\n",
       "       [0.99742509, 0.97239045],\n",
       "       [1.01953392, 0.99602621],\n",
       "       [1.01592069, 0.9886905 ],\n",
       "       [0.99740819, 0.97669758],\n",
       "       [0.95483605, 0.97797967],\n",
       "       [0.99430267, 0.9752143 ],\n",
       "       [1.00877485, 0.99249141],\n",
       "       [1.01251957, 0.99297014],\n",
       "       [1.01221699, 0.98069637],\n",
       "       [0.9950126 , 0.96807699],\n",
       "       [0.94476405, 0.98748094],\n",
       "       [0.97081034, 0.99249397],\n",
       "       [0.97400297, 0.9955322 ],\n",
       "       [1.00014248, 0.9676787 ],\n",
       "       [0.96395892, 0.98931211],\n",
       "       [0.99828091, 0.97246814],\n",
       "       [1.01931885, 0.99656685],\n",
       "       [1.01584599, 0.98733075],\n",
       "       [1.0145407 , 0.98650987],\n",
       "       [1.01009498, 0.98142753],\n",
       "       [1.00933608, 0.97951332],\n",
       "       [1.01244305, 0.97489098],\n",
       "       [1.00558978, 0.98425547],\n",
       "       [1.01168303, 0.98576179],\n",
       "       [1.00681173, 0.96757388],\n",
       "       [0.95865772, 0.98939555],\n",
       "       [0.99705656, 0.9877218 ],\n",
       "       [0.99892759, 0.9774435 ],\n",
       "       [0.97699252, 0.98170034],\n",
       "       [0.98700122, 0.99101635],\n",
       "       [1.01511194, 0.99584696],\n",
       "       [1.01740321, 0.98534816],\n",
       "       [1.00922954, 0.98231441],\n",
       "       [0.97895508, 0.99452725],\n",
       "       [1.00567465, 0.98013977],\n",
       "       [1.01404494, 0.9824101 ],\n",
       "       [1.00496808, 0.97846461],\n",
       "       [0.98605894, 0.95480795],\n",
       "       [1.00980582, 0.97612871],\n",
       "       [0.99102243, 0.98231367],\n",
       "       [1.00883098, 0.99301211],\n",
       "       [0.98832202, 0.98685526],\n",
       "       [1.00362477, 0.98899021],\n",
       "       [0.97467118, 0.98094847],\n",
       "       [0.99467071, 0.97743693],\n",
       "       [0.99805221, 0.98102569],\n",
       "       [1.00598125, 0.98237662],\n",
       "       [1.00693524, 0.99254118],\n",
       "       [1.0052015 , 0.96688361],\n",
       "       [1.00750492, 0.97900951],\n",
       "       [1.01115641, 0.97824946],\n",
       "       [1.01688159, 0.98870208],\n",
       "       [0.99557721, 0.97785501],\n",
       "       [1.00543275, 0.98706134],\n",
       "       [1.00415777, 0.98155683],\n",
       "       [1.00767017, 0.98767274],\n",
       "       [1.00120427, 0.97493176],\n",
       "       [1.00404067, 0.97674159],\n",
       "       [0.96845632, 0.98404003],\n",
       "       [0.98125745, 0.9937937 ],\n",
       "       [0.98958952, 0.97420858],\n",
       "       [0.95992388, 0.97662032],\n",
       "       [1.01811978, 0.98779637],\n",
       "       [1.00759394, 0.97761809],\n",
       "       [1.01073592, 0.99486163],\n",
       "       [1.01746148, 0.99216016],\n",
       "       [1.01020037, 0.98844672],\n",
       "       [1.00171398, 0.98055651],\n",
       "       [0.99951841, 0.97940707],\n",
       "       [1.00766597, 0.98974931],\n",
       "       [1.0203631 , 0.99801446],\n",
       "       [0.9873945 , 0.9722528 ],\n",
       "       [0.952684  , 0.98230063],\n",
       "       [1.00554204, 0.98215841],\n",
       "       [1.01639814, 0.986754  ],\n",
       "       [0.97169977, 0.98553441],\n",
       "       [1.00311327, 0.98352288],\n",
       "       [1.00737833, 0.98028354],\n",
       "       [1.00436093, 0.98527146],\n",
       "       [0.99222692, 0.99571683],\n",
       "       [0.9797251 , 0.98827546],\n",
       "       [1.00270009, 0.98055583],\n",
       "       [1.01223135, 0.99024585],\n",
       "       [0.99988292, 0.96614669],\n",
       "       [0.97048406, 0.99053461],\n",
       "       [0.95072389, 0.98635155],\n",
       "       [1.01527826, 0.99249483],\n",
       "       [1.00861197, 0.99088151],\n",
       "       [0.98832761, 0.97576454],\n",
       "       [1.00540691, 0.99014453],\n",
       "       [0.91315369, 0.97750983],\n",
       "       [0.99853363, 0.977553  ],\n",
       "       [0.95239429, 0.98508093],\n",
       "       [1.01546109, 0.99546794],\n",
       "       [0.98556854, 0.97248885],\n",
       "       [0.9997046 , 0.99341   ],\n",
       "       [0.97427576, 0.96999808],\n",
       "       [1.00839469, 0.98627696],\n",
       "       [1.01006346, 0.98215274],\n",
       "       [0.96327074, 0.96066967],\n",
       "       [1.00630902, 0.98450681],\n",
       "       [1.00748897, 0.97841279],\n",
       "       [1.00522886, 0.97490887],\n",
       "       [1.00041917, 0.97505339],\n",
       "       [1.01151351, 0.9758451 ],\n",
       "       [1.01415613, 0.98846786],\n",
       "       [0.96399961, 0.98903493],\n",
       "       [0.98759687, 0.96437289],\n",
       "       [1.01359088, 0.99144452],\n",
       "       [0.96157414, 0.98622121],\n",
       "       [1.00635519, 0.9952621 ],\n",
       "       [0.99509157, 0.9965712 ],\n",
       "       [0.99626614, 0.98635603],\n",
       "       [1.01422181, 0.99337441],\n",
       "       [0.99194414, 0.96983303],\n",
       "       [0.9549819 , 0.98615502],\n",
       "       [0.97260531, 0.9930174 ],\n",
       "       [0.9831376 , 0.99037442],\n",
       "       [1.00278959, 0.97849339],\n",
       "       [1.00680015, 0.97447456],\n",
       "       [0.96036271, 0.99077501],\n",
       "       [1.00725804, 0.97815244],\n",
       "       [0.95800606, 0.98355078],\n",
       "       [1.01151953, 0.98769644],\n",
       "       [0.9436825 , 0.97673217],\n",
       "       [0.99716148, 0.96911081],\n",
       "       [1.01541697, 0.99509822],\n",
       "       [0.96384349, 0.98995773],\n",
       "       [0.98207901, 0.97404666],\n",
       "       [1.01857546, 0.99128351],\n",
       "       [0.99143335, 0.979864  ],\n",
       "       [1.01380813, 0.98857319],\n",
       "       [0.92694973, 0.97972055],\n",
       "       [0.93321794, 0.97438074],\n",
       "       [1.00284745, 0.98435746],\n",
       "       [0.96742621, 0.98996182],\n",
       "       [0.96992138, 0.98056186],\n",
       "       [0.96546199, 0.9855413 ],\n",
       "       [0.99401308, 0.98477592],\n",
       "       [0.93851941, 0.97402245],\n",
       "       [1.00917896, 0.98304545],\n",
       "       [1.01476449, 0.99345095],\n",
       "       [1.00515837, 0.97410722],\n",
       "       [0.96148124, 0.97419039],\n",
       "       [0.99498102, 0.99052598],\n",
       "       [0.93164896, 0.9839887 ],\n",
       "       [0.99351721, 0.97831067],\n",
       "       [1.00098861, 0.99094149],\n",
       "       [1.01311962, 0.97959876],\n",
       "       [1.01217616, 0.98264701],\n",
       "       [0.95393785, 0.98345575],\n",
       "       [1.0093937 , 0.97991043],\n",
       "       [1.02068196, 0.99067903],\n",
       "       [1.01140454, 0.9908926 ],\n",
       "       [1.00591502, 0.98718554],\n",
       "       [1.00857351, 0.99039518],\n",
       "       [0.97873599, 0.97914694],\n",
       "       [1.01444633, 0.98145368],\n",
       "       [0.93867421, 0.97564967],\n",
       "       [0.99309653, 0.99495918],\n",
       "       [1.00870012, 0.97691757],\n",
       "       [1.0055552 , 0.97583925],\n",
       "       [1.02442082, 0.99649128],\n",
       "       [1.00774111, 0.97550086],\n",
       "       [1.0009922 , 0.97511614],\n",
       "       [1.00831585, 0.97135356],\n",
       "       [1.00324931, 0.97314246],\n",
       "       [0.98324436, 0.98717869],\n",
       "       [0.99099107, 0.99567913],\n",
       "       [1.00373703, 0.97930328],\n",
       "       [1.00643266, 0.97948336],\n",
       "       [0.91625412, 0.9673213 ],\n",
       "       [1.01186901, 0.98774218],\n",
       "       [0.99843519, 0.98274586],\n",
       "       [1.0072755 , 0.97631378],\n",
       "       [1.00903015, 0.97508008],\n",
       "       [0.93587084, 0.97460701],\n",
       "       [0.9734527 , 0.99328683],\n",
       "       [1.01509582, 0.97875677],\n",
       "       [0.97199585, 0.98899101],\n",
       "       [1.0065574 , 0.9887338 ],\n",
       "       [0.9099305 , 0.97291395],\n",
       "       [1.01440755, 0.99281401],\n",
       "       [0.95779819, 0.97775256],\n",
       "       [1.01071953, 0.98341304],\n",
       "       [0.99597244, 0.98475368],\n",
       "       [0.99859949, 0.98983357],\n",
       "       [1.01843857, 0.98999055],\n",
       "       [0.95979723, 0.98787598],\n",
       "       [1.00935405, 0.98564471],\n",
       "       [1.01629988, 0.99213801],\n",
       "       [1.00284544, 0.97772009],\n",
       "       [0.9469778 , 0.98363192],\n",
       "       [1.02027775, 0.99700708],\n",
       "       [0.97726896, 0.99096611],\n",
       "       [1.00269552, 0.98754703],\n",
       "       [0.95037732, 0.98374153],\n",
       "       [1.00431137, 0.97248316],\n",
       "       [0.99866029, 0.97466681],\n",
       "       [0.99606722, 0.98658917],\n",
       "       [1.00213173, 0.99051072],\n",
       "       [0.95119495, 0.98790663],\n",
       "       [0.96427056, 0.99239601],\n",
       "       [0.99880362, 0.99115598],\n",
       "       [1.00449638, 0.97763635],\n",
       "       [1.00886158, 0.98657158],\n",
       "       [1.00318741, 0.97400816],\n",
       "       [1.00392103, 0.98413977],\n",
       "       [1.01463086, 0.99068991],\n",
       "       [0.988374  , 0.99076809],\n",
       "       [1.00858649, 0.98305573],\n",
       "       [0.9536748 , 0.98119068],\n",
       "       [0.98927499, 0.99577866],\n",
       "       [1.02120389, 0.99895232],\n",
       "       [0.98711122, 0.9739783 ],\n",
       "       [0.99097437, 0.95416751],\n",
       "       [1.01606078, 1.00082821],\n",
       "       [1.01498042, 0.99610972],\n",
       "       [1.00286738, 0.98416833],\n",
       "       [0.99156104, 0.96650478],\n",
       "       [1.01357657, 0.99188729],\n",
       "       [0.98934859, 0.96225142],\n",
       "       [1.00753031, 0.98206054],\n",
       "       [1.01569766, 0.98065229],\n",
       "       [0.99919553, 0.98134288],\n",
       "       [0.95159361, 0.98569096],\n",
       "       [1.00194075, 0.99521277],\n",
       "       [0.96966742, 0.99152747],\n",
       "       [1.02117761, 0.98866976],\n",
       "       [1.00355317, 0.96685509],\n",
       "       [1.01299652, 0.99008928],\n",
       "       [0.93763604, 0.98371347],\n",
       "       [1.00712367, 0.98396056],\n",
       "       [0.97132369, 0.99337379],\n",
       "       [0.95253137, 0.98117954],\n",
       "       [0.99164004, 0.97570591],\n",
       "       [1.01059323, 0.98975464],\n",
       "       [1.00894813, 0.98417415],\n",
       "       [0.95278394, 0.98929344],\n",
       "       [1.00879584, 0.99586144],\n",
       "       [1.01125644, 0.98052361],\n",
       "       [1.00733539, 0.97894453],\n",
       "       [0.96378135, 0.98663291],\n",
       "       [1.01676945, 0.98600055],\n",
       "       [0.99713897, 0.9799142 ],\n",
       "       [0.99052992, 0.96982129],\n",
       "       [0.96451719, 0.97576019],\n",
       "       [1.00388379, 0.97105829],\n",
       "       [1.01169044, 0.97777331],\n",
       "       [1.00761144, 0.98833196],\n",
       "       [1.01457387, 0.98543095],\n",
       "       [1.01010203, 0.98693419],\n",
       "       [0.96792741, 0.99336226],\n",
       "       [1.00321012, 0.97428058],\n",
       "       [1.00721685, 0.98347586],\n",
       "       [0.97297585, 0.96350637],\n",
       "       [0.97714727, 0.99310178],\n",
       "       [0.97587602, 0.9839631 ],\n",
       "       [1.0151976 , 0.99362741],\n",
       "       [0.99594479, 1.0036118 ],\n",
       "       [1.00383172, 0.99027492],\n",
       "       [1.00050677, 0.97571875],\n",
       "       [0.99256425, 0.9756049 ],\n",
       "       [1.00012505, 0.97540728],\n",
       "       [1.0074398 , 0.96574459],\n",
       "       [1.0142396 , 0.99063923],\n",
       "       [0.99651934, 0.98304467],\n",
       "       [1.01353985, 0.99072763],\n",
       "       [1.02288321, 0.99746431],\n",
       "       [1.0040475 , 0.98288405],\n",
       "       [1.01143261, 0.99101367],\n",
       "       [1.01467525, 0.9986909 ],\n",
       "       [0.95146468, 0.98479957],\n",
       "       [1.00280081, 0.97938355],\n",
       "       [1.00009001, 0.98995729],\n",
       "       [1.01116698, 0.98160664],\n",
       "       [1.0004345 , 0.97038194],\n",
       "       [1.01986694, 0.9982217 ],\n",
       "       [1.02169122, 0.99612503],\n",
       "       [1.01211157, 0.98901513],\n",
       "       [1.00812157, 0.97429356],\n",
       "       [1.008963  , 0.98212552],\n",
       "       [1.01040531, 0.99722381],\n",
       "       [1.01469198, 0.98468914],\n",
       "       [0.96854567, 0.98774835],\n",
       "       [0.97570699, 0.98961805],\n",
       "       [1.00351011, 0.98341363],\n",
       "       [1.01190357, 0.98316407],\n",
       "       [0.9937096 , 0.97280309],\n",
       "       [1.01620137, 0.98434804],\n",
       "       [1.01667725, 0.98886388],\n",
       "       [1.0034635 , 0.97255264],\n",
       "       [0.96201041, 0.99023765],\n",
       "       [1.01509748, 0.98558349],\n",
       "       [1.01934483, 0.99854048],\n",
       "       [0.96575869, 0.9936557 ],\n",
       "       [0.99875291, 0.98566186],\n",
       "       [1.01483845, 0.98327445],\n",
       "       [0.91510894, 0.9567494 ],\n",
       "       [0.99614216, 0.98155853],\n",
       "       [1.00192688, 0.96346034]])"
      ]
     },
     "execution_count": 55,
     "metadata": {},
     "output_type": "execute_result"
    }
   ],
   "source": [
    "X_distances_cluster = kmeans_model.transform(X)\n",
    "X_distances_cluster"
   ]
  },
  {
   "cell_type": "code",
   "execution_count": 59,
   "id": "ccec6176",
   "metadata": {
    "collapsed": true,
    "jupyter": {
     "outputs_hidden": true
    },
    "tags": []
   },
   "outputs": [
    {
     "data": {
      "text/html": [
       "<div>\n",
       "<style scoped>\n",
       "    .dataframe tbody tr th:only-of-type {\n",
       "        vertical-align: middle;\n",
       "    }\n",
       "\n",
       "    .dataframe tbody tr th {\n",
       "        vertical-align: top;\n",
       "    }\n",
       "\n",
       "    .dataframe thead th {\n",
       "        text-align: right;\n",
       "    }\n",
       "</style>\n",
       "<table border=\"1\" class=\"dataframe\">\n",
       "  <thead>\n",
       "    <tr style=\"text-align: right;\">\n",
       "      <th></th>\n",
       "      <th>0</th>\n",
       "      <th>1</th>\n",
       "    </tr>\n",
       "  </thead>\n",
       "  <tbody>\n",
       "    <tr>\n",
       "      <th>0</th>\n",
       "      <td>0.973565</td>\n",
       "      <td>0.989790</td>\n",
       "    </tr>\n",
       "    <tr>\n",
       "      <th>1</th>\n",
       "      <td>1.019769</td>\n",
       "      <td>0.988525</td>\n",
       "    </tr>\n",
       "    <tr>\n",
       "      <th>2</th>\n",
       "      <td>0.988624</td>\n",
       "      <td>0.991389</td>\n",
       "    </tr>\n",
       "    <tr>\n",
       "      <th>3</th>\n",
       "      <td>1.009353</td>\n",
       "      <td>0.986482</td>\n",
       "    </tr>\n",
       "    <tr>\n",
       "      <th>4</th>\n",
       "      <td>0.999024</td>\n",
       "      <td>0.977701</td>\n",
       "    </tr>\n",
       "    <tr>\n",
       "      <th>...</th>\n",
       "      <td>...</td>\n",
       "      <td>...</td>\n",
       "    </tr>\n",
       "    <tr>\n",
       "      <th>359</th>\n",
       "      <td>0.998753</td>\n",
       "      <td>0.985662</td>\n",
       "    </tr>\n",
       "    <tr>\n",
       "      <th>360</th>\n",
       "      <td>1.014838</td>\n",
       "      <td>0.983274</td>\n",
       "    </tr>\n",
       "    <tr>\n",
       "      <th>361</th>\n",
       "      <td>0.915109</td>\n",
       "      <td>0.956749</td>\n",
       "    </tr>\n",
       "    <tr>\n",
       "      <th>362</th>\n",
       "      <td>0.996142</td>\n",
       "      <td>0.981559</td>\n",
       "    </tr>\n",
       "    <tr>\n",
       "      <th>363</th>\n",
       "      <td>1.001927</td>\n",
       "      <td>0.963460</td>\n",
       "    </tr>\n",
       "  </tbody>\n",
       "</table>\n",
       "<p>364 rows × 2 columns</p>\n",
       "</div>"
      ],
      "text/plain": [
       "            0         1\n",
       "0    0.973565  0.989790\n",
       "1    1.019769  0.988525\n",
       "2    0.988624  0.991389\n",
       "3    1.009353  0.986482\n",
       "4    0.999024  0.977701\n",
       "..        ...       ...\n",
       "359  0.998753  0.985662\n",
       "360  1.014838  0.983274\n",
       "361  0.915109  0.956749\n",
       "362  0.996142  0.981559\n",
       "363  1.001927  0.963460\n",
       "\n",
       "[364 rows x 2 columns]"
      ]
     },
     "execution_count": 59,
     "metadata": {},
     "output_type": "execute_result"
    }
   ],
   "source": [
    "tmp_df = pd.DataFrame(X_distances_cluster)\n",
    "tmp_df"
   ]
  },
  {
   "cell_type": "code",
   "execution_count": 60,
   "id": "78e71a7f",
   "metadata": {
    "collapsed": true,
    "jupyter": {
     "outputs_hidden": true
    },
    "tags": []
   },
   "outputs": [
    {
     "data": {
      "text/html": [
       "<div>\n",
       "<style scoped>\n",
       "    .dataframe tbody tr th:only-of-type {\n",
       "        vertical-align: middle;\n",
       "    }\n",
       "\n",
       "    .dataframe tbody tr th {\n",
       "        vertical-align: top;\n",
       "    }\n",
       "\n",
       "    .dataframe thead th {\n",
       "        text-align: right;\n",
       "    }\n",
       "</style>\n",
       "<table border=\"1\" class=\"dataframe\">\n",
       "  <thead>\n",
       "    <tr style=\"text-align: right;\">\n",
       "      <th></th>\n",
       "      <th>0</th>\n",
       "      <th>1</th>\n",
       "    </tr>\n",
       "    <tr>\n",
       "      <th>subject</th>\n",
       "      <th></th>\n",
       "      <th></th>\n",
       "    </tr>\n",
       "  </thead>\n",
       "  <tbody>\n",
       "    <tr>\n",
       "      <th>Randolph</th>\n",
       "      <td>0.973565</td>\n",
       "      <td>0.989790</td>\n",
       "    </tr>\n",
       "    <tr>\n",
       "      <th>Basie</th>\n",
       "      <td>1.019769</td>\n",
       "      <td>0.988525</td>\n",
       "    </tr>\n",
       "    <tr>\n",
       "      <th>Swope</th>\n",
       "      <td>0.988624</td>\n",
       "      <td>0.991389</td>\n",
       "    </tr>\n",
       "    <tr>\n",
       "      <th>Ulanova</th>\n",
       "      <td>1.009353</td>\n",
       "      <td>0.986482</td>\n",
       "    </tr>\n",
       "    <tr>\n",
       "      <th>Sousa</th>\n",
       "      <td>0.999024</td>\n",
       "      <td>0.977701</td>\n",
       "    </tr>\n",
       "  </tbody>\n",
       "</table>\n",
       "</div>"
      ],
      "text/plain": [
       "                 0         1\n",
       "subject                     \n",
       "Randolph  0.973565  0.989790\n",
       "Basie     1.019769  0.988525\n",
       "Swope     0.988624  0.991389\n",
       "Ulanova   1.009353  0.986482\n",
       "Sousa     0.999024  0.977701"
      ]
     },
     "execution_count": 60,
     "metadata": {},
     "output_type": "execute_result"
    }
   ],
   "source": [
    "tmp_df.index = df.index\n",
    "tmp_df.head(5)"
   ]
  },
  {
   "cell_type": "code",
   "execution_count": 76,
   "id": "39ffa183",
   "metadata": {},
   "outputs": [
    {
     "data": {
      "text/plain": [
       "Index(['O'Keeffe', 'O'Neill', 'Grant', 'Elizabeth', 'Wharton', 'Kennedy_1',\n",
       "       'Tandy', 'Pulitzer', 'White', 'Astaire',\n",
       "       ...\n",
       "       'Nietzsche', 'Deng', 'Kellogg', 'Busch', 'Marcos', 'Gutenberg',\n",
       "       'Pepper', 'Holland', 'Ruth', 'Vargas'],\n",
       "      dtype='object', name='subject', length=364)"
      ]
     },
     "execution_count": 76,
     "metadata": {},
     "output_type": "execute_result"
    }
   ],
   "source": [
    "tmp_df.sort_values(1).index"
   ]
  },
  {
   "cell_type": "markdown",
   "id": "1ec2d2b9",
   "metadata": {},
   "source": [
    "## More dimensionality reduction techniques in sklearn\n",
    "\n",
    "https://scikit-learn.org/stable/modules/classes.html#module-sklearn.decomposition\n",
    "\n",
    "The textbook *(text analysis in python for social scientists)* discusses more dimensionality reduction methods (e.g NMF Nonnegative Matrix Factorization, T-SNE) "
   ]
  },
  {
   "cell_type": "markdown",
   "id": "de489725",
   "metadata": {},
   "source": [
    "(back to slides)\n",
    "\n",
    "### TSNE"
   ]
  },
  {
   "cell_type": "code",
   "execution_count": null,
   "id": "32617e04",
   "metadata": {},
   "outputs": [],
   "source": [
    "from sklearn.manifold import TSNE\n",
    "tsne_transformed = TSNE(n_components=2).fit_transform(X)\n",
    "tsne_transformed.shape"
   ]
  },
  {
   "cell_type": "code",
   "execution_count": null,
   "id": "64838403",
   "metadata": {},
   "outputs": [],
   "source": [
    "tsne_df = pd.DataFrame(tsne_transformed)\n",
    "tsne_df['cluster'] = kmeans_model.labels_"
   ]
  },
  {
   "cell_type": "code",
   "execution_count": null,
   "id": "9bcf34ef",
   "metadata": {},
   "outputs": [],
   "source": [
    "tsne_df.plot.scatter(x=1, y=0, c='cluster', cmap='winter')"
   ]
  }
 ],
 "metadata": {
  "kernelspec": {
   "display_name": "Python 3",
   "language": "python",
   "name": "python3"
  },
  "language_info": {
   "codemirror_mode": {
    "name": "ipython",
    "version": 3
   },
   "file_extension": ".py",
   "mimetype": "text/x-python",
   "name": "python",
   "nbconvert_exporter": "python",
   "pygments_lexer": "ipython3",
   "version": "3.8.8"
  }
 },
 "nbformat": 4,
 "nbformat_minor": 5
}
