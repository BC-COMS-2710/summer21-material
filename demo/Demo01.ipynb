{
 "cells": [
  {
   "cell_type": "markdown",
   "id": "d1bd8336",
   "metadata": {},
   "source": [
    "# Demo 01 - JupyterLab Overview & Bash"
   ]
  },
  {
   "cell_type": "markdown",
   "id": "d4ce87af",
   "metadata": {},
   "source": [
    "## JupyterLab\n",
    "\n",
    "- file structure\n",
    "- Contextual Help\n",
    "- References\n",
    "- Markdown vs Code Cells"
   ]
  },
  {
   "cell_type": "code",
   "execution_count": null,
   "id": "343a19bd",
   "metadata": {},
   "outputs": [],
   "source": []
  },
  {
   "cell_type": "markdown",
   "id": "50cbcceb",
   "metadata": {},
   "source": [
    "## Bash\n",
    "\n",
    "- Navigation\n",
    "    - `ls`\n",
    "    - `pwd`\n",
    "    - `cd`\n",
    "    "
   ]
  },
  {
   "cell_type": "markdown",
   "id": "eadec34c",
   "metadata": {},
   "source": [
    "- Files\n",
    "    - `wget`\n",
    "       - [Project GutenBerg](https://www.gutenberg.org/)\n",
    "       - `mv` for rename\n",
    "    - `wc`\n",
    "    - `cat`\n",
    "    - `head`\n",
    "    - `tail`\n",
    "    - `grep`\n",
    "        - `color`"
   ]
  },
  {
   "cell_type": "code",
   "execution_count": null,
   "id": "13f858f8",
   "metadata": {},
   "outputs": [],
   "source": []
  }
 ],
 "metadata": {
  "kernelspec": {
   "display_name": "Python 3",
   "language": "python",
   "name": "python3"
  },
  "language_info": {
   "codemirror_mode": {
    "name": "ipython",
    "version": 3
   },
   "file_extension": ".py",
   "mimetype": "text/x-python",
   "name": "python",
   "nbconvert_exporter": "python",
   "pygments_lexer": "ipython3",
   "version": "3.8.8"
  }
 },
 "nbformat": 4,
 "nbformat_minor": 5
}
